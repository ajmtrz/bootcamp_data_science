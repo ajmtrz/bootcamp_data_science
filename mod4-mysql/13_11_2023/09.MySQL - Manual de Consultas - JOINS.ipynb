{
 "cells": [
  {
   "cell_type": "markdown",
   "id": "91c4941f",
   "metadata": {},
   "source": [
    "### JOIN (uniones)\n",
    "\n",
    "- **`JOIN`** es una operación utilizada para combinar las filas de dos o más tablas usando una condición relacioanda entre estas tablas.\n",
    "\n",
    "\n",
    "- Existen diferentes tipos de **`JOIN`**: **INNER**, **LEFT**, **RIGHT**.\n",
    "\n",
    "**Sintaxis:**\n",
    "\n",
    "```mysql\n",
    "    SELECT \n",
    "        t1.*, t2.*\n",
    "    FROM\n",
    "        tabla_1 t1\n",
    "            INNER JOIN\n",
    "        tabla_2 t2 ON t1.primary_key = t2.foreing_key; \n",
    "```\n",
    "\n",
    "\n",
    "- Cuando se hacen **JOINS** es común usar alias para las tablas.\n",
    "\n",
    "\n",
    "- En la cláusula **`ON`** se indica que columna es la que une ambas tablas.\n",
    "\n",
    "\n",
    "- Se pueden concatenar multiples **`JOINS`** siempre y cuando exista una relación.\n",
    "\n",
    "\n",
    "- En este ejemplo se mostraran todas las columnas de las tablas **t1** y **t2**.\n",
    "\n",
    "\n",
    "- Aunque no sea obligatorio en algunos casos, es necesario escribir el nombre de la tabla seguido por un punto (**`.`**) y el nombre de la columna de esa tabla, esto indica a SQL de donde proviene cada columna y hace el código más legible."
   ]
  },
  {
   "cell_type": "code",
   "execution_count": null,
   "id": "d9b2a4ed",
   "metadata": {},
   "outputs": [],
   "source": []
  },
  {
   "cell_type": "markdown",
   "id": "bb52bfb8",
   "metadata": {},
   "source": [
    "#### INNER JOIN\n",
    "\n",
    "- **`INNER JOIN`** es el tipo de **`JOIN`** más común y básico. Combina las filas de dos tablas siempre y cuando se cumpla la condición de igualdad especificada en la cláusula **`ON`**. Solo devuelve las filas que tienen coincidencias en ambas tablas.\n",
    "\n",
    "**Ejemplos:**\n",
    "\n",
    "- Muestra todas las columnas de las tablas **film** y **film_actor**. Se unen por la columna **film_id** que esta presente en ambas tablas.\n",
    "\n",
    "```mysql\n",
    "    SELECT \n",
    "        t1.*, t2.*\n",
    "    FROM\n",
    "        film t1\n",
    "            JOIN\n",
    "        film_actor t2 ON t1.film_id = t2.film_id; \n",
    "```\n",
    "\n",
    "- Une las tablas **film** y **actor** usando la tabla **film_actor** de intermediaria. Solo muestra las columnas de las columnas **film** y **actor**.\n",
    "\n",
    "```mysql\n",
    "    SELECT \n",
    "        t1.*, t3.*\n",
    "    FROM\n",
    "        film t1\n",
    "            JOIN\n",
    "        film_actor t2 ON t1.film_id = t2.film_id\n",
    "            JOIN\n",
    "        actor t3 ON t2.actor_id = t3.actor_id; \n",
    "```"
   ]
  },
  {
   "cell_type": "code",
   "execution_count": null,
   "id": "41c155f5",
   "metadata": {},
   "outputs": [],
   "source": []
  },
  {
   "cell_type": "markdown",
   "id": "7ea3cf1a",
   "metadata": {},
   "source": [
    "#### LEFT JOIN\n",
    "\n",
    "- **`LEFT JOIN`** combina todas las filas de la primera tabla (tabla izquierda) con las filas coincidentes de la segunda tabla (tabla derecha), y también incluye las filas de la tabla izquierda que no tienen coincidencias en la tabla derecha.\n",
    "\n",
    "\n",
    "- Si no hay coincidencias en la tabla derecha, los valores correspondientes se establecen como NULL.\n",
    "\n",
    "\n",
    "**Ejemplos:**\n",
    "\n",
    "- **`LEFT JOIN`** con las tablas **actor** y **film_actor**.\n",
    "\n",
    "```mysql\n",
    "    SELECT \n",
    "        t1.actor_id, t1.first_name, t1.last_name, t2.film_id\n",
    "    FROM\n",
    "        actor t1\n",
    "            LEFT JOIN\n",
    "        film_actor t2 ON t1.actor_id = t2.actor_id;\n",
    "```"
   ]
  },
  {
   "cell_type": "code",
   "execution_count": null,
   "id": "f60d3c0f",
   "metadata": {},
   "outputs": [],
   "source": []
  },
  {
   "cell_type": "markdown",
   "id": "dbd03be6",
   "metadata": {},
   "source": [
    "#### RIGHT JOIN\n",
    "\n",
    "- **`RIGHT JOIN`** combina todas las filas de la segunda tabla (tabla derecha) con las filas coincidentes de la primera tabla (tabla izquierda), y también incluye las filas de la tabla derecha que no tienen coincidencias en la tabla izquierda.\n",
    "\n",
    "\n",
    "- Si no hay coincidencias en la tabla izquierda, los valores correspondientes se establecen como NULL.\n",
    "\n",
    "\n",
    "**Ejemplos:**\n",
    "\n",
    "- **`RIGHT JOIN`** con las tablas **actor** y **film_actor**.\n",
    "\n",
    "```mysql\n",
    "    SELECT \n",
    "        t1.actor_id, t1.first_name, t1.last_name, t2.film_id\n",
    "    FROM\n",
    "        actor t1\n",
    "            RIGHT JOIN\n",
    "        film_actor t2 ON t1.actor_id = t2.actor_id;\n",
    "```"
   ]
  },
  {
   "cell_type": "code",
   "execution_count": null,
   "id": "0fa1035a",
   "metadata": {},
   "outputs": [],
   "source": []
  },
  {
   "cell_type": "markdown",
   "id": "15c3ff4c",
   "metadata": {},
   "source": [
    "**Ejemplo:**\n",
    "\n",
    "- Muestra los clientes que hayan rentado más de 10 veces películas de **language_id = 1** entre las fechas **2005-01-01** y **2005-12-31**. Se hace **`GROUP BY`** por **customer_id**, **first_name** y **last_name** para poder mostrarse en el **`SELECT`**.\n",
    "\n",
    "```mysql\n",
    "SELECT \n",
    "    t1.customer_id,\n",
    "    t1.first_name,\n",
    "    t1.last_name,\n",
    "    COUNT(t2.rental_id) AS total_rentals\n",
    "FROM\n",
    "    customer t1\n",
    "        JOIN\n",
    "    rental t2 ON t1.customer_id = t2.customer_id\n",
    "        JOIN\n",
    "    inventory t3 ON t2.inventory_id = t3.inventory_id\n",
    "        JOIN\n",
    "    film t4 ON t3.film_id = t4.film_id\n",
    "WHERE\n",
    "    t4.language_id = 1\n",
    "        AND t2.rental_date BETWEEN '2005-01-01' AND '2005-12-31'\n",
    "GROUP BY t1.customer_id , t1.first_name , t1.last_name\n",
    "HAVING COUNT(t2.rental_id) > 10\n",
    "ORDER BY total_rentals DESC;\n",
    "```"
   ]
  },
  {
   "cell_type": "code",
   "execution_count": null,
   "id": "c59f1da3",
   "metadata": {},
   "outputs": [],
   "source": [
    "################################################################################################################################"
   ]
  }
 ],
 "metadata": {
  "kernelspec": {
   "display_name": "Python 3 (ipykernel)",
   "language": "python",
   "name": "python3"
  },
  "language_info": {
   "codemirror_mode": {
    "name": "ipython",
    "version": 3
   },
   "file_extension": ".py",
   "mimetype": "text/x-python",
   "name": "python",
   "nbconvert_exporter": "python",
   "pygments_lexer": "ipython3",
   "version": "3.9.7"
  }
 },
 "nbformat": 4,
 "nbformat_minor": 5
}
