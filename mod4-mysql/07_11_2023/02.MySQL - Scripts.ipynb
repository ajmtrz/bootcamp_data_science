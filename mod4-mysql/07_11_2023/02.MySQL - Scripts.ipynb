{
 "cells": [
  {
   "cell_type": "markdown",
   "id": "1db4b61b",
   "metadata": {},
   "source": [
    "## Creación de scripts en MySQL\n",
    "\n",
    "La forma más habitual de trabajo a la hora de lanzar órdenes en **SQL** sobre un **SGBD** relacional como **MySQL** es crear ficheros por lotes de órdenes **SQL**, lo que se conoce como scripts **SQL**, donde podemos escribir todas las sentencias **SQL** que queremos ejecutar una detrás de otra separadas por el carácter **;**.\n",
    "\n",
    "\n",
    "Por ejemplo, para la creación de una nueva Base de Datos y sus tablas podríamos preparar un script **SQL** como el siguiente:\n",
    "\n",
    "```mysql\n",
    " CREATE DATABASE IF NOT EXISTS hab;\n",
    " USE hab;\n",
    "\n",
    " CREATE TABLE IF NOT EXISTS estudiantes (\n",
    "     id INT UNSIGNED PRIMARY KEY AUTO_INCREMENT,\n",
    "     . . .\n",
    "     . . .\n",
    " );\n",
    "\n",
    " CREATE TABLE IF NOT EXISTS bootcamps (\n",
    "     . . .\n",
    "     . . .\n",
    " );\n",
    "```\n",
    "\n",
    "### Comprobaciones sobre el script SQL\n",
    "\n",
    "- Utilizar notación **snake_case** para todos los identificadores (nombre de la base de datos, nombres de tablas, nombres de columnas, . . .). Y siempre en minúscula.\n",
    "<br>\n",
    "\n",
    "- No utilizar acentos, el carácter ñ ni otros caracteres extraños (| @ #…) para nombres de bases de datos, tablas, columnas o cualquier otro elemento.\n",
    "<br>\n",
    "\n",
    "- **Escribir las palabras reservadas del lenguaje SQL en mayúsculas**.\n",
    "<br>\n",
    "\n",
    "- Todas las tablas tendrán un campo clave primaria cuyo nombre será **id** (definir como **id INT UNSIGNED PRIMARY KEY AUTO_INCREMENT**).\n",
    "<br>\n",
    "\n",
    "- Las claves externas indicarán la tabla a la que hacen referencia (en singular) como parte de su nombre.\n",
    "    - Por ejemplo: _**id_usuario**_ si es una clave externa de una tabla usuarios. Si en una tabla hay dos claves externas que apuntan a la misma tabla, añadiremos algo al nombre para distinguirla (_**id_usuario_emisor**_ e _**id_usuario_receptor**_, por ejemplo).\n",
    "<br>\n",
    "\n",
    "- Se recomienda que los nombres de las tablas sean en plural (users mejor que user, orders mejor que order).\n",
    "<br>\n",
    "\n",
    "- Antes de definir un tipo de dato como numérico, comprobar si realmente se va a operar con él como tal.\n",
    "<br>\n",
    "\n",
    "- Cuidado con los campos contraseña. Realmente nunca se guarda tal cual sino como un hash utilizando algún algoritmo, por lo que la longitud real es mayor (la longitud de un hash creado con SHA1 es de 40 caracteres y con SHA2 hasta 128 caracteres.\n",
    "\n",
    "___\n",
    "\n",
    "### Conceptos básicos\n",
    "\n",
    "- **Campo o atributo**: Área de almacenamiento para almacenar datos de un tipo específico. No pueden almacenarse tipos diferentes una vez definido.\n",
    "<br>\n",
    "\n",
    "- **Registro o tupla**: Colección de datos relacionados. Dichos datos pueden ser de diferentes tipos.\n",
    "<br>\n",
    "\n",
    "- **Tabla o archivo**: Colección de registros.\n",
    "\n",
    "___"
   ]
  },
  {
   "cell_type": "code",
   "execution_count": null,
   "id": "e32d51e9",
   "metadata": {},
   "outputs": [],
   "source": [
    "################################################################################################################################"
   ]
  }
 ],
 "metadata": {
  "kernelspec": {
   "display_name": "Python 3 (ipykernel)",
   "language": "python",
   "name": "python3"
  },
  "language_info": {
   "codemirror_mode": {
    "name": "ipython",
    "version": 3
   },
   "file_extension": ".py",
   "mimetype": "text/x-python",
   "name": "python",
   "nbconvert_exporter": "python",
   "pygments_lexer": "ipython3",
   "version": "3.9.7"
  }
 },
 "nbformat": 4,
 "nbformat_minor": 5
}
