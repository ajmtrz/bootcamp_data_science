{
 "cells": [
  {
   "cell_type": "markdown",
   "id": "81cc3390",
   "metadata": {},
   "source": [
    "## datetime Ejercicios"
   ]
  },
  {
   "cell_type": "code",
   "execution_count": 1,
   "id": "570de22e",
   "metadata": {},
   "outputs": [],
   "source": [
    "import time\n",
    "import datetime"
   ]
  },
  {
   "cell_type": "markdown",
   "id": "f9db0e96",
   "metadata": {},
   "source": [
    "### Ejercicio 1\n",
    "- Determina si el año actual es bisiesto, imprime el resultado por pantalla. Usa la libreria **`datetime`**."
   ]
  },
  {
   "cell_type": "code",
   "execution_count": 4,
   "id": "7f8fbd2e",
   "metadata": {},
   "outputs": [
    {
     "data": {
      "text/plain": [
       "datetime.datetime(2003, 2, 1, 0, 0)"
      ]
     },
     "execution_count": 4,
     "metadata": {},
     "output_type": "execute_result"
    }
   ],
   "source": [
    "fecha = datetime.datetime(year=2003, month=1, day=1)\n",
    "fecha"
   ]
  },
  {
   "cell_type": "code",
   "execution_count": 5,
   "id": "586752c5",
   "metadata": {},
   "outputs": [],
   "source": [
    "def es_bisiesto(year):\n",
    "    fecha = datetime.datetime(year=year, month=1, day=1)\n",
    "    if fecha.year % 400 == 0:\n",
    "        print(f'{year} es año bisiesto')\n",
    "    elif fecha.year % 100 == 0:\n",
    "        print(f'{year} es año no bisiesto')\n",
    "    elif fecha.year % 4 ==0:\n",
    "        print(f'{year} es año bisiesto')\n",
    "    else:\n",
    "        print(f'{year} es año no bisiesto')"
   ]
  },
  {
   "cell_type": "code",
   "execution_count": 8,
   "id": "8f7131c0",
   "metadata": {},
   "outputs": [
    {
     "name": "stdout",
     "output_type": "stream",
     "text": [
      "2010 es año no bisiesto\n"
     ]
    }
   ],
   "source": [
    "es_bisiesto(2010)"
   ]
  },
  {
   "cell_type": "markdown",
   "id": "9ec19d61",
   "metadata": {},
   "source": [
    "### Ejercicio 2\n",
    "- Utiliza el año 2000 y el año 2100 para verificar que el código anterior funciona correctamente. Nota: El año 2000 fue bisiesto y el año 2100 no lo será."
   ]
  },
  {
   "cell_type": "code",
   "execution_count": 9,
   "id": "6d7ac90e",
   "metadata": {},
   "outputs": [
    {
     "name": "stdout",
     "output_type": "stream",
     "text": [
      "2100 es año no bisiesto\n"
     ]
    }
   ],
   "source": [
    "es_bisiesto(2100)"
   ]
  },
  {
   "cell_type": "code",
   "execution_count": 10,
   "id": "ae63e7cd",
   "metadata": {},
   "outputs": [
    {
     "name": "stdout",
     "output_type": "stream",
     "text": [
      "2000 es año bisiesto\n"
     ]
    }
   ],
   "source": [
    "es_bisiesto(2000)"
   ]
  },
  {
   "cell_type": "code",
   "execution_count": null,
   "id": "516fe1fc",
   "metadata": {},
   "outputs": [],
   "source": []
  },
  {
   "cell_type": "markdown",
   "id": "30aaf8f9",
   "metadata": {},
   "source": [
    "### Ejercicio 3\n",
    "- Convierte la fecha **`'Oct 16 2019 2:43PM'`** en un objecto de tipo **`datetime`**. Nota: Convertir una fecha string a una fecha tipo datetime."
   ]
  },
  {
   "cell_type": "code",
   "execution_count": 17,
   "id": "5a5aee2e",
   "metadata": {},
   "outputs": [
    {
     "data": {
      "text/plain": [
       "datetime.datetime(2019, 10, 16, 14, 43)"
      ]
     },
     "execution_count": 17,
     "metadata": {},
     "output_type": "execute_result"
    }
   ],
   "source": [
    "datetime.datetime.strptime('Oct 16 2019 2:43PM',\"%b %d %Y %I:%M%p\" )"
   ]
  },
  {
   "cell_type": "code",
   "execution_count": null,
   "id": "3473f225",
   "metadata": {},
   "outputs": [],
   "source": []
  },
  {
   "cell_type": "code",
   "execution_count": null,
   "id": "e86e8008",
   "metadata": {},
   "outputs": [],
   "source": []
  },
  {
   "cell_type": "markdown",
   "id": "dac7380d",
   "metadata": {},
   "source": [
    "### Ejercicio 4\n",
    "- Muestra la hora actual."
   ]
  },
  {
   "cell_type": "code",
   "execution_count": 18,
   "id": "1d0c0aea",
   "metadata": {},
   "outputs": [
    {
     "data": {
      "text/plain": [
       "datetime.datetime(2023, 9, 20, 19, 51, 25, 601143)"
      ]
     },
     "execution_count": 18,
     "metadata": {},
     "output_type": "execute_result"
    }
   ],
   "source": [
    "datetime.datetime.now()"
   ]
  },
  {
   "cell_type": "code",
   "execution_count": 19,
   "id": "7da1f286",
   "metadata": {},
   "outputs": [],
   "source": [
    "hoy = datetime.datetime.now()"
   ]
  },
  {
   "cell_type": "code",
   "execution_count": null,
   "id": "0faf7615",
   "metadata": {},
   "outputs": [],
   "source": []
  },
  {
   "cell_type": "markdown",
   "id": "4888b068",
   "metadata": {},
   "source": [
    "### Ejercicio 5\n",
    "\n",
    "- Utilizando la fecha y hora actual imprime la siguiente información:\n",
    "\n",
    "1. Fecha y hora actual\n",
    "2. Año actual\n",
    "3. Mes del año\n",
    "4. Numero de la semana del año\n",
    "5. Numero del dia de la semana\n",
    "6. Dia del año\n",
    "7. Dia del mes\n",
    "8. Dia de la semana"
   ]
  },
  {
   "cell_type": "code",
   "execution_count": 20,
   "id": "2be25c27",
   "metadata": {},
   "outputs": [
    {
     "data": {
      "text/plain": [
       "datetime.datetime(2023, 9, 20, 19, 51, 44, 240411)"
      ]
     },
     "execution_count": 20,
     "metadata": {},
     "output_type": "execute_result"
    }
   ],
   "source": [
    "hoy"
   ]
  },
  {
   "cell_type": "code",
   "execution_count": 21,
   "id": "4f5fe2b2",
   "metadata": {},
   "outputs": [
    {
     "data": {
      "text/plain": [
       "2023"
      ]
     },
     "execution_count": 21,
     "metadata": {},
     "output_type": "execute_result"
    }
   ],
   "source": [
    "hoy.year"
   ]
  },
  {
   "cell_type": "code",
   "execution_count": 22,
   "id": "0d115ad6",
   "metadata": {},
   "outputs": [
    {
     "data": {
      "text/plain": [
       "9"
      ]
     },
     "execution_count": 22,
     "metadata": {},
     "output_type": "execute_result"
    }
   ],
   "source": [
    "hoy.month"
   ]
  },
  {
   "cell_type": "code",
   "execution_count": 23,
   "id": "dd5d838c-5314-43e1-a30c-e7122b2375e6",
   "metadata": {},
   "outputs": [
    {
     "data": {
      "text/plain": [
       "'38'"
      ]
     },
     "execution_count": 23,
     "metadata": {},
     "output_type": "execute_result"
    }
   ],
   "source": [
    "hoy.strftime('%U')"
   ]
  },
  {
   "cell_type": "code",
   "execution_count": 24,
   "id": "94e922c2-b7d3-4865-b174-c930a2c687c7",
   "metadata": {},
   "outputs": [
    {
     "data": {
      "text/plain": [
       "'3'"
      ]
     },
     "execution_count": 24,
     "metadata": {},
     "output_type": "execute_result"
    }
   ],
   "source": [
    "hoy.strftime('%u')"
   ]
  },
  {
   "cell_type": "code",
   "execution_count": 25,
   "id": "f304e7c2-c1db-44d3-bf4d-b33775c0a808",
   "metadata": {},
   "outputs": [
    {
     "data": {
      "text/plain": [
       "'263'"
      ]
     },
     "execution_count": 25,
     "metadata": {},
     "output_type": "execute_result"
    }
   ],
   "source": [
    "hoy.strftime('%j')"
   ]
  },
  {
   "cell_type": "code",
   "execution_count": 26,
   "id": "4706a156-ca98-4289-9935-10530170121e",
   "metadata": {},
   "outputs": [
    {
     "data": {
      "text/plain": [
       "'20'"
      ]
     },
     "execution_count": 26,
     "metadata": {},
     "output_type": "execute_result"
    }
   ],
   "source": [
    "hoy.strftime('%d')"
   ]
  },
  {
   "cell_type": "code",
   "execution_count": 27,
   "id": "af93d318-75e4-4c9d-a0da-2608e51f2aa7",
   "metadata": {},
   "outputs": [
    {
     "data": {
      "text/plain": [
       "'Wednesday'"
      ]
     },
     "execution_count": 27,
     "metadata": {},
     "output_type": "execute_result"
    }
   ],
   "source": [
    "hoy.strftime('%A')"
   ]
  },
  {
   "cell_type": "markdown",
   "id": "2b6c624f",
   "metadata": {},
   "source": [
    "### Ejercicio 6\n",
    "\n",
    "- Escribe un código que convierta la siguiente cadena que se encuentra en formato timestamp unix **\"1284105682\"** a un formato que se pueda leer."
   ]
  },
  {
   "cell_type": "code",
   "execution_count": 30,
   "id": "5eaab7d8",
   "metadata": {},
   "outputs": [
    {
     "data": {
      "text/plain": [
       "datetime.datetime(2010, 9, 10, 10, 1, 22)"
      ]
     },
     "execution_count": 30,
     "metadata": {},
     "output_type": "execute_result"
    }
   ],
   "source": [
    "timestamp = int(\"1284105682\")\n",
    "objeto_datetime = datetime.datetime.fromtimestamp(timestamp)\n",
    "objeto_datetime"
   ]
  },
  {
   "cell_type": "code",
   "execution_count": null,
   "id": "6580497b",
   "metadata": {},
   "outputs": [],
   "source": []
  },
  {
   "cell_type": "code",
   "execution_count": null,
   "id": "b863e2d9",
   "metadata": {},
   "outputs": [],
   "source": []
  },
  {
   "cell_type": "markdown",
   "id": "9fa710a8",
   "metadata": {},
   "source": [
    "### Ejercicio 7\n",
    "- Escribe un programa que imprima la fecha de 5 días atras."
   ]
  },
  {
   "cell_type": "code",
   "execution_count": 42,
   "id": "b7ba02bb-31d7-44a4-bfcc-a8bbf8e2e8a4",
   "metadata": {},
   "outputs": [],
   "source": [
    "from datetime import timedelta, datetime"
   ]
  },
  {
   "cell_type": "code",
   "execution_count": 43,
   "id": "c2508c37",
   "metadata": {},
   "outputs": [],
   "source": [
    "def calcular_cinco_dias_atras():\n",
    "    año = int(input('Introduce el año:'))\n",
    "    mes = int(input('Introduce el mes:'))\n",
    "    dia = int(input('Introduce el dia:'))\n",
    "    t1 = datetime(year = año, month = mes, day = dia)\n",
    "    t2 = timedelta(days = 5)\n",
    "    \n",
    "    return t1 - t2"
   ]
  },
  {
   "cell_type": "code",
   "execution_count": 44,
   "id": "e95406c6",
   "metadata": {},
   "outputs": [
    {
     "name": "stdin",
     "output_type": "stream",
     "text": [
      "Introduce el año: 2023\n",
      "Introduce el mes: 3\n",
      "Introduce el dia: 5\n"
     ]
    },
    {
     "data": {
      "text/plain": [
       "datetime.datetime(2023, 2, 28, 0, 0)"
      ]
     },
     "execution_count": 44,
     "metadata": {},
     "output_type": "execute_result"
    }
   ],
   "source": [
    "calcular_cinco_dias_atras()"
   ]
  },
  {
   "cell_type": "code",
   "execution_count": null,
   "id": "e4161e92",
   "metadata": {},
   "outputs": [],
   "source": []
  },
  {
   "cell_type": "markdown",
   "id": "ea3d4997",
   "metadata": {},
   "source": [
    "### Ejercicio 8\n",
    "- Utiliza un bucle **`for`** para imprimir los proximos 5 dias."
   ]
  },
  {
   "cell_type": "code",
   "execution_count": null,
   "id": "311bfc3d",
   "metadata": {},
   "outputs": [],
   "source": []
  },
  {
   "cell_type": "code",
   "execution_count": null,
   "id": "891c5751",
   "metadata": {},
   "outputs": [],
   "source": []
  },
  {
   "cell_type": "code",
   "execution_count": null,
   "id": "107310ee",
   "metadata": {},
   "outputs": [],
   "source": []
  },
  {
   "cell_type": "markdown",
   "id": "9f2f692d",
   "metadata": {},
   "source": [
    "### Ejercicio 9\n",
    "- Escribe un código que agregue 5 segundos a la hora actual."
   ]
  },
  {
   "cell_type": "code",
   "execution_count": null,
   "id": "6299f143",
   "metadata": {},
   "outputs": [],
   "source": []
  },
  {
   "cell_type": "code",
   "execution_count": null,
   "id": "828c806b",
   "metadata": {},
   "outputs": [],
   "source": []
  },
  {
   "cell_type": "code",
   "execution_count": null,
   "id": "30269f13",
   "metadata": {},
   "outputs": [],
   "source": []
  },
  {
   "cell_type": "markdown",
   "id": "e6fa33cc",
   "metadata": {},
   "source": [
    "### Ejercicio 10\n",
    "\n",
    "- Escribe un código que muestre la fecha de ayer, hoy y mañana."
   ]
  },
  {
   "cell_type": "code",
   "execution_count": null,
   "id": "a1b81653",
   "metadata": {},
   "outputs": [],
   "source": []
  },
  {
   "cell_type": "code",
   "execution_count": null,
   "id": "01cf4839",
   "metadata": {},
   "outputs": [],
   "source": []
  },
  {
   "cell_type": "code",
   "execution_count": null,
   "id": "5c397c62",
   "metadata": {},
   "outputs": [],
   "source": []
  },
  {
   "cell_type": "markdown",
   "id": "bf3cb171",
   "metadata": {},
   "source": [
    "### Ejercicio 11\n",
    "- Escribe un código que convierta una fecha a unix timestamp."
   ]
  },
  {
   "cell_type": "code",
   "execution_count": null,
   "id": "87e59068",
   "metadata": {},
   "outputs": [],
   "source": []
  },
  {
   "cell_type": "code",
   "execution_count": null,
   "id": "a07a78aa",
   "metadata": {},
   "outputs": [],
   "source": []
  },
  {
   "cell_type": "code",
   "execution_count": null,
   "id": "e88b97c1",
   "metadata": {},
   "outputs": [],
   "source": []
  },
  {
   "cell_type": "markdown",
   "id": "44994dbb",
   "metadata": {},
   "source": [
    "### Ejercicio 12\n",
    "\n",
    "- Escribe un código que genere la fecha y hora actual del tipo **`datetime`** como **`string`**. (Dale el formato que quieras.)"
   ]
  },
  {
   "cell_type": "code",
   "execution_count": null,
   "id": "c7e38f97",
   "metadata": {},
   "outputs": [],
   "source": []
  },
  {
   "cell_type": "code",
   "execution_count": null,
   "id": "d4fa4a49",
   "metadata": {},
   "outputs": [],
   "source": []
  },
  {
   "cell_type": "code",
   "execution_count": null,
   "id": "cba05354",
   "metadata": {},
   "outputs": [],
   "source": []
  },
  {
   "cell_type": "markdown",
   "id": "ed6e7b81",
   "metadata": {},
   "source": [
    "### Ejercicio 13\n",
    "\n",
    "- Calcula la cantidad de segundos que han pasado desde el **`01-Jan-2023`**."
   ]
  },
  {
   "cell_type": "code",
   "execution_count": null,
   "id": "66ebcc7c",
   "metadata": {},
   "outputs": [],
   "source": []
  },
  {
   "cell_type": "code",
   "execution_count": null,
   "id": "462a0e80",
   "metadata": {},
   "outputs": [],
   "source": []
  },
  {
   "cell_type": "code",
   "execution_count": null,
   "id": "862141bf",
   "metadata": {},
   "outputs": [],
   "source": []
  }
 ],
 "metadata": {
  "kernelspec": {
   "display_name": "Python 3 (ipykernel)",
   "language": "python",
   "name": "python3"
  },
  "language_info": {
   "codemirror_mode": {
    "name": "ipython",
    "version": 3
   },
   "file_extension": ".py",
   "mimetype": "text/x-python",
   "name": "python",
   "nbconvert_exporter": "python",
   "pygments_lexer": "ipython3",
   "version": "3.9.7"
  }
 },
 "nbformat": 4,
 "nbformat_minor": 5
}
