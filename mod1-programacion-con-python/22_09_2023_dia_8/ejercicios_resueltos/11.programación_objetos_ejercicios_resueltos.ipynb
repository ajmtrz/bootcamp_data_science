{
 "cells": [
  {
   "cell_type": "markdown",
   "id": "fcda8787",
   "metadata": {},
   "source": [
    "## Programación Orientada a Objetos Ejercicios"
   ]
  },
  {
   "cell_type": "markdown",
   "id": "d9ec0018",
   "metadata": {},
   "source": [
    "### Ejercicio 1:\n",
    "- Define una clase con el nombre **`CuentaBancaria`**:\n",
    "\n",
    "1. **Parametros**: esta clase va a tomar los parametros: **`nombre`**, **`apellido`**, **`dni`**, **`tipo_cuenta`**.\n",
    "- **`tipo_cuenta`** puede ser **\"Debito\"** o **\"Credito\"**.\n",
    "- Define estos parametros en la clase como atributos con el mismo nombre:\n",
    "    - **Ejemplo:** **`self.nombre = nombre`**\n",
    "            \n",
    "================================================================================================================================            \n",
    "\n",
    "2. **Atributos**: además de los atributos creados en base a los parametros, inicializa los siguientes:\n",
    "- **`email`** que sera un string con la siguiente forma **`nombre.apellido@python.com`** (todo en minúsculas).\n",
    "- **`balance`** que sera un número flotante aleatorio entre 100 y 1000.\n",
    "- **`id_usuario`** que sera un **número aleatorio entre 1000000 y 9999999**.\n",
    "    \n",
    "===============================================================================================================================\n",
    "        \n",
    "3. **Métodos**:\n",
    "- **`usuario_info()`** que no tome parametros y que imprima por pantalla los datos de la persona (**`nombre`**, **`apellido`**, **`email`**, **`dni`**, **`id_usuario`** y **`tipo_cuenta`**)\n",
    "\n",
    "\n",
    "- **`mostrar_balance()`** que no tome parametros y que imprima por pantalla el balance actual de la persona, si el balance es negativo que imprima una advertencia.\n",
    "\n",
    "\n",
    "- **`ingresar()`** que tome como parametro un número positvo (**`ingreso`**) y que modifique el valor del atributo **`balance`** sumandole el valor de **`ingreso`**, luego que llame al método **`mostrar_balance()`**.\n",
    "\n",
    "\n",
    "- **`hacer_bizum()`** que tome como parametro un número positvo (**`bizum`**) y que haga lo siguiente:\n",
    "    - Verifique que **`balance`** >= **`bizum`**.\n",
    "    - Si se cumple la condición entonces que imprima por pantalla **`Bizum realizado con exito`** y que modifique el valor del atributo **`balance`** restandole el valor de **`bizum`**.\n",
    "    - Si no se cumple la condición entonces que imprima por pantalla **`No se puede realizar el bizum, fondos insuficientes`**.\n",
    "    - Luego que llame al método **`mostrar_balance()`**.\n",
    "\n",
    "\n",
    "- **`cambiar_cuenta()`** que no tome parametros de entrada y que al ejecutarse modifique el atributo **`tipo_cuenta`**:\n",
    "    - Si estaba en **Debito** que se cambie por **Credito**.\n",
    "    - Si estaba en **Credito** que se cambie por **Debito**.\n",
    "    - Que imprima por pantalla **`Tu tipo de cuenta ha sido cambiada con exito.`**\n",
    "    \n",
    "- **`exportar_datos()`** que no tome parametros de entrada y que retorne un diccionario con los datos del usuario (**`nombre`**, **`apellido`**, **`email`**, **`dni`**, **`tipo_cuenta`**, **`balance`**).\n",
    "\n",
    "===============================================================================================================================\n",
    "\n",
    "\n",
    "**Inicializa una instacia de esta clase, ejecuta todos los métodos y atributos para verificar que funciona correctamente.**\n",
    "\n",
    "**Define cualquier otro método que se te ocurra.**"
   ]
  },
  {
   "cell_type": "code",
   "execution_count": null,
   "id": "640e19b9",
   "metadata": {},
   "outputs": [],
   "source": [
    "from random import random, randint"
   ]
  },
  {
   "cell_type": "code",
   "execution_count": null,
   "id": "79d3426a",
   "metadata": {},
   "outputs": [],
   "source": [
    "class CuentaBancaria:\n",
    "    def __init__(self, nombre, apellido, dni, tipo_cuenta):\n",
    "        self.nombre = nombre.title()\n",
    "        self.apellido = apellido.title()\n",
    "        self.dni = dni\n",
    "        self.tipo_cuenta = tipo_cuenta.title()\n",
    "        self.email = f\"{self.nombre}.{self.apellido}@python.com\".lower()\n",
    "        self.balance = round(randint(100, 1000) + random(), 2)\n",
    "        self.id_usuario = randint(1000000, 9999999)\n",
    "        \n",
    "    def usuario_info(self):\n",
    "        print(\"Nombre:\", self.nombre)\n",
    "        print(\"Apellido:\", self.apellido)\n",
    "        print(\"DNI:\", self.dni)\n",
    "        print(\"Cuenta:\", self.tipo_cuenta)\n",
    "        print(\"Email:\", self.email)\n",
    "        print(\"Balance:\", self.balance)\n",
    "        print(\"ID Usuario:\", self. id_usuario)\n",
    "        \n",
    "    def mostrar_balance(self):\n",
    "        print(f\"Tu balance es: {self.balance}\")\n",
    "        \n",
    "        if self.balance < 0:\n",
    "            print(\"Balance Negativo.\")\n",
    "            \n",
    "    def ingresar(self, ingreso):\n",
    "        self.balance += ingreso\n",
    "        \n",
    "        self.mostrar_balance()\n",
    "        \n",
    "    def hacer_bizum(self, bizum):\n",
    "        if self.balance >= bizum:\n",
    "            print(\"Bizum realizado con exito.\")\n",
    "            self.balance -= bizum\n",
    "            \n",
    "        else:\n",
    "            print(\"No se puede realizar el bizum, fondos insuficientes.\")\n",
    "            \n",
    "        self.mostrar_balance()\n",
    "        \n",
    "    def cambiar_cuenta(self):\n",
    "        if self.tipo_cuenta == \"Debito\":\n",
    "            self.tipo_cuenta = \"Credito\"\n",
    "        else:\n",
    "            self.tipo_cuenta = \"Debito\"\n",
    "            \n",
    "        print(\"Tu tipo de cuenta ha sido cambiada con exito.\")\n",
    "        \n",
    "    def exportar_datos(self):\n",
    "        dicc_usuario = {\"nombre\" : self.nombre,\n",
    "                        \"apellido\" : self.apellido,\n",
    "                        \"dni\" : self.dni,\n",
    "                        \"cuenta\" : self.tipo_cuenta,\n",
    "                        \"email\" : self.email,\n",
    "                        \"balance\" : self.balance,\n",
    "                        \"id\" : self.id_usuario}\n",
    "        return dicc_usuario"
   ]
  },
  {
   "cell_type": "code",
   "execution_count": null,
   "id": "1031f73a",
   "metadata": {},
   "outputs": [],
   "source": [
    "usuario = CuentaBancaria(nombre = \"Pedro\", apellido = \"Perez\", dni = \"012345678\", tipo_cuenta = \"Debito\")"
   ]
  },
  {
   "cell_type": "code",
   "execution_count": null,
   "id": "731d0988",
   "metadata": {},
   "outputs": [],
   "source": [
    "print(usuario.nombre)\n",
    "print(usuario.apellido)\n",
    "print(usuario.dni)\n",
    "print(usuario.tipo_cuenta)\n",
    "print(usuario.email)\n",
    "print(usuario.balance)"
   ]
  },
  {
   "cell_type": "code",
   "execution_count": null,
   "id": "bd2c21eb",
   "metadata": {},
   "outputs": [],
   "source": [
    "usuario.usuario_info()"
   ]
  },
  {
   "cell_type": "code",
   "execution_count": null,
   "id": "159d0ed0",
   "metadata": {},
   "outputs": [],
   "source": [
    "usuario.ingresar(100)"
   ]
  },
  {
   "cell_type": "code",
   "execution_count": null,
   "id": "3b4cc728",
   "metadata": {},
   "outputs": [],
   "source": [
    "usuario.hacer_bizum(50)"
   ]
  },
  {
   "cell_type": "code",
   "execution_count": null,
   "id": "7b4a3466",
   "metadata": {},
   "outputs": [],
   "source": [
    "usuario.hacer_bizum(10000)"
   ]
  },
  {
   "cell_type": "code",
   "execution_count": null,
   "id": "218d597f",
   "metadata": {},
   "outputs": [],
   "source": [
    "usuario.cambiar_cuenta()"
   ]
  },
  {
   "cell_type": "code",
   "execution_count": null,
   "id": "e4b4cd04",
   "metadata": {},
   "outputs": [],
   "source": [
    "usuario.tipo_cuenta"
   ]
  },
  {
   "cell_type": "code",
   "execution_count": null,
   "id": "1eb1f89b",
   "metadata": {},
   "outputs": [],
   "source": [
    "usuario.exportar_datos()"
   ]
  },
  {
   "cell_type": "code",
   "execution_count": null,
   "id": "f4c8e9bc",
   "metadata": {},
   "outputs": [],
   "source": []
  }
 ],
 "metadata": {
  "kernelspec": {
   "display_name": "Python 3 (ipykernel)",
   "language": "python",
   "name": "python3"
  },
  "language_info": {
   "codemirror_mode": {
    "name": "ipython",
    "version": 3
   },
   "file_extension": ".py",
   "mimetype": "text/x-python",
   "name": "python",
   "nbconvert_exporter": "python",
   "pygments_lexer": "ipython3",
   "version": "3.9.12"
  }
 },
 "nbformat": 4,
 "nbformat_minor": 5
}
