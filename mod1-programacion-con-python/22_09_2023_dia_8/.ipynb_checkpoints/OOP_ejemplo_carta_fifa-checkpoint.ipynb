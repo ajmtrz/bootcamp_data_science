{
 "cells": [
  {
   "cell_type": "markdown",
   "id": "9a18daa8-5236-41b8-939b-8a82a461ed38",
   "metadata": {},
   "source": [
    "## OOP Ejemplo crear sobre cartas Fifa"
   ]
  },
  {
   "cell_type": "markdown",
   "id": "583a3eb6",
   "metadata": {},
   "source": [
    "**Para comenzar vamos a crear una clase padre o superclase de la generaremos nuestras clases hijas**"
   ]
  },
  {
   "cell_type": "code",
   "execution_count": null,
   "id": "56fc51d8",
   "metadata": {},
   "outputs": [],
   "source": [
    "import random"
   ]
  },
  {
   "cell_type": "markdown",
   "id": "390c3cd5-85a0-4355-8a8f-c746c97fe1fc",
   "metadata": {},
   "source": [
    "**La clase Card será nuestra clase padre, que tendrá una serie de características generales**"
   ]
  },
  {
   "cell_type": "code",
   "execution_count": 2,
   "id": "67380c96",
   "metadata": {},
   "outputs": [],
   "source": [
    "class Card:\n",
    "    \n",
    "    def __init__(self, name:str, card_type:str, team:str, nationality:str, position:str, ova:int):\n",
    "        self.name = name\n",
    "        self.card_type = card_type\n",
    "        self.team = team\n",
    "        self.nationality = nationality\n",
    "        self.position = position\n",
    "        self.ova = ova\n",
    "    \n",
    "    def create_card_features(self):\n",
    "        \n",
    "        if self.position == 'GK':\n",
    "            features = {'Goalkepping': random.randint(self.ova-20,self.ova),\n",
    "                        'Penalties': random.randint(self.ova-20,self.ova),\n",
    "                        'Reactions': random.randint(self.ova-20,self.ova),\n",
    "                        'Speed': random.randint(self.ova-30,self.ova),\n",
    "                        'Defending': random.randint(self.ova-30,self.ova),\n",
    "                        'Attacking': random.randint(self.ova-30,self.ova)}\n",
    "        else:\n",
    "            features = {'Attacking' : random.randint(self.ova-30,self.ova),\n",
    "                        'Speed': random.randint(self.ova-30,self.ova),\n",
    "                        'Pace': random.randint(self.ova-30,self.ova),\n",
    "                        'Dribbling': random.randint(self.ova-30,self.ova),\n",
    "                        'Defending': random.randint(self.ova-30,self.ova),\n",
    "                        'Mentality': random.randint(self.ova-30,self.ova)}\n",
    "        \n",
    "        return {'Name': self.name,\n",
    "                'Card_Type': self.card_type,\n",
    "                'Team': self.team,\n",
    "                'Nationality': self.nationality,\n",
    "                'Position': self.position,\n",
    "                'OVA': self.ova,\n",
    "                'Features': features}\n",
    "        "
   ]
  },
  {
   "cell_type": "code",
   "execution_count": 3,
   "id": "6d6ad56f",
   "metadata": {},
   "outputs": [],
   "source": [
    "c1 = Card('Messi', 'Gold', 'PSG', 'Argentina', 'ST', 91)"
   ]
  },
  {
   "cell_type": "code",
   "execution_count": 5,
   "id": "92319f99-2e45-46df-b173-33fbea6a53bf",
   "metadata": {},
   "outputs": [
    {
     "data": {
      "text/plain": [
       "['__class__',\n",
       " '__delattr__',\n",
       " '__dict__',\n",
       " '__dir__',\n",
       " '__doc__',\n",
       " '__eq__',\n",
       " '__format__',\n",
       " '__ge__',\n",
       " '__getattribute__',\n",
       " '__gt__',\n",
       " '__hash__',\n",
       " '__init__',\n",
       " '__init_subclass__',\n",
       " '__le__',\n",
       " '__lt__',\n",
       " '__module__',\n",
       " '__ne__',\n",
       " '__new__',\n",
       " '__reduce__',\n",
       " '__reduce_ex__',\n",
       " '__repr__',\n",
       " '__setattr__',\n",
       " '__sizeof__',\n",
       " '__str__',\n",
       " '__subclasshook__',\n",
       " '__weakref__',\n",
       " 'create_card_features']"
      ]
     },
     "execution_count": 5,
     "metadata": {},
     "output_type": "execute_result"
    }
   ],
   "source": [
    "dir(Card)"
   ]
  },
  {
   "cell_type": "code",
   "execution_count": 4,
   "id": "8febcac3",
   "metadata": {},
   "outputs": [
    {
     "data": {
      "text/plain": [
       "{'name': 'Messi',\n",
       " 'card_type': 'Gold',\n",
       " 'team': 'PSG',\n",
       " 'nationality': 'Argentina',\n",
       " 'position': 'ST',\n",
       " 'ova': 91}"
      ]
     },
     "execution_count": 4,
     "metadata": {},
     "output_type": "execute_result"
    }
   ],
   "source": [
    "c1.__dict__"
   ]
  },
  {
   "cell_type": "code",
   "execution_count": null,
   "id": "11f7a7e4",
   "metadata": {},
   "outputs": [],
   "source": [
    "c1.create_card_features()"
   ]
  },
  {
   "cell_type": "code",
   "execution_count": null,
   "id": "6be4d9f0",
   "metadata": {},
   "outputs": [],
   "source": [
    "c1_features = c1.create_card_features()"
   ]
  },
  {
   "cell_type": "code",
   "execution_count": null,
   "id": "bcc66a53",
   "metadata": {},
   "outputs": [],
   "source": [
    "type(c1_features)"
   ]
  },
  {
   "cell_type": "markdown",
   "id": "656ced27",
   "metadata": {},
   "source": [
    "**Ahora vamos a generar una clase hija que herede las caracteristicas de la clase principal y a la que añadiremos nuevas funcionalidades**"
   ]
  },
  {
   "cell_type": "code",
   "execution_count": null,
   "id": "df7c2a9f",
   "metadata": {},
   "outputs": [],
   "source": [
    "class Toty_Card(Card):\n",
    "    \n",
    "    def __init__(self, name:str, card_type:str, team:str, nationality:str, position:str, ova:int):\n",
    "        \n",
    "        super().__init__(name, card_type, team, nationality, position, ova) #necesario para poder instanciar nuestra clase\n",
    "        self.ova = ova+5\n",
    "        \n",
    "    def create_card_features(self):\n",
    "        \n",
    "        if self.position == 'GK':\n",
    "            features = {'Goalkepping': random.randint(self.ova-10,self.ova),\n",
    "                        'Penalties': random.randint(self.ova-10,self.ova),\n",
    "                        'Reactions': random.randint(self.ova-10,self.ova),\n",
    "                        'Speed': random.randint(self.ova-10,self.ova),\n",
    "                        'Defending': random.randint(self.ova-10,self.ova),\n",
    "                        'Attacking': random.randint(self.ova-10,self.ova)}\n",
    "        else:\n",
    "            features = {'Attacking' : random.randint(self.ova-10,self.ova),\n",
    "                        'Speed': random.randint(self.ova-10,self.ova),\n",
    "                        'Pace': random.randint(self.ova-10,self.ova),\n",
    "                        'Dribbling': random.randint(self.ova-10,self.ova),\n",
    "                        'Defending': random.randint(self.ova-10,self.ova),\n",
    "                        'Mentality': random.randint(self.ova-10,self.ova)}\n",
    "        \n",
    "        return {'Name': self.name,\n",
    "                'Card_Type': self.card_type,\n",
    "                'Team': self.team,\n",
    "                'Nationality': self.nationality,\n",
    "                'Position': self.position,\n",
    "                'OVA': self.ova,\n",
    "                'Features': features}"
   ]
  },
  {
   "cell_type": "code",
   "execution_count": null,
   "id": "67f37311",
   "metadata": {},
   "outputs": [],
   "source": [
    "class Legend_Card(Card):\n",
    "    \n",
    "    def __init__(self, name:str, card_type:str, team:str, nationality:str, position:str, ova:int):\n",
    "        \n",
    "        super().__init__(name, card_type, team, nationality, position, ova) # hereda los atributos de la clase padre\n",
    "        \n",
    "        self.ova = ova+random.randint(5,10) # añadimos las nuevas caracteristicas de nuestro objeto\n",
    "        \n",
    "    def create_card_features(self):\n",
    "        \n",
    "        if self.position == 'GK':\n",
    "            features = {'Goalkepping': random.randint(self.ova-5,self.ova+5),\n",
    "                        'Penalties': random.randint(self.ova-5,self.ova+5),\n",
    "                        'Reactions': random.randint(self.ova-5,self.ova+5),\n",
    "                        'Speed': random.randint(self.ova-5,self.ova+5),\n",
    "                        'Defending': random.randint(self.ova-5,self.ova+5),\n",
    "                        'Attacking': random.randint(self.ova-5,self.ova+5)}\n",
    "        else:\n",
    "            features = {'Attacking' : random.randint(self.ova-5,self.ova+5),\n",
    "                        'Speed': random.randint(self.ova-5,self.ova+5),\n",
    "                        'Pace': random.randint(self.ova-5,self.ova+5),\n",
    "                        'Dribbling': random.randint(self.ova-5,self.ova+5),\n",
    "                        'Defending': random.randint(self.ova-5,self.ova+5),\n",
    "                        'Mentality': random.randint(self.ova-5,self.ova+5)}\n",
    "        \n",
    "        return {'Name': self.name,\n",
    "                'Card_Type': self.card_type,\n",
    "                'Team': self.team,\n",
    "                'Nationality': self.nationality,\n",
    "                'Position': self.position,\n",
    "                'OVA': self.ova,\n",
    "                'Features': features}"
   ]
  },
  {
   "cell_type": "code",
   "execution_count": null,
   "id": "fc2ea47c",
   "metadata": {},
   "outputs": [],
   "source": [
    "c2 = Legend_Card(name='Messi', card_type='Legend', team='PSG', nationality='Argentina', position='ST', ova=91 )"
   ]
  },
  {
   "cell_type": "code",
   "execution_count": null,
   "id": "e4168083",
   "metadata": {},
   "outputs": [],
   "source": [
    "c2.create_card_features()"
   ]
  },
  {
   "cell_type": "markdown",
   "id": "4016b76b",
   "metadata": {},
   "source": [
    "**Desde una clase podemos llamar a otras clases y usarlas para generar objetos nuevos**"
   ]
  },
  {
   "cell_type": "code",
   "execution_count": null,
   "id": "68936aff",
   "metadata": {},
   "outputs": [],
   "source": [
    "import time"
   ]
  },
  {
   "cell_type": "code",
   "execution_count": null,
   "id": "c54af71f",
   "metadata": {},
   "outputs": [],
   "source": [
    "class Package:\n",
    "    def __init__(self):\n",
    "        self.cards = []\n",
    "    \n",
    "    def addcard(self, Card):\n",
    "        self.cards.append(Card.create_card_features())\n",
    "    \n",
    "    def open_pack(self):\n",
    "        for i,c in enumerate(self.cards):\n",
    "            print(f'Carta numero {i+1}\\n')\n",
    "            for k,v in c.items():\n",
    "                print(f'{k}: {v}')\n",
    "            print('\\n-----------\\n')\n",
    "            time.sleep(2)\n",
    "        "
   ]
  },
  {
   "cell_type": "code",
   "execution_count": null,
   "id": "8d4a5b25",
   "metadata": {},
   "outputs": [],
   "source": [
    "#Vamos a generar un sobre de cartas\n",
    "pack = Package() # Primer generamos nuestro objeto sobre\n",
    "for i in range(6):\n",
    "    prob = random.randint(0,100) # esto me devuelve una probabilidad\n",
    "    # genero una lista con nombres para que me escoja un nombre al azar\n",
    "    name = random.choice(['Messi', 'Pele', 'Cristiano Ronaldo', 'Maradona', 'Zidane', 'Lewandosky', 'Courtois', 'Buffon'])\n",
    "    # genero una lista de equipos para que escoja uno al azar\n",
    "    team = random.choice(['Real Madrid', 'FC Barcelona', 'PSG', 'Bayern München', 'Santos', 'Feyenoord'])\n",
    "    # lo mismo con nacionalidad y position\n",
    "    nationality = random.choice(['Portugal', 'Argentina', 'Poland', 'Brazil', 'France'])\n",
    "    position = random.choice(['GK','DF','MD','ST'])\n",
    "    \n",
    "    if prob < 55:\n",
    "        ova = random.randint(prob-5, prob+10)\n",
    "        type_of_card = 'Bronze'\n",
    "        prob_esp = random.randint(0,100)\n",
    "        if prob_esp < 80:\n",
    "            card = Card(name=name, card_type=type_of_card, team=team, nationality=nationality, position=position, ova=ova)\n",
    "        elif 80 <= prob_esp < 90:\n",
    "            type_of_card = 'TOTY'\n",
    "            card = Toty_Card(name=name, card_type=type_of_card, team=team, nationality=nationality, position=position, ova=ova)\n",
    "        else:\n",
    "            type_of_card = 'Legend'\n",
    "            card = Legend_Card(name=name, card_type=type_of_card, team=team, nationality=nationality, position=position, ova=ova)\n",
    "    elif 56 <= prob < 75:\n",
    "        ova = random.randint(prob-5, prob+10)\n",
    "        type_of_card = 'Silver'\n",
    "        prob_esp = random.randint(0,100)\n",
    "        if prob_esp < 70:\n",
    "            card = Card(name=name, card_type=type_of_card, team=team, nationality=nationality, position=position, ova=ova)\n",
    "        elif 70 <= prob_esp < 90:\n",
    "            type_of_card = 'TOTY'\n",
    "            card = Toty_Card(name=name, card_type=type_of_card, team=team, nationality=nationality, position=position, ova=ova)\n",
    "        else:\n",
    "            type_of_card = 'Legend'\n",
    "            card = Legend_Card(name=name, card_type=type_of_card, team=team, nationality=nationality, position=position, ova=ova)\n",
    "    else:\n",
    "        ova = random.randint(prob-5, prob+10)\n",
    "        type_of_card = 'Gold'\n",
    "        prob_esp = random.randint(0,100)\n",
    "        if prob_esp < 65:\n",
    "            card = Card(name=name, card_type=type_of_card, team=team, nationality=nationality, position=position, ova=ova)\n",
    "        elif 65 <= prob_esp < 85:\n",
    "            type_of_card = 'TOTY'\n",
    "            card = Toty_Card(name=name, card_type=type_of_card, team=team, nationality=nationality, position=position, ova=ova)\n",
    "        else:\n",
    "            type_of_card = 'Legend'\n",
    "            card = Legend_Card(name=name, card_type=type_of_card, team=team, nationality=nationality, position=position, ova=ova)\n",
    "    \n",
    "    pack.addcard(card)"
   ]
  },
  {
   "cell_type": "code",
   "execution_count": null,
   "id": "5b996d1c",
   "metadata": {},
   "outputs": [],
   "source": [
    "pack.__dict__"
   ]
  },
  {
   "cell_type": "code",
   "execution_count": null,
   "id": "febfca31",
   "metadata": {},
   "outputs": [],
   "source": [
    "pack.open_pack()"
   ]
  },
  {
   "cell_type": "code",
   "execution_count": null,
   "id": "f759fc9c",
   "metadata": {},
   "outputs": [],
   "source": [
    "pack.cards[0]"
   ]
  },
  {
   "cell_type": "code",
   "execution_count": null,
   "id": "6a193b80",
   "metadata": {},
   "outputs": [],
   "source": []
  }
 ],
 "metadata": {
  "kernelspec": {
   "display_name": "IronHack",
   "language": "python",
   "name": "ironhack"
  },
  "language_info": {
   "codemirror_mode": {
    "name": "ipython",
    "version": 3
   },
   "file_extension": ".py",
   "mimetype": "text/x-python",
   "name": "python",
   "nbconvert_exporter": "python",
   "pygments_lexer": "ipython3",
   "version": "3.9.12"
  }
 },
 "nbformat": 4,
 "nbformat_minor": 5
}
