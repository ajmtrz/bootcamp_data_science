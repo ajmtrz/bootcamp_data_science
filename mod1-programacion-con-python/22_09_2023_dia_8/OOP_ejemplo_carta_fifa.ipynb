{
 "cells": [
  {
   "cell_type": "markdown",
   "id": "9a18daa8-5236-41b8-939b-8a82a461ed38",
   "metadata": {},
   "source": [
    "## OOP Ejemplo crear sobre cartas Fifa"
   ]
  },
  {
   "cell_type": "markdown",
   "id": "583a3eb6",
   "metadata": {},
   "source": [
    "**Para comenzar vamos a crear una clase padre o superclase de la generaremos nuestras clases hijas**"
   ]
  },
  {
   "cell_type": "code",
   "execution_count": 7,
   "id": "56fc51d8",
   "metadata": {},
   "outputs": [],
   "source": [
    "import random"
   ]
  },
  {
   "cell_type": "markdown",
   "id": "390c3cd5-85a0-4355-8a8f-c746c97fe1fc",
   "metadata": {},
   "source": [
    "**La clase Card será nuestra clase padre, que tendrá una serie de características generales**"
   ]
  },
  {
   "cell_type": "code",
   "execution_count": 2,
   "id": "67380c96",
   "metadata": {},
   "outputs": [],
   "source": [
    "class Card:\n",
    "    \n",
    "    def __init__(self, name:str, card_type:str, team:str, nationality:str, position:str, ova:int):\n",
    "        self.name = name\n",
    "        self.card_type = card_type\n",
    "        self.team = team\n",
    "        self.nationality = nationality\n",
    "        self.position = position\n",
    "        self.ova = ova\n",
    "    \n",
    "    def create_card_features(self):\n",
    "        \n",
    "        if self.position == 'GK':\n",
    "            features = {'Goalkepping': random.randint(self.ova-20,self.ova),\n",
    "                        'Penalties': random.randint(self.ova-20,self.ova),\n",
    "                        'Reactions': random.randint(self.ova-20,self.ova),\n",
    "                        'Speed': random.randint(self.ova-30,self.ova),\n",
    "                        'Defending': random.randint(self.ova-30,self.ova),\n",
    "                        'Attacking': random.randint(self.ova-30,self.ova)}\n",
    "        else:\n",
    "            features = {'Attacking' : random.randint(self.ova-30,self.ova),\n",
    "                        'Speed': random.randint(self.ova-30,self.ova),\n",
    "                        'Pace': random.randint(self.ova-30,self.ova),\n",
    "                        'Dribbling': random.randint(self.ova-30,self.ova),\n",
    "                        'Defending': random.randint(self.ova-30,self.ova),\n",
    "                        'Mentality': random.randint(self.ova-30,self.ova)}\n",
    "        \n",
    "        return {'Name': self.name,\n",
    "                'Card_Type': self.card_type,\n",
    "                'Team': self.team,\n",
    "                'Nationality': self.nationality,\n",
    "                'Position': self.position,\n",
    "                'OVA': self.ova,\n",
    "                'Features': features}\n",
    "        "
   ]
  },
  {
   "cell_type": "code",
   "execution_count": 23,
   "id": "6d6ad56f",
   "metadata": {},
   "outputs": [],
   "source": [
    "c1 = Card('Messi', 'Gold', 'PSG', 'Argentina', 'ST', 91)"
   ]
  },
  {
   "cell_type": "code",
   "execution_count": 5,
   "id": "92319f99-2e45-46df-b173-33fbea6a53bf",
   "metadata": {},
   "outputs": [
    {
     "data": {
      "text/plain": [
       "['__class__',\n",
       " '__delattr__',\n",
       " '__dict__',\n",
       " '__dir__',\n",
       " '__doc__',\n",
       " '__eq__',\n",
       " '__format__',\n",
       " '__ge__',\n",
       " '__getattribute__',\n",
       " '__gt__',\n",
       " '__hash__',\n",
       " '__init__',\n",
       " '__init_subclass__',\n",
       " '__le__',\n",
       " '__lt__',\n",
       " '__module__',\n",
       " '__ne__',\n",
       " '__new__',\n",
       " '__reduce__',\n",
       " '__reduce_ex__',\n",
       " '__repr__',\n",
       " '__setattr__',\n",
       " '__sizeof__',\n",
       " '__str__',\n",
       " '__subclasshook__',\n",
       " '__weakref__',\n",
       " 'create_card_features']"
      ]
     },
     "execution_count": 5,
     "metadata": {},
     "output_type": "execute_result"
    }
   ],
   "source": [
    "dir(Card)"
   ]
  },
  {
   "cell_type": "code",
   "execution_count": 4,
   "id": "8febcac3",
   "metadata": {},
   "outputs": [
    {
     "data": {
      "text/plain": [
       "{'name': 'Messi',\n",
       " 'card_type': 'Gold',\n",
       " 'team': 'PSG',\n",
       " 'nationality': 'Argentina',\n",
       " 'position': 'ST',\n",
       " 'ova': 91}"
      ]
     },
     "execution_count": 4,
     "metadata": {},
     "output_type": "execute_result"
    }
   ],
   "source": [
    "c1.__dict__"
   ]
  },
  {
   "cell_type": "code",
   "execution_count": 24,
   "id": "11f7a7e4",
   "metadata": {},
   "outputs": [
    {
     "data": {
      "text/plain": [
       "{'Name': 'Messi',\n",
       " 'Card_Type': 'Gold',\n",
       " 'Team': 'PSG',\n",
       " 'Nationality': 'Argentina',\n",
       " 'Position': 'ST',\n",
       " 'OVA': 91,\n",
       " 'Features': {'Attacking': 88,\n",
       "  'Speed': 70,\n",
       "  'Pace': 79,\n",
       "  'Dribbling': 83,\n",
       "  'Defending': 83,\n",
       "  'Mentality': 77}}"
      ]
     },
     "execution_count": 24,
     "metadata": {},
     "output_type": "execute_result"
    }
   ],
   "source": [
    "c1.create_card_features()"
   ]
  },
  {
   "cell_type": "code",
   "execution_count": 9,
   "id": "6be4d9f0",
   "metadata": {},
   "outputs": [],
   "source": [
    "c1_features = c1.create_card_features()"
   ]
  },
  {
   "cell_type": "code",
   "execution_count": 10,
   "id": "bcc66a53",
   "metadata": {},
   "outputs": [
    {
     "data": {
      "text/plain": [
       "dict"
      ]
     },
     "execution_count": 10,
     "metadata": {},
     "output_type": "execute_result"
    }
   ],
   "source": [
    "type(c1_features)"
   ]
  },
  {
   "cell_type": "markdown",
   "id": "656ced27",
   "metadata": {},
   "source": [
    "**Ahora vamos a generar una clase hija que herede las caracteristicas de la clase principal y a la que añadiremos nuevas funcionalidades**"
   ]
  },
  {
   "cell_type": "code",
   "execution_count": 11,
   "id": "df7c2a9f",
   "metadata": {},
   "outputs": [],
   "source": [
    "class Toty_Card(Card):\n",
    "    \n",
    "    def __init__(self, name:str, card_type:str, team:str, nationality:str, position:str, ova:int):\n",
    "        \n",
    "        super().__init__(name, card_type, team, nationality, position, ova) #necesario para poder instanciar nuestra clase\n",
    "        self.ova = ova+5\n",
    "        \n",
    "    def create_card_features(self):\n",
    "        \n",
    "        if self.position == 'GK':\n",
    "            features = {'Goalkepping': random.randint(self.ova-10,self.ova),\n",
    "                        'Penalties': random.randint(self.ova-10,self.ova),\n",
    "                        'Reactions': random.randint(self.ova-10,self.ova),\n",
    "                        'Speed': random.randint(self.ova-10,self.ova),\n",
    "                        'Defending': random.randint(self.ova-10,self.ova),\n",
    "                        'Attacking': random.randint(self.ova-10,self.ova)}\n",
    "        else:\n",
    "            features = {'Attacking' : random.randint(self.ova-10,self.ova),\n",
    "                        'Speed': random.randint(self.ova-10,self.ova),\n",
    "                        'Pace': random.randint(self.ova-10,self.ova),\n",
    "                        'Dribbling': random.randint(self.ova-10,self.ova),\n",
    "                        'Defending': random.randint(self.ova-10,self.ova),\n",
    "                        'Mentality': random.randint(self.ova-10,self.ova)}\n",
    "        \n",
    "        return {'Name': self.name,\n",
    "                'Card_Type': self.card_type,\n",
    "                'Team': self.team,\n",
    "                'Nationality': self.nationality,\n",
    "                'Position': self.position,\n",
    "                'OVA': self.ova,\n",
    "                'Features': features}"
   ]
  },
  {
   "cell_type": "code",
   "execution_count": 12,
   "id": "67f37311",
   "metadata": {},
   "outputs": [],
   "source": [
    "class Legend_Card(Card):\n",
    "    \n",
    "    def __init__(self, name:str, card_type:str, team:str, nationality:str, position:str, ova:int):\n",
    "        \n",
    "        super().__init__(name, card_type, team, nationality, position, ova) # hereda los atributos de la clase padre\n",
    "        \n",
    "        self.ova = ova+random.randint(5,10) # añadimos las nuevas caracteristicas de nuestro objeto\n",
    "        \n",
    "    def create_card_features(self):\n",
    "        \n",
    "        if self.position == 'GK':\n",
    "            features = {'Goalkepping': random.randint(self.ova-5,self.ova+5),\n",
    "                        'Penalties': random.randint(self.ova-5,self.ova+5),\n",
    "                        'Reactions': random.randint(self.ova-5,self.ova+5),\n",
    "                        'Speed': random.randint(self.ova-5,self.ova+5),\n",
    "                        'Defending': random.randint(self.ova-5,self.ova+5),\n",
    "                        'Attacking': random.randint(self.ova-5,self.ova+5)}\n",
    "        else:\n",
    "            features = {'Attacking' : random.randint(self.ova-5,self.ova+5),\n",
    "                        'Speed': random.randint(self.ova-5,self.ova+5),\n",
    "                        'Pace': random.randint(self.ova-5,self.ova+5),\n",
    "                        'Dribbling': random.randint(self.ova-5,self.ova+5),\n",
    "                        'Defending': random.randint(self.ova-5,self.ova+5),\n",
    "                        'Mentality': random.randint(self.ova-5,self.ova+5)}\n",
    "        \n",
    "        return {'Name': self.name,\n",
    "                'Card_Type': self.card_type,\n",
    "                'Team': self.team,\n",
    "                'Nationality': self.nationality,\n",
    "                'Position': self.position,\n",
    "                'OVA': self.ova,\n",
    "                'Features': features}"
   ]
  },
  {
   "cell_type": "code",
   "execution_count": 21,
   "id": "4ededa00-ee0b-40c5-a411-82d7f5e869c9",
   "metadata": {},
   "outputs": [],
   "source": [
    "c2 = Toty_Card(name='Messi', card_type='Legend', team='PSG', nationality='Argentina', position='ST', ova=91 )"
   ]
  },
  {
   "cell_type": "code",
   "execution_count": 22,
   "id": "30f3ac6e-3f21-46ac-b465-2d219c278777",
   "metadata": {},
   "outputs": [
    {
     "data": {
      "text/plain": [
       "{'Name': 'Messi',\n",
       " 'Card_Type': 'Legend',\n",
       " 'Team': 'PSG',\n",
       " 'Nationality': 'Argentina',\n",
       " 'Position': 'ST',\n",
       " 'OVA': 96,\n",
       " 'Features': {'Attacking': 87,\n",
       "  'Speed': 95,\n",
       "  'Pace': 96,\n",
       "  'Dribbling': 90,\n",
       "  'Defending': 87,\n",
       "  'Mentality': 89}}"
      ]
     },
     "execution_count": 22,
     "metadata": {},
     "output_type": "execute_result"
    }
   ],
   "source": [
    "c2.create_card_features()"
   ]
  },
  {
   "cell_type": "code",
   "execution_count": 15,
   "id": "fc2ea47c",
   "metadata": {},
   "outputs": [],
   "source": [
    "c3 = Legend_Card(name='Messi', card_type='Legend', team='PSG', nationality='Argentina', position='ST', ova=91 )"
   ]
  },
  {
   "cell_type": "code",
   "execution_count": 16,
   "id": "e4168083",
   "metadata": {},
   "outputs": [
    {
     "data": {
      "text/plain": [
       "{'Name': 'Messi',\n",
       " 'Card_Type': 'Legend',\n",
       " 'Team': 'PSG',\n",
       " 'Nationality': 'Argentina',\n",
       " 'Position': 'ST',\n",
       " 'OVA': 100,\n",
       " 'Features': {'Attacking': 99,\n",
       "  'Speed': 102,\n",
       "  'Pace': 105,\n",
       "  'Dribbling': 104,\n",
       "  'Defending': 105,\n",
       "  'Mentality': 103}}"
      ]
     },
     "execution_count": 16,
     "metadata": {},
     "output_type": "execute_result"
    }
   ],
   "source": [
    "c3.create_card_features()"
   ]
  },
  {
   "cell_type": "markdown",
   "id": "4016b76b",
   "metadata": {},
   "source": [
    "**Desde una clase podemos llamar a otras clases y usarlas para generar objetos nuevos**"
   ]
  },
  {
   "cell_type": "code",
   "execution_count": 25,
   "id": "68936aff",
   "metadata": {},
   "outputs": [],
   "source": [
    "import time"
   ]
  },
  {
   "cell_type": "code",
   "execution_count": 26,
   "id": "c54af71f",
   "metadata": {},
   "outputs": [],
   "source": [
    "class Package:\n",
    "    def __init__(self):\n",
    "        self.cards = []\n",
    "    \n",
    "    def addcard(self, Card):\n",
    "        self.cards.append(Card.create_card_features())\n",
    "    \n",
    "    def open_pack(self):\n",
    "        for i,c in enumerate(self.cards):\n",
    "            print(f'Carta numero {i+1}\\n')\n",
    "            for k,v in c.items():\n",
    "                print(f'{k}: {v}')\n",
    "            print('\\n-----------\\n')\n",
    "            time.sleep(2)\n"
   ]
  },
  {
   "cell_type": "code",
   "execution_count": 30,
   "id": "8d4a5b25",
   "metadata": {},
   "outputs": [],
   "source": [
    "#Vamos a generar un sobre de cartas\n",
    "pack = Package() # Primer generamos nuestro objeto sobre\n",
    "for i in range(6):\n",
    "    prob = random.randint(0,100) # esto me devuelve una probabilidad\n",
    "    # genero una lista con nombres para que me escoja un nombre al azar\n",
    "    name = random.choice(['Messi', 'Pele', 'Cristiano Ronaldo', 'Maradona', 'Zidane', 'Lewandosky', 'Courtois', 'Buffon'])\n",
    "    # genero una lista de equipos para que escoja uno al azar\n",
    "    team = random.choice(['Real Madrid', 'FC Barcelona', 'PSG', 'Bayern München', 'Santos', 'Feyenoord'])\n",
    "    # lo mismo con nacionalidad y position\n",
    "    nationality = random.choice(['Portugal', 'Argentina', 'Poland', 'Brazil', 'France'])\n",
    "    position = random.choice(['GK','DF','MD','ST'])\n",
    "    \n",
    "    if prob < 55:\n",
    "        ova = random.randint(prob-5, prob+10)\n",
    "        type_of_card = 'Bronze'\n",
    "        prob_esp = random.randint(0,100)\n",
    "        if prob_esp < 80:\n",
    "            card = Card(name=name, card_type=type_of_card, team=team, nationality=nationality, position=position, ova=ova)\n",
    "        elif 80 <= prob_esp < 90:\n",
    "            type_of_card = 'TOTY'\n",
    "            card = Toty_Card(name=name, card_type=type_of_card, team=team, nationality=nationality, position=position, ova=ova)\n",
    "        else:\n",
    "            type_of_card = 'Legend'\n",
    "            card = Legend_Card(name=name, card_type=type_of_card, team=team, nationality=nationality, position=position, ova=ova)\n",
    "    elif 56 <= prob < 75:\n",
    "        ova = random.randint(prob-5, prob+10)\n",
    "        type_of_card = 'Silver'\n",
    "        prob_esp = random.randint(0,100)\n",
    "        if prob_esp < 70:\n",
    "            card = Card(name=name, card_type=type_of_card, team=team, nationality=nationality, position=position, ova=ova)\n",
    "        elif 70 <= prob_esp < 90:\n",
    "            type_of_card = 'TOTY'\n",
    "            card = Toty_Card(name=name, card_type=type_of_card, team=team, nationality=nationality, position=position, ova=ova)\n",
    "        else:\n",
    "            type_of_card = 'Legend'\n",
    "            card = Legend_Card(name=name, card_type=type_of_card, team=team, nationality=nationality, position=position, ova=ova)\n",
    "    else:\n",
    "        ova = random.randint(prob-5, prob+10)\n",
    "        type_of_card = 'Gold'\n",
    "        prob_esp = random.randint(0,100)\n",
    "        if prob_esp < 65:\n",
    "            card = Card(name=name, card_type=type_of_card, team=team, nationality=nationality, position=position, ova=ova)\n",
    "        elif 65 <= prob_esp < 85:\n",
    "            type_of_card = 'TOTY'\n",
    "            card = Toty_Card(name=name, card_type=type_of_card, team=team, nationality=nationality, position=position, ova=ova)\n",
    "        else:\n",
    "            type_of_card = 'Legend'\n",
    "            card = Legend_Card(name=name, card_type=type_of_card, team=team, nationality=nationality, position=position, ova=ova)\n",
    "    \n",
    "    pack.addcard(card)"
   ]
  },
  {
   "cell_type": "code",
   "execution_count": 28,
   "id": "5b996d1c",
   "metadata": {
    "collapsed": true,
    "jupyter": {
     "outputs_hidden": true
    },
    "tags": []
   },
   "outputs": [
    {
     "data": {
      "text/plain": [
       "{'cards': [{'Name': 'Cristiano Ronaldo',\n",
       "   'Card_Type': 'Legend',\n",
       "   'Team': 'PSG',\n",
       "   'Nationality': 'Brazil',\n",
       "   'Position': 'DF',\n",
       "   'OVA': 42,\n",
       "   'Features': {'Attacking': 37,\n",
       "    'Speed': 45,\n",
       "    'Pace': 45,\n",
       "    'Dribbling': 41,\n",
       "    'Defending': 42,\n",
       "    'Mentality': 47}},\n",
       "  {'Name': 'Courtois',\n",
       "   'Card_Type': 'Bronze',\n",
       "   'Team': 'Real Madrid',\n",
       "   'Nationality': 'Portugal',\n",
       "   'Position': 'ST',\n",
       "   'OVA': 47,\n",
       "   'Features': {'Attacking': 39,\n",
       "    'Speed': 38,\n",
       "    'Pace': 24,\n",
       "    'Dribbling': 46,\n",
       "    'Defending': 34,\n",
       "    'Mentality': 37}},\n",
       "  {'Name': 'Courtois',\n",
       "   'Card_Type': 'Gold',\n",
       "   'Team': 'PSG',\n",
       "   'Nationality': 'France',\n",
       "   'Position': 'GK',\n",
       "   'OVA': 89,\n",
       "   'Features': {'Goalkepping': 87,\n",
       "    'Penalties': 72,\n",
       "    'Reactions': 89,\n",
       "    'Speed': 59,\n",
       "    'Defending': 88,\n",
       "    'Attacking': 63}},\n",
       "  {'Name': 'Courtois',\n",
       "   'Card_Type': 'Gold',\n",
       "   'Team': 'FC Barcelona',\n",
       "   'Nationality': 'Brazil',\n",
       "   'Position': 'GK',\n",
       "   'OVA': 85,\n",
       "   'Features': {'Goalkepping': 83,\n",
       "    'Penalties': 85,\n",
       "    'Reactions': 81,\n",
       "    'Speed': 84,\n",
       "    'Defending': 76,\n",
       "    'Attacking': 68}},\n",
       "  {'Name': 'Zidane',\n",
       "   'Card_Type': 'Silver',\n",
       "   'Team': 'Bayern München',\n",
       "   'Nationality': 'France',\n",
       "   'Position': 'MD',\n",
       "   'OVA': 65,\n",
       "   'Features': {'Attacking': 59,\n",
       "    'Speed': 45,\n",
       "    'Pace': 52,\n",
       "    'Dribbling': 37,\n",
       "    'Defending': 47,\n",
       "    'Mentality': 42}},\n",
       "  {'Name': 'Zidane',\n",
       "   'Card_Type': 'Legend',\n",
       "   'Team': 'PSG',\n",
       "   'Nationality': 'Poland',\n",
       "   'Position': 'MD',\n",
       "   'OVA': 111,\n",
       "   'Features': {'Attacking': 111,\n",
       "    'Speed': 107,\n",
       "    'Pace': 113,\n",
       "    'Dribbling': 114,\n",
       "    'Defending': 112,\n",
       "    'Mentality': 109}}]}"
      ]
     },
     "execution_count": 28,
     "metadata": {},
     "output_type": "execute_result"
    }
   ],
   "source": [
    "pack.__dict__"
   ]
  },
  {
   "cell_type": "code",
   "execution_count": 31,
   "id": "febfca31",
   "metadata": {},
   "outputs": [
    {
     "name": "stdout",
     "output_type": "stream",
     "text": [
      "Carta numero 1\n",
      "\n",
      "Name: Courtois\n",
      "Card_Type: Gold\n",
      "Team: Real Madrid\n",
      "Nationality: France\n",
      "Position: GK\n",
      "OVA: 88\n",
      "Features: {'Goalkepping': 71, 'Penalties': 86, 'Reactions': 88, 'Speed': 86, 'Defending': 67, 'Attacking': 83}\n",
      "\n",
      "-----------\n",
      "\n",
      "Carta numero 2\n",
      "\n",
      "Name: Maradona\n",
      "Card_Type: Gold\n",
      "Team: PSG\n",
      "Nationality: Brazil\n",
      "Position: GK\n",
      "OVA: 87\n",
      "Features: {'Goalkepping': 74, 'Penalties': 83, 'Reactions': 83, 'Speed': 77, 'Defending': 70, 'Attacking': 64}\n",
      "\n",
      "-----------\n",
      "\n",
      "Carta numero 3\n",
      "\n",
      "Name: Maradona\n",
      "Card_Type: Silver\n",
      "Team: PSG\n",
      "Nationality: Argentina\n",
      "Position: DF\n",
      "OVA: 74\n",
      "Features: {'Attacking': 59, 'Speed': 62, 'Pace': 55, 'Dribbling': 53, 'Defending': 60, 'Mentality': 50}\n",
      "\n",
      "-----------\n",
      "\n",
      "Carta numero 4\n",
      "\n",
      "Name: Buffon\n",
      "Card_Type: Legend\n",
      "Team: FC Barcelona\n",
      "Nationality: France\n",
      "Position: DF\n",
      "OVA: 97\n",
      "Features: {'Attacking': 93, 'Speed': 100, 'Pace': 98, 'Dribbling': 92, 'Defending': 93, 'Mentality': 98}\n",
      "\n",
      "-----------\n",
      "\n",
      "Carta numero 5\n",
      "\n",
      "Name: Pele\n",
      "Card_Type: Gold\n",
      "Team: PSG\n",
      "Nationality: Argentina\n",
      "Position: ST\n",
      "OVA: 80\n",
      "Features: {'Attacking': 69, 'Speed': 54, 'Pace': 66, 'Dribbling': 53, 'Defending': 58, 'Mentality': 64}\n",
      "\n",
      "-----------\n",
      "\n",
      "Carta numero 6\n",
      "\n",
      "Name: Cristiano Ronaldo\n",
      "Card_Type: Bronze\n",
      "Team: FC Barcelona\n",
      "Nationality: Portugal\n",
      "Position: MD\n",
      "OVA: 48\n",
      "Features: {'Attacking': 47, 'Speed': 25, 'Pace': 27, 'Dribbling': 29, 'Defending': 46, 'Mentality': 21}\n",
      "\n",
      "-----------\n",
      "\n"
     ]
    }
   ],
   "source": [
    "pack.open_pack()"
   ]
  },
  {
   "cell_type": "code",
   "execution_count": 32,
   "id": "f759fc9c",
   "metadata": {},
   "outputs": [
    {
     "data": {
      "text/plain": [
       "{'Name': 'Courtois',\n",
       " 'Card_Type': 'Gold',\n",
       " 'Team': 'Real Madrid',\n",
       " 'Nationality': 'France',\n",
       " 'Position': 'GK',\n",
       " 'OVA': 88,\n",
       " 'Features': {'Goalkepping': 71,\n",
       "  'Penalties': 86,\n",
       "  'Reactions': 88,\n",
       "  'Speed': 86,\n",
       "  'Defending': 67,\n",
       "  'Attacking': 83}}"
      ]
     },
     "execution_count": 32,
     "metadata": {},
     "output_type": "execute_result"
    }
   ],
   "source": [
    "pack.cards[0]"
   ]
  },
  {
   "cell_type": "code",
   "execution_count": null,
   "id": "6a193b80",
   "metadata": {},
   "outputs": [],
   "source": []
  }
 ],
 "metadata": {
  "kernelspec": {
   "display_name": "IronHack",
   "language": "python",
   "name": "ironhack"
  },
  "language_info": {
   "codemirror_mode": {
    "name": "ipython",
    "version": 3
   },
   "file_extension": ".py",
   "mimetype": "text/x-python",
   "name": "python",
   "nbconvert_exporter": "python",
   "pygments_lexer": "ipython3",
   "version": "3.9.12"
  }
 },
 "nbformat": 4,
 "nbformat_minor": 5
}
