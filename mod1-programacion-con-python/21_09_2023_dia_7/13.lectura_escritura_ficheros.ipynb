{
 "cells": [
  {
   "cell_type": "markdown",
   "id": "32512ffb",
   "metadata": {},
   "source": [
    "## Lectura y Escritura de archivos\n",
    "\n",
    "En python para leer y escribir un archivo (o fichero) usamos la función **`open`**. Ésta función toma como parametros el **`path`** o ruta de un archivo y el modo de apertura, que pueden ser cualquiera de los siguientes (por defecto es **`r`**):\n",
    "\n",
    "\n",
    "|Modo    |Descripción                                                          |\n",
    "|--------|---------------------------------------------------------------------|\n",
    "|**`r`** |Abre el fichero en modo lectura.                                     |\n",
    "|**`r+`**|Abre el fichero en modo lectura y escritura. Sobreescribe el archivo.|\n",
    "|**`w`** |Abre el fichero solo en modo escritura. Sobreescribe el archivo.     |\n",
    "|**`a`** |Añade una linea al final del fichero en caso de que ya exista.       |\n",
    "|**`x`** |Crea un nuevo archivo y lo abre para escritura.                      |\n",
    "|**`br`**|Abre ficheros binarios en modo lectura (imagenes).                   |\n",
    "|**`bw`**|Abre ficheros binarios en modo escritura. Sobreescribe el archivo.   |\n",
    "|**`b+`**|Abre ficheros binarios en modo lectura y escritura.                  |\n",
    "\n",
    "Para usar la función **`open`** tenemos principalmente 2 formas:\n",
    "1. Usando **`open()`** y el método **`close()`**:\n",
    " \n",
    "```python\n",
    "    file = open(path, mode)\n",
    "    data = file.read()\n",
    "    file.close()\n",
    "```\n",
    "2. Usando la función **`with open()`**:\n",
    "```python\n",
    "    with open(path, mode) as file:\n",
    "        data = file.read()\n",
    "```\n",
    "\n",
    "Cuando solo usamos la función **`open()`** tenemos que \"cerrar\" el archivo \"manualmente\", en cambio si usamos **`with open()`** no tenemos que preocuparnos por esto, ya que su principal función es abrir y cerrar el archivo, por lo que es más recomendado usar la segunda forma, además de que simplifica el código.\n",
    "\n",
    "Un tercer parametro puede ser indicado a la función **`open()`** y este es el **`encoding`**, por defecto no usa ninguno encoding, esto tiene un uso especial si tenemos ficheros con caracteres especiales, como los acentos o la letra **ñ**. El encoding más usado para esto sería **`utf-8`**.\n",
    "\n",
    "\n",
    "### Escritura de archivos\n",
    "\n",
    "Para escribir archivos usamos los siguientes métodos:\n",
    "\n",
    "|Método                     |Descripción                                                 |\n",
    "|---------------------------|------------------------------------------------------------|\n",
    "|**`file.write(string)`**   |Inserta la cadena \"string\" en una sola linea al archivo.    |\n",
    "|**`file.writelines(list)`**|Inserta las cadenas de la lista \"list\" al final del archivo.|\n",
    "\n",
    "**Aunque no es obligatorio, es buena práctica agregar el salto de linea `\\n` en cada string que agregemos al fichero.**\n",
    "\n",
    "\n",
    "### Lectura de archivos\n",
    "\n",
    "Para leer archivos usamos los siguientes métodos:\n",
    "\n",
    "|Método                     |Descripción                                                                                                |\n",
    "|---------------------------|----------------------------------------------------------------------------------------------------------|\n",
    "|**`file.read(n)`**    |Lee los primero \"n\" caracteres del archivo, si no se especifica \"n\" lee todo el archivo en una sola cadena.|\n",
    "|**`file.readline(n)`** |Lee una sola linea del archivo, si se especifica \"n\", leerá los primeros n-caracteres de esa linea.            |\n",
    "|**`file.readlines()`**|Lee todo el archivo y retorna en una lista cada linea del archivo.                                            |"
   ]
  },
  {
   "cell_type": "code",
   "execution_count": 4,
   "id": "f536fa17",
   "metadata": {},
   "outputs": [
    {
     "data": {
      "text/plain": [
       "'1) Primera linea.\\n2) Segundalinea.\\n3) Tercera linea.\\n4) Cuarta linea.\\n5) Quinta linea.\\n6) Sexta linea.\\n7) Septima linea.\\n8) Octava linea.\\n9) Novena linea.\\n10) Decima linea.\\n'"
      ]
     },
     "execution_count": 4,
     "metadata": {},
     "output_type": "execute_result"
    }
   ],
   "source": [
    "# Sintaxis 1\n",
    "# Leer todo el archivo con .read()\n",
    "\n",
    "file = open(\"ejemplo_1.txt\", \"r\") # creamos objeto de lectura\n",
    "data = file.read() # decidimos que hacer con el objeto de lectura\n",
    "file.close() # cerramos el objeto\n",
    "\n",
    "data\n",
    "\n",
    "# Nos retorna un string"
   ]
  },
  {
   "cell_type": "code",
   "execution_count": 5,
   "id": "fcd0c2f6",
   "metadata": {},
   "outputs": [
    {
     "name": "stdout",
     "output_type": "stream",
     "text": [
      "1) Primera linea.\n",
      "2) Segundalinea.\n",
      "3) Tercera linea.\n",
      "4) Cuarta linea.\n",
      "5) Quinta linea.\n",
      "6) Sexta linea.\n",
      "7) Septima linea.\n",
      "8) Octava linea.\n",
      "9) Novena linea.\n",
      "10) Decima linea.\n",
      "\n"
     ]
    }
   ],
   "source": [
    "print(data)"
   ]
  },
  {
   "cell_type": "code",
   "execution_count": 10,
   "id": "5b13a33a-2812-495c-b87e-00d8151a09b2",
   "metadata": {},
   "outputs": [
    {
     "data": {
      "text/plain": [
       "'1) Primera linea.\\n2) Segundalinea.\\n3) Tercera linea.\\n4) Cuarta linea.\\n5) Quinta linea.\\n6) Sexta linea.\\n7) Septima linea.\\n8) Octava linea.\\n9) Novena linea.\\n10) Decima linea.\\n'"
      ]
     },
     "execution_count": 10,
     "metadata": {},
     "output_type": "execute_result"
    }
   ],
   "source": [
    "# Sintaxis 1\n",
    "# Leer todo el archivo con .read()\n",
    "\n",
    "file2 = open(\"C:/Users/botic/Proyectos/dsb06rt/mod1-programacion-con-python/21_09_2023_dia_7/ejemplo_1.txt\", \"r\")\n",
    "data2 = file2.read()\n",
    "file2.close()\n",
    "\n",
    "data2\n",
    "\n",
    "# Nos retorna un string"
   ]
  },
  {
   "cell_type": "code",
   "execution_count": 11,
   "id": "41ce460f-9b88-4130-9da4-3a239ccbf88a",
   "metadata": {},
   "outputs": [
    {
     "name": "stdout",
     "output_type": "stream",
     "text": [
      "1) Primera linea.\n",
      "2) Segundalinea.\n",
      "3) Tercera linea.\n",
      "4) Cuarta linea.\n",
      "5) Quinta linea.\n",
      "6) Sexta linea.\n",
      "7) Septima linea.\n",
      "8) Octava linea.\n",
      "9) Novena linea.\n",
      "10) Decima linea.\n",
      "\n"
     ]
    }
   ],
   "source": [
    "print(data2)"
   ]
  },
  {
   "cell_type": "code",
   "execution_count": 30,
   "id": "10e49770",
   "metadata": {},
   "outputs": [
    {
     "data": {
      "text/plain": [
       "'1) Primera linea.\\n2) Segundalinea.\\n3) Tercera linea.\\n4) Cuarta linea.\\n5) Quinta linea.\\n6) Sexta linea.\\n7) Septima linea.\\n8) Octava linea.\\n9) Novena linea.\\n10) Decima linea.\\n'"
      ]
     },
     "execution_count": 30,
     "metadata": {},
     "output_type": "execute_result"
    }
   ],
   "source": [
    "# Sintaxis 2\n",
    "# Leer todo el archivo con .read()\n",
    "\n",
    "with open(\"ejemplo_1.txt\", \"r\") as file:\n",
    "    data_1 = file.read()\n",
    "    \n",
    "data_1\n",
    "\n",
    "# Nos retorna un string"
   ]
  },
  {
   "cell_type": "code",
   "execution_count": 13,
   "id": "5f991f80",
   "metadata": {},
   "outputs": [
    {
     "name": "stdout",
     "output_type": "stream",
     "text": [
      "1) Primera linea.\n",
      "2) Segundalinea.\n",
      "3) Tercera linea.\n",
      "4) Cuarta linea.\n",
      "5) Quinta linea.\n",
      "6) Sexta linea.\n",
      "7) Septima linea.\n",
      "8) Octava linea.\n",
      "9) Novena linea.\n",
      "10) Decima linea.\n",
      "\n"
     ]
    }
   ],
   "source": [
    "print(data_1)"
   ]
  },
  {
   "cell_type": "code",
   "execution_count": 27,
   "id": "4f3d4499",
   "metadata": {},
   "outputs": [
    {
     "data": {
      "text/plain": [
       "'1) Primera linea.\\n'"
      ]
     },
     "execution_count": 27,
     "metadata": {},
     "output_type": "execute_result"
    }
   ],
   "source": [
    "# Sintaxis 2\n",
    "# Leer todo el archivo con .readline()\n",
    "\n",
    "with open(\"ejemplo_1.txt\", \"r\") as file:\n",
    "    data = file.readline()\n",
    "    \n",
    "data\n",
    "\n",
    "# Con .readline() solo leemos una linea y nos retorna en forma de string"
   ]
  },
  {
   "cell_type": "code",
   "execution_count": 35,
   "id": "50efb33b",
   "metadata": {},
   "outputs": [
    {
     "data": {
      "text/plain": [
       "['1) Primera linea.\\n',\n",
       " '2) Segundalinea.\\n',\n",
       " '3) Tercera linea.\\n',\n",
       " '4) Cuarta linea.\\n',\n",
       " '5) Quinta linea.\\n',\n",
       " '6) Sexta linea.\\n',\n",
       " '7) Septima linea.\\n',\n",
       " '8) Octava linea.\\n',\n",
       " '9) Novena linea.\\n',\n",
       " '10) Decima linea.\\n']"
      ]
     },
     "execution_count": 35,
     "metadata": {},
     "output_type": "execute_result"
    }
   ],
   "source": [
    "# Sintaxis 2\n",
    "# Leer todo el archivo con .readlines()\n",
    "\n",
    "with open(\"ejemplo_1.txt\", \"r\") as file:\n",
    "    data = file.readlines()\n",
    "    \n",
    "data\n",
    "\n",
    "# Nos retorna una lista"
   ]
  },
  {
   "cell_type": "code",
   "execution_count": 36,
   "id": "fc5605fe",
   "metadata": {},
   "outputs": [],
   "source": [
    "# Vamos a crear un archivo llamado \"ejemplo_2.txt\", que sea identico a \"ejemplo_1.txt\"\n",
    "\n",
    "with open(\"ejemplo_2.txt\", \"w\") as file:\n",
    "    file.write(data_1)"
   ]
  },
  {
   "cell_type": "code",
   "execution_count": 37,
   "id": "bc8bb105-fc53-4813-ac4d-f8882fc7af9f",
   "metadata": {},
   "outputs": [
    {
     "data": {
      "text/plain": [
       "['1) Primera linea.\\n',\n",
       " '2) Segundalinea.\\n',\n",
       " '3) Tercera linea.\\n',\n",
       " '4) Cuarta linea.\\n',\n",
       " '5) Quinta linea.\\n',\n",
       " '6) Sexta linea.\\n',\n",
       " '7) Septima linea.\\n',\n",
       " '8) Octava linea.\\n',\n",
       " '9) Novena linea.\\n',\n",
       " '10) Decima linea.\\n']"
      ]
     },
     "execution_count": 37,
     "metadata": {},
     "output_type": "execute_result"
    }
   ],
   "source": [
    "with open(\"ejemplo_2.txt\", \"r\") as file:\n",
    "    data = file.readlines()\n",
    "    \n",
    "data"
   ]
  },
  {
   "cell_type": "code",
   "execution_count": 38,
   "id": "17bbe207",
   "metadata": {},
   "outputs": [],
   "source": [
    "# Vamos a agregar al archivo de \"ejemplo_2.txt\" el string \"Nueva linea\"\n",
    "\n",
    "with open(\"ejemplo_2.txt\", \"w\") as file:\n",
    "    file.write(\"Nueva linea\\n\")"
   ]
  },
  {
   "cell_type": "code",
   "execution_count": 39,
   "id": "111484d8",
   "metadata": {},
   "outputs": [
    {
     "name": "stdout",
     "output_type": "stream",
     "text": [
      "Nueva linea\n",
      "\n"
     ]
    }
   ],
   "source": [
    "# Veamos el resultado    \n",
    "    \n",
    "with open(\"ejemplo_2.txt\", \"r\") as file:\n",
    "    print(file.read())\n",
    "    \n",
    "    \n",
    "# Como el modo \"w\" sobreescribe el archivo, se pierde la información\n",
    "# Para no perder la información se usa \"a\""
   ]
  },
  {
   "cell_type": "code",
   "execution_count": 40,
   "id": "b313b0db",
   "metadata": {},
   "outputs": [
    {
     "name": "stdout",
     "output_type": "stream",
     "text": [
      "Nueva linea\n",
      "Nuevo intento\n",
      "\n"
     ]
    }
   ],
   "source": [
    "# Vamos a agregar al archivo \"Nuevo intento\", esta vez intentando no sobreescribir el archivo\n",
    "\n",
    "with open(\"ejemplo_2.txt\", \"a\") as file:\n",
    "    file.write(\"Nuevo intento\\n\")\n",
    "    \n",
    "with open(\"ejemplo_2.txt\", \"r\") as file:\n",
    "    print(file.read())"
   ]
  },
  {
   "cell_type": "code",
   "execution_count": 41,
   "id": "34f990f9",
   "metadata": {},
   "outputs": [
    {
     "ename": "FileNotFoundError",
     "evalue": "[Errno 2] No such file or directory: 'ejemplo_3.txt'",
     "output_type": "error",
     "traceback": [
      "\u001b[1;31m---------------------------------------------------------------------------\u001b[0m",
      "\u001b[1;31mFileNotFoundError\u001b[0m                         Traceback (most recent call last)",
      "\u001b[1;32m~\\AppData\\Local\\Temp/ipykernel_23128/1414022433.py\u001b[0m in \u001b[0;36m<module>\u001b[1;34m\u001b[0m\n\u001b[1;32m----> 1\u001b[1;33m \u001b[1;32mwith\u001b[0m \u001b[0mopen\u001b[0m\u001b[1;33m(\u001b[0m\u001b[1;34m\"ejemplo_3.txt\"\u001b[0m\u001b[1;33m,\u001b[0m \u001b[1;34m\"r\"\u001b[0m\u001b[1;33m)\u001b[0m \u001b[1;32mas\u001b[0m \u001b[0mfile\u001b[0m\u001b[1;33m:\u001b[0m\u001b[1;33m\u001b[0m\u001b[1;33m\u001b[0m\u001b[0m\n\u001b[0m\u001b[0;32m      2\u001b[0m     \u001b[0mdata\u001b[0m \u001b[1;33m=\u001b[0m \u001b[0mfile\u001b[0m\u001b[1;33m.\u001b[0m\u001b[0mread\u001b[0m\u001b[1;33m(\u001b[0m\u001b[1;33m)\u001b[0m\u001b[1;33m\u001b[0m\u001b[1;33m\u001b[0m\u001b[0m\n\u001b[0;32m      3\u001b[0m \u001b[1;33m\u001b[0m\u001b[0m\n\u001b[0;32m      4\u001b[0m \u001b[0mdata\u001b[0m\u001b[1;33m\u001b[0m\u001b[1;33m\u001b[0m\u001b[0m\n",
      "\u001b[1;31mFileNotFoundError\u001b[0m: [Errno 2] No such file or directory: 'ejemplo_3.txt'"
     ]
    }
   ],
   "source": [
    "with open(\"ejemplo_3.txt\", \"r\") as file:\n",
    "    data = file.read()\n",
    "    \n",
    "data"
   ]
  },
  {
   "cell_type": "markdown",
   "id": "c09de3cf",
   "metadata": {},
   "source": [
    "### Libreria pickle\n",
    "\n",
    "**`pickle`** es una libreria que viene por defecto en python, esta libreria escribe y lee ficheros en modo binario. Estos archivos tiene extensión **`.pkl`**.\n",
    "\n",
    "La principal ventaja de usar **`pickle`** es que podemos guardar de forma binaria cualquier objeto en python y este objeto conserva sus propiedades. En los ejemplos anteriores todo se guardaba como cadena de caracteres. Además, los archivos binarios ocupan menos espacio en memoria.\n",
    "\n",
    "|Funcion               |Descripción                                                                                                     |\n",
    "|----------------------|----------------------------------------------------------------------------------------------------------------|\n",
    "|**`.dump(obj, file)`**|Toma como parametro el objeto que se quiere guardar y el objeto file, guarda el objeto en un archivo binario.|\n",
    "|**`.load(file)`**|Toma como parametro el objeto file y lee el fichero binario.                                                   |"
   ]
  },
  {
   "cell_type": "code",
   "execution_count": 42,
   "id": "5ad4c2a2",
   "metadata": {},
   "outputs": [],
   "source": [
    "import pickle"
   ]
  },
  {
   "cell_type": "code",
   "execution_count": 43,
   "id": "6a608b57",
   "metadata": {},
   "outputs": [],
   "source": [
    "lista = [0, 1, 2, 3, 4, 5, 6, 7, 8, 9]"
   ]
  },
  {
   "cell_type": "code",
   "execution_count": 44,
   "id": "075ec231",
   "metadata": {},
   "outputs": [],
   "source": [
    "with open(\"ejemplo_binario.pkl\", \"bw\") as file:\n",
    "    pickle.dump(lista, file)"
   ]
  },
  {
   "cell_type": "code",
   "execution_count": 45,
   "id": "f8a6c05b",
   "metadata": {},
   "outputs": [
    {
     "data": {
      "text/plain": [
       "[0, 1, 2, 3, 4, 5, 6, 7, 8, 9]"
      ]
     },
     "execution_count": 45,
     "metadata": {},
     "output_type": "execute_result"
    }
   ],
   "source": [
    "with open(\"ejemplo_binario.pkl\", \"br\") as file:\n",
    "    lista_2 = pickle.load(file)\n",
    "    \n",
    "lista_2"
   ]
  },
  {
   "cell_type": "code",
   "execution_count": 46,
   "id": "89eb279b",
   "metadata": {},
   "outputs": [
    {
     "data": {
      "text/plain": [
       "list"
      ]
     },
     "execution_count": 46,
     "metadata": {},
     "output_type": "execute_result"
    }
   ],
   "source": [
    "type(lista_2)"
   ]
  },
  {
   "cell_type": "code",
   "execution_count": 47,
   "id": "ab5325c6-d7ae-468a-a2b9-88305293b3c0",
   "metadata": {},
   "outputs": [],
   "source": [
    "string = 'Hola Mundo'\n",
    "\n",
    "with open(\"ejemplo_binario_2.pkl\", \"bw\") as file2:\n",
    "    pickle.dump(string, file2)"
   ]
  },
  {
   "cell_type": "code",
   "execution_count": 50,
   "id": "7c018117-8053-4d15-a92e-d6a7ec022caa",
   "metadata": {},
   "outputs": [
    {
     "data": {
      "text/plain": [
       "str"
      ]
     },
     "execution_count": 50,
     "metadata": {},
     "output_type": "execute_result"
    }
   ],
   "source": [
    "type(string)"
   ]
  },
  {
   "cell_type": "code",
   "execution_count": 53,
   "id": "4ed7c276-d149-4da1-b4e1-350c8990260d",
   "metadata": {},
   "outputs": [
    {
     "data": {
      "text/plain": [
       "'Hola Mundo'"
      ]
     },
     "execution_count": 53,
     "metadata": {},
     "output_type": "execute_result"
    }
   ],
   "source": [
    "with open(\"ejemplo_binario_2.pkl\", \"br\") as ejemplo_binario_2:\n",
    "    string2 = pickle.load(ejemplo_binario_2)\n",
    "string2"
   ]
  },
  {
   "cell_type": "markdown",
   "id": "ea41b4c7-1374-4c9e-ae53-90bf18bb60d1",
   "metadata": {},
   "source": [
    "ejemplo_binario_2 es el nombre que le damos a la variable del objeto que hemos abierto con open()"
   ]
  },
  {
   "cell_type": "code",
   "execution_count": 54,
   "id": "82535243-5eb1-4bb9-b3dd-e3dec7594cc7",
   "metadata": {},
   "outputs": [
    {
     "data": {
      "text/plain": [
       "<_io.BufferedReader name='ejemplo_binario_2.pkl'>"
      ]
     },
     "execution_count": 54,
     "metadata": {},
     "output_type": "execute_result"
    }
   ],
   "source": [
    "ejemplo_binario_2"
   ]
  },
  {
   "cell_type": "code",
   "execution_count": 49,
   "id": "d4def730-8627-4ed9-bcb7-51322600c799",
   "metadata": {},
   "outputs": [
    {
     "data": {
      "text/plain": [
       "str"
      ]
     },
     "execution_count": 49,
     "metadata": {},
     "output_type": "execute_result"
    }
   ],
   "source": [
    "type(string2)"
   ]
  },
  {
   "cell_type": "code",
   "execution_count": 56,
   "id": "e9c6e99d-c039-4a42-a726-863bc66027e9",
   "metadata": {},
   "outputs": [
    {
     "data": {
      "text/plain": [
       "'Hola Mundo'"
      ]
     },
     "execution_count": 56,
     "metadata": {},
     "output_type": "execute_result"
    }
   ],
   "source": [
    "ejemplo_binario_2 = open(\"ejemplo_binario_2.pkl\", \"br\")\n",
    "string2 = pickle.load(open(\"ejemplo_binario_2.pkl\", \"br\"))\n",
    "ejemplo_binario_2.close()\n",
    "string2"
   ]
  },
  {
   "cell_type": "markdown",
   "id": "f67847e8",
   "metadata": {
    "tags": []
   },
   "source": [
    "### Libreria os\n",
    "\n",
    "El modulo **`os`** nos permite realizar operaciones dependiente del Sistema Operativo, con este modulo vamos a ser capaces de recorrer los distintos directorios y ficheros del sistema.\n",
    "\n",
    "|Funciones                        |Descripción                                                                                           |\n",
    "|---------------------------------|-----------------------------------------------------------------------------------------------------|\n",
    "|**`os.getcwd()`**                |Nos retorna la ruta en la que estamos trabajando en forma de string.                                 |\n",
    "|**`os.chdir(path)`**             |Nos permite cambiar de ruta de trabajo, tiene como parametro la ruta a la que queremos cambiar.|\n",
    "|**`os.listdir()`**               |Nos retorna una lista con el nombre de los directorios y ficheros de esa ruta.                       |\n",
    "|**`os.mkdir(path)`**             |Crea un nuevo directorio en la ruta que le indiquemos.                                               |\n",
    "|**`os.rmdir(path)`**             |Elimina el directorio de la ruta que le indiquemos.                                                   |\n",
    "|**`os.rename(nombre1, nombre2)`**|Renombra un archivo/directorio, toma 2 parametros, el nombre del objeto y el nuevo nombre.           |\n",
    "|**`os.stat(path)`**              |Retorna la información de ese archivo/fichero.                                                       |"
   ]
  },
  {
   "cell_type": "code",
   "execution_count": 57,
   "id": "807218cf",
   "metadata": {},
   "outputs": [],
   "source": [
    "import os"
   ]
  },
  {
   "cell_type": "code",
   "execution_count": 58,
   "id": "b66cfdd3",
   "metadata": {},
   "outputs": [
    {
     "data": {
      "text/plain": [
       "'C:\\\\Users\\\\botic\\\\Proyectos\\\\dsb06rt\\\\mod1-programacion-con-python\\\\21_09_2023_dia_7'"
      ]
     },
     "execution_count": 58,
     "metadata": {},
     "output_type": "execute_result"
    }
   ],
   "source": [
    "os.getcwd()"
   ]
  },
  {
   "cell_type": "code",
   "execution_count": 59,
   "id": "8f4c14e7",
   "metadata": {},
   "outputs": [],
   "source": [
    "os.chdir(\"..\")"
   ]
  },
  {
   "cell_type": "code",
   "execution_count": 60,
   "id": "57a3932f",
   "metadata": {},
   "outputs": [
    {
     "data": {
      "text/plain": [
       "'C:\\\\Users\\\\botic\\\\Proyectos\\\\dsb06rt\\\\mod1-programacion-con-python'"
      ]
     },
     "execution_count": 60,
     "metadata": {},
     "output_type": "execute_result"
    }
   ],
   "source": [
    "os.getcwd()"
   ]
  },
  {
   "cell_type": "code",
   "execution_count": 61,
   "id": "5de9d68d",
   "metadata": {},
   "outputs": [
    {
     "data": {
      "text/plain": [
       "['.git',\n",
       " '.ipynb_checkpoints',\n",
       " '11_09_2023_dia_1',\n",
       " '12_09_2023_dia_2',\n",
       " '13_09_2023_dia_3',\n",
       " '14_09_2023_dia_4',\n",
       " '19_09_2023_dia_5',\n",
       " '20_09_2023_dia_6',\n",
       " '21_09_2023_dia_7',\n",
       " 'dia_7',\n",
       " 'images']"
      ]
     },
     "execution_count": 61,
     "metadata": {},
     "output_type": "execute_result"
    }
   ],
   "source": [
    "os.listdir()"
   ]
  },
  {
   "cell_type": "code",
   "execution_count": 62,
   "id": "8137df93",
   "metadata": {},
   "outputs": [],
   "source": [
    "os.mkdir(\"prueba_os\")"
   ]
  },
  {
   "cell_type": "code",
   "execution_count": 63,
   "id": "a6aebc4a",
   "metadata": {},
   "outputs": [
    {
     "data": {
      "text/plain": [
       "['.git',\n",
       " '.ipynb_checkpoints',\n",
       " '11_09_2023_dia_1',\n",
       " '12_09_2023_dia_2',\n",
       " '13_09_2023_dia_3',\n",
       " '14_09_2023_dia_4',\n",
       " '19_09_2023_dia_5',\n",
       " '20_09_2023_dia_6',\n",
       " '21_09_2023_dia_7',\n",
       " 'dia_7',\n",
       " 'images',\n",
       " 'prueba_os']"
      ]
     },
     "execution_count": 63,
     "metadata": {},
     "output_type": "execute_result"
    }
   ],
   "source": [
    "os.listdir()"
   ]
  },
  {
   "cell_type": "code",
   "execution_count": 64,
   "id": "9eda6119",
   "metadata": {},
   "outputs": [],
   "source": [
    "os.rmdir(\"prueba_os\")"
   ]
  },
  {
   "cell_type": "code",
   "execution_count": 65,
   "id": "bec966f4",
   "metadata": {},
   "outputs": [
    {
     "data": {
      "text/plain": [
       "['.git',\n",
       " '.ipynb_checkpoints',\n",
       " '11_09_2023_dia_1',\n",
       " '12_09_2023_dia_2',\n",
       " '13_09_2023_dia_3',\n",
       " '14_09_2023_dia_4',\n",
       " '19_09_2023_dia_5',\n",
       " '20_09_2023_dia_6',\n",
       " '21_09_2023_dia_7',\n",
       " 'dia_7',\n",
       " 'images']"
      ]
     },
     "execution_count": 65,
     "metadata": {},
     "output_type": "execute_result"
    }
   ],
   "source": [
    "os.listdir()"
   ]
  },
  {
   "cell_type": "code",
   "execution_count": 66,
   "id": "67c19c7a",
   "metadata": {},
   "outputs": [
    {
     "ename": "FileNotFoundError",
     "evalue": "[WinError 2] El sistema no puede encontrar el archivo especificado: 'archivo_prueba.txt' -> 'prueba_rename.txt'",
     "output_type": "error",
     "traceback": [
      "\u001b[1;31m---------------------------------------------------------------------------\u001b[0m",
      "\u001b[1;31mFileNotFoundError\u001b[0m                         Traceback (most recent call last)",
      "\u001b[1;32m~\\AppData\\Local\\Temp/ipykernel_23128/3325638081.py\u001b[0m in \u001b[0;36m<module>\u001b[1;34m\u001b[0m\n\u001b[1;32m----> 1\u001b[1;33m \u001b[0mos\u001b[0m\u001b[1;33m.\u001b[0m\u001b[0mrename\u001b[0m\u001b[1;33m(\u001b[0m\u001b[1;34m\"archivo_prueba.txt\"\u001b[0m\u001b[1;33m,\u001b[0m \u001b[1;34m\"prueba_rename.txt\"\u001b[0m\u001b[1;33m)\u001b[0m\u001b[1;33m\u001b[0m\u001b[1;33m\u001b[0m\u001b[0m\n\u001b[0m",
      "\u001b[1;31mFileNotFoundError\u001b[0m: [WinError 2] El sistema no puede encontrar el archivo especificado: 'archivo_prueba.txt' -> 'prueba_rename.txt'"
     ]
    }
   ],
   "source": [
    "os.rename(\"archivo_prueba.txt\", \"prueba_rename.txt\")"
   ]
  },
  {
   "cell_type": "code",
   "execution_count": 67,
   "id": "14aa207e-70a6-4e5f-9861-e8cf34f826ed",
   "metadata": {},
   "outputs": [],
   "source": [
    "os.chdir(\"21_09_2023_dia_7/\")"
   ]
  },
  {
   "cell_type": "code",
   "execution_count": 68,
   "id": "e65f28a6",
   "metadata": {},
   "outputs": [
    {
     "data": {
      "text/plain": [
       "['.ipynb_checkpoints',\n",
       " '13.lectura_escritura_ficheros.ipynb',\n",
       " '14.programación_orientada_objetos.ipynb',\n",
       " 'ejemplo_1.txt',\n",
       " 'ejemplo_2.txt',\n",
       " 'ejemplo_binario.pkl',\n",
       " 'ejemplo_binario_2.pkl',\n",
       " 'prueba']"
      ]
     },
     "execution_count": 68,
     "metadata": {},
     "output_type": "execute_result"
    }
   ],
   "source": [
    "os.listdir()"
   ]
  },
  {
   "cell_type": "code",
   "execution_count": 70,
   "id": "df9303a9-0959-423a-88a7-3f66cf73a891",
   "metadata": {},
   "outputs": [],
   "source": [
    "os.rename(\"ejemplo_1.txt\", \"ejemplo_1_renamed.txt\")"
   ]
  },
  {
   "cell_type": "code",
   "execution_count": 71,
   "id": "b2c4b316-f499-426d-9732-1a96b1f604da",
   "metadata": {},
   "outputs": [
    {
     "data": {
      "text/plain": [
       "['.ipynb_checkpoints',\n",
       " '13.lectura_escritura_ficheros.ipynb',\n",
       " '14.programación_orientada_objetos.ipynb',\n",
       " 'ejemplo_1_renamed.txt',\n",
       " 'ejemplo_2.txt',\n",
       " 'ejemplo_binario.pkl',\n",
       " 'ejemplo_binario_2.pkl',\n",
       " 'prueba']"
      ]
     },
     "execution_count": 71,
     "metadata": {},
     "output_type": "execute_result"
    }
   ],
   "source": [
    "os.listdir()"
   ]
  },
  {
   "cell_type": "code",
   "execution_count": 72,
   "id": "c7383233",
   "metadata": {},
   "outputs": [
    {
     "ename": "FileNotFoundError",
     "evalue": "[WinError 2] El sistema no puede encontrar el archivo especificado: 'Boost Academy'",
     "output_type": "error",
     "traceback": [
      "\u001b[1;31m---------------------------------------------------------------------------\u001b[0m",
      "\u001b[1;31mFileNotFoundError\u001b[0m                         Traceback (most recent call last)",
      "\u001b[1;32m~\\AppData\\Local\\Temp/ipykernel_23128/206817632.py\u001b[0m in \u001b[0;36m<module>\u001b[1;34m\u001b[0m\n\u001b[1;32m----> 1\u001b[1;33m \u001b[0mos\u001b[0m\u001b[1;33m.\u001b[0m\u001b[0mstat\u001b[0m\u001b[1;33m(\u001b[0m\u001b[1;34m\"Boost Academy\"\u001b[0m\u001b[1;33m)\u001b[0m\u001b[1;33m\u001b[0m\u001b[1;33m\u001b[0m\u001b[0m\n\u001b[0m",
      "\u001b[1;31mFileNotFoundError\u001b[0m: [WinError 2] El sistema no puede encontrar el archivo especificado: 'Boost Academy'"
     ]
    }
   ],
   "source": [
    "os.stat(\"Boost Academy\")"
   ]
  },
  {
   "cell_type": "code",
   "execution_count": 75,
   "id": "57e7ffad-a3b0-4296-a6df-5bad7f57f899",
   "metadata": {},
   "outputs": [],
   "source": [
    "direccion = os.getcwd()"
   ]
  },
  {
   "cell_type": "code",
   "execution_count": 76,
   "id": "7deba25a-5bcf-4561-b045-aa60e444f916",
   "metadata": {},
   "outputs": [
    {
     "data": {
      "text/plain": [
       "'C:\\\\Users\\\\botic\\\\Proyectos\\\\dsb06rt\\\\mod1-programacion-con-python\\\\21_09_2023_dia_7'"
      ]
     },
     "execution_count": 76,
     "metadata": {},
     "output_type": "execute_result"
    }
   ],
   "source": [
    "direccion"
   ]
  },
  {
   "cell_type": "code",
   "execution_count": 77,
   "id": "ff114a43-7aa4-4647-858f-bb22e76eefde",
   "metadata": {},
   "outputs": [],
   "source": [
    "dirección = !pwd"
   ]
  },
  {
   "cell_type": "code",
   "execution_count": 79,
   "id": "cda50b71-0746-41ef-94e8-8a1c023aa8a1",
   "metadata": {},
   "outputs": [
    {
     "data": {
      "text/plain": [
       "'/c/Users/botic/Proyectos/dsb06rt/mod1-programacion-con-python/21_09_2023_dia_7'"
      ]
     },
     "execution_count": 79,
     "metadata": {},
     "output_type": "execute_result"
    }
   ],
   "source": [
    "dirección[0]"
   ]
  },
  {
   "cell_type": "code",
   "execution_count": null,
   "id": "e3bceaf4",
   "metadata": {},
   "outputs": [],
   "source": [
    "################################################################################################################################"
   ]
  }
 ],
 "metadata": {
  "kernelspec": {
   "display_name": "Python 3 (ipykernel)",
   "language": "python",
   "name": "python3"
  },
  "language_info": {
   "codemirror_mode": {
    "name": "ipython",
    "version": 3
   },
   "file_extension": ".py",
   "mimetype": "text/x-python",
   "name": "python",
   "nbconvert_exporter": "python",
   "pygments_lexer": "ipython3",
   "version": "3.9.7"
  }
 },
 "nbformat": 4,
 "nbformat_minor": 5
}
