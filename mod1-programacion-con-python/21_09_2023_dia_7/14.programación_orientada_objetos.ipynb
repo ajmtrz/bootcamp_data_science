{
 "cells": [
  {
   "cell_type": "markdown",
   "id": "716ef758",
   "metadata": {},
   "source": [
    "## Clases (class)\n",
    "\n",
    "La programación orientada a objetos (**Object-Oriented Programming (OOP)**) se basa en el hecho de que **se debe dividir el programa en modelos de objetos físicos o simulados**. Se debe expresar un programa como un **conjunto de objetos que colaboran entre si mismos** para realizar tareas.\n",
    "\n",
    "**Un objeto** es la representación en un programa de un concepto y contiene la información necesaría para abstraerlo:\n",
    "\n",
    "- **Atributos**: que describen al objeto.\n",
    "- **Métodos**: operaciones que se pueden realizar al objeto.\n",
    "\n",
    "\n",
    "Los objetos pueden agruparse en categorías y una clase describe (de un modo abstracto) todos los objetos de un tipo o categoría determinada.\n",
    "\n",
    "![oop_1](../images/oop_1.png)\n",
    "\n",
    "**La idea de la programación orientada a objetos puede parecer abstracta y compleja**, pero ya hemos estado utilizando objetos sin darnos cuenta. **Casi todo en Python es un objeto**, todas las cadenas, listas, y diccionarios que hemos visto hasta ahora y que hemos usado han sido objetos.\n",
    "\n",
    "- **Objeto**\n",
    "    - El objeto es el centro de la programación orientada a objetos. Un objeto es algo que se visualiza, se utiliza y que juega un papel o un rol en el dominio del problema del programa. La estructura interna y el comportamiento de un objeto, en consecuencia, no es prioritario durante el modelado del problema.\n",
    "    \n",
    "\n",
    "- **Clase**\n",
    "    - En el mundo real existen varios objetos de un mismo tipo o clase, por lo que una clase equivale a la generalización de un tipo específico de objetos. Una clase es una plantilla que define las variables y los métodos que son comunes para todos los objetos de un cierto tipo.\n",
    "    \n",
    "\n",
    "- **Instancia**\n",
    "    - Una vez definida la clase se pueden crear objetos a partir de ésta, a este proceso se le conoce como crear instancias de una clase o instanciar una clase. En este momento el sistema reserva suficiente memoria para el objeto con todos sus atributos.\n",
    "\n",
    "    - Una instancia es un elemento de una clase (un objeto). Cada uno de los objetos o instancias tiene su propia copia de las variables definidas en la clase de la cual son instanciados y comparten la misma implementación de los métodos. Sin embargo, cada objeto asigna valores a sus atributos y es totalmente independiente de los demás.\n",
    "    \n",
    "\n",
    "- **Método**\n",
    "    - Los métodos especifican el comportamiento de la clase y sus instancias. En el momento de la declaración hay que indicar cuál es el tipo del parámetro que devolverá el método.\n",
    "    \n",
    "\n",
    "- **Atributos**\n",
    "    - Tipos de datos asociados a un objeto (o a una clase de objetos), que hace los datos visibles desde fuera del objeto y esto se define como sus características predeterminadas, cuyo valor puede ser alterado por la ejecución de algún método.\n",
    "    \n",
    "\n",
    "**Ejemplos:**"
   ]
  },
  {
   "cell_type": "code",
   "execution_count": 1,
   "id": "12ffbb61",
   "metadata": {},
   "outputs": [
    {
     "name": "stdout",
     "output_type": "stream",
     "text": [
      "<class 'list'>\n"
     ]
    }
   ],
   "source": [
    "# Listas\n",
    "\n",
    "lista = [0, 1, 2, 3, 4]\n",
    "\n",
    "print(type(lista))"
   ]
  },
  {
   "cell_type": "code",
   "execution_count": 9,
   "id": "ef7aeb03-8f7a-46bc-8aad-95f1e92edfc4",
   "metadata": {},
   "outputs": [],
   "source": [
    "lista_2 = [1, 4, 6]"
   ]
  },
  {
   "cell_type": "code",
   "execution_count": 10,
   "id": "cc808bca-1277-4f02-9757-2e2b34d0eda1",
   "metadata": {},
   "outputs": [
    {
     "name": "stdout",
     "output_type": "stream",
     "text": [
      "<class 'list'>\n"
     ]
    }
   ],
   "source": [
    "print(type(lista_2))"
   ]
  },
  {
   "cell_type": "code",
   "execution_count": 2,
   "id": "dfb07e58",
   "metadata": {
    "scrolled": true
   },
   "outputs": [
    {
     "data": {
      "text/plain": [
       "['__add__',\n",
       " '__class__',\n",
       " '__class_getitem__',\n",
       " '__contains__',\n",
       " '__delattr__',\n",
       " '__delitem__',\n",
       " '__dir__',\n",
       " '__doc__',\n",
       " '__eq__',\n",
       " '__format__',\n",
       " '__ge__',\n",
       " '__getattribute__',\n",
       " '__getitem__',\n",
       " '__gt__',\n",
       " '__hash__',\n",
       " '__iadd__',\n",
       " '__imul__',\n",
       " '__init__',\n",
       " '__init_subclass__',\n",
       " '__iter__',\n",
       " '__le__',\n",
       " '__len__',\n",
       " '__lt__',\n",
       " '__mul__',\n",
       " '__ne__',\n",
       " '__new__',\n",
       " '__reduce__',\n",
       " '__reduce_ex__',\n",
       " '__repr__',\n",
       " '__reversed__',\n",
       " '__rmul__',\n",
       " '__setattr__',\n",
       " '__setitem__',\n",
       " '__sizeof__',\n",
       " '__str__',\n",
       " '__subclasshook__',\n",
       " 'append',\n",
       " 'clear',\n",
       " 'copy',\n",
       " 'count',\n",
       " 'extend',\n",
       " 'index',\n",
       " 'insert',\n",
       " 'pop',\n",
       " 'remove',\n",
       " 'reverse',\n",
       " 'sort']"
      ]
     },
     "execution_count": 2,
     "metadata": {},
     "output_type": "execute_result"
    }
   ],
   "source": [
    "# La función dir() nos muestra todos los atributos y métodos de una clase\n",
    "\n",
    "dir(lista) \n",
    "\n",
    "# Los métodos con doble guión bajo se llaman métodos especiales \n",
    "# y se utilizan con funciones externas: reversed, dir...\n",
    "\n",
    "# Los métodos sin el doble guión son los métodos comunes\n",
    "# Algunos ya los conocemos como: append, pop, remove, reverse..."
   ]
  },
  {
   "cell_type": "code",
   "execution_count": 4,
   "id": "a59a45b5-22f5-4833-b6bd-ac5068d10261",
   "metadata": {},
   "outputs": [],
   "source": [
    "#help(list)"
   ]
  },
  {
   "cell_type": "code",
   "execution_count": 5,
   "id": "98850ce0",
   "metadata": {
    "scrolled": true
   },
   "outputs": [
    {
     "data": {
      "text/plain": [
       "['__class__',\n",
       " '__class_getitem__',\n",
       " '__contains__',\n",
       " '__delattr__',\n",
       " '__delitem__',\n",
       " '__dir__',\n",
       " '__doc__',\n",
       " '__eq__',\n",
       " '__format__',\n",
       " '__ge__',\n",
       " '__getattribute__',\n",
       " '__getitem__',\n",
       " '__gt__',\n",
       " '__hash__',\n",
       " '__init__',\n",
       " '__init_subclass__',\n",
       " '__ior__',\n",
       " '__iter__',\n",
       " '__le__',\n",
       " '__len__',\n",
       " '__lt__',\n",
       " '__ne__',\n",
       " '__new__',\n",
       " '__or__',\n",
       " '__reduce__',\n",
       " '__reduce_ex__',\n",
       " '__repr__',\n",
       " '__reversed__',\n",
       " '__ror__',\n",
       " '__setattr__',\n",
       " '__setitem__',\n",
       " '__sizeof__',\n",
       " '__str__',\n",
       " '__subclasshook__',\n",
       " 'clear',\n",
       " 'copy',\n",
       " 'fromkeys',\n",
       " 'get',\n",
       " 'items',\n",
       " 'keys',\n",
       " 'pop',\n",
       " 'popitem',\n",
       " 'setdefault',\n",
       " 'update',\n",
       " 'values']"
      ]
     },
     "execution_count": 5,
     "metadata": {},
     "output_type": "execute_result"
    }
   ],
   "source": [
    "# Clase Diccionario\n",
    "\n",
    "dir({})"
   ]
  },
  {
   "cell_type": "markdown",
   "id": "9beb2606",
   "metadata": {},
   "source": [
    "### Definir una clase\n",
    "\n",
    "Para definir una clase utilizamos la función **`class`** seguido del nombre que le queramos poner a la clase (como si fuese una función). **Usualmente los nombres se escriben usando \"Upper Camel Case\"**."
   ]
  },
  {
   "cell_type": "code",
   "execution_count": 12,
   "id": "d0913849",
   "metadata": {},
   "outputs": [],
   "source": [
    "class NuevaClase:\n",
    "    pass\n",
    "    "
   ]
  },
  {
   "cell_type": "code",
   "execution_count": 7,
   "id": "faa20bff-8b43-4aff-b8d2-256c01d85f6d",
   "metadata": {},
   "outputs": [],
   "source": [
    "class nueva_clase:\n",
    "    pass"
   ]
  },
  {
   "cell_type": "code",
   "execution_count": 8,
   "id": "d06444cf",
   "metadata": {},
   "outputs": [
    {
     "data": {
      "text/plain": [
       "['__class__',\n",
       " '__delattr__',\n",
       " '__dict__',\n",
       " '__dir__',\n",
       " '__doc__',\n",
       " '__eq__',\n",
       " '__format__',\n",
       " '__ge__',\n",
       " '__getattribute__',\n",
       " '__gt__',\n",
       " '__hash__',\n",
       " '__init__',\n",
       " '__init_subclass__',\n",
       " '__le__',\n",
       " '__lt__',\n",
       " '__module__',\n",
       " '__ne__',\n",
       " '__new__',\n",
       " '__reduce__',\n",
       " '__reduce_ex__',\n",
       " '__repr__',\n",
       " '__setattr__',\n",
       " '__sizeof__',\n",
       " '__str__',\n",
       " '__subclasshook__',\n",
       " '__weakref__']"
      ]
     },
     "execution_count": 8,
     "metadata": {},
     "output_type": "execute_result"
    }
   ],
   "source": [
    "dir(NuevaClase())"
   ]
  },
  {
   "cell_type": "code",
   "execution_count": 13,
   "id": "2ed6aba0-3954-4871-a1e3-2dce43befc7d",
   "metadata": {},
   "outputs": [
    {
     "data": {
      "text/plain": [
       "type"
      ]
     },
     "execution_count": 13,
     "metadata": {},
     "output_type": "execute_result"
    }
   ],
   "source": [
    "type(NuevaClase)"
   ]
  },
  {
   "cell_type": "markdown",
   "id": "e1aa427c",
   "metadata": {},
   "source": [
    "### Atributos\n",
    "\n",
    "Para agregar atributos a una clase, podemos declarar variables al momento de definir la clase."
   ]
  },
  {
   "cell_type": "code",
   "execution_count": 14,
   "id": "20b44c5c",
   "metadata": {},
   "outputs": [],
   "source": [
    "class AutoMovil:\n",
    "    \n",
    "    color = \"azul\"\n",
    "    asientos = 4"
   ]
  },
  {
   "cell_type": "code",
   "execution_count": 15,
   "id": "e9588f76",
   "metadata": {},
   "outputs": [],
   "source": [
    "# Inicializamos una instancia \n",
    "\n",
    "coche = AutoMovil()"
   ]
  },
  {
   "cell_type": "code",
   "execution_count": 16,
   "id": "d542f8a0",
   "metadata": {},
   "outputs": [
    {
     "data": {
      "text/plain": [
       "<__main__.AutoMovil at 0x26f3d93fca0>"
      ]
     },
     "execution_count": 16,
     "metadata": {},
     "output_type": "execute_result"
    }
   ],
   "source": [
    "coche"
   ]
  },
  {
   "cell_type": "code",
   "execution_count": 17,
   "id": "ed6e0e42",
   "metadata": {},
   "outputs": [
    {
     "data": {
      "text/plain": [
       "'azul'"
      ]
     },
     "execution_count": 17,
     "metadata": {},
     "output_type": "execute_result"
    }
   ],
   "source": [
    "# Para acceder a estos atributos utilizamos \".\" y luego el nombre del atributo\n",
    "\n",
    "coche.color"
   ]
  },
  {
   "cell_type": "code",
   "execution_count": 18,
   "id": "007173e0",
   "metadata": {},
   "outputs": [
    {
     "data": {
      "text/plain": [
       "4"
      ]
     },
     "execution_count": 18,
     "metadata": {},
     "output_type": "execute_result"
    }
   ],
   "source": [
    "coche.asientos"
   ]
  },
  {
   "cell_type": "code",
   "execution_count": 19,
   "id": "2642df47",
   "metadata": {},
   "outputs": [],
   "source": [
    "# También se pueden agregar atributos, aunque estos no sea hayan especificado al momento de crear una clase.\n",
    "\n",
    "coche.ruedas_respuesto = 0"
   ]
  },
  {
   "cell_type": "code",
   "execution_count": 20,
   "id": "bda39aa9",
   "metadata": {},
   "outputs": [
    {
     "data": {
      "text/plain": [
       "0"
      ]
     },
     "execution_count": 20,
     "metadata": {},
     "output_type": "execute_result"
    }
   ],
   "source": [
    "coche.ruedas_respuesto"
   ]
  },
  {
   "cell_type": "code",
   "execution_count": 21,
   "id": "a08d0753",
   "metadata": {},
   "outputs": [
    {
     "ename": "AttributeError",
     "evalue": "'AutoMovil' object has no attribute 'marca'",
     "output_type": "error",
     "traceback": [
      "\u001b[1;31m---------------------------------------------------------------------------\u001b[0m",
      "\u001b[1;31mAttributeError\u001b[0m                            Traceback (most recent call last)",
      "\u001b[1;32m~\\AppData\\Local\\Temp/ipykernel_19560/2283978488.py\u001b[0m in \u001b[0;36m<module>\u001b[1;34m\u001b[0m\n\u001b[0;32m      1\u001b[0m \u001b[1;31m# Pero si intentamos acceder a un atributo que no exista nos dará error\u001b[0m\u001b[1;33m\u001b[0m\u001b[1;33m\u001b[0m\u001b[0m\n\u001b[0;32m      2\u001b[0m \u001b[1;33m\u001b[0m\u001b[0m\n\u001b[1;32m----> 3\u001b[1;33m \u001b[0mcoche\u001b[0m\u001b[1;33m.\u001b[0m\u001b[0mmarca\u001b[0m\u001b[1;33m\u001b[0m\u001b[1;33m\u001b[0m\u001b[0m\n\u001b[0m",
      "\u001b[1;31mAttributeError\u001b[0m: 'AutoMovil' object has no attribute 'marca'"
     ]
    }
   ],
   "source": [
    "# Pero si intentamos acceder a un atributo que no exista nos dará error\n",
    "\n",
    "coche.marca"
   ]
  },
  {
   "cell_type": "markdown",
   "id": "6e303be7",
   "metadata": {},
   "source": [
    "### \\_\\_init\\_\\_\n",
    "\n",
    "El método **`__init__`** (**initialize**) es **utilizado cada vez que se crea una instancia de una clase**.\n",
    "Este método **se utiliza para inicializar atributos** y solo es utilizado para eso, no tiene otros usos.\n",
    "\n",
    "Al utilizar este método cada vez que inicialicemos una instancia **tendremos que dar parámetros al objeto para que pueda crear los atributos, de esta forma cada instancia es tendrá valores diferentes para cada instancia**.\n",
    "\n",
    "Este método **`__init__`** puede tomar tantos parámetros como queramos pero **el primer parámetro debe ser una variable llamada `self`** (por convención) que hará referencia a \"él mismo\". (Por eso el nombre **`\"self\"`**).\n",
    "\n",
    "Luego de esto, utilizamos los parámetros de la clase para inicializar los atributos:\n",
    "\n",
    "**`self.atributo = parámetro`**\n",
    "\n",
    "Aquí usamos la variable **`self`** para que la clase entienda que el atributo se le va a agregar a esa instancia, no a todas las instancias.\n",
    "\n",
    "Aunque no es obligatorio, por lo general **atributo** y **parámetro** comparten el mismo nombre. "
   ]
  },
  {
   "cell_type": "code",
   "execution_count": 22,
   "id": "11aed883",
   "metadata": {},
   "outputs": [],
   "source": [
    "class Empleado:\n",
    "    \n",
    "    puesto_trabajo = \"Empleado\"\n",
    "    \n",
    "    def __init__(self, nombre, apellido):\n",
    "        self.nombre = nombre\n",
    "        self.apellido = apellido\n",
    "        self.email = f\"{nombre.lower()}.{apellido.lower()}@python.com\"\n",
    "        \n",
    "        \n",
    "# En este ejemplo, cuando inicialicemos una instancia tendremos que dar los parametros de nombre y apellido\n",
    "# La instancia creada tendra los atributos de nombre, apellido y email variables (dependiendo de los valores)\n",
    "# Y tendra el atributo \"puesto_trabajo\" constante, es decir, todas las instancias creadas tendrán el mismo valor."
   ]
  },
  {
   "cell_type": "code",
   "execution_count": 23,
   "id": "4f24e7a0",
   "metadata": {},
   "outputs": [
    {
     "data": {
      "text/plain": [
       "<__main__.Empleado at 0x26f3cf1cfa0>"
      ]
     },
     "execution_count": 23,
     "metadata": {},
     "output_type": "execute_result"
    }
   ],
   "source": [
    "persona = Empleado(nombre = \"Enrique\", apellido = \"Revuelta\")\n",
    "\n",
    "persona"
   ]
  },
  {
   "cell_type": "code",
   "execution_count": 24,
   "id": "df726ca6",
   "metadata": {},
   "outputs": [
    {
     "data": {
      "text/plain": [
       "'Enrique'"
      ]
     },
     "execution_count": 24,
     "metadata": {},
     "output_type": "execute_result"
    }
   ],
   "source": [
    "persona.nombre"
   ]
  },
  {
   "cell_type": "code",
   "execution_count": 25,
   "id": "bd8a59ae",
   "metadata": {},
   "outputs": [
    {
     "data": {
      "text/plain": [
       "'Revuelta'"
      ]
     },
     "execution_count": 25,
     "metadata": {},
     "output_type": "execute_result"
    }
   ],
   "source": [
    "persona.apellido"
   ]
  },
  {
   "cell_type": "code",
   "execution_count": 26,
   "id": "e7dd99da",
   "metadata": {},
   "outputs": [
    {
     "data": {
      "text/plain": [
       "'enrique.revuelta@python.com'"
      ]
     },
     "execution_count": 26,
     "metadata": {},
     "output_type": "execute_result"
    }
   ],
   "source": [
    "persona.email"
   ]
  },
  {
   "cell_type": "code",
   "execution_count": 27,
   "id": "9f820b5a",
   "metadata": {},
   "outputs": [
    {
     "data": {
      "text/plain": [
       "'Empleado'"
      ]
     },
     "execution_count": 27,
     "metadata": {},
     "output_type": "execute_result"
    }
   ],
   "source": [
    "persona.puesto_trabajo"
   ]
  },
  {
   "cell_type": "code",
   "execution_count": 28,
   "id": "268e095e",
   "metadata": {},
   "outputs": [
    {
     "name": "stdout",
     "output_type": "stream",
     "text": [
      "Juan\n",
      "Perez\n",
      "juan.perez@python.com\n",
      "Empleado\n"
     ]
    }
   ],
   "source": [
    "persona_2 = Empleado(nombre = \"Juan\", apellido = \"Perez\")\n",
    "\n",
    "print(persona_2.nombre)\n",
    "print(persona_2.apellido)\n",
    "print(persona_2.email)\n",
    "print(persona_2.puesto_trabajo)"
   ]
  },
  {
   "cell_type": "code",
   "execution_count": 29,
   "id": "9c4e92e3",
   "metadata": {},
   "outputs": [
    {
     "data": {
      "text/plain": [
       "'kike'"
      ]
     },
     "execution_count": 29,
     "metadata": {},
     "output_type": "execute_result"
    }
   ],
   "source": [
    "# También podemos modificar los atributos aunque los hayamos inicializado con __init__\n",
    "\n",
    "persona.nombre = \"kike\"\n",
    "\n",
    "persona.nombre"
   ]
  },
  {
   "cell_type": "code",
   "execution_count": 32,
   "id": "45971a30-151a-4d4d-ae01-91514bb8e9b2",
   "metadata": {},
   "outputs": [],
   "source": [
    "persona_2.nombre = 'Juanitx'"
   ]
  },
  {
   "cell_type": "code",
   "execution_count": 33,
   "id": "dc1d2648-6033-45cc-8f74-98f11023c3ff",
   "metadata": {},
   "outputs": [
    {
     "data": {
      "text/plain": [
       "'Juanitx'"
      ]
     },
     "execution_count": 33,
     "metadata": {},
     "output_type": "execute_result"
    }
   ],
   "source": [
    "persona_2.nombre"
   ]
  },
  {
   "cell_type": "code",
   "execution_count": null,
   "id": "81d12278-0e80-4e25-8041-57ff73d1eef1",
   "metadata": {},
   "outputs": [],
   "source": []
  },
  {
   "cell_type": "markdown",
   "id": "e39e30e0",
   "metadata": {
    "tags": []
   },
   "source": [
    "### Métodos\n",
    "\n",
    "**Los métodos son funciones propias de cada clase**, es decir, estos métodos solo funcionan con su clase.\n",
    "\n",
    "**Para crear métodos, basta con definir una función dentro de la clase**.\n",
    "\n",
    "Estas funciones pueden tomar o no parámetros, sin embargo, **es obligatorio que el primer parámetro de los métodos sea `self`** (aunque sea el único).\n",
    "\n",
    "- En caso de querer utilizar atributos del método **`__init__`** o **atributos estáticos**, podemos simplemente usar **`self`** como parámetro del nuevo método y con esto podremos usar cualquier atributo de la clase (Ya sea de **`__init__`** o **estático**)."
   ]
  },
  {
   "cell_type": "code",
   "execution_count": 36,
   "id": "b61f22bc",
   "metadata": {},
   "outputs": [],
   "source": [
    "class Empleado:\n",
    "    \n",
    "    puesto_trabajo = \"Empleado\"\n",
    "    \n",
    "    def __init__(self, nombre, apellido):\n",
    "        self.nombre = nombre\n",
    "        self.apellido = apellido\n",
    "        self.email = f\"{nombre.lower()}.{apellido.lower()}@python.com\"\n",
    "        \n",
    "    def display_info(self):\n",
    "        print(f\"Nombre: {self.nombre}\")\n",
    "        print(f\"Apellido: {self.apellido}\")\n",
    "        print(f\"Contacto: {self.email}\")        \n",
    "        print(f\"Puesto de trabajo: {self.puesto_trabajo}\")\n",
    "        \n",
    "    def display_message(self):\n",
    "        print(\"Esta es la clase Empleado.\")\n",
    "        \n",
    "    def cambiar_puesto_trabajo(self, nuevo_puesto):\n",
    "        self.puesto_trabajo = nuevo_puesto"
   ]
  },
  {
   "cell_type": "code",
   "execution_count": 37,
   "id": "105a597b",
   "metadata": {},
   "outputs": [
    {
     "data": {
      "text/plain": [
       "<__main__.Empleado at 0x26f3cf1cd00>"
      ]
     },
     "execution_count": 37,
     "metadata": {},
     "output_type": "execute_result"
    }
   ],
   "source": [
    "persona = Empleado(nombre = \"Pablo\", apellido = \"Rodriguez\")\n",
    "\n",
    "persona"
   ]
  },
  {
   "cell_type": "code",
   "execution_count": 38,
   "id": "e296b0d1",
   "metadata": {},
   "outputs": [
    {
     "name": "stdout",
     "output_type": "stream",
     "text": [
      "Nombre: Pablo\n",
      "Apellido: Rodriguez\n",
      "Contacto: pablo.rodriguez@python.com\n",
      "Puesto de trabajo: Empleado\n"
     ]
    }
   ],
   "source": [
    "# Método .display_info()\n",
    "\n",
    "persona.display_info()"
   ]
  },
  {
   "cell_type": "code",
   "execution_count": 39,
   "id": "5e8d7b12",
   "metadata": {},
   "outputs": [
    {
     "name": "stdout",
     "output_type": "stream",
     "text": [
      "Esta es la clase Empleado.\n"
     ]
    }
   ],
   "source": [
    "# Método .display_message()\n",
    "\n",
    "persona.display_message()"
   ]
  },
  {
   "cell_type": "code",
   "execution_count": 40,
   "id": "901faf62",
   "metadata": {},
   "outputs": [
    {
     "data": {
      "text/plain": [
       "'Profesor'"
      ]
     },
     "execution_count": 40,
     "metadata": {},
     "output_type": "execute_result"
    }
   ],
   "source": [
    "# Método .cambiar_puesto_trabajo()\n",
    "\n",
    "persona.cambiar_puesto_trabajo(nuevo_puesto = \"Profesor\")\n",
    "\n",
    "persona.puesto_trabajo"
   ]
  },
  {
   "cell_type": "code",
   "execution_count": 41,
   "id": "1f91ab92",
   "metadata": {},
   "outputs": [
    {
     "name": "stdout",
     "output_type": "stream",
     "text": [
      "Nombre: Pablo\n",
      "Apellido: Rodriguez\n",
      "Contacto: pablo.rodriguez@python.com\n",
      "Puesto de trabajo: Profesor\n"
     ]
    }
   ],
   "source": [
    "# Método .display_info()\n",
    "\n",
    "persona.display_info()"
   ]
  },
  {
   "cell_type": "markdown",
   "id": "74e170e1",
   "metadata": {},
   "source": [
    "**Como los métodos son, en esencia, funciones, podemos hacer que nos retornen algún valor.**"
   ]
  },
  {
   "cell_type": "code",
   "execution_count": 78,
   "id": "b46925c4",
   "metadata": {},
   "outputs": [],
   "source": [
    "class Empleado:\n",
    "    \n",
    "    puesto_trabajo = \"Empleado\"\n",
    "    \n",
    "    def __init__(self, nombre, apellido):\n",
    "        self.nombre = nombre\n",
    "        self.apellido = apellido\n",
    "        self.email = f\"{nombre.lower()}.{apellido.lower()}@python.com\"\n",
    "        \n",
    "    def empleado_info_dict(self):\n",
    "        empleado_dict = {\"nombre\"         : self.nombre,\n",
    "                         \"apellido\"       : self.apellido,\n",
    "                         \"email\"          : self.email,\n",
    "                         \"puesto_trabajo\" : self.puesto_trabajo}\n",
    "        \n",
    "        return empleado_dict\n",
    "    \n",
    "    def display_info(self):\n",
    "        print(f\"Nombre: {self.nombre}\")\n",
    "        print(f\"Apellido: {self.apellido}\")\n",
    "        print(f\"Contacto: {self.email}\")        \n",
    "        print(f\"Puesto de trabajo: {self.puesto_trabajo}\")\n",
    "        \n",
    "    def display_message(self):\n",
    "        print(\"Esta es la clase Empleado.\")\n",
    "        \n",
    "    def cambiar_puesto_trabajo(self, nuevo_puesto):\n",
    "        self.puesto_trabajo = nuevo_puesto\n",
    "    \n",
    "    def cambiar_informacion(self):\n",
    "        print(\"\"\"\n",
    "        Bienvenido a la base de datos del futuro ...\n",
    "        Información que se puede modificar:\n",
    "        1.Nombre\n",
    "        2.Apellido\n",
    "        3.Puesto de trabajo\n",
    "        \"\"\")\n",
    "        \n",
    "        cambio = int(input('Elige el número de la opción: '))\n",
    "        \n",
    "        if cambio == 1:\n",
    "            self.nombre = input('Introduce el nombre nuevo:')\n",
    "            self.email = f\"{self.nombre.lower()}.{self.apellido.lower()}@python.com\"\n",
    "        elif cambio == 2:\n",
    "            self.apellido = input('Introduce el nuevo apellido:')\n",
    "            self.email = f\"{self.nombre.lower()}.{self.apellido.lower()}@python.com\"\n",
    "        elif cambio == 3:\n",
    "            self.puesto_trabajo = input('Introduce el nuevo puesto de trabajo:')\n",
    "        else:\n",
    "            print('No existe la información que quieres cambiar')\n",
    "        "
   ]
  },
  {
   "cell_type": "code",
   "execution_count": 79,
   "id": "df9c3a36",
   "metadata": {},
   "outputs": [],
   "source": [
    "persona = Empleado(nombre = \"Enrique\", apellido = \"Revuelta\")"
   ]
  },
  {
   "cell_type": "code",
   "execution_count": 58,
   "id": "93e4eb66",
   "metadata": {},
   "outputs": [],
   "source": [
    "informacion = persona.empleado_info_dict()"
   ]
  },
  {
   "cell_type": "code",
   "execution_count": 45,
   "id": "13559f72",
   "metadata": {
    "collapsed": true,
    "jupyter": {
     "outputs_hidden": true
    },
    "tags": []
   },
   "outputs": [
    {
     "data": {
      "text/plain": [
       "['__class__',\n",
       " '__delattr__',\n",
       " '__dict__',\n",
       " '__dir__',\n",
       " '__doc__',\n",
       " '__eq__',\n",
       " '__format__',\n",
       " '__ge__',\n",
       " '__getattribute__',\n",
       " '__gt__',\n",
       " '__hash__',\n",
       " '__init__',\n",
       " '__init_subclass__',\n",
       " '__le__',\n",
       " '__lt__',\n",
       " '__module__',\n",
       " '__ne__',\n",
       " '__new__',\n",
       " '__reduce__',\n",
       " '__reduce_ex__',\n",
       " '__repr__',\n",
       " '__setattr__',\n",
       " '__sizeof__',\n",
       " '__str__',\n",
       " '__subclasshook__',\n",
       " '__weakref__',\n",
       " 'cambiar_puesto_trabajo',\n",
       " 'display_info',\n",
       " 'display_message',\n",
       " 'empleado_info_dict',\n",
       " 'puesto_trabajo']"
      ]
     },
     "execution_count": 45,
     "metadata": {},
     "output_type": "execute_result"
    }
   ],
   "source": [
    "dir(Empleado)"
   ]
  },
  {
   "cell_type": "code",
   "execution_count": 59,
   "id": "f0e7a65e-0fc6-47b6-ac63-eda105f5edb0",
   "metadata": {},
   "outputs": [
    {
     "name": "stdout",
     "output_type": "stream",
     "text": [
      "nombre: Enrique\n",
      "apellido: Revuelta\n",
      "email: enrique.revuelta@python.com\n",
      "puesto_trabajo: Empleado\n"
     ]
    }
   ],
   "source": [
    "for k,v in informacion.items():\n",
    "    print(f'{k}: {v}')"
   ]
  },
  {
   "cell_type": "code",
   "execution_count": 80,
   "id": "3af45efa-4051-49c2-87a2-ed5433e77840",
   "metadata": {},
   "outputs": [
    {
     "name": "stdout",
     "output_type": "stream",
     "text": [
      "\n",
      "        Bienvenido a la base de datos del futuro ...\n",
      "        Información que se puede modificar:\n",
      "        1.Nombre\n",
      "        2.Apellido\n",
      "        3.Puesto de trabajo\n",
      "        \n"
     ]
    },
    {
     "name": "stdout",
     "output_type": "stream",
     "text": [
      "Elige el número de la opción:  1\n",
      "Introduce el nombre nuevo: Kike\n"
     ]
    }
   ],
   "source": [
    "persona.cambiar_informacion()"
   ]
  },
  {
   "cell_type": "code",
   "execution_count": 81,
   "id": "60350ced-8a01-4ae2-99cf-10d834b5d5c2",
   "metadata": {},
   "outputs": [
    {
     "data": {
      "text/plain": [
       "{'nombre': 'Kike',\n",
       " 'apellido': 'Revuelta',\n",
       " 'email': 'kike.revuelta@python.com',\n",
       " 'puesto_trabajo': 'Empleado'}"
      ]
     },
     "execution_count": 81,
     "metadata": {},
     "output_type": "execute_result"
    }
   ],
   "source": [
    "persona.empleado_info_dict()"
   ]
  },
  {
   "cell_type": "markdown",
   "id": "bfc09e89",
   "metadata": {},
   "source": [
    "**Ejemplo 2:**"
   ]
  },
  {
   "cell_type": "code",
   "execution_count": 1,
   "id": "e8a3f651",
   "metadata": {},
   "outputs": [],
   "source": [
    "class Animal:\n",
    "    def __init__(self, color, n_patas, domestico = False):\n",
    "        self.color = color.title()\n",
    "        self.n_patas = n_patas\n",
    "        self.domestico = domestico\n",
    "        \n",
    "    def display_info(self):\n",
    "        print(\"Color:\", self.color)\n",
    "        print(\"Numero de patas:\", self.n_patas)\n",
    "        print(\"Animal Doméstico:\", self.domestico)\n",
    "        \n",
    "        try:\n",
    "            print(\"Nombre:\", self.nombre)\n",
    "        except:\n",
    "            pass\n",
    "            \n",
    "    def mascota(self):\n",
    "        if self.domestico == True:\n",
    "            nombre = input(\"Nombre de la mascota: \")\n",
    "            self.nombre = nombre.title()\n",
    "        else:\n",
    "            print(\"Es un animal salvaje. No puede tener nombre.\")"
   ]
  },
  {
   "cell_type": "code",
   "execution_count": 2,
   "id": "dc526c3a",
   "metadata": {},
   "outputs": [
    {
     "name": "stdout",
     "output_type": "stream",
     "text": [
      "Color: Marron\n",
      "Numero de patas: 4\n",
      "Animal Doméstico: True\n"
     ]
    }
   ],
   "source": [
    "perro = Animal(color = \"marron\", n_patas = 4, domestico = True)\n",
    "\n",
    "perro.display_info()"
   ]
  },
  {
   "cell_type": "code",
   "execution_count": 3,
   "id": "d33a84ff",
   "metadata": {},
   "outputs": [
    {
     "name": "stdout",
     "output_type": "stream",
     "text": [
      "Nombre de la mascota:  Firulais\n"
     ]
    }
   ],
   "source": [
    "perro.mascota()"
   ]
  },
  {
   "cell_type": "code",
   "execution_count": 4,
   "id": "490cd783",
   "metadata": {},
   "outputs": [
    {
     "name": "stdout",
     "output_type": "stream",
     "text": [
      "Color: Marron\n",
      "Numero de patas: 4\n",
      "Animal Doméstico: True\n",
      "Nombre: Firulais\n"
     ]
    }
   ],
   "source": [
    "perro.display_info()"
   ]
  },
  {
   "cell_type": "code",
   "execution_count": 5,
   "id": "18ccca04",
   "metadata": {},
   "outputs": [
    {
     "name": "stdout",
     "output_type": "stream",
     "text": [
      "Color: Marron\n",
      "Numero de patas: 4\n",
      "Animal Doméstico: False\n"
     ]
    }
   ],
   "source": [
    "perro = Animal(color = \"marron\", n_patas = 4, domestico = False)\n",
    "\n",
    "perro.display_info()"
   ]
  },
  {
   "cell_type": "code",
   "execution_count": 6,
   "id": "755852a4",
   "metadata": {},
   "outputs": [
    {
     "name": "stdout",
     "output_type": "stream",
     "text": [
      "Es un animal salvaje. No puede tener nombre.\n"
     ]
    }
   ],
   "source": [
    "perro.mascota()"
   ]
  },
  {
   "cell_type": "markdown",
   "id": "7dd9d582",
   "metadata": {},
   "source": [
    "### Herencias (inheritance)\n",
    "\n",
    "**Las herencias nos permiten definir una clase a partir de otra ya creada**, esto significa que la clase \"hija\" **tendrá todos los atributos y métodos** de la clase \"padre\", **esta nueva clase también puede tener nuevos atributos y métodos, modificar los que haya heredado o eliminarlos**.\n",
    "\n",
    "\n",
    "Para crear una clase a partir de otra usamos la siguiente sintaxis:\n",
    "\n",
    "**`class NuevaClase(ViejaClase):`**"
   ]
  },
  {
   "cell_type": "code",
   "execution_count": 36,
   "id": "aaccd499",
   "metadata": {},
   "outputs": [],
   "source": [
    "# Clase Padre\n",
    "\n",
    "class Vehiculo:\n",
    "    def __init__(self, n_ruedas:int, n_puertas:int, tipo_motor:str, kms = 0):\n",
    "        self.n_ruedas = int(n_ruedas)\n",
    "        self.n_puertas = int(n_puertas)\n",
    "        self.tipo_motor = tipo_motor.title()\n",
    "        self.kms = [kms]\n",
    "        \n",
    "    def display_info(self):\n",
    "        print(\"Info. Vehiculo\")\n",
    "        print(\"Nº Ruedas: {}\".format(self.n_ruedas))\n",
    "        print(\"Nº Puertas: {}\".format(self.n_puertas))\n",
    "        print(\"Tipo de Motor (Eléctrico/Combustible/Hibrido): {}\".format(self.tipo_motor))\n",
    "        print(\"Total de Km's: {}\".format(sum(self.kms)))\n",
    "                  \n",
    "    def info_kms(self):\n",
    "        \n",
    "        km_dict = {}\n",
    "        \n",
    "        for num, km in enumerate(self.kms):\n",
    "            km_dict[num] = km\n",
    "            \n",
    "        return km_dict\n",
    "    \n",
    "    def recorrer_km(self, km_recorridos):\n",
    "        if type(km_recorridos) == int or type(km_recorridos) == float:\n",
    "            self.kms.append(km_recorridos)\n",
    "            print(\"El vehiculo recorrió {} km.\".format(km_recorridos))\n",
    "        else:\n",
    "            print(\"Formato no valido.\")\n",
    "            \n",
    "    def total_kms(self):\n",
    "        return sum(self.kms)"
   ]
  },
  {
   "cell_type": "code",
   "execution_count": 37,
   "id": "a97c3979-3cb4-46f3-bc23-385aee2a3ef6",
   "metadata": {},
   "outputs": [
    {
     "name": "stdout",
     "output_type": "stream",
     "text": [
      "Info. Vehiculo\n",
      "Nº Ruedas: 4\n",
      "Nº Puertas: 4\n",
      "Tipo de Motor (Eléctrico/Combustible/Hibrido): Chocolate\n",
      "Total de Km's: 0\n"
     ]
    }
   ],
   "source": [
    "vehiculo_generico = Vehiculo(n_ruedas = 4, n_puertas = 4, tipo_motor = \"Chocolate\", kms = 0)\n",
    "\n",
    "vehiculo_generico.display_info()"
   ]
  },
  {
   "cell_type": "code",
   "execution_count": 38,
   "id": "473750a7",
   "metadata": {},
   "outputs": [
    {
     "name": "stdout",
     "output_type": "stream",
     "text": [
      "Info. Vehiculo\n",
      "Nº Ruedas: 4\n",
      "Nº Puertas: 4\n",
      "Tipo de Motor (Eléctrico/Combustible/Hibrido): Combustible\n",
      "Total de Km's: 0\n"
     ]
    }
   ],
   "source": [
    "vehiculo_generico = Vehiculo(n_ruedas = 4, n_puertas = 4, tipo_motor = \"Combustible\", kms = 0)\n",
    "\n",
    "vehiculo_generico.display_info()"
   ]
  },
  {
   "cell_type": "code",
   "execution_count": 39,
   "id": "494431f3",
   "metadata": {},
   "outputs": [
    {
     "data": {
      "text/plain": [
       "{0: 0}"
      ]
     },
     "execution_count": 39,
     "metadata": {},
     "output_type": "execute_result"
    }
   ],
   "source": [
    "vehiculo_generico.info_kms()"
   ]
  },
  {
   "cell_type": "code",
   "execution_count": 40,
   "id": "fb82ad02",
   "metadata": {},
   "outputs": [
    {
     "name": "stdout",
     "output_type": "stream",
     "text": [
      "El vehiculo recorrió 1000 km.\n"
     ]
    }
   ],
   "source": [
    "vehiculo_generico.recorrer_km(1000)"
   ]
  },
  {
   "cell_type": "code",
   "execution_count": 41,
   "id": "f383bc27",
   "metadata": {},
   "outputs": [
    {
     "data": {
      "text/plain": [
       "{0: 0, 1: 1000}"
      ]
     },
     "execution_count": 41,
     "metadata": {},
     "output_type": "execute_result"
    }
   ],
   "source": [
    "vehiculo_generico.info_kms()"
   ]
  },
  {
   "cell_type": "code",
   "execution_count": 42,
   "id": "15689ae1",
   "metadata": {},
   "outputs": [
    {
     "data": {
      "text/plain": [
       "1000"
      ]
     },
     "execution_count": 42,
     "metadata": {},
     "output_type": "execute_result"
    }
   ],
   "source": [
    "vehiculo_generico.total_kms()"
   ]
  },
  {
   "cell_type": "code",
   "execution_count": 43,
   "id": "7878dfcf",
   "metadata": {},
   "outputs": [
    {
     "data": {
      "text/plain": [
       "[0, 1000]"
      ]
     },
     "execution_count": 43,
     "metadata": {},
     "output_type": "execute_result"
    }
   ],
   "source": [
    "vehiculo_generico.kms"
   ]
  },
  {
   "cell_type": "code",
   "execution_count": 46,
   "id": "931e1762",
   "metadata": {},
   "outputs": [],
   "source": [
    "class Coche(Vehiculo):\n",
    "    pass\n",
    "\n",
    "# En este ejemplo, la clase Coche hereda todos los atributos y métodos de Vehiculo\n",
    "# Aunque con eso, para inicializar una instancia, tendremos que darle los mismos parametros que la clase Vehiculo."
   ]
  },
  {
   "cell_type": "code",
   "execution_count": 45,
   "id": "b069c530",
   "metadata": {},
   "outputs": [
    {
     "name": "stdout",
     "output_type": "stream",
     "text": [
      "<class '__main__.Coche'>\n"
     ]
    }
   ],
   "source": [
    "tesla = Coche(n_ruedas = 4, n_puertas = 4, tipo_motor = \"Eléctrico\", kms = 1000)\n",
    "\n",
    "print(type(tesla))"
   ]
  },
  {
   "cell_type": "code",
   "execution_count": 47,
   "id": "e92c0517",
   "metadata": {
    "scrolled": true
   },
   "outputs": [
    {
     "data": {
      "text/plain": [
       "['__class__',\n",
       " '__delattr__',\n",
       " '__dict__',\n",
       " '__dir__',\n",
       " '__doc__',\n",
       " '__eq__',\n",
       " '__format__',\n",
       " '__ge__',\n",
       " '__getattribute__',\n",
       " '__gt__',\n",
       " '__hash__',\n",
       " '__init__',\n",
       " '__init_subclass__',\n",
       " '__le__',\n",
       " '__lt__',\n",
       " '__module__',\n",
       " '__ne__',\n",
       " '__new__',\n",
       " '__reduce__',\n",
       " '__reduce_ex__',\n",
       " '__repr__',\n",
       " '__setattr__',\n",
       " '__sizeof__',\n",
       " '__str__',\n",
       " '__subclasshook__',\n",
       " '__weakref__',\n",
       " 'display_info',\n",
       " 'info_kms',\n",
       " 'recorrer_km',\n",
       " 'total_kms']"
      ]
     },
     "execution_count": 47,
     "metadata": {},
     "output_type": "execute_result"
    }
   ],
   "source": [
    "# Ahora la clase Coche tiene el método coche_info() y los otros 4 heredadas de Vehiculo.\n",
    "\n",
    "dir(Coche)"
   ]
  },
  {
   "cell_type": "code",
   "execution_count": 48,
   "id": "0f0b60ce",
   "metadata": {},
   "outputs": [
    {
     "name": "stdout",
     "output_type": "stream",
     "text": [
      "Info. Vehiculo\n",
      "Nº Ruedas: 4\n",
      "Nº Puertas: 4\n",
      "Tipo de Motor (Eléctrico/Combustible/Hibrido): Eléctrico\n",
      "Total de Km's: 1000\n"
     ]
    }
   ],
   "source": [
    "tesla.display_info()"
   ]
  },
  {
   "cell_type": "code",
   "execution_count": 49,
   "id": "424d5a2e",
   "metadata": {},
   "outputs": [
    {
     "data": {
      "text/plain": [
       "{0: 1000}"
      ]
     },
     "execution_count": 49,
     "metadata": {},
     "output_type": "execute_result"
    }
   ],
   "source": [
    "tesla.info_kms()"
   ]
  },
  {
   "cell_type": "code",
   "execution_count": 50,
   "id": "b26b86fa",
   "metadata": {},
   "outputs": [],
   "source": [
    "# Ahora, podemos agregar nuevos métodos a la clase Coche, para hacerla diferente a la clase Vehiculo\n",
    "\n",
    "class Coche(Vehiculo):\n",
    "    \n",
    "    def coche_info(self):\n",
    "        print(f\"Este vehiculo es un coche {self.tipo_motor}.\")"
   ]
  },
  {
   "cell_type": "code",
   "execution_count": 51,
   "id": "8a96ff6a",
   "metadata": {},
   "outputs": [
    {
     "name": "stdout",
     "output_type": "stream",
     "text": [
      "Este vehiculo es un coche Eléctrico.\n"
     ]
    }
   ],
   "source": [
    "tesla = Coche(n_ruedas = 4, n_puertas = 4, tipo_motor = \"Eléctrico\", kms = 1000)\n",
    "\n",
    "tesla.coche_info()"
   ]
  },
  {
   "cell_type": "code",
   "execution_count": 35,
   "id": "647d83a9-97e3-46ff-9dc2-d80b558c0c58",
   "metadata": {},
   "outputs": [
    {
     "data": {
      "text/plain": [
       "__main__.Coche"
      ]
     },
     "execution_count": 35,
     "metadata": {},
     "output_type": "execute_result"
    }
   ],
   "source": [
    "type(tesla)"
   ]
  },
  {
   "cell_type": "markdown",
   "id": "ee51e797",
   "metadata": {},
   "source": [
    "**Ahora, si quisieramos agregar nuevos atributos podemos tomar 2 caminos:**\n",
    "1. Eliminar los atributos anteriores y crear nuevos.\n",
    "2. Mantener los atributos anteriores y crear nuevos."
   ]
  },
  {
   "cell_type": "code",
   "execution_count": 56,
   "id": "6d6b6503",
   "metadata": {},
   "outputs": [],
   "source": [
    "# 1. Para eliminar los atributos anteriores y agregar nuevos, basta con sobreescribir la función __init__\n",
    "\n",
    "class Coche(Vehiculo):\n",
    "    \n",
    "    def __init__(self, color, marca):\n",
    "        self.color = color\n",
    "        self.marca = marca\n",
    "        \n",
    "# Esto no modifica los métodos existentes\n",
    "# Pero si alguno de esos métodos utiliza atributos que ya no existen nos dará error"
   ]
  },
  {
   "cell_type": "code",
   "execution_count": 57,
   "id": "c6d1639e",
   "metadata": {},
   "outputs": [],
   "source": [
    "honda = Coche(\"Azul\", \"Honda\")"
   ]
  },
  {
   "cell_type": "code",
   "execution_count": 58,
   "id": "e9ea09fe",
   "metadata": {},
   "outputs": [
    {
     "name": "stdout",
     "output_type": "stream",
     "text": [
      "Info. Vehiculo\n"
     ]
    },
    {
     "ename": "AttributeError",
     "evalue": "'Coche' object has no attribute 'n_ruedas'",
     "output_type": "error",
     "traceback": [
      "\u001b[1;31m---------------------------------------------------------------------------\u001b[0m",
      "\u001b[1;31mAttributeError\u001b[0m                            Traceback (most recent call last)",
      "\u001b[1;32m~\\AppData\\Local\\Temp/ipykernel_23496/2772015905.py\u001b[0m in \u001b[0;36m<module>\u001b[1;34m\u001b[0m\n\u001b[0;32m      1\u001b[0m \u001b[1;31m# Éste método utiliza un atributo que ya no existe en la clase Coche\u001b[0m\u001b[1;33m\u001b[0m\u001b[1;33m\u001b[0m\u001b[0m\n\u001b[0;32m      2\u001b[0m \u001b[1;33m\u001b[0m\u001b[0m\n\u001b[1;32m----> 3\u001b[1;33m \u001b[0mhonda\u001b[0m\u001b[1;33m.\u001b[0m\u001b[0mdisplay_info\u001b[0m\u001b[1;33m(\u001b[0m\u001b[1;33m)\u001b[0m\u001b[1;33m\u001b[0m\u001b[1;33m\u001b[0m\u001b[0m\n\u001b[0m",
      "\u001b[1;32m~\\AppData\\Local\\Temp/ipykernel_23496/485162746.py\u001b[0m in \u001b[0;36mdisplay_info\u001b[1;34m(self)\u001b[0m\n\u001b[0;32m     10\u001b[0m     \u001b[1;32mdef\u001b[0m \u001b[0mdisplay_info\u001b[0m\u001b[1;33m(\u001b[0m\u001b[0mself\u001b[0m\u001b[1;33m)\u001b[0m\u001b[1;33m:\u001b[0m\u001b[1;33m\u001b[0m\u001b[1;33m\u001b[0m\u001b[0m\n\u001b[0;32m     11\u001b[0m         \u001b[0mprint\u001b[0m\u001b[1;33m(\u001b[0m\u001b[1;34m\"Info. Vehiculo\"\u001b[0m\u001b[1;33m)\u001b[0m\u001b[1;33m\u001b[0m\u001b[1;33m\u001b[0m\u001b[0m\n\u001b[1;32m---> 12\u001b[1;33m         \u001b[0mprint\u001b[0m\u001b[1;33m(\u001b[0m\u001b[1;34m\"Nº Ruedas: {}\"\u001b[0m\u001b[1;33m.\u001b[0m\u001b[0mformat\u001b[0m\u001b[1;33m(\u001b[0m\u001b[0mself\u001b[0m\u001b[1;33m.\u001b[0m\u001b[0mn_ruedas\u001b[0m\u001b[1;33m)\u001b[0m\u001b[1;33m)\u001b[0m\u001b[1;33m\u001b[0m\u001b[1;33m\u001b[0m\u001b[0m\n\u001b[0m\u001b[0;32m     13\u001b[0m         \u001b[0mprint\u001b[0m\u001b[1;33m(\u001b[0m\u001b[1;34m\"Nº Puertas: {}\"\u001b[0m\u001b[1;33m.\u001b[0m\u001b[0mformat\u001b[0m\u001b[1;33m(\u001b[0m\u001b[0mself\u001b[0m\u001b[1;33m.\u001b[0m\u001b[0mn_puertas\u001b[0m\u001b[1;33m)\u001b[0m\u001b[1;33m)\u001b[0m\u001b[1;33m\u001b[0m\u001b[1;33m\u001b[0m\u001b[0m\n\u001b[0;32m     14\u001b[0m         \u001b[0mprint\u001b[0m\u001b[1;33m(\u001b[0m\u001b[1;34m\"Tipo de Motor (Eléctrico/Combustible/Hibrido): {}\"\u001b[0m\u001b[1;33m.\u001b[0m\u001b[0mformat\u001b[0m\u001b[1;33m(\u001b[0m\u001b[0mself\u001b[0m\u001b[1;33m.\u001b[0m\u001b[0mtipo_motor\u001b[0m\u001b[1;33m)\u001b[0m\u001b[1;33m)\u001b[0m\u001b[1;33m\u001b[0m\u001b[1;33m\u001b[0m\u001b[0m\n",
      "\u001b[1;31mAttributeError\u001b[0m: 'Coche' object has no attribute 'n_ruedas'"
     ]
    }
   ],
   "source": [
    "# Éste método utiliza un atributo que ya no existe en la clase Coche\n",
    "\n",
    "honda.display_info()"
   ]
  },
  {
   "cell_type": "code",
   "execution_count": 59,
   "id": "80242130",
   "metadata": {},
   "outputs": [],
   "source": [
    "# 2. Para mantener los atributos de la clase Padre y agregar nuevos\n",
    "# Usamos una combinación entre __init__ y la función super()\n",
    "\n",
    "class Coche(Vehiculo):\n",
    "    def __init__(self, n_ruedas, n_puertas, tipo_motor, color, marca, kms = 0):\n",
    "        super().__init__(n_ruedas, n_puertas, tipo_motor)\n",
    "\n",
    "        self.color = color\n",
    "        self.marca = marca\n",
    "        \n",
    "    def coche_info(self):\n",
    "        print(f\"Este vehiculo es un coche {self.tipo_motor}.\")\n",
    "        \n",
    "# La función super().__init__() ejecutará el código del método __init__ de la clase Padre\n",
    "# Por eso, solo haría falta definir color y marca (que son los 2 nuevos atributos de la clase Coche)\n",
    "\n",
    "# Nota: Los parametros por defecto no son necesarios inicializarlos con super().__init__()\n",
    "\n",
    "# Esta nueva clase Coche mantiene los atributos y los métodos de Vehiculo\n",
    "# Además de agregar otro nuevo método."
   ]
  },
  {
   "cell_type": "code",
   "execution_count": 60,
   "id": "8dcd3f6e",
   "metadata": {},
   "outputs": [
    {
     "data": {
      "text/plain": [
       "<__main__.Coche at 0x2b307a6f160>"
      ]
     },
     "execution_count": 60,
     "metadata": {},
     "output_type": "execute_result"
    }
   ],
   "source": [
    "honda = Coche(n_ruedas = 4, n_puertas = 4, tipo_motor = \"Combustible\", color = \"Azul\", marca = \"Honda\", kms = 0)\n",
    "\n",
    "honda"
   ]
  },
  {
   "cell_type": "code",
   "execution_count": 62,
   "id": "ac143678",
   "metadata": {},
   "outputs": [
    {
     "name": "stdout",
     "output_type": "stream",
     "text": [
      "Info. Vehiculo\n",
      "Nº Ruedas: 4\n",
      "Nº Puertas: 4\n",
      "Tipo de Motor (Eléctrico/Combustible/Hibrido): Combustible\n",
      "Total de Km's: 0\n"
     ]
    }
   ],
   "source": [
    "honda.display_info()"
   ]
  },
  {
   "cell_type": "code",
   "execution_count": 63,
   "id": "22a1937d",
   "metadata": {},
   "outputs": [
    {
     "name": "stdout",
     "output_type": "stream",
     "text": [
      "Este vehiculo es un coche Combustible.\n"
     ]
    }
   ],
   "source": [
    "honda.coche_info()"
   ]
  },
  {
   "cell_type": "code",
   "execution_count": 64,
   "id": "6625be5b",
   "metadata": {},
   "outputs": [
    {
     "data": {
      "text/plain": [
       "'Azul'"
      ]
     },
     "execution_count": 64,
     "metadata": {},
     "output_type": "execute_result"
    }
   ],
   "source": [
    "honda.color"
   ]
  },
  {
   "cell_type": "code",
   "execution_count": 65,
   "id": "5397893e",
   "metadata": {},
   "outputs": [
    {
     "data": {
      "text/plain": [
       "'Honda'"
      ]
     },
     "execution_count": 65,
     "metadata": {},
     "output_type": "execute_result"
    }
   ],
   "source": [
    "honda.marca"
   ]
  },
  {
   "cell_type": "code",
   "execution_count": 78,
   "id": "900ff075",
   "metadata": {},
   "outputs": [],
   "source": [
    "from time import sleep\n",
    "from random import randint\n",
    "\n",
    "# Ahora vamos a agragarle más métodos y atributos a la clase Coche\n",
    "\n",
    "# Nota: Si quisieramos usar un método de la clase dentro de otro método, tendremos que utilizar \n",
    "# self para que Python entienda que es un método propio de esa clase.\n",
    "\n",
    "class Coche(Vehiculo):\n",
    "    def __init__(self, n_ruedas, n_puertas, tipo_motor, color , marca, kms = 0):\n",
    "        super().__init__(n_ruedas, n_puertas, tipo_motor)\n",
    "        self.color = color\n",
    "        self.marca = marca\n",
    "        \n",
    "        self.historial_color = {0 : color}\n",
    "        self.condicion_ruedas = 10\n",
    "        self.condicion_aceite = 10\n",
    "        self.limpieza = 10\n",
    "        self.gastos_totales = 0\n",
    "        \n",
    "        self.cond_general = sum([self.condicion_ruedas, self.condicion_aceite, self.limpieza])\n",
    "        \n",
    "    def coche_info(self):\n",
    "        print(\"Condiciones del coche:\")\n",
    "        print(\"Condición de las ruedas: {}\".format(self.condicion_ruedas))\n",
    "        print(\"Condición del aceite: {}\".format(self.condicion_aceite))\n",
    "        print(\"Limpieza General: {}\".format(self.limpieza))\n",
    "        print(\"KM TOTALES: {}\".format(sum(self.kms)))\n",
    "        print(\"GASTOS TOTALES: {}\".format(self.gastos_totales))\n",
    "        print(\"CONDICION GENERAL: {}\".format(self.cond_general))\n",
    "        \n",
    "    def cambiar_color(self, color):\n",
    "        self.color = color\n",
    "        \n",
    "        self.historial_color[len(self.historial_color)] = color\n",
    "        \n",
    "    def calcular_cond_general(self):\n",
    "        \n",
    "        self.cond_general = round((sum([self.condicion_ruedas, self.condicion_aceite, self.limpieza])/len([self.condicion_ruedas, self.condicion_aceite, self.limpieza])), 2)\n",
    "        #round recibe dos parametros un número y lo redondea a la cantidad de decimales indicados en el segundo parametro\n",
    "    def paseo_corto(self):\n",
    "        print(\"Estás tomando un paseo corto...\")\n",
    "        sleep(3)\n",
    "        self.condicion_ruedas -= 0.05\n",
    "        self.condicion_aceite -= 0.01\n",
    "        self.limpieza -= 0.1\n",
    "        self.kms.append(randint(10, 20))\n",
    "        \n",
    "        self.calcular_cond_general()\n",
    "        \n",
    "        self.coche_info()\n",
    "        \n",
    "    def paseo_largo(self):\n",
    "        print(\"Estás tomando un paseo largo...\")\n",
    "        sleep(10)\n",
    "        \n",
    "        self.condicion_ruedas -= 2\n",
    "        self.condicion_aceite -= 1\n",
    "        self.limpieza -= 2\n",
    "        self.kms.append(randint(50, 100))\n",
    "        \n",
    "        self.calcular_cond_general()\n",
    "        \n",
    "        self.coche_info()\n",
    "        \n",
    "    def limpiar_coche(self):\n",
    "        print(\"Limpiando coche...\")\n",
    "        self.gastos_totales += 100\n",
    "        \n",
    "        sleep(3)\n",
    "        \n",
    "        self.limpieza = 10\n",
    "        print(\"Coche limpio.\")\n",
    "        \n",
    "        self.calcular_cond_general()\n",
    "        \n",
    "        self.coche_info()\n",
    "        \n",
    "    def mantenimiento(self):\n",
    "        print(\"Estamos haciendo mantenimiento...\")\n",
    "        self.gastos_totales += 1000\n",
    "        sleep(5)\n",
    "        \n",
    "        self.condicion_ruedas = 10\n",
    "        self.condicion_aceite = 10\n",
    "        \n",
    "        self.calcular_cond_general()\n",
    "        \n",
    "        self.coche_info()"
   ]
  },
  {
   "cell_type": "code",
   "execution_count": 79,
   "id": "7302d15a",
   "metadata": {},
   "outputs": [],
   "source": [
    "mi_coche_nuevo = Coche(n_ruedas = 4, n_puertas = 4, tipo_motor = \"Combustible\", color = \"Azul\", marca = \"Mercedes\")"
   ]
  },
  {
   "cell_type": "code",
   "execution_count": 80,
   "id": "4f721bf9",
   "metadata": {},
   "outputs": [
    {
     "name": "stdout",
     "output_type": "stream",
     "text": [
      "Condiciones del coche:\n",
      "Condición de las ruedas: 10\n",
      "Condición del aceite: 10\n",
      "Limpieza General: 10\n",
      "KM TOTALES: 0\n",
      "GASTOS TOTALES: 0\n",
      "CONDICION GENERAL: 30\n"
     ]
    }
   ],
   "source": [
    "mi_coche_nuevo.coche_info()"
   ]
  },
  {
   "cell_type": "code",
   "execution_count": 81,
   "id": "d55c85a4",
   "metadata": {},
   "outputs": [
    {
     "name": "stdout",
     "output_type": "stream",
     "text": [
      "Estás tomando un paseo corto...\n",
      "Condiciones del coche:\n",
      "Condición de las ruedas: 9.95\n",
      "Condición del aceite: 9.99\n",
      "Limpieza General: 9.9\n",
      "KM TOTALES: 16\n",
      "GASTOS TOTALES: 0\n",
      "CONDICION GENERAL: 9.95\n"
     ]
    }
   ],
   "source": [
    "mi_coche_nuevo.paseo_corto()"
   ]
  },
  {
   "cell_type": "code",
   "execution_count": 82,
   "id": "3f5e7e73",
   "metadata": {},
   "outputs": [
    {
     "name": "stdout",
     "output_type": "stream",
     "text": [
      "Estás tomando un paseo largo...\n",
      "Condiciones del coche:\n",
      "Condición de las ruedas: 7.949999999999999\n",
      "Condición del aceite: 8.99\n",
      "Limpieza General: 7.9\n",
      "KM TOTALES: 105\n",
      "GASTOS TOTALES: 0\n",
      "CONDICION GENERAL: 8.28\n"
     ]
    }
   ],
   "source": [
    "mi_coche_nuevo.paseo_largo()"
   ]
  },
  {
   "cell_type": "code",
   "execution_count": 83,
   "id": "ec9d8a79",
   "metadata": {},
   "outputs": [
    {
     "data": {
      "text/plain": [
       "[0, 16, 89]"
      ]
     },
     "execution_count": 83,
     "metadata": {},
     "output_type": "execute_result"
    }
   ],
   "source": [
    "mi_coche_nuevo.kms"
   ]
  },
  {
   "cell_type": "code",
   "execution_count": 84,
   "id": "9e38fede",
   "metadata": {},
   "outputs": [
    {
     "data": {
      "text/plain": [
       "{0: 0, 1: 16, 2: 89}"
      ]
     },
     "execution_count": 84,
     "metadata": {},
     "output_type": "execute_result"
    }
   ],
   "source": [
    "mi_coche_nuevo.info_kms()"
   ]
  },
  {
   "cell_type": "code",
   "execution_count": 85,
   "id": "fb909829",
   "metadata": {},
   "outputs": [],
   "source": [
    "mi_coche_nuevo.cambiar_color(\"Rojo\")"
   ]
  },
  {
   "cell_type": "code",
   "execution_count": 86,
   "id": "e6aa4d9f",
   "metadata": {},
   "outputs": [
    {
     "data": {
      "text/plain": [
       "{0: 'Azul', 1: 'Rojo'}"
      ]
     },
     "execution_count": 86,
     "metadata": {},
     "output_type": "execute_result"
    }
   ],
   "source": [
    "mi_coche_nuevo.historial_color"
   ]
  },
  {
   "cell_type": "code",
   "execution_count": 87,
   "id": "15ef425a",
   "metadata": {},
   "outputs": [
    {
     "data": {
      "text/plain": [
       "'Rojo'"
      ]
     },
     "execution_count": 87,
     "metadata": {},
     "output_type": "execute_result"
    }
   ],
   "source": [
    "mi_coche_nuevo.color"
   ]
  },
  {
   "cell_type": "code",
   "execution_count": 88,
   "id": "b6762393-e802-4cd7-8039-24c573578255",
   "metadata": {},
   "outputs": [
    {
     "name": "stdout",
     "output_type": "stream",
     "text": [
      "Estamos haciendo mantenimiento...\n",
      "Condiciones del coche:\n",
      "Condición de las ruedas: 10\n",
      "Condición del aceite: 10\n",
      "Limpieza General: 7.9\n",
      "KM TOTALES: 105\n",
      "GASTOS TOTALES: 1000\n",
      "CONDICION GENERAL: 9.3\n"
     ]
    }
   ],
   "source": [
    "mi_coche_nuevo.mantenimiento()"
   ]
  },
  {
   "cell_type": "code",
   "execution_count": null,
   "id": "5aa5b1ec",
   "metadata": {},
   "outputs": [],
   "source": [
    "################################################################################################################################"
   ]
  }
 ],
 "metadata": {
  "kernelspec": {
   "display_name": "IronHack",
   "language": "python",
   "name": "ironhack"
  },
  "language_info": {
   "codemirror_mode": {
    "name": "ipython",
    "version": 3
   },
   "file_extension": ".py",
   "mimetype": "text/x-python",
   "name": "python",
   "nbconvert_exporter": "python",
   "pygments_lexer": "ipython3",
   "version": "3.9.12"
  }
 },
 "nbformat": 4,
 "nbformat_minor": 5
}
