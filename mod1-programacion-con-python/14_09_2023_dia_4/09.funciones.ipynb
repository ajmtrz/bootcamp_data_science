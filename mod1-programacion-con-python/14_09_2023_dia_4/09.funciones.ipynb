{
 "cells": [
  {
   "cell_type": "markdown",
   "id": "8f80f7cc",
   "metadata": {},
   "source": [
    "## Funciones\n",
    "\n",
    "Una **función** es un bloque de código con un nombre asociado, que **recibe cero o más argumentos como entrada**, sigue una secuencia de sentencias, la cuales ejecuta una operación deseada y **devuelve un valor y/o realiza una tarea**.\n",
    "\n",
    "En python las funciones se definen con la palabra reservada **`def`** y si es necesario, se utiliza la palabra reservada **`return`**.\n",
    "\n",
    "- Sintaxis:\n",
    "```python\n",
    "    def NombreFuncion(parametros):\n",
    "        \"bloque de código\"\n",
    "        return\n",
    "```\n",
    "\n",
    "**Ejemplo:**"
   ]
  },
  {
   "cell_type": "code",
   "execution_count": 1,
   "id": "5ce0239c",
   "metadata": {},
   "outputs": [],
   "source": [
    "# El cuadrado de un número\n",
    "\n",
    "def func_cuadrado(x):\n",
    "    \n",
    "    cuadrado = x**2\n",
    "    \n",
    "    return cuadrado\n",
    "\n",
    "# Esta función toma como parametro un número \"x\" y retorna el cuadrado de \"x\""
   ]
  },
  {
   "cell_type": "code",
   "execution_count": 2,
   "id": "b0c0a303",
   "metadata": {},
   "outputs": [
    {
     "data": {
      "text/plain": [
       "100"
      ]
     },
     "execution_count": 2,
     "metadata": {},
     "output_type": "execute_result"
    }
   ],
   "source": [
    "x = 10\n",
    "\n",
    "func_cuadrado(x)"
   ]
  },
  {
   "cell_type": "code",
   "execution_count": 3,
   "id": "2a208866-a907-4255-88bf-a8af8809d327",
   "metadata": {},
   "outputs": [],
   "source": [
    "resultado = func_cuadrado(x)"
   ]
  },
  {
   "cell_type": "code",
   "execution_count": 4,
   "id": "ea4e6766-3152-4939-9f75-1eb4a4a68d4c",
   "metadata": {},
   "outputs": [
    {
     "data": {
      "text/plain": [
       "100"
      ]
     },
     "execution_count": 4,
     "metadata": {},
     "output_type": "execute_result"
    }
   ],
   "source": [
    "resultado"
   ]
  },
  {
   "cell_type": "code",
   "execution_count": 5,
   "id": "164fc5b8",
   "metadata": {},
   "outputs": [],
   "source": [
    "# Datos de un usuario\n",
    "\n",
    "def func_datos():\n",
    "    \n",
    "    nombre = input(\"Ingresa tu nombre: \")\n",
    "    apellido = input(\"Ingresa tu apellido: \")\n",
    "    edad = int(input(\"Ingresa tu edad: \"))\n",
    "    lenguaje = input(\"Ingresa tu lenguaje de programación favorito: \")\n",
    "    \n",
    "    datos = [nombre, apellido, edad, lenguaje]\n",
    "    \n",
    "    return datos\n",
    "\n",
    "# Esta función no toma ningún parametro, pero retorna una lista con los datos que pregunta al usuario al ejecutarse."
   ]
  },
  {
   "cell_type": "code",
   "execution_count": 6,
   "id": "d2b301c0",
   "metadata": {},
   "outputs": [
    {
     "name": "stdin",
     "output_type": "stream",
     "text": [
      "Ingresa tu nombre:  Enrique\n",
      "Ingresa tu apellido:  Revuelta\n",
      "Ingresa tu edad:  40\n",
      "Ingresa tu lenguaje de programación favorito:  Python\n"
     ]
    },
    {
     "data": {
      "text/plain": [
       "['Enrique', 'Revuelta', 40, 'Python']"
      ]
     },
     "execution_count": 6,
     "metadata": {},
     "output_type": "execute_result"
    }
   ],
   "source": [
    "func_datos()"
   ]
  },
  {
   "cell_type": "code",
   "execution_count": 10,
   "id": "ac71692f-cd26-43af-8405-76c512cc6cec",
   "metadata": {},
   "outputs": [],
   "source": [
    "def func_datos2():\n",
    "    datos = {}\n",
    "    \n",
    "    datos['Nombre']   = input(\"Ingresa tu nombre: \")\n",
    "    datos['Apellido'] = input(\"Ingresa tu apellido: \")\n",
    "    try:\n",
    "        datos['Edad']     = int(input(\"Ingresa tu edad: \"))\n",
    "    except:\n",
    "        print('Introduce un valor numérico por favor')\n",
    "        datos['Edad']     = int(input(\"Ingresa tu edad: \"))\n",
    "    datos['Lenguaje'] = input(\"Ingresa tu lenguaje de programación favorito: \")\n",
    "    \n",
    "    return datos\n",
    "    "
   ]
  },
  {
   "cell_type": "code",
   "execution_count": 8,
   "id": "dae0f3ac-f1a9-4a0c-8f27-f6f76481bc57",
   "metadata": {},
   "outputs": [
    {
     "name": "stdin",
     "output_type": "stream",
     "text": [
      "Ingresa tu nombre:  Kike\n",
      "Ingresa tu apellido:  Revuelta\n",
      "Ingresa tu edad:  40\n",
      "Ingresa tu lenguaje de programación favorito:  PySpark\n"
     ]
    },
    {
     "data": {
      "text/plain": [
       "{'Nombre': 'Kike', 'Apellido': 'Revuelta', 'Edad': 40, 'Lenguaje': 'PySpark'}"
      ]
     },
     "execution_count": 8,
     "metadata": {},
     "output_type": "execute_result"
    }
   ],
   "source": [
    "func_datos2()"
   ]
  },
  {
   "cell_type": "code",
   "execution_count": 12,
   "id": "c4fcace2-2d29-4b43-9eb3-4c66282b628f",
   "metadata": {},
   "outputs": [
    {
     "name": "stdin",
     "output_type": "stream",
     "text": [
      "Ingresa tu nombre:  Kike\n",
      "Ingresa tu apellido:  Rev\n",
      "Ingresa tu edad:  40\n",
      "Ingresa tu lenguaje de programación favorito:  Py\n"
     ]
    },
    {
     "data": {
      "text/plain": [
       "{'Nombre': 'Kike', 'Apellido': 'Rev', 'Edad': 40, 'Lenguaje': 'Py'}"
      ]
     },
     "execution_count": 12,
     "metadata": {},
     "output_type": "execute_result"
    }
   ],
   "source": [
    "func_datos2()"
   ]
  },
  {
   "cell_type": "code",
   "execution_count": 13,
   "id": "f1c30388",
   "metadata": {
    "tags": []
   },
   "outputs": [
    {
     "name": "stdin",
     "output_type": "stream",
     "text": [
      "Ingresa tu nombre:  Enrique\n",
      "Ingresa tu apellido:  Revuelta\n",
      "Ingresa tu edad:  40\n",
      "Ingresa tu lenguaje de programación favorito:  Java (mentira)\n"
     ]
    }
   ],
   "source": [
    "lista_datos = func_datos2()"
   ]
  },
  {
   "cell_type": "code",
   "execution_count": 14,
   "id": "603aa1d1",
   "metadata": {},
   "outputs": [
    {
     "data": {
      "text/plain": [
       "{'Nombre': 'Enrique',\n",
       " 'Apellido': 'Revuelta',\n",
       " 'Edad': 40,\n",
       " 'Lenguaje': 'Java (mentira)'}"
      ]
     },
     "execution_count": 14,
     "metadata": {},
     "output_type": "execute_result"
    }
   ],
   "source": [
    "lista_datos"
   ]
  },
  {
   "cell_type": "code",
   "execution_count": 15,
   "id": "8a20dc16",
   "metadata": {},
   "outputs": [],
   "source": [
    "# Número par o impar\n",
    "\n",
    "def func_par_impar():\n",
    "    \n",
    "    x = int(input(\"Ingresa un número para verificar si es par o impar: \"))\n",
    "    \n",
    "    if x % 2 == 0:\n",
    "        print(\"El numero\", x, \"es par.\")\n",
    "    \n",
    "    else:\n",
    "        print(\"El numero\", x, \"es impar.\")\n",
    "        \n",
    "# Esta función no toma ningún parametro de entrada y no retorna nada."
   ]
  },
  {
   "cell_type": "code",
   "execution_count": 16,
   "id": "0e90ecf7",
   "metadata": {},
   "outputs": [
    {
     "name": "stdin",
     "output_type": "stream",
     "text": [
      "Ingresa un número para verificar si es par o impar:  23\n"
     ]
    },
    {
     "name": "stdout",
     "output_type": "stream",
     "text": [
      "El numero 23 es impar.\n"
     ]
    }
   ],
   "source": [
    "func_par_impar()"
   ]
  },
  {
   "cell_type": "markdown",
   "id": "8bcc04ee",
   "metadata": {},
   "source": [
    "### Parámetros por defecto (opcionales) y return\n",
    "\n",
    "- En python se pueden crear funciones con parámetros por defecto, estos parametros se pueden modificar al momento de llamar a la función.\n",
    "\n",
    "- Al momento de definir una función con parámetros opcionales de definen después de los obligatorios. Es decir, primero se escriben los parámetros obligatorios y de segundo los opcionales. \n",
    "\n",
    "- **`return:`** Cuando la función llega a la parte del **`return`** esta se detiene y termina su ejecución. Una función puede tener más de un **`return`** o no tenerlo."
   ]
  },
  {
   "cell_type": "code",
   "execution_count": 17,
   "id": "4c92786f",
   "metadata": {},
   "outputs": [],
   "source": [
    "def fecha_año(dia, mes = \"enero\", año = 2023):\n",
    "    \n",
    "    print(f\"Hoy es {dia} de {mes} de {año}\")\n",
    "    \n",
    "# En esta función tenemos 2 parametros opcionales y 1 obligatorio\n",
    "# Esta función no retorna nada."
   ]
  },
  {
   "cell_type": "code",
   "execution_count": 18,
   "id": "ba9d2a25",
   "metadata": {},
   "outputs": [
    {
     "name": "stdout",
     "output_type": "stream",
     "text": [
      "Hoy es 20 de enero de 2023\n"
     ]
    }
   ],
   "source": [
    "# Como solo hay 1 parametro obligatorio, puede ejecutar la función solo dandole el parametro obligatorio\n",
    "\n",
    "fecha_año(20)"
   ]
  },
  {
   "cell_type": "code",
   "execution_count": 19,
   "id": "1ecc02a6",
   "metadata": {},
   "outputs": [
    {
     "name": "stdout",
     "output_type": "stream",
     "text": [
      "Hoy es 14 de Septiembre de 2023\n"
     ]
    }
   ],
   "source": [
    "# Se puede cambiar un parametro por defecto al momento de ejecutar la función\n",
    "\n",
    "fecha_año(14, \"Septiembre\", 2023)"
   ]
  },
  {
   "cell_type": "code",
   "execution_count": 20,
   "id": "837d2f72",
   "metadata": {},
   "outputs": [],
   "source": [
    "# Función que retorna el cuadrado de un número si es par.\n",
    "\n",
    "def func_cuadrado_par(x = 100):\n",
    "    \n",
    "    if x % 2 == 0:\n",
    "        return x**2\n",
    "    \n",
    "    else:\n",
    "        return x"
   ]
  },
  {
   "cell_type": "code",
   "execution_count": 21,
   "id": "cbd1d7d8",
   "metadata": {},
   "outputs": [
    {
     "data": {
      "text/plain": [
       "100"
      ]
     },
     "execution_count": 21,
     "metadata": {},
     "output_type": "execute_result"
    }
   ],
   "source": [
    "func_cuadrado_par(10)"
   ]
  },
  {
   "cell_type": "code",
   "execution_count": 22,
   "id": "2bffb470",
   "metadata": {},
   "outputs": [
    {
     "data": {
      "text/plain": [
       "7"
      ]
     },
     "execution_count": 22,
     "metadata": {},
     "output_type": "execute_result"
    }
   ],
   "source": [
    "func_cuadrado_par(7)"
   ]
  },
  {
   "cell_type": "code",
   "execution_count": 23,
   "id": "6054669d",
   "metadata": {},
   "outputs": [
    {
     "data": {
      "text/plain": [
       "36"
      ]
     },
     "execution_count": 23,
     "metadata": {},
     "output_type": "execute_result"
    }
   ],
   "source": [
    "func_cuadrado_par(6)"
   ]
  },
  {
   "cell_type": "code",
   "execution_count": 24,
   "id": "d1bc2d21-da51-48df-b612-11a38f35e1b5",
   "metadata": {},
   "outputs": [
    {
     "data": {
      "text/plain": [
       "10000"
      ]
     },
     "execution_count": 24,
     "metadata": {},
     "output_type": "execute_result"
    }
   ],
   "source": [
    "func_cuadrado_par()"
   ]
  },
  {
   "cell_type": "markdown",
   "id": "8cbac4a6",
   "metadata": {},
   "source": [
    "### Retornar más de un elemento\n",
    "\n",
    "Hasta ahora hemos hecho funciones que solo retornan un elemento, número, lista... Pero podemos hacer que el **`return`** nos retorne varias elementos, de esta forma podemos asignar varias variables al mismo tiempo."
   ]
  },
  {
   "cell_type": "code",
   "execution_count": 46,
   "id": "8a94b301",
   "metadata": {},
   "outputs": [],
   "source": [
    "# Funcion que retorna el minimo y el maximo de una lista\n",
    "\n",
    "def min_max_lista(lista):\n",
    "    \n",
    "    minimo = min(lista)\n",
    "    maximo = max(lista)\n",
    "    \n",
    "    return minimo, maximo"
   ]
  },
  {
   "cell_type": "code",
   "execution_count": 47,
   "id": "7e55679f",
   "metadata": {},
   "outputs": [],
   "source": [
    "# Lista aleatoria\n",
    "\n",
    "import random\n",
    "\n",
    "lista = []\n",
    "\n",
    "for i in range(1000):\n",
    "    lista.append(random.randint(1, 10000))"
   ]
  },
  {
   "cell_type": "code",
   "execution_count": 48,
   "id": "fcc9e772-52f8-4c28-839a-fe7a49dc36ca",
   "metadata": {},
   "outputs": [
    {
     "data": {
      "text/plain": [
       "1000"
      ]
     },
     "execution_count": 48,
     "metadata": {},
     "output_type": "execute_result"
    }
   ],
   "source": [
    "len(lista)"
   ]
  },
  {
   "cell_type": "code",
   "execution_count": 49,
   "id": "8c35df2b",
   "metadata": {},
   "outputs": [
    {
     "data": {
      "text/plain": [
       "(15, 9998)"
      ]
     },
     "execution_count": 49,
     "metadata": {},
     "output_type": "execute_result"
    }
   ],
   "source": [
    "min_max_lista(lista)"
   ]
  },
  {
   "cell_type": "code",
   "execution_count": 50,
   "id": "5a327486",
   "metadata": {},
   "outputs": [],
   "source": [
    "minimo_lista, maximo_lista = min_max_lista(lista)"
   ]
  },
  {
   "cell_type": "code",
   "execution_count": 51,
   "id": "5ddbf07a",
   "metadata": {},
   "outputs": [
    {
     "name": "stdout",
     "output_type": "stream",
     "text": [
      "15\n",
      "9998\n"
     ]
    }
   ],
   "source": [
    "print(minimo_lista)\n",
    "print(maximo_lista)"
   ]
  },
  {
   "cell_type": "markdown",
   "id": "1c99790a",
   "metadata": {},
   "source": [
    "### Variables locales y globales\n",
    "\n",
    "- En Python las **variables locales son aquellas definidas dentro de una función**. Solamente **son accesibles desde la propia función y dejan de existir cuando esta termina su ejecución**. Los parámetros de una función también son considerados como variables locales.\n",
    "\n",
    "\n",
    "- En Python las **variables globales son aquellas definidas en el cuerpo principal del programa fuera de cualquier función**. Son **accesibles desde cualquier punto del programa, incluso desde dentro de funciones**. También se puede acceder a las variables globales de otros programas o módulos importados."
   ]
  },
  {
   "cell_type": "code",
   "execution_count": 65,
   "id": "9ecdf61b",
   "metadata": {},
   "outputs": [],
   "source": [
    "var_global = 100\n",
    "\n",
    "def suma_100(valor_inicial):\n",
    "    \n",
    "    suma = valor_inicial + var_global\n",
    "    print(f'El valor de valor inicial es: {valor_inicial}')\n",
    "    print('El valor de valor inicial es: {}'.format(valor_inicial))\n",
    "    \n",
    "    return suma"
   ]
  },
  {
   "cell_type": "code",
   "execution_count": 66,
   "id": "b3925285",
   "metadata": {},
   "outputs": [
    {
     "name": "stdout",
     "output_type": "stream",
     "text": [
      "El valor de valor inicial es: 10\n",
      "El valor de valor inicial es: 10\n"
     ]
    },
    {
     "data": {
      "text/plain": [
       "110"
      ]
     },
     "execution_count": 66,
     "metadata": {},
     "output_type": "execute_result"
    }
   ],
   "source": [
    "suma_100(10)"
   ]
  },
  {
   "cell_type": "code",
   "execution_count": 59,
   "id": "33990fa0",
   "metadata": {},
   "outputs": [
    {
     "ename": "NameError",
     "evalue": "name 'valor_incial' is not defined",
     "output_type": "error",
     "traceback": [
      "\u001b[1;31m---------------------------------------------------------------------------\u001b[0m",
      "\u001b[1;31mNameError\u001b[0m                                 Traceback (most recent call last)",
      "Input \u001b[1;32mIn [59]\u001b[0m, in \u001b[0;36m<cell line: 6>\u001b[1;34m()\u001b[0m\n\u001b[0;32m      1\u001b[0m \u001b[38;5;66;03m# En la función anterior usamos una variable fuera de la función que no esta en el parametro ni en el cuerpo de la función.\u001b[39;00m\n\u001b[0;32m      2\u001b[0m \u001b[38;5;66;03m# Si ahora intentamos imprimir por pantalla la variable \"valor_inicial\" y la variable \"suma\" nos dará error.\u001b[39;00m\n\u001b[0;32m      3\u001b[0m \u001b[38;5;66;03m# Esto es porque esas variables se crearon con la función.\u001b[39;00m\n\u001b[0;32m      4\u001b[0m \u001b[38;5;66;03m# Y cuando la función termina de ejecutarse estas variables dejan de existir.\u001b[39;00m\n\u001b[1;32m----> 6\u001b[0m \u001b[38;5;28mprint\u001b[39m(\u001b[43mvalor_incial\u001b[49m)\n",
      "\u001b[1;31mNameError\u001b[0m: name 'valor_incial' is not defined"
     ]
    }
   ],
   "source": [
    "# En la función anterior usamos una variable fuera de la función que no esta en el parametro ni en el cuerpo de la función.\n",
    "# Si ahora intentamos imprimir por pantalla la variable \"valor_inicial\" y la variable \"suma\" nos dará error.\n",
    "# Esto es porque esas variables se crearon con la función.\n",
    "# Y cuando la función termina de ejecutarse estas variables dejan de existir.\n",
    "\n",
    "print(valor_incial)"
   ]
  },
  {
   "cell_type": "code",
   "execution_count": 60,
   "id": "14da27ff",
   "metadata": {},
   "outputs": [
    {
     "ename": "NameError",
     "evalue": "name 'suma' is not defined",
     "output_type": "error",
     "traceback": [
      "\u001b[1;31m---------------------------------------------------------------------------\u001b[0m",
      "\u001b[1;31mNameError\u001b[0m                                 Traceback (most recent call last)",
      "Input \u001b[1;32mIn [60]\u001b[0m, in \u001b[0;36m<cell line: 3>\u001b[1;34m()\u001b[0m\n\u001b[0;32m      1\u001b[0m \u001b[38;5;66;03m# La variable \"suma\" es una variable local, así que no podremos utilizarla fuera de la función.\u001b[39;00m\n\u001b[1;32m----> 3\u001b[0m \u001b[38;5;28mprint\u001b[39m(\u001b[43msuma\u001b[49m)\n",
      "\u001b[1;31mNameError\u001b[0m: name 'suma' is not defined"
     ]
    }
   ],
   "source": [
    "# La variable \"suma\" es una variable local, así que no podremos utilizarla fuera de la función.\n",
    "\n",
    "print(suma)"
   ]
  },
  {
   "cell_type": "markdown",
   "id": "a84373ca",
   "metadata": {},
   "source": [
    "### Lambda (función anónima)\n",
    "\n",
    "Python cuenta con la función **`lambda`**, también llamada función anónima, su utilidad es poder crear funciones sin tener que darle un nombre. Debido a la sintaxis de la función **`lambda`** está es un poco limitada.\n",
    "\n",
    "Se usa principalmente para funciones cortas, puede tomar muchos parámetros y puede retornar cualquier tipo de dato (numero, tupla, lista, diccionario...).\n",
    "\n",
    "- Sintaxis: **`lambda parametros : expresiones`**"
   ]
  },
  {
   "cell_type": "code",
   "execution_count": 67,
   "id": "fdca7a3b",
   "metadata": {},
   "outputs": [
    {
     "data": {
      "text/plain": [
       "30"
      ]
     },
     "execution_count": 67,
     "metadata": {},
     "output_type": "execute_result"
    }
   ],
   "source": [
    "x = lambda a, b : a + b\n",
    "\n",
    "x(10, 20)"
   ]
  },
  {
   "cell_type": "code",
   "execution_count": 68,
   "id": "26044a56",
   "metadata": {},
   "outputs": [
    {
     "data": {
      "text/plain": [
       "100"
      ]
     },
     "execution_count": 68,
     "metadata": {},
     "output_type": "execute_result"
    }
   ],
   "source": [
    "y = lambda n : n**2\n",
    "\n",
    "y(10)"
   ]
  },
  {
   "cell_type": "code",
   "execution_count": 69,
   "id": "563bfbbb",
   "metadata": {},
   "outputs": [
    {
     "data": {
      "text/plain": [
       "<function __main__.<lambda>(a, b)>"
      ]
     },
     "execution_count": 69,
     "metadata": {},
     "output_type": "execute_result"
    }
   ],
   "source": [
    "x"
   ]
  },
  {
   "cell_type": "code",
   "execution_count": 70,
   "id": "d5c1cda9",
   "metadata": {},
   "outputs": [
    {
     "data": {
      "text/plain": [
       "<function __main__.<lambda>(n)>"
      ]
     },
     "execution_count": 70,
     "metadata": {},
     "output_type": "execute_result"
    }
   ],
   "source": [
    "y"
   ]
  },
  {
   "cell_type": "code",
   "execution_count": 71,
   "id": "f583c3a7",
   "metadata": {},
   "outputs": [
    {
     "data": {
      "text/plain": [
       "9"
      ]
     },
     "execution_count": 71,
     "metadata": {},
     "output_type": "execute_result"
    }
   ],
   "source": [
    "cuadrado = y(3)\n",
    "\n",
    "cuadrado"
   ]
  },
  {
   "cell_type": "markdown",
   "id": "51844126",
   "metadata": {},
   "source": [
    "**Si quisieramos que retorne más de un elemento, podemos colocar las operaciones en una lista o tupla.**"
   ]
  },
  {
   "cell_type": "code",
   "execution_count": 72,
   "id": "bd2a5a9c",
   "metadata": {},
   "outputs": [
    {
     "data": {
      "text/plain": [
       "[20, 0]"
      ]
     },
     "execution_count": 72,
     "metadata": {},
     "output_type": "execute_result"
    }
   ],
   "source": [
    "x = lambda a, b : [a + b, a - b]\n",
    "x(10, 10)"
   ]
  },
  {
   "cell_type": "markdown",
   "id": "1c1ed8b9",
   "metadata": {},
   "source": [
    "**También podemos usar funciones dentro de `lambda`**"
   ]
  },
  {
   "cell_type": "code",
   "execution_count": 73,
   "id": "ba16ebb3",
   "metadata": {},
   "outputs": [],
   "source": [
    "z = lambda a : y(a)"
   ]
  },
  {
   "cell_type": "code",
   "execution_count": 74,
   "id": "4d9ef4b8",
   "metadata": {},
   "outputs": [
    {
     "data": {
      "text/plain": [
       "64"
      ]
     },
     "execution_count": 74,
     "metadata": {},
     "output_type": "execute_result"
    }
   ],
   "source": [
    "z(8)"
   ]
  },
  {
   "cell_type": "code",
   "execution_count": 75,
   "id": "2aa769d1",
   "metadata": {},
   "outputs": [],
   "source": [
    "z = lambda a, b : [x(a, b), y(sum(x(a, b)))]"
   ]
  },
  {
   "cell_type": "code",
   "execution_count": 76,
   "id": "8f521122",
   "metadata": {},
   "outputs": [
    {
     "data": {
      "text/plain": [
       "[[20, 0], 400]"
      ]
     },
     "execution_count": 76,
     "metadata": {},
     "output_type": "execute_result"
    }
   ],
   "source": [
    "z(10, 10)"
   ]
  },
  {
   "cell_type": "markdown",
   "id": "7833abdc",
   "metadata": {},
   "source": [
    "Ejemplo de función un poco más compleja "
   ]
  },
  {
   "cell_type": "markdown",
   "id": "e341a7ee-5d97-4919-978d-4114a667359f",
   "metadata": {},
   "source": [
    "pep8 - Python Style Guide\n",
    "\n",
    "https://pep8.org/"
   ]
  },
  {
   "cell_type": "code",
   "execution_count": 83,
   "id": "5104d9c1",
   "metadata": {},
   "outputs": [],
   "source": [
    "#pep8\n",
    "def encrypt(text:str, s:int)->str:\n",
    "    \"\"\"\n",
    "    This function encrypt text that received like a parameter.\n",
    "    \n",
    "    Params:\n",
    "        text: String that will be encrypted.\n",
    "        s: Int, number to change the character.\n",
    "    \n",
    "    Logic:\n",
    "    \n",
    "        First translate a character into a number\n",
    "        Then add 's' to character value and subtract 65 if is upper \n",
    "        or 97 if is lower case\n",
    "        Then obtain the remainder of the operation by 26 (number of dictionary letters)\n",
    "        Finally add 65 in case the letter is upper or 97 if it is lower case\n",
    "    \n",
    "    Return:\n",
    "        text encrypted.\n",
    "    \n",
    "    \"\"\"\n",
    "    result = \"\"\n",
    "    \n",
    "    for i in range(len(text)):\n",
    "        char = text[i]\n",
    "      # Encrypt uppercase characters in plain text\n",
    "        if char == ' ':\n",
    "            result += char\n",
    "        elif (char.isupper()):\n",
    "            result += chr((ord(char) + s - 65) % 26 + 65)\n",
    "      # Encrypt lowercase characters in plain text\n",
    "        else:\n",
    "            result += chr((ord(char) + s - 97) % 26 + 97)\n",
    "    return result"
   ]
  },
  {
   "cell_type": "code",
   "execution_count": 81,
   "id": "e2c8550a-4287-49b1-ab6b-643d4e41dce7",
   "metadata": {},
   "outputs": [
    {
     "data": {
      "text/plain": [
       "101"
      ]
     },
     "execution_count": 81,
     "metadata": {},
     "output_type": "execute_result"
    }
   ],
   "source": [
    "ord('e')"
   ]
  },
  {
   "cell_type": "code",
   "execution_count": 90,
   "id": "8b029008-e87c-4baf-aec9-ae1bb920e447",
   "metadata": {},
   "outputs": [
    {
     "name": "stdout",
     "output_type": "stream",
     "text": [
      "El valor de A cifrado es: F\n",
      "El valor de B cifrado es: G\n",
      "El valor de C cifrado es: H\n",
      "El valor de D cifrado es: I\n",
      "El valor de E cifrado es: J\n",
      "El valor de F cifrado es: K\n",
      "El valor de G cifrado es: L\n",
      "El valor de H cifrado es: M\n",
      "El valor de I cifrado es: N\n",
      "El valor de J cifrado es: O\n",
      "El valor de K cifrado es: P\n",
      "El valor de L cifrado es: Q\n",
      "El valor de M cifrado es: R\n",
      "El valor de N cifrado es: S\n",
      "El valor de O cifrado es: T\n",
      "El valor de P cifrado es: U\n",
      "El valor de Q cifrado es: V\n",
      "El valor de R cifrado es: W\n",
      "El valor de S cifrado es: X\n",
      "El valor de T cifrado es: Y\n",
      "El valor de U cifrado es: Z\n",
      "El valor de V cifrado es: A\n",
      "El valor de W cifrado es: B\n",
      "El valor de X cifrado es: C\n",
      "El valor de Y cifrado es: D\n",
      "El valor de Z cifrado es: E\n"
     ]
    }
   ],
   "source": [
    "for e in 'abcdefghijklmnopqrstuvwxyz':\n",
    "    print(f'El valor de {e.upper()} cifrado es: {encrypt(e.upper(), 5)}')"
   ]
  },
  {
   "cell_type": "code",
   "execution_count": 86,
   "id": "39c58055",
   "metadata": {},
   "outputs": [
    {
     "data": {
      "text/plain": [
       "'Ktxowak Xkbakrzg'"
      ]
     },
     "execution_count": 86,
     "metadata": {},
     "output_type": "execute_result"
    }
   ],
   "source": [
    "encrypt('Enrique Revuelta', 6)"
   ]
  },
  {
   "cell_type": "code",
   "execution_count": 85,
   "id": "1708ed53-37df-42d8-8c50-1c265bc4cfca",
   "metadata": {},
   "outputs": [
    {
     "data": {
      "text/plain": [
       "'Enrique Revuelta'"
      ]
     },
     "execution_count": 85,
     "metadata": {},
     "output_type": "execute_result"
    }
   ],
   "source": [
    "encrypt('Raevdhr Erihrygn', -13)"
   ]
  },
  {
   "cell_type": "code",
   "execution_count": null,
   "id": "112702bc",
   "metadata": {},
   "outputs": [],
   "source": [
    "################################################################################################################################"
   ]
  }
 ],
 "metadata": {
  "kernelspec": {
   "display_name": "IronHack",
   "language": "python",
   "name": "ironhack"
  },
  "language_info": {
   "codemirror_mode": {
    "name": "ipython",
    "version": 3
   },
   "file_extension": ".py",
   "mimetype": "text/x-python",
   "name": "python",
   "nbconvert_exporter": "python",
   "pygments_lexer": "ipython3",
   "version": "3.9.12"
  }
 },
 "nbformat": 4,
 "nbformat_minor": 5
}
