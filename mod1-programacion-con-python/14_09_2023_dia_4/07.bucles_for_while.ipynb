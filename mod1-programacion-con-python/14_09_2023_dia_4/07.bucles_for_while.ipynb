{
 "cells": [
  {
   "cell_type": "markdown",
   "id": "66258df1",
   "metadata": {},
   "source": [
    "## Bluces\n",
    "\n",
    "### for\n",
    "\n",
    "Los bucles **`for`** son utilizados cuando se quiere **repetir un bloque de código un número determinado de veces** por lo que en algún momento el bucle se detiene.\n",
    "\n",
    "En python, podemos usar los bucles **`for`** para recorrer cualquier objeto iterable (tuplas, listas, diccionarios, strings, ...) y para hacerlo \"creamos\" una variable para el bucle.\n",
    "\n",
    "Existe una función **`range()`** que crea objetos iterables que podemos usar en el bucle.\n",
    "\n",
    "**Dentro del bucle podemos escribir cualquier tipo de codigo que queramos.**"
   ]
  },
  {
   "cell_type": "code",
   "execution_count": null,
   "id": "66262aa2",
   "metadata": {},
   "outputs": [],
   "source": [
    "# de 0 hasta n-1\n",
    "for i in range(10):\n",
    "    print(i)"
   ]
  },
  {
   "cell_type": "code",
   "execution_count": null,
   "id": "91747f20",
   "metadata": {},
   "outputs": [],
   "source": [
    "# start-stop\n",
    "for i in range(5, 15):\n",
    "    print(i)"
   ]
  },
  {
   "cell_type": "code",
   "execution_count": null,
   "id": "726bdad2",
   "metadata": {},
   "outputs": [],
   "source": [
    "# start - stop - step\n",
    "for i in range(5, 15, 2):\n",
    "    print(i)"
   ]
  },
  {
   "cell_type": "code",
   "execution_count": null,
   "id": "e64dbcac",
   "metadata": {},
   "outputs": [],
   "source": [
    "lista = [1, 10, 100, 1000, 10000, 100000]\n",
    "\n",
    "for numero in lista:\n",
    "    print(numero)"
   ]
  },
  {
   "cell_type": "code",
   "execution_count": null,
   "id": "8da1a329-04b1-405a-ac68-84254d9fbb24",
   "metadata": {},
   "outputs": [],
   "source": [
    "lista2 = [1, 'Ane', 3, 'Sybil', 7, 'Kike', 7.0, ['Hola','como', 'andas']]\n",
    "\n",
    "for elemento in lista2:\n",
    "    print(elemento)"
   ]
  },
  {
   "cell_type": "code",
   "execution_count": null,
   "id": "4bdfb6a3-1c49-4f76-9c07-d60ca4fdc41e",
   "metadata": {},
   "outputs": [],
   "source": [
    "lista2 = [1, 'Ane', 3, 'Sybil', 7, 'Kike', 7.0, ['Hola','como', 'andas']]\n",
    "\n",
    "for _ in lista2:\n",
    "    print(_)"
   ]
  },
  {
   "cell_type": "code",
   "execution_count": null,
   "id": "793ce0d0",
   "metadata": {},
   "outputs": [],
   "source": [
    "string = \"Hola Mundo\"\n",
    "\n",
    "for i in string:\n",
    "    print(i)"
   ]
  },
  {
   "cell_type": "code",
   "execution_count": null,
   "id": "734e2ed1",
   "metadata": {
    "scrolled": true
   },
   "outputs": [],
   "source": [
    "par   = []\n",
    "impar = []\n",
    "\n",
    "for i in range(30):\n",
    "    \n",
    "    if i % 2 == 0:\n",
    "        #print(\"El numero\", i, \"es par.\")\n",
    "        par.append(i)\n",
    "        \n",
    "    else:\n",
    "        #print(\"El numero\", i, \"es impar.\")\n",
    "        impar.append(i)\n",
    "print(par)\n",
    "print(impar)"
   ]
  },
  {
   "cell_type": "code",
   "execution_count": null,
   "id": "3346e08a",
   "metadata": {},
   "outputs": [],
   "source": [
    "string = \"Hola mundo\"\n",
    "\n",
    "for letra in string:\n",
    "    \n",
    "    if letra == \"a\" or letra == \"e\" or letra == \"i\" or letra == \"o\" or letra == \"u\":\n",
    "        print(\"Vocal.\", letra)\n",
    "    \n",
    "    else:\n",
    "        print(\"Consonante.\", letra)"
   ]
  },
  {
   "cell_type": "markdown",
   "id": "054f8cdd",
   "metadata": {},
   "source": [
    "**Esta forma de recorrer bucles `for` sobre objetos iterables tiene una sintaxis única, es decir, solo se puede hacer en python.**\n",
    "\n",
    "**Si quisieramos recorrer un bucle como lo hacen en otros lenguajes podemos hacer uso de los indices de los elementos usando las funciones `range()` y `len()`.**"
   ]
  },
  {
   "cell_type": "code",
   "execution_count": null,
   "id": "dbaa68e0",
   "metadata": {},
   "outputs": [],
   "source": [
    "string = \"Hola Mundo\"\n",
    "print(len(string))\n",
    "for i in range(len(string)):\n",
    "    print(string[i])\n",
    "    if string[i] == 'a':\n",
    "        break"
   ]
  },
  {
   "cell_type": "code",
   "execution_count": null,
   "id": "397211d4-dd7c-4793-be17-ae58259fb295",
   "metadata": {},
   "outputs": [],
   "source": [
    "type(range(10))"
   ]
  },
  {
   "cell_type": "code",
   "execution_count": null,
   "id": "dd457cfb-c2fd-47d3-aaff-00931a38f16b",
   "metadata": {},
   "outputs": [],
   "source": [
    "for i in range(10):\n",
    "    print(string[i])"
   ]
  },
  {
   "cell_type": "code",
   "execution_count": null,
   "id": "1f81a698",
   "metadata": {},
   "outputs": [],
   "source": [
    "lista = [1, 10, 100, 1000, 10000, 100000]\n",
    "\n",
    "for i in range(len(lista)):\n",
    "    print(lista[i])"
   ]
  },
  {
   "cell_type": "markdown",
   "id": "6e94fbe3",
   "metadata": {},
   "source": [
    "### for y lists\n",
    "\n",
    "Los bucles **`for`** se usan en conjunto con las listas para agregar o quitar elementos."
   ]
  },
  {
   "cell_type": "code",
   "execution_count": null,
   "id": "ebb632a2",
   "metadata": {},
   "outputs": [],
   "source": [
    "lista = []  # Lista vacia\n",
    "\n",
    "for i in range(10):\n",
    "    lista.append(i)\n",
    "    \n",
    "lista"
   ]
  },
  {
   "cell_type": "code",
   "execution_count": null,
   "id": "3cd3987a",
   "metadata": {},
   "outputs": [],
   "source": [
    "lista = []\n",
    "\n",
    "string = \"Hola Mundo!!!!!!\"\n",
    "\n",
    "for letra in string:\n",
    "    lista.append(letra)\n",
    "    \n",
    "    \n",
    "print(lista)"
   ]
  },
  {
   "cell_type": "code",
   "execution_count": null,
   "id": "c9d93429",
   "metadata": {},
   "outputs": [],
   "source": [
    "lista = []\n",
    "\n",
    "string = \"Hola Mundo!!!!!!\"\n",
    "\n",
    "for letra in string:\n",
    "    lista.append(letra.upper())\n",
    "    \n",
    "    \n",
    "print(lista)"
   ]
  },
  {
   "cell_type": "code",
   "execution_count": null,
   "id": "8cd47172",
   "metadata": {},
   "outputs": [],
   "source": [
    "# También podemos usar condicionales\n",
    "\n",
    "lista = []\n",
    "\n",
    "string = \"cadena con varias letras a\"\n",
    "\n",
    "for letra in string:\n",
    "    if letra != \"a\":\n",
    "        lista.append(letra)\n",
    "        \n",
    "lista"
   ]
  },
  {
   "cell_type": "code",
   "execution_count": null,
   "id": "6ac04515-acef-4123-a8b2-c01851db136d",
   "metadata": {},
   "outputs": [],
   "source": [
    "lista = []\n",
    "\n",
    "string = \"cadena con varias letras a\"\n",
    "\n",
    "for i in range(len(string)):\n",
    "    if string[i] != \"a\":\n",
    "        lista.append(string[i])\n",
    "        \n",
    "lista"
   ]
  },
  {
   "cell_type": "code",
   "execution_count": null,
   "id": "c13fa670-c7fc-4af4-8b57-a9e280d307ea",
   "metadata": {},
   "outputs": [],
   "source": [
    "string.split('a')"
   ]
  },
  {
   "cell_type": "markdown",
   "id": "43483695",
   "metadata": {},
   "source": [
    "### while\n",
    "\n",
    "Los bucles **`while`** son bucles que se ejecutan siempre que se cumpla una condición, si la condición dejase de cumplirse el bucle se detendría.\n",
    "\n",
    "La principal diferencia con el bucle **`for`** es que el bucle **`while`** necesita una condición para poder ejecutarse y no se detendrá hasta que la condición sea **False**, es decir, puede ejecutarse un número variable de veces o incluso nunca detenerse."
   ]
  },
  {
   "cell_type": "code",
   "execution_count": 1,
   "id": "4320dfb3",
   "metadata": {},
   "outputs": [
    {
     "name": "stdout",
     "output_type": "stream",
     "text": [
      "El valor de i es: 0\n",
      "Es menor a 5.\n",
      "******************************\n",
      "El valor de i es: 1\n",
      "Es menor a 5.\n",
      "******************************\n",
      "El valor de i es: 2\n",
      "Es menor a 5.\n",
      "******************************\n",
      "El valor de i es: 3\n",
      "Es menor a 5.\n",
      "******************************\n",
      "El valor de i es: 4\n",
      "Es menor a 5.\n",
      "******************************\n"
     ]
    }
   ],
   "source": [
    "i = 0\n",
    "\n",
    "while i < 5:\n",
    "    print(\"El valor de i es:\", i)\n",
    "    print(\"Es menor a 5.\")\n",
    "    print(\"***\"*10)\n",
    "    \n",
    "    i += 1"
   ]
  },
  {
   "cell_type": "code",
   "execution_count": null,
   "id": "178d523d",
   "metadata": {
    "scrolled": true,
    "tags": []
   },
   "outputs": [],
   "source": [
    "# No ejecutar\n",
    "\n",
    "i = 0\n",
    "\n",
    "while i < 5:\n",
    "    print(\"El valor de i es:\", i)\n",
    "    print(\"Es menor a 5.\")\n",
    "    print(\"***\"*10)"
   ]
  },
  {
   "cell_type": "code",
   "execution_count": 5,
   "id": "de288bed",
   "metadata": {},
   "outputs": [
    {
     "name": "stdout",
     "output_type": "stream",
     "text": [
      "i es par 0\n"
     ]
    },
    {
     "name": "stdin",
     "output_type": "stream",
     "text": [
      "Ingrese un nombre:  dANiEl\n"
     ]
    },
    {
     "name": "stdout",
     "output_type": "stream",
     "text": [
      "i es par 2\n"
     ]
    },
    {
     "name": "stdin",
     "output_type": "stream",
     "text": [
      "Ingrese un nombre:  kike\n"
     ]
    }
   ],
   "source": [
    "i = 0\n",
    "nombre = \"Daniel\"\n",
    "\n",
    "while (i < 10) and (nombre == \"Daniel\"):\n",
    "    \n",
    "    if i % 2 == 0:\n",
    "        print(\"i es par\", i)\n",
    "        \n",
    "        nombre = input(\"Ingrese un nombre: \").capitalize()\n",
    "    \n",
    "    i += 1"
   ]
  },
  {
   "cell_type": "markdown",
   "id": "63c52966",
   "metadata": {},
   "source": [
    "### break\n",
    "\n",
    "La palabra reservada **`break`** detiene un bucle y continua con el código que va después del bucle."
   ]
  },
  {
   "cell_type": "code",
   "execution_count": 6,
   "id": "712bcbfa",
   "metadata": {},
   "outputs": [
    {
     "name": "stdout",
     "output_type": "stream",
     "text": [
      "0\n",
      "1\n",
      "2\n",
      "3\n",
      "4\n",
      "5\n",
      "6\n",
      "7\n",
      "8\n",
      "9\n",
      "10\n"
     ]
    }
   ],
   "source": [
    "for i in range(100000000):\n",
    "    print(i)\n",
    "    if i == 10:\n",
    "        break"
   ]
  },
  {
   "cell_type": "code",
   "execution_count": 7,
   "id": "1e46fe63",
   "metadata": {},
   "outputs": [
    {
     "name": "stdout",
     "output_type": "stream",
     "text": [
      "1\n",
      "2\n",
      "3\n",
      "4\n",
      "5\n",
      "6\n",
      "7\n",
      "8\n",
      "9\n",
      "10\n"
     ]
    }
   ],
   "source": [
    "i = 0\n",
    "\n",
    "while i < 10000000000:\n",
    "    \n",
    "    i += 1\n",
    "    print(i)\n",
    "    \n",
    "    if i == 10:\n",
    "        break"
   ]
  },
  {
   "cell_type": "markdown",
   "id": "1d857128",
   "metadata": {},
   "source": [
    "### Bucles anidados\n",
    "\n",
    "Como muchas cosas en Python, se pueden anidar bucles. Dependiendo del bucle, esto puede alargar el tiempo de ejecución."
   ]
  },
  {
   "cell_type": "code",
   "execution_count": 10,
   "id": "896f3dae",
   "metadata": {
    "collapsed": true,
    "jupyter": {
     "outputs_hidden": true
    },
    "tags": []
   },
   "outputs": [
    {
     "name": "stdout",
     "output_type": "stream",
     "text": [
      "0 0 0\n",
      "0 0 1\n",
      "0 0 2\n",
      "0 0 3\n",
      "0 0 4\n",
      "0 1 0\n",
      "0 1 1\n",
      "0 1 2\n",
      "0 1 3\n",
      "0 1 4\n",
      "0 2 0\n",
      "0 2 1\n",
      "0 2 2\n",
      "0 2 3\n",
      "0 2 4\n",
      "0 3 0\n",
      "0 3 1\n",
      "0 3 2\n",
      "0 3 3\n",
      "0 3 4\n",
      "0 4 0\n",
      "0 4 1\n",
      "0 4 2\n",
      "0 4 3\n",
      "0 4 4\n",
      "1 0 0\n",
      "1 0 1\n",
      "1 0 2\n",
      "1 0 3\n",
      "1 0 4\n",
      "1 1 0\n",
      "1 1 1\n",
      "1 1 2\n",
      "1 1 3\n",
      "1 1 4\n",
      "1 2 0\n",
      "1 2 1\n",
      "1 2 2\n",
      "1 2 3\n",
      "1 2 4\n",
      "1 3 0\n",
      "1 3 1\n",
      "1 3 2\n",
      "1 3 3\n",
      "1 3 4\n",
      "1 4 0\n",
      "1 4 1\n",
      "1 4 2\n",
      "1 4 3\n",
      "1 4 4\n",
      "2 0 0\n",
      "2 0 1\n",
      "2 0 2\n",
      "2 0 3\n",
      "2 0 4\n",
      "2 1 0\n",
      "2 1 1\n",
      "2 1 2\n",
      "2 1 3\n",
      "2 1 4\n",
      "2 2 0\n",
      "2 2 1\n",
      "2 2 2\n",
      "2 2 3\n",
      "2 2 4\n",
      "2 3 0\n",
      "2 3 1\n",
      "2 3 2\n",
      "2 3 3\n",
      "2 3 4\n",
      "2 4 0\n",
      "2 4 1\n",
      "2 4 2\n",
      "2 4 3\n",
      "2 4 4\n",
      "3 0 0\n",
      "3 0 1\n",
      "3 0 2\n",
      "3 0 3\n",
      "3 0 4\n",
      "3 1 0\n",
      "3 1 1\n",
      "3 1 2\n",
      "3 1 3\n",
      "3 1 4\n",
      "3 2 0\n",
      "3 2 1\n",
      "3 2 2\n",
      "3 2 3\n",
      "3 2 4\n",
      "3 3 0\n",
      "3 3 1\n",
      "3 3 2\n",
      "3 3 3\n",
      "3 3 4\n",
      "3 4 0\n",
      "3 4 1\n",
      "3 4 2\n",
      "3 4 3\n",
      "3 4 4\n",
      "4 0 0\n",
      "4 0 1\n",
      "4 0 2\n",
      "4 0 3\n",
      "4 0 4\n",
      "4 1 0\n",
      "4 1 1\n",
      "4 1 2\n",
      "4 1 3\n",
      "4 1 4\n",
      "4 2 0\n",
      "4 2 1\n",
      "4 2 2\n",
      "4 2 3\n",
      "4 2 4\n",
      "4 3 0\n",
      "4 3 1\n",
      "4 3 2\n",
      "4 3 3\n",
      "4 3 4\n",
      "4 4 0\n",
      "4 4 1\n",
      "4 4 2\n",
      "4 4 3\n",
      "4 4 4\n"
     ]
    }
   ],
   "source": [
    "for i in range(5):\n",
    "    \n",
    "    for j in range(5):\n",
    "        \n",
    "        for k in range(5):\n",
    "        \n",
    "            print(i, j, k)"
   ]
  },
  {
   "cell_type": "code",
   "execution_count": 11,
   "id": "56b8989b",
   "metadata": {},
   "outputs": [
    {
     "name": "stdout",
     "output_type": "stream",
     "text": [
      "h m\n",
      "h u\n",
      "h n\n",
      "h d\n",
      "h o\n",
      "o m\n",
      "o u\n",
      "o n\n",
      "o d\n",
      "o o\n",
      "l m\n",
      "l u\n",
      "l n\n",
      "l d\n",
      "l o\n",
      "a m\n",
      "a u\n",
      "a n\n",
      "a d\n",
      "a o\n"
     ]
    }
   ],
   "source": [
    "string_1 = \"hola\"\n",
    "string_2 = \"mundo\"\n",
    "\n",
    "for i in string_1:\n",
    "    \n",
    "    for j in string_2:\n",
    "        \n",
    "        print(i, j)"
   ]
  },
  {
   "cell_type": "markdown",
   "id": "da4d983f",
   "metadata": {},
   "source": [
    "### zip y enumerate\n",
    "\n",
    "- **`zip`**: Esta función toma como argumento objetos iterables para recorrerlos al mismo tiempo en un bucle."
   ]
  },
  {
   "cell_type": "code",
   "execution_count": 12,
   "id": "91c0739e",
   "metadata": {},
   "outputs": [
    {
     "name": "stdout",
     "output_type": "stream",
     "text": [
      "a 1\n",
      "b 2\n",
      "c 3\n",
      "d 4\n",
      "e 5\n"
     ]
    }
   ],
   "source": [
    "lista_1 = [\"a\", \"b\", \"c\", \"d\", \"e\"]\n",
    "lista_2 = [1, 2, 3, 4, 5]\n",
    "\n",
    "for i, j in zip(lista_1, lista_2):\n",
    "    print(i, j)"
   ]
  },
  {
   "cell_type": "markdown",
   "id": "3608202c",
   "metadata": {},
   "source": [
    "**Si alguna de las dos listas es mas grande que otra, el bucle con zip se detendrá cuando la lista mas corta termine.**"
   ]
  },
  {
   "cell_type": "code",
   "execution_count": 13,
   "id": "53135e57",
   "metadata": {},
   "outputs": [
    {
     "name": "stdout",
     "output_type": "stream",
     "text": [
      "a 1\n",
      "b 2\n",
      "c 3\n",
      "d 4\n",
      "e 5\n"
     ]
    }
   ],
   "source": [
    "lista_1 = [\"a\", \"b\", \"c\", \"d\", \"e\"]\n",
    "lista_2 = [1, 2, 3, 4, 5, 6, 7, 8, 9, 10, 11, 12, 13, 14, 15]\n",
    "\n",
    "for i, j in zip(lista_1, lista_2):\n",
    "    print(i, j)"
   ]
  },
  {
   "cell_type": "markdown",
   "id": "44ebcc4c",
   "metadata": {},
   "source": [
    "- **`enumerate`**: Esta función \"crea\" un índice utilizando un objeto iterable, se usa en conjunto con los bucles para tener un tipo de \"contador\"."
   ]
  },
  {
   "cell_type": "code",
   "execution_count": null,
   "id": "3c8c7f70",
   "metadata": {},
   "outputs": [],
   "source": [
    "lista = [\"a\", \"b\", \"c\", \"d\", \"e\"]\n",
    "\n",
    "for enum, letra in enumerate(lista):\n",
    "    print(enum, letra)"
   ]
  },
  {
   "cell_type": "markdown",
   "id": "530d1aa9",
   "metadata": {},
   "source": [
    "**Si quisieramos, podriamos comenzar el contador en otro número**"
   ]
  },
  {
   "cell_type": "code",
   "execution_count": 14,
   "id": "09afdeb2",
   "metadata": {},
   "outputs": [
    {
     "name": "stdout",
     "output_type": "stream",
     "text": [
      "100 a\n",
      "101 b\n",
      "102 c\n",
      "103 d\n",
      "104 e\n"
     ]
    }
   ],
   "source": [
    "lista = [\"a\", \"b\", \"c\", \"d\", \"e\"]\n",
    "\n",
    "for enum, letra in enumerate(lista, start = 100):\n",
    "    print(enum, letra)"
   ]
  },
  {
   "cell_type": "code",
   "execution_count": 15,
   "id": "91c8ab73-303d-4716-b1f2-3f864b65083c",
   "metadata": {},
   "outputs": [
    {
     "data": {
      "text/plain": [
       "{'a': 100, 'b': 101, 'c': 102, 'd': 103, 'e': 104}"
      ]
     },
     "execution_count": 15,
     "metadata": {},
     "output_type": "execute_result"
    }
   ],
   "source": [
    "dictio = {}\n",
    "\n",
    "lista = [\"a\", \"b\", \"c\", \"d\", \"e\"]\n",
    "\n",
    "for enum, letra in enumerate(lista, start = 100):\n",
    "    dictio[letra]=enum\n",
    "\n",
    "dictio"
   ]
  },
  {
   "cell_type": "code",
   "execution_count": 16,
   "id": "cc86325f-53c9-438b-8fb8-ccc89316db41",
   "metadata": {},
   "outputs": [
    {
     "data": {
      "text/plain": [
       "{'a': 0, 'b': 1, 'c': 2, 'd': 3, 'e': 4}"
      ]
     },
     "execution_count": 16,
     "metadata": {},
     "output_type": "execute_result"
    }
   ],
   "source": [
    "dictio = {}\n",
    "\n",
    "lista = [\"a\", \"b\", \"c\", \"d\", \"e\"]\n",
    "\n",
    "for enum, letra in enumerate(lista):\n",
    "    dictio[letra]=enum\n",
    "\n",
    "dictio"
   ]
  },
  {
   "cell_type": "code",
   "execution_count": null,
   "id": "b698cbd7",
   "metadata": {},
   "outputs": [],
   "source": [
    "################################################################################################################################"
   ]
  }
 ],
 "metadata": {
  "kernelspec": {
   "display_name": "Python 3 (ipykernel)",
   "language": "python",
   "name": "python3"
  },
  "language_info": {
   "codemirror_mode": {
    "name": "ipython",
    "version": 3
   },
   "file_extension": ".py",
   "mimetype": "text/x-python",
   "name": "python",
   "nbconvert_exporter": "python",
   "pygments_lexer": "ipython3",
   "version": "3.9.7"
  }
 },
 "nbformat": 4,
 "nbformat_minor": 5
}
