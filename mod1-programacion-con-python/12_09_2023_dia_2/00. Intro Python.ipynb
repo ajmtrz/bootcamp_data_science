{
 "cells": [
  {
   "cell_type": "markdown",
   "id": "80336c57-9bcc-48f7-848b-a6e1a5f014a5",
   "metadata": {},
   "source": [
    "# Introducción a Python "
   ]
  },
  {
   "cell_type": "markdown",
   "id": "709daae5-c929-42d7-b1a4-d8466474ea44",
   "metadata": {},
   "source": [
    "https://docs.python.org/3/\n",
    "\n",
    "![python](../images/python.png)\n",
    "\n",
    "$$$$\n",
    "\n",
    "Python es un lenguaje de programación interpretado cuya filosofía hace hincapié en la legibilidad de su código. Se trata de un lenguaje de programación multiparadigma, ya que soporta parcialmente la orientación a objetos, programación imperativa y, en menor medida, programación funcional. Es un lenguaje interpretado, dinámico y multiplataforma.\n",
    "\n",
    "Es administrado por la Python Software Foundation. Posee una licencia de código abierto, denominada Python Software Foundation License."
   ]
  },
  {
   "cell_type": "code",
   "execution_count": 1,
   "id": "3dd45bdd-09eb-44e0-82ad-3853bd9cb3db",
   "metadata": {},
   "outputs": [
    {
     "name": "stdout",
     "output_type": "stream",
     "text": [
      "The Zen of Python, by Tim Peters\n",
      "\n",
      "Beautiful is better than ugly.\n",
      "Explicit is better than implicit.\n",
      "Simple is better than complex.\n",
      "Complex is better than complicated.\n",
      "Flat is better than nested.\n",
      "Sparse is better than dense.\n",
      "Readability counts.\n",
      "Special cases aren't special enough to break the rules.\n",
      "Although practicality beats purity.\n",
      "Errors should never pass silently.\n",
      "Unless explicitly silenced.\n",
      "In the face of ambiguity, refuse the temptation to guess.\n",
      "There should be one-- and preferably only one --obvious way to do it.\n",
      "Although that way may not be obvious at first unless you're Dutch.\n",
      "Now is better than never.\n",
      "Although never is often better than *right* now.\n",
      "If the implementation is hard to explain, it's a bad idea.\n",
      "If the implementation is easy to explain, it may be a good idea.\n",
      "Namespaces are one honking great idea -- let's do more of those!\n"
     ]
    }
   ],
   "source": [
    "import this"
   ]
  },
  {
   "cell_type": "markdown",
   "id": "439d7c0f-bf2b-4249-ad8f-bbeda764dbf7",
   "metadata": {},
   "source": [
    "```python\n",
    "Bonito es mejor que feo.\n",
    "Explícito es mejor que implícito.\n",
    "Simple es mejor que complejo.\n",
    "Complejo es mejor que complicado.\n",
    "Plano es mejor que anidado.\n",
    "Disperso es mejor que denso.\n",
    "La legibilidad cuenta.\n",
    "Los casos especiales no son tan especiales como para romper las reglas.\n",
    "Aunque la practicidad gana a la pureza.\n",
    "Los errores nunca deben pasar en silencio.\n",
    "A menos que se silencien explícitamente.\n",
    "Ante la ambigüedad, rechaza la tentación de suponer.\n",
    "Debe haber una -y preferiblemente sólo una- forma obvia de hacerlo.\n",
    "Aunque esa manera puede no ser obvia al principio, a menos que seas holandés.\n",
    "Ahora es mejor que nunca.\n",
    "Aunque nunca es a menudo mejor que *ahora mismo*.\n",
    "Si la implementación es difícil de explicar, es una mala idea.\n",
    "Si la implementación es fácil de explicar, puede ser una buena idea.\n",
    "Los espacios de nombres son una gran idea, ¡hagamos más de ellos!\n",
    "```"
   ]
  },
  {
   "cell_type": "markdown",
   "id": "fd708f73-5c78-4a77-a118-7bb872d9ac38",
   "metadata": {},
   "source": [
    "### **¿Qué es Python?**\n",
    "\n",
    "Python es un lenguaje de programación interpretado de código abierto, multiparadigma, aunque principalmente orientado a objetos de alto nivel.\n",
    "\n",
    "- ***Interpretado***: Ejecuta el código directamente, sin necesidad de compilación.\n",
    "\n",
    "- ***Código abierto***: También llamado \"open source\", se refiere a un lenguaje que se puede distribuir libremente y puede ser usado sin ninguna restricción.\n",
    "\n",
    "- ***Multiparadigma***: Soporta varios paradigmas de programación como: orientación a objetos, estructurada, programación imperativa y programación funcional (principalmente orientado a objetos).\n",
    "\n",
    "- ***Alto nivel***: Son aquellos que se encuentran mas cercanos al lenguaje natural (al lenguaje que usamos para comunicarnos) que al lenguaje maquina.\n",
    "\n",
    "Python fue creado por Guido van Rossum, un programador holandés a finales de los 80, y se caracteriza principalmente por ser un lenguaje de programación fácil y sencillo de aprender. Su código es más organizado, evitando el uso de signos de punto y coma al final de cada sentencia y también evita el uso de llaves para especificar bloques de código.\n",
    "\n",
    "### **¿Por qué Python?**\n",
    "\n",
    "Algunas de las razones por las cuales Python es una excelente opción para empezar a programar son:\n",
    "\n",
    "Lenguaje de alto nivel. Puede ser usado para diversos propósitos, entre los más populares son:\n",
    "\n",
    "- Automatizar tareas.\n",
    "\n",
    "- Desarrollo Web.\n",
    "\n",
    "- Data Science.\n",
    "\n",
    "- Web Scraping (extracción de datos).\n",
    "\n",
    "- Desarrollo de interfaz gráfica.\n",
    "\n",
    "- Amplia colección de bibliotecas y frameworks, entre los cuales destacan TensorFlow y NumPy (bibliotecas) y Django y Flask (frameworks).\n",
    "\n",
    "- Portabilidad: Python es compatible con todos los sistemas operativos.\n",
    "\n",
    "- Comunidad: Python cuenta con una gran comunidad en todas las diferentes áreas en la que es utilizado.\n",
    "\n",
    "Al rededor del 90% de empleos en LinkedIn para Data Science / Data Analyst piden como lenguaje de programación Python, además Python cuenta con una de las comunidades más grandes de Data Science. Una de las principales ventajas de Python son las librerías de Machine Learning (sklearn) y de Deep Learning (TensorFlow y Keras)\n",
    "\n",
    "### **¿Que trabajos podré desempeñar con Python?**\n",
    "\n",
    "![works](../images/process.jpg)"
   ]
  },
  {
   "cell_type": "markdown",
   "id": "c1dc4bc4-242b-4c20-804b-c6b2e95cb116",
   "metadata": {
    "tags": []
   },
   "source": [
    "### Tabla de contenidos Módulo 1. Python.\n",
    "\n",
    "1. Números, operados y variables\n",
    "2. Booleanos\n",
    "3. Strings, tuplas y listas\n",
    "4. Sets y diccionarios\n",
    "5. Estructuras de control (condicionales y casting)\n",
    "6. Bucles\n",
    "7. Math y Random\n",
    "8. Funciones\n",
    "9. Timne y datetime\n",
    "10. Programación orientada a objetos\n",
    "11. Funciones especiales\n",
    "12. Lectura y escritura de archivos"
   ]
  },
  {
   "cell_type": "code",
   "execution_count": null,
   "id": "fd26125b-5491-4ee8-b42c-f1f3fadcbe61",
   "metadata": {},
   "outputs": [],
   "source": []
  }
 ],
 "metadata": {
  "kernelspec": {
   "display_name": "Python 3 (ipykernel)",
   "language": "python",
   "name": "python3"
  },
  "language_info": {
   "codemirror_mode": {
    "name": "ipython",
    "version": 3
   },
   "file_extension": ".py",
   "mimetype": "text/x-python",
   "name": "python",
   "nbconvert_exporter": "python",
   "pygments_lexer": "ipython3",
   "version": "3.9.7"
  }
 },
 "nbformat": 4,
 "nbformat_minor": 5
}
