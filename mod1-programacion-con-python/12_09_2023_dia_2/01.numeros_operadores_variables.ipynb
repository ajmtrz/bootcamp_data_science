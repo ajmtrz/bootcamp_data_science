{
 "cells": [
  {
   "cell_type": "markdown",
   "id": "2d4b2799",
   "metadata": {
    "tags": []
   },
   "source": [
    "## Números (int & float)\n",
    "\n",
    "En python podemos representar números usando tres tipos de datos diferentes: **int, float & complex**.\n",
    "- **int:** se usa para representar números enteros, pueden ser positivos, negativos y el cero.\n",
    "    - En python, se representa usando **int (integer o entero)**.\n",
    "    \n",
    "    \n",
    "- **float:** se usa para repersentar los números con coma decimal, estos pueden ser positivos, negativos y el cero.\n",
    "    - En python, se representan usando **float (floating point o punto flotante)**.\n",
    "    \n",
    "    \n",
    "- **complex:** se usa para representar números reales con parte imaginaria `a + bi`.\n",
    "    - En python, se representan usando **complex (complejos)**\n",
    "    \n",
    "\n",
    "Podemos verificar el tipo de dato de un número usando la función **`type()`**."
   ]
  },
  {
   "cell_type": "code",
   "execution_count": 1,
   "id": "3f3bb9ac",
   "metadata": {},
   "outputs": [
    {
     "data": {
      "text/plain": [
       "10"
      ]
     },
     "execution_count": 1,
     "metadata": {},
     "output_type": "execute_result"
    }
   ],
   "source": [
    "10"
   ]
  },
  {
   "cell_type": "code",
   "execution_count": 2,
   "id": "1f2d1f4f",
   "metadata": {},
   "outputs": [
    {
     "data": {
      "text/plain": [
       "(1+1j)"
      ]
     },
     "execution_count": 2,
     "metadata": {},
     "output_type": "execute_result"
    }
   ],
   "source": [
    "complex(1, 1)"
   ]
  },
  {
   "cell_type": "code",
   "execution_count": 3,
   "id": "37bad5ff",
   "metadata": {},
   "outputs": [
    {
     "data": {
      "text/plain": [
       "int"
      ]
     },
     "execution_count": 3,
     "metadata": {},
     "output_type": "execute_result"
    }
   ],
   "source": [
    "type(10)"
   ]
  },
  {
   "cell_type": "code",
   "execution_count": 4,
   "id": "2ba6b101",
   "metadata": {},
   "outputs": [
    {
     "data": {
      "text/plain": [
       "3.14"
      ]
     },
     "execution_count": 4,
     "metadata": {},
     "output_type": "execute_result"
    }
   ],
   "source": [
    "3.14"
   ]
  },
  {
   "cell_type": "code",
   "execution_count": 6,
   "id": "deb4fbe4",
   "metadata": {},
   "outputs": [
    {
     "data": {
      "text/plain": [
       "float"
      ]
     },
     "execution_count": 6,
     "metadata": {},
     "output_type": "execute_result"
    }
   ],
   "source": [
    "type(3.14)"
   ]
  },
  {
   "cell_type": "markdown",
   "id": "9ebe6862",
   "metadata": {},
   "source": [
    "## Operadores Aritméticos\n",
    "\n",
    "Son operaciones aritmeticas que se pueden utilizar con diferentes tipos de datos en python:\n",
    "\n",
    "| Operador | Operación      | Ejemplo |\n",
    "|----------|----------------|---------|\n",
    "| +        | Suma           | x + y   |\n",
    "| -        | Resta          | x - y   |\n",
    "| *        | Multiplicación | x * y   |\n",
    "| /        | División       | x / y   |\n",
    "| %        | Modulo         | x % y   |\n",
    "| **       | Exponente      | x ** y  |\n",
    "| //       | División Entera| x // y  |"
   ]
  },
  {
   "cell_type": "code",
   "execution_count": 7,
   "id": "ece99ec0",
   "metadata": {},
   "outputs": [
    {
     "data": {
      "text/plain": [
       "11"
      ]
     },
     "execution_count": 7,
     "metadata": {},
     "output_type": "execute_result"
    }
   ],
   "source": [
    "# Suma\n",
    "10 + 1"
   ]
  },
  {
   "cell_type": "code",
   "execution_count": 8,
   "id": "d36975bb",
   "metadata": {},
   "outputs": [
    {
     "data": {
      "text/plain": [
       "int"
      ]
     },
     "execution_count": 8,
     "metadata": {},
     "output_type": "execute_result"
    }
   ],
   "source": [
    "type(10 + 1)"
   ]
  },
  {
   "cell_type": "code",
   "execution_count": 9,
   "id": "bb5714a7",
   "metadata": {},
   "outputs": [
    {
     "data": {
      "text/plain": [
       "1.9"
      ]
     },
     "execution_count": 9,
     "metadata": {},
     "output_type": "execute_result"
    }
   ],
   "source": [
    "# Resta\n",
    "3.3 - 1.4"
   ]
  },
  {
   "cell_type": "code",
   "execution_count": null,
   "id": "6f6b9925",
   "metadata": {},
   "outputs": [],
   "source": [
    "type(3.3 - 1.4)"
   ]
  },
  {
   "cell_type": "code",
   "execution_count": 10,
   "id": "b15ec753",
   "metadata": {},
   "outputs": [
    {
     "data": {
      "text/plain": [
       "float"
      ]
     },
     "execution_count": 10,
     "metadata": {},
     "output_type": "execute_result"
    }
   ],
   "source": [
    "type(2 + 1.5)"
   ]
  },
  {
   "cell_type": "code",
   "execution_count": 11,
   "id": "51204628",
   "metadata": {},
   "outputs": [
    {
     "data": {
      "text/plain": [
       "0.6666666666666666"
      ]
     },
     "execution_count": 11,
     "metadata": {},
     "output_type": "execute_result"
    }
   ],
   "source": [
    "# División\n",
    "2/3"
   ]
  },
  {
   "cell_type": "code",
   "execution_count": null,
   "id": "71b70b9d",
   "metadata": {},
   "outputs": [],
   "source": [
    "# Multiplicación\n",
    "5*10"
   ]
  },
  {
   "cell_type": "code",
   "execution_count": null,
   "id": "3d879483",
   "metadata": {},
   "outputs": [],
   "source": [
    "# Modulo (el resto de dividir x en y partes)\n",
    "6 % 2"
   ]
  },
  {
   "cell_type": "code",
   "execution_count": null,
   "id": "a867feef",
   "metadata": {},
   "outputs": [],
   "source": [
    "4 % 3"
   ]
  },
  {
   "cell_type": "code",
   "execution_count": null,
   "id": "a95a1c9b",
   "metadata": {},
   "outputs": [],
   "source": [
    "# Exponente\n",
    "10**2"
   ]
  },
  {
   "cell_type": "code",
   "execution_count": null,
   "id": "5c033cf3",
   "metadata": {},
   "outputs": [],
   "source": [
    "# División Entera (retorna la parte entera de la división)\n",
    "10/3"
   ]
  },
  {
   "cell_type": "code",
   "execution_count": 14,
   "id": "d7fed80e",
   "metadata": {},
   "outputs": [
    {
     "data": {
      "text/plain": [
       "3"
      ]
     },
     "execution_count": 14,
     "metadata": {},
     "output_type": "execute_result"
    }
   ],
   "source": [
    "10//3"
   ]
  },
  {
   "cell_type": "markdown",
   "id": "a9dad416",
   "metadata": {},
   "source": [
    "## Variables\n",
    "\n",
    "En python podemos inicializar variables con cualquier tipo de dato que queramos utilizando el operador `=`.\n",
    "\n",
    "- Al nombrar una variable podemos utilizar letras minúsculas (a-z), letras mayúsculas (A-Z), números (0-9) y underscore (_).\n",
    "\n",
    "\n",
    "- Los nombres de las variables NO pueden empezar por un número.\n",
    "\n",
    "\n",
    "- Aunque es posible, es considerado como mala práctica utilizar palabras reservadas para nombrar variables.\n",
    "\n",
    "\n",
    "- Las variables no pueden solo contener digitos.\n",
    "\n",
    "\n",
    "- Las variables son \"case sensitive\", es decir, diferencian entre mayúsculas y minúsculas."
   ]
  },
  {
   "cell_type": "code",
   "execution_count": 15,
   "id": "061aff20",
   "metadata": {},
   "outputs": [],
   "source": [
    "# Cuando inicializamos una variable el valor no se muestra en pantalla\n",
    "\n",
    "a = 10"
   ]
  },
  {
   "cell_type": "code",
   "execution_count": 18,
   "id": "fefdb6c2",
   "metadata": {},
   "outputs": [
    {
     "data": {
      "text/plain": [
       "10"
      ]
     },
     "execution_count": 18,
     "metadata": {},
     "output_type": "execute_result"
    }
   ],
   "source": [
    "a"
   ]
  },
  {
   "cell_type": "code",
   "execution_count": 19,
   "id": "095ee860-5a86-4763-a5ee-d0b68a9166dd",
   "metadata": {},
   "outputs": [
    {
     "data": {
      "text/plain": [
       "(11, 12)"
      ]
     },
     "execution_count": 19,
     "metadata": {},
     "output_type": "execute_result"
    }
   ],
   "source": [
    "variable_nueva = 11\n",
    "variableNueva = 12\n",
    "\n",
    "variable_nueva, variableNueva"
   ]
  },
  {
   "cell_type": "markdown",
   "id": "3f534dc2",
   "metadata": {},
   "source": [
    "Podemos asignarle a una variable el resultado de una operación:"
   ]
  },
  {
   "cell_type": "code",
   "execution_count": 20,
   "id": "27f45f21",
   "metadata": {},
   "outputs": [
    {
     "data": {
      "text/plain": [
       "11"
      ]
     },
     "execution_count": 20,
     "metadata": {},
     "output_type": "execute_result"
    }
   ],
   "source": [
    "a = 10 + 1\n",
    "\n",
    "a"
   ]
  },
  {
   "cell_type": "markdown",
   "id": "2c32208c",
   "metadata": {},
   "source": [
    "Y podemos verificar que tipo de dato es una variable:"
   ]
  },
  {
   "cell_type": "code",
   "execution_count": 21,
   "id": "fcd1286d",
   "metadata": {},
   "outputs": [
    {
     "data": {
      "text/plain": [
       "int"
      ]
     },
     "execution_count": 21,
     "metadata": {},
     "output_type": "execute_result"
    }
   ],
   "source": [
    "type(a)"
   ]
  },
  {
   "cell_type": "code",
   "execution_count": 22,
   "id": "af40b2bc",
   "metadata": {},
   "outputs": [
    {
     "data": {
      "text/plain": [
       "float"
      ]
     },
     "execution_count": 22,
     "metadata": {},
     "output_type": "execute_result"
    }
   ],
   "source": [
    "b = 3.14\n",
    "\n",
    "type(b)"
   ]
  },
  {
   "cell_type": "code",
   "execution_count": 26,
   "id": "4db5fbcc",
   "metadata": {},
   "outputs": [
    {
     "data": {
      "text/plain": [
       "19.3"
      ]
     },
     "execution_count": 26,
     "metadata": {},
     "output_type": "execute_result"
    }
   ],
   "source": [
    "entero = 10\n",
    "decimal = 9.3\n",
    "\n",
    "suma = entero + decimal\n",
    "\n",
    "suma"
   ]
  },
  {
   "cell_type": "code",
   "execution_count": 24,
   "id": "4b78a89b",
   "metadata": {},
   "outputs": [
    {
     "data": {
      "text/plain": [
       "float"
      ]
     },
     "execution_count": 24,
     "metadata": {},
     "output_type": "execute_result"
    }
   ],
   "source": [
    "type(suma)"
   ]
  },
  {
   "cell_type": "code",
   "execution_count": 25,
   "id": "6a149fe3",
   "metadata": {},
   "outputs": [
    {
     "data": {
      "text/plain": [
       "3"
      ]
     },
     "execution_count": 25,
     "metadata": {},
     "output_type": "execute_result"
    }
   ],
   "source": [
    "modulo = 7 % 4\n",
    "modulo"
   ]
  },
  {
   "cell_type": "code",
   "execution_count": null,
   "id": "1a1d2e7a",
   "metadata": {},
   "outputs": [],
   "source": [
    "################################################################################################################################"
   ]
  },
  {
   "cell_type": "markdown",
   "id": "d62ca8bd-0fa3-4bb9-b036-1f7916f2662c",
   "metadata": {},
   "source": [
    "ejemplo de función"
   ]
  },
  {
   "cell_type": "code",
   "execution_count": 29,
   "id": "04ae3fe7-2630-4b2c-a540-3ba02b8c87ae",
   "metadata": {},
   "outputs": [],
   "source": [
    "# añadir comentarios usar #"
   ]
  },
  {
   "cell_type": "code",
   "execution_count": 27,
   "id": "c5e3b863-7586-4a2d-83cb-0bbf2167c565",
   "metadata": {},
   "outputs": [
    {
     "data": {
      "text/plain": [
       "15"
      ]
     },
     "execution_count": 27,
     "metadata": {},
     "output_type": "execute_result"
    }
   ],
   "source": [
    "def sumar2(a, b):\n",
    "    \n",
    "    return a + ba\n",
    "\n",
    "sumar2(10, 5)"
   ]
  },
  {
   "cell_type": "code",
   "execution_count": 28,
   "id": "31dd26c8-8cbe-4fd5-9fa5-072b161a66d6",
   "metadata": {},
   "outputs": [
    {
     "data": {
      "text/plain": [
       "239669"
      ]
     },
     "execution_count": 28,
     "metadata": {},
     "output_type": "execute_result"
    }
   ],
   "source": [
    "sumar2(234234, 5435)"
   ]
  },
  {
   "cell_type": "code",
   "execution_count": null,
   "id": "c0256c7d-e39a-43d9-8b1c-f3a8b0ddbadf",
   "metadata": {},
   "outputs": [],
   "source": []
  }
 ],
 "metadata": {
  "kernelspec": {
   "display_name": "Python 3 (ipykernel)",
   "language": "python",
   "name": "python3"
  },
  "language_info": {
   "codemirror_mode": {
    "name": "ipython",
    "version": 3
   },
   "file_extension": ".py",
   "mimetype": "text/x-python",
   "name": "python",
   "nbconvert_exporter": "python",
   "pygments_lexer": "ipython3",
   "version": "3.9.7"
  }
 },
 "nbformat": 4,
 "nbformat_minor": 5
}
