{
 "cells": [
  {
   "cell_type": "markdown",
   "id": "23894b39",
   "metadata": {},
   "source": [
    "## Strings (str)\n",
    "\n",
    "Las **cadenas de caractéres** o **strings** es un tipo de dato compuesto por secuencias de caracteres que representan texto.\n",
    "\n",
    "Estas cadenas de caracteres se pueden **inicializar** utilizando comillas simples **`'`** o comillas dobles **`\"`**.\n",
    "\n",
    "En python las **cadenas de caractéres** se representan con la palabra reservada **`str`** y tienen una gran variedad de **built-in methods** que nos facilitan mucho el trabajo al momento de manipularlas. \n",
    "\n",
    "En general, si queremos **\"imprimir por pantalla\"** un string, debemos utilizar la función **`print()`**."
   ]
  },
  {
   "cell_type": "code",
   "execution_count": 4,
   "id": "7f170bac",
   "metadata": {
    "scrolled": true
   },
   "outputs": [
    {
     "data": {
      "text/plain": [
       "'Hola mundo!'"
      ]
     },
     "execution_count": 4,
     "metadata": {},
     "output_type": "execute_result"
    }
   ],
   "source": [
    "\"Hola mundo!\""
   ]
  },
  {
   "cell_type": "code",
   "execution_count": 5,
   "id": "0c6ea06c",
   "metadata": {},
   "outputs": [
    {
     "data": {
      "text/plain": [
       "'Hola mundo!'"
      ]
     },
     "execution_count": 5,
     "metadata": {},
     "output_type": "execute_result"
    }
   ],
   "source": [
    "'Hola mundo!'"
   ]
  },
  {
   "cell_type": "code",
   "execution_count": 6,
   "id": "5ab24f57",
   "metadata": {},
   "outputs": [
    {
     "name": "stdout",
     "output_type": "stream",
     "text": [
      "Hola mundo!\n"
     ]
    }
   ],
   "source": [
    "print(\"Hola mundo!\")"
   ]
  },
  {
   "cell_type": "code",
   "execution_count": 7,
   "id": "4e7be15d-22f4-4015-bd8f-c433f5f97030",
   "metadata": {},
   "outputs": [
    {
     "data": {
      "text/plain": [
       "'Hola, \"Pedro\"'"
      ]
     },
     "execution_count": 7,
     "metadata": {},
     "output_type": "execute_result"
    }
   ],
   "source": [
    "'Hola, \"Pedro\"'"
   ]
  },
  {
   "cell_type": "code",
   "execution_count": 8,
   "id": "b8d40cda-f07e-4916-b7b9-16fb954fec1b",
   "metadata": {},
   "outputs": [
    {
     "name": "stdout",
     "output_type": "stream",
     "text": [
      "Hola, \"Pedro\"\n"
     ]
    }
   ],
   "source": [
    "print('Hola, \"Pedro\"')"
   ]
  },
  {
   "cell_type": "code",
   "execution_count": 9,
   "id": "d66ce558-f2ad-4882-8080-0ca7115653b9",
   "metadata": {},
   "outputs": [
    {
     "data": {
      "text/plain": [
       "\"Hola, 'Pedro'\""
      ]
     },
     "execution_count": 9,
     "metadata": {},
     "output_type": "execute_result"
    }
   ],
   "source": [
    "\"Hola, 'Pedro'\""
   ]
  },
  {
   "cell_type": "code",
   "execution_count": 10,
   "id": "78a822fe-68d0-4c35-8bd8-6f66eccf35d6",
   "metadata": {},
   "outputs": [
    {
     "name": "stdout",
     "output_type": "stream",
     "text": [
      "Hola, 'Pedro'\n"
     ]
    }
   ],
   "source": [
    "print(\"Hola, 'Pedro'\")"
   ]
  },
  {
   "cell_type": "markdown",
   "id": "08a87a47",
   "metadata": {
    "tags": []
   },
   "source": [
    "## Operaciones con Strings"
   ]
  },
  {
   "cell_type": "code",
   "execution_count": 12,
   "id": "8cddd045",
   "metadata": {},
   "outputs": [
    {
     "data": {
      "text/plain": [
       "'Hola MundoEstamos usando Python'"
      ]
     },
     "execution_count": 12,
     "metadata": {},
     "output_type": "execute_result"
    }
   ],
   "source": [
    "# Suma (concatenación de strings)\n",
    "\n",
    "\"Hola Mundo\" + \"Estamos usando Python\""
   ]
  },
  {
   "cell_type": "code",
   "execution_count": 13,
   "id": "a397ede5",
   "metadata": {},
   "outputs": [
    {
     "data": {
      "text/plain": [
       "'PythonPythonPythonPythonPythonPythonPythonPythonPythonPython'"
      ]
     },
     "execution_count": 13,
     "metadata": {},
     "output_type": "execute_result"
    }
   ],
   "source": [
    "# Multiplicación\n",
    "\n",
    "\"Python\"*10"
   ]
  },
  {
   "cell_type": "code",
   "execution_count": 15,
   "id": "d0814414-42d2-4453-8bb0-5cc7f021e5cc",
   "metadata": {},
   "outputs": [
    {
     "ename": "TypeError",
     "evalue": "can't multiply sequence by non-int of type 'str'",
     "output_type": "error",
     "traceback": [
      "\u001b[1;31m---------------------------------------------------------------------------\u001b[0m",
      "\u001b[1;31mTypeError\u001b[0m                                 Traceback (most recent call last)",
      "\u001b[1;32m~\\AppData\\Local\\Temp/ipykernel_21556/1851814746.py\u001b[0m in \u001b[0;36m<module>\u001b[1;34m\u001b[0m\n\u001b[0;32m      1\u001b[0m \u001b[1;31m#por el contrario no se pueden multiplicar cadenas de caracteres\u001b[0m\u001b[1;33m\u001b[0m\u001b[1;33m\u001b[0m\u001b[0m\n\u001b[1;32m----> 2\u001b[1;33m \u001b[1;34m\"Pyton\"\u001b[0m\u001b[1;33m*\u001b[0m\u001b[1;34m\"a\"\u001b[0m\u001b[1;33m\u001b[0m\u001b[1;33m\u001b[0m\u001b[0m\n\u001b[0m",
      "\u001b[1;31mTypeError\u001b[0m: can't multiply sequence by non-int of type 'str'"
     ]
    }
   ],
   "source": [
    "#por el contrario no se pueden multiplicar cadenas de caracteres\n",
    "\"Pyton\"*\"a\""
   ]
  },
  {
   "cell_type": "markdown",
   "id": "30092c74",
   "metadata": {},
   "source": [
    "## Built-in Methods\n",
    "\n",
    "Las cadenas de caractéres tienen una gran variedad de métodos, estos son algunos de los más utilizados:\n",
    "\n",
    "|                   |                     |\n",
    "|-------------------|---------------------|\n",
    "| **.capitalize()** | **.isalnum()**      |\n",
    "| **.title()**      | **.isalpha()**      |\n",
    "| **.casefold()**   | **.isascii()**      | \n",
    "| **.center()**     | **.isdecimal()**    |\n",
    "| **.count()**      | **.isdigit()**      |\n",
    "| **.split()**      | **.isidentifier()** |\n",
    "| **.startswith()** | **.islower()**      |\n",
    "| **.endswith()**   | **.isnumeric()**    |\n",
    "| **.find()**       | **.isspace()**      |\n",
    "| **.index()**      | **.istitle()**      |\n",
    "| **.format()**     | **.isupper()**      |\n",
    "| **.upper()**      | **.lower()**        |\n",
    "| **.replace()**    | **.swapcase()**     |\n",
    "| **.strip()**      | **.join()**         |\n",
    "\n",
    "\n",
    "<div style=\"text-align: right\"><strong>Ninguno de estos métodos modifica el string original.</strong> </div>"
   ]
  },
  {
   "cell_type": "code",
   "execution_count": 17,
   "id": "de8bec95-26d9-4c36-9b35-cc3876f046a0",
   "metadata": {},
   "outputs": [],
   "source": [
    "#help(str)"
   ]
  },
  {
   "cell_type": "code",
   "execution_count": 20,
   "id": "56dd2eee",
   "metadata": {},
   "outputs": [
    {
     "data": {
      "text/plain": [
       "'hola Mundo, esto es una cadena en PYTHON!'"
      ]
     },
     "execution_count": 20,
     "metadata": {},
     "output_type": "execute_result"
    }
   ],
   "source": [
    "string = \"hola Mundo, esto es una cadena en PYTHON!\"\n",
    "\n",
    "string"
   ]
  },
  {
   "cell_type": "code",
   "execution_count": 21,
   "id": "6dae21c1",
   "metadata": {},
   "outputs": [
    {
     "data": {
      "text/plain": [
       "'Hola mundo, esto es una cadena en python!'"
      ]
     },
     "execution_count": 21,
     "metadata": {},
     "output_type": "execute_result"
    }
   ],
   "source": [
    "string.capitalize()"
   ]
  },
  {
   "cell_type": "code",
   "execution_count": 22,
   "id": "ec74c76d",
   "metadata": {},
   "outputs": [
    {
     "data": {
      "text/plain": [
       "'Hola Mundo, Esto Es Una Cadena En Python!'"
      ]
     },
     "execution_count": 22,
     "metadata": {},
     "output_type": "execute_result"
    }
   ],
   "source": [
    "string.title()"
   ]
  },
  {
   "cell_type": "code",
   "execution_count": 9,
   "id": "e5976c5a",
   "metadata": {},
   "outputs": [
    {
     "data": {
      "text/plain": [
       "'hola mundo, esto es una cadena en python!'"
      ]
     },
     "execution_count": 9,
     "metadata": {},
     "output_type": "execute_result"
    }
   ],
   "source": [
    "string.lower()"
   ]
  },
  {
   "cell_type": "code",
   "execution_count": 23,
   "id": "dfe19877",
   "metadata": {},
   "outputs": [
    {
     "data": {
      "text/plain": [
       "'HOLA MUNDO, ESTO ES UNA CADENA EN PYTHON!'"
      ]
     },
     "execution_count": 23,
     "metadata": {},
     "output_type": "execute_result"
    }
   ],
   "source": [
    "string.upper()"
   ]
  },
  {
   "cell_type": "code",
   "execution_count": 24,
   "id": "0add1478",
   "metadata": {},
   "outputs": [
    {
     "data": {
      "text/plain": [
       "'hola Mundo, esto es una cadena en PYTHON!'"
      ]
     },
     "execution_count": 24,
     "metadata": {},
     "output_type": "execute_result"
    }
   ],
   "source": [
    "string"
   ]
  },
  {
   "cell_type": "code",
   "execution_count": 25,
   "id": "f8939001-a53c-483a-b82a-3634c95a7b04",
   "metadata": {},
   "outputs": [],
   "source": [
    "string_upper = string.upper()"
   ]
  },
  {
   "cell_type": "code",
   "execution_count": 26,
   "id": "a6035c84-8193-4bb9-a366-b74953f4d4f4",
   "metadata": {},
   "outputs": [
    {
     "data": {
      "text/plain": [
       "('hola Mundo, esto es una cadena en PYTHON!',\n",
       " 'HOLA MUNDO, ESTO ES UNA CADENA EN PYTHON!')"
      ]
     },
     "execution_count": 26,
     "metadata": {},
     "output_type": "execute_result"
    }
   ],
   "source": [
    "string, string_upper"
   ]
  },
  {
   "cell_type": "code",
   "execution_count": 27,
   "id": "125a4327",
   "metadata": {},
   "outputs": [
    {
     "data": {
      "text/plain": [
       "'HOLA mUNDO, ESTO ES UNA CADENA EN python!'"
      ]
     },
     "execution_count": 27,
     "metadata": {},
     "output_type": "execute_result"
    }
   ],
   "source": [
    "string.swapcase()"
   ]
  },
  {
   "cell_type": "markdown",
   "id": "8593f3e4-a7b0-4c72-8151-f0716151d395",
   "metadata": {},
   "source": [
    "El método replace recibe dos parámetros, primero el elemento de la cadena que queremos sustituir, y segundo el parametro por lo que queremos que sustituya"
   ]
  },
  {
   "cell_type": "code",
   "execution_count": 33,
   "id": "595461fa",
   "metadata": {},
   "outputs": [
    {
     "data": {
      "text/plain": [
       "'hola planeta, esto es una cadena en PYTHON!'"
      ]
     },
     "execution_count": 33,
     "metadata": {},
     "output_type": "execute_result"
    }
   ],
   "source": [
    "string.replace(\"Mundo\", \"planeta\")\n",
    "# No modifica el string original"
   ]
  },
  {
   "cell_type": "code",
   "execution_count": 29,
   "id": "9f1b9ea5",
   "metadata": {},
   "outputs": [
    {
     "data": {
      "text/plain": [
       "'hola Mundo, esto es una cadena en PYTHON!'"
      ]
     },
     "execution_count": 29,
     "metadata": {},
     "output_type": "execute_result"
    }
   ],
   "source": [
    "string"
   ]
  },
  {
   "cell_type": "code",
   "execution_count": 34,
   "id": "32fcef4f",
   "metadata": {},
   "outputs": [
    {
     "data": {
      "text/plain": [
       "34"
      ]
     },
     "execution_count": 34,
     "metadata": {},
     "output_type": "execute_result"
    }
   ],
   "source": [
    "string.find(\"PYTHON\")"
   ]
  },
  {
   "cell_type": "code",
   "execution_count": 16,
   "id": "d5981c1f",
   "metadata": {},
   "outputs": [
    {
     "data": {
      "text/plain": [
       "34"
      ]
     },
     "execution_count": 16,
     "metadata": {},
     "output_type": "execute_result"
    }
   ],
   "source": [
    "string.index(\"PYTHON\")"
   ]
  },
  {
   "cell_type": "code",
   "execution_count": 35,
   "id": "25693acc-f195-4508-9a61-a3838d0d78b2",
   "metadata": {},
   "outputs": [
    {
     "data": {
      "text/plain": [
       "1"
      ]
     },
     "execution_count": 35,
     "metadata": {},
     "output_type": "execute_result"
    }
   ],
   "source": [
    "string.index(\"o\")"
   ]
  },
  {
   "cell_type": "code",
   "execution_count": 36,
   "id": "74e94483",
   "metadata": {},
   "outputs": [
    {
     "data": {
      "text/plain": [
       "4"
      ]
     },
     "execution_count": 36,
     "metadata": {},
     "output_type": "execute_result"
    }
   ],
   "source": [
    "string.count(\"a\")"
   ]
  },
  {
   "cell_type": "code",
   "execution_count": 37,
   "id": "7b942d7a",
   "metadata": {},
   "outputs": [
    {
     "data": {
      "text/plain": [
       "0"
      ]
     },
     "execution_count": 37,
     "metadata": {},
     "output_type": "execute_result"
    }
   ],
   "source": [
    "string.count(\"A\")"
   ]
  },
  {
   "cell_type": "code",
   "execution_count": 19,
   "id": "e0eb78e3",
   "metadata": {
    "scrolled": true
   },
   "outputs": [
    {
     "data": {
      "text/plain": [
       "['Hola', 'Mundo,', 'esto', 'es', 'una', 'cadena', 'en', 'PYTHON!']"
      ]
     },
     "execution_count": 19,
     "metadata": {},
     "output_type": "execute_result"
    }
   ],
   "source": [
    "string.split()"
   ]
  },
  {
   "cell_type": "markdown",
   "id": "2742fe4e-4f09-45dc-847c-43e42d1e920b",
   "metadata": {},
   "source": [
    "Si el método split no recibe ningún argumento tomará el espacio por defecto"
   ]
  },
  {
   "cell_type": "code",
   "execution_count": 39,
   "id": "ee654f6f-f1b1-4efe-9a3f-cc5dd49f6c6d",
   "metadata": {},
   "outputs": [
    {
     "data": {
      "text/plain": [
       "['hol', ' Mundo, esto es un', ' c', 'den', ' en PYTHON!']"
      ]
     },
     "execution_count": 39,
     "metadata": {},
     "output_type": "execute_result"
    }
   ],
   "source": [
    "string.split('a')"
   ]
  },
  {
   "cell_type": "markdown",
   "id": "c25c300a",
   "metadata": {
    "tags": []
   },
   "source": [
    "## Indexing & Slicing\n",
    "\n",
    "- **Indexing:** Es la forma de \"acceder\" o \"entrar\" a un solo elemento de un **objeto iterable** (strings, lists, dict...).\n",
    "    - Se utilizan los corchetes `[ ]` para hacer indexing.      \n",
    "    \n",
    "\n",
    "- **Slicing:** Es la forma de \"acceder\" o \"entrar\" a varios elementos de un **objeto iterable** (string, lists, dict...).\n",
    "    - Al igual que indexing se utilizan corchetes `[ ]` pero se le agregan el caracter `:`.\n",
    "        \n",
    "**En python el primer elemento de un objeto iterable tiene indice 0.**\n",
    "\n",
    "Para saber el tamaño de un objeto iterable podemos usar la función **`len()`**."
   ]
  },
  {
   "attachments": {
    "slicing_indexing_1.jpg": {
     "image/jpeg": "[encoded data removed]"
    }
   },
   "cell_type": "markdown",
   "id": "599a07e2",
   "metadata": {},
   "source": [
    "![slicing_indexing_1.jpg](attachment:slicing_indexing_1.jpg)"
   ]
  },
  {
   "cell_type": "markdown",
   "id": "33acc455",
   "metadata": {},
   "source": [
    "Si estamos haciendo slincing y el primer elemento es el comienzo del objeto podemos hacer\n",
    "<p style=\"text-align: center;\"> <strong>string[0:10]</strong> o <strong>string[:10]</strong> </p>\n",
    "\n",
    "\n",
    "Y si el ultimo elemento del slicing es el final del objeto podemos hacer:\n",
    "<p style=\"text-align: center;\"> <strong>string[10:20]</strong> o <strong>string[10:]</strong> </p>\n"
   ]
  },
  {
   "cell_type": "code",
   "execution_count": 47,
   "id": "c291b767-610a-44b9-8b4a-f91890bd8553",
   "metadata": {},
   "outputs": [],
   "source": [
    "string2 = 'Monty Python'"
   ]
  },
  {
   "cell_type": "code",
   "execution_count": 48,
   "id": "4834d58f-3cb3-46fc-a5ad-451197f544b8",
   "metadata": {},
   "outputs": [
    {
     "data": {
      "text/plain": [
       "'Monty'"
      ]
     },
     "execution_count": 48,
     "metadata": {},
     "output_type": "execute_result"
    }
   ],
   "source": [
    "string2[-12:-7]"
   ]
  },
  {
   "cell_type": "code",
   "execution_count": 49,
   "id": "2053576c-081b-4dd5-995e-4d5b56523a2c",
   "metadata": {},
   "outputs": [
    {
     "data": {
      "text/plain": [
       "'Pyth'"
      ]
     },
     "execution_count": 49,
     "metadata": {},
     "output_type": "execute_result"
    }
   ],
   "source": [
    "string2[6:10]"
   ]
  },
  {
   "cell_type": "code",
   "execution_count": 46,
   "id": "67b0f73f-4288-4755-b6c7-650cf80b7b67",
   "metadata": {},
   "outputs": [
    {
     "data": {
      "text/plain": [
       "'undo, esto es una cadena en PYTHON'"
      ]
     },
     "execution_count": 46,
     "metadata": {},
     "output_type": "execute_result"
    }
   ],
   "source": [
    "string[-35:-1]"
   ]
  },
  {
   "cell_type": "code",
   "execution_count": 50,
   "id": "41f397f7",
   "metadata": {},
   "outputs": [
    {
     "data": {
      "text/plain": [
       "41"
      ]
     },
     "execution_count": 50,
     "metadata": {},
     "output_type": "execute_result"
    }
   ],
   "source": [
    "len(string)"
   ]
  },
  {
   "cell_type": "code",
   "execution_count": 51,
   "id": "1f361385",
   "metadata": {},
   "outputs": [
    {
     "data": {
      "text/plain": [
       "'h'"
      ]
     },
     "execution_count": 51,
     "metadata": {},
     "output_type": "execute_result"
    }
   ],
   "source": [
    "# Si quisieramos el primer elemento de este string, usariamos [0]\n",
    "\n",
    "string[0]"
   ]
  },
  {
   "cell_type": "code",
   "execution_count": 52,
   "id": "01e4db98",
   "metadata": {},
   "outputs": [
    {
     "data": {
      "text/plain": [
       "'o'"
      ]
     },
     "execution_count": 52,
     "metadata": {},
     "output_type": "execute_result"
    }
   ],
   "source": [
    "# Si quisieramos el elemento numero 10 del string usamos [9]\n",
    "\n",
    "string[9]"
   ]
  },
  {
   "cell_type": "markdown",
   "id": "6cfdec36",
   "metadata": {},
   "source": [
    "Debido a que los indices comienzan en 0 si quisieramos \"acceder\" al indice **x** usariamos el indexing de **x - 1**."
   ]
  },
  {
   "cell_type": "code",
   "execution_count": 53,
   "id": "9c616e25",
   "metadata": {},
   "outputs": [
    {
     "data": {
      "text/plain": [
       "'!'"
      ]
     },
     "execution_count": 53,
     "metadata": {},
     "output_type": "execute_result"
    }
   ],
   "source": [
    "# Para el último elemento del string podemos usar [40] o [-1]\n",
    "\n",
    "string[40]"
   ]
  },
  {
   "cell_type": "code",
   "execution_count": 54,
   "id": "01528b53",
   "metadata": {},
   "outputs": [
    {
     "data": {
      "text/plain": [
       "'!'"
      ]
     },
     "execution_count": 54,
     "metadata": {},
     "output_type": "execute_result"
    }
   ],
   "source": [
    "string[-1]"
   ]
  },
  {
   "cell_type": "code",
   "execution_count": 55,
   "id": "77440694",
   "metadata": {},
   "outputs": [
    {
     "ename": "IndexError",
     "evalue": "string index out of range",
     "output_type": "error",
     "traceback": [
      "\u001b[1;31m---------------------------------------------------------------------------\u001b[0m",
      "\u001b[1;31mIndexError\u001b[0m                                Traceback (most recent call last)",
      "\u001b[1;32m~\\AppData\\Local\\Temp/ipykernel_21556/394659654.py\u001b[0m in \u001b[0;36m<module>\u001b[1;34m\u001b[0m\n\u001b[0;32m      1\u001b[0m \u001b[1;31m# Si quisiera un elemento fuera de ese rango\u001b[0m\u001b[1;33m\u001b[0m\u001b[1;33m\u001b[0m\u001b[0m\n\u001b[0;32m      2\u001b[0m \u001b[1;33m\u001b[0m\u001b[0m\n\u001b[1;32m----> 3\u001b[1;33m \u001b[0mstring\u001b[0m\u001b[1;33m[\u001b[0m\u001b[1;36m1000\u001b[0m\u001b[1;33m]\u001b[0m\u001b[1;33m\u001b[0m\u001b[1;33m\u001b[0m\u001b[0m\n\u001b[0m",
      "\u001b[1;31mIndexError\u001b[0m: string index out of range"
     ]
    }
   ],
   "source": [
    "# Si quisiera un elemento fuera de ese rango\n",
    "\n",
    "string[1000]"
   ]
  },
  {
   "cell_type": "code",
   "execution_count": 56,
   "id": "ab310604-f881-4fc4-8301-a798923fe101",
   "metadata": {},
   "outputs": [],
   "source": [
    "cod = '1234345436'"
   ]
  },
  {
   "cell_type": "code",
   "execution_count": 60,
   "id": "748566ba-3110-490f-a09d-466b68aba9ac",
   "metadata": {},
   "outputs": [
    {
     "data": {
      "text/plain": [
       "'234'"
      ]
     },
     "execution_count": 60,
     "metadata": {},
     "output_type": "execute_result"
    }
   ],
   "source": [
    "cod[1:4]"
   ]
  },
  {
   "cell_type": "code",
   "execution_count": 61,
   "id": "821f1de3-dbea-4ade-ab08-7f83991af35a",
   "metadata": {},
   "outputs": [
    {
     "data": {
      "text/plain": [
       "('20230912', 2023, 9, 12)"
      ]
     },
     "execution_count": 61,
     "metadata": {},
     "output_type": "execute_result"
    }
   ],
   "source": [
    "fecha = '20230912'\n",
    "year  = int(fecha[:4])\n",
    "month = int(fecha[4:6])\n",
    "day   = int(fecha[6:])\n",
    "\n",
    "fecha, year, month, day"
   ]
  },
  {
   "cell_type": "markdown",
   "id": "2f4f7364",
   "metadata": {},
   "source": [
    "En python, podemos hacer indexing de **izquierda a derecha**, comenzando en 0 y se suma 1 hasta el último indice que sería el tamaño del objeto menos 1.\n",
    "\n",
    "También se puede hacer indexing de **derecha a izquierda**, esta vez comenzando desde -1 y, en lugar de sumar 1, se resta 1.\n",
    "\n",
    "**Ejemplo:**"
   ]
  },
  {
   "cell_type": "code",
   "execution_count": 62,
   "id": "c4e33db1",
   "metadata": {},
   "outputs": [
    {
     "data": {
      "text/plain": [
       "'!'"
      ]
     },
     "execution_count": 62,
     "metadata": {},
     "output_type": "execute_result"
    }
   ],
   "source": [
    "string = \"Hola Mundo, esto es una cadena en PYTHON!\"\n",
    "\n",
    "string[-1]"
   ]
  },
  {
   "cell_type": "code",
   "execution_count": 28,
   "id": "9dac3a20",
   "metadata": {},
   "outputs": [
    {
     "data": {
      "text/plain": [
       "'N'"
      ]
     },
     "execution_count": 28,
     "metadata": {},
     "output_type": "execute_result"
    }
   ],
   "source": [
    "string[-2]"
   ]
  },
  {
   "cell_type": "code",
   "execution_count": 29,
   "id": "4fb04dcd",
   "metadata": {},
   "outputs": [
    {
     "data": {
      "text/plain": [
       "'O'"
      ]
     },
     "execution_count": 29,
     "metadata": {},
     "output_type": "execute_result"
    }
   ],
   "source": [
    "string[-3]"
   ]
  },
  {
   "cell_type": "code",
   "execution_count": 30,
   "id": "dff7a7ee",
   "metadata": {},
   "outputs": [
    {
     "data": {
      "text/plain": [
       "'H'"
      ]
     },
     "execution_count": 30,
     "metadata": {},
     "output_type": "execute_result"
    }
   ],
   "source": [
    "string[-4]"
   ]
  },
  {
   "cell_type": "code",
   "execution_count": 31,
   "id": "abaf00e3",
   "metadata": {},
   "outputs": [
    {
     "data": {
      "text/plain": [
       "'T'"
      ]
     },
     "execution_count": 31,
     "metadata": {},
     "output_type": "execute_result"
    }
   ],
   "source": [
    "string[-5]"
   ]
  },
  {
   "cell_type": "code",
   "execution_count": 32,
   "id": "638f44cb",
   "metadata": {},
   "outputs": [
    {
     "data": {
      "text/plain": [
       "'e'"
      ]
     },
     "execution_count": 32,
     "metadata": {},
     "output_type": "execute_result"
    }
   ],
   "source": [
    "string[-10]"
   ]
  },
  {
   "cell_type": "code",
   "execution_count": 33,
   "id": "ce9517ab",
   "metadata": {},
   "outputs": [
    {
     "data": {
      "text/plain": [
       "'Hola Mundo, esto es una cadena en PYTHON!'"
      ]
     },
     "execution_count": 33,
     "metadata": {},
     "output_type": "execute_result"
    }
   ],
   "source": [
    "string"
   ]
  },
  {
   "cell_type": "code",
   "execution_count": 34,
   "id": "06628553",
   "metadata": {},
   "outputs": [
    {
     "data": {
      "text/plain": [
       "'Hola'"
      ]
     },
     "execution_count": 34,
     "metadata": {},
     "output_type": "execute_result"
    }
   ],
   "source": [
    "# Para hacer slicing usariamos [start:end]\n",
    "\n",
    "string[0:4]"
   ]
  },
  {
   "cell_type": "code",
   "execution_count": 35,
   "id": "a6a1a6ac",
   "metadata": {},
   "outputs": [
    {
     "data": {
      "text/plain": [
       "'la Mu'"
      ]
     },
     "execution_count": 35,
     "metadata": {},
     "output_type": "execute_result"
    }
   ],
   "source": [
    "# El slicing termina una posición antes al numero que le digamos\n",
    "# Es decir, no incluye al último elemento\n",
    "\n",
    "string[2:7]"
   ]
  },
  {
   "cell_type": "code",
   "execution_count": 36,
   "id": "e7167bcd",
   "metadata": {},
   "outputs": [
    {
     "data": {
      "text/plain": [
       "' PYTH'"
      ]
     },
     "execution_count": 36,
     "metadata": {},
     "output_type": "execute_result"
    }
   ],
   "source": [
    "# También podemos usar indices negativos\n",
    "string[-8 : -3]"
   ]
  },
  {
   "cell_type": "code",
   "execution_count": 37,
   "id": "57e07b5e",
   "metadata": {},
   "outputs": [
    {
     "data": {
      "text/plain": [
       "'Hola Mundo'"
      ]
     },
     "execution_count": 37,
     "metadata": {},
     "output_type": "execute_result"
    }
   ],
   "source": [
    "string[:10]"
   ]
  },
  {
   "cell_type": "code",
   "execution_count": 38,
   "id": "ae0a6a59",
   "metadata": {},
   "outputs": [
    {
     "data": {
      "text/plain": [
       "', esto es una cadena en PYTHON!'"
      ]
     },
     "execution_count": 38,
     "metadata": {},
     "output_type": "execute_result"
    }
   ],
   "source": [
    "string[10:]"
   ]
  },
  {
   "cell_type": "code",
   "execution_count": 39,
   "id": "c549822c",
   "metadata": {},
   "outputs": [
    {
     "data": {
      "text/plain": [
       "'Hola Mundo, esto es una cadena en PYTHON!'"
      ]
     },
     "execution_count": 39,
     "metadata": {},
     "output_type": "execute_result"
    }
   ],
   "source": [
    "string[:]"
   ]
  },
  {
   "cell_type": "markdown",
   "id": "db2b1691",
   "metadata": {},
   "source": [
    "## Stride\n",
    "\n",
    "Es una forma de recorrer objetos iterables agregando un \"paso\":"
   ]
  },
  {
   "cell_type": "code",
   "execution_count": 65,
   "id": "3d1c38ff",
   "metadata": {},
   "outputs": [
    {
     "name": "stdout",
     "output_type": "stream",
     "text": [
      "Hola Mundo, esto es una cadena en PYTHON!\n",
      "oaMno soe n aeae YHN\n"
     ]
    }
   ],
   "source": [
    "# En este ejemplo, se va a mostrar cada dos elementos del string, saltandose uno \n",
    "\n",
    "print(string)\n",
    "\n",
    "print(string[1:-1:2])"
   ]
  },
  {
   "cell_type": "code",
   "execution_count": 41,
   "id": "305f92c5",
   "metadata": {},
   "outputs": [
    {
     "name": "stdout",
     "output_type": "stream",
     "text": [
      "Hola Mundo, esto es una cadena en PYTHON!\n",
      "o n,s  aanePH\n"
     ]
    }
   ],
   "source": [
    "# En este ejemplo, se va a mostrar cada tres elementos del string, saltandose dos \n",
    "\n",
    "print(string)\n",
    "\n",
    "print(string[1: -1: 3])"
   ]
  },
  {
   "cell_type": "code",
   "execution_count": 66,
   "id": "52cc56e1-5e5f-4683-8470-83b7dd1ce63e",
   "metadata": {},
   "outputs": [
    {
     "name": "stdout",
     "output_type": "stream",
     "text": [
      "Hl ud,et suacdn nPTO!\n"
     ]
    }
   ],
   "source": [
    "print(string[::2])"
   ]
  },
  {
   "cell_type": "markdown",
   "id": "f4329d7a",
   "metadata": {
    "tags": []
   },
   "source": [
    "## Función format\n",
    "\n",
    "La función **`.format()`** es una herramienta para darle \"formato\" a una cadena de caracteres, esta función llena las llaves **`{}`** vacias de la cadena. Esta función se puede usar de 2 formas:\n",
    "\n",
    "1. Haciendo **`.format()`** al final de un string.\n",
    "2. Colocando **`f`** al comienzo de un string.\n",
    "\n",
    "**Ejemplo:**"
   ]
  },
  {
   "cell_type": "code",
   "execution_count": 79,
   "id": "187bb787",
   "metadata": {},
   "outputs": [],
   "source": [
    "nombre = \"Daniel\"\n",
    "edad = 28"
   ]
  },
  {
   "cell_type": "code",
   "execution_count": 69,
   "id": "69012f87",
   "metadata": {},
   "outputs": [
    {
     "data": {
      "text/plain": [
       "'Hola! Mi nombre es Daniel y tengo 30 años.'"
      ]
     },
     "execution_count": 69,
     "metadata": {},
     "output_type": "execute_result"
    }
   ],
   "source": [
    "\"Hola! Mi nombre es Daniel y tengo 30 años.\""
   ]
  },
  {
   "cell_type": "code",
   "execution_count": 70,
   "id": "c620e360",
   "metadata": {},
   "outputs": [
    {
     "data": {
      "text/plain": [
       "'Hola! Mi nombre es Daniel y tengo 28 años.'"
      ]
     },
     "execution_count": 70,
     "metadata": {},
     "output_type": "execute_result"
    }
   ],
   "source": [
    "# En esta forma de usar .format(), estamos usando 2 llaves y por eso necesitamos 2 variables para llenarlas.\n",
    "# Se llenan en el orden que estan colocadas.\n",
    "\n",
    "\"Hola! Mi nombre es {} y tengo {} años.\".format(nombre, edad)"
   ]
  },
  {
   "cell_type": "code",
   "execution_count": 71,
   "id": "78011d51",
   "metadata": {},
   "outputs": [
    {
     "data": {
      "text/plain": [
       "'Hola! Mi nombre es 28 y tengo Daniel años.'"
      ]
     },
     "execution_count": 71,
     "metadata": {},
     "output_type": "execute_result"
    }
   ],
   "source": [
    "\"Hola! Mi nombre es {} y tengo {} años.\".format(edad, nombre)"
   ]
  },
  {
   "cell_type": "code",
   "execution_count": 72,
   "id": "8342db29-74ad-496a-927c-4b0368702fdc",
   "metadata": {},
   "outputs": [
    {
     "data": {
      "text/plain": [
       "'Hola! Mi nombre es Kike y tengo unos cuantos años.'"
      ]
     },
     "execution_count": 72,
     "metadata": {},
     "output_type": "execute_result"
    }
   ],
   "source": [
    "\"Hola! Mi nombre es {} y tengo {} años.\".format('Kike', 'unos cuantos')"
   ]
  },
  {
   "cell_type": "code",
   "execution_count": 77,
   "id": "5d527139-775a-4b8b-9f14-5cc3cae84d44",
   "metadata": {},
   "outputs": [],
   "source": [
    "nombre2 = 'Kike'"
   ]
  },
  {
   "cell_type": "code",
   "execution_count": 80,
   "id": "e97c763f",
   "metadata": {},
   "outputs": [
    {
     "data": {
      "text/plain": [
       "'Hola! Mi nombre es Daniel y tengo 28 años.'"
      ]
     },
     "execution_count": 80,
     "metadata": {},
     "output_type": "execute_result"
    }
   ],
   "source": [
    "# En esta forma de usar .format(), directamente llenamos las llaves con las variables.\n",
    "\n",
    "f\"Hola! Mi nombre es {nombre} y tengo {edad} años.\""
   ]
  },
  {
   "cell_type": "code",
   "execution_count": 81,
   "id": "0720fbce-7dbb-4b94-b89a-ffcf18d6bcfb",
   "metadata": {},
   "outputs": [
    {
     "data": {
      "text/plain": [
       "'Hola! Mi nombre es Kike y tengo 28 años.'"
      ]
     },
     "execution_count": 81,
     "metadata": {},
     "output_type": "execute_result"
    }
   ],
   "source": [
    "f\"Hola! Mi nombre es {nombre2} y tengo {edad} años.\""
   ]
  },
  {
   "cell_type": "code",
   "execution_count": 74,
   "id": "8ab2b80b-e863-4109-ab55-af6743290ab9",
   "metadata": {},
   "outputs": [
    {
     "data": {
      "text/plain": [
       "'Hola! Mi nombre es Kike y tengo unos cuantos años.'"
      ]
     },
     "execution_count": 74,
     "metadata": {},
     "output_type": "execute_result"
    }
   ],
   "source": [
    "f\"Hola! Mi nombre es {'Kike'} y tengo {'unos cuantos'} años.\""
   ]
  },
  {
   "cell_type": "markdown",
   "id": "ca73e0aa",
   "metadata": {},
   "source": [
    "Con **`format`** podemos utilizar todas las llaves que queramos siempre y cuando tengamos la misma cantidad de elementos para llenarlos."
   ]
  },
  {
   "cell_type": "markdown",
   "id": "15e2b30d",
   "metadata": {},
   "source": [
    "## Tuplas y Listas (tuple & list)\n",
    "\n",
    "En python las tuplas y listas son una clase de estructura de datos que pueden almacenar uno o más objetos y valores, en ellas se pueden almacenar cualquier tipo de variable u objeto y para acceder a los valores se utiliza indexing o slicing.\n",
    "\n",
    "- **Tuplas:**\n",
    "    - Se inicializan usando `tuple()` o `( )`.\n",
    "    - Son inmutables.\n",
    "    - Ocupan menos espacio en memoria.\n",
    "    - En general, el tiempo de ejecución o recorrido de una tupla es menor.\n",
    "    - Cuenta con menos funciones y métodos que las listas.\n",
    "    \n",
    "    \n",
    "- **Listas:**\n",
    "    - Se inicializan usando `list()` o `[ ]`.\n",
    "    - Son mutables.\n",
    "    - Ocupan más espacio en memoria que las tuplas.\n",
    "    - En general, las listas consumen más tiempo al iterar sobre ellas.\n",
    "    - Cuenta con muchas funciones y métodos para operar con ellas."
   ]
  },
  {
   "cell_type": "markdown",
   "id": "a36fa656",
   "metadata": {},
   "source": [
    "### Tuplas"
   ]
  },
  {
   "cell_type": "code",
   "execution_count": 95,
   "id": "b4b3eb13-5d55-4872-8dec-2fb3f3fd5291",
   "metadata": {},
   "outputs": [
    {
     "name": "stdout",
     "output_type": "stream",
     "text": [
      "Help on class tuple in module builtins:\n",
      "\n",
      "class tuple(object)\n",
      " |  tuple(iterable=(), /)\n",
      " |  \n",
      " |  Built-in immutable sequence.\n",
      " |  \n",
      " |  If no argument is given, the constructor returns an empty tuple.\n",
      " |  If iterable is specified the tuple is initialized from iterable's items.\n",
      " |  \n",
      " |  If the argument is a tuple, the return value is the same object.\n",
      " |  \n",
      " |  Built-in subclasses:\n",
      " |      asyncgen_hooks\n",
      " |      UnraisableHookArgs\n",
      " |  \n",
      " |  Methods defined here:\n",
      " |  \n",
      " |  __add__(self, value, /)\n",
      " |      Return self+value.\n",
      " |  \n",
      " |  __contains__(self, key, /)\n",
      " |      Return key in self.\n",
      " |  \n",
      " |  __eq__(self, value, /)\n",
      " |      Return self==value.\n",
      " |  \n",
      " |  __ge__(self, value, /)\n",
      " |      Return self>=value.\n",
      " |  \n",
      " |  __getattribute__(self, name, /)\n",
      " |      Return getattr(self, name).\n",
      " |  \n",
      " |  __getitem__(self, key, /)\n",
      " |      Return self[key].\n",
      " |  \n",
      " |  __getnewargs__(self, /)\n",
      " |  \n",
      " |  __gt__(self, value, /)\n",
      " |      Return self>value.\n",
      " |  \n",
      " |  __hash__(self, /)\n",
      " |      Return hash(self).\n",
      " |  \n",
      " |  __iter__(self, /)\n",
      " |      Implement iter(self).\n",
      " |  \n",
      " |  __le__(self, value, /)\n",
      " |      Return self<=value.\n",
      " |  \n",
      " |  __len__(self, /)\n",
      " |      Return len(self).\n",
      " |  \n",
      " |  __lt__(self, value, /)\n",
      " |      Return self<value.\n",
      " |  \n",
      " |  __mul__(self, value, /)\n",
      " |      Return self*value.\n",
      " |  \n",
      " |  __ne__(self, value, /)\n",
      " |      Return self!=value.\n",
      " |  \n",
      " |  __repr__(self, /)\n",
      " |      Return repr(self).\n",
      " |  \n",
      " |  __rmul__(self, value, /)\n",
      " |      Return value*self.\n",
      " |  \n",
      " |  count(self, value, /)\n",
      " |      Return number of occurrences of value.\n",
      " |  \n",
      " |  index(self, value, start=0, stop=9223372036854775807, /)\n",
      " |      Return first index of value.\n",
      " |      \n",
      " |      Raises ValueError if the value is not present.\n",
      " |  \n",
      " |  ----------------------------------------------------------------------\n",
      " |  Class methods defined here:\n",
      " |  \n",
      " |  __class_getitem__(...) from builtins.type\n",
      " |      See PEP 585\n",
      " |  \n",
      " |  ----------------------------------------------------------------------\n",
      " |  Static methods defined here:\n",
      " |  \n",
      " |  __new__(*args, **kwargs) from builtins.type\n",
      " |      Create and return a new object.  See help(type) for accurate signature.\n",
      "\n"
     ]
    }
   ],
   "source": [
    "help(tuple)"
   ]
  },
  {
   "cell_type": "code",
   "execution_count": 84,
   "id": "cb8e27b7",
   "metadata": {},
   "outputs": [
    {
     "data": {
      "text/plain": [
       "(1, 2, 3, 4, 5, 100)"
      ]
     },
     "execution_count": 84,
     "metadata": {},
     "output_type": "execute_result"
    }
   ],
   "source": [
    "tupla_1 = (1, 2, 3, 4, 5, 100)\n",
    "\n",
    "tupla_1"
   ]
  },
  {
   "cell_type": "code",
   "execution_count": 85,
   "id": "e528955a-9aea-4493-890f-d55f994d20c7",
   "metadata": {},
   "outputs": [
    {
     "data": {
      "text/plain": [
       "tuple"
      ]
     },
     "execution_count": 85,
     "metadata": {},
     "output_type": "execute_result"
    }
   ],
   "source": [
    "type(tupla_1)"
   ]
  },
  {
   "cell_type": "code",
   "execution_count": 86,
   "id": "1430ca9b",
   "metadata": {},
   "outputs": [
    {
     "name": "stdout",
     "output_type": "stream",
     "text": [
      "(1, 2, 3, 4, 5, 100)\n"
     ]
    }
   ],
   "source": [
    "print(tupla_1)"
   ]
  },
  {
   "cell_type": "code",
   "execution_count": 87,
   "id": "0ded8f73",
   "metadata": {},
   "outputs": [
    {
     "data": {
      "text/plain": [
       "(4, 5, 6, 7, 8, 100)"
      ]
     },
     "execution_count": 87,
     "metadata": {},
     "output_type": "execute_result"
    }
   ],
   "source": [
    "tupla_2 = (4, 5, 6, 7, 8, 100)\n",
    "\n",
    "tupla_2"
   ]
  },
  {
   "cell_type": "code",
   "execution_count": 88,
   "id": "946cd5f6",
   "metadata": {},
   "outputs": [
    {
     "name": "stdout",
     "output_type": "stream",
     "text": [
      "(4, 5, 6, 7, 8, 100)\n"
     ]
    }
   ],
   "source": [
    "print(tupla_2)"
   ]
  },
  {
   "cell_type": "code",
   "execution_count": 89,
   "id": "23e5ff0d",
   "metadata": {},
   "outputs": [
    {
     "data": {
      "text/plain": [
       "1"
      ]
     },
     "execution_count": 89,
     "metadata": {},
     "output_type": "execute_result"
    }
   ],
   "source": [
    "# Al igual que en los strings, para \"acceder\" a los elementos de una tupla usamos indexing y slicing\n",
    "\n",
    "tupla_1[0]"
   ]
  },
  {
   "cell_type": "code",
   "execution_count": 90,
   "id": "75fcc76b",
   "metadata": {},
   "outputs": [
    {
     "data": {
      "text/plain": [
       "(2, 3, 4, 5)"
      ]
     },
     "execution_count": 90,
     "metadata": {},
     "output_type": "execute_result"
    }
   ],
   "source": [
    "tupla_1[1:5]"
   ]
  },
  {
   "cell_type": "code",
   "execution_count": 91,
   "id": "0e4cf6f1",
   "metadata": {},
   "outputs": [
    {
     "data": {
      "text/plain": [
       "100"
      ]
     },
     "execution_count": 91,
     "metadata": {},
     "output_type": "execute_result"
    }
   ],
   "source": [
    "tupla_1[-1]"
   ]
  },
  {
   "cell_type": "code",
   "execution_count": 92,
   "id": "2d02dcf8",
   "metadata": {},
   "outputs": [
    {
     "name": "stdout",
     "output_type": "stream",
     "text": [
      "Minimo tupla_1: 1\n",
      "Maximo tupla_1: 100\n",
      "Tamaño tupla_1: 6\n"
     ]
    }
   ],
   "source": [
    "# Min, Max y Len\n",
    "\n",
    "print(\"Minimo tupla_1:\", min(tupla_1))\n",
    "print(\"Maximo tupla_1:\", max(tupla_1))\n",
    "print(\"Tamaño tupla_1:\", len(tupla_1))"
   ]
  },
  {
   "cell_type": "code",
   "execution_count": 93,
   "id": "f36e2335",
   "metadata": {},
   "outputs": [
    {
     "name": "stdout",
     "output_type": "stream",
     "text": [
      "Minimo tupla_2: 4\n",
      "Maximo tupla_2: 100\n",
      "Tamaño tupla_2: 6\n"
     ]
    }
   ],
   "source": [
    "# Min, Max y Len\n",
    "\n",
    "print(\"Minimo tupla_2:\", min(tupla_2))\n",
    "print(\"Maximo tupla_2:\", max(tupla_2))\n",
    "print(\"Tamaño tupla_2:\", len(tupla_2))"
   ]
  },
  {
   "cell_type": "code",
   "execution_count": 96,
   "id": "12046141-67a6-4a9f-b133-04fd613081cd",
   "metadata": {},
   "outputs": [
    {
     "data": {
      "text/plain": [
       "1"
      ]
     },
     "execution_count": 96,
     "metadata": {},
     "output_type": "execute_result"
    }
   ],
   "source": [
    "tupla_1.count(1)"
   ]
  },
  {
   "cell_type": "code",
   "execution_count": 98,
   "id": "1d902550-62d9-4c71-ae3f-b23faf239264",
   "metadata": {},
   "outputs": [
    {
     "ename": "ValueError",
     "evalue": "tuple.index(x): x not in tuple",
     "output_type": "error",
     "traceback": [
      "\u001b[1;31m---------------------------------------------------------------------------\u001b[0m",
      "\u001b[1;31mValueError\u001b[0m                                Traceback (most recent call last)",
      "\u001b[1;32m~\\AppData\\Local\\Temp/ipykernel_21556/901730561.py\u001b[0m in \u001b[0;36m<module>\u001b[1;34m\u001b[0m\n\u001b[1;32m----> 1\u001b[1;33m \u001b[0mtupla_1\u001b[0m\u001b[1;33m.\u001b[0m\u001b[0mindex\u001b[0m\u001b[1;33m(\u001b[0m\u001b[1;36m6\u001b[0m\u001b[1;33m)\u001b[0m\u001b[1;33m\u001b[0m\u001b[1;33m\u001b[0m\u001b[0m\n\u001b[0m",
      "\u001b[1;31mValueError\u001b[0m: tuple.index(x): x not in tuple"
     ]
    }
   ],
   "source": [
    "tupla_1.index(6)"
   ]
  },
  {
   "cell_type": "code",
   "execution_count": 56,
   "id": "1e34e9bd",
   "metadata": {},
   "outputs": [
    {
     "data": {
      "text/plain": [
       "(1, 2, 3, 4, 5, 100, 4, 5, 6, 7, 8, 100)"
      ]
     },
     "execution_count": 56,
     "metadata": {},
     "output_type": "execute_result"
    }
   ],
   "source": [
    "# Las tuplas se pueden concatenar usando +, el resultados es una nueva tupla, no modifica las tuplas originales\n",
    "\n",
    "tupla_1 + tupla_2"
   ]
  },
  {
   "cell_type": "code",
   "execution_count": 99,
   "id": "d6256cd1",
   "metadata": {},
   "outputs": [
    {
     "ename": "TypeError",
     "evalue": "unsupported operand type(s) for -: 'tuple' and 'tuple'",
     "output_type": "error",
     "traceback": [
      "\u001b[1;31m---------------------------------------------------------------------------\u001b[0m",
      "\u001b[1;31mTypeError\u001b[0m                                 Traceback (most recent call last)",
      "\u001b[1;32m~\\AppData\\Local\\Temp/ipykernel_21556/2937838287.py\u001b[0m in \u001b[0;36m<module>\u001b[1;34m\u001b[0m\n\u001b[0;32m      1\u001b[0m \u001b[1;31m# Pero no se pueden restar\u001b[0m\u001b[1;33m\u001b[0m\u001b[1;33m\u001b[0m\u001b[0m\n\u001b[0;32m      2\u001b[0m \u001b[1;33m\u001b[0m\u001b[0m\n\u001b[1;32m----> 3\u001b[1;33m \u001b[0mtupla_1\u001b[0m \u001b[1;33m-\u001b[0m \u001b[0mtupla_2\u001b[0m\u001b[1;33m\u001b[0m\u001b[1;33m\u001b[0m\u001b[0m\n\u001b[0m",
      "\u001b[1;31mTypeError\u001b[0m: unsupported operand type(s) for -: 'tuple' and 'tuple'"
     ]
    }
   ],
   "source": [
    "# Pero no se pueden restar\n",
    "\n",
    "tupla_1 - tupla_2"
   ]
  },
  {
   "cell_type": "markdown",
   "id": "be5be054",
   "metadata": {},
   "source": [
    "### Listas"
   ]
  },
  {
   "cell_type": "code",
   "execution_count": 100,
   "id": "6d16aff0",
   "metadata": {},
   "outputs": [],
   "source": [
    "lista_1 = [1, 2, 3, 4, 5, 6, 7, 100, 1000]\n",
    "\n",
    "lista_2 = [5, 6, 7, 8, 9, 10, 11, -2, -6, -100]"
   ]
  },
  {
   "cell_type": "code",
   "execution_count": 101,
   "id": "79e7f787",
   "metadata": {},
   "outputs": [
    {
     "name": "stdout",
     "output_type": "stream",
     "text": [
      "lista_1: [1, 2, 3, 4, 5, 6, 7, 100, 1000]\n",
      "lista_2: [5, 6, 7, 8, 9, 10, 11, -2, -6, -100]\n"
     ]
    }
   ],
   "source": [
    "print(\"lista_1:\", lista_1)\n",
    "print(\"lista_2:\", lista_2)"
   ]
  },
  {
   "cell_type": "code",
   "execution_count": 103,
   "id": "50876d20-f502-43af-b8da-0c501fd0175a",
   "metadata": {},
   "outputs": [],
   "source": [
    "#help(list)"
   ]
  },
  {
   "cell_type": "markdown",
   "id": "c5cd2373",
   "metadata": {},
   "source": [
    "Los objetos **`list()`** son unos de los más utilizados en python, la principal ventaja ante las tuplas es que estos objetos **son mutables**, es decir, pueden ser modificados, se les puede **agragar y quitar valores** y cuentan con diferentes métodos asociados:\n",
    "\n",
    "| Modifican \"in-place\" | Retornan un valor |\n",
    "|----------------------|-------------------|\n",
    "| **.append()**        | **.count()**      |\n",
    "| **.extend()**        | **.index()**      |\n",
    "| **.insert()**        | **min()**         |\n",
    "| **.pop()**           | **max()**         |\n",
    "| **.remove()**        | **len()**         |\n",
    "| **.sort()**          |                   |\n",
    "| **.reverse()**       |                   |\n",
    "| **.clear()**         |                   |\n",
    "| **del**              |                   |"
   ]
  },
  {
   "cell_type": "code",
   "execution_count": 104,
   "id": "4656c91b",
   "metadata": {},
   "outputs": [
    {
     "name": "stdout",
     "output_type": "stream",
     "text": [
      "Minimo lista_1: 1\n",
      "Maximo lista_1: 1000\n",
      "Tamaño lista_1: 9\n"
     ]
    }
   ],
   "source": [
    "# Las listas también tienen Min, Max y Len\n",
    "\n",
    "print(\"Minimo lista_1:\", min(lista_1))\n",
    "print(\"Maximo lista_1:\", max(lista_1))\n",
    "print(\"Tamaño lista_1:\", len(lista_1))"
   ]
  },
  {
   "cell_type": "code",
   "execution_count": 105,
   "id": "ad74452d",
   "metadata": {},
   "outputs": [
    {
     "name": "stdout",
     "output_type": "stream",
     "text": [
      "Antes del sort: [5, 6, 7, 8, 9, 10, 11, -2, -6, -100]\n"
     ]
    }
   ],
   "source": [
    "# .sort() ordena de menor a mayor la lista, no retorna un valor, modifica la lista \"in-place\"\n",
    "\n",
    "print(\"Antes del sort:\", lista_2)\n",
    "\n",
    "lista_2.sort()"
   ]
  },
  {
   "cell_type": "code",
   "execution_count": 106,
   "id": "287ab414",
   "metadata": {},
   "outputs": [
    {
     "name": "stdout",
     "output_type": "stream",
     "text": [
      "Después del sort: [-100, -6, -2, 5, 6, 7, 8, 9, 10, 11]\n"
     ]
    }
   ],
   "source": [
    "print(\"Después del sort:\", lista_2)"
   ]
  },
  {
   "cell_type": "code",
   "execution_count": 107,
   "id": "a3f576c7",
   "metadata": {},
   "outputs": [
    {
     "name": "stdout",
     "output_type": "stream",
     "text": [
      "Antes del reverse: [1, 2, 3, 4, 5, 6, 7, 100, 1000]\n",
      "Después del reverse: [1000, 100, 7, 6, 5, 4, 3, 2, 1]\n"
     ]
    }
   ],
   "source": [
    "# .reverse() invierte la lista\n",
    "\n",
    "print(\"Antes del reverse:\", lista_1)\n",
    "\n",
    "lista_1.reverse()\n",
    "\n",
    "print(\"Después del reverse:\", lista_1)"
   ]
  },
  {
   "cell_type": "code",
   "execution_count": 110,
   "id": "fffc95c0-b744-487c-98da-1fc0b4aeab79",
   "metadata": {},
   "outputs": [
    {
     "name": "stdout",
     "output_type": "stream",
     "text": [
      "[3, 1, 4, 7, 90, 24]\n",
      "[24, 90, 7, 4, 1, 3]\n",
      "[1, 3, 4, 7, 24, 90]\n"
     ]
    }
   ],
   "source": [
    "lista3 = [3, 1, 4, 7, 90, 24]\n",
    "\n",
    "print(lista3)\n",
    "\n",
    "lista3.reverse()\n",
    "\n",
    "print(lista3)\n",
    "\n",
    "lista3.sort()\n",
    "\n",
    "print(lista3)"
   ]
  },
  {
   "cell_type": "markdown",
   "id": "005bcf8c",
   "metadata": {},
   "source": [
    "Si quisieramos **agregar** elementos a una lista tenemos 3 opciones:\n",
    "\n",
    "- **`.append()`**: agrega 1 elemento/objeto al final de la lista.\n",
    "\n",
    "- **`.extend()`**: agrega todos los elementos de un objeto iterable al final de la lista.\n",
    "\n",
    "- **`.insert()`**: agrega 1 elemento a una posición en específico.\n",
    "\n",
    "\n",
    "**Ejemplos:**"
   ]
  },
  {
   "cell_type": "code",
   "execution_count": 111,
   "id": "28dbcf5b",
   "metadata": {},
   "outputs": [
    {
     "name": "stdout",
     "output_type": "stream",
     "text": [
      "Antes del append: [1000, 100, 7, 6, 5, 4, 3, 2, 1]\n"
     ]
    }
   ],
   "source": [
    "# Si quisieramos agregar el numero 50 en la última posición de la lista_1:\n",
    "# .append() no retorna nada\n",
    "\n",
    "print(\"Antes del append:\", lista_1)\n",
    "\n",
    "lista_1.append(50)"
   ]
  },
  {
   "cell_type": "code",
   "execution_count": 112,
   "id": "0ac4ad36",
   "metadata": {},
   "outputs": [
    {
     "name": "stdout",
     "output_type": "stream",
     "text": [
      "Después del append: [1000, 100, 7, 6, 5, 4, 3, 2, 1, 50]\n"
     ]
    }
   ],
   "source": [
    "print(\"Después del append:\", lista_1)"
   ]
  },
  {
   "cell_type": "code",
   "execution_count": 113,
   "id": "bc8cd545",
   "metadata": {},
   "outputs": [
    {
     "name": "stdout",
     "output_type": "stream",
     "text": [
      "Antes del extend: [1000, 100, 7, 6, 5, 4, 3, 2, 1, 50]\n"
     ]
    }
   ],
   "source": [
    "# Si quisieramos agregar los números 33, 44, 55, 66 y 0 al final de la lista_1:\n",
    "# .extend() no retorna nada\n",
    "\n",
    "print(\"Antes del extend:\", lista_1)\n",
    "\n",
    "lista_1.extend([33, 44, 55, 66, 0])"
   ]
  },
  {
   "cell_type": "code",
   "execution_count": 114,
   "id": "7c509f88",
   "metadata": {},
   "outputs": [
    {
     "name": "stdout",
     "output_type": "stream",
     "text": [
      "Después del extend: [1000, 100, 7, 6, 5, 4, 3, 2, 1, 50, 33, 44, 55, 66, 0]\n"
     ]
    }
   ],
   "source": [
    "print(\"Después del extend:\", lista_1)"
   ]
  },
  {
   "cell_type": "code",
   "execution_count": 115,
   "id": "fda04d21",
   "metadata": {},
   "outputs": [
    {
     "name": "stdout",
     "output_type": "stream",
     "text": [
      "Antes del insert: [1000, 100, 7, 6, 5, 4, 3, 2, 1, 50, 33, 44, 55, 66, 0]\n"
     ]
    }
   ],
   "source": [
    "# Si quisieramos agregar el número 0 al indice 4:\n",
    "# .insert() no retorna nada\n",
    "\n",
    "print(\"Antes del insert:\", lista_1)\n",
    "\n",
    "lista_1.insert(4, 0)"
   ]
  },
  {
   "cell_type": "code",
   "execution_count": 116,
   "id": "043eba3b",
   "metadata": {},
   "outputs": [
    {
     "name": "stdout",
     "output_type": "stream",
     "text": [
      "Después del insert: [1000, 100, 7, 6, 0, 5, 4, 3, 2, 1, 50, 33, 44, 55, 66, 0]\n"
     ]
    }
   ],
   "source": [
    "print(\"Después del insert:\", lista_1)"
   ]
  },
  {
   "cell_type": "markdown",
   "id": "7f8c2652",
   "metadata": {},
   "source": [
    "Si quisieramos eliminar los elementos de una lista también tenemos 3 opciones:\n",
    "    \n",
    "- **`.remove()`**: elimina la primera ocurrencia en la lista\n",
    "\n",
    "- **`.pop()`**: elimina un elemento utilizando su indice y retorna ese elemento\n",
    "\n",
    "- **`del`**: elimina un elemento utilizando su indice, no retorna nada"
   ]
  },
  {
   "cell_type": "code",
   "execution_count": 117,
   "id": "c0ffb747",
   "metadata": {},
   "outputs": [
    {
     "name": "stdout",
     "output_type": "stream",
     "text": [
      "Antes del remove: [1000, 100, 7, 6, 0, 5, 4, 3, 2, 1, 50, 33, 44, 55, 66, 0]\n"
     ]
    }
   ],
   "source": [
    "# En lista_1 aparecen dos veces el numero 0, si quisieramos eliminar el primer 0, utilizariamos .remove():\n",
    "# .remove() toma como argumento el elemento que queremos eliminar, no retorna nada.\n",
    "\n",
    "print(\"Antes del remove:\", lista_1)\n",
    "\n",
    "lista_1.remove(0)"
   ]
  },
  {
   "cell_type": "code",
   "execution_count": 118,
   "id": "790e8655",
   "metadata": {},
   "outputs": [
    {
     "name": "stdout",
     "output_type": "stream",
     "text": [
      "Después del remove: [1000, 100, 7, 6, 5, 4, 3, 2, 1, 50, 33, 44, 55, 66, 0]\n"
     ]
    }
   ],
   "source": [
    "print(\"Después del remove:\", lista_1)"
   ]
  },
  {
   "cell_type": "code",
   "execution_count": 119,
   "id": "1f883ee0",
   "metadata": {},
   "outputs": [
    {
     "ename": "ValueError",
     "evalue": "list.remove(x): x not in list",
     "output_type": "error",
     "traceback": [
      "\u001b[1;31m---------------------------------------------------------------------------\u001b[0m",
      "\u001b[1;31mValueError\u001b[0m                                Traceback (most recent call last)",
      "\u001b[1;32m~\\AppData\\Local\\Temp/ipykernel_21556/921983964.py\u001b[0m in \u001b[0;36m<module>\u001b[1;34m\u001b[0m\n\u001b[0;32m      1\u001b[0m \u001b[1;31m# Si intentamos eliminar un elemento que no este en la lista nos daría error\u001b[0m\u001b[1;33m\u001b[0m\u001b[1;33m\u001b[0m\u001b[0m\n\u001b[0;32m      2\u001b[0m \u001b[1;33m\u001b[0m\u001b[0m\n\u001b[1;32m----> 3\u001b[1;33m \u001b[0mlista_1\u001b[0m\u001b[1;33m.\u001b[0m\u001b[0mremove\u001b[0m\u001b[1;33m(\u001b[0m\u001b[1;36m99\u001b[0m\u001b[1;33m)\u001b[0m\u001b[1;33m\u001b[0m\u001b[1;33m\u001b[0m\u001b[0m\n\u001b[0m",
      "\u001b[1;31mValueError\u001b[0m: list.remove(x): x not in list"
     ]
    }
   ],
   "source": [
    "# Si intentamos eliminar un elemento que no este en la lista nos daría error\n",
    "\n",
    "lista_1.remove(99)"
   ]
  },
  {
   "cell_type": "code",
   "execution_count": 120,
   "id": "2b08d3dc",
   "metadata": {},
   "outputs": [
    {
     "name": "stdout",
     "output_type": "stream",
     "text": [
      "Antes del `del` [1000, 100, 7, 6, 5, 4, 3, 2, 1, 50, 33, 44, 55, 66, 0]\n"
     ]
    }
   ],
   "source": [
    "# Si queremor eliminar un elemento por su indice:\n",
    "\n",
    "print(\"Antes del `del`\", lista_1)\n",
    "\n",
    "del lista_1[5]\n",
    "\n",
    "# Elimina el elemento con indice 5"
   ]
  },
  {
   "cell_type": "code",
   "execution_count": 121,
   "id": "cdf98177",
   "metadata": {},
   "outputs": [
    {
     "name": "stdout",
     "output_type": "stream",
     "text": [
      "Después del `del` [1000, 100, 7, 6, 5, 3, 2, 1, 50, 33, 44, 55, 66, 0]\n"
     ]
    }
   ],
   "source": [
    "print(\"Después del `del`\", lista_1)"
   ]
  },
  {
   "cell_type": "code",
   "execution_count": 122,
   "id": "5108c7db",
   "metadata": {},
   "outputs": [
    {
     "name": "stdout",
     "output_type": "stream",
     "text": [
      "Antes del pop [1000, 100, 7, 6, 5, 3, 2, 1, 50, 33, 44, 55, 66, 0]\n"
     ]
    }
   ],
   "source": [
    "# Si queremos eliminar un elemento por su indice y a su vez guardar en una variable el ese elemento:\n",
    "# El .pop() retorna el elemento que saca de la lista, por lo que podemos igualar esa ejecución a una variable\n",
    "\n",
    "print(\"Antes del pop\", lista_1)\n",
    "\n",
    "elemento = lista_1.pop(0)"
   ]
  },
  {
   "cell_type": "code",
   "execution_count": 76,
   "id": "83ae02a0",
   "metadata": {},
   "outputs": [
    {
     "name": "stdout",
     "output_type": "stream",
     "text": [
      "Después del pop [100, 7, 6, 5, 3, 2, 1, 50, 33, 44, 55, 66, 0]\n"
     ]
    }
   ],
   "source": [
    "print(\"Después del pop\", lista_1)"
   ]
  },
  {
   "cell_type": "code",
   "execution_count": 123,
   "id": "fe831bd5",
   "metadata": {},
   "outputs": [
    {
     "data": {
      "text/plain": [
       "1000"
      ]
     },
     "execution_count": 123,
     "metadata": {},
     "output_type": "execute_result"
    }
   ],
   "source": [
    "elemento"
   ]
  },
  {
   "cell_type": "code",
   "execution_count": 124,
   "id": "2ffdb8d0",
   "metadata": {},
   "outputs": [
    {
     "name": "stdout",
     "output_type": "stream",
     "text": [
      "Antes del clear [100, 7, 6, 5, 3, 2, 1, 50, 33, 44, 55, 66, 0]\n",
      "Después del clear []\n"
     ]
    }
   ],
   "source": [
    "# Por último, podemos vaciar la lista con .clear()\n",
    "\n",
    "print(\"Antes del clear\", lista_1)\n",
    "\n",
    "lista_1.clear()\n",
    "\n",
    "print(\"Después del clear\", lista_1)"
   ]
  },
  {
   "cell_type": "code",
   "execution_count": 125,
   "id": "0061122a",
   "metadata": {},
   "outputs": [],
   "source": [
    "lista_1 = [1, 2, 3, 4, 5, 6, 7, 100, 1000]"
   ]
  },
  {
   "cell_type": "code",
   "execution_count": 127,
   "id": "dbbfbfe9",
   "metadata": {},
   "outputs": [
    {
     "data": {
      "text/plain": [
       "1"
      ]
     },
     "execution_count": 127,
     "metadata": {},
     "output_type": "execute_result"
    }
   ],
   "source": [
    "# .count() cuenta cuantas veces se repite un elemento:\n",
    "\n",
    "lista_1.count(100)"
   ]
  },
  {
   "cell_type": "code",
   "execution_count": 128,
   "id": "c64954bc",
   "metadata": {},
   "outputs": [
    {
     "data": {
      "text/plain": [
       "6"
      ]
     },
     "execution_count": 128,
     "metadata": {},
     "output_type": "execute_result"
    }
   ],
   "source": [
    "# .index() retorna la posición de un elemento en la lista:\n",
    "\n",
    "lista_1.index(7)"
   ]
  },
  {
   "cell_type": "code",
   "execution_count": 129,
   "id": "491183c2",
   "metadata": {},
   "outputs": [
    {
     "ename": "ValueError",
     "evalue": "-111 is not in list",
     "output_type": "error",
     "traceback": [
      "\u001b[1;31m---------------------------------------------------------------------------\u001b[0m",
      "\u001b[1;31mValueError\u001b[0m                                Traceback (most recent call last)",
      "\u001b[1;32m~\\AppData\\Local\\Temp/ipykernel_21556/1606319828.py\u001b[0m in \u001b[0;36m<module>\u001b[1;34m\u001b[0m\n\u001b[0;32m      1\u001b[0m \u001b[1;31m# Si intentamos buscar un elemento que no esta en la lista nos daría error\u001b[0m\u001b[1;33m\u001b[0m\u001b[1;33m\u001b[0m\u001b[0m\n\u001b[0;32m      2\u001b[0m \u001b[1;33m\u001b[0m\u001b[0m\n\u001b[1;32m----> 3\u001b[1;33m \u001b[0mlista_1\u001b[0m\u001b[1;33m.\u001b[0m\u001b[0mindex\u001b[0m\u001b[1;33m(\u001b[0m\u001b[1;33m-\u001b[0m\u001b[1;36m111\u001b[0m\u001b[1;33m)\u001b[0m\u001b[1;33m\u001b[0m\u001b[1;33m\u001b[0m\u001b[0m\n\u001b[0m",
      "\u001b[1;31mValueError\u001b[0m: -111 is not in list"
     ]
    }
   ],
   "source": [
    "# Si intentamos buscar un elemento que no esta en la lista nos daría error\n",
    "\n",
    "lista_1.index(-111)"
   ]
  },
  {
   "cell_type": "code",
   "execution_count": 130,
   "id": "2080dbb0",
   "metadata": {},
   "outputs": [
    {
     "data": {
      "text/plain": [
       "[1, 2, 3, 4, 5, 6, 7, 100, 1000]"
      ]
     },
     "execution_count": 130,
     "metadata": {},
     "output_type": "execute_result"
    }
   ],
   "source": [
    "lista_1"
   ]
  },
  {
   "cell_type": "code",
   "execution_count": 131,
   "id": "7c0c05a7",
   "metadata": {},
   "outputs": [
    {
     "data": {
      "text/plain": [
       "[1, 2, 3, 4, 5, -100, 7, 100, 1000]"
      ]
     },
     "execution_count": 131,
     "metadata": {},
     "output_type": "execute_result"
    }
   ],
   "source": [
    "# Si quisieramos cambiar un elemento de la lista podemos usar indexing para hacerlo:\n",
    "\n",
    "# Por ejemplo, queremos que el elemento en el indice 5 sea ahora -100\n",
    "\n",
    "lista_1[5] = -100\n",
    "\n",
    "lista_1"
   ]
  },
  {
   "cell_type": "code",
   "execution_count": 85,
   "id": "39b3bb36",
   "metadata": {},
   "outputs": [
    {
     "data": {
      "text/plain": [
       "[-100, 7, 100, 1000]"
      ]
     },
     "execution_count": 85,
     "metadata": {},
     "output_type": "execute_result"
    }
   ],
   "source": [
    "lista_1[5:10]"
   ]
  },
  {
   "cell_type": "code",
   "execution_count": 132,
   "id": "caae57bf",
   "metadata": {},
   "outputs": [
    {
     "data": {
      "text/plain": [
       "[1, 2, 3, 4, 5, -1, -2, -3, -4, -5]"
      ]
     },
     "execution_count": 132,
     "metadata": {},
     "output_type": "execute_result"
    }
   ],
   "source": [
    "# Y lo mismo aplica con el slicing si queremos cambiar un conjunto de elementos:\n",
    "\n",
    "lista_1[5:10] = [-1, -2, -3, -4, -5]\n",
    "\n",
    "lista_1"
   ]
  },
  {
   "cell_type": "markdown",
   "id": "009c3f4b",
   "metadata": {},
   "source": [
    "Tanto las listas como las tuplas pueden **contener cualquier tipo de objeto dentro de ellas**, esto incluye numeros, strings, listas, tuplas, diccionarios... Por lo que es normal ver listas anidadas: "
   ]
  },
  {
   "cell_type": "code",
   "execution_count": 133,
   "id": "fb0c4f4e",
   "metadata": {},
   "outputs": [
    {
     "name": "stdout",
     "output_type": "stream",
     "text": [
      "[[1, 2, 3], [4, 5, 6], [7, 8, 9]]\n"
     ]
    }
   ],
   "source": [
    "lista_1 = [[1, 2, 3], [4, 5, 6], [7, 8, 9]]\n",
    "\n",
    "print(lista_1)"
   ]
  },
  {
   "cell_type": "code",
   "execution_count": 88,
   "id": "f8e9ad31",
   "metadata": {},
   "outputs": [],
   "source": [
    "# Al tener una lista de listas accederiamos a cada una usando indexing"
   ]
  },
  {
   "cell_type": "code",
   "execution_count": 134,
   "id": "bf680dae",
   "metadata": {},
   "outputs": [
    {
     "data": {
      "text/plain": [
       "[1, 2, 3]"
      ]
     },
     "execution_count": 134,
     "metadata": {},
     "output_type": "execute_result"
    }
   ],
   "source": [
    "lista_1[0]"
   ]
  },
  {
   "cell_type": "code",
   "execution_count": 90,
   "id": "48f2dbd2",
   "metadata": {},
   "outputs": [
    {
     "data": {
      "text/plain": [
       "[4, 5, 6]"
      ]
     },
     "execution_count": 90,
     "metadata": {},
     "output_type": "execute_result"
    }
   ],
   "source": [
    "lista_1[1]"
   ]
  },
  {
   "cell_type": "code",
   "execution_count": 91,
   "id": "9247b7f6",
   "metadata": {},
   "outputs": [
    {
     "data": {
      "text/plain": [
       "[7, 8, 9]"
      ]
     },
     "execution_count": 91,
     "metadata": {},
     "output_type": "execute_result"
    }
   ],
   "source": [
    "lista_1[2]"
   ]
  },
  {
   "cell_type": "code",
   "execution_count": 135,
   "id": "4c1f7110",
   "metadata": {},
   "outputs": [
    {
     "data": {
      "text/plain": [
       "1"
      ]
     },
     "execution_count": 135,
     "metadata": {},
     "output_type": "execute_result"
    }
   ],
   "source": [
    "# Y si quisieramos los elementos de la primera lista, usariamos indexing otra vez\n",
    "lista_1[0][0]"
   ]
  },
  {
   "cell_type": "code",
   "execution_count": 136,
   "id": "63261966",
   "metadata": {},
   "outputs": [
    {
     "data": {
      "text/plain": [
       "2"
      ]
     },
     "execution_count": 136,
     "metadata": {},
     "output_type": "execute_result"
    }
   ],
   "source": [
    "lista_1[0][1]"
   ]
  },
  {
   "cell_type": "code",
   "execution_count": 137,
   "id": "34e748cf",
   "metadata": {},
   "outputs": [
    {
     "data": {
      "text/plain": [
       "3"
      ]
     },
     "execution_count": 137,
     "metadata": {},
     "output_type": "execute_result"
    }
   ],
   "source": [
    "lista_1[0][2]"
   ]
  },
  {
   "cell_type": "code",
   "execution_count": 138,
   "id": "8ad7b48f",
   "metadata": {},
   "outputs": [
    {
     "data": {
      "text/plain": [
       "[[1, 2, 3],\n",
       " 'Hola Mundo, esto es una cadena en PYTHON!',\n",
       " 10,\n",
       " 0,\n",
       " 1000,\n",
       " [7, 8, 9]]"
      ]
     },
     "execution_count": 138,
     "metadata": {},
     "output_type": "execute_result"
    }
   ],
   "source": [
    "lista_3 = [lista_1[0], string, 10, 0, 1000, lista_1[-1]]\n",
    "\n",
    "lista_3"
   ]
  },
  {
   "cell_type": "code",
   "execution_count": 139,
   "id": "dc2f69b4",
   "metadata": {},
   "outputs": [
    {
     "data": {
      "text/plain": [
       "'!'"
      ]
     },
     "execution_count": 139,
     "metadata": {},
     "output_type": "execute_result"
    }
   ],
   "source": [
    "lista_3[1][-1]"
   ]
  },
  {
   "cell_type": "markdown",
   "id": "dec8770e-70df-4c11-819c-969381b04be3",
   "metadata": {},
   "source": [
    "Ejercicio:"
   ]
  },
  {
   "cell_type": "code",
   "execution_count": 141,
   "id": "651c3a7c-fe0d-4255-8f35-97406b1948a7",
   "metadata": {},
   "outputs": [],
   "source": [
    "lista = [\"a\", \"b\", \"c\", \"d\", \"e\", 1, 2, 3, 4, 5, False, True]"
   ]
  },
  {
   "cell_type": "markdown",
   "id": "fb2e4366-3212-4652-9b10-654df9c50470",
   "metadata": {},
   "source": [
    "Con la lista dada debeis de retornar 3 listas diferentes cada con su tipo de dato correspondiente"
   ]
  },
  {
   "cell_type": "code",
   "execution_count": 145,
   "id": "b89a6484-b1a5-49ab-9b32-6d2e57145a61",
   "metadata": {},
   "outputs": [
    {
     "name": "stdout",
     "output_type": "stream",
     "text": [
      "['a', 'b', 'c', 'd', 'e']\n",
      "[1, 2, 3, 4, 5]\n",
      "[False, True]\n"
     ]
    }
   ],
   "source": [
    "lista_1 = lista[:5]\n",
    "lista_2 = lista[5:10]\n",
    "lista_3 = lista[10:]\n",
    "\n",
    "print(lista_1)\n",
    "print(lista_2)\n",
    "print(lista_3)"
   ]
  },
  {
   "cell_type": "code",
   "execution_count": null,
   "id": "834b83f1-d840-436c-ad86-bd410a8ba2d6",
   "metadata": {},
   "outputs": [],
   "source": []
  },
  {
   "cell_type": "code",
   "execution_count": null,
   "id": "601fb50e",
   "metadata": {},
   "outputs": [],
   "source": [
    "################################################################################################################################"
   ]
  }
 ],
 "metadata": {
  "kernelspec": {
   "display_name": "Python 3 (ipykernel)",
   "language": "python",
   "name": "python3"
  },
  "language_info": {
   "codemirror_mode": {
    "name": "ipython",
    "version": 3
   },
   "file_extension": ".py",
   "mimetype": "text/x-python",
   "name": "python",
   "nbconvert_exporter": "python",
   "pygments_lexer": "ipython3",
   "version": "3.9.7"
  }
 },
 "nbformat": 4,
 "nbformat_minor": 5
}
