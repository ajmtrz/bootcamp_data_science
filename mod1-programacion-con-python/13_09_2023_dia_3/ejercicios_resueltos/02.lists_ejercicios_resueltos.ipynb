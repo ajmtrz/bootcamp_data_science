{
 "cells": [
  {
   "cell_type": "markdown",
   "id": "689c1a0e",
   "metadata": {},
   "source": [
    "## Ejercicios lists"
   ]
  },
  {
   "cell_type": "code",
   "execution_count": null,
   "id": "29b1adca",
   "metadata": {},
   "outputs": [],
   "source": [
    "lista = [\"a\", \"b\", \"c\", \"d\", \"e\", 1, 2, 3, 4, 5, False, True]"
   ]
  },
  {
   "cell_type": "markdown",
   "id": "3a92774b",
   "metadata": {},
   "source": [
    "### Ejercicio 1\n",
    "- En listas separadas obtener una lista paras los caracteres, otra para los enteros y otra para lo booleanos, utilizando slicing.\n",
    "- Llamalas lista_1, lista_2, lista_3"
   ]
  },
  {
   "cell_type": "code",
   "execution_count": null,
   "id": "d8846c0d",
   "metadata": {},
   "outputs": [],
   "source": [
    "lista_1 = lista[:5]\n",
    "lista_1"
   ]
  },
  {
   "cell_type": "code",
   "execution_count": null,
   "id": "b869534e",
   "metadata": {},
   "outputs": [],
   "source": [
    "lista_2 = lista[5:10]\n",
    "lista_2"
   ]
  },
  {
   "cell_type": "code",
   "execution_count": null,
   "id": "f633c099",
   "metadata": {},
   "outputs": [],
   "source": [
    "lista_3 = lista[10:]\n",
    "lista_3"
   ]
  },
  {
   "cell_type": "markdown",
   "id": "2c73b574",
   "metadata": {},
   "source": [
    "### Ejercicio 2\n",
    "- Insertar las vocales faltantes a la lista de caracteres."
   ]
  },
  {
   "cell_type": "code",
   "execution_count": null,
   "id": "7ff75b01",
   "metadata": {},
   "outputs": [],
   "source": [
    "lista_1.extend([\"i\", \"o\", \"u\"])\n",
    "lista_1"
   ]
  },
  {
   "cell_type": "code",
   "execution_count": null,
   "id": "d6903710",
   "metadata": {},
   "outputs": [],
   "source": []
  },
  {
   "cell_type": "code",
   "execution_count": null,
   "id": "58d18658",
   "metadata": {},
   "outputs": [],
   "source": []
  },
  {
   "cell_type": "markdown",
   "id": "01569a27",
   "metadata": {},
   "source": [
    "### Ejercicio 3\n",
    "- Eliminar los caracteres que no son vocales de la lista de caracteres."
   ]
  },
  {
   "cell_type": "code",
   "execution_count": null,
   "id": "0b97f95e",
   "metadata": {},
   "outputs": [],
   "source": [
    "lista_1.remove(\"b\")\n",
    "lista_1.remove(\"c\")\n",
    "lista_1.remove(\"d\")\n",
    "lista_1"
   ]
  },
  {
   "cell_type": "code",
   "execution_count": null,
   "id": "8dde3078",
   "metadata": {},
   "outputs": [],
   "source": []
  },
  {
   "cell_type": "code",
   "execution_count": null,
   "id": "f8b25df7",
   "metadata": {},
   "outputs": [],
   "source": []
  },
  {
   "cell_type": "markdown",
   "id": "a1f846a6",
   "metadata": {},
   "source": [
    "### Ejercico 4\n",
    "- De la lista inicial (**lista**) reemplazar los elementos boleanos por 0 y 1 respectivamente."
   ]
  },
  {
   "cell_type": "code",
   "execution_count": null,
   "id": "ef405145",
   "metadata": {},
   "outputs": [],
   "source": [
    "lista[-1] = 1\n",
    "lista[-2] = 0\n",
    "lista"
   ]
  },
  {
   "cell_type": "code",
   "execution_count": null,
   "id": "9fe4632b",
   "metadata": {},
   "outputs": [],
   "source": []
  },
  {
   "cell_type": "code",
   "execution_count": null,
   "id": "7ff0cd89",
   "metadata": {},
   "outputs": [],
   "source": []
  },
  {
   "cell_type": "markdown",
   "id": "0dc22d68",
   "metadata": {},
   "source": [
    "### Ejercicio 5\n",
    "- Aplicar el metodo **`.reverse()`** a la lista de números."
   ]
  },
  {
   "cell_type": "code",
   "execution_count": null,
   "id": "e26f8c1a",
   "metadata": {},
   "outputs": [],
   "source": [
    "lista_2.reverse()\n",
    "lista_2"
   ]
  },
  {
   "cell_type": "code",
   "execution_count": null,
   "id": "4271add1",
   "metadata": {},
   "outputs": [],
   "source": []
  },
  {
   "cell_type": "markdown",
   "id": "a7fedc64",
   "metadata": {},
   "source": [
    "### Ejercicio 6\n",
    "- Aplicar el método **`.sort()`** a la lista de números."
   ]
  },
  {
   "cell_type": "code",
   "execution_count": null,
   "id": "3a3f630e",
   "metadata": {},
   "outputs": [],
   "source": [
    "lista_2.sort()\n",
    "lista_2"
   ]
  },
  {
   "cell_type": "code",
   "execution_count": null,
   "id": "10440560",
   "metadata": {},
   "outputs": [],
   "source": []
  },
  {
   "cell_type": "markdown",
   "id": "6fca8361",
   "metadata": {},
   "source": [
    "### Ejercicio 7\n",
    "- Une las 3 listas para formar la lista inicial otra vez."
   ]
  },
  {
   "cell_type": "code",
   "execution_count": null,
   "id": "12b94ea1",
   "metadata": {},
   "outputs": [],
   "source": [
    "lista_1 + lista_2 + lista_3"
   ]
  },
  {
   "cell_type": "code",
   "execution_count": null,
   "id": "eb64e86c",
   "metadata": {},
   "outputs": [],
   "source": []
  },
  {
   "cell_type": "code",
   "execution_count": null,
   "id": "2a29eab4",
   "metadata": {},
   "outputs": [],
   "source": []
  },
  {
   "cell_type": "markdown",
   "id": "105efdd9",
   "metadata": {},
   "source": [
    "### Ejercicio 8\n",
    "- Dada la siguiente lista de empresas:\n",
    "    1. Ordenar cada lista dentro de la lista de empresas en orden alfabetico.\n",
    "    2. Obtener las empresas: Audi, Avianca y KLM, mediante sus índices y crear una nueva lista con esos elementos."
   ]
  },
  {
   "cell_type": "code",
   "execution_count": 8,
   "id": "0e81c6cb",
   "metadata": {},
   "outputs": [
    {
     "data": {
      "text/plain": [
       "[['Cocacola', 'Pepsi'],\n",
       " ['FB', 'TW', 'IG'],\n",
       " ['Ferrari', 'Audi', 'Ford', 'Nissan'],\n",
       " ['KLM', 'AA', 'Iberia', 'AE', 'Avianca']]"
      ]
     },
     "execution_count": 8,
     "metadata": {},
     "output_type": "execute_result"
    }
   ],
   "source": [
    "empresas = [[\"Cocacola\", \"Pepsi\"],\n",
    "            [\"FB\", \"TW\", \"IG\"],\n",
    "            [\"Ferrari\", \"Audi\", \"Ford\", \"Nissan\"],\n",
    "            [\"KLM\", \"AA\", \"Iberia\", \"AE\", \"Avianca\"]]\n",
    "\n",
    "empresas"
   ]
  },
  {
   "cell_type": "code",
   "execution_count": 11,
   "id": "3d3d5d30-d4a4-4622-be3a-aea2a99081fc",
   "metadata": {},
   "outputs": [
    {
     "name": "stdout",
     "output_type": "stream",
     "text": [
      "[['Cocacola', 'Pepsi'], ['FB', 'TW', 'IG'], ['Ferrari', 'Audi', 'Ford', 'Nissan'], ['KLM', 'AA', 'Iberia', 'AE', 'Avianca']]\n"
     ]
    }
   ],
   "source": [
    "empresas[:3].sort()\n",
    "print(empresas)"
   ]
  },
  {
   "cell_type": "code",
   "execution_count": 12,
   "id": "fab7e0b0-7db4-4b81-9f53-f7c40f3b6426",
   "metadata": {},
   "outputs": [
    {
     "data": {
      "text/plain": [
       "[['Cocacola', 'Pepsi'],\n",
       " ['FB', 'TW', 'IG'],\n",
       " ['Ferrari', 'Audi', 'Ford', 'Nissan'],\n",
       " ['KLM', 'AA', 'Iberia', 'AE', 'Avianca']]"
      ]
     },
     "execution_count": 12,
     "metadata": {},
     "output_type": "execute_result"
    }
   ],
   "source": [
    "empresas"
   ]
  },
  {
   "cell_type": "code",
   "execution_count": 6,
   "id": "0cd11091-3a7e-4f7a-8e03-9fd6f30f817e",
   "metadata": {},
   "outputs": [
    {
     "data": {
      "text/plain": [
       "['Ferrari', 'Audi', 'Ford', 'Nissan']"
      ]
     },
     "execution_count": 6,
     "metadata": {},
     "output_type": "execute_result"
    }
   ],
   "source": [
    "empresas[2]"
   ]
  },
  {
   "cell_type": "code",
   "execution_count": 3,
   "id": "4963bdb3",
   "metadata": {},
   "outputs": [
    {
     "data": {
      "text/plain": [
       "[['Cocacola', 'Pepsi'],\n",
       " ['FB', 'IG', 'TW'],\n",
       " ['Audi', 'Ferrari', 'Ford', 'Nissan'],\n",
       " ['AA', 'AE', 'Avianca', 'Iberia', 'KLM']]"
      ]
     },
     "execution_count": 3,
     "metadata": {},
     "output_type": "execute_result"
    }
   ],
   "source": [
    "empresas[0].sort()\n",
    "empresas[1].sort()\n",
    "empresas[2].sort()\n",
    "empresas[3].sort()\n",
    "empresas"
   ]
  },
  {
   "cell_type": "code",
   "execution_count": 13,
   "id": "9c753ffc-bd36-429c-91a4-a176ad835c3c",
   "metadata": {},
   "outputs": [
    {
     "data": {
      "text/plain": [
       "[['Cocacola', 'Pepsi'],\n",
       " ['FB', 'IG', 'TW'],\n",
       " ['Audi', 'Ferrari', 'Ford', 'Nissan'],\n",
       " ['AA', 'AE', 'Avianca', 'Iberia', 'KLM']]"
      ]
     },
     "execution_count": 13,
     "metadata": {},
     "output_type": "execute_result"
    }
   ],
   "source": [
    "for l in empresas:\n",
    "    l.sort()\n",
    "\n",
    "empresas"
   ]
  },
  {
   "cell_type": "code",
   "execution_count": 14,
   "id": "9f9a41fa",
   "metadata": {},
   "outputs": [
    {
     "data": {
      "text/plain": [
       "['Audi', 'Avianca', 'KLM']"
      ]
     },
     "execution_count": 14,
     "metadata": {},
     "output_type": "execute_result"
    }
   ],
   "source": [
    "nueva_lista = [empresas[2][0], empresas[3][2], empresas[3][4]]\n",
    "nueva_lista"
   ]
  },
  {
   "cell_type": "code",
   "execution_count": 15,
   "id": "89812952",
   "metadata": {},
   "outputs": [
    {
     "name": "stdout",
     "output_type": "stream",
     "text": [
      "Audi,Avianca,KLM\n"
     ]
    }
   ],
   "source": [
    "nueva_lista = empresas[2][0] + \",\" + empresas[3][2] + \",\" + empresas[3][4]\n",
    "print(nueva_lista)"
   ]
  },
  {
   "cell_type": "code",
   "execution_count": 16,
   "id": "addf7e21-829f-4a1c-9f86-1803895c43da",
   "metadata": {},
   "outputs": [
    {
     "data": {
      "text/plain": [
       "str"
      ]
     },
     "execution_count": 16,
     "metadata": {},
     "output_type": "execute_result"
    }
   ],
   "source": [
    "type(nueva_lista)"
   ]
  },
  {
   "cell_type": "code",
   "execution_count": 18,
   "id": "d558daab-59cd-4fdd-8f4a-7f92b3aea7ed",
   "metadata": {},
   "outputs": [
    {
     "data": {
      "text/plain": [
       "['Audi', 'Avianca', 'KLM']"
      ]
     },
     "execution_count": 18,
     "metadata": {},
     "output_type": "execute_result"
    }
   ],
   "source": [
    "nueva_lista = []\n",
    "for l1 in empresas:\n",
    "    for e in l1:\n",
    "        if e == 'Audi' or e == 'Avianca' or e == 'KLM':\n",
    "            nueva_lista.append(e)\n",
    "        else:\n",
    "            pass\n",
    "\n",
    "nueva_lista"
   ]
  },
  {
   "cell_type": "code",
   "execution_count": 20,
   "id": "1ec428e2-55b3-4087-ba6d-2839b105c43e",
   "metadata": {},
   "outputs": [
    {
     "name": "stdout",
     "output_type": "stream",
     "text": [
      "Audi está en los índices 2,0\n",
      "Avianca está en los índices 3,2\n",
      "KLM está en los índices 3,4\n"
     ]
    },
    {
     "data": {
      "text/plain": [
       "['Audi', 'Avianca', 'KLM']"
      ]
     },
     "execution_count": 20,
     "metadata": {},
     "output_type": "execute_result"
    }
   ],
   "source": [
    "nueva_lista = []\n",
    "\n",
    "for i in range(len(empresas)):\n",
    "    for e in range(len(empresas[i])):\n",
    "        if empresas[i][e] == 'Audi' or empresas[i][e] == 'Avianca' or empresas[i][e] == 'KLM':\n",
    "            print(f'{empresas[i][e]} está en los índices {i},{e}')\n",
    "            nueva_lista.append(empresas[i][e])\n",
    "        else:\n",
    "            pass\n",
    "nueva_lista"
   ]
  },
  {
   "cell_type": "code",
   "execution_count": null,
   "id": "96918ef8-05b8-482f-8e57-f5cbd09479c1",
   "metadata": {},
   "outputs": [],
   "source": []
  }
 ],
 "metadata": {
  "kernelspec": {
   "display_name": "Python 3 (ipykernel)",
   "language": "python",
   "name": "python3"
  },
  "language_info": {
   "codemirror_mode": {
    "name": "ipython",
    "version": 3
   },
   "file_extension": ".py",
   "mimetype": "text/x-python",
   "name": "python",
   "nbconvert_exporter": "python",
   "pygments_lexer": "ipython3",
   "version": "3.9.7"
  }
 },
 "nbformat": 4,
 "nbformat_minor": 5
}
