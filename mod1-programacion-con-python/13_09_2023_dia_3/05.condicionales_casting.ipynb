{
 "cells": [
  {
   "cell_type": "markdown",
   "id": "17446dec",
   "metadata": {},
   "source": [
    "## Condicionales\n",
    "\n",
    "Las sentencias condicionales se usan para tomar decisiones, éstas evalúan una operación lógica (declaraciones o statements), es decir una expresión que de como resultado **True** o **False** , y ejecuta una pieza de código u otro dependiendo del resultado. **Dependiendo de la estructura del condicional se ejecutará o no una o varias lineas de código.**\n",
    "\n",
    "###  if\n",
    "\n",
    "Es la base del condicional, **`if`** evaluará si una declaración es **`True`** o **`False`** y, dependiendo del resultado, ejecutará una linea de código u otro.\n",
    "\n",
    "**Ejemplo:**"
   ]
  },
  {
   "cell_type": "code",
   "execution_count": 1,
   "id": "bf1e8357",
   "metadata": {},
   "outputs": [
    {
     "name": "stdout",
     "output_type": "stream",
     "text": [
      "Persona mayor de edad.\n"
     ]
    }
   ],
   "source": [
    "edad = 18\n",
    "\n",
    "if edad >= 18:\n",
    "    print(\"Persona mayor de edad.\")"
   ]
  },
  {
   "cell_type": "code",
   "execution_count": 3,
   "id": "a1c83fd5",
   "metadata": {},
   "outputs": [
    {
     "name": "stdout",
     "output_type": "stream",
     "text": [
      "Continuo por aquí\n"
     ]
    }
   ],
   "source": [
    "edad = 17\n",
    "\n",
    "if edad >= 18:\n",
    "    print(\"Persona mayor de edad.\")\n",
    "\n",
    "print('Continuo por aquí')"
   ]
  },
  {
   "cell_type": "markdown",
   "id": "fa8a74c1",
   "metadata": {},
   "source": [
    "### else\n",
    "\n",
    "Es el complemento del **`if`**, usando **`else`** podemos dar otro resultado si la condición no se cumple.\n",
    "\n",
    "**El condicional `else` no es obligatorio y no necesita que le demos una declaración.**\n",
    "\n",
    "**Cuando se ejecuta el `if` NO se ejecuta el `else` y cuando NO se ejecuta el `if` se ejecuta el `else`.**"
   ]
  },
  {
   "cell_type": "code",
   "execution_count": 4,
   "id": "7e183140",
   "metadata": {},
   "outputs": [
    {
     "name": "stdout",
     "output_type": "stream",
     "text": [
      "Persona mayor de edad.\n"
     ]
    }
   ],
   "source": [
    "edad = 18\n",
    "\n",
    "if edad >= 18:\n",
    "    print(\"Persona mayor de edad.\")\n",
    "    \n",
    "else:\n",
    "    print(\"Condición no se cumple, persona menor de edad\")"
   ]
  },
  {
   "cell_type": "code",
   "execution_count": 5,
   "id": "450e9802",
   "metadata": {},
   "outputs": [
    {
     "name": "stdout",
     "output_type": "stream",
     "text": [
      "Condición no se cumple, persona menor de edad\n"
     ]
    }
   ],
   "source": [
    "edad = 17\n",
    "\n",
    "if edad >= 18:\n",
    "    print(\"Persona mayor de edad.\")\n",
    "    \n",
    "else:\n",
    "    print(\"Condición no se cumple, persona menor de edad\")"
   ]
  },
  {
   "cell_type": "markdown",
   "id": "df11f27d",
   "metadata": {},
   "source": [
    "### elif\n",
    "\n",
    "Abreviatura de **`else if`**, está nos ayuda a verificar diferentes comprobaciones, **es opcional usarlo y al igual que el `if` necesita una condición para comprobar, podemos usar tantos `elif` como queramos**."
   ]
  },
  {
   "cell_type": "code",
   "execution_count": 6,
   "id": "5aca3084",
   "metadata": {},
   "outputs": [
    {
     "name": "stdout",
     "output_type": "stream",
     "text": [
      "Persona menor de edad, con 15 años.\n"
     ]
    }
   ],
   "source": [
    "edad = 15\n",
    "\n",
    "if edad >= 18:\n",
    "    print(\"Persona mayor de edad.\")\n",
    "    \n",
    "elif edad == 17:\n",
    "    print(\"Persona menor de edad, con 17 años.\")\n",
    "    \n",
    "elif edad == 15:\n",
    "    print(\"Persona menor de edad, con 15 años.\")\n",
    "    \n",
    "elif edad == 13:\n",
    "    print(\"Persona menor de edad, con 13 años.\")\n",
    "    \n",
    "else:\n",
    "    print(\"Persona menor de 13 años.\")"
   ]
  },
  {
   "cell_type": "markdown",
   "id": "da44d3d8",
   "metadata": {},
   "source": [
    "### Condicionales anidados\n",
    "\n",
    "Al igual que las listas en Python, se pueden anidar condicionales, esto nos permite hacer código más complejo."
   ]
  },
  {
   "cell_type": "code",
   "execution_count": 8,
   "id": "299af74f",
   "metadata": {},
   "outputs": [
    {
     "name": "stdout",
     "output_type": "stream",
     "text": [
      "No vive en Madrid.\n",
      "Menor de edad\n"
     ]
    }
   ],
   "source": [
    "edad = 17\n",
    "direccion = \"A Coruña\"\n",
    "\n",
    "if direccion == \"Madrid\":\n",
    "    \n",
    "    if edad >= 18:\n",
    "        print(\"Vive en Madrid, mayor de edad.\")\n",
    "        \n",
    "    elif (edad >= 15) and (edad < 18):\n",
    "        print(\"Vive en Madrid, menor de 18 pero mayor de 15 años.\")\n",
    "        \n",
    "    else:\n",
    "        print(\"Vive en Madrid, menor de 15 años.\")\n",
    "    \n",
    "else:\n",
    "    \n",
    "    print(\"No vive en Madrid.\")\n",
    "    \n",
    "    if edad >= 18:\n",
    "        print(\"Mayor de edad.\")\n",
    "    else:\n",
    "        print(\"Menor de edad\")"
   ]
  },
  {
   "cell_type": "markdown",
   "id": "6fb3a031",
   "metadata": {},
   "source": [
    "## Casting (conversión)\n",
    "\n",
    "En python y otros lenguajes, **`casting`** es un termino usado para cambiar el tipo de dato de una variable, como convertir un número **`float`** a **`int`** o una **`tuple`** a **`list`** (o viceversa).\n",
    "\n",
    "Para hacer **`casting`** o castear, usamos las funciones **`built-in`** de Python, que también son palabras reservadas:\n",
    "\n",
    "|Función      |Tipo              |\n",
    "|-------------|------------------|\n",
    "| **int()**   |Entero            |\n",
    "| **float()** |Flotante (Decimal)|\n",
    "| **bool()**  |Booleano          |\n",
    "| **str()**   |String            |\n",
    "| **tuple()** |Tupla             |\n",
    "| **list()**  |Lista             |\n",
    "| **set()**   |Set (o conjunto)  |\n",
    "| **dict()**  |Diccionario       |\n",
    "\n",
    "\n",
    "**Dependiendo del tipo de dato original podremos castear una variable a un tipo de dato u otro.**\n",
    "\n",
    "Por ejemplo, podemos transformar un numero a una cadena de caracteres, pero no podemos transformar una cadena de caracteres con letras a un numero entero."
   ]
  },
  {
   "cell_type": "code",
   "execution_count": 10,
   "id": "e3718466",
   "metadata": {},
   "outputs": [
    {
     "data": {
      "text/plain": [
       "int"
      ]
     },
     "execution_count": 10,
     "metadata": {},
     "output_type": "execute_result"
    }
   ],
   "source": [
    "entero = 1000\n",
    "\n",
    "type(entero)"
   ]
  },
  {
   "cell_type": "code",
   "execution_count": 12,
   "id": "7e159edb-7fdc-4cb4-b69b-22c6d748bd37",
   "metadata": {},
   "outputs": [
    {
     "data": {
      "text/plain": [
       "1000"
      ]
     },
     "execution_count": 12,
     "metadata": {},
     "output_type": "execute_result"
    }
   ],
   "source": [
    "entero"
   ]
  },
  {
   "cell_type": "code",
   "execution_count": 11,
   "id": "42ef594f-506e-4ae8-bbd1-657141f020c7",
   "metadata": {},
   "outputs": [
    {
     "data": {
      "text/plain": [
       "str"
      ]
     },
     "execution_count": 11,
     "metadata": {},
     "output_type": "execute_result"
    }
   ],
   "source": [
    "entero_cateado_a_str = str(entero)\n",
    "\n",
    "type(entero_cateado_a_str)"
   ]
  },
  {
   "cell_type": "code",
   "execution_count": 13,
   "id": "6ce2b349-88a5-4b71-95c3-7e886d8298ac",
   "metadata": {},
   "outputs": [
    {
     "data": {
      "text/plain": [
       "'1000'"
      ]
     },
     "execution_count": 13,
     "metadata": {},
     "output_type": "execute_result"
    }
   ],
   "source": [
    "entero_cateado_a_str"
   ]
  },
  {
   "cell_type": "code",
   "execution_count": 14,
   "id": "f2ef3260",
   "metadata": {},
   "outputs": [
    {
     "data": {
      "text/plain": [
       "1000"
      ]
     },
     "execution_count": 14,
     "metadata": {},
     "output_type": "execute_result"
    }
   ],
   "source": [
    "string = \"1000\"\n",
    "\n",
    "int(string)"
   ]
  },
  {
   "cell_type": "code",
   "execution_count": 15,
   "id": "08a875fb",
   "metadata": {},
   "outputs": [
    {
     "data": {
      "text/plain": [
       "1000.0"
      ]
     },
     "execution_count": 15,
     "metadata": {},
     "output_type": "execute_result"
    }
   ],
   "source": [
    "float(string)"
   ]
  },
  {
   "cell_type": "code",
   "execution_count": 16,
   "id": "456f2c4e",
   "metadata": {},
   "outputs": [
    {
     "ename": "ValueError",
     "evalue": "invalid literal for int() with base 10: 'Hola'",
     "output_type": "error",
     "traceback": [
      "\u001b[1;31m---------------------------------------------------------------------------\u001b[0m",
      "\u001b[1;31mValueError\u001b[0m                                Traceback (most recent call last)",
      "\u001b[1;32m~\\AppData\\Local\\Temp/ipykernel_3284/1847064110.py\u001b[0m in \u001b[0;36m<module>\u001b[1;34m\u001b[0m\n\u001b[0;32m      1\u001b[0m \u001b[0mstring\u001b[0m \u001b[1;33m=\u001b[0m \u001b[1;34m\"Hola\"\u001b[0m\u001b[1;33m\u001b[0m\u001b[1;33m\u001b[0m\u001b[0m\n\u001b[0;32m      2\u001b[0m \u001b[1;33m\u001b[0m\u001b[0m\n\u001b[1;32m----> 3\u001b[1;33m \u001b[0mint\u001b[0m\u001b[1;33m(\u001b[0m\u001b[0mstring\u001b[0m\u001b[1;33m)\u001b[0m\u001b[1;33m\u001b[0m\u001b[1;33m\u001b[0m\u001b[0m\n\u001b[0m",
      "\u001b[1;31mValueError\u001b[0m: invalid literal for int() with base 10: 'Hola'"
     ]
    }
   ],
   "source": [
    "string = \"Hola\"\n",
    "\n",
    "int(string)"
   ]
  },
  {
   "cell_type": "code",
   "execution_count": 17,
   "id": "ea8adf53",
   "metadata": {},
   "outputs": [
    {
     "data": {
      "text/plain": [
       "[1, 2, 3, 4, 5, 6]"
      ]
     },
     "execution_count": 17,
     "metadata": {},
     "output_type": "execute_result"
    }
   ],
   "source": [
    "tupla = (1, 2, 3, 4, 5, 6)\n",
    "\n",
    "list(tupla)"
   ]
  },
  {
   "cell_type": "code",
   "execution_count": 18,
   "id": "bed1a870",
   "metadata": {},
   "outputs": [
    {
     "data": {
      "text/plain": [
       "{1, 2, 3, 4, 5, 6}"
      ]
     },
     "execution_count": 18,
     "metadata": {},
     "output_type": "execute_result"
    }
   ],
   "source": [
    "set(tupla)"
   ]
  },
  {
   "cell_type": "code",
   "execution_count": 19,
   "id": "4f3d65fa",
   "metadata": {},
   "outputs": [
    {
     "ename": "ValueError",
     "evalue": "could not convert string to float: '100a00'",
     "output_type": "error",
     "traceback": [
      "\u001b[1;31m---------------------------------------------------------------------------\u001b[0m",
      "\u001b[1;31mValueError\u001b[0m                                Traceback (most recent call last)",
      "\u001b[1;32m~\\AppData\\Local\\Temp/ipykernel_3284/2977083425.py\u001b[0m in \u001b[0;36m<module>\u001b[1;34m\u001b[0m\n\u001b[0;32m      1\u001b[0m \u001b[0mstring\u001b[0m \u001b[1;33m=\u001b[0m \u001b[1;34m\"100a00\"\u001b[0m\u001b[1;33m\u001b[0m\u001b[1;33m\u001b[0m\u001b[0m\n\u001b[0;32m      2\u001b[0m \u001b[1;33m\u001b[0m\u001b[0m\n\u001b[1;32m----> 3\u001b[1;33m \u001b[0mfloat\u001b[0m\u001b[1;33m(\u001b[0m\u001b[0mstring\u001b[0m\u001b[1;33m)\u001b[0m\u001b[1;33m\u001b[0m\u001b[1;33m\u001b[0m\u001b[0m\n\u001b[0m",
      "\u001b[1;31mValueError\u001b[0m: could not convert string to float: '100a00'"
     ]
    }
   ],
   "source": [
    "string = \"100a00\"\n",
    "\n",
    "float(string)"
   ]
  },
  {
   "cell_type": "markdown",
   "id": "b671f45c",
   "metadata": {},
   "source": [
    "## input\n",
    "\n",
    "La función **`input()`** pide al usuario que ingrese por teclado un mensaje, puede ser una variable, un numero, una cadena de caracteres, una lista... Esta función SIEMPRE retorna una **`string`**, por lo que si el usuario ingresa un número tendremos que castearlo para poder usarlo como número."
   ]
  },
  {
   "cell_type": "code",
   "execution_count": 20,
   "id": "9fd2a010",
   "metadata": {},
   "outputs": [
    {
     "name": "stdin",
     "output_type": "stream",
     "text": [
      "Ingrese edad: 40\n"
     ]
    },
    {
     "data": {
      "text/plain": [
       "'40'"
      ]
     },
     "execution_count": 20,
     "metadata": {},
     "output_type": "execute_result"
    }
   ],
   "source": [
    "input(\"Ingrese edad:\")"
   ]
  },
  {
   "cell_type": "code",
   "execution_count": 21,
   "id": "74ef2a3b",
   "metadata": {},
   "outputs": [
    {
     "name": "stdin",
     "output_type": "stream",
     "text": [
      "Ingrese edad:  40\n"
     ]
    }
   ],
   "source": [
    "edad = input(\"Ingrese edad: \")"
   ]
  },
  {
   "cell_type": "code",
   "execution_count": 22,
   "id": "d7e790c8",
   "metadata": {},
   "outputs": [
    {
     "name": "stdout",
     "output_type": "stream",
     "text": [
      "40\n"
     ]
    }
   ],
   "source": [
    "print(edad)"
   ]
  },
  {
   "cell_type": "code",
   "execution_count": 23,
   "id": "2ca104ef",
   "metadata": {},
   "outputs": [
    {
     "data": {
      "text/plain": [
       "str"
      ]
     },
     "execution_count": 23,
     "metadata": {},
     "output_type": "execute_result"
    }
   ],
   "source": [
    "type(edad)"
   ]
  },
  {
   "cell_type": "code",
   "execution_count": 24,
   "id": "7d29fb9d",
   "metadata": {},
   "outputs": [
    {
     "name": "stdin",
     "output_type": "stream",
     "text": [
      "Ingrese edad:  40\n"
     ]
    },
    {
     "data": {
      "text/plain": [
       "int"
      ]
     },
     "execution_count": 24,
     "metadata": {},
     "output_type": "execute_result"
    }
   ],
   "source": [
    "edad = int(input(\"Ingrese edad: \"))\n",
    "\n",
    "type(edad)"
   ]
  },
  {
   "cell_type": "code",
   "execution_count": 27,
   "id": "163fcf59",
   "metadata": {},
   "outputs": [
    {
     "name": "stdin",
     "output_type": "stream",
     "text": [
      "Ingresa una lista de numeros separados por espacios:  1 2 3 4 5 44 23 6546 65756 23432 6757\n"
     ]
    }
   ],
   "source": [
    "numeros = input(\"Ingresa una lista de numeros separados por espacios: \")"
   ]
  },
  {
   "cell_type": "code",
   "execution_count": 28,
   "id": "dab81c94-b575-48d2-b56f-8495b6116b68",
   "metadata": {},
   "outputs": [
    {
     "data": {
      "text/plain": [
       "'1 2 3 4 5 44 23 6546 65756 23432 6757'"
      ]
     },
     "execution_count": 28,
     "metadata": {},
     "output_type": "execute_result"
    }
   ],
   "source": [
    "numeros"
   ]
  },
  {
   "cell_type": "code",
   "execution_count": 29,
   "id": "54fc22f7",
   "metadata": {},
   "outputs": [
    {
     "data": {
      "text/plain": [
       "['1', '2', '3', '4', '5', '44', '23', '6546', '65756', '23432', '6757']"
      ]
     },
     "execution_count": 29,
     "metadata": {},
     "output_type": "execute_result"
    }
   ],
   "source": [
    "numeros = numeros.split(\" \")\n",
    "\n",
    "numeros"
   ]
  },
  {
   "cell_type": "code",
   "execution_count": 42,
   "id": "8397f3d6-25b6-4fb2-8617-fd319742a207",
   "metadata": {},
   "outputs": [
    {
     "data": {
      "text/plain": [
       "[1.0, 2.0, 3.0, 4.0, 5.0, 44, 23.0, 6546, 65756, 23432, 6757]"
      ]
     },
     "execution_count": 42,
     "metadata": {},
     "output_type": "execute_result"
    }
   ],
   "source": [
    "n1 = []\n",
    "for n in numeros:\n",
    "    if int(n) > 25:\n",
    "        n1.append(int(n))\n",
    "    else:\n",
    "        n1.append(float(n))\n",
    "\n",
    "n1"
   ]
  },
  {
   "cell_type": "code",
   "execution_count": 47,
   "id": "709ebd5a-4e3b-4962-84af-020645def430",
   "metadata": {},
   "outputs": [
    {
     "name": "stdout",
     "output_type": "stream",
     "text": [
      "<class 'float'>\n",
      "<class 'float'>\n",
      "<class 'float'>\n",
      "<class 'float'>\n",
      "<class 'float'>\n",
      "<class 'int'>\n",
      "<class 'float'>\n",
      "<class 'int'>\n",
      "<class 'int'>\n",
      "<class 'int'>\n",
      "<class 'int'>\n"
     ]
    }
   ],
   "source": [
    "for n in n1:\n",
    "    print(type(n))"
   ]
  },
  {
   "cell_type": "code",
   "execution_count": 45,
   "id": "1541244e-973a-4290-9770-4a592ada73ba",
   "metadata": {},
   "outputs": [
    {
     "data": {
      "text/plain": [
       "int"
      ]
     },
     "execution_count": 45,
     "metadata": {},
     "output_type": "execute_result"
    }
   ],
   "source": [
    "type(n1[7])"
   ]
  },
  {
   "cell_type": "code",
   "execution_count": 39,
   "id": "94666b80-a579-407d-8f6a-8c45f2df0fcd",
   "metadata": {},
   "outputs": [
    {
     "name": "stdin",
     "output_type": "stream",
     "text": [
      "Ingresa los numeros que quieres separados por espacios 12343\n"
     ]
    }
   ],
   "source": [
    "lista1 = list(input('Ingresa los numeros que quieres separados por espacios'))"
   ]
  },
  {
   "cell_type": "code",
   "execution_count": 40,
   "id": "6d6d08a6-f747-4b0d-b604-4df5a97d1f9b",
   "metadata": {},
   "outputs": [
    {
     "data": {
      "text/plain": [
       "['1', '2', '3', '4', '3']"
      ]
     },
     "execution_count": 40,
     "metadata": {},
     "output_type": "execute_result"
    }
   ],
   "source": [
    "lista1"
   ]
  },
  {
   "cell_type": "code",
   "execution_count": null,
   "id": "02cda025",
   "metadata": {},
   "outputs": [],
   "source": [
    "################################################################################################################################"
   ]
  }
 ],
 "metadata": {
  "kernelspec": {
   "display_name": "Python 3 (ipykernel)",
   "language": "python",
   "name": "python3"
  },
  "language_info": {
   "codemirror_mode": {
    "name": "ipython",
    "version": 3
   },
   "file_extension": ".py",
   "mimetype": "text/x-python",
   "name": "python",
   "nbconvert_exporter": "python",
   "pygments_lexer": "ipython3",
   "version": "3.9.7"
  }
 },
 "nbformat": 4,
 "nbformat_minor": 5
}
