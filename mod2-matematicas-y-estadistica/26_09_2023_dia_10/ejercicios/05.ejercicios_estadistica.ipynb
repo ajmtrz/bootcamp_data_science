{
 "cells": [
  {
   "cell_type": "markdown",
   "id": "136d8ea3",
   "metadata": {},
   "source": [
    "## Estadística  Ejercicios"
   ]
  },
  {
   "cell_type": "code",
   "execution_count": null,
   "id": "7320a211",
   "metadata": {},
   "outputs": [],
   "source": [
    "import numpy as np\n",
    "import pandas as pd\n",
    "import matplotlib.pyplot as plt\n",
    "import seaborn as sns\n",
    "\n",
    "import random"
   ]
  },
  {
   "cell_type": "markdown",
   "id": "d9ae7ca8",
   "metadata": {},
   "source": [
    "### Ejercicio 01:\n",
    "- Usando el dataset **`FuelConsumptionCo2.csv`** encuentra para cada lista:\n",
    "    - Mínimo, media, mediana, máximo y desviación estandar (usa *numpy*).\n",
    "    - Guarda la información en un diccionario.\n",
    "    - **Define una función que tome como parámetro una lista, calcule esas métricas y retorne la información como diccionario.**"
   ]
  },
  {
   "cell_type": "code",
   "execution_count": null,
   "id": "53598a22",
   "metadata": {
    "scrolled": true
   },
   "outputs": [],
   "source": [
    "df = pd.read_csv(\"FuelConsumptionCo2.csv\")._get_numeric_data()\n",
    "\n",
    "model_year = df[\"MODELYEAR\"].tolist()\n",
    "engine_size = df[\"ENGINESIZE\"].tolist()\n",
    "cylinders = df[\"CYLINDERS\"].tolist()\n",
    "fuel_city = df[\"FUELCONSUMPTION_CITY\"].tolist()\n",
    "fuel_hwy = df[\"FUELCONSUMPTION_HWY\"].tolist()\n",
    "fuel_comb = df[\"FUELCONSUMPTION_COMB\"].tolist()\n",
    "co2_emissions = df[\"CO2EMISSIONS\"].tolist()"
   ]
  },
  {
   "cell_type": "code",
   "execution_count": null,
   "id": "bd4982b7",
   "metadata": {},
   "outputs": [],
   "source": []
  },
  {
   "cell_type": "code",
   "execution_count": null,
   "id": "9a3793dd",
   "metadata": {},
   "outputs": [],
   "source": []
  },
  {
   "cell_type": "code",
   "execution_count": null,
   "id": "19a1c1cf",
   "metadata": {},
   "outputs": [],
   "source": []
  },
  {
   "cell_type": "code",
   "execution_count": null,
   "id": "f4968122",
   "metadata": {},
   "outputs": [],
   "source": []
  },
  {
   "cell_type": "code",
   "execution_count": null,
   "id": "eb16f2fc",
   "metadata": {},
   "outputs": [],
   "source": []
  },
  {
   "cell_type": "markdown",
   "id": "43b83070",
   "metadata": {},
   "source": [
    "### Ejercicio 02:\n",
    "- Elige una lista y toma 50 elementos aleatorios y calcula las estadísticas para ese nuevo conjunto de datos.\n",
    "    - ¿Son similares estos resultados a los obtenidos de la población total?"
   ]
  },
  {
   "cell_type": "code",
   "execution_count": null,
   "id": "d4f15b0d",
   "metadata": {},
   "outputs": [],
   "source": []
  },
  {
   "cell_type": "code",
   "execution_count": null,
   "id": "a87da64b",
   "metadata": {},
   "outputs": [],
   "source": []
  },
  {
   "cell_type": "code",
   "execution_count": null,
   "id": "8da02181",
   "metadata": {},
   "outputs": [],
   "source": []
  },
  {
   "cell_type": "markdown",
   "id": "9e6aec89",
   "metadata": {},
   "source": [
    "### Ejercicio 03:\n",
    "- Repite el ejercicio anterior, esta vez creando 10 conjuntos de 50 elementos aleatorios.\n",
    "    - Calcula las estadísticas para cada conjunto de 50 elementos, guarda estos datos.\n",
    "    - Calcula las estadísticas de los resultados anteriores. (Teorema del limite central)\n",
    "    - ¿Son similares estos datos con los obtenidos de la población total?\n",
    "    - Prueba con todas las listas usando un bucle."
   ]
  },
  {
   "cell_type": "code",
   "execution_count": null,
   "id": "d8da7d8b",
   "metadata": {},
   "outputs": [],
   "source": []
  },
  {
   "cell_type": "code",
   "execution_count": null,
   "id": "abf3e30d",
   "metadata": {},
   "outputs": [],
   "source": []
  },
  {
   "cell_type": "code",
   "execution_count": null,
   "id": "281e60f9",
   "metadata": {},
   "outputs": [],
   "source": []
  },
  {
   "cell_type": "markdown",
   "id": "92312187",
   "metadata": {},
   "source": [
    "### Ejercicio 04:\n",
    "- Estandariza los datos de cada lista usando la siguiente formula:\n",
    "\n",
    "$$\n",
    "    \\frac{x_{i} - mean(x)}{std(x)}\n",
    "$$"
   ]
  },
  {
   "cell_type": "code",
   "execution_count": null,
   "id": "2c20293e",
   "metadata": {},
   "outputs": [],
   "source": []
  },
  {
   "cell_type": "code",
   "execution_count": null,
   "id": "e27c2a4b",
   "metadata": {},
   "outputs": [],
   "source": []
  },
  {
   "cell_type": "code",
   "execution_count": null,
   "id": "08f390b7",
   "metadata": {},
   "outputs": [],
   "source": []
  },
  {
   "cell_type": "markdown",
   "id": "84222de0",
   "metadata": {},
   "source": [
    "### Ejercicio 05:\n",
    "- Usa la siguiente función **`plot_kde()`** para mostrar la gráfica de cada lista.\n",
    "    - Encuentra valores atípicos viendo la gráfica.\n",
    "    - Usa **np.quantile()** y bucles para acotar los datos para cada lista con outliers, guarda estos resultados en nuevas listas.\n",
    "    - Vuelve a graficar los datos sin outliers."
   ]
  },
  {
   "cell_type": "code",
   "execution_count": null,
   "id": "dd7b6568",
   "metadata": {},
   "outputs": [],
   "source": [
    "def plot_kde(datos):\n",
    "    \n",
    "    sns.kdeplot(datos, color = \"blue\")\n",
    "    plt.show()"
   ]
  },
  {
   "cell_type": "code",
   "execution_count": null,
   "id": "2cca4a3c",
   "metadata": {},
   "outputs": [],
   "source": [
    "plot_kde(engine_size)"
   ]
  },
  {
   "cell_type": "code",
   "execution_count": null,
   "id": "122ff141",
   "metadata": {},
   "outputs": [],
   "source": []
  },
  {
   "cell_type": "code",
   "execution_count": null,
   "id": "ad606fbc",
   "metadata": {},
   "outputs": [],
   "source": []
  },
  {
   "cell_type": "code",
   "execution_count": null,
   "id": "b3e1a17a",
   "metadata": {},
   "outputs": [],
   "source": []
  },
  {
   "cell_type": "markdown",
   "id": "18fbbe24",
   "metadata": {},
   "source": [
    "### Ejercicio 06:\n",
    "- Calcula la correlación entre cada lista (usa las listas originales).\n",
    "    - ¿Cuales columnas están mas correlacionadas?\n",
    "    \n",
    "- Llena una matriz con esas correlaciones y usa la función **`heat_map()`** para ver la gráfica de las correlaciones."
   ]
  },
  {
   "cell_type": "code",
   "execution_count": null,
   "id": "ff824254",
   "metadata": {},
   "outputs": [],
   "source": [
    "from scipy.stats import pearsonr # Correlación de Pearson\n",
    "\n",
    "def heat_map(matriz):\n",
    "    \n",
    "    plt.figure(figsize = (15, 10))\n",
    "    \n",
    "    sns.heatmap(matriz, annot = True)\n",
    "    plt.show()"
   ]
  },
  {
   "cell_type": "code",
   "execution_count": null,
   "id": "4f386b8a",
   "metadata": {},
   "outputs": [],
   "source": [
    "lista1 = [random.random() for i in range(1000)]\n",
    "lista2 = [random.randint(1000, 2000) for i in range(1000)]\n",
    "\n",
    "corr = pearsonr(lista1, lista2)[0]\n",
    "\n",
    "print(corr)"
   ]
  },
  {
   "cell_type": "code",
   "execution_count": null,
   "id": "29271f05",
   "metadata": {},
   "outputs": [],
   "source": []
  },
  {
   "cell_type": "code",
   "execution_count": null,
   "id": "ad22553f",
   "metadata": {},
   "outputs": [],
   "source": []
  },
  {
   "cell_type": "code",
   "execution_count": null,
   "id": "35711da1",
   "metadata": {},
   "outputs": [],
   "source": []
  },
  {
   "cell_type": "markdown",
   "id": "2f1e0b66",
   "metadata": {},
   "source": [
    "### Ejercicio 07:\n",
    "- Une todas las listas en una matriz.\n",
    "- Define una función que calcule la distancia entre 2 puntos de **n-dimensiones**.\n",
    "- Calcula la distancia entre el primer punto y todos los demás, guardalo en una lista llamada **`distancias`**.\n",
    "- Usa el código para mostrar los puntos."
   ]
  },
  {
   "cell_type": "code",
   "execution_count": null,
   "id": "74021bc9",
   "metadata": {},
   "outputs": [],
   "source": []
  },
  {
   "cell_type": "code",
   "execution_count": null,
   "id": "6365a59a",
   "metadata": {},
   "outputs": [],
   "source": []
  },
  {
   "cell_type": "code",
   "execution_count": null,
   "id": "0aefb1b9",
   "metadata": {},
   "outputs": [],
   "source": []
  },
  {
   "cell_type": "code",
   "execution_count": null,
   "id": "74a4c140",
   "metadata": {},
   "outputs": [],
   "source": [
    "plt.plot(distancias, marker = \"*\", linestyle = \"\", alpha = 0.5)\n",
    "plt.show()"
   ]
  },
  {
   "cell_type": "code",
   "execution_count": null,
   "id": "8efa5c5d",
   "metadata": {},
   "outputs": [],
   "source": [
    "################################################################################################################################"
   ]
  }
 ],
 "metadata": {
  "kernelspec": {
   "display_name": "Python 3 (ipykernel)",
   "language": "python",
   "name": "python3"
  },
  "language_info": {
   "codemirror_mode": {
    "name": "ipython",
    "version": 3
   },
   "file_extension": ".py",
   "mimetype": "text/x-python",
   "name": "python",
   "nbconvert_exporter": "python",
   "pygments_lexer": "ipython3",
   "version": "3.9.12"
  }
 },
 "nbformat": 4,
 "nbformat_minor": 5
}
