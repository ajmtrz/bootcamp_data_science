{
 "cells": [
  {
   "cell_type": "markdown",
   "metadata": {},
   "source": [
    "## Ejercicios Funciones"
   ]
  },
  {
   "cell_type": "code",
   "execution_count": null,
   "metadata": {},
   "outputs": [],
   "source": [
    "import numpy as np \n",
    "import matplotlib.pyplot as plt\n",
    "\n",
    "import math \n",
    "from sympy import * "
   ]
  },
  {
   "cell_type": "markdown",
   "metadata": {},
   "source": [
    "### Ejercicio 1:\n",
    "- Grafica la función del coseno para el rango de -10 a 10."
   ]
  },
  {
   "cell_type": "code",
   "execution_count": null,
   "metadata": {},
   "outputs": [],
   "source": [
    "x = np.linspace(-10, 10, 100)\n",
    "y = np.cos(x)\n",
    "\n",
    "plt.plot(x, y, color = \"black\")\n",
    "\n",
    "plt.xlim(-10, 10)\n",
    "plt.ylim(-2, 2)\n",
    "plt.grid()\n",
    "plt.show()"
   ]
  },
  {
   "cell_type": "code",
   "execution_count": null,
   "metadata": {},
   "outputs": [],
   "source": [
    "x = np.linspace(-10, 10, 100)\n",
    "y = np.sin(x)\n",
    "\n",
    "plt.plot(x, y, color = \"black\")\n",
    "\n",
    "plt.xlim(-10, 10)\n",
    "plt.ylim(-2, 2)\n",
    "plt.grid()\n",
    "plt.show()"
   ]
  },
  {
   "cell_type": "code",
   "execution_count": null,
   "metadata": {},
   "outputs": [],
   "source": [
    "x = np.linspace(-10, 10, 100)\n",
    "y1 = np.cos(x)\n",
    "y2 = np.sin(x)\n",
    "\n",
    "plt.plot(x, y1, color = \"blue\")\n",
    "plt.plot(x, y2, color = \"red\")\n",
    "\n",
    "plt.xlim(-10, 10)\n",
    "plt.ylim(-2, 2)\n",
    "plt.grid()\n",
    "plt.show()"
   ]
  },
  {
   "cell_type": "markdown",
   "metadata": {},
   "source": [
    "### Ejercicio 2:\n",
    "- Grafica una función simétrica."
   ]
  },
  {
   "cell_type": "code",
   "execution_count": null,
   "metadata": {},
   "outputs": [],
   "source": [
    "x = np.linspace(-10, 10, 100)\n",
    "fx = 1/(1 + x**2)\n",
    "\n",
    "# Curva\n",
    "plt.plot(x, fx)\n",
    "\n",
    "plt.xlim(  -5, 5)\n",
    "plt.ylim(-0.5, 1.5)\n",
    "\n",
    "plt.grid()\n",
    "plt.show()"
   ]
  },
  {
   "cell_type": "code",
   "execution_count": null,
   "metadata": {},
   "outputs": [],
   "source": []
  },
  {
   "cell_type": "code",
   "execution_count": null,
   "metadata": {},
   "outputs": [],
   "source": []
  },
  {
   "cell_type": "markdown",
   "metadata": {},
   "source": [
    "### Ejercicio 3:\n",
    "- Calcula la derivada de la siguiente ecuación: $$f(x) = sin(x^2)+10 $$"
   ]
  },
  {
   "cell_type": "code",
   "execution_count": null,
   "metadata": {},
   "outputs": [],
   "source": [
    "x = Symbol(\"x\")\n",
    "\n",
    "fx = sin(x**2) + 10\n",
    "\n",
    "fx"
   ]
  },
  {
   "cell_type": "code",
   "execution_count": null,
   "metadata": {},
   "outputs": [],
   "source": [
    "Derivative(fx).doit()"
   ]
  },
  {
   "cell_type": "code",
   "execution_count": null,
   "metadata": {},
   "outputs": [],
   "source": []
  },
  {
   "cell_type": "markdown",
   "metadata": {},
   "source": [
    "### Ejercicio 4: \n",
    "Dada la siguiente función: \n",
    "\n",
    "$$x^2+10x+1 = 0$$ \n",
    "\n",
    "- Genera la grafica de la función, encuentra su derivada y muestra la recta tangente de la derivada en el punto x = -7.5"
   ]
  },
  {
   "cell_type": "code",
   "execution_count": null,
   "metadata": {},
   "outputs": [],
   "source": [
    "x = Symbol(\"x\")\n",
    "\n",
    "fx = x**2 + 10*x + 1\n",
    "\n",
    "derivada = Derivative(fx).doit()\n",
    "\n",
    "px = -7.5\n",
    "py = fx.subs(x, px)\n",
    "\n",
    "m = derivada.subs(x, px)\n",
    "\n",
    "recta_tangente = m*x - m*px + py\n",
    "\n",
    "\n",
    "print(f\"Punto: ({px}, {py})\")\n",
    "\n",
    "print(f\"Pendiente: {m}\")\n",
    "\n",
    "print(f\"Ecuacion: y = {recta_tangente}\")\n",
    "\n",
    "# Graficas\n",
    "\n",
    "X = np.linspace(-20, 20, 100)\n",
    "\n",
    "Y = [fx.subs(x, i) for i in X]\n",
    "\n",
    "RECTA_TANGENTE = [recta_tangente.subs(x, i) for i in X]\n",
    "\n",
    "# Curva fx\n",
    "plt.plot(X, Y, color = \"black\")\n",
    "\n",
    "# Recta tangente\n",
    "plt.plot(X, RECTA_TANGENTE, color = \"blue\")\n",
    "\n",
    "# Punto\n",
    "plt.plot(px, py, color = \"red\", marker = \"o\")\n",
    "\n",
    "plt.grid()\n",
    "plt.show()"
   ]
  },
  {
   "cell_type": "code",
   "execution_count": null,
   "metadata": {},
   "outputs": [],
   "source": [
    "def funcion(fx, px):\n",
    "    \n",
    "    X = np.linspace(-100, 100, 100)\n",
    "    \n",
    "    derivada = Derivative(fx).doit()\n",
    "\n",
    "    py = fx.subs(x, px)\n",
    "\n",
    "    m = derivada.subs(x, px)\n",
    "\n",
    "    recta_tangente = m*x - m*px + py\n",
    "    \n",
    "    # Graficas\n",
    "\n",
    "    X = np.linspace(-20, 20, 100)\n",
    "\n",
    "    Y = [fx.subs(x, i) for i in X]\n",
    "\n",
    "    RECTA_TANGENTE = [recta_tangente.subs(x, i) for i in X]\n",
    "\n",
    "    # Curva fx\n",
    "    plt.plot(X, Y, color = \"black\")\n",
    "\n",
    "    # Recta tangente\n",
    "    plt.plot(X, RECTA_TANGENTE, color = \"blue\")\n",
    "\n",
    "    # Punto\n",
    "    plt.plot(px, py, color = \"red\", marker = \"o\")\n",
    "\n",
    "    plt.grid()\n",
    "    plt.show()"
   ]
  },
  {
   "cell_type": "code",
   "execution_count": null,
   "metadata": {},
   "outputs": [],
   "source": [
    "funcion(fx, -7.5)"
   ]
  },
  {
   "cell_type": "code",
   "execution_count": null,
   "metadata": {
    "scrolled": true
   },
   "outputs": [],
   "source": [
    "for i in [i/10 for i in range(100)]:\n",
    "    funcion(fx, i)"
   ]
  },
  {
   "cell_type": "code",
   "execution_count": null,
   "metadata": {},
   "outputs": [],
   "source": [
    "x = Symbol(\"x\")\n",
    "\n",
    "fx = x**3 + 2*x + 5\n",
    "\n",
    "px = np.random.randint(-10, 10)\n",
    "\n",
    "funcion(fx, px)"
   ]
  },
  {
   "cell_type": "code",
   "execution_count": null,
   "metadata": {},
   "outputs": [],
   "source": []
  }
 ],
 "metadata": {
  "kernelspec": {
   "display_name": "Python 3 (ipykernel)",
   "language": "python",
   "name": "python3"
  },
  "language_info": {
   "codemirror_mode": {
    "name": "ipython",
    "version": 3
   },
   "file_extension": ".py",
   "mimetype": "text/x-python",
   "name": "python",
   "nbconvert_exporter": "python",
   "pygments_lexer": "ipython3",
   "version": "3.9.12"
  }
 },
 "nbformat": 4,
 "nbformat_minor": 4
}
