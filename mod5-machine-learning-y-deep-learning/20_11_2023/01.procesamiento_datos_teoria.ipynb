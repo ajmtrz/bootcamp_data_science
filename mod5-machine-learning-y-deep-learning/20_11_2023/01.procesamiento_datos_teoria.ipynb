{
 "cells": [
  {
   "cell_type": "markdown",
   "id": "b30f7f00",
   "metadata": {},
   "source": [
    "## Procesamiento de Datos\n",
    "\n",
    "**La limpieza y preparación de datos es el primer paso en cualquier proyecto de Inteligencia Artificial y Machine Learning.**\n",
    "\n",
    "La limpieza de datos es el proceso de detectar y corregir o eliminar registros corruptos o inexactos de un conjunto de registros, tabla o base de datos y se refiere a la identificación de partes incompletas, incorrectas, inexactas o irrelevantes de los datos, para su posterior sustitución, modificación o eliminación de los datos sucios o poco precisos."
   ]
  },
  {
   "cell_type": "markdown",
   "id": "f9eafaaa",
   "metadata": {},
   "source": [
    "### 1. Valores perdidos (NaN's)\n",
    "\n",
    "Se presentan cuando el valor para al menos un rasgo o un patrón en el conjunto de datos no se encuentra presente. Generalmente se representan con:\n",
    "\n",
    "1. **Valor fuera de rango**: -1 en un campo numérico que solo es positivo.\n",
    "\n",
    "\n",
    "2. **Caracteres especiales**: -, ? o espacio en blanco.\n",
    "\n",
    "\n",
    "3. **Valores perdidos identificados**: NaN's\n",
    "\n",
    "**Causas**: mal funcionamiento de equipos de medición, cambio en el diseño durante la captura de datos, imposibilidad de recolectar los datos, entre otras.\n",
    "\n",
    "### Tratamiento de NaN's\n",
    "\n",
    "- Eliminar los patrones cuyos atributos contienen valores perdidos.\n",
    "\n",
    "\n",
    "- Si el atributo que tiene valores perdidos es numérico se rellenan los valores con el valor promedio del atributo o por la mediana.\n",
    "\n",
    "\n",
    "- Si el atributo que tiene valores perdidos es categórico se rellenan los valores con la moda del atributo."
   ]
  },
  {
   "cell_type": "markdown",
   "id": "529c4a99",
   "metadata": {},
   "source": [
    "### 2. Valores Atípicos (Outliers)\n",
    "\n",
    "Los valores atípicos son datos que presentan una diferencia significativa del resto de elementos en un conjunto de datos o en una clase en particular.\n",
    "\n",
    "**Causas:**\n",
    "- **Malas mediciones al capturar los datos.**\n",
    "\n",
    "\n",
    "- **Mal etiquetado del patrón al asignarle una clase.**\n",
    "\n",
    "\n",
    "- **Características propias del atributo.**\n",
    "\n",
    "### Tratamiento de Outliers\n",
    "\n",
    "- Eliminar patrones atípicos que presentan valores evidentemente imposibles, un ejemplo sería edades negativas.\n",
    "\n",
    "\n",
    "- Normalizar los datos.\n",
    "\n",
    "\n",
    "- Calcular la desviación estándar y seleccionar datos que se alejen un determinado número de desviaciones estándar de la media del atributo que se analiza.\n",
    "\n",
    "\n",
    "- Considerar atípicos los valores inferiores a Q1–1.5·RIC o superiores a Q3+1.5·RIC. (bigotes del boxplot). RIC = Q3 – Q1.\n",
    "\n",
    "\n",
    "- Métodos de clustering que identifican los valores atípicos"
   ]
  },
  {
   "cell_type": "markdown",
   "id": "39e85672",
   "metadata": {},
   "source": [
    "### 3. Normalización de Datos\n",
    "\n",
    "Ajustar los valores medidos en diferentes escalas con respecto a una escala común. Uno de los métodos más sencillos es dividir cada atributo por el máximo valor del conjunto. \n",
    "\n",
    "```python\n",
    "x1 = ( 2,  120)    x1 = (0.11, 0.11)  \n",
    "x2 = ( 8,  533)    x2 = (0.44, 0.48)\n",
    "x3 = ( 1,  987)    x3 = (0.06, 0.88)\n",
    "x4 = (15, 1121)    x4 = (0.83,    1)\n",
    "x5 = (18, 1023)    x5 = (   1, 0.91)               \n",
    "```\n",
    "\n",
    "Al dividir cada rasgo por el valor mayor que toman, 18 y 1121 respectivamente, todos los valores estarán en un rango entre 0 y 1."
   ]
  },
  {
   "cell_type": "markdown",
   "id": "7409383b",
   "metadata": {},
   "source": [
    "### 4. Desbalance de Clases\n",
    "\n",
    "Este fenómeno se presenta cuando **el número total de instancias en una clase (clase mayoritaria) es significativamente mayor que el número de instancias de otra clase (clase minoritaria)**.\n",
    "\n",
    "Este es un problema que se presenta a menudo en situaciones comunes de la vida real. Por ejemplo imaginemos un sistema de detección de intrusos o de fraudes en tarjetas de crédito\n",
    "\n",
    "**Desventajas:**\n",
    "1. **Pobre desempeño de los modelos de predicción.**\n",
    "\n",
    "\n",
    "2. **Proceso de aprendizaje guiado por métricas globales presenta una inclinación hacia la clase mayoritaria.**\n",
    "\n",
    "\n",
    "3. **Instancias de la clase minoritaria pueden ser tratados como ruido.**\n",
    "\n",
    "\n",
    "**Soluciones:**\n",
    "1. **Undersampling**: remover algunos patrones de la clase mayoritaria.\n",
    "\n",
    "\n",
    "2. **Oversampling**: crear patrones sintéticos que se agregan a la clase minoritaria.\n",
    "\n",
    "\n",
    "3. **Híbrido**: combinar undersampling y oversampling."
   ]
  },
  {
   "cell_type": "markdown",
   "id": "6288c423",
   "metadata": {},
   "source": [
    "### 5. Alta Dimensionalidad de los Atributos (Feature Selection)\n",
    "\n",
    "En ocasiones nos encontramos con conjuntos de datos con gran cantidad de atributos (columnas). No necesariamente toda la información representada por los rasgos resulta relevante para hacer predicciones. Para atacar este problema se podría recurrir a:\n",
    "\n",
    "- **Asistencia de un experto en el tema.**\n",
    "\n",
    "\n",
    "- **Métodos automáticos para la selección de características.**\n",
    " \n",
    "En general los métodos de selección de características consisten en realizar una búsqueda a través de diferentes sub-conjuntos de atributos.\n",
    "- **Métodos óptimos**: búsqueda exhaustiva, branch and bound Search.\n",
    "\n",
    "\n",
    "- **Métodos sub-óptimos**: sequential selection, stochastic search techniques (algoritmos genéticos)."
   ]
  },
  {
   "cell_type": "code",
   "execution_count": null,
   "id": "8e986e80",
   "metadata": {},
   "outputs": [],
   "source": [
    "################################################################################################################################"
   ]
  }
 ],
 "metadata": {
  "kernelspec": {
   "display_name": "Python 3 (ipykernel)",
   "language": "python",
   "name": "python3"
  },
  "language_info": {
   "codemirror_mode": {
    "name": "ipython",
    "version": 3
   },
   "file_extension": ".py",
   "mimetype": "text/x-python",
   "name": "python",
   "nbconvert_exporter": "python",
   "pygments_lexer": "ipython3",
   "version": "3.9.7"
  }
 },
 "nbformat": 4,
 "nbformat_minor": 5
}
