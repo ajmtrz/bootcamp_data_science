{
 "cells": [
  {
   "cell_type": "markdown",
   "id": "1371a91d-1977-4339-b441-2b02b61bc2df",
   "metadata": {},
   "source": [
    "## Red Eléctrica de España - Series Temporales\n",
    "\n",
    "- **Extracción de Datos**: Usando el API de Red Eléctrica de España ([REE](https://www.ree.es/es/apidatos)) extraer los datos de la demanda nacional de energía diaria.\n",
    "    - Definir el endpoint para hacer la petición.\n",
    "    - Definir una función que extraiga los datos desde la fecha **2012-01-01T00:00** hasta el día de **2023-12-31T23:59** con periodicidad diaria y generar un _**DataFrame**_.\n",
    "    - Las columnas del _**DataFrame**_ son: **Fecha** y **Energia Consumida Mw/h**\n",
    "    - Guardar en un **.csv** el _**DataFrame**_ generado.\n",
    "\n",
    "- **Exploratory Data Analysis**: Usando **plotly** genera las siguientes gráficas.\n",
    "    - Histograma.\n",
    "    - Boxplot.\n",
    "    - Lineplot.\n",
    "    \n",
    "- **Manipulación de Datos**:\n",
    "    - Agrupar los datos de forma semanal y calcula la media para la columna **Energia Consumida Mw/h** y generar un nuevo _**DataFrame**_ con estos datos.\n",
    "    - Usando el _**DataFrame**_ con datos semanales genera los conjuntos de **Train** y **Test**.\n",
    "    - El conjunto de **Test** son los elementos del año **2023**.\n",
    "    - Repite las gráficas para ambos conjuntos.\n",
    "    - Manipula ambos conjuntos de manera que puedan ser usados en una red neuronal recurrente.\n",
    "    - Dimensiones para el conjunto de **X_train** e **y_train**: **(X, 10, 1), (X, 1)**.\n",
    "    - Dimensiones para el conjunto de  **X_test** e **y_test**: **(X, 10, 1), (X, 1)**.\n",
    "\n",
    "- **Modelo de Series Temporales**:\n",
    "    - Define una **Recurrent Neural Network** (RNN) y entrena el modelo.\n",
    "    - Métrica: **Mean Squared Error**."
   ]
  },
  {
   "cell_type": "code",
   "execution_count": null,
   "id": "5f14dcf1-acf1-4862-bea5-a8a55cac8c12",
   "metadata": {
    "tags": []
   },
   "outputs": [],
   "source": [
    "import numpy as np\n",
    "import pandas as pd\n",
    "import matplotlib.pyplot as plt\n",
    "import seaborn as sns\n",
    "\n",
    "import requests\n",
    "from datetime import datetime"
   ]
  },
  {
   "cell_type": "code",
   "execution_count": 1,
   "id": "cfcc9ddd-e848-4c27-b2cc-768d16d30afd",
   "metadata": {
    "tags": []
   },
   "outputs": [
    {
     "data": {
      "text/plain": [
       "4380"
      ]
     },
     "execution_count": 1,
     "metadata": {},
     "output_type": "execute_result"
    }
   ],
   "source": [
    "365*12"
   ]
  },
  {
   "cell_type": "code",
   "execution_count": 2,
   "id": "b9b71df6-e485-48a3-9d00-875006458101",
   "metadata": {},
   "outputs": [
    {
     "data": {
      "text/plain": [
       "624"
      ]
     },
     "execution_count": 2,
     "metadata": {},
     "output_type": "execute_result"
    }
   ],
   "source": [
    "52*12"
   ]
  },
  {
   "cell_type": "code",
   "execution_count": 3,
   "id": "62f5a38b-f8e8-4dbf-9929-73a2b9c399d2",
   "metadata": {},
   "outputs": [
    {
     "data": {
      "text/plain": [
       "144"
      ]
     },
     "execution_count": 3,
     "metadata": {},
     "output_type": "execute_result"
    }
   ],
   "source": [
    "12*12"
   ]
  },
  {
   "cell_type": "code",
   "execution_count": null,
   "id": "74a238aa-5124-47bd-bb4a-0261469f8260",
   "metadata": {},
   "outputs": [],
   "source": []
  },
  {
   "cell_type": "code",
   "execution_count": null,
   "id": "4edc8e18-1923-483b-ae8d-ae7e8aeb38ab",
   "metadata": {},
   "outputs": [],
   "source": []
  },
  {
   "cell_type": "code",
   "execution_count": null,
   "id": "8e62c646-fb09-4062-9142-5d18171ff655",
   "metadata": {},
   "outputs": [],
   "source": []
  },
  {
   "cell_type": "code",
   "execution_count": null,
   "id": "4a5237e0-7e0d-417d-9968-166dc8c40db3",
   "metadata": {},
   "outputs": [],
   "source": []
  },
  {
   "cell_type": "code",
   "execution_count": null,
   "id": "73193763-9bb7-4d9d-bc9e-9983acb880da",
   "metadata": {},
   "outputs": [],
   "source": []
  },
  {
   "cell_type": "code",
   "execution_count": null,
   "id": "c0c29200-fda5-4dcb-b731-81266adbb6ed",
   "metadata": {},
   "outputs": [],
   "source": []
  },
  {
   "cell_type": "code",
   "execution_count": null,
   "id": "d5c0be78-370d-4824-97fb-b6718fe41dad",
   "metadata": {},
   "outputs": [],
   "source": []
  }
 ],
 "metadata": {
  "kernelspec": {
   "display_name": "Python 3 (ipykernel)",
   "language": "python",
   "name": "python3"
  },
  "language_info": {
   "codemirror_mode": {
    "name": "ipython",
    "version": 3
   },
   "file_extension": ".py",
   "mimetype": "text/x-python",
   "name": "python",
   "nbconvert_exporter": "python",
   "pygments_lexer": "ipython3",
   "version": "3.11.5"
  }
 },
 "nbformat": 4,
 "nbformat_minor": 5
}
