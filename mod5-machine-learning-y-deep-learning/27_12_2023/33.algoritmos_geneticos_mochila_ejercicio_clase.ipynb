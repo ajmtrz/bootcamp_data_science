{
 "cells": [
  {
   "cell_type": "markdown",
   "id": "f4629a61",
   "metadata": {},
   "source": [
    "## Algoritmos Genéticos: Problema de la Mochila\n",
    "\n",
    "Siguiendo los pasos de la teoria de Algoritmos Genéticos, has el algoritmo del problema de la mochila.\n",
    "\n",
    "- Población Inicial: 50\n",
    "- Número de Genes: 20\n",
    "- Probabilidad de Cruce: 0.9\n",
    "- Probabilidad de Mutación: 0.1\n",
    "- Número de generaciones: 5000"
   ]
  },
  {
   "cell_type": "code",
   "execution_count": 1,
   "id": "ffd12930",
   "metadata": {
    "tags": []
   },
   "outputs": [],
   "source": [
    "import numpy as np\n",
    "import pandas as pd\n",
    "import matplotlib.pyplot as plt\n",
    "import seaborn as sns\n",
    "\n",
    "import random"
   ]
  },
  {
   "cell_type": "code",
   "execution_count": 4,
   "id": "83adba01",
   "metadata": {
    "tags": []
   },
   "outputs": [],
   "source": [
    "peso_max = 50\n",
    "\n",
    "n_poblacion = 50\n",
    "n_genes = 20\n",
    "p_cruce = 0.9\n",
    "p_mutacion = 0.1"
   ]
  },
  {
   "cell_type": "code",
   "execution_count": 2,
   "id": "c8c21d2c",
   "metadata": {
    "tags": []
   },
   "outputs": [
    {
     "name": "stdout",
     "output_type": "stream",
     "text": [
      "116 3 objeto_0\n",
      "159 3 objeto_1\n",
      "132 3 objeto_2\n",
      "194 10 objeto_3\n",
      "148 4 objeto_4\n",
      "161 6 objeto_5\n",
      "154 4 objeto_6\n",
      "157 3 objeto_7\n",
      "136 2 objeto_8\n",
      "102 1 objeto_9\n",
      "159 9 objeto_10\n",
      "191 1 objeto_11\n",
      "126 9 objeto_12\n",
      "182 9 objeto_13\n",
      "182 8 objeto_14\n",
      "106 9 objeto_15\n",
      "181 6 objeto_16\n",
      "136 4 objeto_17\n",
      "134 4 objeto_18\n",
      "180 4 objeto_19\n"
     ]
    }
   ],
   "source": [
    "valores = [116, 159, 132, 194, 148, 161, 154, 157, 136, 102, 159, 191, 126, 182, 182, 106, 181, 136, 134, 180]\n",
    "pesos = [3, 3, 3, 10, 4, 6, 4, 3, 2, 1, 9, 1, 9, 9, 8, 9, 6, 4, 4, 4]\n",
    "\n",
    "objetos = [f\"objeto_{i}\" for i in range(20)]\n",
    "\n",
    "# print(\"Valores:\", valores)\n",
    "# print(\"Pesos:\", pesos)\n",
    "# print(f\"Objetos:\", objetos)\n",
    "\n",
    "for v, p, o in zip(valores, pesos, objetos):\n",
    "    print(v, p, o)"
   ]
  },
  {
   "cell_type": "markdown",
   "id": "305f9d2f-ddca-4efb-889a-ec23ad2a1d3e",
   "metadata": {},
   "source": [
    "#### ¿Cual es la mejor combinación para tener el mejor valor con un peso que no supere los 50kg?"
   ]
  },
  {
   "cell_type": "code",
   "execution_count": 15,
   "id": "f11860de",
   "metadata": {
    "tags": []
   },
   "outputs": [
    {
     "name": "stdout",
     "output_type": "stream",
     "text": [
      "[1, 1, 0, 0, 0, 0, 0, 0, 1, 0, 1, 0, 1, 0, 0, 1, 0, 0, 0, 1]\n"
     ]
    }
   ],
   "source": [
    "individuo = [random.randint(0, 1) for i in range(n_genes)]\n",
    "\n",
    "print(individuo)"
   ]
  },
  {
   "cell_type": "code",
   "execution_count": 16,
   "id": "52ad900a",
   "metadata": {
    "tags": []
   },
   "outputs": [
    {
     "data": {
      "text/plain": [
       "39"
      ]
     },
     "execution_count": 16,
     "metadata": {},
     "output_type": "execute_result"
    }
   ],
   "source": [
    "# Calcular peso\n",
    "np.dot(individuo, pesos)"
   ]
  },
  {
   "cell_type": "code",
   "execution_count": 17,
   "id": "e1534ad7",
   "metadata": {
    "tags": []
   },
   "outputs": [
    {
     "data": {
      "text/plain": [
       "982"
      ]
     },
     "execution_count": 17,
     "metadata": {},
     "output_type": "execute_result"
    }
   ],
   "source": [
    "# Calcular valor\n",
    "np.dot(individuo, valores)"
   ]
  },
  {
   "cell_type": "code",
   "execution_count": 18,
   "id": "36c15cb6",
   "metadata": {
    "tags": []
   },
   "outputs": [
    {
     "data": {
      "text/plain": [
       "['objeto_0',\n",
       " 'objeto_1',\n",
       " 'objeto_8',\n",
       " 'objeto_10',\n",
       " 'objeto_12',\n",
       " 'objeto_15',\n",
       " 'objeto_19']"
      ]
     },
     "execution_count": 18,
     "metadata": {},
     "output_type": "execute_result"
    }
   ],
   "source": [
    "# Calcular objetos\n",
    "[x for x, i in zip(objetos, individuo) if i == 1]"
   ]
  },
  {
   "cell_type": "code",
   "execution_count": 19,
   "id": "02237fad",
   "metadata": {
    "tags": []
   },
   "outputs": [
    {
     "data": {
      "text/plain": [
       "[1, 1, 0, 0, 0, 0, 0, 0, 1, 0, 1, 0, 1, 0, 0, 1, 0, 0, 0, 1]"
      ]
     },
     "execution_count": 19,
     "metadata": {},
     "output_type": "execute_result"
    }
   ],
   "source": [
    "individuo"
   ]
  },
  {
   "cell_type": "markdown",
   "id": "cecf7e8c-9fca-4113-a60d-ce0b007541da",
   "metadata": {},
   "source": [
    "- Estacional - Crowding Deterministico - 1 Solo hijo"
   ]
  },
  {
   "cell_type": "markdown",
   "id": "737e4550-05c9-4718-8bcb-604ba742bf1e",
   "metadata": {
    "tags": []
   },
   "source": [
    "### Definir Población"
   ]
  },
  {
   "cell_type": "code",
   "execution_count": 25,
   "id": "693a42e0-0b7d-4411-9554-1cfaa5578c6f",
   "metadata": {
    "tags": []
   },
   "outputs": [],
   "source": [
    "def definir_poblacion():\n",
    "\n",
    "    poblacion = list()\n",
    "\n",
    "    while len(poblacion) < 50:\n",
    "\n",
    "        individuo = [random.randint(0, 1) for i in range(n_genes)]\n",
    "        \n",
    "        peso_individuo = np.dot(individuo, pesos)\n",
    "\n",
    "        if peso_individuo <= peso_max:\n",
    "\n",
    "            poblacion.append(individuo)\n",
    "\n",
    "    return poblacion"
   ]
  },
  {
   "cell_type": "code",
   "execution_count": 26,
   "id": "228ffcfa-3826-402b-898f-dcfebeab23ff",
   "metadata": {
    "collapsed": true,
    "jupyter": {
     "outputs_hidden": true
    },
    "tags": []
   },
   "outputs": [
    {
     "data": {
      "text/plain": [
       "[[0, 0, 0, 0, 0, 1, 1, 1, 0, 0, 0, 0, 1, 0, 1, 0, 0, 0, 1, 1],\n",
       " [0, 0, 1, 0, 0, 0, 1, 1, 0, 1, 1, 0, 0, 1, 0, 0, 0, 0, 1, 1],\n",
       " [0, 1, 0, 1, 0, 0, 0, 1, 0, 0, 1, 1, 1, 0, 0, 1, 0, 1, 0, 0],\n",
       " [1, 1, 0, 1, 1, 0, 1, 0, 1, 1, 0, 1, 0, 0, 0, 1, 0, 0, 0, 0],\n",
       " [1, 1, 0, 0, 0, 1, 0, 1, 0, 0, 0, 1, 0, 1, 0, 0, 0, 1, 1, 1],\n",
       " [0, 0, 0, 0, 0, 0, 0, 0, 1, 1, 0, 0, 1, 1, 1, 0, 1, 1, 1, 0],\n",
       " [1, 1, 1, 0, 1, 0, 0, 0, 1, 0, 0, 0, 0, 0, 1, 0, 0, 1, 1, 0],\n",
       " [0, 0, 0, 0, 1, 0, 0, 1, 0, 0, 1, 0, 0, 1, 1, 0, 0, 1, 1, 0],\n",
       " [0, 1, 1, 1, 1, 0, 1, 1, 1, 0, 0, 0, 0, 0, 0, 0, 0, 1, 1, 1],\n",
       " [0, 0, 1, 0, 1, 0, 0, 1, 1, 0, 1, 0, 0, 1, 0, 0, 1, 0, 1, 1],\n",
       " [1, 0, 1, 0, 1, 1, 1, 0, 0, 0, 1, 1, 0, 1, 0, 0, 0, 1, 0, 1],\n",
       " [1, 1, 1, 0, 0, 1, 0, 0, 1, 1, 1, 0, 0, 1, 0, 0, 0, 0, 0, 0],\n",
       " [0, 0, 0, 0, 0, 0, 1, 0, 0, 0, 0, 1, 1, 0, 1, 0, 1, 0, 1, 1],\n",
       " [1, 1, 0, 0, 0, 1, 1, 0, 0, 0, 0, 0, 0, 1, 0, 0, 1, 1, 0, 0],\n",
       " [0, 1, 1, 0, 1, 1, 0, 0, 1, 0, 1, 1, 0, 0, 0, 0, 1, 0, 1, 0],\n",
       " [1, 0, 0, 1, 1, 1, 0, 0, 0, 0, 1, 1, 0, 0, 0, 0, 0, 1, 1, 1],\n",
       " [1, 1, 1, 0, 1, 0, 0, 1, 0, 1, 0, 1, 0, 1, 1, 0, 1, 1, 1, 0],\n",
       " [0, 0, 1, 0, 0, 0, 1, 1, 0, 0, 1, 0, 0, 1, 0, 0, 1, 1, 1, 0],\n",
       " [0, 0, 0, 0, 1, 1, 0, 1, 1, 0, 1, 1, 0, 0, 0, 1, 0, 1, 1, 1],\n",
       " [1, 1, 0, 1, 0, 0, 1, 0, 1, 0, 0, 1, 0, 1, 1, 0, 1, 0, 0, 1],\n",
       " [1, 0, 1, 1, 1, 1, 1, 1, 0, 1, 0, 1, 0, 0, 0, 1, 0, 0, 0, 0],\n",
       " [0, 1, 0, 1, 0, 0, 0, 0, 0, 1, 0, 1, 1, 0, 1, 0, 1, 0, 0, 0],\n",
       " [0, 1, 1, 1, 0, 0, 0, 0, 1, 1, 0, 0, 1, 1, 0, 0, 1, 1, 0, 0],\n",
       " [0, 1, 0, 0, 1, 0, 1, 1, 1, 0, 0, 0, 0, 0, 1, 0, 0, 0, 1, 1],\n",
       " [0, 1, 0, 0, 0, 0, 0, 1, 1, 1, 0, 0, 1, 1, 0, 0, 0, 0, 0, 0],\n",
       " [1, 0, 0, 0, 1, 0, 1, 0, 1, 0, 1, 0, 0, 0, 1, 1, 0, 0, 0, 0],\n",
       " [1, 0, 0, 0, 1, 1, 0, 1, 1, 0, 0, 1, 1, 0, 1, 0, 0, 1, 0, 0],\n",
       " [1, 1, 0, 1, 1, 0, 1, 0, 0, 0, 1, 0, 0, 0, 1, 0, 0, 0, 1, 0],\n",
       " [1, 1, 0, 0, 1, 0, 0, 0, 0, 0, 0, 1, 0, 1, 1, 0, 0, 0, 1, 1],\n",
       " [1, 0, 0, 0, 1, 0, 0, 0, 1, 1, 0, 1, 0, 0, 1, 0, 0, 1, 0, 0],\n",
       " [0, 1, 1, 1, 0, 1, 1, 1, 0, 1, 0, 0, 1, 0, 0, 0, 1, 0, 1, 0],\n",
       " [1, 1, 1, 1, 0, 1, 0, 0, 0, 1, 0, 0, 0, 1, 1, 0, 0, 1, 0, 0],\n",
       " [0, 1, 1, 0, 1, 1, 0, 0, 1, 0, 0, 0, 0, 1, 1, 0, 0, 0, 0, 1],\n",
       " [1, 0, 0, 0, 1, 0, 1, 0, 0, 0, 0, 1, 0, 0, 0, 0, 0, 1, 0, 0],\n",
       " [0, 0, 1, 0, 1, 0, 0, 0, 1, 1, 0, 1, 0, 1, 0, 1, 0, 0, 1, 0],\n",
       " [1, 0, 0, 0, 1, 0, 0, 1, 1, 1, 0, 0, 1, 1, 0, 1, 0, 0, 0, 0],\n",
       " [1, 0, 1, 0, 0, 1, 0, 1, 1, 1, 0, 0, 0, 0, 1, 1, 1, 1, 0, 1],\n",
       " [1, 0, 1, 1, 1, 0, 0, 1, 0, 1, 0, 1, 0, 0, 1, 1, 0, 0, 0, 1],\n",
       " [0, 0, 1, 1, 0, 1, 0, 1, 0, 1, 0, 1, 0, 1, 1, 0, 0, 0, 1, 1],\n",
       " [1, 0, 0, 0, 0, 0, 1, 0, 1, 0, 0, 0, 1, 0, 0, 0, 0, 1, 1, 1],\n",
       " [1, 1, 0, 0, 0, 0, 1, 1, 0, 1, 0, 0, 0, 0, 0, 0, 1, 0, 0, 1],\n",
       " [0, 1, 0, 1, 0, 1, 0, 0, 1, 1, 0, 1, 0, 0, 0, 0, 1, 0, 1, 1],\n",
       " [0, 1, 1, 1, 1, 1, 0, 0, 1, 0, 1, 0, 0, 0, 0, 1, 0, 1, 0, 0],\n",
       " [1, 0, 1, 0, 0, 0, 1, 0, 0, 0, 1, 0, 1, 0, 0, 1, 0, 1, 0, 0],\n",
       " [0, 1, 0, 1, 0, 0, 0, 0, 0, 0, 0, 0, 1, 1, 1, 0, 0, 1, 1, 0],\n",
       " [0, 1, 1, 0, 1, 0, 1, 0, 1, 1, 1, 0, 0, 0, 0, 0, 0, 0, 1, 1],\n",
       " [0, 0, 1, 0, 0, 0, 1, 0, 1, 0, 0, 1, 1, 0, 0, 0, 0, 0, 0, 1],\n",
       " [1, 0, 0, 0, 0, 0, 0, 0, 1, 0, 0, 0, 1, 1, 0, 1, 1, 0, 0, 0],\n",
       " [1, 1, 0, 0, 1, 1, 0, 0, 1, 0, 1, 1, 0, 0, 0, 1, 0, 0, 0, 1],\n",
       " [0, 1, 0, 0, 0, 1, 1, 0, 1, 0, 0, 1, 1, 0, 0, 0, 0, 1, 0, 0]]"
      ]
     },
     "execution_count": 26,
     "metadata": {},
     "output_type": "execute_result"
    }
   ],
   "source": [
    "poblacion = definir_poblacion()\n",
    "\n",
    "poblacion"
   ]
  },
  {
   "cell_type": "code",
   "execution_count": 27,
   "id": "25e5d345-13fd-4ceb-bf24-9ddf1c4e176e",
   "metadata": {
    "collapsed": true,
    "jupyter": {
     "outputs_hidden": true
    },
    "tags": []
   },
   "outputs": [
    {
     "name": "stdout",
     "output_type": "stream",
     "text": [
      "Peso: 38\n",
      "Valor: 1094\n",
      "****************************************************************************************************\n",
      "Peso: 37\n",
      "Valor: 1200\n",
      "****************************************************************************************************\n",
      "Peso: 48\n",
      "Valor: 1228\n",
      "****************************************************************************************************\n",
      "Peso: 37\n",
      "Valor: 1306\n",
      "****************************************************************************************************\n",
      "Peso: 37\n",
      "Valor: 1416\n",
      "****************************************************************************************************\n",
      "Peso: 43\n",
      "Valor: 1179\n",
      "****************************************************************************************************\n",
      "Peso: 31\n",
      "Valor: 1143\n",
      "****************************************************************************************************\n",
      "Peso: 41\n",
      "Valor: 1098\n",
      "****************************************************************************************************\n",
      "Peso: 41\n",
      "Valor: 1530\n",
      "****************************************************************************************************\n",
      "Peso: 44\n",
      "Valor: 1409\n",
      "****************************************************************************************************\n",
      "Peso: 47\n",
      "Valor: 1559\n",
      "****************************************************************************************************\n",
      "Peso: 36\n",
      "Valor: 1147\n",
      "****************************************************************************************************\n",
      "Peso: 36\n",
      "Valor: 1148\n",
      "****************************************************************************************************\n",
      "Peso: 35\n",
      "Valor: 1089\n",
      "****************************************************************************************************\n",
      "Peso: 38\n",
      "Valor: 1401\n",
      "****************************************************************************************************\n",
      "Peso: 45\n",
      "Valor: 1419\n",
      "****************************************************************************************************\n",
      "Peso: 49\n",
      "Valor: 1820\n",
      "****************************************************************************************************\n",
      "Peso: 42\n",
      "Valor: 1235\n",
      "****************************************************************************************************\n",
      "Peso: 46\n",
      "Valor: 1508\n",
      "****************************************************************************************************\n",
      "Peso: 50\n",
      "Valor: 1675\n",
      "****************************************************************************************************\n",
      "Peso: 44\n",
      "Valor: 1461\n",
      "****************************************************************************************************\n",
      "Peso: 38\n",
      "Valor: 1135\n",
      "****************************************************************************************************\n",
      "Peso: 47\n",
      "Valor: 1348\n",
      "****************************************************************************************************\n",
      "Peso: 32\n",
      "Valor: 1250\n",
      "****************************************************************************************************\n",
      "Peso: 27\n",
      "Valor: 862\n",
      "****************************************************************************************************\n",
      "Peso: 39\n",
      "Valor: 1001\n",
      "****************************************************************************************************\n",
      "Peso: 40\n",
      "Valor: 1353\n",
      "****************************************************************************************************\n",
      "Peso: 45\n",
      "Valor: 1246\n",
      "****************************************************************************************************\n",
      "Peso: 36\n",
      "Valor: 1292\n",
      "****************************************************************************************************\n",
      "Peso: 23\n",
      "Valor: 1011\n",
      "****************************************************************************************************\n",
      "Peso: 49\n",
      "Valor: 1500\n",
      "****************************************************************************************************\n",
      "Peso: 47\n",
      "Valor: 1364\n",
      "****************************************************************************************************\n",
      "Peso: 39\n",
      "Valor: 1280\n",
      "****************************************************************************************************\n",
      "Peso: 16\n",
      "Valor: 745\n",
      "****************************************************************************************************\n",
      "Peso: 33\n",
      "Valor: 1131\n",
      "****************************************************************************************************\n",
      "Peso: 40\n",
      "Valor: 1073\n",
      "****************************************************************************************************\n",
      "Peso: 49\n",
      "Valor: 1589\n",
      "****************************************************************************************************\n",
      "Peso: 46\n",
      "Valor: 1508\n",
      "****************************************************************************************************\n",
      "Peso: 49\n",
      "Valor: 1615\n",
      "****************************************************************************************************\n",
      "Peso: 30\n",
      "Valor: 982\n",
      "****************************************************************************************************\n",
      "Peso: 24\n",
      "Valor: 1049\n",
      "****************************************************************************************************\n",
      "Peso: 37\n",
      "Valor: 1438\n",
      "****************************************************************************************************\n",
      "Peso: 50\n",
      "Valor: 1331\n",
      "****************************************************************************************************\n",
      "Peso: 41\n",
      "Valor: 929\n",
      "****************************************************************************************************\n",
      "Peso: 47\n",
      "Valor: 1113\n",
      "****************************************************************************************************\n",
      "Peso: 34\n",
      "Valor: 1304\n",
      "****************************************************************************************************\n",
      "Peso: 23\n",
      "Valor: 919\n",
      "****************************************************************************************************\n",
      "Peso: 38\n",
      "Valor: 847\n",
      "****************************************************************************************************\n",
      "Peso: 41\n",
      "Valor: 1356\n",
      "****************************************************************************************************\n",
      "Peso: 29\n",
      "Valor: 1063\n",
      "****************************************************************************************************\n"
     ]
    }
   ],
   "source": [
    "for ind in poblacion:\n",
    "    print(f\"Peso: {np.dot(ind, pesos)}\")\n",
    "    print(f\"Valor: {np.dot(ind, valores)}\")\n",
    "    print(\"*\"*100)"
   ]
  },
  {
   "cell_type": "markdown",
   "id": "dbc2098c-3cef-4486-9aae-767479fd97b2",
   "metadata": {},
   "source": [
    "### Selección por Torneo"
   ]
  },
  {
   "cell_type": "code",
   "execution_count": 35,
   "id": "e25fcf49-f460-4fdd-8a3b-9a45344e527d",
   "metadata": {
    "tags": []
   },
   "outputs": [
    {
     "data": {
      "text/plain": [
       "[[1, 0, 0, 0, 1, 0, 1, 0, 0, 0, 0, 1, 0, 0, 0, 0, 0, 1, 0, 0],\n",
       " [1, 0, 1, 0, 0, 0, 1, 0, 0, 0, 1, 0, 1, 0, 0, 1, 0, 1, 0, 0],\n",
       " [1, 1, 1, 0, 1, 0, 0, 1, 0, 1, 0, 1, 0, 1, 1, 0, 1, 1, 1, 0],\n",
       " [1, 0, 0, 0, 1, 1, 0, 1, 1, 0, 0, 1, 1, 0, 1, 0, 0, 1, 0, 0],\n",
       " [0, 1, 0, 0, 0, 0, 0, 1, 1, 1, 0, 0, 1, 1, 0, 0, 0, 0, 0, 0]]"
      ]
     },
     "execution_count": 35,
     "metadata": {},
     "output_type": "execute_result"
    }
   ],
   "source": [
    "k = 5\n",
    "\n",
    "torneo = random.sample(population = poblacion, k = k)\n",
    "\n",
    "torneo"
   ]
  },
  {
   "cell_type": "code",
   "execution_count": 36,
   "id": "288707a5-ddcf-4c75-b119-2c6d55a60fe5",
   "metadata": {
    "tags": []
   },
   "outputs": [
    {
     "data": {
      "text/plain": [
       "2"
      ]
     },
     "execution_count": 36,
     "metadata": {},
     "output_type": "execute_result"
    }
   ],
   "source": [
    "indice = np.argmax([np.dot(ind, valores) for ind in torneo])\n",
    "\n",
    "indice"
   ]
  },
  {
   "cell_type": "code",
   "execution_count": 37,
   "id": "b81248a0-ac3f-43f1-9eef-979bb6e12d91",
   "metadata": {
    "tags": []
   },
   "outputs": [
    {
     "data": {
      "text/plain": [
       "[1, 1, 1, 0, 1, 0, 0, 1, 0, 1, 0, 1, 0, 1, 1, 0, 1, 1, 1, 0]"
      ]
     },
     "execution_count": 37,
     "metadata": {},
     "output_type": "execute_result"
    }
   ],
   "source": [
    "torneo[indice]"
   ]
  },
  {
   "cell_type": "code",
   "execution_count": 38,
   "id": "61c65c65-f4cf-4238-b728-00b97ca4048c",
   "metadata": {
    "tags": []
   },
   "outputs": [],
   "source": [
    "def seleccion_torneo(poblacion, k = 5):\n",
    "    \n",
    "    torneo = random.sample(population = poblacion, k = k)\n",
    "    \n",
    "    indice = np.argmax([np.dot(ind, valores) for ind in torneo])\n",
    "    \n",
    "    return torneo[indice]"
   ]
  },
  {
   "cell_type": "code",
   "execution_count": 39,
   "id": "5e0fc2ec-fa33-448a-b985-ce2f9e530353",
   "metadata": {
    "tags": []
   },
   "outputs": [
    {
     "name": "stdout",
     "output_type": "stream",
     "text": [
      "[0, 1, 1, 1, 1, 0, 1, 1, 1, 0, 0, 0, 0, 0, 0, 0, 0, 1, 1, 1]\n",
      "[1, 0, 0, 1, 1, 1, 0, 0, 0, 0, 1, 1, 0, 0, 0, 0, 0, 1, 1, 1]\n"
     ]
    }
   ],
   "source": [
    "padre1 = seleccion_torneo(poblacion = poblacion)\n",
    "padre2 = seleccion_torneo(poblacion = poblacion)\n",
    "\n",
    "print(padre1)\n",
    "print(padre2)"
   ]
  },
  {
   "cell_type": "markdown",
   "id": "4a73abd9-869f-4c8c-81b7-13bb0b20762f",
   "metadata": {},
   "source": [
    "### Selección Muestreo Universal"
   ]
  },
  {
   "cell_type": "code",
   "execution_count": 43,
   "id": "c23c7c60-865d-46e8-b49a-3e7c4030e709",
   "metadata": {
    "tags": []
   },
   "outputs": [],
   "source": [
    "valores_poblacion = [np.dot(ind, valores) for ind in poblacion]\n",
    "poblacion = sorted(poblacion, key = lambda x : valores_poblacion)"
   ]
  },
  {
   "cell_type": "code",
   "execution_count": 58,
   "id": "52aa28c3-49af-4705-b20d-8dc68fc138c8",
   "metadata": {
    "collapsed": true,
    "jupyter": {
     "outputs_hidden": true
    },
    "tags": []
   },
   "outputs": [
    {
     "data": {
      "text/plain": [
       "[[1, 1, 1, 0, 1, 0, 0, 1, 0, 1, 0, 1, 0, 1, 1, 0, 1, 1, 1, 0],\n",
       " [1, 1, 0, 1, 0, 0, 1, 0, 1, 0, 0, 1, 0, 1, 1, 0, 1, 0, 0, 1],\n",
       " [0, 0, 1, 1, 0, 1, 0, 1, 0, 1, 0, 1, 0, 1, 1, 0, 0, 0, 1, 1],\n",
       " [1, 0, 1, 0, 0, 1, 0, 1, 1, 1, 0, 0, 0, 0, 1, 1, 1, 1, 0, 1],\n",
       " [1, 0, 1, 0, 1, 1, 1, 0, 0, 0, 1, 1, 0, 1, 0, 0, 0, 1, 0, 1],\n",
       " [0, 1, 1, 1, 1, 0, 1, 1, 1, 0, 0, 0, 0, 0, 0, 0, 0, 1, 1, 1],\n",
       " [0, 0, 0, 0, 1, 1, 0, 1, 1, 0, 1, 1, 0, 0, 0, 1, 0, 1, 1, 1],\n",
       " [1, 0, 1, 1, 1, 0, 0, 1, 0, 1, 0, 1, 0, 0, 1, 1, 0, 0, 0, 1],\n",
       " [0, 1, 1, 1, 0, 1, 1, 1, 0, 1, 0, 0, 1, 0, 0, 0, 1, 0, 1, 0],\n",
       " [1, 0, 1, 1, 1, 1, 1, 1, 0, 1, 0, 1, 0, 0, 0, 1, 0, 0, 0, 0],\n",
       " [0, 1, 0, 1, 0, 1, 0, 0, 1, 1, 0, 1, 0, 0, 0, 0, 1, 0, 1, 1],\n",
       " [1, 0, 0, 1, 1, 1, 0, 0, 0, 0, 1, 1, 0, 0, 0, 0, 0, 1, 1, 1],\n",
       " [1, 1, 0, 0, 0, 1, 0, 1, 0, 0, 0, 1, 0, 1, 0, 0, 0, 1, 1, 1],\n",
       " [0, 0, 1, 0, 1, 0, 0, 1, 1, 0, 1, 0, 0, 1, 0, 0, 1, 0, 1, 1],\n",
       " [0, 1, 1, 0, 1, 1, 0, 0, 1, 0, 1, 1, 0, 0, 0, 0, 1, 0, 1, 0],\n",
       " [1, 1, 1, 1, 0, 1, 0, 0, 0, 1, 0, 0, 0, 1, 1, 0, 0, 1, 0, 0],\n",
       " [1, 1, 0, 0, 1, 1, 0, 0, 1, 0, 1, 1, 0, 0, 0, 1, 0, 0, 0, 1],\n",
       " [1, 0, 0, 0, 1, 1, 0, 1, 1, 0, 0, 1, 1, 0, 1, 0, 0, 1, 0, 0],\n",
       " [0, 1, 1, 1, 0, 0, 0, 0, 1, 1, 0, 0, 1, 1, 0, 0, 1, 1, 0, 0],\n",
       " [0, 1, 1, 1, 1, 1, 0, 0, 1, 0, 1, 0, 0, 0, 0, 1, 0, 1, 0, 0],\n",
       " [1, 1, 0, 1, 1, 0, 1, 0, 1, 1, 0, 1, 0, 0, 0, 1, 0, 0, 0, 0],\n",
       " [0, 1, 1, 0, 1, 0, 1, 0, 1, 1, 1, 0, 0, 0, 0, 0, 0, 0, 1, 1],\n",
       " [1, 1, 0, 0, 1, 0, 0, 0, 0, 0, 0, 1, 0, 1, 1, 0, 0, 0, 1, 1],\n",
       " [0, 1, 1, 0, 1, 1, 0, 0, 1, 0, 0, 0, 0, 1, 1, 0, 0, 0, 0, 1],\n",
       " [0, 1, 0, 0, 1, 0, 1, 1, 1, 0, 0, 0, 0, 0, 1, 0, 0, 0, 1, 1],\n",
       " [1, 1, 0, 1, 1, 0, 1, 0, 0, 0, 1, 0, 0, 0, 1, 0, 0, 0, 1, 0],\n",
       " [0, 0, 1, 0, 0, 0, 1, 1, 0, 0, 1, 0, 0, 1, 0, 0, 1, 1, 1, 0],\n",
       " [0, 1, 0, 1, 0, 0, 0, 1, 0, 0, 1, 1, 1, 0, 0, 1, 0, 1, 0, 0],\n",
       " [0, 0, 1, 0, 0, 0, 1, 1, 0, 1, 1, 0, 0, 1, 0, 0, 0, 0, 1, 1],\n",
       " [0, 0, 0, 0, 0, 0, 0, 0, 1, 1, 0, 0, 1, 1, 1, 0, 1, 1, 1, 0],\n",
       " [0, 0, 0, 0, 0, 0, 1, 0, 0, 0, 0, 1, 1, 0, 1, 0, 1, 0, 1, 1],\n",
       " [1, 1, 1, 0, 0, 1, 0, 0, 1, 1, 1, 0, 0, 1, 0, 0, 0, 0, 0, 0],\n",
       " [1, 1, 1, 0, 1, 0, 0, 0, 1, 0, 0, 0, 0, 0, 1, 0, 0, 1, 1, 0],\n",
       " [0, 1, 0, 1, 0, 0, 0, 0, 0, 1, 0, 1, 1, 0, 1, 0, 1, 0, 0, 0],\n",
       " [0, 0, 1, 0, 1, 0, 0, 0, 1, 1, 0, 1, 0, 1, 0, 1, 0, 0, 1, 0],\n",
       " [0, 1, 0, 1, 0, 0, 0, 0, 0, 0, 0, 0, 1, 1, 1, 0, 0, 1, 1, 0],\n",
       " [0, 0, 0, 0, 1, 0, 0, 1, 0, 0, 1, 0, 0, 1, 1, 0, 0, 1, 1, 0],\n",
       " [0, 0, 0, 0, 0, 1, 1, 1, 0, 0, 0, 0, 1, 0, 1, 0, 0, 0, 1, 1],\n",
       " [1, 1, 0, 0, 0, 1, 1, 0, 0, 0, 0, 0, 0, 1, 0, 0, 1, 1, 0, 0],\n",
       " [1, 0, 0, 0, 1, 0, 0, 1, 1, 1, 0, 0, 1, 1, 0, 1, 0, 0, 0, 0],\n",
       " [0, 1, 0, 0, 0, 1, 1, 0, 1, 0, 0, 1, 1, 0, 0, 0, 0, 1, 0, 0],\n",
       " [1, 1, 0, 0, 0, 0, 1, 1, 0, 1, 0, 0, 0, 0, 0, 0, 1, 0, 0, 1],\n",
       " [1, 0, 0, 0, 1, 0, 0, 0, 1, 1, 0, 1, 0, 0, 1, 0, 0, 1, 0, 0],\n",
       " [1, 0, 0, 0, 1, 0, 1, 0, 1, 0, 1, 0, 0, 0, 1, 1, 0, 0, 0, 0],\n",
       " [1, 0, 0, 0, 0, 0, 1, 0, 1, 0, 0, 0, 1, 0, 0, 0, 0, 1, 1, 1],\n",
       " [1, 0, 1, 0, 0, 0, 1, 0, 0, 0, 1, 0, 1, 0, 0, 1, 0, 1, 0, 0],\n",
       " [0, 0, 1, 0, 0, 0, 1, 0, 1, 0, 0, 1, 1, 0, 0, 0, 0, 0, 0, 1],\n",
       " [0, 1, 0, 0, 0, 0, 0, 1, 1, 1, 0, 0, 1, 1, 0, 0, 0, 0, 0, 0],\n",
       " [1, 0, 0, 0, 0, 0, 0, 0, 1, 0, 0, 0, 1, 1, 0, 1, 1, 0, 0, 0],\n",
       " [1, 0, 0, 0, 1, 0, 1, 0, 0, 0, 0, 1, 0, 0, 0, 0, 0, 1, 0, 0]]"
      ]
     },
     "execution_count": 58,
     "metadata": {},
     "output_type": "execute_result"
    }
   ],
   "source": [
    "df_poblacion = pd.DataFrame(data = poblacion)\n",
    "\n",
    "df_poblacion[\"valores\"] = [np.dot(ind, valores) for ind in poblacion]\n",
    "\n",
    "poblacion = [list(x) for x in df_poblacion.sort_values(\"valores\", ascending = False).iloc[:, :-1].values]\n",
    "\n",
    "poblacion"
   ]
  },
  {
   "cell_type": "code",
   "execution_count": 69,
   "id": "caa98538-018e-4a64-86c4-79fe75b1600b",
   "metadata": {
    "tags": []
   },
   "outputs": [
    {
     "data": {
      "text/plain": [
       "array([0.02902758, 0.05574252, 0.0815005 , 0.10684381, 0.13170864,\n",
       "       0.15611094, 0.18016236, 0.20421378, 0.22813761, 0.25143942,\n",
       "       0.27437439, 0.29700633, 0.31959042, 0.34206287, 0.36440773,\n",
       "       0.38616246, 0.4077896 , 0.42936889, 0.45086843, 0.47209684,\n",
       "       0.49292652, 0.5137243 , 0.53433069, 0.55474569, 0.57468221,\n",
       "       0.59455494, 0.61425222, 0.63383786, 0.65297692, 0.67178105,\n",
       "       0.69009075, 0.7083845 , 0.72661446, 0.74471682, 0.76275539,\n",
       "       0.78050687, 0.79801911, 0.81546755, 0.83283625, 0.84994976,\n",
       "       0.86690378, 0.88363451, 0.89975917, 0.91572433, 0.93138647,\n",
       "       0.94620329, 0.96086062, 0.97460885, 0.98811783, 1.        ])"
      ]
     },
     "execution_count": 69,
     "metadata": {},
     "output_type": "execute_result"
    }
   ],
   "source": [
    "quesito = np.array([np.dot(ind, valores)/sum([np.dot(ind, valores) for ind in poblacion]) for ind in poblacion]).cumsum()\n",
    "\n",
    "quesito"
   ]
  },
  {
   "cell_type": "code",
   "execution_count": 68,
   "id": "86016bd3-54c8-4a25-9843-c390ae5291a0",
   "metadata": {
    "tags": []
   },
   "outputs": [
    {
     "data": {
      "text/plain": [
       "0.2692767127749468"
      ]
     },
     "execution_count": 68,
     "metadata": {},
     "output_type": "execute_result"
    }
   ],
   "source": [
    "n_aleatorio = random.random()\n",
    "\n",
    "n_aleatorio"
   ]
  },
  {
   "cell_type": "code",
   "execution_count": 73,
   "id": "2f8318e1-ae90-4ade-8e4b-f541be5c2d86",
   "metadata": {
    "tags": []
   },
   "outputs": [
    {
     "name": "stdout",
     "output_type": "stream",
     "text": [
      "9\n"
     ]
    }
   ],
   "source": [
    "for i in range(len(quesito) - 1):\n",
    "    \n",
    "    if quesito[i] < n_aleatorio < quesito[i + 1]:\n",
    "        \n",
    "        print(i)"
   ]
  },
  {
   "cell_type": "code",
   "execution_count": 74,
   "id": "3ac06f60-1eb2-4a69-bb5c-3dbd6045dd7f",
   "metadata": {
    "tags": []
   },
   "outputs": [
    {
     "data": {
      "text/plain": [
       "[1, 0, 1, 1, 1, 1, 1, 1, 0, 1, 0, 1, 0, 0, 0, 1, 0, 0, 0, 0]"
      ]
     },
     "execution_count": 74,
     "metadata": {},
     "output_type": "execute_result"
    }
   ],
   "source": [
    "poblacion[9]"
   ]
  },
  {
   "cell_type": "code",
   "execution_count": 75,
   "id": "35075736-1284-447d-8e7e-843f52d24ef1",
   "metadata": {
    "tags": []
   },
   "outputs": [
    {
     "data": {
      "text/plain": [
       "0.7692767127749468"
      ]
     },
     "execution_count": 75,
     "metadata": {},
     "output_type": "execute_result"
    }
   ],
   "source": [
    "n_aleatorio2 = n_aleatorio + 0.5\n",
    "n_aleatorio2"
   ]
  },
  {
   "cell_type": "code",
   "execution_count": 78,
   "id": "263ed1f4-a001-468e-9b4c-f77e4423f213",
   "metadata": {
    "tags": []
   },
   "outputs": [
    {
     "name": "stdout",
     "output_type": "stream",
     "text": [
      "34\n"
     ]
    }
   ],
   "source": [
    "for i in range(len(quesito) - 1):\n",
    "    \n",
    "    if quesito[i] < n_aleatorio2 < quesito[i + 1]:\n",
    "        \n",
    "        print(i)"
   ]
  },
  {
   "cell_type": "code",
   "execution_count": 79,
   "id": "0ec03a06-b2f7-4f41-b22c-99755e5592c8",
   "metadata": {
    "tags": []
   },
   "outputs": [
    {
     "data": {
      "text/plain": [
       "[0, 0, 1, 0, 1, 0, 0, 0, 1, 1, 0, 1, 0, 1, 0, 1, 0, 0, 1, 0]"
      ]
     },
     "execution_count": 79,
     "metadata": {},
     "output_type": "execute_result"
    }
   ],
   "source": [
    "poblacion[34]"
   ]
  },
  {
   "cell_type": "code",
   "execution_count": 89,
   "id": "e7fa2eb5-89e0-447e-a168-570a86acc151",
   "metadata": {
    "tags": []
   },
   "outputs": [
    {
     "name": "stdout",
     "output_type": "stream",
     "text": [
      "[0, 0, 1, 0, 1, 0, 0, 1, 1, 0, 1, 0, 0, 1, 0, 0, 1, 0, 1, 1]\n",
      "[0, 1, 1, 0, 1, 1, 0, 0, 1, 0, 0, 0, 0, 1, 1, 0, 0, 0, 0, 1]\n"
     ]
    }
   ],
   "source": [
    "n_aleatorio = random.random()\n",
    "\n",
    "for i in range(len(quesito) - 1):\n",
    "    \n",
    "    if quesito[i] < n_aleatorio < quesito[i + 1]:\n",
    "        \n",
    "        intervalo1 = i\n",
    "        \n",
    "if i < 25:\n",
    "    intervalo2 = i + 25\n",
    "    \n",
    "else:\n",
    "    intervalo2 = i - 25\n",
    "    \n",
    "padre1 = poblacion[intervalo1]\n",
    "padre2 = poblacion[intervalo2]\n",
    "\n",
    "print(padre1)\n",
    "print(padre2)"
   ]
  },
  {
   "cell_type": "code",
   "execution_count": 127,
   "id": "31d1e992-da29-4a06-9987-b406c83c94a5",
   "metadata": {
    "tags": []
   },
   "outputs": [],
   "source": [
    "def seleccion_muestreo_universal(poblacion):\n",
    "    \n",
    "    poblacion = poblacion.copy()\n",
    "    \n",
    "    df_poblacion = pd.DataFrame(data = poblacion)\n",
    "\n",
    "    df_poblacion[\"valores\"] = [np.dot(ind, valores) for ind in poblacion]\n",
    "\n",
    "    poblacion = [list(x) for x in df_poblacion.sort_values(\"valores\", ascending = False).iloc[:, :-1].values]\n",
    "    \n",
    "    quesito = np.array([0] + [np.dot(ind, valores)/sum([np.dot(ind, valores) for ind in poblacion]) for ind in poblacion]).cumsum()\n",
    "\n",
    "    n_aleatorio = random.random()\n",
    "\n",
    "    for i in range(len(quesito) - 1):\n",
    "\n",
    "        if quesito[i] < n_aleatorio < quesito[i + 1]:\n",
    "\n",
    "            intervalo1 = i\n",
    "\n",
    "    if i < 25:\n",
    "        intervalo2 = i + 25\n",
    "\n",
    "    else:\n",
    "        intervalo2 = i - 25\n",
    "\n",
    "    padre1 = poblacion[intervalo1]\n",
    "    padre2 = poblacion[intervalo2]\n",
    "\n",
    "    return padre1, padre2"
   ]
  },
  {
   "cell_type": "code",
   "execution_count": 92,
   "id": "019af433-e0a4-4471-847e-9cd72b7d2814",
   "metadata": {
    "tags": []
   },
   "outputs": [
    {
     "name": "stdout",
     "output_type": "stream",
     "text": [
      "[1, 1, 1, 0, 0, 1, 0, 0, 1, 1, 1, 0, 0, 1, 0, 0, 0, 0, 0, 0]\n",
      "[0, 1, 1, 0, 1, 1, 0, 0, 1, 0, 0, 0, 0, 1, 1, 0, 0, 0, 0, 1]\n"
     ]
    }
   ],
   "source": [
    "padre1, padre2 = seleccion_muestreo_universal(poblacion)\n",
    "\n",
    "print(padre1)\n",
    "print(padre2)"
   ]
  },
  {
   "cell_type": "markdown",
   "id": "35dd95da-2265-4aed-8706-719b49727266",
   "metadata": {},
   "source": [
    "### Cruzamiento Binario Uniforme"
   ]
  },
  {
   "cell_type": "code",
   "execution_count": 93,
   "id": "d239ed78-2a6d-48dc-bcf5-028731fc9560",
   "metadata": {
    "tags": []
   },
   "outputs": [
    {
     "name": "stdout",
     "output_type": "stream",
     "text": [
      "[1, 1, 1, 0, 1, 1, 0, 0, 1, 0, 0, 0, 0, 1, 0, 0, 0, 0, 0, 1]\n",
      "[0, 1, 1, 0, 0, 1, 0, 0, 1, 1, 1, 0, 0, 1, 1, 0, 0, 0, 0, 0]\n"
     ]
    }
   ],
   "source": [
    "hijo1, hijo2 = list(), list()\n",
    "\n",
    "for p1, p2 in zip(padre1, padre2):\n",
    "    \n",
    "    n_aleatorio = random.random()\n",
    "    \n",
    "    if n_aleatorio < 0.5:\n",
    "        \n",
    "        hijo1.append(p1)\n",
    "        hijo2.append(p2)\n",
    "        \n",
    "    else:\n",
    "        hijo1.append(p2)\n",
    "        hijo2.append(p1)\n",
    "        \n",
    "print(hijo1)\n",
    "print(hijo2)"
   ]
  },
  {
   "cell_type": "code",
   "execution_count": 105,
   "id": "d8c1eb37-ee1f-4a19-8862-3c934e4f2d6b",
   "metadata": {
    "tags": []
   },
   "outputs": [],
   "source": [
    "def cruzamiento_binario_uniforme(padre1, padre2):\n",
    "    \n",
    "    hijo1= list()\n",
    "\n",
    "    for p1, p2 in zip(padre1, padre2):\n",
    "\n",
    "        n_aleatorio = random.random()\n",
    "\n",
    "        if n_aleatorio < 0.5:\n",
    "\n",
    "            hijo1.append(p1)\n",
    "\n",
    "        else:\n",
    "            hijo1.append(p2)\n",
    "\n",
    "    return hijo1"
   ]
  },
  {
   "cell_type": "code",
   "execution_count": 106,
   "id": "4bd4014e-79e9-4875-b8ba-1c52110280da",
   "metadata": {
    "tags": []
   },
   "outputs": [
    {
     "name": "stdout",
     "output_type": "stream",
     "text": [
      "[0, 1, 1, 0, 1, 1, 0, 0, 1, 0, 1, 0, 0, 1, 1, 0, 0, 0, 0, 0]\n"
     ]
    }
   ],
   "source": [
    "hijo1 = cruzamiento_binario_uniforme(padre1, padre2)\n",
    "\n",
    "print(hijo1)"
   ]
  },
  {
   "cell_type": "markdown",
   "id": "c68f8960-bf18-43a5-9cff-c976c2abd352",
   "metadata": {},
   "source": [
    "### Mutacion Binaria"
   ]
  },
  {
   "cell_type": "code",
   "execution_count": 96,
   "id": "763de611-bf13-47e1-a07f-0a77a5686e3b",
   "metadata": {
    "tags": []
   },
   "outputs": [
    {
     "data": {
      "text/plain": [
       "9"
      ]
     },
     "execution_count": 96,
     "metadata": {},
     "output_type": "execute_result"
    }
   ],
   "source": [
    "k = random.randint(0, n_genes - 1)\n",
    "\n",
    "if hijo1[k] == 0:\n",
    "    hijo1[k] = 1\n",
    "    \n",
    "else:\n",
    "    hijo1[k] = 0"
   ]
  },
  {
   "cell_type": "code",
   "execution_count": 107,
   "id": "1647879e-b7a8-4d0a-9d0f-0855c6d8ff9a",
   "metadata": {
    "tags": []
   },
   "outputs": [],
   "source": [
    "def mutacion_binaria(hijo, p_mutacion = p_mutacion):\n",
    "    \n",
    "    hijo = hijo.copy()\n",
    "    \n",
    "    n_aleatorio = random.random()\n",
    "    \n",
    "    if n_aleatorio < p_mutacion:\n",
    "\n",
    "        k = random.randint(0, n_genes - 1)\n",
    "\n",
    "        if hijo[k] == 0:\n",
    "            hijo[k] = 1\n",
    "\n",
    "        else:\n",
    "            hijo[k] = 0\n",
    "            \n",
    "        return hijo\n",
    "            \n",
    "    else:\n",
    "        \n",
    "        return hijo"
   ]
  },
  {
   "cell_type": "code",
   "execution_count": 108,
   "id": "94dc2381-66ea-42a4-be5a-02f3a33dd264",
   "metadata": {
    "tags": []
   },
   "outputs": [
    {
     "name": "stdout",
     "output_type": "stream",
     "text": [
      "[0, 1, 1, 0, 1, 1, 0, 0, 1, 0, 1, 0, 0, 1, 1, 0, 0, 0, 0, 0]\n"
     ]
    }
   ],
   "source": [
    "hijo1 = mutacion_binaria(hijo1)\n",
    "\n",
    "print(hijo1)"
   ]
  },
  {
   "cell_type": "markdown",
   "id": "8db22a77-4b80-4ba5-9f9b-df58f577330f",
   "metadata": {},
   "source": [
    "### Comprobación Hijo"
   ]
  },
  {
   "cell_type": "code",
   "execution_count": 109,
   "id": "b3624fbb-5b96-46f8-9d3b-ec65185efaa5",
   "metadata": {
    "tags": []
   },
   "outputs": [
    {
     "data": {
      "text/plain": [
       "44"
      ]
     },
     "execution_count": 109,
     "metadata": {},
     "output_type": "execute_result"
    }
   ],
   "source": [
    "np.dot(hijo1, pesos)"
   ]
  },
  {
   "cell_type": "markdown",
   "id": "fd7b9be3-43fa-4d82-9d0f-4ece4f953c90",
   "metadata": {},
   "source": [
    "### Reemplazo Crowding Deterministico"
   ]
  },
  {
   "cell_type": "code",
   "execution_count": 113,
   "id": "35e118a3-bead-4f82-ad1f-40f932001877",
   "metadata": {
    "tags": []
   },
   "outputs": [
    {
     "name": "stdout",
     "output_type": "stream",
     "text": [
      "[1, 1, 1, 0, 0, 1, 0, 0, 1, 1, 1, 0, 0, 1, 0, 0, 0, 0, 0, 0]\n",
      "[0, 1, 1, 0, 1, 1, 0, 0, 1, 0, 0, 0, 0, 1, 1, 0, 0, 0, 0, 1]\n",
      "[0, 1, 1, 0, 1, 1, 0, 0, 1, 0, 1, 0, 0, 1, 1, 0, 0, 0, 0, 0]\n"
     ]
    }
   ],
   "source": [
    "print(padre1)\n",
    "print(padre2)\n",
    "print(hijo1)"
   ]
  },
  {
   "cell_type": "code",
   "execution_count": 112,
   "id": "374e41a8-6520-49e9-95b3-107232d014ec",
   "metadata": {
    "tags": []
   },
   "outputs": [
    {
     "name": "stdout",
     "output_type": "stream",
     "text": [
      "16 18\n",
      "Padre2\n"
     ]
    }
   ],
   "source": [
    "total1, total2 = 0, 0\n",
    "\n",
    "for h1, p1, p2 in zip(hijo1, padre1, padre2):\n",
    "    \n",
    "    if h1 == p1:\n",
    "        total1 += 1\n",
    "    if h1 == p2:\n",
    "        total2 += 1\n",
    "        \n",
    "print(total1, total2)\n",
    "        \n",
    "if total1 > total2:\n",
    "    \n",
    "    print(\"Padre1\")\n",
    "    \n",
    "else:\n",
    "    \n",
    "    print(\"Padre2\")\n",
    "    "
   ]
  },
  {
   "cell_type": "code",
   "execution_count": 118,
   "id": "9010313e-9626-4f12-9934-c4cf5a932626",
   "metadata": {
    "tags": []
   },
   "outputs": [],
   "source": [
    "def reemplazo_crowding_deterministico(padre1, padre2, hijo1):\n",
    "    \n",
    "    total1, total2 = 0, 0\n",
    "\n",
    "    for h1, p1, p2 in zip(hijo1, padre1, padre2):\n",
    "\n",
    "        if h1 == p1:\n",
    "            total1 += 1\n",
    "        if h1 == p2:\n",
    "            total2 += 1\n",
    "\n",
    "    if total1 > total2:\n",
    "\n",
    "        return padre2, hijo1\n",
    "\n",
    "    else:\n",
    "\n",
    "        return padre1, hijo1"
   ]
  },
  {
   "cell_type": "code",
   "execution_count": 119,
   "id": "4af32f41-93b4-45fb-a495-1ed1865cd94f",
   "metadata": {
    "tags": []
   },
   "outputs": [
    {
     "name": "stdout",
     "output_type": "stream",
     "text": [
      "[1, 1, 1, 0, 0, 1, 0, 0, 1, 1, 1, 0, 0, 1, 0, 0, 0, 0, 0, 0]\n",
      "[0, 1, 1, 0, 1, 1, 0, 0, 1, 0, 1, 0, 0, 1, 1, 0, 0, 0, 0, 0]\n"
     ]
    }
   ],
   "source": [
    "padre, hijo = reemplazo_crowding_deterministico(padre1, padre2, hijo1)\n",
    "\n",
    "print(padre)\n",
    "print(hijo)"
   ]
  },
  {
   "cell_type": "code",
   "execution_count": 120,
   "id": "df8ebfd9-1bcf-41b2-9c5d-d1667fdebf0b",
   "metadata": {
    "tags": []
   },
   "outputs": [],
   "source": [
    "poblacion.remove(padre1)\n",
    "poblacion.remove(padre2)\n",
    "\n",
    "poblacion.append(padre)\n",
    "poblacion.append(hijo)"
   ]
  },
  {
   "cell_type": "markdown",
   "id": "28cb1e78-e426-4408-a661-2d9def004705",
   "metadata": {},
   "source": [
    "### Bucle Tocho"
   ]
  },
  {
   "cell_type": "code",
   "execution_count": 137,
   "id": "0bbce089-0880-4b08-96e8-9a8444cde613",
   "metadata": {
    "tags": []
   },
   "outputs": [
    {
     "name": "stdout",
     "output_type": "stream",
     "text": [
      "CPU times: total: 42.3 s\n",
      "Wall time: 2min 8s\n"
     ]
    }
   ],
   "source": [
    "%%time\n",
    "\n",
    "generaciones = 5_000\n",
    "\n",
    "lista_mejor_individuo, lista_mejor_valor = list(), list()\n",
    "\n",
    "poblacion = definir_poblacion()\n",
    "\n",
    "for i in range(generaciones):\n",
    "    \n",
    "    padre1, padre2 = seleccion_muestreo_universal(poblacion = poblacion)\n",
    "    \n",
    "    hijo1 = cruzamiento_binario_uniforme(padre1 = padre1, padre2 = padre2)\n",
    "    \n",
    "    hijo1 = mutacion_binaria(hijo1)\n",
    "    \n",
    "    peso_hijo1 = np.dot(hijo1, pesos)/\n",
    "    \n",
    "    if peso_hijo1 <= peso_max:\n",
    "        \n",
    "        padre, hijo = reemplazo_crowding_deterministico(padre1, padre2, hijo1)\n",
    "        \n",
    "        if padre == padre1:\n",
    "        \n",
    "            poblacion.remove(padre2)\n",
    "        \n",
    "        else:\n",
    "            \n",
    "            poblacion.remove(padre1)\n",
    "\n",
    "        poblacion.append(hijo)\n",
    "    \n",
    "    \n",
    "    mejores_valores = [np.dot(ind, valores) for ind in poblacion]\n",
    "    \n",
    "    mejor_indice = np.argmax(mejores_valores)\n",
    "    \n",
    "    mejor_individuo = poblacion[mejor_indice].copy()\n",
    "    \n",
    "    lista_mejor_individuo.append(mejor_individuo)\n",
    "    \n",
    "    lista_mejor_valor.append(np.dot(mejor_individuo, valores))"
   ]
  },
  {
   "cell_type": "code",
   "execution_count": 139,
   "id": "82c9519d-3632-45c4-9c70-f23720e37b48",
   "metadata": {
    "tags": []
   },
   "outputs": [
    {
     "data": {
      "image/png": "[encoded data removed]",
      "text/plain": [
       "<Figure size 640x480 with 1 Axes>"
      ]
     },
     "metadata": {},
     "output_type": "display_data"
    }
   ],
   "source": [
    "plt.plot(lista_mejor_valor)\n",
    "plt.grid()\n",
    "plt.show()"
   ]
  },
  {
   "cell_type": "code",
   "execution_count": 141,
   "id": "0aa30863-57bd-43d7-b648-4593b9381e16",
   "metadata": {
    "tags": []
   },
   "outputs": [],
   "source": [
    "mejor_indice = np.argmax(lista_mejor_valor)"
   ]
  },
  {
   "cell_type": "code",
   "execution_count": 142,
   "id": "a1f0d5fb-fa39-4ad2-b34d-3e23848a3d53",
   "metadata": {
    "tags": []
   },
   "outputs": [
    {
     "data": {
      "text/plain": [
       "1849"
      ]
     },
     "execution_count": 142,
     "metadata": {},
     "output_type": "execute_result"
    }
   ],
   "source": [
    "lista_mejor_valor[mejor_indice]"
   ]
  },
  {
   "cell_type": "code",
   "execution_count": 143,
   "id": "223a28e5-686d-4cf8-a2e0-2e520962e8dd",
   "metadata": {
    "tags": []
   },
   "outputs": [
    {
     "data": {
      "text/plain": [
       "[1, 1, 1, 1, 1, 0, 1, 1, 0, 1, 0, 1, 0, 1, 0, 0, 0, 0, 1, 1]"
      ]
     },
     "execution_count": 143,
     "metadata": {},
     "output_type": "execute_result"
    }
   ],
   "source": [
    "lista_mejor_individuo[mejor_indice]"
   ]
  },
  {
   "cell_type": "code",
   "execution_count": 144,
   "id": "475b69e4-f39c-4148-8a23-fbc9c39ae7c7",
   "metadata": {
    "tags": []
   },
   "outputs": [
    {
     "data": {
      "text/plain": [
       "49"
      ]
     },
     "execution_count": 144,
     "metadata": {},
     "output_type": "execute_result"
    }
   ],
   "source": [
    "np.dot(lista_mejor_individuo[mejor_indice], pesos)"
   ]
  },
  {
   "cell_type": "code",
   "execution_count": 145,
   "id": "2b7b1772-5c2c-46a0-8465-3ac9016d1e2e",
   "metadata": {
    "tags": []
   },
   "outputs": [
    {
     "data": {
      "text/plain": [
       "['objeto_0',\n",
       " 'objeto_1',\n",
       " 'objeto_2',\n",
       " 'objeto_3',\n",
       " 'objeto_4',\n",
       " 'objeto_6',\n",
       " 'objeto_7',\n",
       " 'objeto_9',\n",
       " 'objeto_11',\n",
       " 'objeto_13',\n",
       " 'objeto_18',\n",
       " 'objeto_19']"
      ]
     },
     "execution_count": 145,
     "metadata": {},
     "output_type": "execute_result"
    }
   ],
   "source": [
    "[x for x, i in zip(objetos, lista_mejor_individuo[mejor_indice]) if i == 1]"
   ]
  },
  {
   "cell_type": "code",
   "execution_count": null,
   "id": "05bdd870-debb-4157-9c31-3180f89b549c",
   "metadata": {},
   "outputs": [],
   "source": []
  },
  {
   "cell_type": "code",
   "execution_count": null,
   "id": "01e71c19",
   "metadata": {},
   "outputs": [],
   "source": [
    "################################################################################################################################"
   ]
  }
 ],
 "metadata": {
  "kernelspec": {
   "display_name": "Python 3 (ipykernel)",
   "language": "python",
   "name": "python3"
  },
  "language_info": {
   "codemirror_mode": {
    "name": "ipython",
    "version": 3
   },
   "file_extension": ".py",
   "mimetype": "text/x-python",
   "name": "python",
   "nbconvert_exporter": "python",
   "pygments_lexer": "ipython3",
   "version": "3.11.5"
  }
 },
 "nbformat": 4,
 "nbformat_minor": 5
}
