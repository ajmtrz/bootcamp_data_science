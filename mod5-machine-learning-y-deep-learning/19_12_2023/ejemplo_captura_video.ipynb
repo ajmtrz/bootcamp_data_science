{
 "cells": [
  {
   "cell_type": "markdown",
   "id": "d6865995-c63c-43c4-a95b-6f52860c3393",
   "metadata": {},
   "source": [
    "### Capturar y guardar un video desde la webcam"
   ]
  },
  {
   "cell_type": "code",
   "execution_count": 1,
   "id": "c397aa97-a40b-41b9-8452-3f6206e2187c",
   "metadata": {},
   "outputs": [],
   "source": [
    "import cv2\n",
    "import time"
   ]
  },
  {
   "cell_type": "markdown",
   "id": "64311fa7-f866-4b0b-9fd1-3ccaf25ee6b8",
   "metadata": {},
   "source": [
    "Captura y guarda el video desde la webcam"
   ]
  },
  {
   "cell_type": "code",
   "execution_count": null,
   "id": "03acd138-0840-4e80-97cc-6eb5be36b7bf",
   "metadata": {},
   "outputs": [],
   "source": [
    "captura = cv2.VideoCapture(0)\n",
    "salida = cv2.VideoWriter('videoSalida.avi',cv2.VideoWriter_fourcc(*'XVID'),20.0,(640,480))\n",
    "while (captura.isOpened()):\n",
    "    ret, imagen = captura.read()\n",
    "    if ret == True:\n",
    "        cv2.imshow('video', imagen)\n",
    "        salida.write(imagen)\n",
    "        if cv2.waitKey(1) & 0xFF == ord('s'):\n",
    "            break\n",
    "    \n",
    "    else: break\n",
    "captura.release()\n",
    "salida.release()\n",
    "cv2.destroyAllWindows()"
   ]
  },
  {
   "cell_type": "markdown",
   "id": "488c281c-c792-4311-abb1-8e9863146a5f",
   "metadata": {},
   "source": [
    "Cargamos el modelo que queremos aplicar al video"
   ]
  },
  {
   "cell_type": "code",
   "execution_count": 2,
   "id": "5d50d785-7e77-4a3c-907a-0da51b63729e",
   "metadata": {},
   "outputs": [],
   "source": [
    "face_cascade = cv2.CascadeClassifier(\"../Data/haarcascade_frontalface_default.xml\")\n",
    "eye_cascade  = cv2.CascadeClassifier(\"../Data/haarcascade_eye.xml\")\n",
    "\n",
    "# Función\n",
    "\n",
    "def detect_face(img):\n",
    "    \n",
    "    face_img = img.copy()\n",
    "  \n",
    "    # .detectMultiScale() retorna las posiciones de las esquinas de un rectangulo\n",
    "    \n",
    "    face_rects = face_cascade.detectMultiScale(image = face_img, scaleFactor = 1.2, minNeighbors = 5) \n",
    "    \n",
    "    for x, y, w, h in face_rects: \n",
    "        \n",
    "        cv2.rectangle(img = face_img,\n",
    "                      pt1 = (x, y),\n",
    "                      pt2 = (x + w, y + h),\n",
    "                      color = (255, 255, 255),\n",
    "                      thickness = 3) \n",
    "        \n",
    "    return face_img\n",
    "\n",
    "def detect_eye(img):\n",
    "    \n",
    "    #face_img = img.copy()\n",
    "  \n",
    "    # .detectMultiScale() retorna las posiciones de las esquinas de un rectangulo\n",
    "    \n",
    "    face_rects = eye_cascade.detectMultiScale(image = img, scaleFactor = 1.2, minNeighbors = 5) \n",
    "    \n",
    "    for x, y, w, h in face_rects: \n",
    "        \n",
    "        cv2.rectangle(img = img,\n",
    "                      pt1 = (x, y),\n",
    "                      pt2 = (x + w, y + h),\n",
    "                      color = (255, 255, 255),\n",
    "                      thickness = 2) \n",
    "        \n",
    "    return img"
   ]
  },
  {
   "cell_type": "code",
   "execution_count": null,
   "id": "5c98200f-b9e4-4f4e-b994-484946c3d7c2",
   "metadata": {},
   "outputs": [],
   "source": [
    "cap = cv2.VideoCapture('videoSalida.avi')\n",
    "while True: \n",
    "    \n",
    "    ret, frame = cap.read(0) \n",
    "     \n",
    "    frame = detect_face(frame)\n",
    " \n",
    "    cv2.imshow(\"face_detection\", frame) \n",
    " \n",
    "    c = cv2.waitKey(1) \n",
    "    if c == 27: \n",
    "        break \n",
    "        \n",
    "cap.release() \n",
    "cv2.destroyAllWindows()"
   ]
  },
  {
   "cell_type": "code",
   "execution_count": 3,
   "id": "45a21349-53df-4bbe-bd5c-5b4f1ec5178f",
   "metadata": {},
   "outputs": [
    {
     "ename": "error",
     "evalue": "OpenCV(4.6.0) D:\\a\\opencv-python\\opencv-python\\opencv\\modules\\highgui\\src\\window.cpp:967: error: (-215:Assertion failed) size.width>0 && size.height>0 in function 'cv::imshow'\n",
     "output_type": "error",
     "traceback": [
      "\u001b[1;31m---------------------------------------------------------------------------\u001b[0m",
      "\u001b[1;31merror\u001b[0m                                     Traceback (most recent call last)",
      "Input \u001b[1;32mIn [3]\u001b[0m, in \u001b[0;36m<cell line: 4>\u001b[1;34m()\u001b[0m\n\u001b[0;32m      4\u001b[0m ret, frame \u001b[38;5;241m=\u001b[39m cap\u001b[38;5;241m.\u001b[39mread(\u001b[38;5;241m0\u001b[39m) \n\u001b[0;32m      6\u001b[0m frame \u001b[38;5;241m=\u001b[39m detect_eye(frame)\n\u001b[1;32m----> 8\u001b[0m \u001b[43mcv2\u001b[49m\u001b[38;5;241;43m.\u001b[39;49m\u001b[43mimshow\u001b[49m\u001b[43m(\u001b[49m\u001b[38;5;124;43m\"\u001b[39;49m\u001b[38;5;124;43meye_detection\u001b[39;49m\u001b[38;5;124;43m\"\u001b[39;49m\u001b[43m,\u001b[49m\u001b[43m \u001b[49m\u001b[43mframe\u001b[49m\u001b[43m)\u001b[49m \n\u001b[0;32m     10\u001b[0m c \u001b[38;5;241m=\u001b[39m cv2\u001b[38;5;241m.\u001b[39mwaitKey(\u001b[38;5;241m1\u001b[39m) \n\u001b[0;32m     11\u001b[0m \u001b[38;5;28;01mif\u001b[39;00m c \u001b[38;5;241m==\u001b[39m \u001b[38;5;241m27\u001b[39m: \n",
      "\u001b[1;31merror\u001b[0m: OpenCV(4.6.0) D:\\a\\opencv-python\\opencv-python\\opencv\\modules\\highgui\\src\\window.cpp:967: error: (-215:Assertion failed) size.width>0 && size.height>0 in function 'cv::imshow'\n"
     ]
    }
   ],
   "source": [
    "cap = cv2.VideoCapture('videoSalida.avi')\n",
    "while True: \n",
    "    \n",
    "    ret, frame = cap.read(0) \n",
    "     \n",
    "    frame = detect_eye(frame)\n",
    " \n",
    "    cv2.imshow(\"eye_detection\", frame) \n",
    " \n",
    "    c = cv2.waitKey(1) \n",
    "    if c == 27: \n",
    "        break \n",
    "        \n",
    "cap.release() \n",
    "cv2.destroyAllWindows()"
   ]
  },
  {
   "cell_type": "code",
   "execution_count": null,
   "id": "9afa104f-61da-410e-aaa5-11bffbddbc88",
   "metadata": {},
   "outputs": [],
   "source": []
  }
 ],
 "metadata": {
  "kernelspec": {
   "display_name": "hackaboss",
   "language": "python",
   "name": "hackaboss"
  },
  "language_info": {
   "codemirror_mode": {
    "name": "ipython",
    "version": 3
   },
   "file_extension": ".py",
   "mimetype": "text/x-python",
   "name": "python",
   "nbconvert_exporter": "python",
   "pygments_lexer": "ipython3",
   "version": "3.9.12"
  }
 },
 "nbformat": 4,
 "nbformat_minor": 5
}
