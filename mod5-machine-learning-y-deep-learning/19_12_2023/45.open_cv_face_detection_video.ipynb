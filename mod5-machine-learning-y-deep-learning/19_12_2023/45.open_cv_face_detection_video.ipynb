{
 "cells": [
  {
   "cell_type": "markdown",
   "id": "77115407",
   "metadata": {},
   "source": [
    "## Video usando OpenCV\n",
    "\n",
    "El código de este notebook debe de estar en una sola celda."
   ]
  },
  {
   "cell_type": "code",
   "execution_count": 2,
   "id": "f4de8edb",
   "metadata": {},
   "outputs": [],
   "source": [
    "import cv2\n",
    "\n",
    "# Conecta el ordenador a la cámara\n",
    "cap = cv2.VideoCapture(0)\n",
    "\n",
    "# Tomamos el ancho y el largo de la cámara\n",
    "width = int(cap.get(cv2.CAP_PROP_FRAME_WIDTH))\n",
    "height = int(cap.get(cv2.CAP_PROP_FRAME_HEIGHT))\n",
    "\n",
    "while True:\n",
    "    \n",
    "    # Empieza a grabar\n",
    "    ret, frame = cap.read()\n",
    "\n",
    "    # Transforma cada imagen o frame a escala de grises\n",
    "    # grises = cv2.cvtColor(frame)\n",
    "    # cv2.imshow(\"frame\", grises)\n",
    "\n",
    "    # Muestra la imagen o frames\n",
    "    cv2.imshow(\"frame\", frame)\n",
    "    \n",
    "    # Con esta linea detenemos la cámara, debemos presionar la tecla \"esc\"\n",
    "    c = cv2.waitKey(1) \n",
    "    if c == 27: \n",
    "        break \n",
    "\n",
    "# Cuando termina el bucle cierra todas las ventanas y se desconecta de la cámara\n",
    "cap.release()\n",
    "cv2.destroyAllWindows()\n",
    "\n",
    "# Para cerrar la camara usamos ESC"
   ]
  },
  {
   "cell_type": "markdown",
   "id": "7367dfd8",
   "metadata": {},
   "source": [
    "### Video y Detección de Rostros"
   ]
  },
  {
   "cell_type": "code",
   "execution_count": 3,
   "id": "5312a5c9",
   "metadata": {},
   "outputs": [],
   "source": [
    "face_cascade = cv2.CascadeClassifier(\"../Data/haarcascade_frontalface_default.xml\")\n",
    "\n",
    "# Función\n",
    "\n",
    "def detect_face(img):\n",
    "    \n",
    "    face_img = img.copy()\n",
    "  \n",
    "    # .detectMultiScale() retorna las posiciones de las esquinas de un rectangulo\n",
    "    \n",
    "    face_rects = face_cascade.detectMultiScale(image = face_img, scaleFactor = 1.2, minNeighbors = 5) \n",
    "    \n",
    "    for x, y, w, h in face_rects: \n",
    "        \n",
    "        cv2.rectangle(img = face_img,\n",
    "                      pt1 = (x, y),\n",
    "                      pt2 = (x + w, y + h),\n",
    "                      color = (255, 255, 255),\n",
    "                      thickness = 10) \n",
    "        \n",
    "    return face_img"
   ]
  },
  {
   "cell_type": "code",
   "execution_count": 4,
   "id": "978165ca",
   "metadata": {},
   "outputs": [],
   "source": [
    "cap = cv2.VideoCapture(0) \n",
    "\n",
    "while True: \n",
    "    \n",
    "    ret, frame = cap.read(0) \n",
    "     \n",
    "    frame = detect_face(frame)\n",
    " \n",
    "    cv2.imshow(\"face_detection\", frame) \n",
    " \n",
    "    c = cv2.waitKey(1) \n",
    "    if c == 27: \n",
    "        break \n",
    "        \n",
    "cap.release() \n",
    "cv2.destroyAllWindows()"
   ]
  },
  {
   "cell_type": "code",
   "execution_count": null,
   "id": "79da1383",
   "metadata": {},
   "outputs": [],
   "source": [
    "################################################################################################################################"
   ]
  },
  {
   "cell_type": "markdown",
   "id": "302ac659",
   "metadata": {},
   "source": [
    "### Ejercicio:\n",
    "- Usa la cámara con el algoritmo realizado en el ejercicio del notebook anterior."
   ]
  },
  {
   "cell_type": "code",
   "execution_count": null,
   "id": "104cadb8",
   "metadata": {},
   "outputs": [],
   "source": []
  },
  {
   "cell_type": "code",
   "execution_count": null,
   "id": "cf9d1419",
   "metadata": {},
   "outputs": [],
   "source": []
  },
  {
   "cell_type": "code",
   "execution_count": null,
   "id": "0d8536d0",
   "metadata": {},
   "outputs": [],
   "source": []
  }
 ],
 "metadata": {
  "kernelspec": {
   "display_name": "hackaboss",
   "language": "python",
   "name": "hackaboss"
  },
  "language_info": {
   "codemirror_mode": {
    "name": "ipython",
    "version": 3
   },
   "file_extension": ".py",
   "mimetype": "text/x-python",
   "name": "python",
   "nbconvert_exporter": "python",
   "pygments_lexer": "ipython3",
   "version": "3.9.12"
  }
 },
 "nbformat": 4,
 "nbformat_minor": 5
}
