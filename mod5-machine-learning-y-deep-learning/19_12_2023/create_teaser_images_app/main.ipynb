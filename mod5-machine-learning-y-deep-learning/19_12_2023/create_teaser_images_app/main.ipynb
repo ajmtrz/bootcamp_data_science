{
 "cells": [
  {
   "cell_type": "code",
   "execution_count": 1,
   "id": "50f80da0-a1bc-4c55-be80-67a6d1c96813",
   "metadata": {},
   "outputs": [],
   "source": [
    "from src.create_teaser import CreateTeaser "
   ]
  },
  {
   "cell_type": "code",
   "execution_count": 2,
   "id": "6c2977bb-2026-4087-a41e-feb3055d7c3d",
   "metadata": {},
   "outputs": [],
   "source": [
    "img_1       = 'data/malhumo_live_action.png'\n",
    "img_2       = 'data/one_piece_logo.png'\n",
    "output_path = 'results'\n",
    "filename    = 'teaser_results'"
   ]
  },
  {
   "cell_type": "code",
   "execution_count": 3,
   "id": "38205f78-362b-4900-acb4-680367a09ee2",
   "metadata": {},
   "outputs": [],
   "source": [
    "teaser = CreateTeaser(source_1=img_1, source_2=img_2)"
   ]
  },
  {
   "cell_type": "code",
   "execution_count": 4,
   "id": "0545c2b4-863d-474f-a145-190e4ca4a15a",
   "metadata": {},
   "outputs": [
    {
     "name": "stdin",
     "output_type": "stream",
     "text": [
      "\n",
      "                Select position for the mask:\n",
      "                    1. Upper Left\n",
      "                    2. Upper Center\n",
      "                    3. Upper Right\n",
      "                    4. Center\n",
      "                    5. Bottom Left\n",
      "                    6. Bottom Center\n",
      "                    7. Bottom Right\n",
      "             4\n"
     ]
    }
   ],
   "source": [
    "teaser.set_mask_position()"
   ]
  },
  {
   "cell_type": "code",
   "execution_count": 5,
   "id": "4c5d23bb-6db9-4303-9ef9-8e1523d24ea8",
   "metadata": {
    "tags": []
   },
   "outputs": [],
   "source": [
    "teaser.create_mask()"
   ]
  },
  {
   "cell_type": "code",
   "execution_count": 6,
   "id": "1577425f-3d60-44f9-b095-6cbc070267df",
   "metadata": {},
   "outputs": [],
   "source": [
    "teaser.merge_img()"
   ]
  },
  {
   "cell_type": "code",
   "execution_count": 7,
   "id": "5545c309-fe67-47c2-b034-1ae41e2bedc7",
   "metadata": {},
   "outputs": [],
   "source": [
    "teaser.save_image(output_path, filename)"
   ]
  },
  {
   "cell_type": "code",
   "execution_count": null,
   "id": "d025f162-7a97-4b67-8a18-4d22b59f0998",
   "metadata": {},
   "outputs": [],
   "source": []
  }
 ],
 "metadata": {
  "kernelspec": {
   "display_name": "hackaboss",
   "language": "python",
   "name": "hackaboss"
  },
  "language_info": {
   "codemirror_mode": {
    "name": "ipython",
    "version": 3
   },
   "file_extension": ".py",
   "mimetype": "text/x-python",
   "name": "python",
   "nbconvert_exporter": "python",
   "pygments_lexer": "ipython3",
   "version": "3.9.12"
  }
 },
 "nbformat": 4,
 "nbformat_minor": 5
}
