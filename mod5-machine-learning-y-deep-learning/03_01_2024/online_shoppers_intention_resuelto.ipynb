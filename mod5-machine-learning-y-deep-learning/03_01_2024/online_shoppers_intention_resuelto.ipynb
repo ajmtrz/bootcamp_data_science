{
 "cells": [
  {
   "cell_type": "markdown",
   "id": "6f4b62fe-123d-4e55-a196-22c145a7a25f",
   "metadata": {
    "tags": []
   },
   "source": [
    "### Online Shoppers Intention\n",
    "\n",
    "- **Dataset Descriptions**: This dataset contains feature vectors for 12,330 sessions, each representing a different user over a 1-year period. The data is curated to avoid bias towards specific campaigns, special days, user profiles, or periods.\n",
    "\n",
    "Source: [UCI Machine Learning Repository](https://archive.ics.uci.edu/dataset/468/online+shoppers+purchasing+intention+dataset)\n",
    "\n",
    "| Feature                     | Description                                                                                                          |\n",
    "|-----------------------------|----------------------------------------------------------------------------------------------------------------------|\n",
    "| **Administrative**              | The number of pages of this type (administrative) visited by the user in that session.                                |\n",
    "| **Administrative_Duration**     | The total amount of time (in seconds) spent by the user on administrative pages during the session.                  |\n",
    "| **Informational**               | The number of informational pages visited by the user in that session.                                                |\n",
    "| **Informational_Duration**      | The total time spent by the user on informational pages.                                                               |\n",
    "| **ProductRelated**              | The number of product-related pages visited by the user.                                                              |\n",
    "| **ProductRelated_Duration**     | The total time spent by the user on product-related pages.                                                             |\n",
    "| **BounceRates**                 | The average bounce rate of the pages visited by the user. The bounce rate is the percentage of visitors who navigate away from the site after viewing only one page. |\n",
    "| **ExitRates**                   | The average exit rate of the pages visited by the user. The exit rate is a metric that shows the percentage of exits from a page. |\n",
    "| **PageValues**                  | The average value of the pages visited by the user. This metric is often used as an indicator of how valuable a page is in terms of generating revenue. |\n",
    "| **SpecialDay**                  | Indicates the closeness of the site visiting time to a specific special day (e.g., Mother’s Day, Valentine's Day) in which the sessions are more likely to be finalized with a transaction. |\n",
    "| **Month**                       | The month of the year in which the session occurred.                                                                  |\n",
    "| **OperatingSystems**            | The operating system used by the user.                                                                               |\n",
    "| **Browser**                     | The browser used by the user.                                                                                        |\n",
    "| **Region**                      | The region from which the user is accessing the website.                                                              |\n",
    "| **TrafficType**                 | The type of traffic (e.g., direct, paid search, organic search, referral).                                           |\n",
    "| **VisitorType**                 | A categorization of users (e.g., Returning Visitor, New Visitor).                                                    |\n",
    "| **Weekend**                     | A boolean indicating whether the session occurred on a weekend.                                                       |\n",
    "| **Revenue**                     | A binary variable indicating whether the session ended in a transaction (purchase).                                   |\n",
    "\n",
    "\n",
    "- Objetivos:\n",
    "\n",
    "0. Columna a predecir: **Revenue**\n",
    "1. Limpieza de Datos.\n",
    "2. Exploratory Data Analysis.\n",
    "3. Probar modelos de clasificación.\n",
    "4. Mostrar el **Feature Importance** para las columnas.\n",
    "5. Aplicar **_SMOTE_** para balanceo de clases y repetir modelos.\n",
    "6. Definir una red neuronal para clasificación (dataset original y dataset balaceado).\n",
    "7. Para ambos modelos de redes neuronales calcular: _**confusion_matrix**_, _**roc_auc**_, _**f1-score**_, _**recall**_, _**precision**_, _**accuracy**_."
   ]
  },
  {
   "cell_type": "code",
   "execution_count": null,
   "id": "ca52b0ad-afdd-44bf-8cc2-9cd233bdf756",
   "metadata": {
    "tags": []
   },
   "outputs": [],
   "source": [
    "import numpy as np\n",
    "import pandas as pd\n",
    "import matplotlib.pyplot as plt\n",
    "import seaborn as sns"
   ]
  },
  {
   "cell_type": "code",
   "execution_count": null,
   "id": "37e0c154-e1ec-4fb5-b76a-13006bf80e02",
   "metadata": {
    "tags": []
   },
   "outputs": [],
   "source": [
    "df = pd.read_csv(\"online_shoppers_intention.csv\")\n",
    "\n",
    "df"
   ]
  },
  {
   "cell_type": "code",
   "execution_count": null,
   "id": "aa98ce7b-89f6-492d-8a68-df682bf2a682",
   "metadata": {
    "tags": []
   },
   "outputs": [],
   "source": [
    "# Revenue\n",
    "\n",
    "df[\"Revenue\"] = df[\"Revenue\"].astype(int)\n",
    "\n",
    "df[\"Revenue\"].value_counts(normalize = True)"
   ]
  },
  {
   "cell_type": "code",
   "execution_count": null,
   "id": "ef3800a1-c361-4a47-8c09-2801a9f68e73",
   "metadata": {
    "tags": []
   },
   "outputs": [],
   "source": [
    "# Revenue\n",
    "\n",
    "plt.figure(figsize = (8, 6))\n",
    "\n",
    "sns.countplot(x = df[\"Revenue\"], hue = df[\"Revenue\"])\n",
    "plt.show()"
   ]
  },
  {
   "cell_type": "code",
   "execution_count": null,
   "id": "a527f2ea-008c-4a75-a3ec-e5418b171074",
   "metadata": {
    "tags": []
   },
   "outputs": [],
   "source": [
    "# Weekend\n",
    "\n",
    "df[\"Weekend\"] = df[\"Weekend\"].astype(int)\n",
    "\n",
    "df[\"Weekend\"].value_counts(normalize = True)"
   ]
  },
  {
   "cell_type": "code",
   "execution_count": null,
   "id": "d878288b-5c14-4a15-b331-503cfa8515ac",
   "metadata": {
    "tags": []
   },
   "outputs": [],
   "source": [
    "# Relación de la columna \"Weekend\" con \"Revenue\"\n",
    "\n",
    "fig, axes = plt.subplots(1, 2, figsize = (18, 7))\n",
    "\n",
    "sns.countplot(x = df[\"Weekend\"], hue = df[\"Weekend\"], ax = axes[0]);\n",
    "sns.countplot(x = df[\"Weekend\"], hue = df[\"Revenue\"], ax = axes[1]);\n",
    "plt.show()\n"
   ]
  },
  {
   "cell_type": "code",
   "execution_count": null,
   "id": "4317e0c6-cb07-4761-807e-d613d52540d4",
   "metadata": {
    "tags": []
   },
   "outputs": [],
   "source": [
    "# Month\n",
    "\n",
    "map_month = {\"Jan\" : 0, \"Feb\" : 1, \"Mar\" : 2, \"Apr\" : 3, \"May\" : 4, \"June\" : 5, \n",
    "             \"Jul\" : 6, \"Aug\" : 7, \"Sep\" : 8, \"Oct\" : 9, \"Nov\" : 10, \"Dec\" : 11}\n",
    "\n",
    "df[\"Month\"] = df[\"Month\"].apply(lambda x : map_month[x])\n",
    "\n",
    "df[\"Month\"].value_counts()"
   ]
  },
  {
   "cell_type": "code",
   "execution_count": null,
   "id": "f4fabad3-9873-4dbf-9230-8ff084814a63",
   "metadata": {
    "tags": []
   },
   "outputs": [],
   "source": [
    "# Relación de la columna \"Month\" con \"Revenue\"\n",
    "\n",
    "fig, axes = plt.subplots(1, 2, figsize = (18, 7))\n",
    "\n",
    "sns.countplot(x = df[\"Month\"], hue = df[\"Month\"], ax = axes[0]);\n",
    "sns.countplot(x = df[\"Month\"], hue = df[\"Revenue\"], ax = axes[1]);\n",
    "\n",
    "plt.show()"
   ]
  },
  {
   "cell_type": "code",
   "execution_count": null,
   "id": "250e83d7-b1f4-4b7f-8b0d-e68052f88f9e",
   "metadata": {
    "tags": []
   },
   "outputs": [],
   "source": [
    "# VisitorType\n",
    "\n",
    "df[\"VisitorType\"].value_counts()"
   ]
  },
  {
   "cell_type": "code",
   "execution_count": null,
   "id": "f16f1ee9-9510-485e-92b5-214109157d76",
   "metadata": {
    "tags": []
   },
   "outputs": [],
   "source": [
    "# Relación de la columna \"VisitorType\" con \"Revenue\"\n",
    "\n",
    "fig, axes = plt.subplots(1, 2, figsize = (18, 7))\n",
    "\n",
    "sns.countplot(x = df[\"VisitorType\"], hue = df[\"VisitorType\"], ax = axes[0]);\n",
    "sns.countplot(x = df[\"VisitorType\"], hue = df[\"Revenue\"], ax = axes[1]);\n",
    "\n",
    "plt.show()"
   ]
  },
  {
   "cell_type": "code",
   "execution_count": null,
   "id": "b6583428-ffcf-4b8f-8123-e45ba9525571",
   "metadata": {},
   "outputs": [],
   "source": [
    "# VisitorType\n",
    "\n",
    "df = pd.get_dummies(data = df, prefix = \"VisitorType\", columns = [\"VisitorType\"], dtype = int)\n",
    "\n",
    "df.head(3)"
   ]
  },
  {
   "cell_type": "code",
   "execution_count": null,
   "id": "cbfb3f33-3d4e-4118-83d9-71cf14006b5a",
   "metadata": {
    "tags": []
   },
   "outputs": [],
   "source": [
    "df.columns"
   ]
  },
  {
   "cell_type": "code",
   "execution_count": null,
   "id": "5f01d737-2d79-440d-83a4-9bba2bb2a2a2",
   "metadata": {
    "tags": []
   },
   "outputs": [],
   "source": [
    "# Mapa de correlación\n",
    "\n",
    "plt.figure(figsize = (12, 8))\n",
    "\n",
    "sns.heatmap(data = df.corr().round(2), annot = True)\n",
    "plt.show()"
   ]
  },
  {
   "cell_type": "code",
   "execution_count": null,
   "id": "c96f1d06-cf29-4d08-b997-4eb6819af85a",
   "metadata": {
    "tags": []
   },
   "outputs": [],
   "source": [
    "# Relación de la columna \"Administrative\" con \"Revenue\"\n",
    "\n",
    "fig, axes = plt.subplots(1, 2, figsize = (18, 7))\n",
    "\n",
    "sns.countplot(x = df[\"Administrative\"], hue = df[\"Administrative\"], ax = axes[0]);\n",
    "sns.countplot(x = df[\"Administrative\"], hue = df[\"Revenue\"], ax = axes[1]);\n",
    "plt.show()"
   ]
  },
  {
   "cell_type": "code",
   "execution_count": null,
   "id": "654674e6-d961-4dd6-85bb-0fdaef2874f7",
   "metadata": {
    "tags": []
   },
   "outputs": [],
   "source": [
    "# Relación de la columna \"Administrative_Duration\" con \"Revenue\"\n",
    "\n",
    "fig, axes = plt.subplots(1, 2, figsize = (18, 7))\n",
    "\n",
    "sns.histplot(x = df[\"Administrative_Duration\"], kde = True, ax = axes[0]);\n",
    "sns.boxplot(y = df[\"Administrative_Duration\"], x = df[\"Revenue\"], hue = df[\"Revenue\"], ax = axes[1]);\n",
    "plt.show()\n",
    "\n",
    "plt.figure(figsize = (18, 7))\n",
    "\n",
    "sns.boxplot(x = df[\"Administrative_Duration\"]);\n",
    "plt.show()"
   ]
  },
  {
   "cell_type": "code",
   "execution_count": null,
   "id": "c89a0f00-9cab-45b9-9a67-3a8ddf0ebb65",
   "metadata": {
    "tags": []
   },
   "outputs": [],
   "source": [
    "# Transformación Logaritmica \"Administrative_Duration\"\n",
    "\n",
    "df[\"log_Administrative_Duration\"] = df[\"Administrative_Duration\"].apply(lambda x : np.log(x + 1))\n",
    "\n",
    "# Relación de la columna \"log_Administrative_Duration\" con \"Revenue\"\n",
    "\n",
    "fig, axes = plt.subplots(1, 2, figsize = (18, 7))\n",
    "\n",
    "sns.histplot(x = df[\"log_Administrative_Duration\"], kde = True, ax = axes[0]);\n",
    "sns.boxplot(y = df[\"log_Administrative_Duration\"], x = df[\"Revenue\"], hue = df[\"Revenue\"], ax = axes[1]);\n",
    "plt.show()\n",
    "\n",
    "plt.figure(figsize = (18, 7))\n",
    "\n",
    "sns.boxplot(x = df[\"log_Administrative_Duration\"]);\n",
    "plt.show()"
   ]
  },
  {
   "cell_type": "code",
   "execution_count": null,
   "id": "48bf6359-7657-46b6-bc1b-3206e2821d06",
   "metadata": {
    "tags": []
   },
   "outputs": [],
   "source": [
    "# Relación de la columna \"Informational\" con \"Revenue\"\n",
    "\n",
    "fig, axes = plt.subplots(1, 2, figsize = (18, 7))\n",
    "\n",
    "sns.countplot(x = df[\"Informational\"], hue = df[\"Informational\"], ax = axes[0]);\n",
    "sns.countplot(x = df[\"Informational\"], hue = df[\"Revenue\"], ax = axes[1]);\n",
    "plt.show()"
   ]
  },
  {
   "cell_type": "code",
   "execution_count": null,
   "id": "1d831f16-79b9-422d-9add-8c084613526d",
   "metadata": {
    "tags": []
   },
   "outputs": [],
   "source": [
    "# Relación de la columna \"Informational_Duration\" con \"Revenue\"\n",
    "\n",
    "fig, axes = plt.subplots(1, 2, figsize = (18, 7))\n",
    "\n",
    "sns.histplot(x = df[\"Informational_Duration\"], kde = True, ax = axes[0]);\n",
    "sns.boxplot(y = df[\"Informational_Duration\"], x = df[\"Revenue\"], hue = df[\"Revenue\"], ax = axes[1]);\n",
    "plt.show()\n",
    "\n",
    "plt.figure(figsize = (18, 7))\n",
    "\n",
    "sns.boxplot(x = df[\"Informational_Duration\"]);\n",
    "plt.show()"
   ]
  },
  {
   "cell_type": "code",
   "execution_count": null,
   "id": "141e4457-1d6e-4c5f-9c01-ddc3bc49ad97",
   "metadata": {
    "tags": []
   },
   "outputs": [],
   "source": [
    "# Transformación Logaritmica \"Informational_Duration\"\n",
    "\n",
    "df[\"log_Informational_Duration\"] = df[\"Informational_Duration\"].apply(lambda x : np.log(x + 1))\n",
    "\n",
    "# Relación de la columna \"log_Informational_Duration\" con \"Revenue\"\n",
    "\n",
    "fig, axes = plt.subplots(1, 2, figsize = (18, 7))\n",
    "\n",
    "sns.histplot(x = df[\"log_Informational_Duration\"], hue = df[\"Revenue\"], kde = True, ax = axes[0]);\n",
    "sns.boxplot(y = df[\"log_Informational_Duration\"], x = df[\"Revenue\"], hue = df[\"Revenue\"], ax = axes[1]);\n",
    "plt.show()\n",
    "\n",
    "plt.figure(figsize = (18, 7))\n",
    "\n",
    "sns.boxplot(x = df[\"log_Informational_Duration\"]);\n",
    "plt.show()"
   ]
  },
  {
   "cell_type": "code",
   "execution_count": null,
   "id": "2f799b93-0daa-4683-b272-c5cc27c1c206",
   "metadata": {
    "tags": []
   },
   "outputs": [],
   "source": [
    "# Relación de la columna \"ProductRelated\" con \"Revenue\"\n",
    "\n",
    "fig, axes = plt.subplots(1, 2, figsize = (18, 7))\n",
    "\n",
    "sns.countplot(x = df[\"ProductRelated\"], hue = df[\"ProductRelated\"], ax = axes[0]);\n",
    "sns.countplot(x = df[\"ProductRelated\"], hue = df[\"Revenue\"], ax = axes[1]);\n",
    "plt.show()"
   ]
  },
  {
   "cell_type": "code",
   "execution_count": null,
   "id": "57a2a0e6-1027-4f9b-8263-c529c8415400",
   "metadata": {
    "tags": []
   },
   "outputs": [],
   "source": [
    "# Relación de la columna \"ProductRelated_Duration\" con \"Revenue\"\n",
    "\n",
    "fig, axes = plt.subplots(1, 2, figsize = (18, 7))\n",
    "\n",
    "sns.histplot(x = df[\"ProductRelated_Duration\"], kde = True, ax = axes[0]);\n",
    "sns.boxplot(y = df[\"ProductRelated_Duration\"], x = df[\"Revenue\"], hue = df[\"Revenue\"], ax = axes[1]);\n",
    "plt.show()\n",
    "\n",
    "plt.figure(figsize = (18, 7))\n",
    "\n",
    "sns.boxplot(x = df[\"ProductRelated_Duration\"]);\n",
    "plt.show()"
   ]
  },
  {
   "cell_type": "code",
   "execution_count": null,
   "id": "00b52e7d-9cd9-4a7a-9519-48e39550d840",
   "metadata": {
    "tags": []
   },
   "outputs": [],
   "source": [
    "# Transformación Logaritmica \"ProductRelated_Duration\"\n",
    "\n",
    "df[\"log_ProductRelated_Duration\"] = df[\"ProductRelated_Duration\"].apply(lambda x : np.log(x + 1))\n",
    "\n",
    "# Relación de la columna \"log_ProductRelated_Duration\" con \"Revenue\"\n",
    "\n",
    "fig, axes = plt.subplots(1, 2, figsize = (18, 7))\n",
    "\n",
    "sns.histplot(x = df[\"log_ProductRelated_Duration\"], hue = df[\"Revenue\"], kde = True, ax = axes[0]);\n",
    "sns.boxplot(y = df[\"log_ProductRelated_Duration\"], x = df[\"Revenue\"], hue = df[\"Revenue\"], ax = axes[1]);\n",
    "plt.show()\n",
    "\n",
    "plt.figure(figsize = (18, 7))\n",
    "\n",
    "sns.boxplot(x = df[\"log_ProductRelated_Duration\"]);\n",
    "plt.show()"
   ]
  },
  {
   "cell_type": "code",
   "execution_count": null,
   "id": "58dbc82f-d819-4091-a894-03cba10e704c",
   "metadata": {
    "tags": []
   },
   "outputs": [],
   "source": [
    "# Relación de la columna \"BounceRates\" con \"Revenue\"\n",
    "\n",
    "fig, axes = plt.subplots(1, 2, figsize = (18, 7))\n",
    "\n",
    "sns.histplot(x = df[\"BounceRates\"], hue = df[\"Revenue\"], kde = True, ax = axes[0]);\n",
    "sns.boxplot(y = df[\"BounceRates\"], x = df[\"Revenue\"], hue = df[\"Revenue\"], ax = axes[1]);\n",
    "plt.show()\n",
    "\n",
    "plt.figure(figsize = (18, 7))\n",
    "\n",
    "sns.boxplot(x = df[\"BounceRates\"]);\n",
    "plt.show()"
   ]
  },
  {
   "cell_type": "code",
   "execution_count": null,
   "id": "604c8671-0a2f-4e10-af04-fa5dd582dee4",
   "metadata": {
    "tags": []
   },
   "outputs": [],
   "source": [
    "# Relación de la columna \"PageValues\" con \"Revenue\"\n",
    "\n",
    "fig, axes = plt.subplots(1, 2, figsize = (18, 7))\n",
    "\n",
    "sns.histplot(x = df[\"PageValues\"], hue = df[\"Revenue\"], kde = True, ax = axes[0]);\n",
    "sns.boxplot(y = df[\"PageValues\"], x = df[\"Revenue\"], hue = df[\"Revenue\"], ax = axes[1]);\n",
    "plt.show()\n",
    "\n",
    "plt.figure(figsize = (18, 7))\n",
    "\n",
    "sns.boxplot(x = df[\"PageValues\"]);\n",
    "plt.show()"
   ]
  },
  {
   "cell_type": "code",
   "execution_count": null,
   "id": "a5876619-1ddf-44f8-9fb5-38c1e9793070",
   "metadata": {
    "tags": []
   },
   "outputs": [],
   "source": [
    "# Relación de la columna \"SpecialDay\" con \"Revenue\"\n",
    "\n",
    "fig, axes = plt.subplots(1, 2, figsize = (18, 7))\n",
    "\n",
    "sns.countplot(x = df[\"SpecialDay\"], hue = df[\"SpecialDay\"], ax = axes[0]);\n",
    "sns.countplot(x = df[\"SpecialDay\"], hue = df[\"Revenue\"], ax = axes[1]);\n",
    "plt.show()"
   ]
  },
  {
   "cell_type": "code",
   "execution_count": null,
   "id": "d9dc800d-409d-49af-9721-ec3241dfdf65",
   "metadata": {
    "tags": []
   },
   "outputs": [],
   "source": [
    "# Relación de la columna \"OperatingSystems\" con \"Revenue\"\n",
    "\n",
    "fig, axes = plt.subplots(1, 2, figsize = (18, 7))\n",
    "\n",
    "sns.countplot(x = df[\"OperatingSystems\"], hue = df[\"OperatingSystems\"], ax = axes[0]);\n",
    "sns.countplot(x = df[\"OperatingSystems\"], hue = df[\"Revenue\"], ax = axes[1]);\n",
    "plt.show()"
   ]
  },
  {
   "cell_type": "code",
   "execution_count": null,
   "id": "f6809b6b-6eb6-4f0a-bf2e-70a8b83d808c",
   "metadata": {
    "tags": []
   },
   "outputs": [],
   "source": [
    "# Relación de la columna \"Browser\" con \"Revenue\"\n",
    "\n",
    "fig, axes = plt.subplots(1, 2, figsize = (18, 7))\n",
    "\n",
    "sns.countplot(x = df[\"Browser\"], hue = df[\"Browser\"], ax = axes[0]);\n",
    "sns.countplot(x = df[\"Browser\"], hue = df[\"Revenue\"], ax = axes[1]);\n",
    "plt.show()"
   ]
  },
  {
   "cell_type": "code",
   "execution_count": null,
   "id": "54baf016-1bc2-44e5-97fa-020eecc0ec16",
   "metadata": {
    "tags": []
   },
   "outputs": [],
   "source": [
    "# Relación de la columna \"Region\" con \"Revenue\"\n",
    "\n",
    "fig, axes = plt.subplots(1, 2, figsize = (18, 7))\n",
    "\n",
    "sns.countplot(x = df[\"Region\"], hue = df[\"Region\"], ax = axes[0]);\n",
    "sns.countplot(x = df[\"Region\"], hue = df[\"Revenue\"], ax = axes[1]);\n",
    "plt.show()"
   ]
  },
  {
   "cell_type": "code",
   "execution_count": null,
   "id": "45a7f7e8-f30b-4a88-9f27-e46ae4cfd99c",
   "metadata": {
    "tags": []
   },
   "outputs": [],
   "source": [
    "# Relación de la columna \"TrafficType\" con \"Revenue\"\n",
    "\n",
    "fig, axes = plt.subplots(1, 2, figsize = (18, 7))\n",
    "\n",
    "sns.countplot(x = df[\"TrafficType\"], hue = df[\"TrafficType\"], ax = axes[0]);\n",
    "sns.countplot(x = df[\"TrafficType\"], hue = df[\"Revenue\"], ax = axes[1]);\n",
    "plt.show()"
   ]
  },
  {
   "cell_type": "code",
   "execution_count": null,
   "id": "8636fb12-b7f2-4204-8e26-c3cd60ee5e2d",
   "metadata": {
    "tags": []
   },
   "outputs": [],
   "source": [
    "# Relación de la columna \"Weekend\" con \"Revenue\"\n",
    "\n",
    "fig, axes = plt.subplots(1, 2, figsize = (18, 7))\n",
    "\n",
    "sns.countplot(x = df[\"Weekend\"], hue = df[\"Weekend\"], ax = axes[0]);\n",
    "sns.countplot(x = df[\"Weekend\"], hue = df[\"Revenue\"], ax = axes[1]);\n",
    "plt.show()"
   ]
  },
  {
   "cell_type": "code",
   "execution_count": null,
   "id": "74370d0f-a841-45eb-b69d-be3a405984cb",
   "metadata": {
    "tags": []
   },
   "outputs": [],
   "source": [
    "columnas = [x for x in df.columns if x not in (\"Administrative_Duration\", \"Informational_Duration\", \"ProductRelated_Duration\")]\n",
    "\n",
    "print(columnas)"
   ]
  },
  {
   "cell_type": "code",
   "execution_count": null,
   "id": "8c96341c-ac9b-4a3d-9c24-9ab9f08fbfef",
   "metadata": {
    "tags": []
   },
   "outputs": [],
   "source": [
    "df = df[columnas].copy()\n",
    "\n",
    "df.head(3)"
   ]
  },
  {
   "cell_type": "markdown",
   "id": "882d260a-958f-432f-9782-1e9534204dee",
   "metadata": {},
   "source": [
    "### X, y"
   ]
  },
  {
   "cell_type": "code",
   "execution_count": null,
   "id": "5f83c360-b6af-433f-beb1-940dcdc54cad",
   "metadata": {
    "tags": []
   },
   "outputs": [],
   "source": [
    "X = df.drop(\"Revenue\", axis = 1)\n",
    "y = df[[\"Revenue\"]]\n",
    "\n",
    "print(f\"X: {X.shape}, y: {y.shape}\")"
   ]
  },
  {
   "cell_type": "code",
   "execution_count": null,
   "id": "546c89ba-75ef-47d7-8494-12833fc739ac",
   "metadata": {
    "tags": []
   },
   "outputs": [],
   "source": [
    "from sklearn.model_selection import train_test_split\n",
    "\n",
    "X_train, X_test, y_train, y_test = train_test_split(X, y, test_size = 0.20, random_state = 42, stratify = y)\n",
    "\n",
    "print(f\"X_train: {X_train.shape}, y_train: {y_train.shape}\")\n",
    "print(f\"X_test: {X_test.shape}, y_test: {y_test.shape}\")"
   ]
  },
  {
   "cell_type": "markdown",
   "id": "9d1b547e-9329-48a8-8db4-209987eeb302",
   "metadata": {
    "tags": []
   },
   "source": [
    "### MinMaxScaler"
   ]
  },
  {
   "cell_type": "code",
   "execution_count": null,
   "id": "bf0a9511-a956-42d0-b7da-88081b5580ed",
   "metadata": {
    "tags": []
   },
   "outputs": [],
   "source": [
    "from sklearn.preprocessing import MinMaxScaler\n",
    "\n",
    "X_scaler = MinMaxScaler()\n",
    "\n",
    "X_train = X_scaler.fit_transform(X_train)\n",
    "\n",
    "X_test = X_scaler.transform(X_test)"
   ]
  },
  {
   "cell_type": "markdown",
   "id": "9deeea7d-cb70-4ec7-9811-8960405d9b71",
   "metadata": {},
   "source": [
    "### Modelos"
   ]
  },
  {
   "cell_type": "code",
   "execution_count": null,
   "id": "65da6dbd-305d-4b19-b74d-697883e8a9d9",
   "metadata": {
    "tags": []
   },
   "outputs": [],
   "source": [
    "%%time\n",
    "\n",
    "# Modelos\n",
    "from sklearn.linear_model import LogisticRegression\n",
    "from sklearn.neighbors import KNeighborsClassifier\n",
    "from sklearn.neighbors import NearestCentroid\n",
    "from sklearn.naive_bayes import GaussianNB\n",
    "from sklearn.tree import DecisionTreeClassifier\n",
    "from sklearn.ensemble import RandomForestClassifier\n",
    "from sklearn.ensemble import AdaBoostClassifier\n",
    "from sklearn.ensemble import GradientBoostingClassifier\n",
    "from sklearn.svm import SVC\n",
    "\n",
    "# Métricas\n",
    "from sklearn.metrics import accuracy_score\n",
    "from sklearn.metrics import precision_score\n",
    "from sklearn.metrics import recall_score\n",
    "from sklearn.metrics import roc_auc_score\n",
    "from sklearn.metrics import confusion_matrix\n",
    "from sklearn.metrics import f1_score\n",
    "from sklearn.metrics import jaccard_score\n",
    "\n",
    "modelos = [LogisticRegression(), KNeighborsClassifier(), NearestCentroid(), GaussianNB(), DecisionTreeClassifier(random_state = 42),\n",
    "           RandomForestClassifier(random_state = 42), AdaBoostClassifier(random_state = 42), GradientBoostingClassifier(random_state = 42), SVC()]\n",
    "\n",
    "data = list()\n",
    "\n",
    "for model in modelos:\n",
    "    \n",
    "    model.fit(X_train, y_train)\n",
    "    \n",
    "    yhat = model.predict(X_test)\n",
    "    \n",
    "    acc = accuracy_score(y_test, yhat)\n",
    "    pre = precision_score(y_test, yhat)\n",
    "    rec = recall_score(y_test, yhat)\n",
    "    roc = roc_auc_score(y_test, yhat)\n",
    "    f1s = f1_score(y_test, yhat)\n",
    "    jac = jaccard_score(y_test, yhat)\n",
    "    mat = confusion_matrix(y_test, yhat)\n",
    "    \n",
    "    data.append([str(model), model, acc, pre, rec, roc, f1s, jac, mat])\n",
    "    \n",
    "df_metricas = pd.DataFrame(data = data,\n",
    "                           columns = [\"nombre\", \"modelo\", \"accuracy\", \"precision\", \"recall\", \"roc_auc\", \"f1_score\", \"jaccard\", \"confusion_matrix\"])\n",
    "\n",
    "df_metricas"
   ]
  },
  {
   "cell_type": "code",
   "execution_count": null,
   "id": "9a0599cf-c7ae-44d5-805d-650b0029326b",
   "metadata": {
    "tags": []
   },
   "outputs": [],
   "source": [
    "df_metricas.sort_values(\"roc_auc\", ascending = False)"
   ]
  },
  {
   "cell_type": "code",
   "execution_count": null,
   "id": "7a3200c0-7658-456c-9256-a872df1691cf",
   "metadata": {
    "tags": []
   },
   "outputs": [],
   "source": [
    "df_metricas.iloc[7, -1]"
   ]
  },
  {
   "cell_type": "code",
   "execution_count": null,
   "id": "e2d9a83d-2891-4bfd-a486-eaee4e076da2",
   "metadata": {
    "tags": []
   },
   "outputs": [],
   "source": [
    "# Calculamos Feature Importance\n",
    "importances = df_metricas.iloc[7, 1].feature_importances_\n",
    "\n",
    "df_importances = pd.DataFrame(data = zip([x for x in df.columns if x != \"Revenue\"], importances),\n",
    "                              columns = [\"Columnas\", \"Importancia\"])\n",
    "\n",
    "df_importances = df_importances.sort_values(\"Importancia\", ascending = False)\n",
    "\n",
    "print(\"Feature Importance:\")\n",
    "\n",
    "for index, (feature, importance) in enumerate(df_importances.values):\n",
    "    \n",
    "    print(f\"{index + 1:2}. feature {index:2} ({importance:20}): {feature}\")\n",
    "\n",
    "plt.figure(figsize = (12, 8))\n",
    "\n",
    "plt.title(\"Feature Importances\")\n",
    "sns.barplot(x = df_importances[\"Importancia\"], y = df_importances[\"Columnas\"], color = \"red\")\n",
    "\n",
    "plt.grid()\n",
    "plt.show()"
   ]
  },
  {
   "cell_type": "markdown",
   "id": "18d47bf8-48f4-4940-b16a-ebd3e336dd84",
   "metadata": {},
   "source": [
    "### SMOTE"
   ]
  },
  {
   "cell_type": "code",
   "execution_count": null,
   "id": "ce49e6b8-412a-4379-951d-67c39dcbd8ab",
   "metadata": {
    "tags": []
   },
   "outputs": [],
   "source": [
    "from collections import Counter\n",
    "from imblearn.over_sampling import SMOTE\n",
    "\n",
    "# Repetimos el train_test_split()\n",
    "\n",
    "X_train, X_test, y_train, y_test = train_test_split(X, y, test_size = 0.20, random_state = 42, stratify = y)\n",
    "\n",
    "print(f\"Shape: {X_train.shape}\")\n",
    "print(Counter(y_train[\"Revenue\"]))\n",
    "\n",
    "smote = SMOTE(sampling_strategy = 0.3, random_state = 42)\n",
    "\n",
    "X_train_balanceado, y_train_balanceado = smote.fit_resample(X_train, y_train[\"Revenue\"])\n",
    "\n",
    "print(f\"Shape: {X_train_balanceado.shape}\")\n",
    "print(Counter(y_train_balanceado))"
   ]
  },
  {
   "cell_type": "code",
   "execution_count": null,
   "id": "28186b28-888c-477a-b425-7654452b9258",
   "metadata": {
    "tags": []
   },
   "outputs": [],
   "source": [
    "# MinMaxScaler()\n",
    "\n",
    "X_scaler = MinMaxScaler()\n",
    "\n",
    "X_train_balanceado = X_scaler.fit_transform(X_train_balanceado)\n",
    "\n",
    "X_test = X_scaler.transform(X_test)"
   ]
  },
  {
   "cell_type": "code",
   "execution_count": null,
   "id": "6a10e901-6c79-48bb-bb4b-d883e19cc392",
   "metadata": {
    "tags": []
   },
   "outputs": [],
   "source": [
    "X_train_balanceado.shape, y_train_balanceado.shape"
   ]
  },
  {
   "cell_type": "code",
   "execution_count": null,
   "id": "7ff8051a-d4d7-4c99-8661-7e9a60892c50",
   "metadata": {
    "tags": []
   },
   "outputs": [],
   "source": [
    "%%time\n",
    "\n",
    "modelos = [LogisticRegression(), KNeighborsClassifier(), NearestCentroid(), GaussianNB(), DecisionTreeClassifier(random_state = 42),\n",
    "           RandomForestClassifier(random_state = 42), AdaBoostClassifier(random_state = 42), GradientBoostingClassifier(random_state = 42), SVC()]\n",
    "\n",
    "data = list()\n",
    "\n",
    "for model in modelos:\n",
    "    \n",
    "    model.fit(X_train_balanceado, y_train_balanceado)\n",
    "    \n",
    "    yhat = model.predict(X_test)\n",
    "    \n",
    "    acc = accuracy_score(y_test, yhat)\n",
    "    pre = precision_score(y_test, yhat)\n",
    "    rec = recall_score(y_test, yhat)\n",
    "    roc = roc_auc_score(y_test, yhat)\n",
    "    f1s = f1_score(y_test, yhat)\n",
    "    jac = jaccard_score(y_test, yhat)\n",
    "    mat = confusion_matrix(y_test, yhat)\n",
    "    \n",
    "    data.append([str(model), model, acc, pre, rec, roc, f1s, jac, mat])\n",
    "    \n",
    "df_metricas_smote = pd.DataFrame(data = data,\n",
    "                                 columns = [\"nombre\", \"modelo\", \"accuracy\", \"precision\", \"recall\", \"roc_auc\", \"f1_score\", \"jaccard\", \"confusion_matrix\"])\n",
    "\n",
    "df_metricas_smote"
   ]
  },
  {
   "cell_type": "code",
   "execution_count": null,
   "id": "a8eb0caf-2eb9-40f7-8eb2-088359f8d640",
   "metadata": {
    "tags": []
   },
   "outputs": [],
   "source": [
    "df_metricas_smote.sort_values(\"roc_auc\", ascending = False)"
   ]
  },
  {
   "cell_type": "code",
   "execution_count": null,
   "id": "ff8b36c9-7770-45df-b1b4-0386e345ac62",
   "metadata": {
    "tags": []
   },
   "outputs": [],
   "source": [
    "df_metricas.iloc[7, -1]"
   ]
  },
  {
   "cell_type": "code",
   "execution_count": null,
   "id": "df22cde8-bb54-4589-8b34-d4fc1266a078",
   "metadata": {
    "tags": []
   },
   "outputs": [],
   "source": [
    "# Calculamos Feature Importance\n",
    "importances = df_metricas.iloc[5, 1].feature_importances_\n",
    "\n",
    "df_importances = pd.DataFrame(data = zip([x for x in df.columns if x != \"Revenue\"], importances),\n",
    "                              columns = [\"Columnas\", \"Importancia\"])\n",
    "\n",
    "df_importances = df_importances.sort_values(\"Importancia\", ascending = False)\n",
    "\n",
    "print(\"Feature Importance:\")\n",
    "\n",
    "for index, (feature, importance) in enumerate(df_importances.values):\n",
    "    \n",
    "    print(f\"{index + 1:2}. feature {index:2} ({importance:20}): {feature}\")\n",
    "\n",
    "plt.figure(figsize = (12, 8))\n",
    "\n",
    "plt.title(\"Feature Importances\")\n",
    "sns.barplot(x = df_importances[\"Importancia\"], y = df_importances[\"Columnas\"], color = \"red\")\n",
    "\n",
    "plt.grid()\n",
    "plt.show()"
   ]
  },
  {
   "cell_type": "markdown",
   "id": "cdda84c4-8d6d-4d77-8311-e08ea75bdfce",
   "metadata": {},
   "source": [
    "### PairPlot"
   ]
  },
  {
   "cell_type": "code",
   "execution_count": null,
   "id": "6ecbcbb0-e1e8-4f8b-afb5-8077cbade4ee",
   "metadata": {
    "tags": []
   },
   "outputs": [],
   "source": [
    "%%time\n",
    "\n",
    "sns.pairplot(data = df, hue = \"Revenue\")\n",
    "plt.show()"
   ]
  },
  {
   "cell_type": "markdown",
   "id": "c9c1dd3c-3811-43b1-9a21-11076e03a883",
   "metadata": {},
   "source": [
    "### Clustering - KMeans"
   ]
  },
  {
   "cell_type": "code",
   "execution_count": null,
   "id": "2b5b919e-c154-4e25-a670-886a1ff7cbac",
   "metadata": {
    "tags": []
   },
   "outputs": [],
   "source": [
    "from sklearn.cluster import KMeans\n",
    "\n",
    "# Método del codo\n",
    "\n",
    "inercias = list()\n",
    "\n",
    "for k in range(2, 11):\n",
    "    \n",
    "    kmeans = KMeans(n_clusters = k)\n",
    "    \n",
    "    kmeans.fit(df)\n",
    "    \n",
    "    inercias.append(kmeans.inertia_)"
   ]
  },
  {
   "cell_type": "code",
   "execution_count": null,
   "id": "04ee97c6-a01e-4006-9bdc-a15c9c70b8a5",
   "metadata": {
    "tags": []
   },
   "outputs": [],
   "source": [
    "plt.plot(range(2, 11), inercias, color = \"red\")\n",
    "\n",
    "plt.grid()\n",
    "plt.show()"
   ]
  },
  {
   "cell_type": "markdown",
   "id": "40e573fa-23a1-49c6-8d1d-fc3be2c81c1f",
   "metadata": {},
   "source": [
    "### Red Neuronal"
   ]
  },
  {
   "cell_type": "code",
   "execution_count": null,
   "id": "42acae00-794f-47ac-83ad-af8d6de2daaf",
   "metadata": {},
   "outputs": [],
   "source": [
    "from keras.models import Sequential\n",
    "from keras.layers import Dense, Flatten, Dropout, Input\n",
    "from tensorflow.keras.utils import to_categorical"
   ]
  },
  {
   "cell_type": "markdown",
   "id": "a362fc37-0767-41c8-882c-e0d2ce5ef2c5",
   "metadata": {},
   "source": [
    "### Datos Originales"
   ]
  },
  {
   "cell_type": "code",
   "execution_count": null,
   "id": "0d9a7059-3671-4d0e-bd5b-2ba75687c546",
   "metadata": {
    "tags": []
   },
   "outputs": [],
   "source": [
    "# One Hot Encoding \n",
    "\n",
    "y_train = to_categorical(y_train)\n",
    "y_test = to_categorical(y_test)"
   ]
  },
  {
   "cell_type": "code",
   "execution_count": null,
   "id": "d0fc887a-1f30-480e-9444-9b5bf8436720",
   "metadata": {
    "tags": []
   },
   "outputs": [],
   "source": [
    "X_train.shape, y_train.shape"
   ]
  },
  {
   "cell_type": "code",
   "execution_count": null,
   "id": "08d02900-c318-4749-ae0f-f3b8f156f3f2",
   "metadata": {
    "tags": []
   },
   "outputs": [],
   "source": [
    "X_test.shape, y_test.shape"
   ]
  },
  {
   "cell_type": "code",
   "execution_count": null,
   "id": "6a2df9d2-0b34-4c16-a5a3-22064cdc34db",
   "metadata": {},
   "outputs": [],
   "source": [
    "model = Sequential()\n",
    "\n",
    "model.add(Input(shape = (X_train.shape[1], )))\n",
    "\n",
    "model.add(Dense(units = 512, activation = \"relu\"))\n",
    "model.add(Dropout(0.5))\n",
    "model.add(Dense(units = 256, activation = \"relu\"))\n",
    "model.add(Dropout(0.5))\n",
    "model.add(Dense(units = 128, activation = \"relu\"))\n",
    "model.add(Dropout(0.5))\n",
    "model.add(Dense(units = 64, activation = \"relu\"))\n",
    "model.add(Dropout(0.5))\n",
    "\n",
    "model.add(Dense(units = y_test.shape[1], activation = \"softmax\"))\n",
    "\n",
    "model.summary()\n",
    "\n",
    "# Compilamos el modelo\n",
    "model.compile(optimizer = \"adam\",\n",
    "              loss      = \"categorical_crossentropy\",\n",
    "              metrics   = [\"accuracy\"])"
   ]
  },
  {
   "cell_type": "code",
   "execution_count": null,
   "id": "f3e55026-a464-4211-b1e5-8b779d270267",
   "metadata": {
    "tags": []
   },
   "outputs": [],
   "source": [
    "# Entrenamos el modelo\n",
    "\n",
    "history = model.fit(X_train,\n",
    "                    y_train,\n",
    "                    validation_data = (X_test, y_test),\n",
    "                    epochs = 100,\n",
    "                    verbose = 1)"
   ]
  },
  {
   "cell_type": "code",
   "execution_count": null,
   "id": "a5057208-cd3c-4538-b1a9-53c4078bad4f",
   "metadata": {
    "tags": []
   },
   "outputs": [],
   "source": [
    "# Metricas\n",
    "scores = model.evaluate(X_test, y_test, verbose = 1)\n",
    "\n",
    "scores"
   ]
  },
  {
   "cell_type": "code",
   "execution_count": null,
   "id": "f77adf26-5fe6-4220-8ac7-64061d6d7439",
   "metadata": {},
   "outputs": [],
   "source": [
    "# loss\n",
    "plt.plot(history.history[\"loss\"], label = \"loss\")\n",
    "plt.plot(history.history[\"val_loss\"], label = \"val_loss\")\n",
    "plt.legend()\n",
    "plt.show()"
   ]
  },
  {
   "cell_type": "code",
   "execution_count": null,
   "id": "f8bdd1c1-4036-4896-a555-d502901f9c3d",
   "metadata": {},
   "outputs": [],
   "source": [
    "# accuracy\n",
    "plt.plot(history.history[\"accuracy\"], label = \"acc\")\n",
    "plt.plot(history.history[\"val_accuracy\"], label = \"val_acc\")\n",
    "plt.legend()\n",
    "plt.show()"
   ]
  },
  {
   "cell_type": "markdown",
   "id": "20e529c3-f42c-40ee-95db-393e900859e9",
   "metadata": {},
   "source": [
    "### Métricas Datos Originales"
   ]
  },
  {
   "cell_type": "code",
   "execution_count": null,
   "id": "513c291d-3b47-4e39-b7e2-650d35c01974",
   "metadata": {
    "tags": []
   },
   "outputs": [],
   "source": [
    "yhat = model.predict(X_test)\n",
    "\n",
    "yhat.shape"
   ]
  },
  {
   "cell_type": "code",
   "execution_count": null,
   "id": "699201e0-9ee7-4adf-8afc-89dd496e99d3",
   "metadata": {
    "tags": []
   },
   "outputs": [],
   "source": [
    "yhat = [np.argmax(x) for x in yhat]\n",
    "y_test = [np.argmax(x) for x in y_test]"
   ]
  },
  {
   "cell_type": "code",
   "execution_count": null,
   "id": "a87029aa-95dd-4e49-998e-6facfce6e354",
   "metadata": {
    "tags": []
   },
   "outputs": [],
   "source": [
    "print(f\"accuracy: {accuracy_score(y_test, yhat)}\")\n",
    "print(f\"recall: {recall_score(y_test, yhat)}\")\n",
    "print(f\"f1-score: {f1_score(y_test, yhat)}\")\n",
    "print(f\"precision: {precision_score(y_test, yhat)}\")\n",
    "print(f\"roc_auc: {roc_auc_score(y_test, yhat)}\")\n",
    "print(f\"confusion_matrix: \")\n",
    "print(confusion_matrix(y_test, yhat))"
   ]
  },
  {
   "cell_type": "markdown",
   "id": "5ac8f115-9738-4093-aa6d-c70105b8e84e",
   "metadata": {},
   "source": [
    "### Datos SMOTE"
   ]
  },
  {
   "cell_type": "code",
   "execution_count": null,
   "id": "f908b462-6f10-4f78-9fb0-d192c85e133d",
   "metadata": {
    "tags": []
   },
   "outputs": [],
   "source": [
    "# One Hot Encoding \n",
    "\n",
    "y_train_balanceado = to_categorical(y_train_balanceado)\n",
    "y_test = to_categorical(y_test)"
   ]
  },
  {
   "cell_type": "code",
   "execution_count": null,
   "id": "116a6bca-14ed-47aa-be69-5af78fbbb04e",
   "metadata": {
    "tags": []
   },
   "outputs": [],
   "source": [
    "X_train_balanceado.shape, y_train_balanceado.shape"
   ]
  },
  {
   "cell_type": "code",
   "execution_count": null,
   "id": "d44473ec-bcd7-4d62-8a83-530ff7c528cc",
   "metadata": {
    "tags": []
   },
   "outputs": [],
   "source": [
    "X_test.shape, y_test.shape"
   ]
  },
  {
   "cell_type": "code",
   "execution_count": null,
   "id": "74ffad1b-cd86-48e7-a2a0-fcfda92b816a",
   "metadata": {
    "tags": []
   },
   "outputs": [],
   "source": [
    "model = Sequential()\n",
    "\n",
    "model.add(Input(shape = (X_train_balanceado.shape[1], )))\n",
    "\n",
    "model.add(Dense(units = 512, activation = \"relu\"))\n",
    "model.add(Dropout(0.5))\n",
    "model.add(Dense(units = 256, activation = \"relu\"))\n",
    "model.add(Dropout(0.5))\n",
    "model.add(Dense(units = 128, activation = \"relu\"))\n",
    "model.add(Dropout(0.5))\n",
    "model.add(Dense(units = 64, activation = \"relu\"))\n",
    "model.add(Dropout(0.5))\n",
    "\n",
    "model.add(Dense(units = y_test.shape[1], activation = \"softmax\"))\n",
    "\n",
    "model.summary()\n",
    "\n",
    "# Compilamos el modelo\n",
    "model.compile(optimizer = \"adam\",\n",
    "              loss      = \"categorical_crossentropy\",\n",
    "              metrics   = [\"accuracy\"])"
   ]
  },
  {
   "cell_type": "code",
   "execution_count": null,
   "id": "ade36282-fcca-457b-b7e3-558c5c1be113",
   "metadata": {
    "tags": []
   },
   "outputs": [],
   "source": [
    "# Entrenamos el modelo\n",
    "\n",
    "history = model.fit(X_train_balanceado,\n",
    "                    y_train_balanceado,\n",
    "                    validation_data = (X_test, y_test),\n",
    "                    epochs = 100,\n",
    "                    verbose = 1)"
   ]
  },
  {
   "cell_type": "code",
   "execution_count": null,
   "id": "08de69b4-dfa3-44bc-9b64-2bc30913baf3",
   "metadata": {
    "tags": []
   },
   "outputs": [],
   "source": [
    "# Metricas\n",
    "scores = model.evaluate(X_test, y_test, verbose = 1)\n",
    "\n",
    "scores"
   ]
  },
  {
   "cell_type": "code",
   "execution_count": null,
   "id": "f0cc9208-9e64-4049-a385-7218cc1d2f66",
   "metadata": {
    "tags": []
   },
   "outputs": [],
   "source": [
    "# loss\n",
    "plt.plot(history.history[\"loss\"], label = \"loss\")\n",
    "plt.plot(history.history[\"val_loss\"], label = \"val_loss\")\n",
    "plt.legend()\n",
    "plt.show()"
   ]
  },
  {
   "cell_type": "code",
   "execution_count": null,
   "id": "91b9d3f1-2b15-4c16-899c-5be6731cf47e",
   "metadata": {
    "tags": []
   },
   "outputs": [],
   "source": [
    "# accuracy\n",
    "plt.plot(history.history[\"accuracy\"], label = \"acc\")\n",
    "plt.plot(history.history[\"val_accuracy\"], label = \"val_acc\")\n",
    "plt.legend()\n",
    "plt.show()"
   ]
  },
  {
   "cell_type": "markdown",
   "id": "90638073-60b2-444f-b670-bda72d28b879",
   "metadata": {},
   "source": [
    "### Métricas Datos SMOTE"
   ]
  },
  {
   "cell_type": "code",
   "execution_count": null,
   "id": "815651e9-a16b-413a-877e-96f23104ae5c",
   "metadata": {
    "tags": []
   },
   "outputs": [],
   "source": [
    "yhat = model.predict(X_test)\n",
    "\n",
    "yhat.shape"
   ]
  },
  {
   "cell_type": "code",
   "execution_count": null,
   "id": "8cf272f4-6700-4f81-bf97-55b0ab39e05f",
   "metadata": {
    "tags": []
   },
   "outputs": [],
   "source": [
    "yhat = [np.argmax(x) for x in yhat]\n",
    "y_test = [np.argmax(x) for x in y_test]"
   ]
  },
  {
   "cell_type": "code",
   "execution_count": null,
   "id": "b80bc236-0e3f-474f-b0fa-e10a6ac41232",
   "metadata": {
    "tags": []
   },
   "outputs": [],
   "source": [
    "print(f\"accuracy: {accuracy_score(y_test, yhat)}\")\n",
    "print(f\"recall: {recall_score(y_test, yhat)}\")\n",
    "print(f\"f1-score: {f1_score(y_test, yhat)}\")\n",
    "print(f\"precision: {precision_score(y_test, yhat)}\")\n",
    "print(f\"roc_auc: {roc_auc_score(y_test, yhat)}\")\n",
    "print(f\"confusion_matrix: \")\n",
    "print(confusion_matrix(y_test, yhat))"
   ]
  },
  {
   "cell_type": "code",
   "execution_count": null,
   "id": "c43aac75-a351-45f4-b2d9-b4719621df46",
   "metadata": {},
   "outputs": [],
   "source": [
    "#########################################################################################################################################################################"
   ]
  },
  {
   "cell_type": "code",
   "execution_count": null,
   "id": "312dacd6-a3f2-4e52-a37c-b815ef62041a",
   "metadata": {},
   "outputs": [],
   "source": []
  },
  {
   "cell_type": "code",
   "execution_count": null,
   "id": "5789a98f-bbf2-46b3-b3c8-97e2bede4311",
   "metadata": {},
   "outputs": [],
   "source": []
  },
  {
   "cell_type": "code",
   "execution_count": null,
   "id": "bee9ec61-4ea4-4d73-aa4f-795efe5a8b15",
   "metadata": {},
   "outputs": [],
   "source": []
  },
  {
   "cell_type": "code",
   "execution_count": null,
   "id": "d211d38b-8f8b-41d5-98a1-966d537f7250",
   "metadata": {},
   "outputs": [],
   "source": []
  }
 ],
 "metadata": {
  "kernelspec": {
   "display_name": "Python 3 (ipykernel)",
   "language": "python",
   "name": "python3"
  },
  "language_info": {
   "codemirror_mode": {
    "name": "ipython",
    "version": 3
   },
   "file_extension": ".py",
   "mimetype": "text/x-python",
   "name": "python",
   "nbconvert_exporter": "python",
   "pygments_lexer": "ipython3",
   "version": "3.11.5"
  }
 },
 "nbformat": 4,
 "nbformat_minor": 5
}
