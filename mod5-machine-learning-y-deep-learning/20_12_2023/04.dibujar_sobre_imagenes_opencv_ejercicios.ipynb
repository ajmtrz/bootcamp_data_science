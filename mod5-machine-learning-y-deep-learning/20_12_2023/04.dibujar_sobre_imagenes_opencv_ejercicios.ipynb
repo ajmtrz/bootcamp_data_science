{
 "cells": [
  {
   "cell_type": "markdown",
   "id": "a8bd86a4",
   "metadata": {},
   "source": [
    "## Ejercicio OpenCV: Dibujar sobre imagenes.\n",
    "\n",
    "Usando la imagen **`sistema_solar.jpg`** realiza los siguiente ejercicios."
   ]
  },
  {
   "cell_type": "code",
   "execution_count": null,
   "id": "43569204-47f0-459d-bf60-91bf8aab3a7a",
   "metadata": {},
   "outputs": [],
   "source": [
    "img_path = '../Data/sistema_solar.jpg'"
   ]
  },
  {
   "cell_type": "markdown",
   "id": "90702802",
   "metadata": {},
   "source": [
    "### Ejercicio 1:\n",
    "- Lee el archivo usando **`OpenCV`**."
   ]
  },
  {
   "cell_type": "code",
   "execution_count": null,
   "id": "70d4e025",
   "metadata": {},
   "outputs": [],
   "source": []
  },
  {
   "cell_type": "code",
   "execution_count": null,
   "id": "86b13bd4",
   "metadata": {},
   "outputs": [],
   "source": []
  },
  {
   "cell_type": "code",
   "execution_count": null,
   "id": "b601ccbc",
   "metadata": {},
   "outputs": [],
   "source": []
  },
  {
   "cell_type": "markdown",
   "id": "6adb425a",
   "metadata": {},
   "source": [
    "### Ejercicio 2:\n",
    "- Gira la imagen sobre el eje x."
   ]
  },
  {
   "cell_type": "code",
   "execution_count": null,
   "id": "599638fe",
   "metadata": {},
   "outputs": [],
   "source": []
  },
  {
   "cell_type": "code",
   "execution_count": null,
   "id": "eab19237",
   "metadata": {},
   "outputs": [],
   "source": []
  },
  {
   "cell_type": "code",
   "execution_count": null,
   "id": "46d2ca9b",
   "metadata": {},
   "outputs": [],
   "source": []
  },
  {
   "cell_type": "markdown",
   "id": "aa85e242",
   "metadata": {},
   "source": [
    "### Ejercicio 3:\n",
    "- Dibuja un circulo rojo vacio sobre el planeta tierra."
   ]
  },
  {
   "cell_type": "code",
   "execution_count": null,
   "id": "f80a4271",
   "metadata": {},
   "outputs": [],
   "source": []
  },
  {
   "cell_type": "code",
   "execution_count": null,
   "id": "e943ba28",
   "metadata": {},
   "outputs": [],
   "source": []
  },
  {
   "cell_type": "code",
   "execution_count": null,
   "id": "5598c07a",
   "metadata": {},
   "outputs": [],
   "source": []
  },
  {
   "cell_type": "markdown",
   "id": "9bc6efbf",
   "metadata": {},
   "source": [
    "### Ejercicio 4:\n",
    "- Dibuja un poligono de 3 esquinas (un triangulo) que toque 3 planetas diferentes que no este vacio."
   ]
  },
  {
   "cell_type": "code",
   "execution_count": null,
   "id": "7be9c9bc",
   "metadata": {},
   "outputs": [],
   "source": []
  },
  {
   "cell_type": "code",
   "execution_count": null,
   "id": "a598d965",
   "metadata": {},
   "outputs": [],
   "source": []
  },
  {
   "cell_type": "code",
   "execution_count": null,
   "id": "b7dd69b5",
   "metadata": {},
   "outputs": [],
   "source": []
  }
 ],
 "metadata": {
  "kernelspec": {
   "display_name": "Python 3 (ipykernel)",
   "language": "python",
   "name": "python3"
  },
  "language_info": {
   "codemirror_mode": {
    "name": "ipython",
    "version": 3
   },
   "file_extension": ".py",
   "mimetype": "text/x-python",
   "name": "python",
   "nbconvert_exporter": "python",
   "pygments_lexer": "ipython3",
   "version": "3.9.7"
  }
 },
 "nbformat": 4,
 "nbformat_minor": 5
}
