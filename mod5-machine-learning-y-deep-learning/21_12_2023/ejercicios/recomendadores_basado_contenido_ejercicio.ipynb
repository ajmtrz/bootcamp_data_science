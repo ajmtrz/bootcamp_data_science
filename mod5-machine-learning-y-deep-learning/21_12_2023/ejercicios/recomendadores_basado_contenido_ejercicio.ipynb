{
 "cells": [
  {
   "cell_type": "markdown",
   "id": "afedaf33",
   "metadata": {},
   "source": [
    "## Recomendador: Basado en Contenido Ejercicio\n",
    "\n",
    "Utilizado el dataset **`movies.csv`**, realiza un algoritmo de recomendación basado en contenido para la información dada por **`usuario_input`**.\n",
    "\n",
    "Has preprocesamiento para el nombre de las peliculas y utiliza la columna **`genres`** para descomponer las peliculas en sus categorias."
   ]
  },
  {
   "cell_type": "code",
   "execution_count": null,
   "id": "9d66eb9a",
   "metadata": {},
   "outputs": [],
   "source": [
    "import numpy as np\n",
    "import pandas as pd"
   ]
  },
  {
   "cell_type": "code",
   "execution_count": null,
   "id": "9fb9d9bc",
   "metadata": {},
   "outputs": [],
   "source": [
    "df = pd.read_csv(\"../../Data/movies.csv\")\n",
    "\n",
    "df"
   ]
  },
  {
   "cell_type": "code",
   "execution_count": null,
   "id": "6e0ebc64",
   "metadata": {},
   "outputs": [],
   "source": [
    "usuario_input = [{\"title\" : \"Breakfast Club, The\", \"rating\" : 5  },\n",
    "                 {\"title\" : \"Toy Story\"          , \"rating\" : 3.5},\n",
    "                 {\"title\" : \"Jumanji\"            , \"rating\" : 2  },\n",
    "                 {\"title\" : \"Pulp Fiction\"       , \"rating\" : 5  },\n",
    "                 {\"title\" : \"Akira\"              , \"rating\" : 4.5}]    \n",
    "\n",
    "usuario_input"
   ]
  },
  {
   "cell_type": "code",
   "execution_count": null,
   "id": "cf450be0-123b-41a1-9c5c-0c768c1edeed",
   "metadata": {},
   "outputs": [],
   "source": []
  },
  {
   "cell_type": "code",
   "execution_count": null,
   "id": "e7b854fd-3436-4e10-b563-b646b8a2bd2c",
   "metadata": {},
   "outputs": [],
   "source": []
  },
  {
   "cell_type": "code",
   "execution_count": null,
   "id": "e9f78dc8-263e-4333-b635-df2fd32c34f8",
   "metadata": {},
   "outputs": [],
   "source": []
  }
 ],
 "metadata": {
  "kernelspec": {
   "display_name": "hackaboss",
   "language": "python",
   "name": "hackaboss"
  },
  "language_info": {
   "codemirror_mode": {
    "name": "ipython",
    "version": 3
   },
   "file_extension": ".py",
   "mimetype": "text/x-python",
   "name": "python",
   "nbconvert_exporter": "python",
   "pygments_lexer": "ipython3",
   "version": "3.9.12"
  }
 },
 "nbformat": 4,
 "nbformat_minor": 5
}
