{
 "cells": [
  {
   "cell_type": "markdown",
   "id": "16594f9c",
   "metadata": {},
   "source": [
    "## Recomendador: Filtrado Colaborativo Ejercicio\n",
    "\n",
    "Utilizado los datasets **`movies.csv`** y **`ratings`**, realiza un algoritmo de recomendación de filtrado colaborativo para la información dada por **`usuario_activo`**.\n",
    "\n",
    "Has preprocesamiento para el nombre de las peliculas y utiliza el dataset de **`ratings.csv`** para encontrar los usuarios más correlacionados con **`usuario_activo`**."
   ]
  },
  {
   "cell_type": "code",
   "execution_count": null,
   "id": "c9217956",
   "metadata": {},
   "outputs": [],
   "source": [
    "import numpy as np\n",
    "import pandas as pd\n",
    "\n",
    "# Correlación de Pearson\n",
    "from scipy.stats  import pearsonr"
   ]
  },
  {
   "cell_type": "code",
   "execution_count": null,
   "id": "133e7ae2",
   "metadata": {},
   "outputs": [],
   "source": [
    "df_movies = pd.read_csv(\"../../Data/movies.csv\")\n",
    "\n",
    "df_movies.head()"
   ]
  },
  {
   "cell_type": "code",
   "execution_count": null,
   "id": "c62e2d97",
   "metadata": {},
   "outputs": [],
   "source": [
    "df_ratings = pd.read_csv(\"../../Data/ratings.csv\")\n",
    "\n",
    "df_ratings.head()"
   ]
  },
  {
   "cell_type": "code",
   "execution_count": null,
   "id": "9cd808da",
   "metadata": {},
   "outputs": [],
   "source": [
    "usuario_activo = [{\"title\" : \"Breakfast Club, The\", \"rating\" : 5  },\n",
    "                  {\"title\" : \"Toy Story\"          , \"rating\" : 3.5},\n",
    "                  {\"title\" : \"Jumanji\"            , \"rating\" : 2  },\n",
    "                  {\"title\" : \"Pulp Fiction\"       , \"rating\" : 5  },\n",
    "                  {\"title\" : \"Akira\"              , \"rating\" : 4.5}]    \n",
    "\n",
    "usuario_activo"
   ]
  },
  {
   "cell_type": "code",
   "execution_count": null,
   "id": "4460e17d",
   "metadata": {},
   "outputs": [],
   "source": []
  },
  {
   "cell_type": "code",
   "execution_count": null,
   "id": "dce3cc15",
   "metadata": {},
   "outputs": [],
   "source": []
  },
  {
   "cell_type": "code",
   "execution_count": null,
   "id": "d696fda9",
   "metadata": {},
   "outputs": [],
   "source": []
  },
  {
   "cell_type": "code",
   "execution_count": null,
   "id": "a1c9d9e2",
   "metadata": {},
   "outputs": [],
   "source": []
  },
  {
   "cell_type": "code",
   "execution_count": null,
   "id": "28c10d5c",
   "metadata": {},
   "outputs": [],
   "source": []
  },
  {
   "cell_type": "code",
   "execution_count": null,
   "id": "b00ff7e4",
   "metadata": {},
   "outputs": [],
   "source": []
  },
  {
   "cell_type": "code",
   "execution_count": null,
   "id": "c55c6791",
   "metadata": {},
   "outputs": [],
   "source": []
  },
  {
   "cell_type": "code",
   "execution_count": null,
   "id": "4c2032f8",
   "metadata": {},
   "outputs": [],
   "source": []
  },
  {
   "cell_type": "code",
   "execution_count": null,
   "id": "414f1b15",
   "metadata": {},
   "outputs": [],
   "source": []
  }
 ],
 "metadata": {
  "kernelspec": {
   "display_name": "hackaboss",
   "language": "python",
   "name": "hackaboss"
  },
  "language_info": {
   "codemirror_mode": {
    "name": "ipython",
    "version": 3
   },
   "file_extension": ".py",
   "mimetype": "text/x-python",
   "name": "python",
   "nbconvert_exporter": "python",
   "pygments_lexer": "ipython3",
   "version": "3.9.12"
  }
 },
 "nbformat": 4,
 "nbformat_minor": 5
}
