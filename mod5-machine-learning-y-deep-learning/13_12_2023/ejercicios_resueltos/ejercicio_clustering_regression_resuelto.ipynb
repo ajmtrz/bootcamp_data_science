{
 "cells": [
  {
   "cell_type": "markdown",
   "id": "c40ad7ce",
   "metadata": {},
   "source": [
    "## Ejercicio de Clustering y Regression\n",
    "\n",
    "Utilizando el dataset de **`FuelConsumptionCo2.csv`**:\n",
    "\n",
    "**Parte 1**:\n",
    "1. Realiza un **`Exploratory Data Analysis`** (**EDA**).\n",
    "2. Realiza **preprocesamiento**.\n",
    "3. Utilizando métodos de **clustering**, **¿existe alguna forma de \"categorizar\" los datos?**\n",
    "4. Selecciona un número de **clusters \"optimo\"** y crea una columna con la categorización dada por el clustering.\n",
    "5. Teniendo el conjunto separado en diferentes \"clases\" o \"categorias\", **realiza una regresion lineal (`LinearRegression`) para cada conjunto**.\n",
    "6. Recuerda hacer **`train_test_split`** para poder calcular métricas, agrega la metrica **`r^2 ajustado`**.\n",
    "7. Haz el método de validación más adecuado para los datos, **solo es necesario hacer uno para cada modelo**.\n",
    "8. Guarda los modelos en un archivos binario.\n",
    "\n",
    "**Parte 2**:\n",
    "1. Investiga sobre otros modelos de regresión e implementalos con este dataset.\n",
    "2. Compara las métricas de estos nuevos modelos con el anterior (**`LinearRegression`**).\n",
    "3. En caso de que el modelo lo permita, haz **tunning** al modelo usando **`GridSearchCV`**."
   ]
  },
  {
   "cell_type": "code",
   "execution_count": null,
   "id": "f962bd74",
   "metadata": {},
   "outputs": [],
   "source": [
    "import numpy as np\n",
    "import pandas as pd\n",
    "import matplotlib.pyplot as plt\n",
    "import seaborn as sns\n",
    "\n",
    "from datetime import datetime\n",
    "\n",
    "# Normalizacion\n",
    "from sklearn.preprocessing import MinMaxScaler\n",
    "\n",
    "# GridSearchCV\n",
    "from sklearn.model_selection import GridSearchCV\n",
    "\n",
    "# Archivos\n",
    "import pickle\n",
    "\n",
    "\n",
    "# Train, Test\n",
    "from sklearn.model_selection import train_test_split\n",
    "\n",
    "# Metricas para regresiones\n",
    "from sklearn.metrics import mean_absolute_error\n",
    "from sklearn.metrics import mean_squared_error\n",
    "from sklearn.metrics import r2_score\n",
    "\n",
    "# Regresores\n",
    "from sklearn.linear_model import LinearRegression\n",
    "\n",
    "# Validacion\n",
    "from sklearn.model_selection import LeaveOneOut\n",
    "from sklearn.model_selection import KFold"
   ]
  },
  {
   "cell_type": "code",
   "execution_count": null,
   "id": "29c3e8bb",
   "metadata": {},
   "outputs": [],
   "source": [
    "df = pd.read_csv(\"FuelConsumptionCo2.csv\")\n",
    "\n",
    "df.head(3)"
   ]
  },
  {
   "cell_type": "code",
   "execution_count": null,
   "id": "e45bdcbb",
   "metadata": {},
   "outputs": [],
   "source": [
    "df.info()"
   ]
  },
  {
   "cell_type": "code",
   "execution_count": null,
   "id": "427937e5",
   "metadata": {},
   "outputs": [],
   "source": [
    "# Histograma de cada columna\n",
    "\n",
    "for i in df.columns:\n",
    "    \n",
    "    plt.figure(figsize = (10, 6))\n",
    "    sns.histplot(df[i])\n",
    "    plt.show()\n"
   ]
  },
  {
   "cell_type": "code",
   "execution_count": null,
   "id": "bd19ab02",
   "metadata": {},
   "outputs": [],
   "source": [
    "# Columna \"MODELYEAR\", tiene un solo valor\n",
    "\n",
    "plt.figure(figsize = (5, 10))\n",
    "sns.histplot(df[\"MODELYEAR\"], bins = 10)\n",
    "plt.show()"
   ]
  },
  {
   "cell_type": "code",
   "execution_count": null,
   "id": "9ced0ea4",
   "metadata": {},
   "outputs": [],
   "source": [
    "df[\"MODEL\"].value_counts()"
   ]
  },
  {
   "cell_type": "code",
   "execution_count": null,
   "id": "6457af9e",
   "metadata": {},
   "outputs": [],
   "source": [
    "# Mapa de Correlación\n",
    "\n",
    "sns.heatmap(data = df[df.drop(\"MODELYEAR\", axis = 1).columns.to_list()].corr(), annot = True)\n",
    "plt.show()"
   ]
  },
  {
   "cell_type": "code",
   "execution_count": null,
   "id": "3f0d762a",
   "metadata": {},
   "outputs": [],
   "source": [
    "# Relación entre columnas\n",
    "\n",
    "sns.pairplot(df.drop(\"MODELYEAR\", axis = 1))\n",
    "\n",
    "plt.show()"
   ]
  },
  {
   "cell_type": "markdown",
   "id": "c18be073",
   "metadata": {},
   "source": [
    "### PREPROCESAMIENTO"
   ]
  },
  {
   "cell_type": "code",
   "execution_count": null,
   "id": "034ece4a",
   "metadata": {},
   "outputs": [],
   "source": [
    "# Vemos si hay elementos nulos\n",
    "\n",
    "df.isnull().sum()"
   ]
  },
  {
   "cell_type": "code",
   "execution_count": null,
   "id": "0a0eeefd",
   "metadata": {},
   "outputs": [],
   "source": [
    "# Eliminamos la columna \"MODELYEAR\"\n",
    "\n",
    "df.drop(\"MODELYEAR\", axis = 1, inplace= True)"
   ]
  },
  {
   "cell_type": "markdown",
   "id": "5f06e0eb",
   "metadata": {},
   "source": [
    "### df_num, df_cat"
   ]
  },
  {
   "cell_type": "code",
   "execution_count": null,
   "id": "4e6311c5",
   "metadata": {},
   "outputs": [],
   "source": [
    "df_num = df._get_numeric_data().copy()\n",
    "\n",
    "df_num.head(3)"
   ]
  },
  {
   "cell_type": "markdown",
   "id": "de1a756c",
   "metadata": {},
   "source": [
    "### df_cat"
   ]
  },
  {
   "cell_type": "code",
   "execution_count": null,
   "id": "a7e69600",
   "metadata": {},
   "outputs": [],
   "source": [
    "df_cat = df.drop(df_num.columns, axis = 1)\n",
    "\n",
    "df_cat.head(3)"
   ]
  },
  {
   "cell_type": "code",
   "execution_count": null,
   "id": "5eea6027",
   "metadata": {},
   "outputs": [],
   "source": [
    "dict_class = {y:x.split(\" - \")[0] for x, y in zip (df[\"VEHICLECLASS\"].unique(), df[\"VEHICLECLASS\"].unique())}\n",
    "\n",
    "dict_class"
   ]
  },
  {
   "cell_type": "code",
   "execution_count": null,
   "id": "ca79e87f",
   "metadata": {},
   "outputs": [],
   "source": [
    "# Transformamos la columna \"VEHICLECLASS\"\n",
    "# Nos quedamos con las categorias definidas en \"dict_class\"\n",
    "\n",
    "df_cat[\"VEHICLECLASS\"] = df_cat[\"VEHICLECLASS\"].map(dict_class)\n",
    "\n",
    "df_cat.head()"
   ]
  },
  {
   "cell_type": "code",
   "execution_count": null,
   "id": "da14e2e2",
   "metadata": {},
   "outputs": [],
   "source": [
    "df_cat[\"VEHICLECLASS\"].value_counts()"
   ]
  },
  {
   "cell_type": "code",
   "execution_count": null,
   "id": "41155a0a",
   "metadata": {},
   "outputs": [],
   "source": [
    "# Agrupamos más elementos\n",
    "\n",
    "dict_class_2 = {\"SUBCOMPACT\" : \"COMPACT\",\n",
    "              \"MINICOMPACT\" : \"COMPACT\",\n",
    "              \"MINIVAN\" : \"VAN\"}\n",
    "\n",
    "df_cat[\"VEHICLECLASS\"] = df_cat[\"VEHICLECLASS\"].replace(dict_class_2)\n",
    "\n",
    "df_cat.head()"
   ]
  },
  {
   "cell_type": "code",
   "execution_count": null,
   "id": "896bdade",
   "metadata": {},
   "outputs": [],
   "source": [
    "# Vemos la columna \"TRANSMISSION\"\n",
    "\n",
    "df_cat[\"TRANSMISSION\"].value_counts()"
   ]
  },
  {
   "cell_type": "code",
   "execution_count": null,
   "id": "1324f940",
   "metadata": {},
   "outputs": [],
   "source": [
    "# Agregamos \"0\" a los elementos con \"AV\"\n",
    "\n",
    "df_cat[\"TRANSMISSION\"] = df_cat[\"TRANSMISSION\"].apply(lambda x : \"AV0\" if x == \"AV\" else x)\n",
    "\n",
    "df_cat[\"TRANSMISSION\"].value_counts()"
   ]
  },
  {
   "cell_type": "code",
   "execution_count": null,
   "id": "e2d6e644",
   "metadata": {},
   "outputs": [],
   "source": [
    "# Separamos los tipos de transmision con su número y creamos 2 columnas\n",
    "\n",
    "df_cat[\"MARCHAS\"] = df_cat[\"TRANSMISSION\"].apply(lambda x : x [-1])\n",
    "\n",
    "df_cat[\"TRANSMISSION\"] = df_cat[\"TRANSMISSION\"].apply(lambda x : x [:-1])"
   ]
  },
  {
   "cell_type": "code",
   "execution_count": null,
   "id": "888d7c43",
   "metadata": {},
   "outputs": [],
   "source": [
    "# Aplicamos pd.dummies() a la columna \"VEHICLECLASS\"\n",
    "\n",
    "df_cat = pd.concat([df_cat, pd.get_dummies(data = df_cat[\"VEHICLECLASS\"], prefix = \"VEHICLECLASS\")], axis = 1)\n",
    "\n",
    "df_cat"
   ]
  },
  {
   "cell_type": "code",
   "execution_count": null,
   "id": "6c824221",
   "metadata": {},
   "outputs": [],
   "source": [
    "# Eliminamos las columnas que ya no nos interesan\n",
    "\n",
    "df_cat.drop([\"VEHICLECLASS\", \"MAKE\", \"MODEL\"], axis = 1, inplace= True)\n",
    "\n",
    "df_cat.head(3)"
   ]
  },
  {
   "cell_type": "code",
   "execution_count": null,
   "id": "b2066dbb",
   "metadata": {},
   "outputs": [],
   "source": [
    "# Aplicamos pd.dummies() a la columna \"VEHICLECLASS\" y \"FUELTYPE\"\n",
    "\n",
    "df_cat = pd.concat([df_cat, pd.get_dummies(data = df_cat[\"TRANSMISSION\"], prefix = \"TRANSMISSION\")], axis = 1)\n",
    "\n",
    "df_cat = pd.concat([df_cat, pd.get_dummies(data = df_cat[\"FUELTYPE\"], prefix = \"FUELTYPE\")], axis = 1)\n",
    "\n",
    "df_cat.head()"
   ]
  },
  {
   "cell_type": "code",
   "execution_count": null,
   "id": "785b5e34",
   "metadata": {},
   "outputs": [],
   "source": [
    "# Eliminamos las columnas \"VEHICLECLASS\" y \"FUELTYPE\"\n",
    "\n",
    "df_cat.drop([\"TRANSMISSION\", \"FUELTYPE\"], axis = 1, inplace = True)\n",
    "\n",
    "df_cat.head(3)"
   ]
  },
  {
   "cell_type": "markdown",
   "id": "676b09ff",
   "metadata": {},
   "source": [
    "### df_num"
   ]
  },
  {
   "cell_type": "code",
   "execution_count": null,
   "id": "ba87d07b",
   "metadata": {},
   "outputs": [],
   "source": [
    "df_num.head(3)"
   ]
  },
  {
   "cell_type": "code",
   "execution_count": null,
   "id": "163d7198",
   "metadata": {},
   "outputs": [],
   "source": [
    "# KDEplot para cada columna\n",
    "\n",
    "for i in df_num.columns:\n",
    "    plt.figure(figsize = (10, 6))\n",
    "    sns.kdeplot(df_num[i])\n",
    "    plt.show()"
   ]
  },
  {
   "cell_type": "code",
   "execution_count": null,
   "id": "c9d24912",
   "metadata": {},
   "outputs": [],
   "source": [
    "# Eliminamos la columna \"FUELCONSUMPTION_COMB\"\n",
    "\n",
    "df_num.drop(\"FUELCONSUMPTION_COMB\", axis = 1, inplace = True)"
   ]
  },
  {
   "cell_type": "code",
   "execution_count": null,
   "id": "2fdc4ced",
   "metadata": {},
   "outputs": [],
   "source": [
    "df_num = df_num[df_num[\"CYLINDERS\"] <= 7]"
   ]
  },
  {
   "cell_type": "code",
   "execution_count": null,
   "id": "d9539bb2",
   "metadata": {},
   "outputs": [],
   "source": [
    "df_num.head(3)"
   ]
  },
  {
   "cell_type": "markdown",
   "id": "8f232664",
   "metadata": {},
   "source": [
    "### df"
   ]
  },
  {
   "cell_type": "code",
   "execution_count": null,
   "id": "b3d9121a",
   "metadata": {},
   "outputs": [],
   "source": [
    "df = pd.concat([df_cat, df_num], axis = 1)"
   ]
  },
  {
   "cell_type": "code",
   "execution_count": null,
   "id": "f5c5fd3c",
   "metadata": {},
   "outputs": [],
   "source": [
    "# Acotamos el df\n",
    "\n",
    "df = df[(df[\"CO2EMISSIONS\"] < 450) & (df[\"FUELCONSUMPTION_COMB_MPG\"] < 52)]"
   ]
  },
  {
   "cell_type": "code",
   "execution_count": null,
   "id": "bbe4ce4b",
   "metadata": {},
   "outputs": [],
   "source": [
    "df"
   ]
  },
  {
   "cell_type": "code",
   "execution_count": null,
   "id": "bc31fb42",
   "metadata": {},
   "outputs": [],
   "source": [
    "df.info()"
   ]
  },
  {
   "cell_type": "code",
   "execution_count": null,
   "id": "0c94084b",
   "metadata": {},
   "outputs": [],
   "source": [
    "df.reset_index(drop = True, inplace = True)"
   ]
  },
  {
   "cell_type": "code",
   "execution_count": null,
   "id": "9839f454",
   "metadata": {},
   "outputs": [],
   "source": [
    "# Transformamos la curva a una recta\n",
    "# Renombro la columna en lugar de crear una nueva y eliminar la anterior\n",
    "\n",
    "df[\"FUELCONSUMPTION_COMB_MPG\"] = df[\"FUELCONSUMPTION_COMB_MPG\"].apply(lambda x: x**-1)"
   ]
  },
  {
   "cell_type": "code",
   "execution_count": null,
   "id": "164a4efc",
   "metadata": {},
   "outputs": [],
   "source": [
    "df.head()"
   ]
  },
  {
   "cell_type": "code",
   "execution_count": null,
   "id": "4cb5b3f7",
   "metadata": {},
   "outputs": [],
   "source": [
    "# Cluster\n",
    "\n",
    "from sklearn.cluster import KMeans\n",
    "from sklearn.cluster import DBSCAN"
   ]
  },
  {
   "cell_type": "markdown",
   "id": "547d11d3",
   "metadata": {},
   "source": [
    "### K-Means"
   ]
  },
  {
   "cell_type": "code",
   "execution_count": null,
   "id": "492c90f0",
   "metadata": {},
   "outputs": [],
   "source": [
    "inercias = list() \n",
    "  \n",
    "for k in range(1, 11): \n",
    "    kmeans = KMeans(n_clusters = k)\n",
    "    kmeans.fit(df)     \n",
    "    inercias.append(kmeans.inertia_) \n",
    "    \n",
    "inercias"
   ]
  },
  {
   "cell_type": "code",
   "execution_count": null,
   "id": "499c7814",
   "metadata": {},
   "outputs": [],
   "source": [
    "plt.figure(figsize = (10, 8))\n",
    "\n",
    "plt.plot(range(1, len(inercias) + 1), inercias, marker = \"x\", color = \"blue\")\n",
    "\n",
    "plt.xlabel(\"K's\") \n",
    "plt.ylabel(\"Inercia\") \n",
    "\n",
    "plt.show()"
   ]
  },
  {
   "cell_type": "code",
   "execution_count": null,
   "id": "58950d48",
   "metadata": {},
   "outputs": [],
   "source": [
    "# Cluster\n",
    "\n",
    "kmeans = KMeans(n_clusters = 3)\n",
    "kmeans.fit(df)\n",
    "\n",
    "kmeans.labels_"
   ]
  },
  {
   "cell_type": "code",
   "execution_count": null,
   "id": "6ddce037",
   "metadata": {},
   "outputs": [],
   "source": [
    "df_centroides  = pd.DataFrame(data = kmeans.cluster_centers_, columns = [df.columns])\n",
    "df_centroides"
   ]
  },
  {
   "cell_type": "code",
   "execution_count": null,
   "id": "8e5d314c",
   "metadata": {},
   "outputs": [],
   "source": [
    "# Escalar Datos\n",
    "\n",
    "x_scaler = MinMaxScaler()\n",
    "X = x_scaler.fit_transform(df)\n",
    "\n",
    "X"
   ]
  },
  {
   "cell_type": "markdown",
   "id": "f5de99b6",
   "metadata": {},
   "source": [
    "### DBSCAN"
   ]
  },
  {
   "cell_type": "code",
   "execution_count": null,
   "id": "637a02dd",
   "metadata": {},
   "outputs": [],
   "source": [
    "from sklearn.neighbors import NearestNeighbors\n",
    "\n",
    "neigh = NearestNeighbors(n_neighbors = 2*X.shape[1] - 1)\n",
    "neigh.fit(X)\n",
    "distances, indices = neigh.kneighbors(X)\n",
    "\n",
    "# Plot\n",
    "plt.figure(figsize = (10, 8))\n",
    "\n",
    "# Grafico de distancias con k-vecinos más cercanos\n",
    "sns.heatmap(neigh.kneighbors_graph(X).toarray())\n",
    "\n",
    "plt.show()"
   ]
  },
  {
   "cell_type": "code",
   "execution_count": null,
   "id": "2bc37b10",
   "metadata": {},
   "outputs": [],
   "source": [
    "# Plot para encontrar el valor de eps más \"optimo\"\n",
    "\n",
    "plt.figure(figsize = (10, 8))\n",
    "\n",
    "distances = np.sort(distances, axis = 0)[:, 1]\n",
    "\n",
    "plt.plot(distances)\n",
    "plt.show()"
   ]
  },
  {
   "cell_type": "code",
   "execution_count": null,
   "id": "ea2ab18c",
   "metadata": {},
   "outputs": [],
   "source": [
    "\n",
    "dbscan = DBSCAN(eps = 1.43, min_samples = 5)\n",
    "dbscan.fit(X)\n",
    "\n",
    "plt.figure(figsize = (10, 6))\n",
    "\n",
    "# Datos Originales filtrados por DBSCAN\n",
    "sns.scatterplot(x = X[:, -1], y = X[:, -2], hue = dbscan.labels_, palette = \"Accent\")\n",
    "plt.show()"
   ]
  },
  {
   "cell_type": "markdown",
   "id": "b04253d3",
   "metadata": {},
   "source": [
    "#### Ahora tengo 2 nubes para hacer regresiones:"
   ]
  },
  {
   "cell_type": "code",
   "execution_count": null,
   "id": "b86e611f",
   "metadata": {},
   "outputs": [],
   "source": [
    "df[\"cluster_kmeans\"] = kmeans.labels_\n",
    "df[\"cluster_dbscan\"] = dbscan.labels_\n",
    "\n",
    "df.head(3)"
   ]
  },
  {
   "cell_type": "code",
   "execution_count": null,
   "id": "b66ef48b",
   "metadata": {},
   "outputs": [],
   "source": [
    "df[\"cluster_dbscan\"].value_counts()"
   ]
  },
  {
   "cell_type": "code",
   "execution_count": null,
   "id": "1ce3023e",
   "metadata": {},
   "outputs": [],
   "source": [
    "# No tengo ningun NaN\n",
    "\n",
    "# df[df[\"cluster_dbscan\"] == -1].T"
   ]
  },
  {
   "cell_type": "code",
   "execution_count": null,
   "id": "878851b7",
   "metadata": {},
   "outputs": [],
   "source": [
    "# Nos quedamos con la agrupación de DBSCAN, eliminamos K-Means\n",
    "\n",
    "df.drop(\"cluster_kmeans\", axis = 1, inplace = True)"
   ]
  },
  {
   "cell_type": "code",
   "execution_count": null,
   "id": "e8abb169-50dd-4edd-b8b2-6c30fefb0709",
   "metadata": {},
   "outputs": [],
   "source": [
    "df.to_csv(\"df_preprocesado.csv\")"
   ]
  },
  {
   "cell_type": "code",
   "execution_count": null,
   "id": "704ceb72",
   "metadata": {},
   "outputs": [],
   "source": [
    "# Separamos el df en 2\n",
    "\n",
    "df_0 = df[df[\"cluster_dbscan\"] == 0]\n",
    "df_1 = df[df[\"cluster_dbscan\"] == 1]"
   ]
  },
  {
   "cell_type": "markdown",
   "id": "0544b0d1",
   "metadata": {},
   "source": [
    "### REGRESION LINEAL DEL GRUPO 0"
   ]
  },
  {
   "cell_type": "code",
   "execution_count": null,
   "id": "701c939e",
   "metadata": {},
   "outputs": [],
   "source": [
    "X0 = np.asarray (df_0.drop(\"CO2EMISSIONS\", axis = 1))\n",
    "y0 = np.asarray(df_0[\"CO2EMISSIONS\"]).reshape(-1, 1)"
   ]
  },
  {
   "cell_type": "code",
   "execution_count": null,
   "id": "3d11311d",
   "metadata": {},
   "outputs": [],
   "source": [
    "# Normalizacion de X\n",
    "scaler_x0 = MinMaxScaler()\n",
    "scaler_x0.fit(X0)\n",
    "X0 = scaler_x0.transform(X0)\n",
    "\n",
    "# Normalizacion de y\n",
    "scaler_y0 = MinMaxScaler()\n",
    "scaler_y0.fit(y0)\n",
    "y0 = scaler_y0.transform(y0)"
   ]
  },
  {
   "cell_type": "code",
   "execution_count": null,
   "id": "66a9a1f3-230c-42b4-bc0b-4f27614abf28",
   "metadata": {},
   "outputs": [],
   "source": [
    "# Guardamos los escaladores en archivos binarios\n",
    "\n",
    "with open(\"escaladorX0.sav\", \"wb\") as file:\n",
    "    pickle.dump(scaler_x0, file)\n",
    "    \n",
    "with open(\"escaladory0.sav\", \"wb\") as file:\n",
    "    pickle.dump(scaler_y0, file)"
   ]
  },
  {
   "cell_type": "code",
   "execution_count": null,
   "id": "8377a95a",
   "metadata": {},
   "outputs": [],
   "source": [
    "X0.shape, y0.shape"
   ]
  },
  {
   "cell_type": "markdown",
   "id": "2ca50858",
   "metadata": {},
   "source": [
    "### Train, Test"
   ]
  },
  {
   "cell_type": "code",
   "execution_count": null,
   "id": "7418024a",
   "metadata": {},
   "outputs": [],
   "source": [
    "X0_train, X0_test, y0_train, y0_test = train_test_split(X0, y0, test_size = 0.30, random_state = 10)\n",
    " \n",
    "print(f\"Conjunto de Train: {X0_train.shape, X0_test.shape}\")\n",
    "print(f\"Conjunto de Test: {y0_train.shape, y0_test.shape}\")"
   ]
  },
  {
   "cell_type": "markdown",
   "id": "28047eff",
   "metadata": {},
   "source": [
    "### Modelo"
   ]
  },
  {
   "cell_type": "code",
   "execution_count": null,
   "id": "98297999",
   "metadata": {},
   "outputs": [],
   "source": [
    "model_0 = LinearRegression()\n",
    "model_0.fit(X0_train, y0_train)"
   ]
  },
  {
   "cell_type": "markdown",
   "id": "6e5c5208",
   "metadata": {},
   "source": [
    "### Prediccion"
   ]
  },
  {
   "cell_type": "code",
   "execution_count": null,
   "id": "bbb82178",
   "metadata": {},
   "outputs": [],
   "source": [
    "yhat0 = model_0.predict(X0_test)\n",
    "\n",
    "for i, j in zip(yhat0[:5], y0_test[:5]):\n",
    "    print(f\"Predicción: {i[0]} \\tValor real: {j[0]}\")"
   ]
  },
  {
   "cell_type": "markdown",
   "id": "0fe4860d",
   "metadata": {},
   "source": [
    "### Métricas"
   ]
  },
  {
   "cell_type": "code",
   "execution_count": null,
   "id": "ae36034e",
   "metadata": {},
   "outputs": [],
   "source": [
    "RAE0 = np.sum(np.abs(np.subtract(y0_test, yhat0))) / np.sum(np.abs(np.subtract(y0_test, np.mean(y0_test))))\n",
    "\n",
    "RSE0 = np.sum(np.square(np.subtract(y0_test, yhat0))) / np.sum(np.square(np.subtract(y0_test, np.mean(y0_test))))\n",
    "\n",
    "r2_ajustada0 = 1 - (1 - model_0.score(X0_test, y0_test))*(len(y0_test) - 1)/(len(y0_test) - X0_test.shape[1] - 1)"
   ]
  },
  {
   "cell_type": "code",
   "execution_count": null,
   "id": "e103bc4f",
   "metadata": {},
   "outputs": [],
   "source": [
    "print(f\"MAE:\\t {mean_absolute_error(yhat0, y0_test)}\")\n",
    "print(f\"MSE:\\t {mean_squared_error(yhat0, y0_test)}\")\n",
    "print(f\"R**2:\\t {r2_score(yhat0, y0_test)}\")\n",
    "print(f\"RAE:\\t {RAE0}\")\n",
    "print(f\"RSE:\\t {RSE0}\")\n",
    "print(f\"Adjusted R**2:\\t {r2_ajustada0}\")"
   ]
  },
  {
   "cell_type": "code",
   "execution_count": null,
   "id": "eaa2119d",
   "metadata": {},
   "outputs": [],
   "source": [
    "df_pred = pd.DataFrame()\n",
    "\n",
    "df_pred[\"y0_test\"] = y0_test.flatten()\n",
    "df_pred[\"yhat0\"] = yhat0.flatten()\n",
    "\n",
    "df_pred[\"diferencia %\"] = round(abs((df_pred[\"y0_test\"] - df_pred[\"yhat0\"]) / df_pred[\"y0_test\"] * 100), 4)\n",
    "\n",
    "df_pred = df_pred.sort_values(\"diferencia %\")\n",
    "\n",
    "df_pred.head(20)"
   ]
  },
  {
   "cell_type": "code",
   "execution_count": null,
   "id": "6c4199cd",
   "metadata": {},
   "outputs": [],
   "source": [
    "df_pred.tail(20)"
   ]
  },
  {
   "cell_type": "code",
   "execution_count": null,
   "id": "3653845b",
   "metadata": {},
   "outputs": [],
   "source": [
    "plt.figure(figsize = (8, 5))\n",
    "\n",
    "sns.scatterplot(x = y0_test.flatten(), y = yhat0.flatten(), alpha = 0.5, color = \"blue\")\n",
    "\n",
    "plt.xlabel(\"Valores Reales (y_train)\", size = 18)\n",
    "plt.ylabel(\"Predicciones (yhat)\", size = 18)\n",
    "\n",
    "plt.show()"
   ]
  },
  {
   "cell_type": "markdown",
   "id": "b327bcbe",
   "metadata": {},
   "source": [
    "### REGRESION LINEAL DEL GRUPO 1"
   ]
  },
  {
   "cell_type": "code",
   "execution_count": null,
   "id": "f4c39c5c",
   "metadata": {},
   "outputs": [],
   "source": [
    "X1 = np.asarray (df_1.drop(\"CO2EMISSIONS\", axis = 1))\n",
    "y1 = np.asarray(df_1[\"CO2EMISSIONS\"]).reshape(-1, 1)"
   ]
  },
  {
   "cell_type": "code",
   "execution_count": null,
   "id": "da35cd27",
   "metadata": {
    "tags": []
   },
   "outputs": [],
   "source": [
    "# Normalizacion de X\n",
    "scaler_x1 = MinMaxScaler()\n",
    "scaler_x1.fit(X1)\n",
    "X1 = scaler_x1.transform(X1)\n",
    "\n",
    "\n",
    "# Normalizacion de y\n",
    "scaler_y1 = MinMaxScaler()\n",
    "scaler_y1.fit(y1)\n",
    "y1 = scaler_y1.transform(y1)"
   ]
  },
  {
   "cell_type": "code",
   "execution_count": null,
   "id": "da5b62b4-0529-4cee-8aa0-aef6d6d14347",
   "metadata": {},
   "outputs": [],
   "source": [
    "# Guardamos los escaladores en archivos binarios\n",
    "\n",
    "with open(\"escaladorX1.sav\", \"wb\") as file:\n",
    "    pickle.dump(scaler_x1, file)\n",
    "    \n",
    "with open(\"escaladory1.sav\", \"wb\") as file:\n",
    "    pickle.dump(scaler_y1, file)"
   ]
  },
  {
   "cell_type": "code",
   "execution_count": null,
   "id": "677818f6",
   "metadata": {},
   "outputs": [],
   "source": [
    "X1.shape, y1.shape"
   ]
  },
  {
   "cell_type": "markdown",
   "id": "3bb0d857",
   "metadata": {},
   "source": [
    "### Train, Test"
   ]
  },
  {
   "cell_type": "code",
   "execution_count": null,
   "id": "4934db4e",
   "metadata": {},
   "outputs": [],
   "source": [
    "X1_train, X1_test, y1_train, y1_test = train_test_split(X1, y1, test_size = 0.30, random_state = 10)\n",
    " \n",
    "print(f\"Conjunto de Train: {X1_train.shape, X1_test.shape}\")\n",
    "print(f\"Conjunto de Test: {y1_train.shape, y1_test.shape}\")"
   ]
  },
  {
   "cell_type": "markdown",
   "id": "9f78d7ad",
   "metadata": {},
   "source": [
    "### Modelo"
   ]
  },
  {
   "cell_type": "code",
   "execution_count": null,
   "id": "329c66dd",
   "metadata": {},
   "outputs": [],
   "source": [
    "model_1 = LinearRegression()\n",
    "model_1.fit(X1_train, y1_train)"
   ]
  },
  {
   "cell_type": "markdown",
   "id": "13142338",
   "metadata": {},
   "source": [
    "### Predicciones"
   ]
  },
  {
   "cell_type": "code",
   "execution_count": null,
   "id": "2461c1cf",
   "metadata": {},
   "outputs": [],
   "source": [
    "yhat1 = model_1.predict(X1_test)\n",
    "\n",
    "for i, j in zip(yhat1[:5], y1_test[:5]):\n",
    "    print(f\"Predicción:{i[0]} \\tValor real:{j[0]}\")"
   ]
  },
  {
   "cell_type": "markdown",
   "id": "3d88ed27",
   "metadata": {},
   "source": [
    "### Métricas"
   ]
  },
  {
   "cell_type": "code",
   "execution_count": null,
   "id": "78c944f5",
   "metadata": {},
   "outputs": [],
   "source": [
    "RAE1 = np.sum(np.abs(np.subtract(y1_test, yhat1))) / np.sum(np.abs(np.subtract(y1_test, np.mean(y1_test))))\n",
    "\n",
    "RSE1 = np.sum(np.square(np.subtract(y1_test, yhat1))) / np.sum(np.square(np.subtract(y1_test, np.mean(y1_test))))\n",
    "\n",
    "r2_ajustada1 = 1 - (1 - model_1.score(X1_test, y1_test))*(len(y1_test) - 1)/(len(y1_test) - X1_test.shape[1] - 1)"
   ]
  },
  {
   "cell_type": "code",
   "execution_count": null,
   "id": "b0ad6cc2",
   "metadata": {},
   "outputs": [],
   "source": [
    "print(f\"MAE:\\t {mean_absolute_error(yhat1, y1_test)}\")\n",
    "print(f\"MSE:\\t {mean_squared_error(yhat1, y1_test)}\")\n",
    "print(f\"R**2:\\t {r2_score(yhat1, y1_test)}\")\n",
    "print(f\"RAE:\\t {RAE1}\")\n",
    "print(f\"RSE:\\t {RSE1}\")\n",
    "print(f\"Adjusted R**2:\\t {r2_ajustada1}\")"
   ]
  },
  {
   "cell_type": "code",
   "execution_count": null,
   "id": "a381a243",
   "metadata": {},
   "outputs": [],
   "source": [
    "df_pred1=pd.DataFrame()\n",
    "df_pred1[\"y1_test\"] = y1_test.flatten()\n",
    "df_pred1[\"yhat1\"] = yhat1.flatten()\n",
    "\n",
    "df_pred1[\"diferencia %\"] = round(abs((df_pred1[\"y1_test\"] - df_pred1[\"yhat1\"]) / df_pred1[\"y1_test\"] * 100), 4)\n",
    "\n",
    "df_pred1 = df_pred1.sort_values(\"diferencia %\")\n",
    "\n",
    "df_pred1.head(20)"
   ]
  },
  {
   "cell_type": "code",
   "execution_count": null,
   "id": "171c7288",
   "metadata": {},
   "outputs": [],
   "source": [
    "df_pred1.tail(20)"
   ]
  },
  {
   "cell_type": "code",
   "execution_count": null,
   "id": "a95174f5",
   "metadata": {},
   "outputs": [],
   "source": [
    "plt.figure(figsize = (8, 5))\n",
    "\n",
    "sns.scatterplot(x = y1_test.flatten(), y = yhat1.flatten(), alpha = 0.5, color = \"blue\")\n",
    "\n",
    "plt.xlabel(\"Valores Reales (y_train)\", size = 18)\n",
    "plt.ylabel(\"Predicciones (yhat)\", size = 18)\n",
    "\n",
    "plt.show()"
   ]
  },
  {
   "cell_type": "markdown",
   "id": "5f13b403",
   "metadata": {},
   "source": [
    "# Metodos de Validacion"
   ]
  },
  {
   "cell_type": "markdown",
   "id": "22695828",
   "metadata": {},
   "source": [
    "### Modelo 0"
   ]
  },
  {
   "cell_type": "code",
   "execution_count": null,
   "id": "87dd7bfa",
   "metadata": {},
   "outputs": [],
   "source": [
    "%%time\n",
    "\n",
    "loo0 = LeaveOneOut()\n",
    "yhat0 = list()\n",
    "\n",
    "for train_index, test_index in loo0.split(X0): \n",
    "    X0_train, X0_test = X0[train_index], X0[test_index]\n",
    "    y0_train, y0_test = y0[train_index], y0[test_index]\n",
    "    \n",
    "    model = LinearRegression()\n",
    "    model.fit(X0_train, y0_train)\n",
    "    \n",
    "    # Prediccion\n",
    "    yhat01 = model.predict(X0_test)[0]\n",
    "    yhat0.append(yhat01)"
   ]
  },
  {
   "cell_type": "code",
   "execution_count": null,
   "id": "80dc4c8f",
   "metadata": {},
   "outputs": [],
   "source": [
    "RAE0 = np.sum(np.abs(np.subtract(y0, yhat0))) / np.sum(np.abs(np.subtract(y0, np.mean(y0))))\n",
    "\n",
    "RSE0 = np.sum(np.square(np.subtract(y0, yhat0))) / np.sum(np.square(np.subtract(y0, np.mean(y0))))\n",
    "\n",
    "r2_ajustada0 = 1 - (1 - model.score(X0, y0))*(len(y0) - 1)/(len(y0) - X0.shape[1] - 1)"
   ]
  },
  {
   "cell_type": "code",
   "execution_count": null,
   "id": "c4c13b1c",
   "metadata": {},
   "outputs": [],
   "source": [
    "print(f\"MAE:\\t {mean_absolute_error(yhat0, y0)}\")\n",
    "print(f\"MSE:\\t {mean_squared_error(yhat0, y0)}\")\n",
    "print(f\"R**2:\\t {r2_score(yhat0, y0)}\")\n",
    "print(f\"RAE:\\t {RAE0}\")\n",
    "print(f\"RSE:\\t {RSE0}\")\n",
    "print(f\"Adjusted R**2:\\t {r2_ajustada0}\")"
   ]
  },
  {
   "cell_type": "code",
   "execution_count": null,
   "id": "cb6e6bcb",
   "metadata": {},
   "outputs": [],
   "source": [
    "### Entrenamos el modelo con todos los datos\n",
    "\n",
    "model_0 = LinearRegression()\n",
    "model_0.fit(X0, y0)"
   ]
  },
  {
   "cell_type": "markdown",
   "id": "eb5048d8",
   "metadata": {},
   "source": [
    "### Modelo 1"
   ]
  },
  {
   "cell_type": "code",
   "execution_count": null,
   "id": "4a21d9f2",
   "metadata": {},
   "outputs": [],
   "source": [
    "%%time\n",
    "\n",
    "loo1 = LeaveOneOut()\n",
    "yhat1 = list()\n",
    "\n",
    "for train_index, test_index in loo1.split(X1): \n",
    "    X1_train, X1_test = X1[train_index], X1[test_index]\n",
    "    y1_train, y1_test = y1[train_index], y1[test_index]\n",
    "\n",
    "    model = LinearRegression()\n",
    "    model.fit(X1_train, y1_train)    \n",
    "    \n",
    "    # Prediccion\n",
    "    yhat11 = model.predict(X1_test)[0]\n",
    "    yhat1.append(yhat11)"
   ]
  },
  {
   "cell_type": "code",
   "execution_count": null,
   "id": "3cd1bea6",
   "metadata": {},
   "outputs": [],
   "source": [
    "RAE1 = np.sum(np.abs(np.subtract(y1, yhat1))) / np.sum(np.abs(np.subtract(y1, np.mean(y1))))\n",
    "\n",
    "RSE1 = np.sum(np.square(np.subtract(y1, yhat1))) / np.sum(np.square(np.subtract(y1, np.mean(y1))))\n",
    "\n",
    "r2_ajustada1 = 1 - (1 - model.score(X1, y1))*(len(y1) - 1)/(len(y1) - X1.shape[1] - 1)"
   ]
  },
  {
   "cell_type": "code",
   "execution_count": null,
   "id": "eb1f2903",
   "metadata": {},
   "outputs": [],
   "source": [
    "print(f\"MAE:\\t {mean_absolute_error(yhat1, y1)}\")\n",
    "print(f\"MSE:\\t {mean_squared_error(yhat1, y1)}\")\n",
    "print(f\"R**2:\\t {r2_score(yhat1, y1)}\")\n",
    "print(f\"RAE:\\t {RAE1}\")\n",
    "print(f\"RSE:\\t {RSE1}\")\n",
    "print(f\"Adjusted R**2:\\t {r2_ajustada1}\")"
   ]
  },
  {
   "cell_type": "code",
   "execution_count": null,
   "id": "6358b9c0",
   "metadata": {},
   "outputs": [],
   "source": [
    "### Entrenamos el modelo con todos los datos\n",
    "\n",
    "model_1 = LinearRegression()\n",
    "model_1.fit(X1, y1)"
   ]
  },
  {
   "cell_type": "code",
   "execution_count": null,
   "id": "2d1bb122",
   "metadata": {},
   "outputs": [],
   "source": [
    "# Guardamos ambos modelos\n",
    "\n",
    "with open(\"modelo_grupo0.sav\", \"wb\") as file:\n",
    "    pickle.dump(model_0, file)\n",
    "with open(\"modelo_grupo1.sav\", \"wb\") as file:\n",
    "    pickle.dump(model_1, file)"
   ]
  },
  {
   "cell_type": "markdown",
   "id": "9245fb34-34e7-4f8d-8ee6-e2ec2f747c3a",
   "metadata": {},
   "source": [
    "### Parte 2"
   ]
  },
  {
   "cell_type": "markdown",
   "id": "36b57b49",
   "metadata": {},
   "source": [
    "#### 1. Investiga sobre otros modelos de regresión e implementalos con este dataset."
   ]
  },
  {
   "cell_type": "code",
   "execution_count": null,
   "id": "fc6ba230-b75e-4786-9b21-c163b0db2231",
   "metadata": {},
   "outputs": [],
   "source": [
    "# Regresores\n",
    "from sklearn.tree import DecisionTreeRegressor\n",
    "from sklearn.neighbors import KNeighborsRegressor\n",
    "from sklearn.ensemble import RandomForestRegressor\n",
    "from sklearn.ensemble import GradientBoostingRegressor\n",
    "from sklearn.ensemble import AdaBoostRegressor"
   ]
  },
  {
   "cell_type": "markdown",
   "id": "653604b6",
   "metadata": {},
   "source": [
    "### Funcion"
   ]
  },
  {
   "cell_type": "code",
   "execution_count": null,
   "id": "9563728b",
   "metadata": {},
   "outputs": [],
   "source": [
    "def modelos_regresion(modelos, X_train, X_test, y_train, y_test):\n",
    "    \n",
    "    metricas = list() \n",
    "    \n",
    "    for modelo in modelos:\n",
    "        p1 = datetime.now()\n",
    "        \n",
    "        # Modelo\n",
    "        modelo.fit(X_train, y_train.flatten())\n",
    "        \n",
    "        # Predicciones\n",
    "        y_hat = modelo.predict(X_test)\n",
    "        \n",
    "        # Metricas\n",
    "        RAE = np.sum(np.abs(np.subtract(y_test, y_hat))) / np.sum(np.abs(np.subtract(y_test, np.mean(y_test))))\n",
    "        RSE = np.sum(np.square(np.subtract(y_test, y_hat))) / np.sum(np.square(np.subtract(y_test, np.mean(y_test))))\n",
    "        r2_ajustada = 1 - (1 - modelo.score(X_test, y_test))*(len(y_test) - 1)/(len(y_test) - X_test.shape[1] - 1)\n",
    "        MAE = mean_absolute_error(y_test, y_hat)\n",
    "        MSE = mean_squared_error(y_test, y_hat)\n",
    "        r2 = r2_score(y_test, y_hat)\n",
    "        \n",
    "        p2 = datetime.now()\n",
    "        \n",
    "        metricas.append([str(modelo), RAE, RSE, r2_ajustada, MAE, MSE, r2, (p2 - p1).seconds])\n",
    "        \n",
    "    return pd.DataFrame(data = metricas,\n",
    "                        columns = [\"modelo\", \"RAE\", \"RSE\", \"r2_ajustada\", \"MAE\", \"MSE\", \"r2\", \"tiempo_segundos\"])"
   ]
  },
  {
   "cell_type": "code",
   "execution_count": null,
   "id": "bcd67bbc",
   "metadata": {},
   "outputs": [],
   "source": [
    "modelos = [LinearRegression(),\n",
    "           DecisionTreeRegressor(),\n",
    "           KNeighborsRegressor(),\n",
    "           RandomForestRegressor(),\n",
    "           GradientBoostingRegressor(),\n",
    "           AdaBoostRegressor()]"
   ]
  },
  {
   "cell_type": "markdown",
   "id": "307d3d7f",
   "metadata": {},
   "source": [
    "#### 2. Compara las métricas de estos nuevos modelos con el anterior (**`LinearRegression`**)."
   ]
  },
  {
   "cell_type": "markdown",
   "id": "9b294770",
   "metadata": {},
   "source": [
    "### REGRESION LINEAL DEL GRUPO 0"
   ]
  },
  {
   "cell_type": "code",
   "execution_count": null,
   "id": "a03b4267-c689-4b33-a410-dc7140e73e75",
   "metadata": {},
   "outputs": [],
   "source": [
    "X0 = np.asarray(df_0.drop(\"CO2EMISSIONS\", axis = 1))\n",
    "y0 = np.asarray(df_0[\"CO2EMISSIONS\"]).reshape(-1, 1)"
   ]
  },
  {
   "cell_type": "code",
   "execution_count": null,
   "id": "b1c4be8e-576d-407c-a7b7-6d0d4091c3cf",
   "metadata": {
    "tags": []
   },
   "outputs": [],
   "source": [
    "# Normalizacion de X\n",
    "scaler_x0 = MinMaxScaler()\n",
    "scaler_x0.fit(X0)\n",
    "X0 = scaler_x0.transform(X0)\n",
    "\n",
    "# Normalizacion de y\n",
    "scaler_y0 = MinMaxScaler()\n",
    "scaler_y0.fit(y0)\n",
    "y0 = scaler_y0.transform(y0)"
   ]
  },
  {
   "cell_type": "code",
   "execution_count": null,
   "id": "98166f47-a95e-482a-aede-f2ce66efd0df",
   "metadata": {
    "tags": []
   },
   "outputs": [],
   "source": [
    "X0.shape, y0.shape"
   ]
  },
  {
   "cell_type": "markdown",
   "id": "3aea435b",
   "metadata": {},
   "source": [
    "### Train, Test"
   ]
  },
  {
   "cell_type": "code",
   "execution_count": null,
   "id": "088821c4-f1a0-4044-9398-29e5996d4744",
   "metadata": {},
   "outputs": [],
   "source": [
    "X0_train, X0_test, y0_train, y0_test = train_test_split(X0, y0, test_size = 0.30, random_state = 10)\n",
    " \n",
    "print(f\"Conjunto de Train: {X0_train.shape, X0_test.shape}\")\n",
    "print(f\"Conjunto de Test: {y0_train.shape, y0_test.shape}\")"
   ]
  },
  {
   "cell_type": "code",
   "execution_count": null,
   "id": "5149df2f",
   "metadata": {},
   "outputs": [],
   "source": [
    "modelos_regresion(modelos, X0_train, X0_test, y0_train, y0_test).sort_values(by = \"r2_ajustada\", ascending = False)"
   ]
  },
  {
   "cell_type": "markdown",
   "id": "78c10967",
   "metadata": {},
   "source": [
    "### REGRESION LINEAL DEL GRUPO 1"
   ]
  },
  {
   "cell_type": "code",
   "execution_count": null,
   "id": "631c2d62-a516-4873-9491-8df4affb6b81",
   "metadata": {},
   "outputs": [],
   "source": [
    "X1 = np.asarray (df_1.drop(\"CO2EMISSIONS\", axis = 1))\n",
    "y1 = np.asarray(df_1[\"CO2EMISSIONS\"]).reshape(-1, 1)"
   ]
  },
  {
   "cell_type": "code",
   "execution_count": null,
   "id": "bd19bf2b-bb41-44ca-957d-8d096403cd7c",
   "metadata": {
    "tags": []
   },
   "outputs": [],
   "source": [
    "# Normalizacion de X\n",
    "scaler_x1 = MinMaxScaler()\n",
    "scaler_x1.fit(X1)\n",
    "X1 = scaler_x1.transform(X1)\n",
    "\n",
    "# Normalizacion de y\n",
    "scaler_y1 = MinMaxScaler()\n",
    "scaler_y1.fit(y1)\n",
    "y1 = scaler_y1.transform(y1)"
   ]
  },
  {
   "cell_type": "code",
   "execution_count": null,
   "id": "c8c15736-d1d8-49c5-bcbe-3642a9a50642",
   "metadata": {},
   "outputs": [],
   "source": [
    "X1.shape, y1.shape"
   ]
  },
  {
   "cell_type": "markdown",
   "id": "ffe43c35",
   "metadata": {},
   "source": [
    "### Train, Test"
   ]
  },
  {
   "cell_type": "code",
   "execution_count": null,
   "id": "487e9f85-b5a7-491e-b851-f3956b312b6c",
   "metadata": {},
   "outputs": [],
   "source": [
    "X1_train, X1_test, y1_train, y1_test = train_test_split(X1, y1, test_size = 0.30, random_state = 10)\n",
    " \n",
    "print(f\"Conjunto de Train: {X1_train.shape, X1_test.shape}\")\n",
    "print(f\"Conjunto de Test: {y1_train.shape, y1_test.shape}\")"
   ]
  },
  {
   "cell_type": "code",
   "execution_count": null,
   "id": "e1f72ce3",
   "metadata": {},
   "outputs": [],
   "source": [
    "modelos_regresion(modelos, X1_train, X1_test, y1_train, y1_test).sort_values(by = \"r2_ajustada\", ascending = False)"
   ]
  },
  {
   "cell_type": "markdown",
   "id": "e049d16a-9ac6-41c3-bc93-69e28356e410",
   "metadata": {},
   "source": [
    "#### 3. En caso de que el modelo lo permita, haz **tunning** al modelo usando **`GridSearchCV`**."
   ]
  },
  {
   "cell_type": "code",
   "execution_count": null,
   "id": "48a4cdc1",
   "metadata": {},
   "outputs": [],
   "source": [
    "# Vamos a hacer un GridSearch con GradientBoostingRegressor()"
   ]
  },
  {
   "cell_type": "code",
   "execution_count": null,
   "id": "f33a4995-3de8-4c82-a3ad-8b912af886aa",
   "metadata": {},
   "outputs": [],
   "source": [
    "from sklearn.model_selection import GridSearchCV\n",
    "from sklearn.metrics import SCORERS"
   ]
  },
  {
   "cell_type": "code",
   "execution_count": null,
   "id": "4fbd66de-2ef9-495b-9f1c-2caf57056f5b",
   "metadata": {},
   "outputs": [],
   "source": [
    "modelo = GradientBoostingRegressor()\n",
    "\n",
    "params = {\"loss\"          : [\"squared_error\", \"absolute_error\", \"huber\", \"quantile\"],\n",
    "          \"learning_rate\" : [0.1, 0.2, 0.5],\n",
    "          \"n_estimators\"  : [100, 150, 200],\n",
    "          \"max_features\"  : [\"sqrt\", \"log2\"],\n",
    "          \"max_depth\"     : [3, 5]}\n",
    "\n",
    "scorers = {\"r2\"}\n",
    "\n",
    "grid_solver = GridSearchCV(estimator  = modelo   , \n",
    "                           param_grid = params   , \n",
    "                           scoring    = scorers  ,\n",
    "                           cv         = 5        ,\n",
    "                           refit      = \"r2\"     ,\n",
    "                           n_jobs     = -1        )\n",
    "\n",
    "model_result = grid_solver.fit(X0_train, y0_train.flatten())"
   ]
  },
  {
   "cell_type": "code",
   "execution_count": null,
   "id": "d6efc9d9-7c9b-459e-9024-86d25802a5d2",
   "metadata": {},
   "outputs": [],
   "source": [
    "print(model_result.cv_results_[\"mean_test_r2\"].mean())\n",
    "\n",
    "print(\"*\"*100)\n",
    "\n",
    "print(model_result.best_score_)\n",
    "print(model_result.best_params_)"
   ]
  },
  {
   "cell_type": "code",
   "execution_count": null,
   "id": "305d32ea-d5bb-4fd6-81f6-e1d0cf7e79c4",
   "metadata": {},
   "outputs": [],
   "source": [
    "modelo = GradientBoostingRegressor(**model_result.best_params_)\n",
    "modelo.fit(X0,y0.flatten())\n",
    "\n",
    "with open(\"modelo_gradient_bousting0.sav\", \"wb\") as file:\n",
    "    pickle.dump(modelo, file)"
   ]
  },
  {
   "cell_type": "code",
   "execution_count": null,
   "id": "5da8bcda-cdca-4108-99e4-8de0e37493e1",
   "metadata": {},
   "outputs": [],
   "source": [
    "################################################################################################################################"
   ]
  }
 ],
 "metadata": {
  "kernelspec": {
   "display_name": "Python 3 (ipykernel)",
   "language": "python",
   "name": "python3"
  },
  "language_info": {
   "codemirror_mode": {
    "name": "ipython",
    "version": 3
   },
   "file_extension": ".py",
   "mimetype": "text/x-python",
   "name": "python",
   "nbconvert_exporter": "python",
   "pygments_lexer": "ipython3",
   "version": "3.9.7"
  }
 },
 "nbformat": 4,
 "nbformat_minor": 5
}
