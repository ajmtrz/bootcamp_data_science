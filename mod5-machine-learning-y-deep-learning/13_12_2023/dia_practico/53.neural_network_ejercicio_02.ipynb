{
 "cells": [
  {
   "cell_type": "markdown",
   "id": "067aa07e",
   "metadata": {},
   "source": [
    "## Ejercicio de Redes Neuronales 02\n",
    "\n",
    "Usando las imagenes del directorio **`Dogs`**, construye una red neuronal que prediga la raza del perro.\n",
    "\n",
    "- Tienes que leer y clasificar cada imagen, el directorio **`Dogs`** esta conformado por directorios con los nombres de las razas.\n",
    "\n",
    "- Cada imagen tiene un tamaño diferente, para poder construir una red neuronal todas las imagenes deben de tener el mismo tamaño.\n",
    "\n",
    "- El tamaño de las imagenes determinará el número de neuronas de la capa de entrada, y el número de razas determinará el número de neuronas de la capa de salida.\n",
    "\n",
    "- Recuerda usar la función la función **`to_categorical()`** y \"aplanar\" las imagenes.\n",
    "\n",
    "- Muestra la matriz de confusión del modelo."
   ]
  },
  {
   "cell_type": "code",
   "execution_count": null,
   "id": "d9e1f018",
   "metadata": {},
   "outputs": [],
   "source": []
  },
  {
   "cell_type": "code",
   "execution_count": null,
   "id": "65f236c5",
   "metadata": {},
   "outputs": [],
   "source": []
  },
  {
   "cell_type": "code",
   "execution_count": null,
   "id": "47595311",
   "metadata": {},
   "outputs": [],
   "source": []
  },
  {
   "cell_type": "code",
   "execution_count": null,
   "id": "246f5093",
   "metadata": {},
   "outputs": [],
   "source": []
  },
  {
   "cell_type": "code",
   "execution_count": null,
   "id": "76de679c",
   "metadata": {},
   "outputs": [],
   "source": []
  }
 ],
 "metadata": {
  "kernelspec": {
   "display_name": "Python 3 (ipykernel)",
   "language": "python",
   "name": "python3"
  },
  "language_info": {
   "codemirror_mode": {
    "name": "ipython",
    "version": 3
   },
   "file_extension": ".py",
   "mimetype": "text/x-python",
   "name": "python",
   "nbconvert_exporter": "python",
   "pygments_lexer": "ipython3",
   "version": "3.9.7"
  }
 },
 "nbformat": 4,
 "nbformat_minor": 5
}
