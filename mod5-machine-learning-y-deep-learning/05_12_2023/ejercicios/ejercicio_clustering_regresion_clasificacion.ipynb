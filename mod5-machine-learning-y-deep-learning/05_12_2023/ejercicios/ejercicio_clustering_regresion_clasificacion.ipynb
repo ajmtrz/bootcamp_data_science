{
 "cells": [
  {
   "cell_type": "markdown",
   "id": "2488d67d",
   "metadata": {},
   "source": [
    "## Ejercicio de Clustering, Regression y Clasificacion\n",
    "\n",
    "Continuación del ejercicio anterior:\n",
    "\n",
    "Ya tenemos los modelos de regresión lineal para ambas nubes. Si quisieramos predecir una nueva instancia tendriamos que transformar esa nueva \"fila\" para que tenga el mismo \"formato\" que las filas que usamos para crear los modelos, es decir, hay que aplicar el mismo preprocesamiento para poder utilizar esa instancia con el modelo:\n",
    "\n",
    "**Parte 1**:\n",
    "1. Define una función que tome como parametro una instancia o una lista de instancias y que aplique el mismo preprocesamiento a esa instancia o lista de instancias.\n",
    "2. Esta función debe usar el mismo escalador, aplicar las mismas transformaciones y crear las mismas columnas que las realizadas en el preprocesamiento.\n",
    "3. La función debe retornar una instancia unica o una lista de instancias ya preprocesadas.\n",
    "4. Estas instancias no tendran la columna de **`CO2EMISSIONS`**.\n",
    "\n",
    "**Parte 2**:\n",
    "\n",
    "Ahora tenemos que \"clasificar\" las nuevas instancias para saber con cual modelo de regresión vamos a hacer la prediccion:\n",
    "\n",
    "1. Utilizando el dataset preprocesado de **`FuelConsumptionCo2.csv`**, vamos a realizar un modelo de clasificación para predecir la columna generada por el **`cluster`**. Es decir, el dataset para este modelo debe tener todas las columnas a excepción de **`CO2EMISSIONS`** y vamos a intentar predecir la columna **`cluster`**.\n",
    "\n",
    "2. Define una función que tome como parámetro una instancia o lista de instancias **SIN PREPROCESAR** y que haga lo siguiente:\n",
    "    - Aplique el preprocesamiento (la función definida en la **Parte 1**).\n",
    "    - Utilice el modelo de clasificación para decidir que modelo de regresión aplicar.\n",
    "    - Dependiendo del caso, que haga la predicción del modelo de regresión a cada instancia.\n",
    "    - **Debe retornar una lista de predicciones del modelo de regresión**, recuerda desescalar los datos predichos."
   ]
  },
  {
   "cell_type": "code",
   "execution_count": null,
   "id": "0a63e9ad",
   "metadata": {},
   "outputs": [],
   "source": [
    "import numpy as np\n",
    "import pandas as pd\n",
    "import matplotlib.pyplot as plt\n",
    "import seaborn as sns\n",
    "import pickle\n",
    "\n",
    "# Normalizacion\n",
    "from sklearn.preprocessing import MinMaxScaler\n",
    "from sklearn.preprocessing import LabelEncoder\n",
    "\n",
    "# GridSearchCV\n",
    "from sklearn.model_selection import GridSearchCV\n",
    "\n",
    "# Train, Test\n",
    "from sklearn.model_selection import train_test_split\n",
    "\n",
    "# Metricas para regresiones\n",
    "from sklearn.metrics import mean_absolute_error\n",
    "from sklearn.metrics import mean_squared_error\n",
    "from sklearn.metrics import r2_score\n",
    "\n",
    "# Metricas para Clasificadores\n",
    "from sklearn.metrics import accuracy_score\n",
    "from sklearn.metrics import recall_score\n",
    "from sklearn.metrics import confusion_matrix\n",
    "from sklearn.metrics import roc_auc_score\n",
    "from sklearn.metrics import f1_score\n",
    "from sklearn.metrics import precision_score\n",
    "\n",
    "# Regresores\n",
    "from sklearn.linear_model import LinearRegression\n",
    "from sklearn.ensemble import RandomForestRegressor\n",
    "from sklearn.ensemble import AdaBoostRegressor\n",
    "from sklearn.ensemble import GradientBoostingRegressor\n",
    "from sklearn.svm import SVR\n",
    "from sklearn.neighbors import KNeighborsRegressor\n",
    "from sklearn.tree import DecisionTreeRegressor\n",
    "\n",
    "# Clasificadores\n",
    "from sklearn.linear_model import LogisticRegression\n",
    "from sklearn.neighbors import KNeighborsClassifier\n",
    "from sklearn.neighbors import NearestCentroid\n",
    "from sklearn.tree import DecisionTreeClassifier\n",
    "from sklearn.svm import SVC\n",
    "from sklearn.ensemble import RandomForestClassifier\n",
    "from sklearn.ensemble import AdaBoostClassifier\n",
    "from sklearn.ensemble import GradientBoostingClassifier\n",
    "\n",
    "# Validacion\n",
    "from sklearn.model_selection import LeaveOneOut\n",
    "from sklearn.model_selection import KFold\n",
    "\n",
    "# Clustering\n",
    "from sklearn.cluster import DBSCAN\n",
    "from sklearn.metrics import silhouette_score"
   ]
  },
  {
   "cell_type": "markdown",
   "id": "88cabb8f-002e-4a0c-bf14-a36ea7b80b0d",
   "metadata": {},
   "source": [
    "### CARGA DE DATOS"
   ]
  },
  {
   "cell_type": "code",
   "execution_count": null,
   "id": "e83e8a7d",
   "metadata": {},
   "outputs": [],
   "source": []
  }
 ],
 "metadata": {
  "kernelspec": {
   "display_name": "Python 3 (ipykernel)",
   "language": "python",
   "name": "python3"
  },
  "language_info": {
   "codemirror_mode": {
    "name": "ipython",
    "version": 3
   },
   "file_extension": ".py",
   "mimetype": "text/x-python",
   "name": "python",
   "nbconvert_exporter": "python",
   "pygments_lexer": "ipython3",
   "version": "3.9.7"
  }
 },
 "nbformat": 4,
 "nbformat_minor": 5
}
