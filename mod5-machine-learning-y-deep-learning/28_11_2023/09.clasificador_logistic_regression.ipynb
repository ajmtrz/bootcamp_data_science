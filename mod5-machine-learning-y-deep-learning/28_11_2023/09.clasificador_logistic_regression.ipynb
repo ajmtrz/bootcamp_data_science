{
 "cells": [
  {
   "cell_type": "markdown",
   "id": "999f6a7a",
   "metadata": {},
   "source": [
    "## Logistic Regression (Regressión Logística)\n",
    "\n",
    "La regresión logística es una técnica estadística y de machine learning que se utiliza para clasificar datos, mientras que las regresiones lineales buscan predecir una variable continua **la regresión logística se enfoca en predecir la clase de una variable categórica.**\n",
    "\n",
    "Por lo tanto forma parte de los modelos de clasificación. Es sencillo de implementar, tiene buen rendimiento cuando las clases son linealmente separables, trabaja mejor con clases binarias y es un modelo probabilístico. \n",
    "\n",
    "**La regresión logística mide la probabilidad de que un patrón pertenezca a una clase u otra.**"
   ]
  },
  {
   "attachments": {
    "ml_16.png": {
     "image/png": "[encoded data removed]"
    }
   },
   "cell_type": "markdown",
   "id": "a0e03ec3",
   "metadata": {},
   "source": [
    "### Función Logística (Sigmoid)\n",
    "\n",
    "La función logística, también conocida como **función sigmoidal** (o Sigmoid en inglés) es la función que le da nombre a este clasificador.\n",
    "\n",
    "Ésta función se define de la siguiente forma:\n",
    "\n",
    "$$sigmoid(x) = \\frac{1}{1 + e^{-x}}$$\n",
    "\n",
    "Otra forma de definir la función:\n",
    "\n",
    "$$sigmoid(x) = \\frac{e^{x}}{e^{x} + 1}$$\n",
    "\n",
    "Gráfica de la función sigmoidal:\n",
    "![ml_16.png](attachment:ml_16.png)\n",
    "\n",
    "\n",
    "**La función sigmoidal mostrada arriba es la que se usaría si tuviésemos un modelo de una sola característica (atributo).**\n",
    "\n",
    "Para **modelos multilíneales** el valor de **$x$ será sustituido por una función que se ajuste mejor a los datos de entrenamiento**, dando de esta forma una **variante de la función sigmoidal**, en otras palabras, estaríamos hablando de una función sigmoidal donde **$x$ pasa a ser una función de n-variables (una por cada atributo o columna)**, similar a lo que sucede con las **Regresiones Lineales**.\n",
    "\n",
    "Para estos casos, la función sigmoidal sería: \n",
    "\n",
    "$$sigmoid(x) = \\frac{1}{1 + e^{-(w_{0}*x_{0} + w_{1}*x_{1}+...+w_{n})}}$$\n",
    "\n",
    "\n",
    "\n",
    "**$x$ pasa a ser una ecuación lineal resultado de una regresión lineal que se ajusta lo mejor posible a los datos.**\n",
    "\n",
    "- El **dominio de esta función son todos los números reales** y el rango o **codominio son los valores entre 0 y 1**, sin incluirlos, es decir, **nunca llegan a ser 0 o 1**.\n",
    "\n",
    "\n",
    "- La idea detrás de este clasificador es **\"transformar\"** cada instancia del conjunto de entrenamiento **usando la función sigmoidal**, dando como **resultado un número entre 0 y 1**. Dependiendo del resultado, el clasificador asignará una clase a cada instancia. **Si el resultado es < 0.5 el clasificador lo asignará a la clase 0, si el resultado es > 0.5 el clasificador lo asignará a la clase 1**.\n",
    "\n",
    "\n",
    "- **La regresión logística es un algoritmo lineal** (con una transformación no lineal en la salida). **Asume una relación lineal entre las variables de entrada con la salida.** Las transformaciones de datos de sus variables de entrada que exponen mejor esta relación lineal pueden dar como **resultado un modelo más preciso**. Por ejemplo, puede usar **log, sqrt, Box-Cox y otras transformaciones** univariadas para exponer mejor esta relación.\n",
    "\n",
    "\n",
    "- **El modelo puede sobreajustarse (overfitting)** si tiene varias características (atributos) altamente correlacionados. Podemos considerar eliminar las características (atributos) altamente correlacionadas.\n",
    "\n",
    "\n",
    "- **Es posible que el proceso de estimación de probabilidad esperada que aprende los coeficientes no converja**. Esto puede suceder si hay muchas características altamente correlacionadas o tenemos una matriz **\"sparse\"** (una matriz con muchos ceros).\n",
    "\n",
    "\n",
    "_**Documentación:** https://scikit-learn.org/stable/modules/generated/sklearn.linear_model.LogisticRegression.html_"
   ]
  },
  {
   "cell_type": "code",
   "execution_count": 1,
   "id": "b01645c8",
   "metadata": {},
   "outputs": [],
   "source": [
    "import numpy as np\n",
    "import pandas as pd\n",
    "import matplotlib.pyplot as plt\n",
    "import seaborn as sns\n",
    "\n",
    "from sklearn import datasets\n",
    "\n",
    "# Normalizacion\n",
    "from sklearn.preprocessing import MinMaxScaler\n",
    "\n",
    "# Train, Test\n",
    "from sklearn.model_selection import train_test_split\n",
    "\n",
    "# Metricas\n",
    "from sklearn.metrics import jaccard_score\n",
    "from sklearn.metrics import accuracy_score\n",
    "from sklearn.metrics import precision_score\n",
    "from sklearn.metrics import recall_score\n",
    "from sklearn.metrics import f1_score\n",
    "from sklearn.metrics import roc_auc_score\n",
    "\n",
    "from sklearn.metrics import confusion_matrix\n",
    "from sklearn.metrics import classification_report"
   ]
  },
  {
   "cell_type": "code",
   "execution_count": 2,
   "id": "31e886bc",
   "metadata": {},
   "outputs": [],
   "source": [
    "iris = datasets.load_iris()\n",
    "X = iris.data[:100, :2]\n",
    "y = iris.target[:100]\n",
    "\n",
    "# En esta ocasión vamos a quedarnos con las primeras 2 clases"
   ]
  },
  {
   "cell_type": "code",
   "execution_count": 3,
   "id": "ce6371b9",
   "metadata": {},
   "outputs": [
    {
     "data": {
      "text/plain": [
       "((100, 2), (100,))"
      ]
     },
     "execution_count": 3,
     "metadata": {},
     "output_type": "execute_result"
    }
   ],
   "source": [
    "X.shape, y.shape"
   ]
  },
  {
   "cell_type": "markdown",
   "id": "f6aedd71",
   "metadata": {},
   "source": [
    "### Procesamiento"
   ]
  },
  {
   "cell_type": "code",
   "execution_count": 4,
   "id": "7fa4861c",
   "metadata": {
    "scrolled": true
   },
   "outputs": [
    {
     "data": {
      "text/plain": [
       "array([[0.2962963 , 0.625     ],\n",
       "       [0.22222222, 0.41666667],\n",
       "       [0.14814815, 0.5       ],\n",
       "       [0.11111111, 0.45833333],\n",
       "       [0.25925926, 0.66666667],\n",
       "       [0.40740741, 0.79166667],\n",
       "       [0.11111111, 0.58333333],\n",
       "       [0.25925926, 0.58333333],\n",
       "       [0.03703704, 0.375     ],\n",
       "       [0.22222222, 0.45833333],\n",
       "       [0.40740741, 0.70833333],\n",
       "       [0.18518519, 0.58333333],\n",
       "       [0.18518519, 0.41666667],\n",
       "       [0.        , 0.41666667],\n",
       "       [0.55555556, 0.83333333],\n",
       "       [0.51851852, 1.        ],\n",
       "       [0.40740741, 0.79166667],\n",
       "       [0.2962963 , 0.625     ],\n",
       "       [0.51851852, 0.75      ],\n",
       "       [0.2962963 , 0.75      ],\n",
       "       [0.40740741, 0.58333333],\n",
       "       [0.2962963 , 0.70833333],\n",
       "       [0.11111111, 0.66666667],\n",
       "       [0.2962963 , 0.54166667],\n",
       "       [0.18518519, 0.58333333],\n",
       "       [0.25925926, 0.41666667],\n",
       "       [0.25925926, 0.58333333],\n",
       "       [0.33333333, 0.625     ],\n",
       "       [0.33333333, 0.58333333],\n",
       "       [0.14814815, 0.5       ],\n",
       "       [0.18518519, 0.45833333],\n",
       "       [0.40740741, 0.58333333],\n",
       "       [0.33333333, 0.875     ],\n",
       "       [0.44444444, 0.91666667],\n",
       "       [0.22222222, 0.45833333],\n",
       "       [0.25925926, 0.5       ],\n",
       "       [0.44444444, 0.625     ],\n",
       "       [0.22222222, 0.66666667],\n",
       "       [0.03703704, 0.41666667],\n",
       "       [0.2962963 , 0.58333333],\n",
       "       [0.25925926, 0.625     ],\n",
       "       [0.07407407, 0.125     ],\n",
       "       [0.03703704, 0.5       ],\n",
       "       [0.25925926, 0.625     ],\n",
       "       [0.2962963 , 0.75      ],\n",
       "       [0.18518519, 0.41666667],\n",
       "       [0.2962963 , 0.75      ],\n",
       "       [0.11111111, 0.5       ],\n",
       "       [0.37037037, 0.70833333],\n",
       "       [0.25925926, 0.54166667],\n",
       "       [1.        , 0.5       ],\n",
       "       [0.77777778, 0.5       ],\n",
       "       [0.96296296, 0.45833333],\n",
       "       [0.44444444, 0.125     ],\n",
       "       [0.81481481, 0.33333333],\n",
       "       [0.51851852, 0.33333333],\n",
       "       [0.74074074, 0.54166667],\n",
       "       [0.22222222, 0.16666667],\n",
       "       [0.85185185, 0.375     ],\n",
       "       [0.33333333, 0.29166667],\n",
       "       [0.25925926, 0.        ],\n",
       "       [0.59259259, 0.41666667],\n",
       "       [0.62962963, 0.08333333],\n",
       "       [0.66666667, 0.375     ],\n",
       "       [0.48148148, 0.375     ],\n",
       "       [0.88888889, 0.45833333],\n",
       "       [0.48148148, 0.41666667],\n",
       "       [0.55555556, 0.29166667],\n",
       "       [0.7037037 , 0.08333333],\n",
       "       [0.48148148, 0.20833333],\n",
       "       [0.59259259, 0.5       ],\n",
       "       [0.66666667, 0.33333333],\n",
       "       [0.74074074, 0.20833333],\n",
       "       [0.66666667, 0.33333333],\n",
       "       [0.77777778, 0.375     ],\n",
       "       [0.85185185, 0.41666667],\n",
       "       [0.92592593, 0.33333333],\n",
       "       [0.88888889, 0.41666667],\n",
       "       [0.62962963, 0.375     ],\n",
       "       [0.51851852, 0.25      ],\n",
       "       [0.44444444, 0.16666667],\n",
       "       [0.44444444, 0.16666667],\n",
       "       [0.55555556, 0.29166667],\n",
       "       [0.62962963, 0.29166667],\n",
       "       [0.40740741, 0.41666667],\n",
       "       [0.62962963, 0.58333333],\n",
       "       [0.88888889, 0.45833333],\n",
       "       [0.74074074, 0.125     ],\n",
       "       [0.48148148, 0.41666667],\n",
       "       [0.44444444, 0.20833333],\n",
       "       [0.44444444, 0.25      ],\n",
       "       [0.66666667, 0.41666667],\n",
       "       [0.55555556, 0.25      ],\n",
       "       [0.25925926, 0.125     ],\n",
       "       [0.48148148, 0.29166667],\n",
       "       [0.51851852, 0.41666667],\n",
       "       [0.51851852, 0.375     ],\n",
       "       [0.7037037 , 0.375     ],\n",
       "       [0.2962963 , 0.20833333],\n",
       "       [0.51851852, 0.33333333]])"
      ]
     },
     "execution_count": 4,
     "metadata": {},
     "output_type": "execute_result"
    }
   ],
   "source": [
    "# Normalización de datos\n",
    "\n",
    "x_scaler = MinMaxScaler()\n",
    "X = x_scaler.fit_transform(X)\n",
    "\n",
    "X"
   ]
  },
  {
   "cell_type": "markdown",
   "id": "3a233edb",
   "metadata": {},
   "source": [
    "### Train, Test"
   ]
  },
  {
   "cell_type": "code",
   "execution_count": 5,
   "id": "8742e4a9",
   "metadata": {},
   "outputs": [
    {
     "name": "stdout",
     "output_type": "stream",
     "text": [
      "X_train: (70, 2), y_train: (70,)\n",
      "X_test: (30, 2),  y_test: (30,)\n"
     ]
    }
   ],
   "source": [
    "X_train, X_test, y_train, y_test = train_test_split(X, y, test_size = 0.3, random_state = 42)\n",
    "\n",
    "print(f\"X_train: {X_train.shape}, y_train: {y_train.shape}\")\n",
    "print(f\"X_test: {X_test.shape},  y_test: {y_test.shape}\")"
   ]
  },
  {
   "cell_type": "markdown",
   "id": "c79c7ec8",
   "metadata": {},
   "source": [
    "### Modelo"
   ]
  },
  {
   "cell_type": "code",
   "execution_count": 6,
   "id": "fcf7e6eb",
   "metadata": {},
   "outputs": [
    {
     "data": {
      "text/html": [
       "<style>#sk-container-id-1 {color: black;background-color: white;}#sk-container-id-1 pre{padding: 0;}#sk-container-id-1 div.sk-toggleable {background-color: white;}#sk-container-id-1 label.sk-toggleable__label {cursor: pointer;display: block;width: 100%;margin-bottom: 0;padding: 0.3em;box-sizing: border-box;text-align: center;}#sk-container-id-1 label.sk-toggleable__label-arrow:before {content: \"▸\";float: left;margin-right: 0.25em;color: #696969;}#sk-container-id-1 label.sk-toggleable__label-arrow:hover:before {color: black;}#sk-container-id-1 div.sk-estimator:hover label.sk-toggleable__label-arrow:before {color: black;}#sk-container-id-1 div.sk-toggleable__content {max-height: 0;max-width: 0;overflow: hidden;text-align: left;background-color: #f0f8ff;}#sk-container-id-1 div.sk-toggleable__content pre {margin: 0.2em;color: black;border-radius: 0.25em;background-color: #f0f8ff;}#sk-container-id-1 input.sk-toggleable__control:checked~div.sk-toggleable__content {max-height: 200px;max-width: 100%;overflow: auto;}#sk-container-id-1 input.sk-toggleable__control:checked~label.sk-toggleable__label-arrow:before {content: \"▾\";}#sk-container-id-1 div.sk-estimator input.sk-toggleable__control:checked~label.sk-toggleable__label {background-color: #d4ebff;}#sk-container-id-1 div.sk-label input.sk-toggleable__control:checked~label.sk-toggleable__label {background-color: #d4ebff;}#sk-container-id-1 input.sk-hidden--visually {border: 0;clip: rect(1px 1px 1px 1px);clip: rect(1px, 1px, 1px, 1px);height: 1px;margin: -1px;overflow: hidden;padding: 0;position: absolute;width: 1px;}#sk-container-id-1 div.sk-estimator {font-family: monospace;background-color: #f0f8ff;border: 1px dotted black;border-radius: 0.25em;box-sizing: border-box;margin-bottom: 0.5em;}#sk-container-id-1 div.sk-estimator:hover {background-color: #d4ebff;}#sk-container-id-1 div.sk-parallel-item::after {content: \"\";width: 100%;border-bottom: 1px solid gray;flex-grow: 1;}#sk-container-id-1 div.sk-label:hover label.sk-toggleable__label {background-color: #d4ebff;}#sk-container-id-1 div.sk-serial::before {content: \"\";position: absolute;border-left: 1px solid gray;box-sizing: border-box;top: 0;bottom: 0;left: 50%;z-index: 0;}#sk-container-id-1 div.sk-serial {display: flex;flex-direction: column;align-items: center;background-color: white;padding-right: 0.2em;padding-left: 0.2em;position: relative;}#sk-container-id-1 div.sk-item {position: relative;z-index: 1;}#sk-container-id-1 div.sk-parallel {display: flex;align-items: stretch;justify-content: center;background-color: white;position: relative;}#sk-container-id-1 div.sk-item::before, #sk-container-id-1 div.sk-parallel-item::before {content: \"\";position: absolute;border-left: 1px solid gray;box-sizing: border-box;top: 0;bottom: 0;left: 50%;z-index: -1;}#sk-container-id-1 div.sk-parallel-item {display: flex;flex-direction: column;z-index: 1;position: relative;background-color: white;}#sk-container-id-1 div.sk-parallel-item:first-child::after {align-self: flex-end;width: 50%;}#sk-container-id-1 div.sk-parallel-item:last-child::after {align-self: flex-start;width: 50%;}#sk-container-id-1 div.sk-parallel-item:only-child::after {width: 0;}#sk-container-id-1 div.sk-dashed-wrapped {border: 1px dashed gray;margin: 0 0.4em 0.5em 0.4em;box-sizing: border-box;padding-bottom: 0.4em;background-color: white;}#sk-container-id-1 div.sk-label label {font-family: monospace;font-weight: bold;display: inline-block;line-height: 1.2em;}#sk-container-id-1 div.sk-label-container {text-align: center;}#sk-container-id-1 div.sk-container {/* jupyter's `normalize.less` sets `[hidden] { display: none; }` but bootstrap.min.css set `[hidden] { display: none !important; }` so we also need the `!important` here to be able to override the default hidden behavior on the sphinx rendered scikit-learn.org. See: https://github.com/scikit-learn/scikit-learn/issues/21755 */display: inline-block !important;position: relative;}#sk-container-id-1 div.sk-text-repr-fallback {display: none;}</style><div id=\"sk-container-id-1\" class=\"sk-top-container\"><div class=\"sk-text-repr-fallback\"><pre>LogisticRegression()</pre><b>In a Jupyter environment, please rerun this cell to show the HTML representation or trust the notebook. <br />On GitHub, the HTML representation is unable to render, please try loading this page with nbviewer.org.</b></div><div class=\"sk-container\" hidden><div class=\"sk-item\"><div class=\"sk-estimator sk-toggleable\"><input class=\"sk-toggleable__control sk-hidden--visually\" id=\"sk-estimator-id-1\" type=\"checkbox\" checked><label for=\"sk-estimator-id-1\" class=\"sk-toggleable__label sk-toggleable__label-arrow\">LogisticRegression</label><div class=\"sk-toggleable__content\"><pre>LogisticRegression()</pre></div></div></div></div></div>"
      ],
      "text/plain": [
       "LogisticRegression()"
      ]
     },
     "execution_count": 6,
     "metadata": {},
     "output_type": "execute_result"
    }
   ],
   "source": [
    "from sklearn.linear_model import LogisticRegression\n",
    "\n",
    "model = LogisticRegression()\n",
    "model.fit(X_train, y_train)"
   ]
  },
  {
   "cell_type": "markdown",
   "id": "2a4f2d4b",
   "metadata": {},
   "source": [
    "### Predicciones"
   ]
  },
  {
   "cell_type": "code",
   "execution_count": null,
   "id": "93af6df4",
   "metadata": {},
   "outputs": [
    {
     "data": {
      "text/plain": [
       "array([1, 1, 1, 0, 0, 0, 0, 1, 0, 0, 0, 0, 1, 0, 1, 0, 1, 1, 0, 0, 1, 1,\n",
       "       0, 0, 1, 0, 0, 1, 0, 1])"
      ]
     },
     "execution_count": 7,
     "metadata": {},
     "output_type": "execute_result"
    }
   ],
   "source": [
    "yhat = model.predict(X_test)\n",
    "\n",
    "yhat"
   ]
  },
  {
   "cell_type": "code",
   "execution_count": null,
   "id": "5d694a34",
   "metadata": {},
   "outputs": [
    {
     "name": "stdout",
     "output_type": "stream",
     "text": [
      "Jaccard Index: 1.0\n",
      "Accuracy: 1.0\n",
      "Precisión: 1.0\n",
      "Sensibilidad: 1.0\n",
      "F1-score: 1.0\n"
     ]
    }
   ],
   "source": [
    "print(\"Jaccard Index:\", jaccard_score(y_test, yhat, average = \"macro\"))\n",
    "print(\"Accuracy:\"     , accuracy_score(y_test, yhat))\n",
    "print(\"Precisión:\"    , precision_score(y_test, yhat, average = \"macro\"))\n",
    "print(\"Sensibilidad:\" , recall_score(y_test, yhat, average = \"macro\"))\n",
    "print(\"F1-score:\"     , f1_score(y_test, yhat, average = \"macro\"))"
   ]
  },
  {
   "cell_type": "markdown",
   "id": "8718ebae",
   "metadata": {},
   "source": [
    "### Confusion Matrix"
   ]
  },
  {
   "cell_type": "code",
   "execution_count": null,
   "id": "43c3138f",
   "metadata": {},
   "outputs": [
    {
     "data": {
      "text/plain": [
       "array([[17,  0],\n",
       "       [ 0, 13]], dtype=int64)"
      ]
     },
     "execution_count": 9,
     "metadata": {},
     "output_type": "execute_result"
    }
   ],
   "source": [
    "confusion_matrix(y_test, yhat, labels = [0, 1])"
   ]
  },
  {
   "cell_type": "markdown",
   "id": "7b192bf8",
   "metadata": {},
   "source": [
    "### Classification Report"
   ]
  },
  {
   "cell_type": "code",
   "execution_count": null,
   "id": "6919d72f",
   "metadata": {},
   "outputs": [
    {
     "name": "stdout",
     "output_type": "stream",
     "text": [
      "              precision    recall  f1-score   support\n",
      "\n",
      "           0      1.000     1.000     1.000        17\n",
      "           1      1.000     1.000     1.000        13\n",
      "\n",
      "    accuracy                          1.000        30\n",
      "   macro avg      1.000     1.000     1.000        30\n",
      "weighted avg      1.000     1.000     1.000        30\n",
      "\n"
     ]
    }
   ],
   "source": [
    "print(classification_report(y_test, yhat, digits = 3))"
   ]
  },
  {
   "cell_type": "markdown",
   "id": "15bf495d",
   "metadata": {},
   "source": [
    "### Métodos y Atributos del Modelo"
   ]
  },
  {
   "cell_type": "code",
   "execution_count": null,
   "id": "5a2d94cb",
   "metadata": {
    "scrolled": true
   },
   "outputs": [
    {
     "data": {
      "text/plain": [
       "array([[0.24371714, 0.75628286],\n",
       "       [0.27259765, 0.72740235],\n",
       "       [0.38006402, 0.61993598],\n",
       "       [0.63677249, 0.36322751],\n",
       "       [0.74319439, 0.25680561],\n",
       "       [0.65473469, 0.34526531],\n",
       "       [0.80610904, 0.19389096],\n",
       "       [0.29404834, 0.70595166],\n",
       "       [0.64857255, 0.35142745],\n",
       "       [0.67821861, 0.32178139],\n",
       "       [0.5924888 , 0.4075112 ],\n",
       "       [0.66084528, 0.33915472],\n",
       "       [0.24205315, 0.75794685],\n",
       "       [0.73622572, 0.26377428],\n",
       "       [0.3397425 , 0.6602575 ],\n",
       "       [0.72432283, 0.27567717],\n",
       "       [0.12514778, 0.87485222],\n",
       "       [0.16541599, 0.83458401],\n",
       "       [0.63677249, 0.36322751],\n",
       "       [0.57339826, 0.42660174],\n",
       "       [0.33569474, 0.66430526],\n",
       "       [0.41181924, 0.58818076],\n",
       "       [0.68019021, 0.31980979],\n",
       "       [0.77410899, 0.22589101],\n",
       "       [0.29217347, 0.70782653],\n",
       "       [0.73269622, 0.26730378],\n",
       "       [0.70272884, 0.29727116],\n",
       "       [0.3596556 , 0.6403444 ],\n",
       "       [0.63467698, 0.36532302],\n",
       "       [0.15604495, 0.84395505]])"
      ]
     },
     "execution_count": 11,
     "metadata": {},
     "output_type": "execute_result"
    }
   ],
   "source": [
    "# .predict_proba()\n",
    "\n",
    "model.predict_proba(X_test)"
   ]
  },
  {
   "cell_type": "markdown",
   "id": "45081f76",
   "metadata": {},
   "source": [
    "### Recta que separa las nubes de puntos"
   ]
  },
  {
   "cell_type": "code",
   "execution_count": null,
   "id": "f7cea126-0d93-44c3-94ac-2ef45c318d86",
   "metadata": {},
   "outputs": [
    {
     "data": {
      "text/plain": [
       "array([[ 3.09768585, -2.53632744]])"
      ]
     },
     "execution_count": 12,
     "metadata": {},
     "output_type": "execute_result"
    }
   ],
   "source": [
    "model.coef_"
   ]
  },
  {
   "cell_type": "code",
   "execution_count": null,
   "id": "ede34003-9eb6-4491-bcef-61e6c7f0b803",
   "metadata": {},
   "outputs": [
    {
     "data": {
      "text/plain": [
       "array([-0.07822546])"
      ]
     },
     "execution_count": 13,
     "metadata": {},
     "output_type": "execute_result"
    }
   ],
   "source": [
    "model.intercept_"
   ]
  },
  {
   "cell_type": "code",
   "execution_count": 36,
   "id": "fe817cc9",
   "metadata": {},
   "outputs": [
    {
     "name": "stdout",
     "output_type": "stream",
     "text": [
      "RECTA\n",
      "\tCoeficientes: [ 3.09768585 -2.53632744]\n",
      "\tIntercepción: -0.07822545952644275\n",
      "\tEcuación: +3.098*w0 -2.536*w1 -0.078\n",
      "****************************************************************************************************\n",
      "FUNCION SIGMOID\n",
      "\t1 / (1 + e**-(+3.098*w0 -2.536*w1 -0.078))\n"
     ]
    }
   ],
   "source": [
    "# Ecuación de la recta definida por el modelo\n",
    "\n",
    "print(\"RECTA\")\n",
    "\n",
    "print(f\"\\tCoeficientes: {model.coef_[0]}\")\n",
    "\n",
    "print(f\"\\tIntercepción: {model.intercept_[0]}\")\n",
    "\n",
    "ecuacion = \" \".join(([f\"+{coef}*w{num}\" if coef >= 0 else f\"{coef}*w{num}\"\\\n",
    "                      for num, coef in enumerate(np.round(model.coef_[0], 3))]\\\n",
    "                     + [str(np.round(model.intercept_[0], 3))]))\n",
    "\n",
    "print(f\"\\tEcuación: {ecuacion}\")\n",
    "\n",
    "print(\"*\"*100)\n",
    "\n",
    "print(\"FUNCION SIGMOID\")\n",
    "\n",
    "print(f\"\\t1 / (1 + e**-({ecuacion}))\")"
   ]
  },
  {
   "cell_type": "code",
   "execution_count": 37,
   "id": "d5a7e389",
   "metadata": {},
   "outputs": [
    {
     "data": {
      "image/png": "[encoded data removed]",
      "text/plain": [
       "<Figure size 576x432 with 1 Axes>"
      ]
     },
     "metadata": {
      "needs_background": "light"
     },
     "output_type": "display_data"
    }
   ],
   "source": [
    "# Gráfico\n",
    "\n",
    "plt.figure(figsize = (8, 6))\n",
    "\n",
    "# Puntos de las primera 2 clases\n",
    "sns.scatterplot(x = X[:, 0], y = X[:, 1], c = y, cmap = \"cool\")\n",
    "\n",
    "# Recta\n",
    "x_linspace = np.linspace(-0.25, 1.25, 100)\n",
    "recta = (model.coef_[0][0]*x_linspace + model.intercept_[0])/(-model.coef_[0][1])\n",
    "\n",
    "plt.plot(x_linspace, recta)\n",
    "\n",
    "plt.xlim(-0.25, 1.25)\n",
    "plt.ylim(-0.25, 1.25)\n",
    "\n",
    "plt.show()"
   ]
  },
  {
   "cell_type": "markdown",
   "id": "7297bdbc",
   "metadata": {},
   "source": [
    "### Representación de yhat y la función Sigmoid"
   ]
  },
  {
   "cell_type": "code",
   "execution_count": 38,
   "id": "474cdd0f",
   "metadata": {},
   "outputs": [],
   "source": [
    "def sigmoid(x):\n",
    "    return 1 / (1 + np.exp(-x))\n",
    "\n",
    "def sigmoid_regression(coef_, intercept_, x):\n",
    "    recta = np.dot(coef_, x) + intercept_\n",
    "    \n",
    "    return sigmoid(recta)"
   ]
  },
  {
   "cell_type": "code",
   "execution_count": 40,
   "id": "15a36ac8",
   "metadata": {},
   "outputs": [
    {
     "data": {
      "image/png": "[encoded data removed]",
      "text/plain": [
       "<Figure size 720x432 with 1 Axes>"
      ]
     },
     "metadata": {
      "needs_background": "light"
     },
     "output_type": "display_data"
    }
   ],
   "source": [
    "plt.figure(figsize = (10, 6))\n",
    "\n",
    "x_linspace = np.linspace(-5, 5, 100)\n",
    "curva_sigmoid = sigmoid_regression(model.coef_[0][0], model.intercept_[0], x_linspace)\n",
    "\n",
    "# Curva Sigmoid Original\n",
    "plt.plot(x_linspace, sigmoid(x_linspace), color = \"black\", alpha = 0.3, label = \"Sigmoid\")\n",
    "\n",
    "# Curva Sigmoid de la regression\n",
    "plt.plot(x_linspace, curva_sigmoid, label = \"Sigmoid Modelo\")\n",
    "\n",
    "# Puntos de X_test & y_test\n",
    "sns.scatterplot(x = X_test[:, 0], y = y_test, color = \"orange\", hue=y_test,  alpha = 0.5)\n",
    "\n",
    "plt.title(\"Valores Reales\")\n",
    "plt.legend()\n",
    "plt.show()"
   ]
  },
  {
   "cell_type": "code",
   "execution_count": 41,
   "id": "8efd374a",
   "metadata": {},
   "outputs": [
    {
     "data": {
      "image/png": "[encoded data removed]",
      "text/plain": [
       "<Figure size 720x432 with 1 Axes>"
      ]
     },
     "metadata": {
      "needs_background": "light"
     },
     "output_type": "display_data"
    }
   ],
   "source": [
    "plt.figure(figsize = (10, 6))\n",
    "\n",
    "x_linspace = np.linspace(-5, 5, 100)\n",
    "curva_sigmoid = sigmoid_regression(model.coef_[0][0], model.intercept_[0], x_linspace)\n",
    "\n",
    "# Curva Sigmoid Original\n",
    "plt.plot(x_linspace, sigmoid(x_linspace), color = \"black\", alpha = 0.3, label = \"Sigmoid\")\n",
    "\n",
    "# Curva Sigmoid de la regression\n",
    "plt.plot(x_linspace, curva_sigmoid, label = \"Sigmoid Modelo\")\n",
    "\n",
    "# Puntos de X_test & y_test\n",
    "sns.scatterplot(x = X_test[:, 0], y = yhat, color = \"orange\", hue=yhat, alpha = 0.5)\n",
    "\n",
    "plt.title(\"Predicciones\")\n",
    "plt.legend()\n",
    "plt.show()"
   ]
  },
  {
   "cell_type": "code",
   "execution_count": null,
   "id": "6e66637b",
   "metadata": {},
   "outputs": [],
   "source": [
    "################################################################################################################################"
   ]
  },
  {
   "cell_type": "markdown",
   "id": "2f53f286",
   "metadata": {},
   "source": [
    "### Ejercicio 1:\n",
    "- Utiliza el dataset del titanic para practicar **`LogisticRegression`**:"
   ]
  },
  {
   "cell_type": "code",
   "execution_count": null,
   "id": "457e670b",
   "metadata": {},
   "outputs": [],
   "source": []
  },
  {
   "cell_type": "code",
   "execution_count": null,
   "id": "3d7ab1a0",
   "metadata": {},
   "outputs": [],
   "source": []
  },
  {
   "cell_type": "code",
   "execution_count": null,
   "id": "936c21c5",
   "metadata": {},
   "outputs": [],
   "source": []
  },
  {
   "cell_type": "code",
   "execution_count": null,
   "id": "4444a40e",
   "metadata": {},
   "outputs": [],
   "source": []
  },
  {
   "cell_type": "code",
   "execution_count": null,
   "id": "47f88f09",
   "metadata": {},
   "outputs": [],
   "source": []
  },
  {
   "cell_type": "code",
   "execution_count": null,
   "id": "d383d597",
   "metadata": {},
   "outputs": [],
   "source": []
  },
  {
   "cell_type": "code",
   "execution_count": null,
   "id": "3e4bd783",
   "metadata": {},
   "outputs": [],
   "source": []
  },
  {
   "cell_type": "code",
   "execution_count": null,
   "id": "1039651d",
   "metadata": {},
   "outputs": [],
   "source": []
  }
 ],
 "metadata": {
  "kernelspec": {
   "display_name": "Python 3 (ipykernel)",
   "language": "python",
   "name": "python3"
  },
  "language_info": {
   "codemirror_mode": {
    "name": "ipython",
    "version": 3
   },
   "file_extension": ".py",
   "mimetype": "text/x-python",
   "name": "python",
   "nbconvert_exporter": "python",
   "pygments_lexer": "ipython3",
   "version": "3.9.7"
  }
 },
 "nbformat": 4,
 "nbformat_minor": 5
}
