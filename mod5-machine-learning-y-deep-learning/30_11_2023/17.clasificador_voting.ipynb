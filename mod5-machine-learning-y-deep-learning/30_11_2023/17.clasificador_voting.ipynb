{
 "cells": [
  {
   "attachments": {
    "ml_28.png": {
     "image/png": "[encoded data removed]"
    }
   },
   "cell_type": "markdown",
   "id": "c1c26a58",
   "metadata": {},
   "source": [
    "## Voting Classifier \n",
    "\n",
    "**VotingClassifier** es un modelo de aprendizaje automático **\"conjunto\"** que combina las **predicciones de otros modelos**.\n",
    "\n",
    "**Es una técnica que se puede utilizar para mejorar el rendimiento del modelo**, idealmente logrando un mejor rendimiento que cualquier modelo único utilizado en el conjunto.\n",
    "\n",
    "**VotingClassifier** funciona combinando las predicciones de múltiples modelos. Se puede utilizar para clasificación o regresión. En el caso de la regresión, esto implica calcular el promedio de las predicciones de los modelos. En el caso de la clasificación, se suman las predicciones para cada etiqueta y se predice la etiqueta con el voto mayoritario.\n",
    "\n",
    "**VotingClassifier** no garantiza que el conjunto de modelos proporcione un mejor rendimiento que cualquier modelo único utilizado en el conjunto. Si algún modelo utilizado en el conjunto funciona mejor que el conjunto de votación, probablemente sea mejor usar ese modelo en lugar del conjunto de votación.\n",
    "\n",
    "![ml_28.png](attachment:ml_28.png)\n",
    "\n",
    "_**Documentacion:** https://scikit-learn.org/stable/modules/generated/sklearn.ensemble.VotingClassifier.html_"
   ]
  },
  {
   "cell_type": "code",
   "execution_count": 1,
   "id": "cc01ae72",
   "metadata": {},
   "outputs": [],
   "source": [
    "import numpy as np\n",
    "import pandas as pd\n",
    "import matplotlib.pyplot as plt\n",
    "import seaborn as sns\n",
    "\n",
    "from sklearn import datasets\n",
    "\n",
    "# Normalizacion\n",
    "from sklearn.preprocessing import MinMaxScaler\n",
    "\n",
    "# GridSearchCV\n",
    "from sklearn.model_selection import GridSearchCV\n",
    "\n",
    "# Train, Test\n",
    "from sklearn.model_selection import train_test_split\n",
    "\n",
    "# Metricas\n",
    "from sklearn.metrics import jaccard_score\n",
    "from sklearn.metrics import accuracy_score\n",
    "from sklearn.metrics import precision_score\n",
    "from sklearn.metrics import recall_score\n",
    "from sklearn.metrics import f1_score\n",
    "from sklearn.metrics import roc_auc_score\n",
    "from sklearn.metrics import confusion_matrix\n",
    "from sklearn.metrics import classification_report\n",
    "\n",
    "# Clasificadores\n",
    "from sklearn.neighbors import KNeighborsClassifier\n",
    "from sklearn.neighbors import RadiusNeighborsClassifier\n",
    "from sklearn.neighbors import NearestCentroid\n",
    "from sklearn.naive_bayes import GaussianNB\n",
    "from sklearn.linear_model import LogisticRegression\n",
    "from sklearn.tree import DecisionTreeClassifier\n",
    "from sklearn.ensemble import RandomForestClassifier\n",
    "from sklearn.svm import SVC\n",
    "from sklearn.ensemble import AdaBoostClassifier\n",
    "from sklearn.ensemble import GradientBoostingClassifier\n",
    "\n",
    "# Validacion\n",
    "from sklearn.model_selection import StratifiedKFold"
   ]
  },
  {
   "cell_type": "code",
   "execution_count": 2,
   "id": "a4e4684c",
   "metadata": {},
   "outputs": [
    {
     "data": {
      "text/html": [
       "<div>\n",
       "<style scoped>\n",
       "    .dataframe tbody tr th:only-of-type {\n",
       "        vertical-align: middle;\n",
       "    }\n",
       "\n",
       "    .dataframe tbody tr th {\n",
       "        vertical-align: top;\n",
       "    }\n",
       "\n",
       "    .dataframe thead th {\n",
       "        text-align: right;\n",
       "    }\n",
       "</style>\n",
       "<table border=\"1\" class=\"dataframe\">\n",
       "  <thead>\n",
       "    <tr style=\"text-align: right;\">\n",
       "      <th></th>\n",
       "      <th>ID</th>\n",
       "      <th>LIMIT_BAL</th>\n",
       "      <th>SEX</th>\n",
       "      <th>EDUCATION</th>\n",
       "      <th>MARRIAGE</th>\n",
       "      <th>AGE</th>\n",
       "      <th>PAY_0</th>\n",
       "      <th>PAY_2</th>\n",
       "      <th>PAY_3</th>\n",
       "      <th>PAY_4</th>\n",
       "      <th>...</th>\n",
       "      <th>BILL_AMT4</th>\n",
       "      <th>BILL_AMT5</th>\n",
       "      <th>BILL_AMT6</th>\n",
       "      <th>PAY_AMT1</th>\n",
       "      <th>PAY_AMT2</th>\n",
       "      <th>PAY_AMT3</th>\n",
       "      <th>PAY_AMT4</th>\n",
       "      <th>PAY_AMT5</th>\n",
       "      <th>PAY_AMT6</th>\n",
       "      <th>default payment next month</th>\n",
       "    </tr>\n",
       "  </thead>\n",
       "  <tbody>\n",
       "    <tr>\n",
       "      <th>0</th>\n",
       "      <td>1</td>\n",
       "      <td>20000</td>\n",
       "      <td>2</td>\n",
       "      <td>2</td>\n",
       "      <td>1</td>\n",
       "      <td>24</td>\n",
       "      <td>2</td>\n",
       "      <td>2</td>\n",
       "      <td>-1</td>\n",
       "      <td>-1</td>\n",
       "      <td>...</td>\n",
       "      <td>0</td>\n",
       "      <td>0</td>\n",
       "      <td>0</td>\n",
       "      <td>0</td>\n",
       "      <td>689</td>\n",
       "      <td>0</td>\n",
       "      <td>0</td>\n",
       "      <td>0</td>\n",
       "      <td>0</td>\n",
       "      <td>1</td>\n",
       "    </tr>\n",
       "    <tr>\n",
       "      <th>1</th>\n",
       "      <td>2</td>\n",
       "      <td>120000</td>\n",
       "      <td>2</td>\n",
       "      <td>2</td>\n",
       "      <td>2</td>\n",
       "      <td>26</td>\n",
       "      <td>-1</td>\n",
       "      <td>2</td>\n",
       "      <td>0</td>\n",
       "      <td>0</td>\n",
       "      <td>...</td>\n",
       "      <td>3272</td>\n",
       "      <td>3455</td>\n",
       "      <td>3261</td>\n",
       "      <td>0</td>\n",
       "      <td>1000</td>\n",
       "      <td>1000</td>\n",
       "      <td>1000</td>\n",
       "      <td>0</td>\n",
       "      <td>2000</td>\n",
       "      <td>1</td>\n",
       "    </tr>\n",
       "    <tr>\n",
       "      <th>2</th>\n",
       "      <td>3</td>\n",
       "      <td>90000</td>\n",
       "      <td>2</td>\n",
       "      <td>2</td>\n",
       "      <td>2</td>\n",
       "      <td>34</td>\n",
       "      <td>0</td>\n",
       "      <td>0</td>\n",
       "      <td>0</td>\n",
       "      <td>0</td>\n",
       "      <td>...</td>\n",
       "      <td>14331</td>\n",
       "      <td>14948</td>\n",
       "      <td>15549</td>\n",
       "      <td>1518</td>\n",
       "      <td>1500</td>\n",
       "      <td>1000</td>\n",
       "      <td>1000</td>\n",
       "      <td>1000</td>\n",
       "      <td>5000</td>\n",
       "      <td>0</td>\n",
       "    </tr>\n",
       "    <tr>\n",
       "      <th>3</th>\n",
       "      <td>4</td>\n",
       "      <td>50000</td>\n",
       "      <td>2</td>\n",
       "      <td>2</td>\n",
       "      <td>1</td>\n",
       "      <td>37</td>\n",
       "      <td>0</td>\n",
       "      <td>0</td>\n",
       "      <td>0</td>\n",
       "      <td>0</td>\n",
       "      <td>...</td>\n",
       "      <td>28314</td>\n",
       "      <td>28959</td>\n",
       "      <td>29547</td>\n",
       "      <td>2000</td>\n",
       "      <td>2019</td>\n",
       "      <td>1200</td>\n",
       "      <td>1100</td>\n",
       "      <td>1069</td>\n",
       "      <td>1000</td>\n",
       "      <td>0</td>\n",
       "    </tr>\n",
       "    <tr>\n",
       "      <th>4</th>\n",
       "      <td>5</td>\n",
       "      <td>50000</td>\n",
       "      <td>1</td>\n",
       "      <td>2</td>\n",
       "      <td>1</td>\n",
       "      <td>57</td>\n",
       "      <td>-1</td>\n",
       "      <td>0</td>\n",
       "      <td>-1</td>\n",
       "      <td>0</td>\n",
       "      <td>...</td>\n",
       "      <td>20940</td>\n",
       "      <td>19146</td>\n",
       "      <td>19131</td>\n",
       "      <td>2000</td>\n",
       "      <td>36681</td>\n",
       "      <td>10000</td>\n",
       "      <td>9000</td>\n",
       "      <td>689</td>\n",
       "      <td>679</td>\n",
       "      <td>0</td>\n",
       "    </tr>\n",
       "  </tbody>\n",
       "</table>\n",
       "<p>5 rows × 25 columns</p>\n",
       "</div>"
      ],
      "text/plain": [
       "   ID  LIMIT_BAL  SEX  EDUCATION  MARRIAGE  AGE  PAY_0  PAY_2  PAY_3  PAY_4  \\\n",
       "0   1      20000    2          2         1   24      2      2     -1     -1   \n",
       "1   2     120000    2          2         2   26     -1      2      0      0   \n",
       "2   3      90000    2          2         2   34      0      0      0      0   \n",
       "3   4      50000    2          2         1   37      0      0      0      0   \n",
       "4   5      50000    1          2         1   57     -1      0     -1      0   \n",
       "\n",
       "   ...  BILL_AMT4  BILL_AMT5  BILL_AMT6  PAY_AMT1  PAY_AMT2  PAY_AMT3  \\\n",
       "0  ...          0          0          0         0       689         0   \n",
       "1  ...       3272       3455       3261         0      1000      1000   \n",
       "2  ...      14331      14948      15549      1518      1500      1000   \n",
       "3  ...      28314      28959      29547      2000      2019      1200   \n",
       "4  ...      20940      19146      19131      2000     36681     10000   \n",
       "\n",
       "   PAY_AMT4  PAY_AMT5  PAY_AMT6  default payment next month  \n",
       "0         0         0         0                           1  \n",
       "1      1000         0      2000                           1  \n",
       "2      1000      1000      5000                           0  \n",
       "3      1100      1069      1000                           0  \n",
       "4      9000       689       679                           0  \n",
       "\n",
       "[5 rows x 25 columns]"
      ]
     },
     "execution_count": 2,
     "metadata": {},
     "output_type": "execute_result"
    }
   ],
   "source": [
    "df = pd.read_excel(\"../Data/Creditcardclients.xls\")\n",
    "\n",
    "df.head()"
   ]
  },
  {
   "cell_type": "code",
   "execution_count": 4,
   "id": "627edb30-1621-4200-9580-e842a6201349",
   "metadata": {},
   "outputs": [
    {
     "data": {
      "text/plain": [
       "2    15964\n",
       "1    13659\n",
       "3      323\n",
       "0       54\n",
       "Name: MARRIAGE, dtype: int64"
      ]
     },
     "execution_count": 4,
     "metadata": {},
     "output_type": "execute_result"
    }
   ],
   "source": [
    "df.MARRIAGE.value_counts()"
   ]
  },
  {
   "cell_type": "code",
   "execution_count": 3,
   "id": "70c1122c",
   "metadata": {},
   "outputs": [
    {
     "data": {
      "text/plain": [
       "(30000, 25)"
      ]
     },
     "execution_count": 3,
     "metadata": {},
     "output_type": "execute_result"
    }
   ],
   "source": [
    "df.shape"
   ]
  },
  {
   "cell_type": "markdown",
   "id": "235e8489",
   "metadata": {},
   "source": [
    "### Preprocesamiento"
   ]
  },
  {
   "cell_type": "code",
   "execution_count": 5,
   "id": "e61a4dd4",
   "metadata": {},
   "outputs": [],
   "source": [
    "# Drop columna \"ID\"\n",
    "df.drop(\"ID\", axis = 1)\n",
    "\n",
    "# Renombrar la columna objetivo\n",
    "df = df.rename(columns = {\"default payment next month\" : \"class\"})\n",
    "\n",
    "# Transformaciones a las columnas continuas\n",
    "df[\"AGE\"] = np.log(df[\"AGE\"])\n",
    "df[\"LIMIT_BAL\"] = np.log(df[\"LIMIT_BAL\"])\n",
    "\n",
    "df[\"MARRIAGE\"].replace({0 : 3}, inplace = True)\n",
    "\n",
    "# Drop de columnas\n",
    "df.drop([\"BILL_AMT2\", \"BILL_AMT3\", \"BILL_AMT4\", \"BILL_AMT5\", \"BILL_AMT6\"], axis = 1, inplace = True)\n",
    "\n",
    "# Filtro de datos\n",
    "df = df[df[\"PAY_0\"].isin([-2, -1, 0, 1, 2])]\n",
    "df = df[df[\"PAY_2\"].isin([-2, -1, 0, 1, 2])]\n",
    "df = df[df[\"PAY_3\"].isin([-2, -1, 0, 1, 2])]\n",
    "df = df[df[\"PAY_4\"].isin([-2, -1, 0, 1, 2])]\n",
    "df = df[df[\"PAY_5\"].isin([-2, -1, 0, 1, 2])]\n",
    "df = df[df[\"PAY_6\"].isin([-2, -1, 0, 1, 2])]\n",
    "\n",
    "df.reset_index(drop = True, inplace = True)"
   ]
  },
  {
   "cell_type": "code",
   "execution_count": 6,
   "id": "a416e82e",
   "metadata": {},
   "outputs": [
    {
     "data": {
      "text/plain": [
       "((28807, 19), (28807,))"
      ]
     },
     "execution_count": 6,
     "metadata": {},
     "output_type": "execute_result"
    }
   ],
   "source": [
    "X = df.drop(\"class\", axis = 1)\n",
    "y = df[\"class\"]\n",
    "\n",
    "X.shape, y.shape"
   ]
  },
  {
   "cell_type": "code",
   "execution_count": 7,
   "id": "813db99c",
   "metadata": {},
   "outputs": [
    {
     "data": {
      "text/plain": [
       "array([[0.00000000e+00, 1.50514998e-01, 1.00000000e+00, ...,\n",
       "        0.00000000e+00, 0.00000000e+00, 0.00000000e+00],\n",
       "       [3.33344445e-05, 5.39590623e-01, 1.00000000e+00, ...,\n",
       "        1.61030596e-03, 0.00000000e+00, 3.78310691e-03],\n",
       "       [6.66688890e-05, 4.77121255e-01, 1.00000000e+00, ...,\n",
       "        1.61030596e-03, 2.34450647e-03, 9.45776729e-03],\n",
       "       ...,\n",
       "       [9.99899997e-01, 5.88045630e-01, 0.00000000e+00, ...,\n",
       "        2.07729469e-04, 0.00000000e+00, 0.00000000e+00],\n",
       "       [9.99966666e-01, 4.51544993e-01, 0.00000000e+00, ...,\n",
       "        3.10144928e-03, 1.24174441e-01, 3.41236244e-03],\n",
       "       [1.00000000e+00, 3.49485002e-01, 0.00000000e+00, ...,\n",
       "        1.61030596e-03, 2.34450647e-03, 1.89155346e-03]])"
      ]
     },
     "execution_count": 7,
     "metadata": {},
     "output_type": "execute_result"
    }
   ],
   "source": [
    "# Normalización de datos\n",
    "\n",
    "x_scaler = MinMaxScaler()\n",
    "X = x_scaler.fit_transform(X)\n",
    "\n",
    "X"
   ]
  },
  {
   "cell_type": "markdown",
   "id": "52d120c9",
   "metadata": {},
   "source": [
    "### Train, Test"
   ]
  },
  {
   "cell_type": "code",
   "execution_count": 8,
   "id": "a9654bb0",
   "metadata": {},
   "outputs": [
    {
     "name": "stdout",
     "output_type": "stream",
     "text": [
      "X_train: (20164, 19), y_train: (20164,)\n",
      "X_test: (8643, 19),  y_test: (8643,)\n"
     ]
    }
   ],
   "source": [
    "X_train, X_test, y_train, y_test = train_test_split(X, y, test_size = 0.3, random_state = 42, stratify = y)\n",
    "\n",
    "print(f\"X_train: {X_train.shape}, y_train: {y_train.shape}\")\n",
    "print(f\"X_test: {X_test.shape},  y_test: {y_test.shape}\")"
   ]
  },
  {
   "cell_type": "markdown",
   "id": "0bdbc79c",
   "metadata": {},
   "source": [
    "### Modelo"
   ]
  },
  {
   "cell_type": "code",
   "execution_count": 9,
   "id": "4b9ca82c",
   "metadata": {},
   "outputs": [],
   "source": [
    "from sklearn.ensemble import VotingClassifier"
   ]
  },
  {
   "cell_type": "code",
   "execution_count": 29,
   "id": "8b587625",
   "metadata": {},
   "outputs": [],
   "source": [
    "model0 = KNeighborsClassifier(3, n_jobs = -1)\n",
    "\n",
    "model1 = LogisticRegression(solver = \"liblinear\", multi_class = \"auto\")\n",
    "\n",
    "model2 = RandomForestClassifier(n_estimators = 100)\n",
    "\n",
    "model3 = GaussianNB()\n",
    "\n",
    "model4 = AdaBoostClassifier(n_estimators = 200)\n",
    "\n",
    "model5 = GradientBoostingClassifier(n_estimators        = 500,\n",
    "                                   learning_rate       = 0.05,\n",
    "                                   max_depth           = 3,\n",
    "                                   subsample           = 0.5,\n",
    "                                   validation_fraction = 0.1,\n",
    "                                   n_iter_no_change    = 200,\n",
    "                                   max_features        = \"log2\",\n",
    "                                   random_state        = 42,\n",
    "                                   tol                 = 0.001,\n",
    "                                   verbose             = 1)"
   ]
  },
  {
   "cell_type": "code",
   "execution_count": 30,
   "id": "64e6b98f",
   "metadata": {},
   "outputs": [],
   "source": [
    "estimadores = [(\"knn\", model0), (\"lr\", model1), (\"rf\", model2), (\"gnb\", model3), (\"ab\", model4), (\"gb\", model5)]"
   ]
  },
  {
   "cell_type": "code",
   "execution_count": 31,
   "id": "791c9ab6-ef90-4e68-ad37-aabf77c96385",
   "metadata": {},
   "outputs": [
    {
     "data": {
      "text/plain": [
       "[('knn', KNeighborsClassifier(n_jobs=-1, n_neighbors=3)),\n",
       " ('lr', LogisticRegression(solver='liblinear')),\n",
       " ('rf', RandomForestClassifier()),\n",
       " ('gnb', GaussianNB()),\n",
       " ('ab', AdaBoostClassifier(n_estimators=200)),\n",
       " ('gb',\n",
       "  GradientBoostingClassifier(learning_rate=0.05, max_features='log2',\n",
       "                             n_estimators=500, n_iter_no_change=200,\n",
       "                             random_state=42, subsample=0.5, tol=0.001,\n",
       "                             verbose=1))]"
      ]
     },
     "execution_count": 31,
     "metadata": {},
     "output_type": "execute_result"
    }
   ],
   "source": [
    "estimadores"
   ]
  },
  {
   "cell_type": "code",
   "execution_count": 33,
   "id": "2724c9da",
   "metadata": {},
   "outputs": [
    {
     "name": "stdout",
     "output_type": "stream",
     "text": [
      "Wall time: 6.89 s\n"
     ]
    },
    {
     "data": {
      "text/html": [
       "<style>#sk-container-id-7 {color: black;background-color: white;}#sk-container-id-7 pre{padding: 0;}#sk-container-id-7 div.sk-toggleable {background-color: white;}#sk-container-id-7 label.sk-toggleable__label {cursor: pointer;display: block;width: 100%;margin-bottom: 0;padding: 0.3em;box-sizing: border-box;text-align: center;}#sk-container-id-7 label.sk-toggleable__label-arrow:before {content: \"▸\";float: left;margin-right: 0.25em;color: #696969;}#sk-container-id-7 label.sk-toggleable__label-arrow:hover:before {color: black;}#sk-container-id-7 div.sk-estimator:hover label.sk-toggleable__label-arrow:before {color: black;}#sk-container-id-7 div.sk-toggleable__content {max-height: 0;max-width: 0;overflow: hidden;text-align: left;background-color: #f0f8ff;}#sk-container-id-7 div.sk-toggleable__content pre {margin: 0.2em;color: black;border-radius: 0.25em;background-color: #f0f8ff;}#sk-container-id-7 input.sk-toggleable__control:checked~div.sk-toggleable__content {max-height: 200px;max-width: 100%;overflow: auto;}#sk-container-id-7 input.sk-toggleable__control:checked~label.sk-toggleable__label-arrow:before {content: \"▾\";}#sk-container-id-7 div.sk-estimator input.sk-toggleable__control:checked~label.sk-toggleable__label {background-color: #d4ebff;}#sk-container-id-7 div.sk-label input.sk-toggleable__control:checked~label.sk-toggleable__label {background-color: #d4ebff;}#sk-container-id-7 input.sk-hidden--visually {border: 0;clip: rect(1px 1px 1px 1px);clip: rect(1px, 1px, 1px, 1px);height: 1px;margin: -1px;overflow: hidden;padding: 0;position: absolute;width: 1px;}#sk-container-id-7 div.sk-estimator {font-family: monospace;background-color: #f0f8ff;border: 1px dotted black;border-radius: 0.25em;box-sizing: border-box;margin-bottom: 0.5em;}#sk-container-id-7 div.sk-estimator:hover {background-color: #d4ebff;}#sk-container-id-7 div.sk-parallel-item::after {content: \"\";width: 100%;border-bottom: 1px solid gray;flex-grow: 1;}#sk-container-id-7 div.sk-label:hover label.sk-toggleable__label {background-color: #d4ebff;}#sk-container-id-7 div.sk-serial::before {content: \"\";position: absolute;border-left: 1px solid gray;box-sizing: border-box;top: 0;bottom: 0;left: 50%;z-index: 0;}#sk-container-id-7 div.sk-serial {display: flex;flex-direction: column;align-items: center;background-color: white;padding-right: 0.2em;padding-left: 0.2em;position: relative;}#sk-container-id-7 div.sk-item {position: relative;z-index: 1;}#sk-container-id-7 div.sk-parallel {display: flex;align-items: stretch;justify-content: center;background-color: white;position: relative;}#sk-container-id-7 div.sk-item::before, #sk-container-id-7 div.sk-parallel-item::before {content: \"\";position: absolute;border-left: 1px solid gray;box-sizing: border-box;top: 0;bottom: 0;left: 50%;z-index: -1;}#sk-container-id-7 div.sk-parallel-item {display: flex;flex-direction: column;z-index: 1;position: relative;background-color: white;}#sk-container-id-7 div.sk-parallel-item:first-child::after {align-self: flex-end;width: 50%;}#sk-container-id-7 div.sk-parallel-item:last-child::after {align-self: flex-start;width: 50%;}#sk-container-id-7 div.sk-parallel-item:only-child::after {width: 0;}#sk-container-id-7 div.sk-dashed-wrapped {border: 1px dashed gray;margin: 0 0.4em 0.5em 0.4em;box-sizing: border-box;padding-bottom: 0.4em;background-color: white;}#sk-container-id-7 div.sk-label label {font-family: monospace;font-weight: bold;display: inline-block;line-height: 1.2em;}#sk-container-id-7 div.sk-label-container {text-align: center;}#sk-container-id-7 div.sk-container {/* jupyter's `normalize.less` sets `[hidden] { display: none; }` but bootstrap.min.css set `[hidden] { display: none !important; }` so we also need the `!important` here to be able to override the default hidden behavior on the sphinx rendered scikit-learn.org. See: https://github.com/scikit-learn/scikit-learn/issues/21755 */display: inline-block !important;position: relative;}#sk-container-id-7 div.sk-text-repr-fallback {display: none;}</style><div id=\"sk-container-id-7\" class=\"sk-top-container\"><div class=\"sk-text-repr-fallback\"><pre>VotingClassifier(estimators=[(&#x27;knn&#x27;,\n",
       "                              KNeighborsClassifier(n_jobs=-1, n_neighbors=3)),\n",
       "                             (&#x27;lr&#x27;, LogisticRegression(solver=&#x27;liblinear&#x27;)),\n",
       "                             (&#x27;rf&#x27;, RandomForestClassifier()),\n",
       "                             (&#x27;gnb&#x27;, GaussianNB()),\n",
       "                             (&#x27;ab&#x27;, AdaBoostClassifier(n_estimators=200)),\n",
       "                             (&#x27;gb&#x27;,\n",
       "                              GradientBoostingClassifier(learning_rate=0.05,\n",
       "                                                         max_features=&#x27;log2&#x27;,\n",
       "                                                         n_estimators=500,\n",
       "                                                         n_iter_no_change=200,\n",
       "                                                         random_state=42,\n",
       "                                                         subsample=0.5,\n",
       "                                                         tol=0.001,\n",
       "                                                         verbose=1))],\n",
       "                 n_jobs=-1, voting=&#x27;soft&#x27;,\n",
       "                 weights=[0.25, 0.25, 0.25, 0.25, 0.8, 1])</pre><b>In a Jupyter environment, please rerun this cell to show the HTML representation or trust the notebook. <br />On GitHub, the HTML representation is unable to render, please try loading this page with nbviewer.org.</b></div><div class=\"sk-container\" hidden><div class=\"sk-item sk-dashed-wrapped\"><div class=\"sk-label-container\"><div class=\"sk-label sk-toggleable\"><input class=\"sk-toggleable__control sk-hidden--visually\" id=\"sk-estimator-id-37\" type=\"checkbox\" ><label for=\"sk-estimator-id-37\" class=\"sk-toggleable__label sk-toggleable__label-arrow\">VotingClassifier</label><div class=\"sk-toggleable__content\"><pre>VotingClassifier(estimators=[(&#x27;knn&#x27;,\n",
       "                              KNeighborsClassifier(n_jobs=-1, n_neighbors=3)),\n",
       "                             (&#x27;lr&#x27;, LogisticRegression(solver=&#x27;liblinear&#x27;)),\n",
       "                             (&#x27;rf&#x27;, RandomForestClassifier()),\n",
       "                             (&#x27;gnb&#x27;, GaussianNB()),\n",
       "                             (&#x27;ab&#x27;, AdaBoostClassifier(n_estimators=200)),\n",
       "                             (&#x27;gb&#x27;,\n",
       "                              GradientBoostingClassifier(learning_rate=0.05,\n",
       "                                                         max_features=&#x27;log2&#x27;,\n",
       "                                                         n_estimators=500,\n",
       "                                                         n_iter_no_change=200,\n",
       "                                                         random_state=42,\n",
       "                                                         subsample=0.5,\n",
       "                                                         tol=0.001,\n",
       "                                                         verbose=1))],\n",
       "                 n_jobs=-1, voting=&#x27;soft&#x27;,\n",
       "                 weights=[0.25, 0.25, 0.25, 0.25, 0.8, 1])</pre></div></div></div><div class=\"sk-parallel\"><div class=\"sk-parallel-item\"><div class=\"sk-item\"><div class=\"sk-label-container\"><div class=\"sk-label sk-toggleable\"><label>knn</label></div></div><div class=\"sk-serial\"><div class=\"sk-item\"><div class=\"sk-estimator sk-toggleable\"><input class=\"sk-toggleable__control sk-hidden--visually\" id=\"sk-estimator-id-38\" type=\"checkbox\" ><label for=\"sk-estimator-id-38\" class=\"sk-toggleable__label sk-toggleable__label-arrow\">KNeighborsClassifier</label><div class=\"sk-toggleable__content\"><pre>KNeighborsClassifier(n_jobs=-1, n_neighbors=3)</pre></div></div></div></div></div></div><div class=\"sk-parallel-item\"><div class=\"sk-item\"><div class=\"sk-label-container\"><div class=\"sk-label sk-toggleable\"><label>lr</label></div></div><div class=\"sk-serial\"><div class=\"sk-item\"><div class=\"sk-estimator sk-toggleable\"><input class=\"sk-toggleable__control sk-hidden--visually\" id=\"sk-estimator-id-39\" type=\"checkbox\" ><label for=\"sk-estimator-id-39\" class=\"sk-toggleable__label sk-toggleable__label-arrow\">LogisticRegression</label><div class=\"sk-toggleable__content\"><pre>LogisticRegression(solver=&#x27;liblinear&#x27;)</pre></div></div></div></div></div></div><div class=\"sk-parallel-item\"><div class=\"sk-item\"><div class=\"sk-label-container\"><div class=\"sk-label sk-toggleable\"><label>rf</label></div></div><div class=\"sk-serial\"><div class=\"sk-item\"><div class=\"sk-estimator sk-toggleable\"><input class=\"sk-toggleable__control sk-hidden--visually\" id=\"sk-estimator-id-40\" type=\"checkbox\" ><label for=\"sk-estimator-id-40\" class=\"sk-toggleable__label sk-toggleable__label-arrow\">RandomForestClassifier</label><div class=\"sk-toggleable__content\"><pre>RandomForestClassifier()</pre></div></div></div></div></div></div><div class=\"sk-parallel-item\"><div class=\"sk-item\"><div class=\"sk-label-container\"><div class=\"sk-label sk-toggleable\"><label>gnb</label></div></div><div class=\"sk-serial\"><div class=\"sk-item\"><div class=\"sk-estimator sk-toggleable\"><input class=\"sk-toggleable__control sk-hidden--visually\" id=\"sk-estimator-id-41\" type=\"checkbox\" ><label for=\"sk-estimator-id-41\" class=\"sk-toggleable__label sk-toggleable__label-arrow\">GaussianNB</label><div class=\"sk-toggleable__content\"><pre>GaussianNB()</pre></div></div></div></div></div></div><div class=\"sk-parallel-item\"><div class=\"sk-item\"><div class=\"sk-label-container\"><div class=\"sk-label sk-toggleable\"><label>ab</label></div></div><div class=\"sk-serial\"><div class=\"sk-item\"><div class=\"sk-estimator sk-toggleable\"><input class=\"sk-toggleable__control sk-hidden--visually\" id=\"sk-estimator-id-42\" type=\"checkbox\" ><label for=\"sk-estimator-id-42\" class=\"sk-toggleable__label sk-toggleable__label-arrow\">AdaBoostClassifier</label><div class=\"sk-toggleable__content\"><pre>AdaBoostClassifier(n_estimators=200)</pre></div></div></div></div></div></div><div class=\"sk-parallel-item\"><div class=\"sk-item\"><div class=\"sk-label-container\"><div class=\"sk-label sk-toggleable\"><label>gb</label></div></div><div class=\"sk-serial\"><div class=\"sk-item\"><div class=\"sk-estimator sk-toggleable\"><input class=\"sk-toggleable__control sk-hidden--visually\" id=\"sk-estimator-id-43\" type=\"checkbox\" ><label for=\"sk-estimator-id-43\" class=\"sk-toggleable__label sk-toggleable__label-arrow\">GradientBoostingClassifier</label><div class=\"sk-toggleable__content\"><pre>GradientBoostingClassifier(learning_rate=0.05, max_features=&#x27;log2&#x27;,\n",
       "                           n_estimators=500, n_iter_no_change=200,\n",
       "                           random_state=42, subsample=0.5, tol=0.001,\n",
       "                           verbose=1)</pre></div></div></div></div></div></div></div></div></div></div>"
      ],
      "text/plain": [
       "VotingClassifier(estimators=[('knn',\n",
       "                              KNeighborsClassifier(n_jobs=-1, n_neighbors=3)),\n",
       "                             ('lr', LogisticRegression(solver='liblinear')),\n",
       "                             ('rf', RandomForestClassifier()),\n",
       "                             ('gnb', GaussianNB()),\n",
       "                             ('ab', AdaBoostClassifier(n_estimators=200)),\n",
       "                             ('gb',\n",
       "                              GradientBoostingClassifier(learning_rate=0.05,\n",
       "                                                         max_features='log2',\n",
       "                                                         n_estimators=500,\n",
       "                                                         n_iter_no_change=200,\n",
       "                                                         random_state=42,\n",
       "                                                         subsample=0.5,\n",
       "                                                         tol=0.001,\n",
       "                                                         verbose=1))],\n",
       "                 n_jobs=-1, voting='soft',\n",
       "                 weights=[0.25, 0.25, 0.25, 0.25, 0.8, 1])"
      ]
     },
     "execution_count": 33,
     "metadata": {},
     "output_type": "execute_result"
    }
   ],
   "source": [
    "%%time\n",
    "\n",
    "model = VotingClassifier(estimators = estimadores,\n",
    "                             voting = \"soft\",\n",
    "                            weights = [0.25, 0.25, 0.25, 0.25, 0.8, 1],\n",
    "                             n_jobs = -1)\n",
    "\n",
    "model.fit(X_train, y_train)\n",
    "\n",
    "# voting = \"soft\" nos permite utilizar .predict_proba()\n",
    "# Si voting = \"soft\" todos los estimadores (modelos) deben tener ese método\n",
    "# De lo contrario .predict_proba() nos dará error"
   ]
  },
  {
   "cell_type": "code",
   "execution_count": 26,
   "id": "83c1f0a8",
   "metadata": {},
   "outputs": [
    {
     "data": {
      "text/html": [
       "<style>#sk-container-id-6 {color: black;background-color: white;}#sk-container-id-6 pre{padding: 0;}#sk-container-id-6 div.sk-toggleable {background-color: white;}#sk-container-id-6 label.sk-toggleable__label {cursor: pointer;display: block;width: 100%;margin-bottom: 0;padding: 0.3em;box-sizing: border-box;text-align: center;}#sk-container-id-6 label.sk-toggleable__label-arrow:before {content: \"▸\";float: left;margin-right: 0.25em;color: #696969;}#sk-container-id-6 label.sk-toggleable__label-arrow:hover:before {color: black;}#sk-container-id-6 div.sk-estimator:hover label.sk-toggleable__label-arrow:before {color: black;}#sk-container-id-6 div.sk-toggleable__content {max-height: 0;max-width: 0;overflow: hidden;text-align: left;background-color: #f0f8ff;}#sk-container-id-6 div.sk-toggleable__content pre {margin: 0.2em;color: black;border-radius: 0.25em;background-color: #f0f8ff;}#sk-container-id-6 input.sk-toggleable__control:checked~div.sk-toggleable__content {max-height: 200px;max-width: 100%;overflow: auto;}#sk-container-id-6 input.sk-toggleable__control:checked~label.sk-toggleable__label-arrow:before {content: \"▾\";}#sk-container-id-6 div.sk-estimator input.sk-toggleable__control:checked~label.sk-toggleable__label {background-color: #d4ebff;}#sk-container-id-6 div.sk-label input.sk-toggleable__control:checked~label.sk-toggleable__label {background-color: #d4ebff;}#sk-container-id-6 input.sk-hidden--visually {border: 0;clip: rect(1px 1px 1px 1px);clip: rect(1px, 1px, 1px, 1px);height: 1px;margin: -1px;overflow: hidden;padding: 0;position: absolute;width: 1px;}#sk-container-id-6 div.sk-estimator {font-family: monospace;background-color: #f0f8ff;border: 1px dotted black;border-radius: 0.25em;box-sizing: border-box;margin-bottom: 0.5em;}#sk-container-id-6 div.sk-estimator:hover {background-color: #d4ebff;}#sk-container-id-6 div.sk-parallel-item::after {content: \"\";width: 100%;border-bottom: 1px solid gray;flex-grow: 1;}#sk-container-id-6 div.sk-label:hover label.sk-toggleable__label {background-color: #d4ebff;}#sk-container-id-6 div.sk-serial::before {content: \"\";position: absolute;border-left: 1px solid gray;box-sizing: border-box;top: 0;bottom: 0;left: 50%;z-index: 0;}#sk-container-id-6 div.sk-serial {display: flex;flex-direction: column;align-items: center;background-color: white;padding-right: 0.2em;padding-left: 0.2em;position: relative;}#sk-container-id-6 div.sk-item {position: relative;z-index: 1;}#sk-container-id-6 div.sk-parallel {display: flex;align-items: stretch;justify-content: center;background-color: white;position: relative;}#sk-container-id-6 div.sk-item::before, #sk-container-id-6 div.sk-parallel-item::before {content: \"\";position: absolute;border-left: 1px solid gray;box-sizing: border-box;top: 0;bottom: 0;left: 50%;z-index: -1;}#sk-container-id-6 div.sk-parallel-item {display: flex;flex-direction: column;z-index: 1;position: relative;background-color: white;}#sk-container-id-6 div.sk-parallel-item:first-child::after {align-self: flex-end;width: 50%;}#sk-container-id-6 div.sk-parallel-item:last-child::after {align-self: flex-start;width: 50%;}#sk-container-id-6 div.sk-parallel-item:only-child::after {width: 0;}#sk-container-id-6 div.sk-dashed-wrapped {border: 1px dashed gray;margin: 0 0.4em 0.5em 0.4em;box-sizing: border-box;padding-bottom: 0.4em;background-color: white;}#sk-container-id-6 div.sk-label label {font-family: monospace;font-weight: bold;display: inline-block;line-height: 1.2em;}#sk-container-id-6 div.sk-label-container {text-align: center;}#sk-container-id-6 div.sk-container {/* jupyter's `normalize.less` sets `[hidden] { display: none; }` but bootstrap.min.css set `[hidden] { display: none !important; }` so we also need the `!important` here to be able to override the default hidden behavior on the sphinx rendered scikit-learn.org. See: https://github.com/scikit-learn/scikit-learn/issues/21755 */display: inline-block !important;position: relative;}#sk-container-id-6 div.sk-text-repr-fallback {display: none;}</style><div id=\"sk-container-id-6\" class=\"sk-top-container\"><div class=\"sk-text-repr-fallback\"><pre>VotingClassifier(estimators=[(&#x27;knn&#x27;,\n",
       "                              KNeighborsClassifier(n_jobs=-1, n_neighbors=3)),\n",
       "                             (&#x27;lr&#x27;, LogisticRegression(solver=&#x27;liblinear&#x27;)),\n",
       "                             (&#x27;rf&#x27;, RandomForestClassifier()),\n",
       "                             (&#x27;gnb&#x27;, GaussianNB()),\n",
       "                             (&#x27;ab&#x27;, AdaBoostClassifier(n_estimators=200))],\n",
       "                 n_jobs=-1, voting=&#x27;soft&#x27;,\n",
       "                 weights=[0.25, 0.25, 0.25, 0.25, 0.8])</pre><b>In a Jupyter environment, please rerun this cell to show the HTML representation or trust the notebook. <br />On GitHub, the HTML representation is unable to render, please try loading this page with nbviewer.org.</b></div><div class=\"sk-container\" hidden><div class=\"sk-item sk-dashed-wrapped\"><div class=\"sk-label-container\"><div class=\"sk-label sk-toggleable\"><input class=\"sk-toggleable__control sk-hidden--visually\" id=\"sk-estimator-id-31\" type=\"checkbox\" ><label for=\"sk-estimator-id-31\" class=\"sk-toggleable__label sk-toggleable__label-arrow\">VotingClassifier</label><div class=\"sk-toggleable__content\"><pre>VotingClassifier(estimators=[(&#x27;knn&#x27;,\n",
       "                              KNeighborsClassifier(n_jobs=-1, n_neighbors=3)),\n",
       "                             (&#x27;lr&#x27;, LogisticRegression(solver=&#x27;liblinear&#x27;)),\n",
       "                             (&#x27;rf&#x27;, RandomForestClassifier()),\n",
       "                             (&#x27;gnb&#x27;, GaussianNB()),\n",
       "                             (&#x27;ab&#x27;, AdaBoostClassifier(n_estimators=200))],\n",
       "                 n_jobs=-1, voting=&#x27;soft&#x27;,\n",
       "                 weights=[0.25, 0.25, 0.25, 0.25, 0.8])</pre></div></div></div><div class=\"sk-parallel\"><div class=\"sk-parallel-item\"><div class=\"sk-item\"><div class=\"sk-label-container\"><div class=\"sk-label sk-toggleable\"><label>knn</label></div></div><div class=\"sk-serial\"><div class=\"sk-item\"><div class=\"sk-estimator sk-toggleable\"><input class=\"sk-toggleable__control sk-hidden--visually\" id=\"sk-estimator-id-32\" type=\"checkbox\" ><label for=\"sk-estimator-id-32\" class=\"sk-toggleable__label sk-toggleable__label-arrow\">KNeighborsClassifier</label><div class=\"sk-toggleable__content\"><pre>KNeighborsClassifier(n_jobs=-1, n_neighbors=3)</pre></div></div></div></div></div></div><div class=\"sk-parallel-item\"><div class=\"sk-item\"><div class=\"sk-label-container\"><div class=\"sk-label sk-toggleable\"><label>lr</label></div></div><div class=\"sk-serial\"><div class=\"sk-item\"><div class=\"sk-estimator sk-toggleable\"><input class=\"sk-toggleable__control sk-hidden--visually\" id=\"sk-estimator-id-33\" type=\"checkbox\" ><label for=\"sk-estimator-id-33\" class=\"sk-toggleable__label sk-toggleable__label-arrow\">LogisticRegression</label><div class=\"sk-toggleable__content\"><pre>LogisticRegression(solver=&#x27;liblinear&#x27;)</pre></div></div></div></div></div></div><div class=\"sk-parallel-item\"><div class=\"sk-item\"><div class=\"sk-label-container\"><div class=\"sk-label sk-toggleable\"><label>rf</label></div></div><div class=\"sk-serial\"><div class=\"sk-item\"><div class=\"sk-estimator sk-toggleable\"><input class=\"sk-toggleable__control sk-hidden--visually\" id=\"sk-estimator-id-34\" type=\"checkbox\" ><label for=\"sk-estimator-id-34\" class=\"sk-toggleable__label sk-toggleable__label-arrow\">RandomForestClassifier</label><div class=\"sk-toggleable__content\"><pre>RandomForestClassifier()</pre></div></div></div></div></div></div><div class=\"sk-parallel-item\"><div class=\"sk-item\"><div class=\"sk-label-container\"><div class=\"sk-label sk-toggleable\"><label>gnb</label></div></div><div class=\"sk-serial\"><div class=\"sk-item\"><div class=\"sk-estimator sk-toggleable\"><input class=\"sk-toggleable__control sk-hidden--visually\" id=\"sk-estimator-id-35\" type=\"checkbox\" ><label for=\"sk-estimator-id-35\" class=\"sk-toggleable__label sk-toggleable__label-arrow\">GaussianNB</label><div class=\"sk-toggleable__content\"><pre>GaussianNB()</pre></div></div></div></div></div></div><div class=\"sk-parallel-item\"><div class=\"sk-item\"><div class=\"sk-label-container\"><div class=\"sk-label sk-toggleable\"><label>ab</label></div></div><div class=\"sk-serial\"><div class=\"sk-item\"><div class=\"sk-estimator sk-toggleable\"><input class=\"sk-toggleable__control sk-hidden--visually\" id=\"sk-estimator-id-36\" type=\"checkbox\" ><label for=\"sk-estimator-id-36\" class=\"sk-toggleable__label sk-toggleable__label-arrow\">AdaBoostClassifier</label><div class=\"sk-toggleable__content\"><pre>AdaBoostClassifier(n_estimators=200)</pre></div></div></div></div></div></div></div></div></div></div>"
      ],
      "text/plain": [
       "VotingClassifier(estimators=[('knn',\n",
       "                              KNeighborsClassifier(n_jobs=-1, n_neighbors=3)),\n",
       "                             ('lr', LogisticRegression(solver='liblinear')),\n",
       "                             ('rf', RandomForestClassifier()),\n",
       "                             ('gnb', GaussianNB()),\n",
       "                             ('ab', AdaBoostClassifier(n_estimators=200))],\n",
       "                 n_jobs=-1, voting='soft',\n",
       "                 weights=[0.25, 0.25, 0.25, 0.25, 0.8])"
      ]
     },
     "metadata": {},
     "output_type": "display_data"
    }
   ],
   "source": [
    "display(model)"
   ]
  },
  {
   "cell_type": "markdown",
   "id": "280c2416",
   "metadata": {},
   "source": [
    "- **`voting = \"soft\"`**: Suma todas las probabilidades y selecciona la mayor. Solo se puede usar si todos los estimadores calculan la probabilidad de pertenecer a una clase o a otra. En caso de tener un estimador que no tenga el método **`predict_proba()`**, éste se omitará del modelo.\n",
    "\n",
    "\n",
    "- **`voting = \"hard\"`**: Utiliza la moda de las predicciones de cada modelo. Puede ser usado con todos los modelos."
   ]
  },
  {
   "cell_type": "markdown",
   "id": "f05dcf14",
   "metadata": {},
   "source": [
    "### Predicciones"
   ]
  },
  {
   "cell_type": "code",
   "execution_count": 34,
   "id": "ef55b7f7",
   "metadata": {},
   "outputs": [
    {
     "data": {
      "text/plain": [
       "array([0, 0, 0, ..., 0, 0, 0], dtype=int64)"
      ]
     },
     "execution_count": 34,
     "metadata": {},
     "output_type": "execute_result"
    }
   ],
   "source": [
    "yhat = model.predict(X_test)\n",
    "\n",
    "yhat"
   ]
  },
  {
   "cell_type": "code",
   "execution_count": 28,
   "id": "ed88642c",
   "metadata": {},
   "outputs": [
    {
     "name": "stdout",
     "output_type": "stream",
     "text": [
      "Jaccard Index: 0.5601336013614383\n",
      "Accuracy: 0.8195071155848663\n",
      "Precisión: 0.7210513695906591\n",
      "Sensibilidad: 0.6675316609223616\n",
      "F1-score: 0.6862266341111957\n",
      "ROC AUC: 0.6675316609223616\n"
     ]
    }
   ],
   "source": [
    "print(\"Jaccard Index:\", jaccard_score(y_test, yhat, average = \"macro\"))\n",
    "print(\"Accuracy:\"     , accuracy_score(y_test, yhat))\n",
    "print(\"Precisión:\"    , precision_score(y_test, yhat, average = \"macro\"))\n",
    "print(\"Sensibilidad:\" , recall_score(y_test, yhat, average = \"macro\"))\n",
    "print(\"F1-score:\"     , f1_score(y_test, yhat, average = \"macro\"))\n",
    "print(\"ROC AUC:\"      , roc_auc_score(y_test, yhat))"
   ]
  },
  {
   "cell_type": "code",
   "execution_count": 35,
   "id": "69137ed7-e6af-4a15-8588-52b8bb16ac99",
   "metadata": {},
   "outputs": [
    {
     "name": "stdout",
     "output_type": "stream",
     "text": [
      "Jaccard Index: 0.5569804580031643\n",
      "Accuracy: 0.830151567742682\n",
      "Precisión: 0.7546811275233508\n",
      "Sensibilidad: 0.652126567607389\n",
      "F1-score: 0.6786014133111286\n",
      "ROC AUC: 0.652126567607389\n"
     ]
    }
   ],
   "source": [
    "print(\"Jaccard Index:\", jaccard_score(y_test, yhat, average = \"macro\"))\n",
    "print(\"Accuracy:\"     , accuracy_score(y_test, yhat))\n",
    "print(\"Precisión:\"    , precision_score(y_test, yhat, average = \"macro\"))\n",
    "print(\"Sensibilidad:\" , recall_score(y_test, yhat, average = \"macro\"))\n",
    "print(\"F1-score:\"     , f1_score(y_test, yhat, average = \"macro\"))\n",
    "print(\"ROC AUC:\"      , roc_auc_score(y_test, yhat))"
   ]
  },
  {
   "cell_type": "markdown",
   "id": "d934ce8a",
   "metadata": {},
   "source": [
    "### Confusion Matrix"
   ]
  },
  {
   "cell_type": "code",
   "execution_count": 36,
   "id": "eaf2205a",
   "metadata": {},
   "outputs": [
    {
     "data": {
      "text/plain": [
       "array([[6555,  322],\n",
       "       [1146,  620]], dtype=int64)"
      ]
     },
     "execution_count": 36,
     "metadata": {},
     "output_type": "execute_result"
    }
   ],
   "source": [
    "confusion_matrix(y_test, yhat, labels = [0, 1])"
   ]
  },
  {
   "cell_type": "markdown",
   "id": "993ba7ca",
   "metadata": {},
   "source": [
    "### Atributos y Métodos"
   ]
  },
  {
   "cell_type": "code",
   "execution_count": 37,
   "id": "c9caeea2",
   "metadata": {},
   "outputs": [
    {
     "data": {
      "text/plain": [
       "array([[0.71439431, 0.28560569],\n",
       "       [0.79921483, 0.20078517],\n",
       "       [0.72677986, 0.27322014],\n",
       "       ...,\n",
       "       [0.64406511, 0.35593489],\n",
       "       [0.59821361, 0.40178639],\n",
       "       [0.67306672, 0.32693328]])"
      ]
     },
     "execution_count": 37,
     "metadata": {},
     "output_type": "execute_result"
    }
   ],
   "source": [
    "# .predict_proba()\n",
    "\n",
    "model.predict_proba(X_test)\n",
    "\n",
    "# Solo cuando voting = \"soft\""
   ]
  },
  {
   "cell_type": "code",
   "execution_count": 38,
   "id": "d3b4017e",
   "metadata": {},
   "outputs": [
    {
     "data": {
      "text/plain": [
       "[('knn', KNeighborsClassifier(n_jobs=-1, n_neighbors=3)),\n",
       " ('lr', LogisticRegression(solver='liblinear')),\n",
       " ('rf', RandomForestClassifier()),\n",
       " ('gnb', GaussianNB()),\n",
       " ('ab', AdaBoostClassifier(n_estimators=200)),\n",
       " ('gb',\n",
       "  GradientBoostingClassifier(learning_rate=0.05, max_features='log2',\n",
       "                             n_estimators=500, n_iter_no_change=200,\n",
       "                             random_state=42, subsample=0.5, tol=0.001,\n",
       "                             verbose=1))]"
      ]
     },
     "execution_count": 38,
     "metadata": {},
     "output_type": "execute_result"
    }
   ],
   "source": [
    "# .estimators_ nos retorna una lista de tuplas con los modelos utilizados\n",
    "\n",
    "model.estimators"
   ]
  },
  {
   "cell_type": "code",
   "execution_count": 39,
   "id": "2b5b9b1e",
   "metadata": {},
   "outputs": [
    {
     "data": {
      "text/plain": [
       "array([[1.        , 0.        , 0.71577069, ..., 0.49782996, 0.85062068,\n",
       "        0.14937932],\n",
       "       [1.        , 0.        , 0.95448805, ..., 0.49609477, 0.95179182,\n",
       "        0.04820818],\n",
       "       [0.66666667, 0.33333333, 0.83342967, ..., 0.49697042, 0.90707491,\n",
       "        0.09292509],\n",
       "       ...,\n",
       "       [1.        , 0.        , 0.67512543, ..., 0.49836112, 0.77919904,\n",
       "        0.22080096],\n",
       "       [0.33333333, 0.66666667, 0.72086881, ..., 0.49816122, 0.78813638,\n",
       "        0.21186362],\n",
       "       [1.        , 0.        , 0.899295  , ..., 0.4975727 , 0.7602846 ,\n",
       "        0.2397154 ]])"
      ]
     },
     "execution_count": 39,
     "metadata": {},
     "output_type": "execute_result"
    }
   ],
   "source": [
    "# .transform() retorna una matriz\n",
    "# Cada fila son los elementos de X_test con las probabilidades de pertenecer a las clases\n",
    "# Estas filas tienen n_estimators*n_classes\n",
    "# En nuestro caso tiene 5*2 = 10\n",
    "# Cada par de elementos (en este ejemplo) es la probabilidad de cada modelo\n",
    "# La suma de cada par es igual a 1\n",
    "\n",
    "predict_models = model.transform(X_test)\n",
    "\n",
    "predict_models"
   ]
  },
  {
   "cell_type": "code",
   "execution_count": 40,
   "id": "6bab98a9",
   "metadata": {},
   "outputs": [
    {
     "data": {
      "text/plain": [
       "array([1.        , 0.        , 0.71577069, 0.28422931, 0.95      ,\n",
       "       0.05      , 0.3260187 , 0.6739813 , 0.50217004, 0.49782996,\n",
       "       0.85062068, 0.14937932])"
      ]
     },
     "execution_count": 40,
     "metadata": {},
     "output_type": "execute_result"
    }
   ],
   "source": [
    "predict_models[0]"
   ]
  },
  {
   "cell_type": "code",
   "execution_count": 41,
   "id": "ac3b898e",
   "metadata": {},
   "outputs": [
    {
     "data": {
      "text/html": [
       "<div>\n",
       "<style scoped>\n",
       "    .dataframe tbody tr th:only-of-type {\n",
       "        vertical-align: middle;\n",
       "    }\n",
       "\n",
       "    .dataframe tbody tr th {\n",
       "        vertical-align: top;\n",
       "    }\n",
       "\n",
       "    .dataframe thead th {\n",
       "        text-align: right;\n",
       "    }\n",
       "</style>\n",
       "<table border=\"1\" class=\"dataframe\">\n",
       "  <thead>\n",
       "    <tr style=\"text-align: right;\">\n",
       "      <th></th>\n",
       "      <th>knn_0</th>\n",
       "      <th>knn_1</th>\n",
       "      <th>lr_0</th>\n",
       "      <th>lr_1</th>\n",
       "      <th>rf_0</th>\n",
       "      <th>rf_1</th>\n",
       "      <th>gnb_0</th>\n",
       "      <th>gnb_1</th>\n",
       "      <th>ab_0</th>\n",
       "      <th>ab_1</th>\n",
       "      <th>gb_0</th>\n",
       "      <th>gb_1</th>\n",
       "      <th>y_test</th>\n",
       "      <th>yhat</th>\n",
       "    </tr>\n",
       "  </thead>\n",
       "  <tbody>\n",
       "    <tr>\n",
       "      <th>0</th>\n",
       "      <td>1.000000</td>\n",
       "      <td>0.000000</td>\n",
       "      <td>0.715771</td>\n",
       "      <td>0.284229</td>\n",
       "      <td>0.95</td>\n",
       "      <td>0.05</td>\n",
       "      <td>0.326019</td>\n",
       "      <td>6.739813e-01</td>\n",
       "      <td>0.502170</td>\n",
       "      <td>0.497830</td>\n",
       "      <td>0.850621</td>\n",
       "      <td>0.149379</td>\n",
       "      <td>0</td>\n",
       "      <td>0</td>\n",
       "    </tr>\n",
       "    <tr>\n",
       "      <th>1</th>\n",
       "      <td>1.000000</td>\n",
       "      <td>0.000000</td>\n",
       "      <td>0.954488</td>\n",
       "      <td>0.045512</td>\n",
       "      <td>0.91</td>\n",
       "      <td>0.09</td>\n",
       "      <td>0.667054</td>\n",
       "      <td>3.329460e-01</td>\n",
       "      <td>0.503905</td>\n",
       "      <td>0.496095</td>\n",
       "      <td>0.951792</td>\n",
       "      <td>0.048208</td>\n",
       "      <td>0</td>\n",
       "      <td>0</td>\n",
       "    </tr>\n",
       "    <tr>\n",
       "      <th>2</th>\n",
       "      <td>0.666667</td>\n",
       "      <td>0.333333</td>\n",
       "      <td>0.833430</td>\n",
       "      <td>0.166570</td>\n",
       "      <td>0.94</td>\n",
       "      <td>0.06</td>\n",
       "      <td>0.461844</td>\n",
       "      <td>5.381562e-01</td>\n",
       "      <td>0.503030</td>\n",
       "      <td>0.496970</td>\n",
       "      <td>0.907075</td>\n",
       "      <td>0.092925</td>\n",
       "      <td>0</td>\n",
       "      <td>0</td>\n",
       "    </tr>\n",
       "    <tr>\n",
       "      <th>3</th>\n",
       "      <td>0.666667</td>\n",
       "      <td>0.333333</td>\n",
       "      <td>0.805958</td>\n",
       "      <td>0.194042</td>\n",
       "      <td>0.82</td>\n",
       "      <td>0.18</td>\n",
       "      <td>0.376985</td>\n",
       "      <td>6.230149e-01</td>\n",
       "      <td>0.502451</td>\n",
       "      <td>0.497549</td>\n",
       "      <td>0.856814</td>\n",
       "      <td>0.143186</td>\n",
       "      <td>1</td>\n",
       "      <td>0</td>\n",
       "    </tr>\n",
       "    <tr>\n",
       "      <th>4</th>\n",
       "      <td>0.666667</td>\n",
       "      <td>0.333333</td>\n",
       "      <td>0.845722</td>\n",
       "      <td>0.154278</td>\n",
       "      <td>0.96</td>\n",
       "      <td>0.04</td>\n",
       "      <td>0.516110</td>\n",
       "      <td>4.838902e-01</td>\n",
       "      <td>0.503306</td>\n",
       "      <td>0.496694</td>\n",
       "      <td>0.937478</td>\n",
       "      <td>0.062522</td>\n",
       "      <td>0</td>\n",
       "      <td>0</td>\n",
       "    </tr>\n",
       "    <tr>\n",
       "      <th>5</th>\n",
       "      <td>1.000000</td>\n",
       "      <td>0.000000</td>\n",
       "      <td>0.918084</td>\n",
       "      <td>0.081916</td>\n",
       "      <td>0.93</td>\n",
       "      <td>0.07</td>\n",
       "      <td>0.993793</td>\n",
       "      <td>6.207348e-03</td>\n",
       "      <td>0.502623</td>\n",
       "      <td>0.497377</td>\n",
       "      <td>0.886050</td>\n",
       "      <td>0.113950</td>\n",
       "      <td>0</td>\n",
       "      <td>0</td>\n",
       "    </tr>\n",
       "    <tr>\n",
       "      <th>6</th>\n",
       "      <td>1.000000</td>\n",
       "      <td>0.000000</td>\n",
       "      <td>0.841357</td>\n",
       "      <td>0.158643</td>\n",
       "      <td>0.83</td>\n",
       "      <td>0.17</td>\n",
       "      <td>1.000000</td>\n",
       "      <td>6.870699e-09</td>\n",
       "      <td>0.502298</td>\n",
       "      <td>0.497702</td>\n",
       "      <td>0.936580</td>\n",
       "      <td>0.063420</td>\n",
       "      <td>0</td>\n",
       "      <td>0</td>\n",
       "    </tr>\n",
       "    <tr>\n",
       "      <th>7</th>\n",
       "      <td>1.000000</td>\n",
       "      <td>0.000000</td>\n",
       "      <td>0.953499</td>\n",
       "      <td>0.046501</td>\n",
       "      <td>0.81</td>\n",
       "      <td>0.19</td>\n",
       "      <td>0.436695</td>\n",
       "      <td>5.633052e-01</td>\n",
       "      <td>0.502034</td>\n",
       "      <td>0.497966</td>\n",
       "      <td>0.821230</td>\n",
       "      <td>0.178770</td>\n",
       "      <td>0</td>\n",
       "      <td>0</td>\n",
       "    </tr>\n",
       "    <tr>\n",
       "      <th>8</th>\n",
       "      <td>0.333333</td>\n",
       "      <td>0.666667</td>\n",
       "      <td>0.793119</td>\n",
       "      <td>0.206881</td>\n",
       "      <td>0.60</td>\n",
       "      <td>0.40</td>\n",
       "      <td>0.010120</td>\n",
       "      <td>9.898795e-01</td>\n",
       "      <td>0.501861</td>\n",
       "      <td>0.498139</td>\n",
       "      <td>0.768323</td>\n",
       "      <td>0.231677</td>\n",
       "      <td>0</td>\n",
       "      <td>0</td>\n",
       "    </tr>\n",
       "    <tr>\n",
       "      <th>9</th>\n",
       "      <td>0.000000</td>\n",
       "      <td>1.000000</td>\n",
       "      <td>0.630066</td>\n",
       "      <td>0.369934</td>\n",
       "      <td>0.51</td>\n",
       "      <td>0.49</td>\n",
       "      <td>0.000569</td>\n",
       "      <td>9.994311e-01</td>\n",
       "      <td>0.500146</td>\n",
       "      <td>0.499854</td>\n",
       "      <td>0.623708</td>\n",
       "      <td>0.376292</td>\n",
       "      <td>1</td>\n",
       "      <td>1</td>\n",
       "    </tr>\n",
       "  </tbody>\n",
       "</table>\n",
       "</div>"
      ],
      "text/plain": [
       "      knn_0     knn_1      lr_0      lr_1  rf_0  rf_1     gnb_0         gnb_1  \\\n",
       "0  1.000000  0.000000  0.715771  0.284229  0.95  0.05  0.326019  6.739813e-01   \n",
       "1  1.000000  0.000000  0.954488  0.045512  0.91  0.09  0.667054  3.329460e-01   \n",
       "2  0.666667  0.333333  0.833430  0.166570  0.94  0.06  0.461844  5.381562e-01   \n",
       "3  0.666667  0.333333  0.805958  0.194042  0.82  0.18  0.376985  6.230149e-01   \n",
       "4  0.666667  0.333333  0.845722  0.154278  0.96  0.04  0.516110  4.838902e-01   \n",
       "5  1.000000  0.000000  0.918084  0.081916  0.93  0.07  0.993793  6.207348e-03   \n",
       "6  1.000000  0.000000  0.841357  0.158643  0.83  0.17  1.000000  6.870699e-09   \n",
       "7  1.000000  0.000000  0.953499  0.046501  0.81  0.19  0.436695  5.633052e-01   \n",
       "8  0.333333  0.666667  0.793119  0.206881  0.60  0.40  0.010120  9.898795e-01   \n",
       "9  0.000000  1.000000  0.630066  0.369934  0.51  0.49  0.000569  9.994311e-01   \n",
       "\n",
       "       ab_0      ab_1      gb_0      gb_1  y_test  yhat  \n",
       "0  0.502170  0.497830  0.850621  0.149379       0     0  \n",
       "1  0.503905  0.496095  0.951792  0.048208       0     0  \n",
       "2  0.503030  0.496970  0.907075  0.092925       0     0  \n",
       "3  0.502451  0.497549  0.856814  0.143186       1     0  \n",
       "4  0.503306  0.496694  0.937478  0.062522       0     0  \n",
       "5  0.502623  0.497377  0.886050  0.113950       0     0  \n",
       "6  0.502298  0.497702  0.936580  0.063420       0     0  \n",
       "7  0.502034  0.497966  0.821230  0.178770       0     0  \n",
       "8  0.501861  0.498139  0.768323  0.231677       0     0  \n",
       "9  0.500146  0.499854  0.623708  0.376292       1     1  "
      ]
     },
     "execution_count": 41,
     "metadata": {},
     "output_type": "execute_result"
    }
   ],
   "source": [
    "columnas = list()\n",
    "\n",
    "for modelo in model.estimators:\n",
    "    for clase in model.classes_:\n",
    "        columnas.append(f\"{modelo[0]}_{clase}\")\n",
    "        \n",
    "df_proba = pd.DataFrame(data = predict_models, columns = columnas)\n",
    "df_proba[\"y_test\"] = y_test.values\n",
    "df_proba[\"yhat\"] = yhat\n",
    "\n",
    "df_proba.head(10)"
   ]
  },
  {
   "cell_type": "code",
   "execution_count": 42,
   "id": "221b8bc3",
   "metadata": {},
   "outputs": [
    {
     "data": {
      "text/plain": [
       "array([0.28560569, 0.20078517, 0.27322014, ..., 0.35593489, 0.40178639,\n",
       "       0.32693328])"
      ]
     },
     "execution_count": 42,
     "metadata": {},
     "output_type": "execute_result"
    }
   ],
   "source": [
    "pred = model.predict_proba(X_test)[:, 1]\n",
    "\n",
    "pred"
   ]
  },
  {
   "cell_type": "code",
   "execution_count": 43,
   "id": "a4ec97a1",
   "metadata": {},
   "outputs": [
    {
     "name": "stdout",
     "output_type": "stream",
     "text": [
      "Wall time: 5.69 s\n"
     ]
    }
   ],
   "source": [
    "%%time\n",
    "\n",
    "roc_auc_list = list()\n",
    "\n",
    "for thresh in [i/1000 for i in range(1, 1000)]:\n",
    "\n",
    "    yhat_2 = list()\n",
    "    \n",
    "    for p in pred:\n",
    "        if p <= thresh:\n",
    "            yhat_2.append(0)\n",
    "        else:\n",
    "            yhat_2.append(1)\n",
    "\n",
    "    roc_auc_list.append([thresh, roc_auc_score(y_test, yhat_2),accuracy_score(y_test, yhat_2)])"
   ]
  },
  {
   "cell_type": "code",
   "execution_count": 44,
   "id": "d3416544",
   "metadata": {},
   "outputs": [
    {
     "data": {
      "text/html": [
       "<div>\n",
       "<style scoped>\n",
       "    .dataframe tbody tr th:only-of-type {\n",
       "        vertical-align: middle;\n",
       "    }\n",
       "\n",
       "    .dataframe tbody tr th {\n",
       "        vertical-align: top;\n",
       "    }\n",
       "\n",
       "    .dataframe thead th {\n",
       "        text-align: right;\n",
       "    }\n",
       "</style>\n",
       "<table border=\"1\" class=\"dataframe\">\n",
       "  <thead>\n",
       "    <tr style=\"text-align: right;\">\n",
       "      <th></th>\n",
       "      <th>thresh</th>\n",
       "      <th>roc_auc</th>\n",
       "      <th>accuracy</th>\n",
       "    </tr>\n",
       "  </thead>\n",
       "  <tbody>\n",
       "    <tr>\n",
       "      <th>347</th>\n",
       "      <td>0.348</td>\n",
       "      <td>0.707914</td>\n",
       "      <td>0.771260</td>\n",
       "    </tr>\n",
       "    <tr>\n",
       "      <th>340</th>\n",
       "      <td>0.341</td>\n",
       "      <td>0.707561</td>\n",
       "      <td>0.761657</td>\n",
       "    </tr>\n",
       "    <tr>\n",
       "      <th>346</th>\n",
       "      <td>0.347</td>\n",
       "      <td>0.707463</td>\n",
       "      <td>0.769872</td>\n",
       "    </tr>\n",
       "    <tr>\n",
       "      <th>345</th>\n",
       "      <td>0.346</td>\n",
       "      <td>0.707084</td>\n",
       "      <td>0.768599</td>\n",
       "    </tr>\n",
       "    <tr>\n",
       "      <th>348</th>\n",
       "      <td>0.349</td>\n",
       "      <td>0.707023</td>\n",
       "      <td>0.772186</td>\n",
       "    </tr>\n",
       "    <tr>\n",
       "      <th>...</th>\n",
       "      <td>...</td>\n",
       "      <td>...</td>\n",
       "      <td>...</td>\n",
       "    </tr>\n",
       "    <tr>\n",
       "      <th>121</th>\n",
       "      <td>0.122</td>\n",
       "      <td>0.500000</td>\n",
       "      <td>0.204327</td>\n",
       "    </tr>\n",
       "    <tr>\n",
       "      <th>120</th>\n",
       "      <td>0.121</td>\n",
       "      <td>0.500000</td>\n",
       "      <td>0.204327</td>\n",
       "    </tr>\n",
       "    <tr>\n",
       "      <th>119</th>\n",
       "      <td>0.120</td>\n",
       "      <td>0.500000</td>\n",
       "      <td>0.204327</td>\n",
       "    </tr>\n",
       "    <tr>\n",
       "      <th>118</th>\n",
       "      <td>0.119</td>\n",
       "      <td>0.500000</td>\n",
       "      <td>0.204327</td>\n",
       "    </tr>\n",
       "    <tr>\n",
       "      <th>998</th>\n",
       "      <td>0.999</td>\n",
       "      <td>0.500000</td>\n",
       "      <td>0.795673</td>\n",
       "    </tr>\n",
       "  </tbody>\n",
       "</table>\n",
       "<p>999 rows × 3 columns</p>\n",
       "</div>"
      ],
      "text/plain": [
       "     thresh   roc_auc  accuracy\n",
       "347   0.348  0.707914  0.771260\n",
       "340   0.341  0.707561  0.761657\n",
       "346   0.347  0.707463  0.769872\n",
       "345   0.346  0.707084  0.768599\n",
       "348   0.349  0.707023  0.772186\n",
       "..      ...       ...       ...\n",
       "121   0.122  0.500000  0.204327\n",
       "120   0.121  0.500000  0.204327\n",
       "119   0.120  0.500000  0.204327\n",
       "118   0.119  0.500000  0.204327\n",
       "998   0.999  0.500000  0.795673\n",
       "\n",
       "[999 rows x 3 columns]"
      ]
     },
     "execution_count": 44,
     "metadata": {},
     "output_type": "execute_result"
    }
   ],
   "source": [
    "df_roc_auc = pd.DataFrame(data = roc_auc_list, columns = [\"thresh\", \"roc_auc\", \"accuracy\"])\n",
    "\n",
    "df_roc_auc.sort_values(\"roc_auc\", ascending = False)"
   ]
  },
  {
   "cell_type": "code",
   "execution_count": 45,
   "id": "62536e5f",
   "metadata": {},
   "outputs": [
    {
     "data": {
      "text/plain": [
       "0    0.795675\n",
       "1    0.204325\n",
       "Name: class, dtype: float64"
      ]
     },
     "execution_count": 45,
     "metadata": {},
     "output_type": "execute_result"
    }
   ],
   "source": [
    "df[\"class\"].value_counts(normalize = True)"
   ]
  },
  {
   "cell_type": "markdown",
   "id": "796fcb5e",
   "metadata": {},
   "source": [
    "### Validacion"
   ]
  },
  {
   "cell_type": "code",
   "execution_count": 47,
   "id": "87d28e98",
   "metadata": {},
   "outputs": [
    {
     "name": "stdout",
     "output_type": "stream",
     "text": [
      "Jaccard Index: 0.5516996505692982\n",
      "Accuracy: 0.8166765022390391\n",
      "Precisión: 0.7156389118624196\n",
      "Sensibilidad: 0.6578358390443098\n",
      "F1-score: 0.6769849957973694\n",
      "ROC AUC: 0.6578358390443098\n",
      "Wall time: 1min 25s\n"
     ]
    }
   ],
   "source": [
    "%%time\n",
    "\n",
    "skfold = StratifiedKFold(n_splits = 10)\n",
    "skfold.get_n_splits(X, y)\n",
    "\n",
    "yhat = list()\n",
    "y_test_real = list()\n",
    "\n",
    "for train_index, test_index in skfold.split(X, y):\n",
    "    \n",
    "    X_train, X_test = X[train_index], X[test_index]\n",
    "    y_train, y_test = y[train_index], y[test_index]\n",
    "    \n",
    "    # Modelo\n",
    "    model = VotingClassifier(estimators = [(\"knn\", model0), (\"lr\", model1), (\"rf\", model2), (\"gnb\", model3), (\"ab\", model4) ,('gb', model5)],\n",
    "                             voting     = \"soft\",\n",
    "                             weights    = [1, 1, 1, 1, 1,1],\n",
    "                             n_jobs     = -1)\n",
    "    \n",
    "    model.fit(X_train, y_train)\n",
    "    \n",
    "    # Prediccion\n",
    "    yhat1 = model.predict(X_test)\n",
    "    yhat.extend(yhat1)\n",
    "    \n",
    "    # Valores reales\n",
    "    y_test_real.extend(y_test)\n",
    "    \n",
    "print(\"Jaccard Index:\", jaccard_score(y_test_real, yhat, average = \"macro\"))\n",
    "print(\"Accuracy:\"     , accuracy_score(y_test_real, yhat))\n",
    "print(\"Precisión:\"    , precision_score(y_test_real, yhat, average = \"macro\"))\n",
    "print(\"Sensibilidad:\" , recall_score(y_test_real, yhat, average = \"macro\"))\n",
    "print(\"F1-score:\"     , f1_score(y_test_real, yhat, average = \"macro\"))\n",
    "print(\"ROC AUC:\"      , roc_auc_score(y_test_real, yhat))"
   ]
  },
  {
   "cell_type": "code",
   "execution_count": null,
   "id": "47515f06",
   "metadata": {},
   "outputs": [],
   "source": [
    "################################################################################################################################"
   ]
  },
  {
   "cell_type": "markdown",
   "id": "0fa68068",
   "metadata": {},
   "source": [
    "### Exportar modelos"
   ]
  },
  {
   "cell_type": "code",
   "execution_count": 48,
   "id": "f997e072",
   "metadata": {},
   "outputs": [],
   "source": [
    "import pickle\n",
    "\n",
    "with open(\"voting_model.sav\", \"wb\") as file:\n",
    "    pickle.dump(model, file)"
   ]
  },
  {
   "cell_type": "markdown",
   "id": "6a07422a",
   "metadata": {},
   "source": [
    "### Importar modelos"
   ]
  },
  {
   "cell_type": "code",
   "execution_count": 49,
   "id": "6aee782d",
   "metadata": {},
   "outputs": [],
   "source": [
    "with open(\"voting_model.sav\", \"rb\") as file:\n",
    "    modelo2 = pickle.load(file)"
   ]
  },
  {
   "cell_type": "code",
   "execution_count": 51,
   "id": "f74dabbd",
   "metadata": {},
   "outputs": [
    {
     "data": {
      "text/plain": [
       "[('knn', KNeighborsClassifier(n_jobs=-1, n_neighbors=3)),\n",
       " ('lr', LogisticRegression(solver='liblinear')),\n",
       " ('rf', RandomForestClassifier()),\n",
       " ('gnb', GaussianNB()),\n",
       " ('ab', AdaBoostClassifier(n_estimators=200)),\n",
       " ('gb',\n",
       "  GradientBoostingClassifier(learning_rate=0.05, max_features='log2',\n",
       "                             n_estimators=500, n_iter_no_change=200,\n",
       "                             random_state=42, subsample=0.5, tol=0.001,\n",
       "                             verbose=1))]"
      ]
     },
     "execution_count": 51,
     "metadata": {},
     "output_type": "execute_result"
    }
   ],
   "source": [
    "modelo2.estimators"
   ]
  },
  {
   "cell_type": "code",
   "execution_count": null,
   "id": "e86e18fb",
   "metadata": {},
   "outputs": [],
   "source": [
    "################################################################################################################################"
   ]
  },
  {
   "cell_type": "code",
   "execution_count": 52,
   "id": "9bfe814a",
   "metadata": {},
   "outputs": [
    {
     "data": {
      "text/plain": [
       "array([0.89769659, 0.150515  , 0.        , 0.5       , 0.5       ,\n",
       "       0.57523242, 0.5       , 0.5       , 0.5       , 0.5       ,\n",
       "       0.5       , 0.5       , 0.15116482, 0.0022895 , 0.00118747,\n",
       "       0.00223204, 0.00322061, 0.00468901, 0.00378311])"
      ]
     },
     "execution_count": 52,
     "metadata": {},
     "output_type": "execute_result"
    }
   ],
   "source": [
    "X_test[0, :]"
   ]
  },
  {
   "cell_type": "code",
   "execution_count": 53,
   "id": "66a0a5fd",
   "metadata": {},
   "outputs": [
    {
     "data": {
      "text/plain": [
       "0.35485728929028154"
      ]
     },
     "execution_count": 53,
     "metadata": {},
     "output_type": "execute_result"
    }
   ],
   "source": [
    "modelo2.predict_proba([X_test[0, :]])[:, 1][0]"
   ]
  },
  {
   "cell_type": "code",
   "execution_count": 55,
   "id": "b6a172db",
   "metadata": {},
   "outputs": [
    {
     "name": "stdout",
     "output_type": "stream",
     "text": [
      "1\n"
     ]
    }
   ],
   "source": [
    "if modelo2.predict_proba([X_test[3, :]])[:, 1][0] <= 0.394:\n",
    "    print(0)\n",
    "else:\n",
    "    print(1)"
   ]
  },
  {
   "cell_type": "code",
   "execution_count": 56,
   "id": "631180c3",
   "metadata": {},
   "outputs": [],
   "source": [
    "yhat = [0 if x <= 0.394 else 1 for x in model.predict_proba(X_test)[:, 1]]"
   ]
  },
  {
   "cell_type": "code",
   "execution_count": 57,
   "id": "c09f0155",
   "metadata": {},
   "outputs": [
    {
     "name": "stdout",
     "output_type": "stream",
     "text": [
      "Jaccard Index: 0.5466604973133827\n",
      "Accuracy: 0.7993055555555556\n",
      "Precisión: 0.6863754889178617\n",
      "Sensibilidad: 0.6697118638031129\n",
      "F1-score: 0.6770458573774409\n",
      "ROC AUC: 0.6697118638031129\n"
     ]
    }
   ],
   "source": [
    "print(\"Jaccard Index:\", jaccard_score(y_test, yhat, average = \"macro\"))\n",
    "print(\"Accuracy:\"     , accuracy_score(y_test, yhat))\n",
    "print(\"Precisión:\"    , precision_score(y_test, yhat, average = \"macro\"))\n",
    "print(\"Sensibilidad:\" , recall_score(y_test, yhat, average = \"macro\"))\n",
    "print(\"F1-score:\"     , f1_score(y_test, yhat, average = \"macro\"))\n",
    "print(\"ROC AUC:\"      , roc_auc_score(y_test, yhat))"
   ]
  },
  {
   "cell_type": "code",
   "execution_count": null,
   "id": "0cbd782e",
   "metadata": {},
   "outputs": [],
   "source": [
    "################################################################################################################################"
   ]
  }
 ],
 "metadata": {
  "kernelspec": {
   "display_name": "Python 3 (ipykernel)",
   "language": "python",
   "name": "python3"
  },
  "language_info": {
   "codemirror_mode": {
    "name": "ipython",
    "version": 3
   },
   "file_extension": ".py",
   "mimetype": "text/x-python",
   "name": "python",
   "nbconvert_exporter": "python",
   "pygments_lexer": "ipython3",
   "version": "3.9.7"
  }
 },
 "nbformat": 4,
 "nbformat_minor": 5
}
