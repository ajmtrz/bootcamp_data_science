{
 "cells": [
  {
   "cell_type": "markdown",
   "id": "7f8fab05-1b5b-4311-a28a-6e5e29393ee0",
   "metadata": {
    "id": "7f8fab05-1b5b-4311-a28a-6e5e29393ee0"
   },
   "source": [
    "# Modelo de Regresión\n",
    "\n",
    "Tenemos el conjunto de datos regressiondata.csv con una serie de variables:\n",
    "\n",
    "\n",
    "The dataset consists of information on 22,000 properties. The dataset consists of historic data of houses sold between May 2014 to May 2015.\n",
    "\n",
    "The goal is to predict the house price\n",
    "\n",
    "These are the definitions of data points provided:\n",
    "\n",
    "Note: For some of the variables are self-explanatory, no definition has been provided.\n",
    "\n",
    " - Id: Unique identification number for the property\n",
    "\n",
    " - date: the date the house was sold\n",
    "\n",
    " - price: the price of the house\n",
    "\n",
    " - waterfront: the house which has a view to a waterfront\n",
    "\n",
    " - condition: How good the condition is (Overall). 1 indicates worn-out property and 5 excellent.\n",
    "\n",
    " - grade: Overall grade given to the housing unit, based on the King County grading system. 1 poor, 13 excellent.\n",
    "\n",
    " - Sqft_above: square footage of house apart from the basement\n",
    "\n",
    " - Sqft_living15: Living room area in 2015(implies-- some renovations) This might or might not have affected the lotSize area.\n",
    "\n",
    " - Sqft_lot15: lotSize area in 2015(implies-- some renovations)"
   ]
  },
  {
   "cell_type": "markdown",
   "id": "d267f688-a70b-4987-861a-5dfd79d56c35",
   "metadata": {
    "id": "d267f688-a70b-4987-861a-5dfd79d56c35"
   },
   "source": [
    "## Liberias"
   ]
  },
  {
   "cell_type": "code",
   "execution_count": null,
   "id": "c55f28e0-d1e7-4dc8-a8d3-feaf84fcaac2",
   "metadata": {
    "colab": {
     "base_uri": "https://localhost:8080/"
    },
    "executionInfo": {
     "elapsed": 23040,
     "status": "ok",
     "timestamp": 1702118524865,
     "user": {
      "displayName": "Enrique Revuelta",
      "userId": "17234772387070876470"
     },
     "user_tz": -60
    },
    "id": "c55f28e0-d1e7-4dc8-a8d3-feaf84fcaac2",
    "outputId": "5ced8ce2-74d6-4d72-a059-6bb51b08a657"
   },
   "outputs": [],
   "source": [
    "#!pip install catboost\n",
    "#!pip install xgboost"
   ]
  },
  {
   "cell_type": "code",
   "execution_count": null,
   "id": "cc1b6423-4cdf-4982-be5c-88d409cc277c",
   "metadata": {
    "executionInfo": {
     "elapsed": 1624,
     "status": "ok",
     "timestamp": 1702118529410,
     "user": {
      "displayName": "Enrique Revuelta",
      "userId": "17234772387070876470"
     },
     "user_tz": -60
    },
    "id": "cc1b6423-4cdf-4982-be5c-88d409cc277c"
   },
   "outputs": [],
   "source": [
    "import pandas as pd\n",
    "import numpy as np\n",
    "import matplotlib.pyplot as plt\n",
    "import seaborn as sns\n",
    "\n",
    "from sklearn.model_selection import train_test_split\n",
    "from sklearn.preprocessing import StandardScaler, MinMaxScaler\n",
    "from sklearn.linear_model import LinearRegression\n",
    "from sklearn.ensemble import RandomForestRegressor, GradientBoostingRegressor\n",
    "from xgboost import XGBRegressor\n",
    "from catboost import CatBoostRegressor\n",
    "from tqdm.notebook import tqdm\n",
    "\n",
    "from sklearn.metrics import r2_score, mean_absolute_error, mean_squared_error"
   ]
  },
  {
   "cell_type": "code",
   "execution_count": null,
   "id": "1c667c64-f075-4552-957b-b457bc5f3bc7",
   "metadata": {
    "colab": {
     "base_uri": "https://localhost:8080/",
     "height": 339
    },
    "executionInfo": {
     "elapsed": 819,
     "status": "error",
     "timestamp": 1702118532244,
     "user": {
      "displayName": "Enrique Revuelta",
      "userId": "17234772387070876470"
     },
     "user_tz": -60
    },
    "id": "1c667c64-f075-4552-957b-b457bc5f3bc7",
    "outputId": "642b2362-e400-4136-9153-9884cb76b3b4"
   },
   "outputs": [],
   "source": [
    "df = pd.read_csv('regression_data.csv', sep=';')\n",
    "df.head()"
   ]
  },
  {
   "cell_type": "code",
   "execution_count": null,
   "id": "61ef6763-3983-4b70-b2b0-2501d06b9124",
   "metadata": {
    "id": "61ef6763-3983-4b70-b2b0-2501d06b9124",
    "outputId": "ea004a2c-7035-4a05-d37d-8196f2be21b5"
   },
   "outputs": [],
   "source": [
    "df.info()"
   ]
  },
  {
   "cell_type": "markdown",
   "id": "3fbc9cee-c286-4801-b9bc-e6dbb5ee50cc",
   "metadata": {
    "id": "3fbc9cee-c286-4801-b9bc-e6dbb5ee50cc"
   },
   "source": [
    "### Limpieza y transformaciones"
   ]
  },
  {
   "cell_type": "markdown",
   "id": "cc2d159e-ffe4-4d42-ac32-fdc5c3f0640c",
   "metadata": {
    "id": "cc2d159e-ffe4-4d42-ac32-fdc5c3f0640c"
   },
   "source": [
    "Comenzamos por la columna date, vamos a transformarla y quedarnos solo con el año"
   ]
  },
  {
   "cell_type": "code",
   "execution_count": null,
   "id": "966c057c-1350-4bb9-bccb-18840a041c9b",
   "metadata": {
    "id": "966c057c-1350-4bb9-bccb-18840a041c9b",
    "tags": []
   },
   "outputs": [],
   "source": [
    "df.date = df.date.apply(lambda x: int('20'+x[-2:]) if int(x[-2:]) < 20 else int('19'+x[-2:]))"
   ]
  },
  {
   "cell_type": "code",
   "execution_count": null,
   "id": "3a162ca4-2336-4ab5-a9de-d1a1c6f6fc17",
   "metadata": {
    "id": "3a162ca4-2336-4ab5-a9de-d1a1c6f6fc17",
    "outputId": "1ea18810-c217-4ba1-e4d1-99b4c1f1f59c"
   },
   "outputs": [],
   "source": [
    "df.date.unique()"
   ]
  },
  {
   "cell_type": "code",
   "execution_count": null,
   "id": "767345ac-c80d-4c9c-8c30-bce458eea47b",
   "metadata": {
    "id": "767345ac-c80d-4c9c-8c30-bce458eea47b"
   },
   "outputs": [],
   "source": [
    "df['years_old'] = df.date - df.yr_built"
   ]
  },
  {
   "cell_type": "markdown",
   "id": "99cf9aa6-9984-4b87-b76b-c255a0ed5fed",
   "metadata": {
    "id": "99cf9aa6-9984-4b87-b76b-c255a0ed5fed"
   },
   "source": [
    "Como ya tenemos una columna con los años de antiguedad de la casa, podemos eliminar las columnas de date y de yr_built"
   ]
  },
  {
   "cell_type": "code",
   "execution_count": null,
   "id": "08ca5325-1d5d-4ae6-bdc7-fcd433ae1a6f",
   "metadata": {
    "id": "08ca5325-1d5d-4ae6-bdc7-fcd433ae1a6f"
   },
   "outputs": [],
   "source": [
    "df.drop(['date','yr_built'], axis=1, inplace=True)"
   ]
  },
  {
   "cell_type": "code",
   "execution_count": null,
   "id": "c15fd185-8164-4b44-a153-aac59ab3a526",
   "metadata": {
    "id": "c15fd185-8164-4b44-a153-aac59ab3a526",
    "outputId": "7d85720e-13d8-4fe9-d4c3-7e0ce8354c23"
   },
   "outputs": [],
   "source": [
    "df.head()"
   ]
  },
  {
   "cell_type": "code",
   "execution_count": null,
   "id": "f9818e74-f375-41e9-9d57-8eb6578da475",
   "metadata": {
    "id": "f9818e74-f375-41e9-9d57-8eb6578da475",
    "outputId": "976e3379-3c68-4ef2-8275-b6dc047fa8b8"
   },
   "outputs": [],
   "source": [
    "df[df.bathrooms < 0.75]"
   ]
  },
  {
   "cell_type": "code",
   "execution_count": null,
   "id": "74dfa187-490c-4cb0-a400-1d7e734b15ca",
   "metadata": {
    "id": "74dfa187-490c-4cb0-a400-1d7e734b15ca"
   },
   "outputs": [],
   "source": [
    "df['living_renovated'] = [1 if df.sqft_living[i]-df.sqft_living15[i] != 0 else 0 for i in range(len(df))]"
   ]
  },
  {
   "cell_type": "code",
   "execution_count": null,
   "id": "7b1027bf-41b2-4900-93ea-22bd24f36b80",
   "metadata": {
    "id": "7b1027bf-41b2-4900-93ea-22bd24f36b80"
   },
   "outputs": [],
   "source": [
    "df['lot_renovated'] = [1 if df.sqft_lot[i]-df.sqft_lot15[i] != 0 else 0 for i in range(len(df))]"
   ]
  },
  {
   "cell_type": "code",
   "execution_count": null,
   "id": "4bc864cc-f066-4993-91d7-194011cd1e66",
   "metadata": {
    "id": "4bc864cc-f066-4993-91d7-194011cd1e66"
   },
   "outputs": [],
   "source": [
    "df['dif_living'] = [df.sqft_living[i]-df.sqft_living15[i] for i in range(len(df))]\n",
    "df['dif_lot'] = [df.sqft_lot[i]-df.sqft_lot15[i] for i in range(len(df))]\n",
    "df['year_renovated'] = [1 if df.yr_renovated[i]>0 else 0 for i in range(len(df))]"
   ]
  },
  {
   "cell_type": "code",
   "execution_count": null,
   "id": "c9fa4340-14f8-474f-9ec3-a5946d3279e4",
   "metadata": {
    "id": "c9fa4340-14f8-474f-9ec3-a5946d3279e4",
    "outputId": "30d12219-2e93-42be-f924-a6db9954035c"
   },
   "outputs": [],
   "source": [
    "df.head()"
   ]
  },
  {
   "cell_type": "code",
   "execution_count": null,
   "id": "1045f3a3-9a43-495d-b185-575e8ad645bc",
   "metadata": {
    "id": "1045f3a3-9a43-495d-b185-575e8ad645bc"
   },
   "outputs": [],
   "source": [
    "X = df.drop(['id','sqft_living','sqft_living15','sqft_lot','sqft_lot15', 'yr_renovated'], axis=1)"
   ]
  },
  {
   "cell_type": "code",
   "execution_count": null,
   "id": "a04a83a4-59ce-4138-861e-142f262cc82a",
   "metadata": {
    "id": "a04a83a4-59ce-4138-861e-142f262cc82a",
    "outputId": "955ccbf5-b39c-48b3-943e-140584174d55"
   },
   "outputs": [],
   "source": [
    "X.living_renovated.value_counts()"
   ]
  },
  {
   "cell_type": "code",
   "execution_count": null,
   "id": "d92684da-3030-4895-835f-573c543008c3",
   "metadata": {
    "id": "d92684da-3030-4895-835f-573c543008c3",
    "outputId": "5b1c72e4-e401-4353-8d27-1a33dda0c834"
   },
   "outputs": [],
   "source": [
    "X.lot_renovated.value_counts()"
   ]
  },
  {
   "cell_type": "code",
   "execution_count": null,
   "id": "15bced46-68d2-4028-9a74-7b25272a5f07",
   "metadata": {
    "id": "15bced46-68d2-4028-9a74-7b25272a5f07",
    "outputId": "00843ffb-c62b-4f66-d9cc-81e657331fb4"
   },
   "outputs": [],
   "source": [
    "fig = plt.figure(figsize=(20,15))\n",
    "ax = fig.add_subplot(projection='3d')\n",
    "\n",
    "ax.bar3d(x=X.long, y=X.lat, z=np.zeros_like(X.price), dx=0.001, dy=0.001, dz=X.price);"
   ]
  },
  {
   "cell_type": "code",
   "execution_count": null,
   "id": "94d52a35-d753-47fa-b296-43303a2607e5",
   "metadata": {
    "id": "94d52a35-d753-47fa-b296-43303a2607e5",
    "outputId": "2a76491c-702e-4041-a595-509652602211"
   },
   "outputs": [],
   "source": [
    "plt.figure(figsize=(20,15))\n",
    "sns.scatterplot(data=X, y='lat', x='long', hue='zipcode', size='price')\n",
    "plt.show();"
   ]
  },
  {
   "cell_type": "code",
   "execution_count": null,
   "id": "9fbb2002-b160-4d38-80e6-e41400f8bafb",
   "metadata": {
    "id": "9fbb2002-b160-4d38-80e6-e41400f8bafb",
    "outputId": "75ee67e5-9d36-4b4c-b620-40b55dd55bd8"
   },
   "outputs": [],
   "source": [
    "plt.figure(figsize=(20,15))\n",
    "sns.boxplot(data=X, x='bedrooms', y='price');"
   ]
  },
  {
   "cell_type": "code",
   "execution_count": null,
   "id": "fa4f7797-2f7f-48f8-8ac1-4e5454a239b6",
   "metadata": {
    "id": "fa4f7797-2f7f-48f8-8ac1-4e5454a239b6",
    "outputId": "134d4dff-2730-43d2-c774-7c66ec2f5391"
   },
   "outputs": [],
   "source": [
    "X.info()"
   ]
  },
  {
   "cell_type": "code",
   "execution_count": null,
   "id": "4b8e473e-b1cd-4f68-9c9d-d1e0f5f14792",
   "metadata": {
    "id": "4b8e473e-b1cd-4f68-9c9d-d1e0f5f14792"
   },
   "outputs": [],
   "source": [
    "#!pip install geopandas\n"
   ]
  },
  {
   "cell_type": "code",
   "execution_count": null,
   "id": "2014cca4-9e25-4165-bb1f-78b71400e8d4",
   "metadata": {
    "id": "2014cca4-9e25-4165-bb1f-78b71400e8d4"
   },
   "outputs": [],
   "source": [
    "#!pip install keplergl"
   ]
  },
  {
   "cell_type": "code",
   "execution_count": null,
   "id": "5c69b9ac-fad0-45c9-902e-f9e16fbf3e9b",
   "metadata": {
    "id": "5c69b9ac-fad0-45c9-902e-f9e16fbf3e9b"
   },
   "outputs": [],
   "source": [
    "#!jupyter nbextension install --py --sys-prefix keplergl\n",
    "#!jupyter nbextension enable --py --sys-prefix keplergl"
   ]
  },
  {
   "cell_type": "code",
   "execution_count": null,
   "id": "5218e42e-f930-4286-bde5-c648f552a310",
   "metadata": {
    "id": "5218e42e-f930-4286-bde5-c648f552a310",
    "tags": []
   },
   "outputs": [],
   "source": [
    "import geopandas as gpd\n",
    "from keplergl import KeplerGl"
   ]
  },
  {
   "cell_type": "code",
   "execution_count": null,
   "id": "b213af33-83e7-4122-94ee-6811b471c4f7",
   "metadata": {
    "id": "b213af33-83e7-4122-94ee-6811b471c4f7"
   },
   "outputs": [],
   "source": [
    "geo = gpd.GeoDataFrame(X, geometry=gpd.points_from_xy(X.long, X.lat))\n",
    "\n",
    "geo.head()"
   ]
  },
  {
   "cell_type": "code",
   "execution_count": null,
   "id": "e41c3f56-b8bb-4101-9980-8e2baed4e8b6",
   "metadata": {
    "id": "e41c3f56-b8bb-4101-9980-8e2baed4e8b6"
   },
   "outputs": [],
   "source": [
    "geo.to_file('geo_data.geojson', driver='GeoJSON')"
   ]
  },
  {
   "cell_type": "code",
   "execution_count": null,
   "id": "19e9727c-9fe6-44be-a46b-5ac06c2dee56",
   "metadata": {
    "id": "19e9727c-9fe6-44be-a46b-5ac06c2dee56"
   },
   "outputs": [],
   "source": [
    "cfg_map = {'version': 'v1',\n",
    " 'config': {'visState': {'filters': [{'dataId': ['Prueba'],\n",
    "     'id': '7q3p00ilg',\n",
    "     'name': ['zipcode'],\n",
    "     'type': 'range',\n",
    "     'value': [98001, 98199],\n",
    "     'enlarged': False,\n",
    "     'plotType': 'histogram',\n",
    "     'animationWindow': 'free',\n",
    "     'yAxis': None,\n",
    "     'speed': 1},\n",
    "    {'dataId': ['Prueba'],\n",
    "     'id': 'xs6ilv2ju3',\n",
    "     'name': ['price'],\n",
    "     'type': 'range',\n",
    "     'value': [78000, 7700000],\n",
    "     'enlarged': False,\n",
    "     'plotType': 'histogram',\n",
    "     'animationWindow': 'free',\n",
    "     'yAxis': None,\n",
    "     'speed': 1}],\n",
    "   'layers': [{'id': 'ghxo1m',\n",
    "     'type': 'heatmap',\n",
    "     'config': {'dataId': 'Prueba',\n",
    "      'label': 'Prueba',\n",
    "      'color': [218, 0, 0],\n",
    "      'highlightColor': [252, 242, 26, 255],\n",
    "      'columns': {'lat': 'lat', 'lng': 'long'},\n",
    "      'isVisible': True,\n",
    "      'visConfig': {'opacity': 0.8,\n",
    "       'colorRange': {'name': 'Global Warming',\n",
    "        'type': 'sequential',\n",
    "        'category': 'Uber',\n",
    "        'colors': ['#5A1846',\n",
    "         '#900C3F',\n",
    "         '#C70039',\n",
    "         '#E3611C',\n",
    "         '#F1920E',\n",
    "         '#FFC300']},\n",
    "       'radius': 16},\n",
    "      'hidden': False,\n",
    "      'textLabel': [{'field': None,\n",
    "        'color': [255, 255, 255],\n",
    "        'size': 18,\n",
    "        'offset': [0, 0],\n",
    "        'anchor': 'start',\n",
    "        'alignment': 'center'}]},\n",
    "     'visualChannels': {'weightField': {'name': 'price', 'type': 'integer'},\n",
    "      'weightScale': 'linear'}},\n",
    "    {'id': 'brb3upi',\n",
    "     'type': 'point',\n",
    "     'config': {'dataId': 'Prueba',\n",
    "      'label': 'new layer',\n",
    "      'color': [130, 154, 227],\n",
    "      'highlightColor': [252, 242, 26, 255],\n",
    "      'columns': {'lat': 'lat', 'lng': 'long', 'altitude': 'price'},\n",
    "      'isVisible': True,\n",
    "      'visConfig': {'radius': 10,\n",
    "       'fixedRadius': False,\n",
    "       'opacity': 0.8,\n",
    "       'outline': False,\n",
    "       'thickness': 2,\n",
    "       'strokeColor': None,\n",
    "       'colorRange': {'name': 'Global Warming',\n",
    "        'type': 'sequential',\n",
    "        'category': 'Uber',\n",
    "        'colors': ['#5A1846',\n",
    "         '#900C3F',\n",
    "         '#C70039',\n",
    "         '#E3611C',\n",
    "         '#F1920E',\n",
    "         '#FFC300']},\n",
    "       'strokeColorRange': {'name': 'Global Warming',\n",
    "        'type': 'sequential',\n",
    "        'category': 'Uber',\n",
    "        'colors': ['#5A1846',\n",
    "         '#900C3F',\n",
    "         '#C70039',\n",
    "         '#E3611C',\n",
    "         '#F1920E',\n",
    "         '#FFC300']},\n",
    "       'radiusRange': [0, 50],\n",
    "       'filled': True},\n",
    "      'hidden': False,\n",
    "      'textLabel': [{'field': {'name': 'price', 'type': 'integer'},\n",
    "        'color': [255, 255, 255],\n",
    "        'size': 18,\n",
    "        'offset': [0, 0],\n",
    "        'anchor': 'start',\n",
    "        'alignment': 'center'}]},\n",
    "     'visualChannels': {'colorField': None,\n",
    "      'colorScale': 'quantile',\n",
    "      'strokeColorField': None,\n",
    "      'strokeColorScale': 'quantile',\n",
    "      'sizeField': None,\n",
    "      'sizeScale': 'linear'}}],\n",
    "   'interactionConfig': {'tooltip': {'fieldsToShow': {'Prueba': [{'name': 'bedrooms',\n",
    "        'format': None},\n",
    "       {'name': 'bathrooms', 'format': None},\n",
    "       {'name': 'floors', 'format': None},\n",
    "       {'name': 'waterfront', 'format': None},\n",
    "       {'name': 'view', 'format': None},\n",
    "       {'name': 'price', 'format': None}]},\n",
    "     'compareMode': False,\n",
    "     'compareType': 'absolute',\n",
    "     'enabled': True},\n",
    "    'brush': {'size': 0.5, 'enabled': False},\n",
    "    'geocoder': {'enabled': True},\n",
    "    'coordinate': {'enabled': False}},\n",
    "   'layerBlending': 'normal',\n",
    "   'splitMaps': [],\n",
    "   'animationConfig': {'currentTime': None, 'speed': 1}},\n",
    "  'mapState': {'bearing': -17.394846207465637,\n",
    "   'dragRotate': True,\n",
    "   'latitude': 47.474522237255556,\n",
    "   'longitude': -122.19059602024436,\n",
    "   'pitch': 53.61835852608127,\n",
    "   'zoom': 9.096117833833905,\n",
    "   'isSplit': False},\n",
    "  'mapStyle': {'styleType': 'satellite',\n",
    "   'topLayerGroups': {},\n",
    "   'visibleLayerGroups': {},\n",
    "   'threeDBuildingColor': [3.7245996603793508,\n",
    "    6.518049405663864,\n",
    "    13.036098811327728],\n",
    "   'mapStyles': {}}}}\n",
    "\n"
   ]
  },
  {
   "cell_type": "code",
   "execution_count": null,
   "id": "1b6c8e7d-76b9-4484-bb23-12ec6eb81558",
   "metadata": {
    "id": "1b6c8e7d-76b9-4484-bb23-12ec6eb81558"
   },
   "outputs": [],
   "source": [
    "mapa = KeplerGl(height=600, width=800, config= cfg_map)\n",
    "\n",
    "mapa.add_data(geo.copy(), 'Prueba')\n",
    "\n",
    "mapa.save_to_html(file_name='prueba.html')\n",
    "\n",
    "mapa"
   ]
  },
  {
   "cell_type": "code",
   "execution_count": null,
   "id": "959402c7-087c-4e96-a373-56d7c3c8ba23",
   "metadata": {
    "id": "959402c7-087c-4e96-a373-56d7c3c8ba23"
   },
   "outputs": [],
   "source": []
  },
  {
   "cell_type": "code",
   "execution_count": null,
   "id": "89c34012-ca82-4f06-9ac0-4eccb0fcf5f0",
   "metadata": {
    "id": "89c34012-ca82-4f06-9ac0-4eccb0fcf5f0"
   },
   "outputs": [],
   "source": [
    "X.head()"
   ]
  },
  {
   "cell_type": "code",
   "execution_count": null,
   "id": "ac44a9c2-990b-4fc1-a1cc-e744f7d7b458",
   "metadata": {
    "id": "ac44a9c2-990b-4fc1-a1cc-e744f7d7b458"
   },
   "outputs": [],
   "source": [
    "price_per_zipcode = X.groupby('zipcode')['price'].agg('mean').sort_values(ascending=True)"
   ]
  },
  {
   "cell_type": "code",
   "execution_count": null,
   "id": "a6e3bcb5-fa0d-46f8-b0df-bbc620ba7a81",
   "metadata": {
    "id": "a6e3bcb5-fa0d-46f8-b0df-bbc620ba7a81"
   },
   "outputs": [],
   "source": [
    "zp = {}\n",
    "enc = 1\n",
    "for i, v in price_per_zipcode.items():\n",
    "    zp[i]= enc\n",
    "    enc += 1"
   ]
  },
  {
   "cell_type": "code",
   "execution_count": null,
   "id": "2916601a-1726-4bd1-8af3-04a91c02a233",
   "metadata": {
    "id": "2916601a-1726-4bd1-8af3-04a91c02a233"
   },
   "outputs": [],
   "source": [
    "zp"
   ]
  },
  {
   "cell_type": "code",
   "execution_count": null,
   "id": "ef80b274-77c2-48a9-94f1-aa033a6d29d2",
   "metadata": {
    "id": "ef80b274-77c2-48a9-94f1-aa033a6d29d2"
   },
   "outputs": [],
   "source": [
    "zp_encoded = X.zipcode.apply(lambda x : zp[x])\n",
    "\n",
    "zp_encoded"
   ]
  },
  {
   "cell_type": "code",
   "execution_count": null,
   "id": "629d022f-e6d6-43b2-88c4-8d57550ca652",
   "metadata": {
    "id": "629d022f-e6d6-43b2-88c4-8d57550ca652"
   },
   "outputs": [],
   "source": [
    "X.zipcode = zp_encoded"
   ]
  },
  {
   "cell_type": "code",
   "execution_count": null,
   "id": "08529dfd-ef85-4027-836b-3cea956778c6",
   "metadata": {
    "id": "08529dfd-ef85-4027-836b-3cea956778c6"
   },
   "outputs": [],
   "source": [
    "X.head()"
   ]
  },
  {
   "cell_type": "code",
   "execution_count": null,
   "id": "b0705bad-0c62-4f6b-8981-2c90122b265a",
   "metadata": {
    "id": "b0705bad-0c62-4f6b-8981-2c90122b265a"
   },
   "outputs": [],
   "source": [
    "sqrt_tot = X.sqft_above + X.sqft_basement\n",
    "\n",
    "sqrt_tot"
   ]
  },
  {
   "cell_type": "code",
   "execution_count": null,
   "id": "a9f88190-8883-4cbe-8799-5b398a1b518b",
   "metadata": {
    "id": "a9f88190-8883-4cbe-8799-5b398a1b518b"
   },
   "outputs": [],
   "source": [
    "X['sqrt_tot'] = sqrt_tot\n",
    "\n",
    "X['basement'] = X.sqft_basement.apply(lambda x: 1 if x != 0 else 0)"
   ]
  },
  {
   "cell_type": "code",
   "execution_count": null,
   "id": "d3ff7b34-ec67-4ab8-a20d-240c6556489d",
   "metadata": {
    "id": "d3ff7b34-ec67-4ab8-a20d-240c6556489d"
   },
   "outputs": [],
   "source": [
    "X.head()"
   ]
  },
  {
   "cell_type": "code",
   "execution_count": null,
   "id": "d43acc73-1b87-48cc-8cb4-3ea6c15bb363",
   "metadata": {
    "id": "d43acc73-1b87-48cc-8cb4-3ea6c15bb363"
   },
   "outputs": [],
   "source": [
    "X.info()"
   ]
  },
  {
   "cell_type": "code",
   "execution_count": null,
   "id": "ac93e375-c717-4209-b4b2-e6a2c30dabb5",
   "metadata": {
    "id": "ac93e375-c717-4209-b4b2-e6a2c30dabb5",
    "tags": []
   },
   "outputs": [],
   "source": [
    "X_final = X.drop(['sqft_above','sqft_basement', 'geometry', 'lat', 'long', 'price'], axis=1)\n",
    "y = X.price"
   ]
  },
  {
   "cell_type": "code",
   "execution_count": null,
   "id": "d49e5d44-4983-4a1a-bda6-667ec117cce5",
   "metadata": {
    "id": "d49e5d44-4983-4a1a-bda6-667ec117cce5"
   },
   "outputs": [],
   "source": [
    "plt.figure(figsize=(15,15))\n",
    "sns.heatmap(X_final.corr(), annot=True);"
   ]
  },
  {
   "cell_type": "code",
   "execution_count": null,
   "id": "f8ef5667-0ffc-47a8-ac4e-ce7584995566",
   "metadata": {
    "id": "f8ef5667-0ffc-47a8-ac4e-ce7584995566"
   },
   "outputs": [],
   "source": [
    "plt.figure(figsize=(16,6))\n",
    "sns.histplot(y);"
   ]
  },
  {
   "cell_type": "markdown",
   "id": "5e19785b-13a6-442e-a08d-930e7aa24ae9",
   "metadata": {
    "id": "5e19785b-13a6-442e-a08d-930e7aa24ae9"
   },
   "source": [
    "## Train test split"
   ]
  },
  {
   "cell_type": "code",
   "execution_count": null,
   "id": "344a5aa5-9397-436d-bd78-fec6d7719d7a",
   "metadata": {
    "id": "344a5aa5-9397-436d-bd78-fec6d7719d7a"
   },
   "outputs": [],
   "source": [
    "X_train, X_test, y_train, y_test = train_test_split(X_final, y, test_size=.2, random_state=42)"
   ]
  },
  {
   "cell_type": "code",
   "execution_count": null,
   "id": "941f83e9-c810-461b-986c-c2f0cdfde8cc",
   "metadata": {
    "id": "941f83e9-c810-461b-986c-c2f0cdfde8cc"
   },
   "outputs": [],
   "source": [
    "mm = MinMaxScaler()\n",
    "\n",
    "X_train_mm = mm.fit_transform(X_train)\n",
    "X_test_mm = mm.transform(X_test)"
   ]
  },
  {
   "cell_type": "code",
   "execution_count": null,
   "id": "7b1fe49c-df62-4489-bfd3-8558be1c39fb",
   "metadata": {
    "id": "7b1fe49c-df62-4489-bfd3-8558be1c39fb"
   },
   "outputs": [],
   "source": [
    "X_train.columns"
   ]
  },
  {
   "cell_type": "markdown",
   "id": "10103453-baaa-4a10-9061-575ede23a411",
   "metadata": {
    "id": "10103453-baaa-4a10-9061-575ede23a411",
    "tags": []
   },
   "source": [
    "## Modelos"
   ]
  },
  {
   "cell_type": "code",
   "execution_count": null,
   "id": "6f198822-ca47-4482-ae68-2f66d07934f0",
   "metadata": {
    "id": "6f198822-ca47-4482-ae68-2f66d07934f0"
   },
   "outputs": [],
   "source": [
    "ln = LinearRegression()\n",
    "rf = RandomForestRegressor()\n",
    "xgb = XGBRegressor()\n",
    "cat = CatBoostRegressor(verbose=0)\n",
    "\n",
    "models = [ln, rf, xgb, cat]"
   ]
  },
  {
   "cell_type": "code",
   "execution_count": null,
   "id": "204c3155-d6fb-40e7-bb7a-31c0a699cec0",
   "metadata": {
    "id": "204c3155-d6fb-40e7-bb7a-31c0a699cec0"
   },
   "outputs": [],
   "source": [
    "res = {}\n",
    "for m in models:\n",
    "    name = str(m).split('(')[0]\n",
    "    name = name.split('.')[0].replace('<','')\n",
    "\n",
    "    print(f'Entrenando {name} \\n')\n",
    "\n",
    "    m.fit(X_train_mm, y_train)\n",
    "\n",
    "    pred = m.predict(X_test_mm)\n",
    "\n",
    "    r2 = r2_score(y_test, pred)\n",
    "    rmse = mean_squared_error(y_test, pred, squared=False)\n",
    "    mae = mean_absolute_error(y_test, pred)\n",
    "\n",
    "    res[name]= {'r2':round(r2,2),\n",
    "                'rmse':round(rmse, 2),\n",
    "                'mae':round(mae,2)}\n",
    "\n",
    "res_df = pd.DataFrame(res)\n",
    "\n",
    "res_df"
   ]
  },
  {
   "cell_type": "code",
   "execution_count": null,
   "id": "6c36bd85-c780-48bf-bb9e-ca9f709872e5",
   "metadata": {
    "id": "6c36bd85-c780-48bf-bb9e-ca9f709872e5"
   },
   "outputs": [],
   "source": [
    "dict(zip(X_train.columns, rf.feature_importances_))"
   ]
  },
  {
   "cell_type": "code",
   "execution_count": null,
   "id": "0f594d37-6ed0-4ed8-892d-4e80ae79aecf",
   "metadata": {
    "id": "0f594d37-6ed0-4ed8-892d-4e80ae79aecf"
   },
   "outputs": [],
   "source": [
    "X.head()"
   ]
  },
  {
   "cell_type": "markdown",
   "id": "7c4911ba-5054-4ef7-927d-b954aba62cb8",
   "metadata": {},
   "source": [
    "### Filtramos el modelo y quitamos \"outliers\", casas con un precio superior a 1.9 millones"
   ]
  },
  {
   "cell_type": "code",
   "execution_count": null,
   "id": "c91943b6-5160-4157-9c1b-a30250e51a5e",
   "metadata": {
    "id": "c91943b6-5160-4157-9c1b-a30250e51a5e"
   },
   "outputs": [],
   "source": [
    "X_clean = X[X.price < 1.9e+6]\n",
    "X_clean.info()"
   ]
  },
  {
   "cell_type": "code",
   "execution_count": null,
   "id": "3d6a2768-28c0-48ca-a876-ce61b65408f1",
   "metadata": {
    "id": "3d6a2768-28c0-48ca-a876-ce61b65408f1"
   },
   "outputs": [],
   "source": [
    "X_final.info()"
   ]
  },
  {
   "cell_type": "code",
   "execution_count": null,
   "id": "a1b8ac34-8b80-48e7-b67e-8487e38694b3",
   "metadata": {
    "id": "a1b8ac34-8b80-48e7-b67e-8487e38694b3"
   },
   "outputs": [],
   "source": [
    "X_clean.loc[X_clean.bedrooms == 33, 'bedrooms'] = 3"
   ]
  },
  {
   "cell_type": "code",
   "execution_count": null,
   "id": "d48c871a-b557-4683-ab7b-d630b5fad2b4",
   "metadata": {
    "id": "d48c871a-b557-4683-ab7b-d630b5fad2b4"
   },
   "outputs": [],
   "source": [
    "X_final = X_clean.drop(['sqft_above','sqft_basement', 'geometry', 'lat', 'long', 'price'], axis=1)\n",
    "y = X_clean.price"
   ]
  },
  {
   "cell_type": "code",
   "execution_count": null,
   "id": "66c1486c-b685-416a-b1a5-879d86652d37",
   "metadata": {
    "id": "66c1486c-b685-416a-b1a5-879d86652d37"
   },
   "outputs": [],
   "source": [
    "X_final.info()"
   ]
  },
  {
   "cell_type": "code",
   "execution_count": null,
   "id": "bfff5407-a46b-4e69-a51f-be7d23c0c337",
   "metadata": {
    "id": "bfff5407-a46b-4e69-a51f-be7d23c0c337"
   },
   "outputs": [],
   "source": [
    "X_train, X_test, y_train, y_test = train_test_split(X_final, y, test_size=.2, random_state=42)\n",
    "mm = MinMaxScaler()\n",
    "\n",
    "X_train_mm = mm.fit_transform(X_train)\n",
    "X_test_mm = mm.transform(X_test)"
   ]
  },
  {
   "cell_type": "code",
   "execution_count": null,
   "id": "4c2917d8-1980-4439-8471-75d8b25518c1",
   "metadata": {
    "id": "4c2917d8-1980-4439-8471-75d8b25518c1"
   },
   "outputs": [],
   "source": [
    "ln = LinearRegression()\n",
    "rf = RandomForestRegressor()\n",
    "xgb = XGBRegressor()\n",
    "cat = CatBoostRegressor(verbose=0)\n",
    "\n",
    "models = [ln, rf, xgb, cat]"
   ]
  },
  {
   "cell_type": "code",
   "execution_count": null,
   "id": "2d462552-513f-41d7-84b8-f0da5b10a98b",
   "metadata": {
    "id": "2d462552-513f-41d7-84b8-f0da5b10a98b"
   },
   "outputs": [],
   "source": [
    "res = {}\n",
    "for m in models:\n",
    "    name = str(m).split('(')[0]\n",
    "    name = name.split('.')[0].replace('<','')\n",
    "\n",
    "    print(f'Entrenando {name} \\n')\n",
    "\n",
    "    m.fit(X_train, y_train)\n",
    "\n",
    "    pred = m.predict(X_test)\n",
    "\n",
    "    r2 = r2_score(y_test, pred)\n",
    "    rmse = mean_squared_error(y_test, pred, squared=False)\n",
    "    mae = mean_absolute_error(y_test, pred)\n",
    "\n",
    "    res[name]= {'r2':round(r2,2),\n",
    "                'rmse':round(rmse, 2),\n",
    "                'mae':round(mae,2)}\n",
    "\n",
    "res_df = pd.DataFrame(res)\n",
    "\n",
    "res_df"
   ]
  },
  {
   "cell_type": "code",
   "execution_count": null,
   "id": "4c5c0721-6c3e-4e06-b5e4-9556daac77cf",
   "metadata": {
    "id": "4c5c0721-6c3e-4e06-b5e4-9556daac77cf"
   },
   "outputs": [],
   "source": [
    "prueba = pd.DataFrame()\n",
    "prueba['real_price']= y_test\n",
    "prueba['pred'] = pred\n",
    "prueba['dif'] = abs(prueba.pred-prueba.real_price)\n",
    "prueba['rate_dif'] = 100 - ((prueba.pred/prueba.real_price)*100)\n",
    "prueba['rate_dif_abs'] = abs(100 - ((prueba.pred/prueba.real_price)*100))\n",
    "plt.figure(figsize=(16,8))\n",
    "plt.plot(prueba.real_price.values, c='r')\n",
    "plt.plot(prueba.pred.values, c='blue')\n",
    "plt.plot(prueba.dif.values, c='green')\n",
    "plt.title('Prediction vs Real Price')\n",
    "plt.legend(labels=prueba.columns);\n"
   ]
  },
  {
   "cell_type": "code",
   "execution_count": null,
   "id": "650fb9f8-1900-408f-8420-ebc361a5d2cd",
   "metadata": {},
   "outputs": [],
   "source": [
    "plt.figure(figsize=(16,8))\n",
    "sns.histplot(data= prueba, x='rate_dif');"
   ]
  },
  {
   "cell_type": "code",
   "execution_count": null,
   "id": "f4f6f1bd-3746-40c6-ad35-6f3f782c4f09",
   "metadata": {},
   "outputs": [],
   "source": [
    "plt.figure(figsize=(16,8))\n",
    "sns.histplot(data= prueba, x='rate_dif_abs');"
   ]
  },
  {
   "cell_type": "code",
   "execution_count": null,
   "id": "dadea62f-d0ab-44e2-9161-bdf21e0acf15",
   "metadata": {},
   "outputs": [],
   "source": [
    "plt.figure(figsize=(16,8))\n",
    "sns.lineplot(data= prueba, x = prueba.index, y='rate_dif');"
   ]
  },
  {
   "cell_type": "code",
   "execution_count": null,
   "id": "71c85679-5198-45cc-8b21-3406b94b8004",
   "metadata": {},
   "outputs": [],
   "source": [
    "plt.figure(figsize=(16,8))\n",
    "sns.lineplot(data= prueba, x = prueba.index, y='rate_dif_abs');"
   ]
  },
  {
   "cell_type": "code",
   "execution_count": null,
   "id": "db04efe2-b10b-411c-a134-f1433fddf9cd",
   "metadata": {},
   "outputs": [],
   "source": []
  },
  {
   "cell_type": "code",
   "execution_count": null,
   "id": "1cb4087b-2ff7-4a62-ba8c-486bef22c1dc",
   "metadata": {},
   "outputs": [],
   "source": [
    "prueba[prueba.rate_dif_abs > 15].info()"
   ]
  },
  {
   "cell_type": "code",
   "execution_count": null,
   "id": "bf262b4b-ba9e-47c3-af14-00150a22a884",
   "metadata": {
    "id": "bf262b4b-ba9e-47c3-af14-00150a22a884"
   },
   "outputs": [],
   "source": [
    "y_test[:20].values"
   ]
  },
  {
   "cell_type": "code",
   "execution_count": null,
   "id": "bd3c60d8-123a-4de5-9f10-cb5a90c2f45c",
   "metadata": {
    "id": "bd3c60d8-123a-4de5-9f10-cb5a90c2f45c"
   },
   "outputs": [],
   "source": [
    "len(pred), len(y_test)"
   ]
  },
  {
   "cell_type": "code",
   "execution_count": null,
   "id": "cf6666d1-a860-4240-8f85-ab2194fe1b47",
   "metadata": {
    "id": "cf6666d1-a860-4240-8f85-ab2194fe1b47"
   },
   "outputs": [],
   "source": [
    "ft = pd.DataFrame(dict(zip(rf.feature_names_in_,rf.feature_importances_ )), index=[0])\n",
    "ft.T[0] = round(ft.T[0],3)\n",
    "ft.T"
   ]
  },
  {
   "cell_type": "code",
   "execution_count": null,
   "id": "98f60876-9be7-4083-9a38-044a268051aa",
   "metadata": {
    "id": "98f60876-9be7-4083-9a38-044a268051aa"
   },
   "outputs": [],
   "source": [
    "X2 = X_clean[['grade','zipcode','sqrt_tot', 'dif_living', 'dif_lot', 'years_old']]\n",
    "y = X_clean.price"
   ]
  },
  {
   "cell_type": "code",
   "execution_count": null,
   "id": "a590a5ca-10dd-49bc-999e-2063e2d0580d",
   "metadata": {
    "id": "a590a5ca-10dd-49bc-999e-2063e2d0580d"
   },
   "outputs": [],
   "source": [
    "X_train, X_test, y_train, y_test = train_test_split(X2, y, test_size=.2, random_state=42)\n",
    "mm = MinMaxScaler()\n",
    "X_train_mm = mm.fit_transform(X_train)\n",
    "X_test_mm = mm.transform(X_test)\n",
    "res = {}\n",
    "for m in models:\n",
    "    name = str(m).split('(')[0]\n",
    "    name = name.split('.')[0].replace('<','')\n",
    "\n",
    "    print(f'Entrenando {name} \\n')\n",
    "\n",
    "    m.fit(X_train, y_train)\n",
    "\n",
    "    pred = m.predict(X_test)\n",
    "\n",
    "    r2 = r2_score(y_test, pred)\n",
    "    rmse = mean_squared_error(y_test, pred, squared=False)\n",
    "    mae = mean_absolute_error(y_test, pred)\n",
    "\n",
    "    res[name]= {'r2':round(r2,2),\n",
    "                'rmse':round(rmse, 2),\n",
    "                'mae':round(mae,2)}\n",
    "\n",
    "res_df = pd.DataFrame(res)\n",
    "\n",
    "res_df"
   ]
  },
  {
   "cell_type": "code",
   "execution_count": null,
   "id": "31551c8a-029d-4734-a106-0c3fa38a2307",
   "metadata": {
    "id": "31551c8a-029d-4734-a106-0c3fa38a2307"
   },
   "outputs": [],
   "source": []
  }
 ],
 "metadata": {
  "colab": {
   "provenance": []
  },
  "kernelspec": {
   "display_name": "Python 3 (ipykernel)",
   "language": "python",
   "name": "python3"
  },
  "language_info": {
   "codemirror_mode": {
    "name": "ipython",
    "version": 3
   },
   "file_extension": ".py",
   "mimetype": "text/x-python",
   "name": "python",
   "nbconvert_exporter": "python",
   "pygments_lexer": "ipython3",
   "version": "3.9.7"
  }
 },
 "nbformat": 4,
 "nbformat_minor": 5
}
