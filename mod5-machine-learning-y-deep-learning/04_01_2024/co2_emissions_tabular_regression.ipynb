{
 "cells": [
  {
   "cell_type": "markdown",
   "id": "79a9055b-f553-4171-ab8e-a4f4d57f9fc0",
   "metadata": {},
   "source": [
    "## CO2 Emissions - Tabular Dataset Regression\n",
    "\n",
    "El conjunto de datos proporciona clasificaciones de consumo de combustible específicas del modelo y estimaciones de emisiones de dióxido de carbono para vehículos nuevos de servicio liviano a la venta al público en Canadá.\n",
    "\n",
    "- **Objetivo**: Definir un modelo de regresión para predecir las emisiones de CO2 para coches según sus características.\n",
    "\n",
    "- **Extracción de Datos/SQL**: Usando los archivos **.sql** construir una base de datos, ejecutando primero el archivo de esquema y segundo el archivo de datos.\n",
    "    - Definir una función para extraer los datos de las tablas de SQL.\n",
    "    - Retornar la información real de los datos, no su número de identificador de las tablas de SQL.\n",
    "\n",
    "- **Exploratory Data Analysis**: genera gráficas enfocadas en la columnas objetivo (**CO2 Emissions**) y el resto de columnas.\n",
    "    - Gráficos de dispersión.\n",
    "    - Histogramas.\n",
    "    - Boxplots.\n",
    "    \n",
    "- **Manipulación de Datos**:\n",
    "    - Identifica outliers y elimina duplicados.\n",
    "    - Aplica **One-Hot Encoding** a las columnas correspondientes.\n",
    "    - Aplica funciones **logaritmicas** a las columnas correspondientes.\n",
    "\n",
    "- **Clustering (DBSCAN)**:\n",
    "    - Usando el algoritmo de **DBSCAN** divide el dataset en 2 nubes de puntos.    \n",
    "\n",
    "- **Modelo de Regresión**:\n",
    "    - Define modelos de regresión para cada nube de puntos. Prueba con diferentes modelos.\n",
    "    - Calcula las métricas para cada modelo y compara para encontrar el mejor modelo.\n",
    "    \n",
    "- **Resultados de los Modelos**:\n",
    "    - Llena la tabla **co2_prediction** con los resultados de los modelos.\n",
    "    - La tabla tiene las columnas **id**, **prediction** y **cluster**.\n",
    "    - Define una función para hacer este proceso."
   ]
  },
  {
   "cell_type": "code",
   "execution_count": 1,
   "id": "7d16a43a-6b62-45a8-bffe-15234469f6cc",
   "metadata": {
    "tags": []
   },
   "outputs": [],
   "source": [
    "import numpy as np\n",
    "import pandas as pd\n",
    "import matplotlib.pyplot as plt\n",
    "import seaborn as sns"
   ]
  },
  {
   "cell_type": "code",
   "execution_count": null,
   "id": "6ae90fd9-8bae-4e38-9c9e-3304bbf3c912",
   "metadata": {},
   "outputs": [],
   "source": []
  },
  {
   "cell_type": "code",
   "execution_count": null,
   "id": "56c43dd4-0a23-4864-b597-296947bd13ac",
   "metadata": {},
   "outputs": [],
   "source": []
  },
  {
   "cell_type": "code",
   "execution_count": null,
   "id": "b215be4d-0908-4e39-8231-c5d901af5aa3",
   "metadata": {},
   "outputs": [],
   "source": []
  },
  {
   "cell_type": "code",
   "execution_count": null,
   "id": "31a2ed5c-2b66-4e05-923a-53949baeae0c",
   "metadata": {},
   "outputs": [],
   "source": []
  },
  {
   "cell_type": "code",
   "execution_count": null,
   "id": "3fdaeb30-9f1b-4ebc-9f1c-03f4b538ec3e",
   "metadata": {},
   "outputs": [],
   "source": []
  },
  {
   "cell_type": "code",
   "execution_count": null,
   "id": "1c717cc9-2df2-4284-b2e4-0f76be3d4458",
   "metadata": {},
   "outputs": [],
   "source": []
  },
  {
   "cell_type": "code",
   "execution_count": null,
   "id": "12c2d213-2e7a-48cc-b34b-7372d1d5ddb0",
   "metadata": {},
   "outputs": [],
   "source": []
  }
 ],
 "metadata": {
  "kernelspec": {
   "display_name": "Python 3 (ipykernel)",
   "language": "python",
   "name": "python3"
  },
  "language_info": {
   "codemirror_mode": {
    "name": "ipython",
    "version": 3
   },
   "file_extension": ".py",
   "mimetype": "text/x-python",
   "name": "python",
   "nbconvert_exporter": "python",
   "pygments_lexer": "ipython3",
   "version": "3.11.5"
  }
 },
 "nbformat": 4,
 "nbformat_minor": 5
}
