{
 "cells": [
  {
   "cell_type": "code",
   "execution_count": null,
   "id": "6104cce1",
   "metadata": {},
   "outputs": [],
   "source": [
    "# import findspark\n",
    "# findspark.init()\n",
    "\n",
    "import pyspark\n",
    "from pyspark.sql import SparkSession\n",
    "\n",
    "spark = SparkSession.builder.appName(\"pyspark_ejercicio\").getOrCreate()\n",
    "spark"
   ]
  },
  {
   "cell_type": "code",
   "execution_count": null,
   "id": "607c36c9",
   "metadata": {},
   "outputs": [],
   "source": [
    "from pyspark.sql.functions import *\n",
    "from pyspark.sql.types import *"
   ]
  },
  {
   "cell_type": "markdown",
   "id": "da255596",
   "metadata": {},
   "source": [
    "### Ejercicio 01:\n",
    "- Leer el csv: `pga_tour_historical.csv` en la carpeta de data."
   ]
  },
  {
   "cell_type": "markdown",
   "id": "ecdc8308",
   "metadata": {},
   "source": [
    "### Ejercicio 02:\n",
    "- Imprimir Schema."
   ]
  },
  {
   "cell_type": "code",
   "execution_count": null,
   "id": "472d7747",
   "metadata": {},
   "outputs": [],
   "source": []
  },
  {
   "cell_type": "markdown",
   "id": "b1ad8b6a",
   "metadata": {},
   "source": [
    "### Ejercicio 03:\n",
    "- Modificar los dtypes de las columnas."
   ]
  },
  {
   "cell_type": "code",
   "execution_count": null,
   "id": "21336ef9",
   "metadata": {},
   "outputs": [],
   "source": []
  },
  {
   "cell_type": "markdown",
   "id": "de7f9f4d",
   "metadata": {},
   "source": [
    "### Ejercicio 04:\n",
    "- Genera las estadísticas de la columna \"Value\"."
   ]
  },
  {
   "cell_type": "code",
   "execution_count": null,
   "id": "87154aa7",
   "metadata": {},
   "outputs": [],
   "source": []
  },
  {
   "cell_type": "markdown",
   "id": "a59b8b95",
   "metadata": {},
   "source": [
    "### Ejercicio 05:\n",
    "- Genera las estadisticas de las columnas \"Value\" y \"Season\"."
   ]
  },
  {
   "cell_type": "code",
   "execution_count": null,
   "id": "67f7fc62",
   "metadata": {},
   "outputs": [],
   "source": []
  },
  {
   "cell_type": "markdown",
   "id": "01b8e4eb",
   "metadata": {},
   "source": [
    "### Ejercicio 06:\n",
    "- Lee el csv de fifa."
   ]
  },
  {
   "cell_type": "code",
   "execution_count": null,
   "id": "cdb669c0",
   "metadata": {},
   "outputs": [],
   "source": []
  },
  {
   "cell_type": "markdown",
   "id": "4ebfa1b3",
   "metadata": {},
   "source": [
    "### Ejercicio 07:\n",
    "- Imprime el Schema de fifa."
   ]
  },
  {
   "cell_type": "code",
   "execution_count": null,
   "id": "bc0223ce",
   "metadata": {
    "scrolled": true
   },
   "outputs": [],
   "source": []
  },
  {
   "cell_type": "markdown",
   "id": "76a07c8a",
   "metadata": {},
   "source": [
    "### Ejercicio 08:\n",
    "- Selecciona las columnas \"Name\" y \"Position\" y ordenalas por \"Name\"."
   ]
  },
  {
   "cell_type": "code",
   "execution_count": null,
   "id": "e6891976",
   "metadata": {},
   "outputs": [],
   "source": []
  },
  {
   "cell_type": "markdown",
   "id": "fcc1b51e",
   "metadata": {},
   "source": [
    "### Ejercicio 09:\n",
    "- Selecciona a los jugadores cuyo club comience por \"FC\"."
   ]
  },
  {
   "cell_type": "code",
   "execution_count": null,
   "id": "3ab48e3d",
   "metadata": {},
   "outputs": [],
   "source": []
  },
  {
   "cell_type": "markdown",
   "id": "b36f5f91",
   "metadata": {},
   "source": [
    "### Ejercicio 10\n",
    "- Cual es el jugador mas joven y cual es el mas viejo."
   ]
  },
  {
   "cell_type": "code",
   "execution_count": null,
   "id": "ff13960b",
   "metadata": {},
   "outputs": [],
   "source": []
  },
  {
   "cell_type": "code",
   "execution_count": null,
   "id": "a93fca9b",
   "metadata": {},
   "outputs": [],
   "source": []
  },
  {
   "cell_type": "markdown",
   "id": "dfa1407f",
   "metadata": {},
   "source": [
    "### Ejercicio 11:\n",
    "- Selecciona a los siguiente jugadores:\n",
    "\n",
    " - L. Messi\n",
    " - Cristiano Ronaldo"
   ]
  },
  {
   "cell_type": "code",
   "execution_count": null,
   "id": "7b8eb904",
   "metadata": {},
   "outputs": [],
   "source": []
  },
  {
   "cell_type": "markdown",
   "id": "e3623f3c",
   "metadata": {},
   "source": [
    "### Ejercicio 12:\n",
    "- En que moneda le pagan a los jugadores? \"Release Clause\"."
   ]
  },
  {
   "cell_type": "code",
   "execution_count": null,
   "id": "9cb47cb0",
   "metadata": {},
   "outputs": [],
   "source": []
  },
  {
   "cell_type": "markdown",
   "id": "12bc2212",
   "metadata": {},
   "source": [
    "### Ejercicio 13:\n",
    "- Selecciona a los jugadores:\n",
    "    - mayores de 20 años\n",
    "    - overall mayor a 40\n",
    "    - nacionalidad española o inglesa"
   ]
  },
  {
   "cell_type": "code",
   "execution_count": null,
   "id": "b519c562",
   "metadata": {},
   "outputs": [],
   "source": []
  },
  {
   "cell_type": "markdown",
   "id": "0959aae4",
   "metadata": {},
   "source": [
    "### Ejercicio 14:\n",
    "- Leer el csv: `Rep_vs_Dem_tweets.csv`."
   ]
  },
  {
   "cell_type": "code",
   "execution_count": null,
   "id": "764ffcca",
   "metadata": {},
   "outputs": [],
   "source": []
  },
  {
   "cell_type": "markdown",
   "id": "1b9ebf9c",
   "metadata": {},
   "source": [
    "### Ejercicio 15:\n",
    "- Cambiar los valores de la columna \"Party\" que no sean \"Republican\" o \"Democrat\" a \"Other\"."
   ]
  },
  {
   "cell_type": "code",
   "execution_count": null,
   "id": "c4b86078",
   "metadata": {},
   "outputs": [],
   "source": []
  },
  {
   "cell_type": "code",
   "execution_count": null,
   "id": "bcccd02d",
   "metadata": {},
   "outputs": [],
   "source": []
  },
  {
   "cell_type": "markdown",
   "id": "a80e4446",
   "metadata": {},
   "source": [
    "### Ejercicio 16:\n",
    "- Renombra la columna \"Party\" a \"Dem_Rep\".\n",
    "    - Usa .withColumnRenamed()"
   ]
  },
  {
   "cell_type": "code",
   "execution_count": null,
   "id": "9cd51c26",
   "metadata": {},
   "outputs": [],
   "source": []
  },
  {
   "cell_type": "markdown",
   "id": "7b60a0d5",
   "metadata": {},
   "source": [
    "### Ejercicio 17:\n",
    "- Concatena la columna \"Handle\" con \"Dem_Rep\"."
   ]
  },
  {
   "cell_type": "code",
   "execution_count": null,
   "id": "2b882afa",
   "metadata": {},
   "outputs": [],
   "source": []
  },
  {
   "cell_type": "markdown",
   "id": "c861ea93",
   "metadata": {},
   "source": [
    "### Ejercicio 18:\n",
    "- Cuales tweets tienen la palabra \"vote\"."
   ]
  },
  {
   "cell_type": "code",
   "execution_count": null,
   "id": "8183f042",
   "metadata": {},
   "outputs": [],
   "source": []
  },
  {
   "cell_type": "code",
   "execution_count": null,
   "id": "40f6731a",
   "metadata": {},
   "outputs": [],
   "source": []
  },
  {
   "cell_type": "code",
   "execution_count": null,
   "id": "e84ecfce",
   "metadata": {},
   "outputs": [],
   "source": []
  },
  {
   "cell_type": "markdown",
   "id": "9a5a8837",
   "metadata": {},
   "source": [
    "### Ejercicio 19:\n",
    "- Cargar el csv: `nyc_air_bnb.csv`. "
   ]
  },
  {
   "cell_type": "code",
   "execution_count": null,
   "id": "719204dc",
   "metadata": {},
   "outputs": [],
   "source": []
  },
  {
   "cell_type": "markdown",
   "id": "2214365b",
   "metadata": {},
   "source": [
    "### Ejercicio 20:\n",
    "- Imprimir Schema."
   ]
  },
  {
   "cell_type": "code",
   "execution_count": null,
   "id": "e0f9a5a6",
   "metadata": {},
   "outputs": [],
   "source": []
  },
  {
   "cell_type": "markdown",
   "id": "41d3bca3",
   "metadata": {},
   "source": [
    "### Ejercicio 21:\n",
    "- Cambiar el formato de las columnas que se asignaron mal."
   ]
  },
  {
   "cell_type": "code",
   "execution_count": null,
   "id": "48e2b120",
   "metadata": {},
   "outputs": [],
   "source": []
  },
  {
   "cell_type": "markdown",
   "id": "e5478d4e",
   "metadata": {},
   "source": [
    "### Ejercicio 22:\n",
    "- Cuantas filas tiene el df?"
   ]
  },
  {
   "cell_type": "code",
   "execution_count": null,
   "id": "3e4d9e04",
   "metadata": {},
   "outputs": [],
   "source": []
  },
  {
   "cell_type": "markdown",
   "id": "485fe507",
   "metadata": {},
   "source": [
    "### Ejercicio 23:\n",
    "- Cuantos reviews hay por host?"
   ]
  },
  {
   "cell_type": "code",
   "execution_count": null,
   "id": "d0610750",
   "metadata": {
    "scrolled": true
   },
   "outputs": [],
   "source": []
  },
  {
   "cell_type": "markdown",
   "id": "0cd43ce4",
   "metadata": {},
   "source": [
    "### Ejercicio 24:\n",
    "- Muestra los maximos y minimos de las columnas numericas."
   ]
  },
  {
   "cell_type": "code",
   "execution_count": null,
   "id": "1260d7b3",
   "metadata": {},
   "outputs": [],
   "source": []
  },
  {
   "cell_type": "markdown",
   "id": "60d1493d",
   "metadata": {},
   "source": [
    "### Ejercicio 25:\n",
    "- Cuales hosts tienen el mayor numero de reviews?"
   ]
  },
  {
   "cell_type": "code",
   "execution_count": null,
   "id": "c0c1e320",
   "metadata": {},
   "outputs": [],
   "source": []
  },
  {
   "cell_type": "markdown",
   "id": "68cc0975",
   "metadata": {},
   "source": [
    "### Ejercicio 26:\n",
    "- Cual es la media del minimo de noches?"
   ]
  },
  {
   "cell_type": "code",
   "execution_count": null,
   "id": "735df052",
   "metadata": {},
   "outputs": [],
   "source": []
  },
  {
   "cell_type": "markdown",
   "id": "aeede2a6",
   "metadata": {},
   "source": [
    "### Ejercicio 27:\n",
    "- En promedio, cual es el barrio mas caro?"
   ]
  },
  {
   "cell_type": "code",
   "execution_count": null,
   "id": "73799fb8",
   "metadata": {},
   "outputs": [],
   "source": []
  },
  {
   "cell_type": "code",
   "execution_count": null,
   "id": "dff5725d",
   "metadata": {},
   "outputs": [],
   "source": []
  }
 ],
 "metadata": {
  "kernelspec": {
   "display_name": "hackaboss",
   "language": "python",
   "name": "hackaboss"
  },
  "language_info": {
   "codemirror_mode": {
    "name": "ipython",
    "version": 3
   },
   "file_extension": ".py",
   "mimetype": "text/x-python",
   "name": "python",
   "nbconvert_exporter": "python",
   "pygments_lexer": "ipython3",
   "version": "3.9.12"
  }
 },
 "nbformat": 4,
 "nbformat_minor": 5
}
