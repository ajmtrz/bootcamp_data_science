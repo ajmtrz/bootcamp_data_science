{
 "cells": [
  {
   "cell_type": "code",
   "execution_count": 1,
   "metadata": {
    "_cell_guid": "b1076dfc-b9ad-4769-8c92-a6c4dae69d19",
    "_uuid": "8f2839f25d086af736a60e9eeb907d3b93b6e0e5",
    "execution": {
     "iopub.execute_input": "2021-11-29T14:10:51.852933Z",
     "iopub.status.busy": "2021-11-29T14:10:51.852332Z",
     "iopub.status.idle": "2021-11-29T14:11:38.301934Z",
     "shell.execute_reply": "2021-11-29T14:11:38.301150Z",
     "shell.execute_reply.started": "2021-11-29T14:10:51.852822Z"
    }
   },
   "outputs": [],
   "source": [
    "!pip install pyspark"
   ]
  },
  {
   "cell_type": "markdown",
   "metadata": {},
   "source": [
    "## LogisticRegression"
   ]
  },
  {
   "cell_type": "code",
   "execution_count": 2,
   "metadata": {
    "execution": {
     "iopub.execute_input": "2021-11-29T14:11:38.305208Z",
     "iopub.status.busy": "2021-11-29T14:11:38.304853Z",
     "iopub.status.idle": "2021-11-29T14:11:38.348662Z",
     "shell.execute_reply": "2021-11-29T14:11:38.347798Z",
     "shell.execute_reply.started": "2021-11-29T14:11:38.305161Z"
    }
   },
   "outputs": [],
   "source": [
    "from pyspark.sql import SparkSession"
   ]
  },
  {
   "cell_type": "code",
   "execution_count": 3,
   "metadata": {
    "execution": {
     "iopub.execute_input": "2021-11-29T14:11:38.350037Z",
     "iopub.status.busy": "2021-11-29T14:11:38.349845Z",
     "iopub.status.idle": "2021-11-29T14:11:44.070495Z",
     "shell.execute_reply": "2021-11-29T14:11:44.069493Z",
     "shell.execute_reply.started": "2021-11-29T14:11:38.350012Z"
    }
   },
   "outputs": [],
   "source": [
    "spark = SparkSession.builder.appName(\"LogisticRegression\").getOrCreate()"
   ]
  },
  {
   "cell_type": "code",
   "execution_count": 4,
   "metadata": {
    "execution": {
     "iopub.execute_input": "2021-11-29T14:11:44.074858Z",
     "iopub.status.busy": "2021-11-29T14:11:44.074532Z",
     "iopub.status.idle": "2021-11-29T14:11:49.509800Z",
     "shell.execute_reply": "2021-11-29T14:11:49.508936Z",
     "shell.execute_reply.started": "2021-11-29T14:11:44.074820Z"
    }
   },
   "outputs": [],
   "source": [
    "data = spark.read.csv(path = \"/kaggle/input/pyspark-ml-logistic-regression/titanic.csv\",\n",
    "                      inferSchema = True, header = True)\n",
    "\n",
    "data.printSchema()"
   ]
  },
  {
   "cell_type": "code",
   "execution_count": 5,
   "metadata": {
    "execution": {
     "iopub.execute_input": "2021-11-29T14:11:49.516008Z",
     "iopub.status.busy": "2021-11-29T14:11:49.515709Z",
     "iopub.status.idle": "2021-11-29T14:11:49.668022Z",
     "shell.execute_reply": "2021-11-29T14:11:49.667120Z",
     "shell.execute_reply.started": "2021-11-29T14:11:49.515968Z"
    }
   },
   "outputs": [],
   "source": [
    "data = data.select([\"Survived\", \"Pclass\", \"Sex\", \"Age\", \"SibSp\", \"Parch\", \"Fare\", \"Embarked\"])\n",
    "data = data.na.drop()"
   ]
  },
  {
   "cell_type": "code",
   "execution_count": 6,
   "metadata": {
    "execution": {
     "iopub.execute_input": "2021-11-29T14:11:49.669377Z",
     "iopub.status.busy": "2021-11-29T14:11:49.669113Z",
     "iopub.status.idle": "2021-11-29T14:11:50.176696Z",
     "shell.execute_reply": "2021-11-29T14:11:50.175550Z",
     "shell.execute_reply.started": "2021-11-29T14:11:49.669341Z"
    }
   },
   "outputs": [],
   "source": [
    "data.show()"
   ]
  },
  {
   "cell_type": "code",
   "execution_count": 7,
   "metadata": {
    "execution": {
     "iopub.execute_input": "2021-11-29T14:11:50.178277Z",
     "iopub.status.busy": "2021-11-29T14:11:50.177959Z",
     "iopub.status.idle": "2021-11-29T14:11:50.314543Z",
     "shell.execute_reply": "2021-11-29T14:11:50.313755Z",
     "shell.execute_reply.started": "2021-11-29T14:11:50.178233Z"
    }
   },
   "outputs": [],
   "source": [
    "from pyspark.ml.feature import VectorAssembler\n",
    "from pyspark.ml.feature import VectorIndexer\n",
    "from pyspark.ml.feature import OneHotEncoder\n",
    "from pyspark.ml.feature import StringIndexer"
   ]
  },
  {
   "cell_type": "code",
   "execution_count": 8,
   "metadata": {
    "execution": {
     "iopub.execute_input": "2021-11-29T14:11:50.316616Z",
     "iopub.status.busy": "2021-11-29T14:11:50.316046Z",
     "iopub.status.idle": "2021-11-29T14:11:50.353792Z",
     "shell.execute_reply": "2021-11-29T14:11:50.353053Z",
     "shell.execute_reply.started": "2021-11-29T14:11:50.316566Z"
    }
   },
   "outputs": [],
   "source": [
    "gender_indexer = StringIndexer(inputCol = \"Sex\", outputCol = \"SexIndex\")\n",
    "gender_encoder = OneHotEncoder(inputCol = \"SexIndex\", outputCol = \"SexVec\")"
   ]
  },
  {
   "cell_type": "code",
   "execution_count": 9,
   "metadata": {
    "execution": {
     "iopub.execute_input": "2021-11-29T14:11:50.354843Z",
     "iopub.status.busy": "2021-11-29T14:11:50.354633Z",
     "iopub.status.idle": "2021-11-29T14:11:52.402282Z",
     "shell.execute_reply": "2021-11-29T14:11:52.401509Z",
     "shell.execute_reply.started": "2021-11-29T14:11:50.354817Z"
    }
   },
   "outputs": [],
   "source": [
    "data = gender_indexer.fit(data).transform(data)\n",
    "data = gender_encoder.fit(data).transform(data)\n",
    "\n",
    "data.show(5)"
   ]
  },
  {
   "cell_type": "code",
   "execution_count": 10,
   "metadata": {
    "execution": {
     "iopub.execute_input": "2021-11-29T14:11:52.403697Z",
     "iopub.status.busy": "2021-11-29T14:11:52.403388Z",
     "iopub.status.idle": "2021-11-29T14:11:52.420003Z",
     "shell.execute_reply": "2021-11-29T14:11:52.418883Z",
     "shell.execute_reply.started": "2021-11-29T14:11:52.403659Z"
    }
   },
   "outputs": [],
   "source": [
    "embark_indexer = StringIndexer(inputCol = \"Embarked\", outputCol = \"EmbarkIndex\")\n",
    "embark_encoder = OneHotEncoder(inputCol = \"EmbarkIndex\", outputCol = \"EmbarkVec\")"
   ]
  },
  {
   "cell_type": "code",
   "execution_count": 11,
   "metadata": {
    "execution": {
     "iopub.execute_input": "2021-11-29T14:11:52.425637Z",
     "iopub.status.busy": "2021-11-29T14:11:52.421496Z",
     "iopub.status.idle": "2021-11-29T14:11:53.268651Z",
     "shell.execute_reply": "2021-11-29T14:11:53.267916Z",
     "shell.execute_reply.started": "2021-11-29T14:11:52.425581Z"
    }
   },
   "outputs": [],
   "source": [
    "data = embark_indexer.fit(data).transform(data)\n",
    "data = embark_encoder.fit(data).transform(data)\n",
    "\n",
    "data.show(5)"
   ]
  },
  {
   "cell_type": "code",
   "execution_count": 12,
   "metadata": {
    "execution": {
     "iopub.execute_input": "2021-11-29T14:11:53.269778Z",
     "iopub.status.busy": "2021-11-29T14:11:53.269581Z",
     "iopub.status.idle": "2021-11-29T14:11:53.287327Z",
     "shell.execute_reply": "2021-11-29T14:11:53.286368Z",
     "shell.execute_reply.started": "2021-11-29T14:11:53.269751Z"
    }
   },
   "outputs": [],
   "source": [
    "assembler = VectorAssembler(inputCols = [\"Pclass\", \"SexVec\", \"Age\", \"SibSp\", \"Parch\", \"Fare\", \"EmbarkVec\"],\n",
    "                            outputCol = \"features\")"
   ]
  },
  {
   "cell_type": "code",
   "execution_count": 13,
   "metadata": {
    "execution": {
     "iopub.execute_input": "2021-11-29T14:11:53.289819Z",
     "iopub.status.busy": "2021-11-29T14:11:53.288804Z",
     "iopub.status.idle": "2021-11-29T14:11:53.992090Z",
     "shell.execute_reply": "2021-11-29T14:11:53.991481Z",
     "shell.execute_reply.started": "2021-11-29T14:11:53.289762Z"
    }
   },
   "outputs": [],
   "source": [
    "output = assembler.transform(data)\n",
    "output.show(5)"
   ]
  },
  {
   "cell_type": "code",
   "execution_count": 14,
   "metadata": {
    "execution": {
     "iopub.execute_input": "2021-11-29T14:11:53.997548Z",
     "iopub.status.busy": "2021-11-29T14:11:53.997220Z",
     "iopub.status.idle": "2021-11-29T14:11:54.028603Z",
     "shell.execute_reply": "2021-11-29T14:11:54.027854Z",
     "shell.execute_reply.started": "2021-11-29T14:11:53.997513Z"
    }
   },
   "outputs": [],
   "source": [
    "train, test = output.randomSplit(weights = [0.7, 0.3], seed = 42)"
   ]
  },
  {
   "cell_type": "code",
   "execution_count": 15,
   "metadata": {
    "execution": {
     "iopub.execute_input": "2021-11-29T14:11:54.029693Z",
     "iopub.status.busy": "2021-11-29T14:11:54.029409Z",
     "iopub.status.idle": "2021-11-29T14:11:54.087471Z",
     "shell.execute_reply": "2021-11-29T14:11:54.086691Z",
     "shell.execute_reply.started": "2021-11-29T14:11:54.029663Z"
    }
   },
   "outputs": [],
   "source": [
    "from pyspark.ml.classification import LogisticRegression\n",
    "\n",
    "log_reg = LogisticRegression(featuresCol = \"features\",\n",
    "                             labelCol = \"Survived\",\n",
    "                             predictionCol = \"prediction\")"
   ]
  },
  {
   "cell_type": "code",
   "execution_count": 16,
   "metadata": {
    "execution": {
     "iopub.execute_input": "2021-11-29T14:11:54.088558Z",
     "iopub.status.busy": "2021-11-29T14:11:54.088324Z",
     "iopub.status.idle": "2021-11-29T14:11:57.635705Z",
     "shell.execute_reply": "2021-11-29T14:11:57.634544Z",
     "shell.execute_reply.started": "2021-11-29T14:11:54.088529Z"
    }
   },
   "outputs": [],
   "source": [
    "model = log_reg.fit(train)"
   ]
  },
  {
   "cell_type": "code",
   "execution_count": 17,
   "metadata": {
    "execution": {
     "iopub.execute_input": "2021-11-29T14:11:57.639314Z",
     "iopub.status.busy": "2021-11-29T14:11:57.638416Z",
     "iopub.status.idle": "2021-11-29T14:11:58.518077Z",
     "shell.execute_reply": "2021-11-29T14:11:58.517395Z",
     "shell.execute_reply.started": "2021-11-29T14:11:57.639265Z"
    }
   },
   "outputs": [],
   "source": [
    "y_hat = model.evaluate(test)\n",
    "\n",
    "y_hat.predictions.select(\"Survived\", \"prediction\").show()"
   ]
  },
  {
   "cell_type": "code",
   "execution_count": 18,
   "metadata": {
    "execution": {
     "iopub.execute_input": "2021-11-29T14:11:58.519457Z",
     "iopub.status.busy": "2021-11-29T14:11:58.519163Z",
     "iopub.status.idle": "2021-11-29T14:11:59.090048Z",
     "shell.execute_reply": "2021-11-29T14:11:59.089376Z",
     "shell.execute_reply.started": "2021-11-29T14:11:58.519396Z"
    }
   },
   "outputs": [],
   "source": [
    "y_hat.areaUnderROC"
   ]
  },
  {
   "cell_type": "markdown",
   "metadata": {},
   "source": [
    "### Pipeline"
   ]
  },
  {
   "cell_type": "code",
   "execution_count": 19,
   "metadata": {
    "execution": {
     "iopub.execute_input": "2021-11-29T14:11:59.095044Z",
     "iopub.status.busy": "2021-11-29T14:11:59.093408Z",
     "iopub.status.idle": "2021-11-29T14:11:59.377088Z",
     "shell.execute_reply": "2021-11-29T14:11:59.376236Z",
     "shell.execute_reply.started": "2021-11-29T14:11:59.095009Z"
    }
   },
   "outputs": [],
   "source": [
    "from pyspark.ml import Pipeline\n",
    "\n",
    "data = spark.read.csv(path = \"/kaggle/input/pyspark-ml-logistic-regression/titanic.csv\",\n",
    "                      inferSchema = True, header = True)\n",
    "\n",
    "gender_indexer = StringIndexer(inputCol = \"Sex\", outputCol = \"SexIndex\")\n",
    "gender_encoder = OneHotEncoder(inputCol = \"SexIndex\", outputCol = \"SexVec\")\n",
    "\n",
    "embark_indexer = StringIndexer(inputCol = \"Embarked\", outputCol = \"EmbarkIndex\")\n",
    "embark_encoder = OneHotEncoder(inputCol = \"EmbarkIndex\", outputCol = \"EmbarkVec\")\n",
    "\n",
    "assembler = VectorAssembler(inputCols = [\"Pclass\", \"SexVec\", \"Age\", \"SibSp\", \"Parch\", \"Fare\", \"EmbarkVec\"],\n",
    "                            outputCol = \"features\")\n",
    "\n",
    "model = LogisticRegression(featuresCol = \"features\",\n",
    "                           labelCol = \"Survived\",\n",
    "                           predictionCol = \"prediction\")"
   ]
  },
  {
   "cell_type": "code",
   "execution_count": 20,
   "metadata": {
    "execution": {
     "iopub.execute_input": "2021-11-29T14:11:59.380103Z",
     "iopub.status.busy": "2021-11-29T14:11:59.379829Z",
     "iopub.status.idle": "2021-11-29T14:11:59.385705Z",
     "shell.execute_reply": "2021-11-29T14:11:59.384922Z",
     "shell.execute_reply.started": "2021-11-29T14:11:59.380067Z"
    }
   },
   "outputs": [],
   "source": [
    "pipeline = Pipeline(stages = [gender_indexer, embark_indexer, gender_encoder, embark_encoder, assembler, model])"
   ]
  },
  {
   "cell_type": "code",
   "execution_count": 21,
   "metadata": {
    "execution": {
     "iopub.execute_input": "2021-11-29T14:11:59.387875Z",
     "iopub.status.busy": "2021-11-29T14:11:59.387104Z",
     "iopub.status.idle": "2021-11-29T14:11:59.410870Z",
     "shell.execute_reply": "2021-11-29T14:11:59.410219Z",
     "shell.execute_reply.started": "2021-11-29T14:11:59.387830Z"
    }
   },
   "outputs": [],
   "source": [
    "train, test = data.randomSplit(weights = [0.7, 0.3], seed = 42)"
   ]
  },
  {
   "cell_type": "code",
   "execution_count": 22,
   "metadata": {
    "execution": {
     "iopub.execute_input": "2021-11-29T14:11:59.414989Z",
     "iopub.status.busy": "2021-11-29T14:11:59.414495Z",
     "iopub.status.idle": "2021-11-29T14:12:00.842941Z",
     "shell.execute_reply": "2021-11-29T14:12:00.841339Z",
     "shell.execute_reply.started": "2021-11-29T14:11:59.414953Z"
    }
   },
   "outputs": [],
   "source": [
    "model = pipeline.fit(train)"
   ]
  },
  {
   "cell_type": "code",
   "execution_count": null,
   "metadata": {
    "execution": {
     "iopub.status.busy": "2021-11-29T14:12:00.843828Z",
     "iopub.status.idle": "2021-11-29T14:12:00.844161Z",
     "shell.execute_reply": "2021-11-29T14:12:00.844005Z",
     "shell.execute_reply.started": "2021-11-29T14:12:00.843988Z"
    }
   },
   "outputs": [],
   "source": [
    "y_hat = model.transform(test)"
   ]
  },
  {
   "cell_type": "code",
   "execution_count": null,
   "metadata": {
    "execution": {
     "iopub.status.busy": "2021-11-29T14:12:00.845808Z",
     "iopub.status.idle": "2021-11-29T14:12:00.846156Z",
     "shell.execute_reply": "2021-11-29T14:12:00.845993Z",
     "shell.execute_reply.started": "2021-11-29T14:12:00.845976Z"
    }
   },
   "outputs": [],
   "source": [
    "y_hat.select(\"Survived\", \"prediction\").show()"
   ]
  },
  {
   "cell_type": "code",
   "execution_count": null,
   "metadata": {
    "execution": {
     "iopub.status.busy": "2021-11-29T14:12:00.847123Z",
     "iopub.status.idle": "2021-11-29T14:12:00.847463Z",
     "shell.execute_reply": "2021-11-29T14:12:00.847293Z",
     "shell.execute_reply.started": "2021-11-29T14:12:00.847276Z"
    }
   },
   "outputs": [],
   "source": [
    "from pyspark.ml.evaluation import BinaryClassificationEvaluator\n",
    "\n",
    "evaluator = BinaryClassificationEvaluator(rawPredictionCol = \"prediction\", labelCol = \"Survived\")\n",
    "\n",
    "evaluator.metricName\n",
    "\n",
    "# Por defecto la metrica es la curva ROC"
   ]
  },
  {
   "cell_type": "code",
   "execution_count": null,
   "metadata": {
    "execution": {
     "iopub.status.busy": "2021-11-29T14:12:00.849773Z",
     "iopub.status.idle": "2021-11-29T14:12:00.850124Z",
     "shell.execute_reply": "2021-11-29T14:12:00.849967Z",
     "shell.execute_reply.started": "2021-11-29T14:12:00.849945Z"
    }
   },
   "outputs": [],
   "source": [
    "# Sin parametros de metricas\n",
    "evaluator.evaluate(dataset = y_hat)"
   ]
  },
  {
   "cell_type": "code",
   "execution_count": null,
   "metadata": {
    "execution": {
     "iopub.status.busy": "2021-11-29T14:12:00.851615Z",
     "iopub.status.idle": "2021-11-29T14:12:00.851949Z",
     "shell.execute_reply": "2021-11-29T14:12:00.851798Z",
     "shell.execute_reply.started": "2021-11-29T14:12:00.851777Z"
    }
   },
   "outputs": [],
   "source": [
    "# Con parametros\n",
    "evaluator.evaluate(dataset = y_hat, params = {evaluator.metricName: \"areaUnderROC\"})"
   ]
  },
  {
   "cell_type": "code",
   "execution_count": null,
   "metadata": {
    "execution": {
     "iopub.status.busy": "2021-11-29T14:12:00.853144Z",
     "iopub.status.idle": "2021-11-29T14:12:00.853478Z",
     "shell.execute_reply": "2021-11-29T14:12:00.853306Z",
     "shell.execute_reply.started": "2021-11-29T14:12:00.853290Z"
    }
   },
   "outputs": [],
   "source": [
    "# Area Under Precision-Recall, esta metrica puede resultar util cuando las clases estan desbalanceadas\n",
    "evaluator.evaluate(dataset = y_hat, params = {evaluator.metricName: \"areaUnderPR\"})"
   ]
  },
  {
   "cell_type": "code",
   "execution_count": null,
   "metadata": {},
   "outputs": [],
   "source": [
    "################################################################################################################################"
   ]
  }
 ],
 "metadata": {
  "kernelspec": {
   "display_name": "Python 3 (ipykernel)",
   "language": "python",
   "name": "python3"
  },
  "language_info": {
   "codemirror_mode": {
    "name": "ipython",
    "version": 3
   },
   "file_extension": ".py",
   "mimetype": "text/x-python",
   "name": "python",
   "nbconvert_exporter": "python",
   "pygments_lexer": "ipython3",
   "version": "3.9.12"
  }
 },
 "nbformat": 4,
 "nbformat_minor": 4
}
