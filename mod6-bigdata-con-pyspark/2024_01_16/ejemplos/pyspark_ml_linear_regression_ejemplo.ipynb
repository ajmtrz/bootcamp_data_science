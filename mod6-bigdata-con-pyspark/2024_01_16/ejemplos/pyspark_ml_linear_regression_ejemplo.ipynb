{
 "cells": [
  {
   "cell_type": "code",
   "execution_count": null,
   "metadata": {
    "execution": {
     "iopub.execute_input": "2021-11-29T12:56:57.179395Z",
     "iopub.status.busy": "2021-11-29T12:56:57.178987Z",
     "iopub.status.idle": "2021-11-29T12:57:59.140582Z",
     "shell.execute_reply": "2021-11-29T12:57:59.139610Z",
     "shell.execute_reply.started": "2021-11-29T12:56:57.179272Z"
    }
   },
   "outputs": [],
   "source": [
    "!pip install pyspark"
   ]
  },
  {
   "cell_type": "code",
   "execution_count": null,
   "metadata": {
    "execution": {
     "iopub.execute_input": "2021-11-29T12:57:59.143343Z",
     "iopub.status.busy": "2021-11-29T12:57:59.143033Z",
     "iopub.status.idle": "2021-11-29T12:58:05.471173Z",
     "shell.execute_reply": "2021-11-29T12:58:05.470077Z",
     "shell.execute_reply.started": "2021-11-29T12:57:59.143297Z"
    }
   },
   "outputs": [],
   "source": [
    "from pyspark.sql import SparkSession\n",
    "from pyspark.ml.regression import LinearRegression\n",
    "\n",
    "from pyspark.ml.feature import StringIndexer\n",
    "from pyspark.ml.linalg import Vectors\n",
    "from pyspark.ml.feature import VectorAssembler\n",
    "\n",
    "spark = SparkSession.builder.appName(\"LinearRegression\").getOrCreate()"
   ]
  },
  {
   "cell_type": "code",
   "execution_count": null,
   "metadata": {
    "execution": {
     "iopub.execute_input": "2021-11-29T12:58:05.474383Z",
     "iopub.status.busy": "2021-11-29T12:58:05.473935Z",
     "iopub.status.idle": "2021-11-29T12:58:11.115406Z",
     "shell.execute_reply": "2021-11-29T12:58:11.114534Z",
     "shell.execute_reply.started": "2021-11-29T12:58:05.474345Z"
    }
   },
   "outputs": [],
   "source": [
    "data = spark.read.csv(path        = \"/kaggle/input/pyspark-ml/Ecommerce_Customers.csv\", \n",
    "                      inferSchema = True,\n",
    "                      header      = True)\n",
    "\n",
    "data.printSchema()"
   ]
  },
  {
   "cell_type": "code",
   "execution_count": null,
   "metadata": {
    "execution": {
     "iopub.execute_input": "2021-11-29T12:58:11.116886Z",
     "iopub.status.busy": "2021-11-29T12:58:11.116595Z",
     "iopub.status.idle": "2021-11-29T12:58:11.639551Z",
     "shell.execute_reply": "2021-11-29T12:58:11.638631Z",
     "shell.execute_reply.started": "2021-11-29T12:58:11.116848Z"
    }
   },
   "outputs": [],
   "source": [
    "data.show(10)"
   ]
  },
  {
   "cell_type": "markdown",
   "metadata": {},
   "source": [
    "### Transformaciones"
   ]
  },
  {
   "cell_type": "code",
   "execution_count": null,
   "metadata": {
    "execution": {
     "iopub.execute_input": "2021-11-29T12:58:11.646316Z",
     "iopub.status.busy": "2021-11-29T12:58:11.646028Z",
     "iopub.status.idle": "2021-11-29T12:58:13.522457Z",
     "shell.execute_reply": "2021-11-29T12:58:13.521467Z",
     "shell.execute_reply.started": "2021-11-29T12:58:11.646283Z"
    }
   },
   "outputs": [],
   "source": [
    "indexer = StringIndexer(inputCol = \"Avatar\", outputCol = \"AvatarIndex\")\n",
    "\n",
    "data = indexer.fit(data).transform(data)\n",
    "data.show(10)"
   ]
  },
  {
   "cell_type": "code",
   "execution_count": null,
   "metadata": {
    "execution": {
     "iopub.execute_input": "2021-11-29T12:58:13.524086Z",
     "iopub.status.busy": "2021-11-29T12:58:13.523764Z",
     "iopub.status.idle": "2021-11-29T12:58:14.232956Z",
     "shell.execute_reply": "2021-11-29T12:58:14.232059Z",
     "shell.execute_reply.started": "2021-11-29T12:58:13.524045Z"
    }
   },
   "outputs": [],
   "source": [
    "assembler = VectorAssembler(inputCols = [\"Avg Session Length\", \"Time on App\", \"Time on Website\",\n",
    "                                         \"Length of Membership\", \"AvatarIndex\"],\n",
    "                            outputCol = \"features\")\n",
    "\n",
    "output = assembler.transform(data)\n",
    "\n",
    "output.select(\"features\").show(truncate = False)"
   ]
  },
  {
   "cell_type": "code",
   "execution_count": null,
   "metadata": {
    "execution": {
     "iopub.execute_input": "2021-11-29T12:58:14.234443Z",
     "iopub.status.busy": "2021-11-29T12:58:14.234133Z",
     "iopub.status.idle": "2021-11-29T12:58:14.280682Z",
     "shell.execute_reply": "2021-11-29T12:58:14.279620Z",
     "shell.execute_reply.started": "2021-11-29T12:58:14.234389Z"
    }
   },
   "outputs": [],
   "source": [
    "final_data = output.select(\"features\", \"Yearly Amount Spent\")\n",
    "\n",
    "train, test = final_data.randomSplit(weights = [0.8, 0.2], seed = 42)"
   ]
  },
  {
   "cell_type": "code",
   "execution_count": null,
   "metadata": {
    "execution": {
     "iopub.execute_input": "2021-11-29T12:58:14.282440Z",
     "iopub.status.busy": "2021-11-29T12:58:14.282141Z",
     "iopub.status.idle": "2021-11-29T12:58:15.528610Z",
     "shell.execute_reply": "2021-11-29T12:58:15.527742Z",
     "shell.execute_reply.started": "2021-11-29T12:58:14.282384Z"
    }
   },
   "outputs": [],
   "source": [
    "train.describe().show()\n",
    "\n",
    "test.describe().show()"
   ]
  },
  {
   "cell_type": "code",
   "execution_count": null,
   "metadata": {
    "execution": {
     "iopub.execute_input": "2021-11-29T12:58:15.530162Z",
     "iopub.status.busy": "2021-11-29T12:58:15.529880Z",
     "iopub.status.idle": "2021-11-29T12:58:16.939042Z",
     "shell.execute_reply": "2021-11-29T12:58:16.938008Z",
     "shell.execute_reply.started": "2021-11-29T12:58:15.530124Z"
    }
   },
   "outputs": [],
   "source": [
    "lr = LinearRegression(featuresCol = \"features\",\n",
    "                      labelCol = \"Yearly Amount Spent\", \n",
    "                      predictionCol = \"predictions\")\n",
    "\n",
    "\n",
    "model = lr.fit(train)\n",
    "\n",
    "\n",
    "print(\"Coeficientes: {}\".format((model.coefficients)))\n",
    "print(\"\\n\")\n",
    "print(\"Intercepcion:{}\".format((model.intercept)))"
   ]
  },
  {
   "cell_type": "code",
   "execution_count": null,
   "metadata": {
    "execution": {
     "iopub.execute_input": "2021-11-29T12:58:16.940982Z",
     "iopub.status.busy": "2021-11-29T12:58:16.940690Z",
     "iopub.status.idle": "2021-11-29T12:58:17.212953Z",
     "shell.execute_reply": "2021-11-29T12:58:17.211936Z",
     "shell.execute_reply.started": "2021-11-29T12:58:16.940944Z"
    }
   },
   "outputs": [],
   "source": [
    "y_hat = model.evaluate(test)"
   ]
  },
  {
   "cell_type": "code",
   "execution_count": null,
   "metadata": {
    "execution": {
     "iopub.execute_input": "2021-11-29T12:58:17.214766Z",
     "iopub.status.busy": "2021-11-29T12:58:17.214438Z",
     "iopub.status.idle": "2021-11-29T12:58:17.460145Z",
     "shell.execute_reply": "2021-11-29T12:58:17.459442Z",
     "shell.execute_reply.started": "2021-11-29T12:58:17.214723Z"
    }
   },
   "outputs": [],
   "source": [
    "y_hat.predictions.show()"
   ]
  },
  {
   "cell_type": "code",
   "execution_count": null,
   "metadata": {
    "execution": {
     "iopub.execute_input": "2021-11-29T12:58:17.461511Z",
     "iopub.status.busy": "2021-11-29T12:58:17.461231Z",
     "iopub.status.idle": "2021-11-29T12:58:17.701837Z",
     "shell.execute_reply": "2021-11-29T12:58:17.700951Z",
     "shell.execute_reply.started": "2021-11-29T12:58:17.461470Z"
    }
   },
   "outputs": [],
   "source": [
    "y_hat.residuals.show()"
   ]
  },
  {
   "cell_type": "code",
   "execution_count": null,
   "metadata": {
    "execution": {
     "iopub.execute_input": "2021-11-29T12:58:17.703241Z",
     "iopub.status.busy": "2021-11-29T12:58:17.702976Z",
     "iopub.status.idle": "2021-11-29T12:58:17.715272Z",
     "shell.execute_reply": "2021-11-29T12:58:17.714385Z",
     "shell.execute_reply.started": "2021-11-29T12:58:17.703206Z"
    }
   },
   "outputs": [],
   "source": [
    "print(\"RMSE: {}\".format(y_hat.rootMeanSquaredError))\n",
    "print(\"MSE: {}\".format(y_hat.meanSquaredError))\n",
    "print(\"r2: {}\".format(y_hat.r2))"
   ]
  },
  {
   "cell_type": "code",
   "execution_count": null,
   "metadata": {},
   "outputs": [],
   "source": [
    "################################################################################################################################"
   ]
  }
 ],
 "metadata": {
  "kernelspec": {
   "display_name": "Python 3 (ipykernel)",
   "language": "python",
   "name": "python3"
  },
  "language_info": {
   "codemirror_mode": {
    "name": "ipython",
    "version": 3
   },
   "file_extension": ".py",
   "mimetype": "text/x-python",
   "name": "python",
   "nbconvert_exporter": "python",
   "pygments_lexer": "ipython3",
   "version": "3.9.12"
  }
 },
 "nbformat": 4,
 "nbformat_minor": 4
}
