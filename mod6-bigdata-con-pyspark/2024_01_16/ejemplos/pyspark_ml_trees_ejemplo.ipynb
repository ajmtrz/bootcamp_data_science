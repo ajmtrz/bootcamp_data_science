{
 "cells": [
  {
   "cell_type": "code",
   "execution_count": null,
   "metadata": {
    "_cell_guid": "b1076dfc-b9ad-4769-8c92-a6c4dae69d19",
    "_uuid": "8f2839f25d086af736a60e9eeb907d3b93b6e0e5",
    "execution": {
     "iopub.execute_input": "2021-11-29T15:32:17.786423Z",
     "iopub.status.busy": "2021-11-29T15:32:17.785699Z",
     "iopub.status.idle": "2021-11-29T15:33:05.653914Z",
     "shell.execute_reply": "2021-11-29T15:33:05.652916Z",
     "shell.execute_reply.started": "2021-11-29T15:32:17.786314Z"
    }
   },
   "outputs": [],
   "source": [
    "!pip install pyspark"
   ]
  },
  {
   "cell_type": "code",
   "execution_count": null,
   "metadata": {
    "execution": {
     "iopub.execute_input": "2021-11-29T15:33:05.655614Z",
     "iopub.status.busy": "2021-11-29T15:33:05.655381Z",
     "iopub.status.idle": "2021-11-29T15:33:11.093921Z",
     "shell.execute_reply": "2021-11-29T15:33:11.093188Z",
     "shell.execute_reply.started": "2021-11-29T15:33:05.655584Z"
    }
   },
   "outputs": [],
   "source": [
    "from pyspark.sql import SparkSession\n",
    "spark = SparkSession.builder.appName(\"Trees\").getOrCreate()"
   ]
  },
  {
   "cell_type": "code",
   "execution_count": null,
   "metadata": {
    "execution": {
     "iopub.execute_input": "2021-11-29T15:33:11.095226Z",
     "iopub.status.busy": "2021-11-29T15:33:11.094988Z",
     "iopub.status.idle": "2021-11-29T15:33:16.131756Z",
     "shell.execute_reply": "2021-11-29T15:33:16.130843Z",
     "shell.execute_reply.started": "2021-11-29T15:33:11.095198Z"
    }
   },
   "outputs": [],
   "source": [
    "data = spark.read.csv(path = \"/kaggle/input/pyspark-ml-trees/College.csv\",\n",
    "                      inferSchema = True, header = True)\n",
    "\n",
    "data.printSchema()"
   ]
  },
  {
   "cell_type": "code",
   "execution_count": null,
   "metadata": {
    "execution": {
     "iopub.execute_input": "2021-11-29T15:33:16.134763Z",
     "iopub.status.busy": "2021-11-29T15:33:16.133896Z",
     "iopub.status.idle": "2021-11-29T15:33:16.644627Z",
     "shell.execute_reply": "2021-11-29T15:33:16.644009Z",
     "shell.execute_reply.started": "2021-11-29T15:33:16.134716Z"
    }
   },
   "outputs": [],
   "source": [
    "data.show(10)"
   ]
  },
  {
   "cell_type": "code",
   "execution_count": null,
   "metadata": {
    "execution": {
     "iopub.execute_input": "2021-11-29T15:33:16.646030Z",
     "iopub.status.busy": "2021-11-29T15:33:16.645728Z",
     "iopub.status.idle": "2021-11-29T15:33:16.802512Z",
     "shell.execute_reply": "2021-11-29T15:33:16.801627Z",
     "shell.execute_reply.started": "2021-11-29T15:33:16.645988Z"
    }
   },
   "outputs": [],
   "source": [
    "from pyspark.ml.linalg import Vectors\n",
    "from pyspark.ml.feature import VectorAssembler"
   ]
  },
  {
   "cell_type": "code",
   "execution_count": null,
   "metadata": {
    "execution": {
     "iopub.execute_input": "2021-11-29T15:33:16.804070Z",
     "iopub.status.busy": "2021-11-29T15:33:16.803768Z",
     "iopub.status.idle": "2021-11-29T15:33:17.030638Z",
     "shell.execute_reply": "2021-11-29T15:33:17.029962Z",
     "shell.execute_reply.started": "2021-11-29T15:33:16.804031Z"
    }
   },
   "outputs": [],
   "source": [
    "assembler = VectorAssembler(inputCols = [\"Apps\", \"Accept\", \"Enroll\", \"Top10perc\", \"Top25perc\", \"F_Undergrad\", \"P_Undergrad\", \"Outstate\",\n",
    "                                         \"Room_Board\", \"Books\", \"Personal\", \"PhD\", \"Terminal\", \"S_F_Ratio\", \"perc_alumni\", \"Expend\", \"Grad_Rate\"],\n",
    "                            outputCol = \"features\")\n",
    "\n",
    "output = assembler.transform(data)"
   ]
  },
  {
   "cell_type": "code",
   "execution_count": null,
   "metadata": {
    "execution": {
     "iopub.execute_input": "2021-11-29T15:33:17.032022Z",
     "iopub.status.busy": "2021-11-29T15:33:17.031740Z",
     "iopub.status.idle": "2021-11-29T15:33:18.311741Z",
     "shell.execute_reply": "2021-11-29T15:33:18.310743Z",
     "shell.execute_reply.started": "2021-11-29T15:33:17.031985Z"
    }
   },
   "outputs": [],
   "source": [
    "from pyspark.ml.feature import StringIndexer\n",
    "\n",
    "indexer = StringIndexer(inputCol = \"Private\", outputCol = \"PrivateIndex\")\n",
    "output = indexer.fit(output).transform(output)\n",
    "\n",
    "output = output.select(\"features\", \"PrivateIndex\")"
   ]
  },
  {
   "cell_type": "code",
   "execution_count": null,
   "metadata": {
    "execution": {
     "iopub.execute_input": "2021-11-29T15:33:18.313235Z",
     "iopub.status.busy": "2021-11-29T15:33:18.312932Z",
     "iopub.status.idle": "2021-11-29T15:33:18.346053Z",
     "shell.execute_reply": "2021-11-29T15:33:18.345172Z",
     "shell.execute_reply.started": "2021-11-29T15:33:18.313188Z"
    }
   },
   "outputs": [],
   "source": [
    "train, test = output.randomSplit(weights = [0.7, 0.3], seed = 42)"
   ]
  },
  {
   "cell_type": "code",
   "execution_count": null,
   "metadata": {
    "execution": {
     "iopub.execute_input": "2021-11-29T15:33:18.351877Z",
     "iopub.status.busy": "2021-11-29T15:33:18.348733Z",
     "iopub.status.idle": "2021-11-29T15:33:18.357963Z",
     "shell.execute_reply": "2021-11-29T15:33:18.357212Z",
     "shell.execute_reply.started": "2021-11-29T15:33:18.351822Z"
    }
   },
   "outputs": [],
   "source": [
    "from pyspark.ml.classification import DecisionTreeClassifier\n",
    "from pyspark.ml.classification import RandomForestClassifier\n",
    "from pyspark.ml.classification import GBTClassifier"
   ]
  },
  {
   "cell_type": "code",
   "execution_count": null,
   "metadata": {
    "execution": {
     "iopub.execute_input": "2021-11-29T15:33:18.361299Z",
     "iopub.status.busy": "2021-11-29T15:33:18.360747Z",
     "iopub.status.idle": "2021-11-29T15:33:18.473106Z",
     "shell.execute_reply": "2021-11-29T15:33:18.472359Z",
     "shell.execute_reply.started": "2021-11-29T15:33:18.361256Z"
    }
   },
   "outputs": [],
   "source": [
    "dtc = DecisionTreeClassifier(labelCol = \"PrivateIndex\",\n",
    "                             featuresCol = \"features\",\n",
    "                             predictionCol = \"prediction\")\n",
    "\n",
    "rfc = RandomForestClassifier(labelCol = \"PrivateIndex\",\n",
    "                             featuresCol = \"features\",\n",
    "                             predictionCol = \"prediction\")\n",
    "\n",
    "gbt = GBTClassifier(labelCol = \"PrivateIndex\",\n",
    "                    featuresCol = \"features\",\n",
    "                    predictionCol = \"prediction\")"
   ]
  },
  {
   "cell_type": "code",
   "execution_count": null,
   "metadata": {
    "execution": {
     "iopub.execute_input": "2021-11-29T15:33:18.476404Z",
     "iopub.status.busy": "2021-11-29T15:33:18.474000Z",
     "iopub.status.idle": "2021-11-29T15:33:32.821063Z",
     "shell.execute_reply": "2021-11-29T15:33:32.820203Z",
     "shell.execute_reply.started": "2021-11-29T15:33:18.476353Z"
    }
   },
   "outputs": [],
   "source": [
    "dtc_model = dtc.fit(train)\n",
    "rfc_model = rfc.fit(train)\n",
    "gbt_model = gbt.fit(train)"
   ]
  },
  {
   "cell_type": "code",
   "execution_count": null,
   "metadata": {
    "execution": {
     "iopub.execute_input": "2021-11-29T15:33:32.822798Z",
     "iopub.status.busy": "2021-11-29T15:33:32.822367Z",
     "iopub.status.idle": "2021-11-29T15:33:33.059767Z",
     "shell.execute_reply": "2021-11-29T15:33:33.058878Z",
     "shell.execute_reply.started": "2021-11-29T15:33:32.822766Z"
    }
   },
   "outputs": [],
   "source": [
    "dtc_predictions = dtc_model.transform(test)\n",
    "rfc_predictions = rfc_model.transform(test)\n",
    "gbt_predictions = gbt_model.transform(test)"
   ]
  },
  {
   "cell_type": "code",
   "execution_count": null,
   "metadata": {
    "execution": {
     "iopub.execute_input": "2021-11-29T15:33:33.061620Z",
     "iopub.status.busy": "2021-11-29T15:33:33.060996Z",
     "iopub.status.idle": "2021-11-29T15:33:33.076938Z",
     "shell.execute_reply": "2021-11-29T15:33:33.075911Z",
     "shell.execute_reply.started": "2021-11-29T15:33:33.061573Z"
    }
   },
   "outputs": [],
   "source": [
    "from pyspark.ml.evaluation import MulticlassClassificationEvaluator\n",
    "\n",
    "evaluator = MulticlassClassificationEvaluator(labelCol = \"PrivateIndex\",\n",
    "                                              predictionCol = \"prediction\",\n",
    "                                              metricName = \"accuracy\")"
   ]
  },
  {
   "cell_type": "code",
   "execution_count": null,
   "metadata": {
    "execution": {
     "iopub.execute_input": "2021-11-29T15:33:33.079577Z",
     "iopub.status.busy": "2021-11-29T15:33:33.078766Z",
     "iopub.status.idle": "2021-11-29T15:33:34.115890Z",
     "shell.execute_reply": "2021-11-29T15:33:34.114503Z",
     "shell.execute_reply.started": "2021-11-29T15:33:33.079533Z"
    }
   },
   "outputs": [],
   "source": [
    "dtc_accuracy = evaluator.evaluate(dtc_predictions)\n",
    "rfc_accuracy = evaluator.evaluate(rfc_predictions)\n",
    "gbt_accuracy = evaluator.evaluate(gbt_predictions)"
   ]
  },
  {
   "cell_type": "code",
   "execution_count": null,
   "metadata": {
    "execution": {
     "iopub.execute_input": "2021-11-29T15:33:34.117525Z",
     "iopub.status.busy": "2021-11-29T15:33:34.117077Z",
     "iopub.status.idle": "2021-11-29T15:33:34.130615Z",
     "shell.execute_reply": "2021-11-29T15:33:34.129778Z",
     "shell.execute_reply.started": "2021-11-29T15:33:34.117481Z"
    }
   },
   "outputs": [],
   "source": [
    "print(\"DecisionTreeClassifier: {}\".format(dtc_accuracy*100))\n",
    "print(\"-\"*50)\n",
    "print(\"RandomForestClassifier: {}\".format(rfc_accuracy*100))\n",
    "print(\"-\"*50)\n",
    "print(\"GradientBoostingClassifier: {}\".format(gbt_accuracy*100))"
   ]
  },
  {
   "cell_type": "code",
   "execution_count": null,
   "metadata": {
    "execution": {
     "iopub.execute_input": "2021-11-29T15:33:41.257265Z",
     "iopub.status.busy": "2021-11-29T15:33:41.256686Z",
     "iopub.status.idle": "2021-11-29T15:33:41.271053Z",
     "shell.execute_reply": "2021-11-29T15:33:41.270000Z",
     "shell.execute_reply.started": "2021-11-29T15:33:41.257216Z"
    }
   },
   "outputs": [],
   "source": [
    "dtc_model.featureImportances"
   ]
  },
  {
   "cell_type": "code",
   "execution_count": null,
   "metadata": {},
   "outputs": [],
   "source": [
    "################################################################################################################################"
   ]
  }
 ],
 "metadata": {
  "kernelspec": {
   "display_name": "Python 3 (ipykernel)",
   "language": "python",
   "name": "python3"
  },
  "language_info": {
   "codemirror_mode": {
    "name": "ipython",
    "version": 3
   },
   "file_extension": ".py",
   "mimetype": "text/x-python",
   "name": "python",
   "nbconvert_exporter": "python",
   "pygments_lexer": "ipython3",
   "version": "3.9.12"
  }
 },
 "nbformat": 4,
 "nbformat_minor": 4
}
