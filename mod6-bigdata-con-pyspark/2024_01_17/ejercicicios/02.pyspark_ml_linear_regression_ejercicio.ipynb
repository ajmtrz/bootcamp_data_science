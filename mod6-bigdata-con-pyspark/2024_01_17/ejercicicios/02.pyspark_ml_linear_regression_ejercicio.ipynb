{
 "cells": [
  {
   "cell_type": "code",
   "execution_count": null,
   "metadata": {
    "execution": {
     "iopub.execute_input": "2021-11-29T14:11:29.71919Z",
     "iopub.status.busy": "2021-11-29T14:11:29.718136Z",
     "iopub.status.idle": "2021-11-29T14:11:38.284894Z",
     "shell.execute_reply": "2021-11-29T14:11:38.283779Z",
     "shell.execute_reply.started": "2021-11-29T14:11:29.719141Z"
    }
   },
   "outputs": [],
   "source": [
    "!pip install pyspark"
   ]
  },
  {
   "cell_type": "code",
   "execution_count": null,
   "metadata": {
    "execution": {
     "iopub.execute_input": "2021-11-29T14:11:38.287345Z",
     "iopub.status.busy": "2021-11-29T14:11:38.287072Z",
     "iopub.status.idle": "2021-11-29T14:11:38.293724Z",
     "shell.execute_reply": "2021-11-29T14:11:38.292569Z",
     "shell.execute_reply.started": "2021-11-29T14:11:38.28731Z"
    }
   },
   "outputs": [],
   "source": [
    "from pyspark.sql import SparkSession\n",
    "\n",
    "spark = SparkSession.builder.appName(\"LinearRegression\").getOrCreate()"
   ]
  },
  {
   "cell_type": "code",
   "execution_count": null,
   "metadata": {
    "execution": {
     "iopub.execute_input": "2021-11-29T14:11:38.29594Z",
     "iopub.status.busy": "2021-11-29T14:11:38.295153Z",
     "iopub.status.idle": "2021-11-29T14:11:38.617624Z",
     "shell.execute_reply": "2021-11-29T14:11:38.616932Z",
     "shell.execute_reply.started": "2021-11-29T14:11:38.295905Z"
    }
   },
   "outputs": [],
   "source": [
    "df = spark.read.csv(path = \"/kaggle/input/pyspark-ml/cruise_ship_info.csv\", \n",
    "                    inferSchema = True, header = True)\n",
    "\n",
    "df.show()\n",
    "\n",
    "# Predecir la columna \"crew\""
   ]
  },
  {
   "cell_type": "code",
   "execution_count": null,
   "metadata": {},
   "outputs": [],
   "source": []
  },
  {
   "cell_type": "code",
   "execution_count": null,
   "metadata": {},
   "outputs": [],
   "source": []
  },
  {
   "cell_type": "code",
   "execution_count": null,
   "metadata": {},
   "outputs": [],
   "source": []
  },
  {
   "cell_type": "code",
   "execution_count": null,
   "metadata": {},
   "outputs": [],
   "source": []
  },
  {
   "cell_type": "code",
   "execution_count": null,
   "metadata": {},
   "outputs": [],
   "source": []
  },
  {
   "cell_type": "code",
   "execution_count": null,
   "metadata": {},
   "outputs": [],
   "source": []
  },
  {
   "cell_type": "code",
   "execution_count": null,
   "metadata": {},
   "outputs": [],
   "source": []
  },
  {
   "cell_type": "code",
   "execution_count": null,
   "metadata": {},
   "outputs": [],
   "source": []
  }
 ],
 "metadata": {
  "kernelspec": {
   "display_name": "Python 3 (ipykernel)",
   "language": "python",
   "name": "python3"
  },
  "language_info": {
   "codemirror_mode": {
    "name": "ipython",
    "version": 3
   },
   "file_extension": ".py",
   "mimetype": "text/x-python",
   "name": "python",
   "nbconvert_exporter": "python",
   "pygments_lexer": "ipython3",
   "version": "3.9.12"
  }
 },
 "nbformat": 4,
 "nbformat_minor": 4
}
