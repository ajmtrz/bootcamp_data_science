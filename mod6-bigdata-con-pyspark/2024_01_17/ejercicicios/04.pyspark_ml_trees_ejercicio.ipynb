{
 "cells": [
  {
   "cell_type": "markdown",
   "id": "e46c3e3d",
   "metadata": {},
   "source": [
    "## PySpark - Trees - Ejercicios"
   ]
  },
  {
   "cell_type": "code",
   "execution_count": null,
   "id": "42a81caf",
   "metadata": {},
   "outputs": [],
   "source": [
    "!pip install pyspark"
   ]
  },
  {
   "cell_type": "code",
   "execution_count": null,
   "id": "00c9f87f",
   "metadata": {},
   "outputs": [],
   "source": [
    "from pyspark.sql import SparkSession\n",
    "spark = SparkSession.builder.appName(\"Trees\").getOrCreate()"
   ]
  },
  {
   "cell_type": "code",
   "execution_count": null,
   "id": "88b68ea7",
   "metadata": {},
   "outputs": [],
   "source": [
    "data = spark.read.csv(path = \"/kaggle/input/pyspark-ml-trees/Hotel Reservations.csv\",\n",
    "                      inferSchema = True, header = True)\n",
    "\n",
    "data.show()\n",
    "\n",
    "# Predecir la columna \"booking_status\""
   ]
  },
  {
   "cell_type": "code",
   "execution_count": null,
   "id": "807b93e2",
   "metadata": {},
   "outputs": [],
   "source": []
  },
  {
   "cell_type": "code",
   "execution_count": null,
   "id": "167e0bb2",
   "metadata": {},
   "outputs": [],
   "source": []
  },
  {
   "cell_type": "code",
   "execution_count": null,
   "id": "c53283fc",
   "metadata": {},
   "outputs": [],
   "source": []
  }
 ],
 "metadata": {
  "kernelspec": {
   "display_name": "Python 3 (ipykernel)",
   "language": "python",
   "name": "python3"
  },
  "language_info": {
   "codemirror_mode": {
    "name": "ipython",
    "version": 3
   },
   "file_extension": ".py",
   "mimetype": "text/x-python",
   "name": "python",
   "nbconvert_exporter": "python",
   "pygments_lexer": "ipython3",
   "version": "3.9.12"
  }
 },
 "nbformat": 4,
 "nbformat_minor": 5
}
