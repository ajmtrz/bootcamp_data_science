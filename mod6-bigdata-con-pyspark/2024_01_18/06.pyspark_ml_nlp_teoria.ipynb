{
 "cells": [
  {
   "cell_type": "markdown",
   "metadata": {},
   "source": [
    "## PySpark - Natural Language Processing"
   ]
  },
  {
   "cell_type": "code",
   "execution_count": null,
   "metadata": {
    "_cell_guid": "b1076dfc-b9ad-4769-8c92-a6c4dae69d19",
    "_uuid": "8f2839f25d086af736a60e9eeb907d3b93b6e0e5"
   },
   "outputs": [],
   "source": [
    "!pip install pyspark"
   ]
  },
  {
   "cell_type": "code",
   "execution_count": 1,
   "metadata": {
    "tags": []
   },
   "outputs": [],
   "source": [
    "from pyspark.sql import SparkSession\n",
    "\n",
    "spark = SparkSession.builder.appName(\"NLP\").getOrCreate()"
   ]
  },
  {
   "cell_type": "markdown",
   "metadata": {},
   "source": [
    "## Tokenizer\n",
    "\n",
    "_**Documentacion Tokenizer:** https://spark.apache.org/docs/latest/api/python/reference/api/pyspark.ml.feature.Tokenizer.html_\n",
    "\n",
    "_**Documentacion RegexTokenizer:** https://spark.apache.org/docs/3.1.1/api/python/reference/api/pyspark.ml.feature.RegexTokenizer.html_"
   ]
  },
  {
   "cell_type": "code",
   "execution_count": 2,
   "metadata": {
    "tags": []
   },
   "outputs": [],
   "source": [
    "from pyspark.ml.feature import Tokenizer\n",
    "from pyspark.ml.feature import RegexTokenizer\n",
    "\n",
    "from pyspark.sql.functions import col\n",
    "from pyspark.sql.functions import udf\n",
    "\n",
    "from pyspark.sql.types import IntegerType"
   ]
  },
  {
   "cell_type": "code",
   "execution_count": 13,
   "metadata": {
    "tags": []
   },
   "outputs": [],
   "source": [
    "data = spark.createDataFrame(data = [(0, \"Hola mundo me gusta python y pyspark\"),\n",
    "                                     (1, \"PySpark no me convence mucho\"),\n",
    "                                     (2, \"Logistic,regression,models,decision,trees,gradient,boosting,classifier\"),\n",
    "                                     (3, \"Hello world i like python and pyspark\")],\n",
    "                             schema = [\"id\", \"sentence\"])"
   ]
  },
  {
   "cell_type": "code",
   "execution_count": 14,
   "metadata": {},
   "outputs": [
    {
     "name": "stdout",
     "output_type": "stream",
     "text": [
      "+---+----------------------------------------------------------------------+\n",
      "|id |sentence                                                              |\n",
      "+---+----------------------------------------------------------------------+\n",
      "|0  |Hola mundo me gusta python y pyspark                                  |\n",
      "|1  |PySpark no me convence mucho                                          |\n",
      "|2  |Logistic,regression,models,decision,trees,gradient,boosting,classifier|\n",
      "|3  |Hello world i like python and pyspark                                 |\n",
      "+---+----------------------------------------------------------------------+\n",
      "\n"
     ]
    }
   ],
   "source": [
    "data.show(truncate=False)"
   ]
  },
  {
   "cell_type": "code",
   "execution_count": 15,
   "metadata": {
    "tags": []
   },
   "outputs": [],
   "source": [
    "tokenizer = Tokenizer(inputCol = \"sentence\",\n",
    "                      outputCol = \"words\")\n",
    "\n",
    "regex_tokenizer = RegexTokenizer(inputCol = \"sentence\",\n",
    "                                 outputCol = \"words\",\n",
    "                                 pattern = \"\\\\W\")\n",
    "\n",
    "count_token = udf(f = lambda words: len(words),\n",
    "                  returnType = IntegerType())"
   ]
  },
  {
   "cell_type": "code",
   "execution_count": 16,
   "metadata": {
    "tags": []
   },
   "outputs": [
    {
     "data": {
      "text/html": [
       "<div>\n",
       "<style scoped>\n",
       "    .dataframe tbody tr th:only-of-type {\n",
       "        vertical-align: middle;\n",
       "    }\n",
       "\n",
       "    .dataframe tbody tr th {\n",
       "        vertical-align: top;\n",
       "    }\n",
       "\n",
       "    .dataframe thead th {\n",
       "        text-align: right;\n",
       "    }\n",
       "</style>\n",
       "<table border=\"1\" class=\"dataframe\">\n",
       "  <thead>\n",
       "    <tr style=\"text-align: right;\">\n",
       "      <th></th>\n",
       "      <th>sentence</th>\n",
       "      <th>words</th>\n",
       "      <th>tokens</th>\n",
       "    </tr>\n",
       "  </thead>\n",
       "  <tbody>\n",
       "    <tr>\n",
       "      <th>0</th>\n",
       "      <td>Hola mundo me gusta python y pyspark</td>\n",
       "      <td>[hola, mundo, me, gusta, python, y, pyspark]</td>\n",
       "      <td>7</td>\n",
       "    </tr>\n",
       "    <tr>\n",
       "      <th>1</th>\n",
       "      <td>PySpark no me convence mucho</td>\n",
       "      <td>[pyspark, no, me, convence, mucho]</td>\n",
       "      <td>5</td>\n",
       "    </tr>\n",
       "    <tr>\n",
       "      <th>2</th>\n",
       "      <td>Logistic,regression,models,decision,trees,grad...</td>\n",
       "      <td>[logistic,regression,models,decision,trees,gra...</td>\n",
       "      <td>1</td>\n",
       "    </tr>\n",
       "    <tr>\n",
       "      <th>3</th>\n",
       "      <td>Hello world i like python and pyspark</td>\n",
       "      <td>[hello, world, i, like, python, and, pyspark]</td>\n",
       "      <td>7</td>\n",
       "    </tr>\n",
       "  </tbody>\n",
       "</table>\n",
       "</div>"
      ],
      "text/plain": [
       "                                            sentence  \\\n",
       "0               Hola mundo me gusta python y pyspark   \n",
       "1                       PySpark no me convence mucho   \n",
       "2  Logistic,regression,models,decision,trees,grad...   \n",
       "3              Hello world i like python and pyspark   \n",
       "\n",
       "                                               words  tokens  \n",
       "0       [hola, mundo, me, gusta, python, y, pyspark]       7  \n",
       "1                 [pyspark, no, me, convence, mucho]       5  \n",
       "2  [logistic,regression,models,decision,trees,gra...       1  \n",
       "3      [hello, world, i, like, python, and, pyspark]       7  "
      ]
     },
     "execution_count": 16,
     "metadata": {},
     "output_type": "execute_result"
    }
   ],
   "source": [
    "tokenized = tokenizer.transform(data)\n",
    "\n",
    "tokenized.select(\"sentence\", \"words\").withColumn(\"tokens\", count_token(col(\"words\"))).toPandas()"
   ]
  },
  {
   "cell_type": "code",
   "execution_count": 17,
   "metadata": {
    "tags": []
   },
   "outputs": [
    {
     "name": "stdout",
     "output_type": "stream",
     "text": [
      "+----------------------------------------------------------------------+-------------------------------------------------------------------------------+------+\n",
      "|sentence                                                              |words                                                                          |tokens|\n",
      "+----------------------------------------------------------------------+-------------------------------------------------------------------------------+------+\n",
      "|Hola mundo me gusta python y pyspark                                  |[hola, mundo, me, gusta, python, y, pyspark]                                   |7     |\n",
      "|PySpark no me convence mucho                                          |[pyspark, no, me, convence, mucho]                                             |5     |\n",
      "|Logistic,regression,models,decision,trees,gradient,boosting,classifier|[logistic, regression, models, decision, trees, gradient, boosting, classifier]|8     |\n",
      "|Hello world i like python and pyspark                                 |[hello, world, i, like, python, and, pyspark]                                  |7     |\n",
      "+----------------------------------------------------------------------+-------------------------------------------------------------------------------+------+\n",
      "\n"
     ]
    }
   ],
   "source": [
    "regex_tokenized = regex_tokenizer.transform(data)\n",
    "\n",
    "regex_tokenized.select(\"sentence\", \"words\").withColumn(\"tokens\", count_token(col(\"words\"))).show(truncate = False)"
   ]
  },
  {
   "cell_type": "markdown",
   "metadata": {},
   "source": [
    "### StopWords\n",
    "_**Documentacion:** https://spark.apache.org/docs/latest/api/python/reference/api/pyspark.ml.feature.StopWordsRemover.html_"
   ]
  },
  {
   "cell_type": "code",
   "execution_count": 19,
   "metadata": {
    "tags": []
   },
   "outputs": [
    {
     "name": "stdout",
     "output_type": "stream",
     "text": [
      "+-------------------------------------------------------------------------------+-------------------------------------------------------------------------------+\n",
      "|words                                                                          |filtered                                                                       |\n",
      "+-------------------------------------------------------------------------------+-------------------------------------------------------------------------------+\n",
      "|[hola, mundo, me, gusta, python, y, pyspark]                                   |[hola, mundo, gusta, python, pyspark]                                          |\n",
      "|[pyspark, no, me, convence, mucho]                                             |[pyspark, no, convence, mucho]                                                 |\n",
      "|[logistic, regression, models, decision, trees, gradient, boosting, classifier]|[logistic, regression, models, decision, trees, gradient, boosting, classifier]|\n",
      "|[hello, world, i, like, python, and, pyspark]                                  |[hello, world, i, like, python, and, pyspark]                                  |\n",
      "+-------------------------------------------------------------------------------+-------------------------------------------------------------------------------+\n",
      "\n"
     ]
    }
   ],
   "source": [
    "from pyspark.ml.feature import StopWordsRemover\n",
    "\n",
    "remover = StopWordsRemover(inputCol = \"words\",\n",
    "                           outputCol = \"filtered\",\n",
    "                           stopWords= ['y', 'me'])\n",
    "\n",
    "remover.transform(regex_tokenized).select(\"words\", \"filtered\").show(truncate = False)"
   ]
  },
  {
   "cell_type": "markdown",
   "metadata": {},
   "source": [
    "## n-grams\n",
    "_**Documentacion:** https://spark.apache.org/docs/3.1.1/api/python/reference/api/pyspark.ml.feature.NGram.html_"
   ]
  },
  {
   "cell_type": "code",
   "execution_count": 22,
   "metadata": {
    "tags": []
   },
   "outputs": [
    {
     "name": "stdout",
     "output_type": "stream",
     "text": [
      "+---------------------------------------------------------------------------------------------------------------------------------------------------------------+\n",
      "|n_gram                                                                                                                                                         |\n",
      "+---------------------------------------------------------------------------------------------------------------------------------------------------------------+\n",
      "|[hola mundo me, mundo me gusta, me gusta python, gusta python y, python y pyspark]                                                                             |\n",
      "|[pyspark no me, no me convence, me convence mucho]                                                                                                             |\n",
      "|[logistic regression models, regression models decision, models decision trees, decision trees gradient, trees gradient boosting, gradient boosting classifier]|\n",
      "|[hello world i, world i like, i like python, like python and, python and pyspark]                                                                              |\n",
      "+---------------------------------------------------------------------------------------------------------------------------------------------------------------+\n",
      "\n"
     ]
    }
   ],
   "source": [
    "from pyspark.ml.feature import NGram\n",
    "\n",
    "n_gram = NGram(n = 3,\n",
    "               inputCol = \"words\",\n",
    "               outputCol = \"n_gram\")\n",
    "\n",
    "n_gram_data = n_gram.transform(regex_tokenized)\n",
    "\n",
    "n_gram_data.select(\"n_gram\").show(truncate = False)"
   ]
  },
  {
   "cell_type": "markdown",
   "metadata": {},
   "source": [
    "### TF-IDF\n",
    "_**Documentacion HashingTF:** https://spark.apache.org/docs/latest/api/python/reference/api/pyspark.mllib.feature.HashingTF.html_ \n",
    "\n",
    "_**Documentacion IDF:** https://spark.apache.org/docs/latest/api/python/reference/api/pyspark.mllib.feature.IDF.html_"
   ]
  },
  {
   "cell_type": "code",
   "execution_count": 23,
   "metadata": {
    "tags": []
   },
   "outputs": [
    {
     "name": "stdout",
     "output_type": "stream",
     "text": [
      "+---+----------------------------------------------------------------------+------------------------------------------------------------------------+\n",
      "|id |sentence                                                              |words                                                                   |\n",
      "+---+----------------------------------------------------------------------+------------------------------------------------------------------------+\n",
      "|0  |Hola mundo me gusta python y pyspark                                  |[hola, mundo, me, gusta, python, y, pyspark]                            |\n",
      "|1  |PySpark no me convence mucho                                          |[pyspark, no, me, convence, mucho]                                      |\n",
      "|2  |Logistic,regression,models,decision,trees,gradient,boosting,classifier|[logistic,regression,models,decision,trees,gradient,boosting,classifier]|\n",
      "|3  |Hello world i like python and pyspark                                 |[hello, world, i, like, python, and, pyspark]                           |\n",
      "+---+----------------------------------------------------------------------+------------------------------------------------------------------------+\n",
      "\n"
     ]
    }
   ],
   "source": [
    "from pyspark.ml.feature import HashingTF\n",
    "from pyspark.ml.feature import IDF\n",
    "\n",
    "tokenizer = Tokenizer(inputCol = \"sentence\", outputCol = \"words\")\n",
    "words_data = tokenizer.transform(data)\n",
    "words_data.show(truncate = False)"
   ]
  },
  {
   "cell_type": "code",
   "execution_count": 24,
   "metadata": {
    "tags": []
   },
   "outputs": [
    {
     "name": "stdout",
     "output_type": "stream",
     "text": [
      "+------------------------------------------------------------------------+-----------------------------------------------+\n",
      "|words                                                                   |raw_features                                   |\n",
      "+------------------------------------------------------------------------+-----------------------------------------------+\n",
      "|[hola, mundo, me, gusta, python, y, pyspark]                            |(20,[1,8,9,19],[1.0,1.0,2.0,3.0])              |\n",
      "|[pyspark, no, me, convence, mucho]                                      |(20,[1,4,9,16],[1.0,2.0,1.0,1.0])              |\n",
      "|[logistic,regression,models,decision,trees,gradient,boosting,classifier]|(20,[17],[1.0])                                |\n",
      "|[hello, world, i, like, python, and, pyspark]                           |(20,[0,1,9,10,11,16],[1.0,1.0,2.0,1.0,1.0,1.0])|\n",
      "+------------------------------------------------------------------------+-----------------------------------------------+\n",
      "\n"
     ]
    }
   ],
   "source": [
    "hashingTF = HashingTF(inputCol = \"words\",\n",
    "                      outputCol = \"raw_features\",\n",
    "                      numFeatures = 20)\n",
    "\n",
    "featurized_data = hashingTF.transform(words_data)\n",
    "\n",
    "featurized_data.select(\"words\", \"raw_features\").show(truncate = False)"
   ]
  },
  {
   "cell_type": "code",
   "execution_count": 25,
   "metadata": {
    "tags": []
   },
   "outputs": [
    {
     "name": "stdout",
     "output_type": "stream",
     "text": [
      "+-----------------------------------------------+-------------------------------------------------------------------------------------------------------------------------------------------+\n",
      "|raw_features                                   |features                                                                                                                                   |\n",
      "+-----------------------------------------------+-------------------------------------------------------------------------------------------------------------------------------------------+\n",
      "|(20,[1,8,9,19],[1.0,1.0,2.0,3.0])              |(20,[1,8,9,19],[0.22314355131420976,0.9162907318741551,0.44628710262841953,2.7488721956224653])                                            |\n",
      "|(20,[1,4,9,16],[1.0,2.0,1.0,1.0])              |(20,[1,4,9,16],[0.22314355131420976,1.8325814637483102,0.22314355131420976,0.5108256237659907])                                            |\n",
      "|(20,[17],[1.0])                                |(20,[17],[0.9162907318741551])                                                                                                             |\n",
      "|(20,[0,1,9,10,11,16],[1.0,1.0,2.0,1.0,1.0,1.0])|(20,[0,1,9,10,11,16],[0.9162907318741551,0.22314355131420976,0.44628710262841953,0.9162907318741551,0.9162907318741551,0.5108256237659907])|\n",
      "+-----------------------------------------------+-------------------------------------------------------------------------------------------------------------------------------------------+\n",
      "\n"
     ]
    }
   ],
   "source": [
    "idf = IDF(inputCol = \"raw_features\",\n",
    "          outputCol = \"features\")\n",
    "\n",
    "rescaled_data = idf.fit(featurized_data).transform(featurized_data)\n",
    "\n",
    "rescaled_data.select(\"raw_features\", \"features\").show(truncate = False)"
   ]
  },
  {
   "cell_type": "markdown",
   "metadata": {},
   "source": [
    "## CountVectorizer\n",
    "\n",
    "_**Documentacion:** https://spark.apache.org/docs/latest/api/python/reference/api/pyspark.ml.feature.CountVectorizer.html_"
   ]
  },
  {
   "cell_type": "code",
   "execution_count": 26,
   "metadata": {
    "tags": []
   },
   "outputs": [
    {
     "name": "stdout",
     "output_type": "stream",
     "text": [
      "+---+---------------+-------------------------+\n",
      "|id |words          |features                 |\n",
      "+---+---------------+-------------------------+\n",
      "|0  |[a, b, c]      |(3,[0,1,2],[1.0,1.0,1.0])|\n",
      "|1  |[a, b, b, c, a]|(3,[0,1,2],[2.0,2.0,1.0])|\n",
      "+---+---------------+-------------------------+\n",
      "\n"
     ]
    }
   ],
   "source": [
    "from pyspark.ml.feature import CountVectorizer\n",
    "\n",
    "df = spark.createDataFrame(data = [(0, \"a b c\".split(\" \")),\n",
    "                                   (1, \"a b b c a\".split(\" \"))],\n",
    "                           schema = [\"id\", \"words\"])\n",
    "\n",
    "cv = CountVectorizer(inputCol = \"words\",\n",
    "                     outputCol = \"features\",\n",
    "                     vocabSize = 3,\n",
    "                     minDF = 2.0)\n",
    "\n",
    "model = cv.fit(df)\n",
    "\n",
    "result = model.transform(df)\n",
    "result.show(truncate = False)"
   ]
  },
  {
   "cell_type": "code",
   "execution_count": null,
   "metadata": {},
   "outputs": [],
   "source": [
    "################################################################################################################################"
   ]
  }
 ],
 "metadata": {
  "kernelspec": {
   "display_name": "hackaboss",
   "language": "python",
   "name": "hackaboss"
  },
  "language_info": {
   "codemirror_mode": {
    "name": "ipython",
    "version": 3
   },
   "file_extension": ".py",
   "mimetype": "text/x-python",
   "name": "python",
   "nbconvert_exporter": "python",
   "pygments_lexer": "ipython3",
   "version": "3.9.12"
  }
 },
 "nbformat": 4,
 "nbformat_minor": 4
}
