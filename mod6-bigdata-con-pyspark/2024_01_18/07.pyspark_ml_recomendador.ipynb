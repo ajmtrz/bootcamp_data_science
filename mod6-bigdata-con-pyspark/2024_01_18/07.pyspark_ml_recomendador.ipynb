{
 "cells": [
  {
   "cell_type": "markdown",
   "id": "9701e70c",
   "metadata": {},
   "source": [
    "## PySpark - Recomendadores - Filtrado Colaborativo"
   ]
  },
  {
   "cell_type": "code",
   "execution_count": null,
   "id": "25f74087",
   "metadata": {},
   "outputs": [],
   "source": [
    "!pip install pyspark"
   ]
  },
  {
   "cell_type": "code",
   "execution_count": 2,
   "id": "be8f51de",
   "metadata": {
    "tags": []
   },
   "outputs": [],
   "source": [
    "from pyspark.sql import SparkSession\n",
    "\n",
    "spark = SparkSession.builder.appName(\"recomendador\").getOrCreate()"
   ]
  },
  {
   "cell_type": "code",
   "execution_count": 3,
   "id": "13c7118c",
   "metadata": {
    "tags": []
   },
   "outputs": [],
   "source": [
    "from pyspark.ml.recommendation import ALS\n",
    "from pyspark.ml.evaluation import RegressionEvaluator"
   ]
  },
  {
   "cell_type": "markdown",
   "id": "8ca6d65f",
   "metadata": {},
   "source": [
    "### Alternating Least Squares - ALS\n",
    "\n",
    "ALS se utiliza para resolver el problema de la factorización matricial en sistemas de recomendación.\n",
    "El objetivo de la factorización matricial en este contexto es encontrar dos matrices, una de **usuarios** y otra de **ítems**, que cuando se multiplican entre sí, aproximan la matriz de valoraciones (o interacciones) entre usuarios e ítems.\n",
    "\n",
    "El algoritmo ALS busca encontrar estas dos matrices de manera iterativa, y lo hace a través de dos pasos que se alternan en cada iteración:\n",
    "\n",
    "- Fijar la matriz de usuarios y resolver para la matriz de ítems. En este paso, se utiliza la regresión lineal para ajustar una matriz de ítems que pueda explicar la matriz de valoraciones conocidas. Para hacerlo, se utiliza la matriz de usuarios fija para predecir la matriz de valoraciones que debería haber para cada ítem. Una vez que se tienen estas predicciones, se ajusta la matriz de ítems para que las predicciones se ajusten lo mejor posible a la matriz de valoraciones conocida.\n",
    "\n",
    "- Fijar la matriz de ítems y resolver para la matriz de usuarios. En este paso, se utiliza el mismo proceso que en el paso anterior, pero ahora se fija la matriz de ítems y se ajusta la matriz de usuarios para que las predicciones de valoraciones se ajusten lo mejor posible a la matriz de valoraciones conocida.\n",
    "\n",
    "Estos dos pasos se repiten iterativamente hasta que se alcanza un punto de convergencia, es decir, hasta que las matrices de usuarios e ítems que se obtienen en una iteración no son muy diferentes de las obtenidas en la iteración anterior.\n",
    "\n",
    "Es importante destacar que el algoritmo ALS no es determinista, es decir, que puede arrojar resultados ligeramente diferentes en cada ejecución, ya que en cada iteración se utilizan valores aleatorios para inicializar las matrices de usuarios e ítems.\n"
   ]
  },
  {
   "cell_type": "code",
   "execution_count": 4,
   "id": "1b9b2bb3",
   "metadata": {
    "tags": []
   },
   "outputs": [],
   "source": [
    "df = spark.read.csv(path        = \"../data/ratings.csv\",\n",
    "                    inferSchema = True,\n",
    "                    header      = True)"
   ]
  },
  {
   "cell_type": "code",
   "execution_count": 5,
   "id": "c8dfd9a7",
   "metadata": {
    "tags": []
   },
   "outputs": [
    {
     "name": "stdout",
     "output_type": "stream",
     "text": [
      "+------+-------+------+----------+\n",
      "|userId|movieId|rating|timestamp |\n",
      "+------+-------+------+----------+\n",
      "|1     |169    |2.5   |1204927694|\n",
      "|1     |2471   |3.0   |1204927438|\n",
      "|1     |48516  |5.0   |1204927435|\n",
      "|2     |2571   |3.5   |1436165433|\n",
      "|2     |109487 |4.0   |1436165496|\n",
      "+------+-------+------+----------+\n",
      "only showing top 5 rows\n",
      "\n"
     ]
    }
   ],
   "source": [
    "df.show(5, truncate = False)"
   ]
  },
  {
   "cell_type": "code",
   "execution_count": 6,
   "id": "13bfd0c3",
   "metadata": {
    "tags": []
   },
   "outputs": [],
   "source": [
    "# Eliminamos esta columna porque no la necesitamos y ahorramos espacio.\n",
    "\n",
    "df = df.drop(\"timestamp\")"
   ]
  },
  {
   "cell_type": "code",
   "execution_count": 7,
   "id": "26453341",
   "metadata": {
    "tags": []
   },
   "outputs": [
    {
     "data": {
      "text/plain": [
       "22884377"
      ]
     },
     "execution_count": 7,
     "metadata": {},
     "output_type": "execute_result"
    }
   ],
   "source": [
    "df.count()"
   ]
  },
  {
   "cell_type": "code",
   "execution_count": 8,
   "id": "30661235",
   "metadata": {
    "tags": []
   },
   "outputs": [
    {
     "name": "stdout",
     "output_type": "stream",
     "text": [
      "Tamaño original: 22884377\n",
      "Tamaño nuevo: 925160\n"
     ]
    }
   ],
   "source": [
    "# Cortamos el df porque no se puede ejecutar por el tamaño en Kaggle.\n",
    "\n",
    "print(f'Tamaño original: {df.count()}')\n",
    "\n",
    "df = df.filter(df[\"userId\"] < 10000)\n",
    "\n",
    "print(f'Tamaño nuevo: {df.filter(df[\"userId\"] < 10000).count()}')"
   ]
  },
  {
   "cell_type": "code",
   "execution_count": 9,
   "id": "42c93ab4",
   "metadata": {
    "tags": []
   },
   "outputs": [
    {
     "name": "stdout",
     "output_type": "stream",
     "text": [
      "+------+-------+------+\n",
      "|userId|movieId|rating|\n",
      "+------+-------+------+\n",
      "|     1|    169|   2.5|\n",
      "|     1|   2471|   3.0|\n",
      "|     1|  48516|   5.0|\n",
      "|     2|   2571|   3.5|\n",
      "|     2| 109487|   4.0|\n",
      "|     2| 112552|   5.0|\n",
      "|     2| 112556|   4.0|\n",
      "|     3|    356|   4.0|\n",
      "|     3|   2394|   4.0|\n",
      "|     3|   2431|   5.0|\n",
      "|     3|   2445|   4.0|\n",
      "|     4|     16|   4.0|\n",
      "|     4|     39|   4.0|\n",
      "|     4|     45|   4.0|\n",
      "|     4|     47|   2.0|\n",
      "|     4|     94|   5.0|\n",
      "|     4|    101|   4.0|\n",
      "|     4|    246|   4.0|\n",
      "|     4|    288|   2.0|\n",
      "|     4|    296|   4.0|\n",
      "+------+-------+------+\n",
      "only showing top 20 rows\n",
      "\n"
     ]
    }
   ],
   "source": [
    "df.show()"
   ]
  },
  {
   "cell_type": "code",
   "execution_count": 10,
   "id": "13ec17c5",
   "metadata": {
    "tags": []
   },
   "outputs": [
    {
     "name": "stdout",
     "output_type": "stream",
     "text": [
      "+-------+------------------+------------------+------------------+\n",
      "|summary|            userId|           movieId|            rating|\n",
      "+-------+------------------+------------------+------------------+\n",
      "|  count|            925160|            925160|            925160|\n",
      "|   mean| 5003.370057071209|12305.195689394266|3.5001999654113884|\n",
      "| stddev|2882.6169030661954| 25398.89494107917|1.0738234897489394|\n",
      "|    min|                 1|                 1|               0.5|\n",
      "|    max|              9999|            151507|               5.0|\n",
      "+-------+------------------+------------------+------------------+\n",
      "\n"
     ]
    }
   ],
   "source": [
    "df.describe().show()"
   ]
  },
  {
   "cell_type": "code",
   "execution_count": 11,
   "id": "95ebbb22",
   "metadata": {
    "tags": []
   },
   "outputs": [],
   "source": [
    "train, test = df.randomSplit([0.8, 0.2], seed = 42)"
   ]
  },
  {
   "cell_type": "code",
   "execution_count": 12,
   "id": "4d5d6536",
   "metadata": {
    "tags": []
   },
   "outputs": [],
   "source": [
    "# Eliminamos el df original para ahorrar espacio.\n",
    "\n",
    "del df"
   ]
  },
  {
   "cell_type": "code",
   "execution_count": 13,
   "id": "6ea5987b",
   "metadata": {
    "tags": []
   },
   "outputs": [],
   "source": [
    "als = ALS(maxIter           = 10,\n",
    "          regParam          = 0.01,\n",
    "          userCol           = \"userId\",\n",
    "          itemCol           = \"movieId\",\n",
    "          ratingCol         = \"rating\",\n",
    "          coldStartStrategy = \"drop\")\n",
    "\n",
    "model  = als.fit(train)"
   ]
  },
  {
   "cell_type": "code",
   "execution_count": 14,
   "id": "8831cb3f",
   "metadata": {
    "tags": []
   },
   "outputs": [],
   "source": [
    "predictions = model.transform(test)"
   ]
  },
  {
   "cell_type": "code",
   "execution_count": 15,
   "id": "28dfe364",
   "metadata": {
    "tags": []
   },
   "outputs": [
    {
     "name": "stdout",
     "output_type": "stream",
     "text": [
      "+------+-------+------+----------+\n",
      "|userId|movieId|rating|prediction|\n",
      "+------+-------+------+----------+\n",
      "|   148|    185|   3.0| 3.0008745|\n",
      "|   148|    296|   5.0| 3.9802558|\n",
      "|   148|    592|   3.0|  3.479982|\n",
      "|   463|    293|   4.0| 4.4105816|\n",
      "|   463|    296|   4.0| 4.1613636|\n",
      "|   463|    593|   4.0|  4.106948|\n",
      "|   463|   1136|   4.0|  4.132324|\n",
      "|   463|   2028|   4.0|  4.058983|\n",
      "|   463|   2571|   4.0|  4.166133|\n",
      "|   471|   1252|   5.0|  4.658882|\n",
      "|   471|   1293|   5.0| 4.5802517|\n",
      "|   471|   4886|   4.0| 3.5708985|\n",
      "|   471|   7153|   3.0| 3.1984956|\n",
      "|   496|   2858|   4.5|  4.473613|\n",
      "|   833|    742|   3.5| 5.2569532|\n",
      "|   833|   4052|   4.0| 3.6657681|\n",
      "|   833|   4226|   4.5| 4.2410264|\n",
      "|   833|   6303|   3.0| 3.7094643|\n",
      "|   833|   7153|   4.0| 3.8569846|\n",
      "|  1088|    110|   5.0|   3.86134|\n",
      "+------+-------+------+----------+\n",
      "only showing top 20 rows\n",
      "\n"
     ]
    }
   ],
   "source": [
    "predictions.show()"
   ]
  },
  {
   "cell_type": "code",
   "execution_count": 16,
   "id": "a7d32d5d",
   "metadata": {
    "tags": []
   },
   "outputs": [
    {
     "name": "stdout",
     "output_type": "stream",
     "text": [
      "RMSE: 0.9398505836037273\n"
     ]
    }
   ],
   "source": [
    "evaluator = RegressionEvaluator(metricName    = \"rmse\",\n",
    "                                labelCol      = \"rating\",\n",
    "                                predictionCol = \"prediction\")\n",
    "\n",
    "rmse = evaluator.evaluate(predictions)\n",
    "\n",
    "print(f\"RMSE: {rmse}\")"
   ]
  },
  {
   "cell_type": "code",
   "execution_count": 17,
   "id": "71a9e1d9",
   "metadata": {
    "tags": []
   },
   "outputs": [
    {
     "name": "stdout",
     "output_type": "stream",
     "text": [
      "+-------+------+\n",
      "|movieId|userId|\n",
      "+-------+------+\n",
      "|    783|    42|\n",
      "|   1197|    42|\n",
      "|  30810|    42|\n",
      "|  54259|    42|\n",
      "+-------+------+\n",
      "\n"
     ]
    }
   ],
   "source": [
    "usuario_activo = test.filter(test[\"userId\"] == 42).select([\"movieId\", \"userId\"])\n",
    "\n",
    "usuario_activo.show()"
   ]
  },
  {
   "cell_type": "code",
   "execution_count": 18,
   "id": "56430f07",
   "metadata": {
    "tags": []
   },
   "outputs": [
    {
     "name": "stdout",
     "output_type": "stream",
     "text": [
      "+-------+------+----------+\n",
      "|movieId|userId|prediction|\n",
      "+-------+------+----------+\n",
      "|  54259|    42|  4.892921|\n",
      "|   1197|    42| 4.3784285|\n",
      "|  30810|    42| 4.2532983|\n",
      "|    783|    42| 3.5511367|\n",
      "+-------+------+----------+\n",
      "\n"
     ]
    }
   ],
   "source": [
    "recommendations = model.transform(usuario_activo)\n",
    "\n",
    "recommendations.orderBy(\"prediction\", ascending = False).show()"
   ]
  },
  {
   "cell_type": "code",
   "execution_count": 20,
   "id": "a26ff375-c25f-4a80-adb1-c2a6d1c885e1",
   "metadata": {},
   "outputs": [
    {
     "name": "stdout",
     "output_type": "stream",
     "text": [
      "+------+-------+------+\n",
      "|userId|movieId|rating|\n",
      "+------+-------+------+\n",
      "|    42|    203|   5.0|\n",
      "|    42|    585|   0.5|\n",
      "|    42|    661|   4.5|\n",
      "|    42|    673|   3.5|\n",
      "|    42|    720|   5.0|\n",
      "|    42|    724|   4.0|\n",
      "|    42|    805|   4.0|\n",
      "|    42|    914|   5.0|\n",
      "|    42|   1198|   5.0|\n",
      "|    42|   1223|   4.0|\n",
      "|    42|   1271|   4.0|\n",
      "|    42|   2080|   2.0|\n",
      "|    42|   2294|   2.0|\n",
      "|    42|   3033|   3.5|\n",
      "|    42|   7502|   4.0|\n",
      "|    42|  31658|   5.0|\n",
      "|    42|  33004|   5.0|\n",
      "|    42|  79132|   5.0|\n",
      "|    42|  83158|   5.0|\n",
      "+------+-------+------+\n",
      "\n"
     ]
    }
   ],
   "source": [
    "train.filter(train['userId']==42).show()"
   ]
  },
  {
   "cell_type": "code",
   "execution_count": null,
   "id": "9c943835",
   "metadata": {
    "tags": []
   },
   "outputs": [],
   "source": [
    "################################################################################################################################"
   ]
  }
 ],
 "metadata": {
  "kernelspec": {
   "display_name": "hackaboss",
   "language": "python",
   "name": "hackaboss"
  },
  "language_info": {
   "codemirror_mode": {
    "name": "ipython",
    "version": 3
   },
   "file_extension": ".py",
   "mimetype": "text/x-python",
   "name": "python",
   "nbconvert_exporter": "python",
   "pygments_lexer": "ipython3",
   "version": "3.9.12"
  }
 },
 "nbformat": 4,
 "nbformat_minor": 5
}
