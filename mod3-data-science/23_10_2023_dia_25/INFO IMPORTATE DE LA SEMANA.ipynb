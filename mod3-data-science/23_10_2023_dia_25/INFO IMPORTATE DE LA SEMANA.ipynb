{
 "cells": [
  {
   "cell_type": "markdown",
   "id": "d0120e38-2259-46a3-8305-c93c05b8fbe1",
   "metadata": {},
   "source": [
    "## Acciones y librerías que hay que tener instaladas para que funcionen los notbooks de esta semana "
   ]
  },
  {
   "cell_type": "markdown",
   "id": "0a03a11e-2783-4806-90b8-17784d3d4a02",
   "metadata": {},
   "source": [
    "**1. Debemos de crearnos una cuenta y solicitar un API_KEY en la siguiente página**\n",
    "\n",
    "Debemos crearnos la cuenta e iniciar un proyecto.\n",
    "\n",
    "Una vez creada la cuenta guardar el APY_KEY en un archivo externo, junto con los datos de la cuenta CLIENT_ID e CLIENT_SECRET"
   ]
  },
  {
   "cell_type": "markdown",
   "id": "b4773aff-7a0c-4e78-b31f-d2b45ac294da",
   "metadata": {},
   "source": [
    "https://developer.foursquare.com/"
   ]
  },
  {
   "cell_type": "markdown",
   "id": "b5c37a81-25a2-4fca-97dc-e36658df6db8",
   "metadata": {},
   "source": [
    "**2. Crear una cuenta en Airtable y solicitar un token de acceso personal**\n",
    "\n",
    "*Necesitareis esta `cuenta` para poder trabajar en el proyecto de la semana que viene*"
   ]
  },
  {
   "cell_type": "markdown",
   "id": "a0a3083e-3513-41b8-ac13-87d6d51edec8",
   "metadata": {},
   "source": [
    "https://airtable.com/developers/web/api/introduction"
   ]
  },
  {
   "cell_type": "markdown",
   "id": "d1e1f0e4-29a6-4939-b308-b4b28d90269b",
   "metadata": {},
   "source": [
    "## Librerias necesarias "
   ]
  },
  {
   "cell_type": "markdown",
   "id": "56cee5fc-e0b8-49bf-9ab8-18d79d256255",
   "metadata": {},
   "source": [
    "## 1. Wordcloud"
   ]
  },
  {
   "cell_type": "markdown",
   "id": "62f78043-6367-476d-b15b-785aaec9a772",
   "metadata": {},
   "source": [
    "\n",
    "    pip install wordcloud"
   ]
  },
  {
   "cell_type": "markdown",
   "id": "3337508c-b1cb-468e-993f-ee7e39240f95",
   "metadata": {},
   "source": [
    "## 2. PIL"
   ]
  },
  {
   "cell_type": "markdown",
   "id": "c4bc0c1b-2c36-41e3-8d05-4e4aa8ec8cd2",
   "metadata": {},
   "source": [
    "     pip install pillow"
   ]
  },
  {
   "cell_type": "code",
   "execution_count": null,
   "id": "9977658c-6f06-4e58-89e0-607628dce975",
   "metadata": {},
   "outputs": [],
   "source": []
  }
 ],
 "metadata": {
  "kernelspec": {
   "display_name": "Python 3 (ipykernel)",
   "language": "python",
   "name": "python3"
  },
  "language_info": {
   "codemirror_mode": {
    "name": "ipython",
    "version": 3
   },
   "file_extension": ".py",
   "mimetype": "text/x-python",
   "name": "python",
   "nbconvert_exporter": "python",
   "pygments_lexer": "ipython3",
   "version": "3.9.7"
  }
 },
 "nbformat": 4,
 "nbformat_minor": 5
}
