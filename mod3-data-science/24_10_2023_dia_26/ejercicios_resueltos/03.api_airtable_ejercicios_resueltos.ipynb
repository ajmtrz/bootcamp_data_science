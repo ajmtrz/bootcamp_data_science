{
 "cells": [
  {
   "cell_type": "markdown",
   "id": "db36edab",
   "metadata": {},
   "source": [
    "## Ejercicios Airtable"
   ]
  },
  {
   "cell_type": "code",
   "execution_count": null,
   "id": "fb2721a7",
   "metadata": {},
   "outputs": [],
   "source": [
    "import numpy as np\n",
    "import pandas as pd\n",
    "from time import sleep\n",
    "\n",
    "import requests\n",
    "\n",
    "from pprint import pprint"
   ]
  },
  {
   "cell_type": "markdown",
   "id": "c0132d97",
   "metadata": {},
   "source": [
    "### Ejercicio 1:\n",
    "- Crear una tabla en **Airtable** y cargar los datos de las recetas de ensaladas del ejercicios de **Web Scraping** con **BeautifulSoup**.\n",
    "\n",
    "- Si tienes algúna otra información o datos puedes usarlos para hacer este ejercicio.\n",
    "\n",
    "- **Recuerda que el nombre y el tipo de dato de las columnas del DataFrame deben ser iguales a las columnas de Airtable.**"
   ]
  },
  {
   "cell_type": "code",
   "execution_count": null,
   "id": "0a6a2a81",
   "metadata": {},
   "outputs": [],
   "source": [
    "API_KEY = \"keyvnQcc1FFCaFsDR\" # Usuario\n",
    "\n",
    "BASE_ID = \"appMXgIxF5B3XuhQL\" # Base: Tabla API\n",
    "\n",
    "TABLE_ID = \"tblWOKyz5kU18ueit\" # Tabla: Ensaladas API\n",
    "\n",
    "airtable_base_url = \"https://api.airtable.com/v0\"\n",
    "\n",
    "# Headers\n",
    "headers = {\"Authorization\" : f\"Bearer {API_KEY}\",\n",
    "           \"Content-Type\"  : \"application/json\"}"
   ]
  },
  {
   "cell_type": "code",
   "execution_count": null,
   "id": "cae30f63",
   "metadata": {},
   "outputs": [],
   "source": [
    "# Leemos el DataFrame y nos seguramos que el tipo de dato y el nombre de cada columna sea igual al de las columnas en Airtable\n",
    "df = pd.read_csv(\"todas_recetas.csv\")\n",
    "\n",
    "df.info()"
   ]
  },
  {
   "cell_type": "code",
   "execution_count": null,
   "id": "1f4ce5c4",
   "metadata": {},
   "outputs": [],
   "source": [
    "# Llenamos todos los NaN's\n",
    "\n",
    "df.fillna(\"\", inplace = True)"
   ]
  },
  {
   "cell_type": "code",
   "execution_count": null,
   "id": "b8476970",
   "metadata": {},
   "outputs": [],
   "source": [
    "df.info()"
   ]
  },
  {
   "cell_type": "code",
   "execution_count": null,
   "id": "fc634bb2",
   "metadata": {},
   "outputs": [],
   "source": [
    "df = df[df.columns].astype(str)"
   ]
  },
  {
   "cell_type": "code",
   "execution_count": null,
   "id": "2b2057be",
   "metadata": {},
   "outputs": [],
   "source": [
    "# Create Records\n",
    "\n",
    "# Endpoint\n",
    "endpoint = f\"{airtable_base_url}/{BASE_ID}/{TABLE_ID}\"\n",
    "\n",
    "print(endpoint)"
   ]
  },
  {
   "cell_type": "code",
   "execution_count": null,
   "id": "af9f323f",
   "metadata": {},
   "outputs": [],
   "source": [
    "datos_json = [{\"fields\" : df.iloc[i, :].to_dict()} for i in range(df.shape[0])]\n",
    "\n",
    "pprint(datos_json)"
   ]
  },
  {
   "cell_type": "code",
   "execution_count": null,
   "id": "b109baa7",
   "metadata": {},
   "outputs": [],
   "source": [
    "for i in range(0, df.shape[0], 10):\n",
    "    \n",
    "    data = {\"records\" : datos_json[i : i + 10]}\n",
    "    \n",
    "    response = requests.post(url = endpoint, json = data, headers = headers) # POST\n",
    "    \n",
    "    sleep(0.5)"
   ]
  },
  {
   "cell_type": "markdown",
   "id": "71d8d5fd",
   "metadata": {},
   "source": [
    "### Ejercicio 2:\n",
    "- Extrae todos los datos de la tabla de **Airtable** y transformalo en un DataFrame.\n",
    "- Elimina la tabla usando el endpoint **DELETE**."
   ]
  },
  {
   "cell_type": "code",
   "execution_count": null,
   "id": "3e503720",
   "metadata": {},
   "outputs": [],
   "source": [
    "# GET Records\n",
    "\n",
    "params = {\"offset\" : None}\n",
    "\n",
    "df_airtable = pd.DataFrame()\n",
    "\n",
    "while params.get(\"offset\") != None or df_airtable.shape[0] == 0:\n",
    "    \n",
    "    response = requests.get(url = endpoint, headers = headers, params = params)\n",
    "    \n",
    "    print(response.url)\n",
    "    \n",
    "    print(f\"response: {response.status_code}\")\n",
    "    \n",
    "    params[\"offset\"] = response.json().get(\"offset\")\n",
    "    \n",
    "    print(params.get(\"offset\"))\n",
    "    \n",
    "    df_airtable = pd.concat([df_airtable, pd.json_normalize(response.json()[\"records\"])], ignore_index = True)\n",
    "    \n",
    "    sleep(0.5)\n",
    "    \n",
    "df_airtable.shape[0]"
   ]
  },
  {
   "cell_type": "code",
   "execution_count": null,
   "id": "2b6b5ea9",
   "metadata": {},
   "outputs": [],
   "source": [
    "df_airtable.columns = [x.split(\".\")[1] if \".\" in x else x for x in df_airtable.columns]\n",
    "\n",
    "df_airtable"
   ]
  },
  {
   "cell_type": "code",
   "execution_count": null,
   "id": "7ff2886c",
   "metadata": {},
   "outputs": [],
   "source": [
    "# DELETE Records\n",
    "\n",
    "for i in range(0, df_airtable.shape[0], 10):\n",
    "\n",
    "    params = \"&\".join([f\"records[]={id_}\" for id_ in df_airtable[\"id\"][i : i + 10]])\n",
    "    \n",
    "    response = requests.delete(url = endpoint, params = params, headers = headers) # DELETE\n",
    "\n",
    "    print(f\"response: {response.status_code}\")\n",
    "\n",
    "    print(f\"endpoint: {response.url}\")\n",
    "\n",
    "#     print(\"-\"*120)\n",
    "\n",
    "#     pprint(response.json(), sort_dicts = False)\n",
    "\n",
    "    print(\"-\"*120)\n",
    "    \n",
    "    sleep(0.5)"
   ]
  },
  {
   "cell_type": "code",
   "execution_count": null,
   "id": "1ec241da",
   "metadata": {},
   "outputs": [],
   "source": [
    "################################################################################################################################"
   ]
  }
 ],
 "metadata": {
  "kernelspec": {
   "display_name": "Python 3 (ipykernel)",
   "language": "python",
   "name": "python3"
  },
  "language_info": {
   "codemirror_mode": {
    "name": "ipython",
    "version": 3
   },
   "file_extension": ".py",
   "mimetype": "text/x-python",
   "name": "python",
   "nbconvert_exporter": "python",
   "pygments_lexer": "ipython3",
   "version": "3.9.12"
  }
 },
 "nbformat": 4,
 "nbformat_minor": 5
}
