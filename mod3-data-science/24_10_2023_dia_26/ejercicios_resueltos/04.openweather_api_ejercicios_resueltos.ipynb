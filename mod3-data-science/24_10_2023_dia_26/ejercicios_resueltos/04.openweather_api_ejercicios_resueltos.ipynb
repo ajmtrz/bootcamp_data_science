{
 "cells": [
  {
   "cell_type": "markdown",
   "id": "98187123",
   "metadata": {},
   "source": [
    "## OpenWeather API - Ejercicios"
   ]
  },
  {
   "cell_type": "code",
   "execution_count": null,
   "id": "09c5f01d",
   "metadata": {},
   "outputs": [],
   "source": [
    "import numpy as np\n",
    "import pandas as pd\n",
    "import matplotlib.pyplot as plt\n",
    "import seaborn as sns\n",
    "\n",
    "import plotly.express as px\n",
    "import folium\n",
    "\n",
    "import requests\n",
    "\n",
    "from datetime import datetime\n",
    "from time import sleep\n",
    "\n",
    "from pprint import pprint"
   ]
  },
  {
   "cell_type": "code",
   "execution_count": null,
   "id": "b177ac77",
   "metadata": {},
   "outputs": [],
   "source": [
    "def get_current_weather(lat, lon, api_key):\n",
    "    \n",
    "    params = {\"appid\" : api_key,\n",
    "              \"lat\"   : lat,\n",
    "              \"lon\"   : lon,\n",
    "              \"units\" : \"metric\"}\n",
    "\n",
    "    endpoint = f\"https://api.openweathermap.org/data/2.5/weather\"\n",
    "\n",
    "    response = requests.get(url = endpoint, params = params)\n",
    "\n",
    "    return response.json()"
   ]
  },
  {
   "cell_type": "code",
   "execution_count": null,
   "id": "b496a286",
   "metadata": {},
   "outputs": [],
   "source": [
    "api_key = \"cd31574dc65a379909d4f921033a7e96\""
   ]
  },
  {
   "cell_type": "markdown",
   "id": "254a3f26",
   "metadata": {},
   "source": [
    "### Ejercicio 01:\n",
    "\n",
    "- Usando la función _**get_current_weather()**_ extrae la información principal de 10 países.\n",
    "- Muestra la información en un mapa de **folium**.\n",
    "- Muestra la diferencia de temperatura en un mapa **Choropleth** de esos 10 países."
   ]
  },
  {
   "cell_type": "code",
   "execution_count": null,
   "id": "e44c7331",
   "metadata": {},
   "outputs": [],
   "source": [
    "# Info\n",
    "\n",
    "datos = [[\"Spain\"      , 40.4637, -3.7492],\n",
    "         [\"Portugal\"   , 39.3999, -8.2245],\n",
    "         [\"England\"    , 55.3781, -3.4360],\n",
    "         [\"Germany\"    , 51.1657, 10.4515],\n",
    "         [\"France\"     , 46.2276, 2.2137 ],\n",
    "         [\"Italy\"      , 41.8719, 12.5674],\n",
    "         [\"Greece\"     , 39.0742, 21.8243],\n",
    "         [\"Netherlands\", 52.1326, 5.2913 ],\n",
    "         [\"Swiss\"      , 46.8182, 8.2275 ],\n",
    "         [\"Sweden\"     , 60.1282, 18.6435]]\n",
    "\n",
    "weather_data = list()\n",
    "\n",
    "for pais, lat, lon in datos:\n",
    "    \n",
    "    data = get_current_weather(lat = lat, lon = lon, api_key = api_key)\n",
    "    \n",
    "    description = data[\"weather\"][0][\"description\"]\n",
    "    temp        = data[\"main\"][\"temp\"]\n",
    "    feels_like  = data[\"main\"][\"feels_like\"]\n",
    "    temp_min    = data[\"main\"][\"temp_min\"]\n",
    "    temp_max    = data[\"main\"][\"temp_max\"]\n",
    "    pressure    = data[\"main\"][\"pressure\"]\n",
    "    humidity    = data[\"main\"][\"humidity\"]\n",
    "    wind_speed  = data[\"wind\"][\"speed\"]\n",
    "    dt          = data[\"dt\"]\n",
    "    lat         = data[\"coord\"][\"lat\"]\n",
    "    lon         = data[\"coord\"][\"lon\"]\n",
    "    name        = data[\"name\"]\n",
    "\n",
    "    weather_data.append([pais, description, temp, feels_like, temp_min, \n",
    "                         temp_max, pressure, humidity, wind_speed, dt, lat, lon])\n",
    "    \n",
    "df_weather = pd.DataFrame(data    = weather_data,\n",
    "                          columns = [\"pais\", \"description\", \"temp\", \"feels_like\", \"temp_min\", \"temp_max\",\n",
    "                                     \"pressure\", \"humidity\", \"wind_speed\", \"dt\", \"lat\", \"lon\"])"
   ]
  },
  {
   "cell_type": "code",
   "execution_count": null,
   "id": "b8ad1f4c",
   "metadata": {},
   "outputs": [],
   "source": [
    "df_weather"
   ]
  },
  {
   "cell_type": "code",
   "execution_count": null,
   "id": "07b22b9c",
   "metadata": {},
   "outputs": [],
   "source": [
    "# Mapa folium\n",
    "\n",
    "weather_map = folium.Map(location = [df_weather[\"lat\"].mean(), df_weather[\"lon\"].mean()], zoom_start = 3)\n",
    "\n",
    "info = folium.map.FeatureGroup()\n",
    "\n",
    "for lat, lng, pais, description, temp, pressure, humidity, wind_speed in zip(df_weather[\"lat\"], df_weather[\"lon\"],\n",
    "                                                                             df_weather[\"pais\"], df_weather[\"description\"],\n",
    "                                                                             df_weather[\"temp\"], df_weather[\"pressure\"],\n",
    "                                                                             df_weather[\"humidity\"], df_weather[\"wind_speed\"]):\n",
    "    \n",
    "    string = f\"Country: {pais}\\nDescription: {description}\\nTemp: {temp}\\nPressure: {pressure}\\nHumidity: {humidity}\\nWind Speed: {wind_speed}\"\n",
    "    \n",
    "    info.add_child(folium.Marker(location = [lat, lng],\n",
    "                                 popup    = string))\n",
    "    \n",
    "weather_map.add_child(info)\n",
    "\n",
    "weather_map"
   ]
  },
  {
   "cell_type": "code",
   "execution_count": null,
   "id": "7fba9347",
   "metadata": {},
   "outputs": [],
   "source": [
    "# Choropleth\n",
    "\n",
    "world_geo = \"data/world_countries.json\" # Archivo GeoJSON\n",
    "\n",
    "# Crea un mapa mundial \n",
    "world_map = folium.Map(location = [df_weather[\"lat\"].mean(), df_weather[\"lon\"].mean()], zoom_start = 3)\n",
    "\n",
    "folium.Choropleth(geo_data     = \"data/world_countries.json\",\n",
    "                  data         = df_weather,\n",
    "                  columns      = [\"pais\", \"temp\"],\n",
    "                  key_on       = \"feature.properties.name\",\n",
    "                  fill_color   = \"Reds\", \n",
    "                  fill_opacity = 0.7, \n",
    "                  line_opacity = 0.2,\n",
    "                  legend_name  = \"Temp\").add_to(world_map)\n",
    "\n",
    "world_map"
   ]
  },
  {
   "cell_type": "markdown",
   "id": "0c018850",
   "metadata": {},
   "source": [
    "### Ejercicio 02:\n",
    "- Define una función que extraiga la información de contaminación del aire para un punto geográfico.\n",
    "- La función debe de tomar los parámetros: _**start**_, _**end**_, _**api_key**_, _**lat**_ & _**lon**_.\n",
    "- La función debe retornar un **DataFrame** y la columna de tiempo debe de ser un objeto **datetime**."
   ]
  },
  {
   "cell_type": "code",
   "execution_count": null,
   "id": "ce978398",
   "metadata": {},
   "outputs": [],
   "source": [
    "def get_historical_air_pollution(start, end, api_key, lat, lon):\n",
    "    \n",
    "    params = {\"appid\" : api_key,\n",
    "              \"lat\"   : lat,\n",
    "              \"lon\"   : lon,\n",
    "              \"start\" : start,\n",
    "              \"end\"   : end}\n",
    "\n",
    "    endpoint = \"http://api.openweathermap.org/data/2.5/air_pollution/history\"\n",
    "\n",
    "    response = requests.get(url = endpoint, params = params)\n",
    "\n",
    "    data = response.json()\n",
    "    \n",
    "    df_air = pd.json_normalize(data[\"list\"])\n",
    "\n",
    "    df_air.rename(mapper  = {x : x.split(\".\")[1] for x in df_air.columns[1:]},\n",
    "                  axis    = 1,\n",
    "                  inplace = True)\n",
    "    \n",
    "    df_air[\"dt\"] = df_air[\"dt\"].apply(lambda x : datetime.fromtimestamp(x))\n",
    "\n",
    "    return df_air"
   ]
  },
  {
   "cell_type": "markdown",
   "id": "3f4521a8",
   "metadata": {},
   "source": [
    "### Ejercicio 03:\n",
    "\n",
    "- Usa la función definida en el ejercicio anterior para extraer la información desde el año 2020 hasta el día de hoy de una ciudad.\n",
    "- Realiza visualizaciones con estos datos. Prueba agrupando por mes, trimestre o año."
   ]
  },
  {
   "cell_type": "code",
   "execution_count": null,
   "id": "7c5b40ae",
   "metadata": {
    "scrolled": true
   },
   "outputs": [],
   "source": [
    "%%time\n",
    "\n",
    "lat, lon = 40.416775, -3.703790 # Madrid, Spain\n",
    "\n",
    "start = int(datetime(2020, 1, 1).timestamp()) # 2020-01-01\n",
    "\n",
    "end = int(datetime.now().timestamp()) # Hoy\n",
    "\n",
    "df_air = get_historical_air_pollution(start = start, end = end, api_key = api_key, lat = lat, lon = lon)\n",
    "    \n",
    "df_air.shape"
   ]
  },
  {
   "cell_type": "code",
   "execution_count": null,
   "id": "be9bdaf3",
   "metadata": {},
   "outputs": [],
   "source": [
    "df_air"
   ]
  },
  {
   "cell_type": "code",
   "execution_count": null,
   "id": "37495fc5",
   "metadata": {},
   "outputs": [],
   "source": [
    "px.line(data_frame = df_air,\n",
    "        x          = \"dt\",\n",
    "        y          = \"no2\")"
   ]
  },
  {
   "cell_type": "code",
   "execution_count": null,
   "id": "2a66138b",
   "metadata": {},
   "outputs": [],
   "source": [
    "df_air[\"year\"] = df_air[\"dt\"].apply(lambda x : x.year)\n",
    "\n",
    "df_air[\"aqi\"] = df_air[\"aqi\"].astype(str)"
   ]
  },
  {
   "cell_type": "code",
   "execution_count": null,
   "id": "53578697",
   "metadata": {},
   "outputs": [],
   "source": [
    "px.box(data_frame = df_air,\n",
    "       x          = \"aqi\",\n",
    "       y          = \"no2\",\n",
    "       facet_col  = \"year\")"
   ]
  },
  {
   "cell_type": "code",
   "execution_count": null,
   "id": "76a6fcd5",
   "metadata": {},
   "outputs": [],
   "source": [
    "# Bubble Chart\n",
    "\n",
    "px.scatter(data_frame = df_air,\n",
    "           x          = \"no2\",\n",
    "           y          = \"co\",\n",
    "           color      = \"aqi\",\n",
    "           size       = \"pm10\",\n",
    "           facet_row  = \"year\")"
   ]
  },
  {
   "cell_type": "code",
   "execution_count": null,
   "id": "b93e2730",
   "metadata": {},
   "outputs": [],
   "source": [
    "px.scatter_3d(data_frame = df_air,\n",
    "              x          = \"no2\",\n",
    "              y          = \"co\",\n",
    "              z          = \"nh3\",\n",
    "              color      = \"aqi\",\n",
    "              size       = \"pm10\")"
   ]
  },
  {
   "cell_type": "code",
   "execution_count": null,
   "id": "7d7ec26c",
   "metadata": {},
   "outputs": [],
   "source": [
    "################################################################################################################################"
   ]
  }
 ],
 "metadata": {
  "kernelspec": {
   "display_name": "Python 3 (ipykernel)",
   "language": "python",
   "name": "python3"
  },
  "language_info": {
   "codemirror_mode": {
    "name": "ipython",
    "version": 3
   },
   "file_extension": ".py",
   "mimetype": "text/x-python",
   "name": "python",
   "nbconvert_exporter": "python",
   "pygments_lexer": "ipython3",
   "version": "3.9.12"
  }
 },
 "nbformat": 4,
 "nbformat_minor": 5
}
