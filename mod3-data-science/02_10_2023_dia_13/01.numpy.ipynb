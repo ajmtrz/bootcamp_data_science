{
 "cells": [
  {
   "cell_type": "markdown",
   "id": "221cc933",
   "metadata": {},
   "source": [
    "## NumPy\n",
    "\n",
    "**`NumPy`** es una librería utilizada para el manejo de arreglos (arrays) y matrices multidimensionales, cuenta con múltiples funciones para trabajar con estos objetos. Una matriz en **`NumPy`** es una cuadricula de valores, todos del mismo tipo e indexados.\n",
    "\n",
    "```python\n",
    "import numpy as np\n",
    "```"
   ]
  },
  {
   "cell_type": "code",
   "execution_count": 1,
   "id": "04664844",
   "metadata": {},
   "outputs": [],
   "source": [
    "import numpy as np"
   ]
  },
  {
   "cell_type": "code",
   "execution_count": 2,
   "id": "e9d1c7c9",
   "metadata": {},
   "outputs": [],
   "source": [
    "lista = [1, 2, 3]"
   ]
  },
  {
   "cell_type": "code",
   "execution_count": 3,
   "id": "f1df22c7",
   "metadata": {},
   "outputs": [
    {
     "data": {
      "text/plain": [
       "list"
      ]
     },
     "execution_count": 3,
     "metadata": {},
     "output_type": "execute_result"
    }
   ],
   "source": [
    "type(lista)"
   ]
  },
  {
   "cell_type": "code",
   "execution_count": 4,
   "id": "4bd2b057",
   "metadata": {},
   "outputs": [
    {
     "data": {
      "text/plain": [
       "numpy.ndarray"
      ]
     },
     "execution_count": 4,
     "metadata": {},
     "output_type": "execute_result"
    }
   ],
   "source": [
    "# Usando np.array() podemos castear una lista a un objeto numpy.ndarray\n",
    "type(np.array(lista))"
   ]
  },
  {
   "cell_type": "markdown",
   "id": "5cd70c79",
   "metadata": {},
   "source": [
    "### Arreglos (arrays) de 1 dimensión (vector).\n",
    "\n",
    "| Método           | Atributo   |\n",
    "|------------------|------------|\n",
    "|**`.argmin()`**   |**`.dtype`**|\n",
    "|**`.argmax()`**   |**`.ndim`** |\n",
    "|**`.cumsum()`**   |**`.size`** |\n",
    "|**`.cumprod()`**  |**`.shape`**|\n",
    "|**`.dot()`**      | **`.T`**   |\n",
    "|**`.flatten()`**  |            |\n",
    "|**`.max()`**      |            |\n",
    "|**`.min()`**      |            |\n",
    "|**`.mean()`**     |            |\n",
    "|**`.reshape()`**  |            |\n",
    "|**`.transpose()`**|            |\n",
    "|**`.sum()`**      |            |\n",
    "|**`.sort()`**     |            |\n",
    "|**`.tolist()`**   |            |"
   ]
  },
  {
   "cell_type": "code",
   "execution_count": 9,
   "id": "32d5ed80",
   "metadata": {},
   "outputs": [
    {
     "data": {
      "text/plain": [
       "array([ -2. ,   4. ,   1. ,   3.5, 200. ,   7. ,   8. ,  -4. ])"
      ]
     },
     "execution_count": 9,
     "metadata": {},
     "output_type": "execute_result"
    }
   ],
   "source": [
    "vector = [-2, 4, 1, 3.5,200, 7, 8, -4]\n",
    "\n",
    "vector = np.array(vector)\n",
    "\n",
    "vector"
   ]
  },
  {
   "cell_type": "code",
   "execution_count": 10,
   "id": "90b68668",
   "metadata": {},
   "outputs": [
    {
     "name": "stdout",
     "output_type": "stream",
     "text": [
      "7\n",
      "4\n"
     ]
    }
   ],
   "source": [
    "# .argmin() y .argmax() retornan el indice del minimo y del maximo respectivamente\n",
    "print(vector.argmin())\n",
    "print(vector.argmax())"
   ]
  },
  {
   "cell_type": "code",
   "execution_count": 12,
   "id": "d333effd-efad-4a50-9026-f9e8fdf7c993",
   "metadata": {},
   "outputs": [
    {
     "data": {
      "text/plain": [
       "200.0"
      ]
     },
     "execution_count": 12,
     "metadata": {},
     "output_type": "execute_result"
    }
   ],
   "source": [
    "vector[4]"
   ]
  },
  {
   "cell_type": "code",
   "execution_count": 17,
   "id": "ede27327-3d31-45e8-95d7-3e4bdd269d37",
   "metadata": {},
   "outputs": [],
   "source": [
    "lista2 = ['pepes', 'juanes', 'luna', 'enrique']\n",
    "lista2_array = np.array(lista2)"
   ]
  },
  {
   "cell_type": "code",
   "execution_count": 18,
   "id": "0d8ef991-af07-4f3f-ba29-4a0844873247",
   "metadata": {},
   "outputs": [
    {
     "name": "stdout",
     "output_type": "stream",
     "text": [
      "3\n",
      "0\n"
     ]
    }
   ],
   "source": [
    "print(lista2_array.argmin())\n",
    "print(lista2_array.argmax())"
   ]
  },
  {
   "cell_type": "code",
   "execution_count": 13,
   "id": "c6fff054",
   "metadata": {},
   "outputs": [
    {
     "name": "stdout",
     "output_type": "stream",
     "text": [
      "[ -2.    2.    3.    6.5 206.5 213.5 221.5 217.5]\n",
      "[-2.0000e+00 -8.0000e+00 -8.0000e+00 -2.8000e+01 -5.6000e+03 -3.9200e+04\n",
      " -3.1360e+05  1.2544e+06]\n"
     ]
    }
   ],
   "source": [
    "# .cumsum() y cumprod() retorna un np.array() con la suma acumulada y el producto acumulado respectivamente\n",
    "\n",
    "print(vector.cumsum())\n",
    "print(vector.cumprod())"
   ]
  },
  {
   "cell_type": "code",
   "execution_count": 30,
   "id": "836f163c",
   "metadata": {},
   "outputs": [
    {
     "data": {
      "text/plain": [
       "array([[ -2. ,   4. ],\n",
       "       [  1. ,   3.5],\n",
       "       [200. ,   7. ],\n",
       "       [  8. ,  -4. ]])"
      ]
     },
     "execution_count": 30,
     "metadata": {},
     "output_type": "execute_result"
    }
   ],
   "source": [
    "# .reshape() cambia la \"forma\" de la matriz\n",
    "\n",
    "matriz_1 = vector.reshape(4, 2)\n",
    "\n",
    "matriz_1"
   ]
  },
  {
   "cell_type": "code",
   "execution_count": 31,
   "id": "5360e7b1",
   "metadata": {},
   "outputs": [
    {
     "name": "stdout",
     "output_type": "stream",
     "text": [
      "[[ -2.    1.  200.    8. ]\n",
      " [  4.    3.5   7.   -4. ]]\n",
      "--------------------\n",
      "[[ -2.    1.  200.    8. ]\n",
      " [  4.    3.5   7.   -4. ]]\n"
     ]
    }
   ],
   "source": [
    "# .transpose() hace la transpuesta de la matriz, también se puede usar .\n",
    "\n",
    "print(matriz_1.transpose())\n",
    "\n",
    "print(\"-\"*20)\n",
    "\n",
    "print(matriz_1.T)"
   ]
  },
  {
   "cell_type": "code",
   "execution_count": 34,
   "id": "cab9c78e",
   "metadata": {},
   "outputs": [
    {
     "data": {
      "text/plain": [
       "list"
      ]
     },
     "execution_count": 34,
     "metadata": {},
     "output_type": "execute_result"
    }
   ],
   "source": [
    "# .tolist() retorna el array en una lista\n",
    "\n",
    "type(matriz_1.tolist()[1])"
   ]
  },
  {
   "cell_type": "code",
   "execution_count": 35,
   "id": "8e97e799",
   "metadata": {},
   "outputs": [
    {
     "data": {
      "text/plain": [
       "numpy.ndarray"
      ]
     },
     "execution_count": 35,
     "metadata": {},
     "output_type": "execute_result"
    }
   ],
   "source": [
    "type(list(matriz_1)[0])"
   ]
  },
  {
   "cell_type": "code",
   "execution_count": 36,
   "id": "cc4e66c9",
   "metadata": {},
   "outputs": [
    {
     "data": {
      "text/plain": [
       "array([ -2. ,   4. ,   1. ,   3.5, 200. ,   7. ,   8. ,  -4. ])"
      ]
     },
     "execution_count": 36,
     "metadata": {},
     "output_type": "execute_result"
    }
   ],
   "source": [
    "vector"
   ]
  },
  {
   "cell_type": "code",
   "execution_count": 37,
   "id": "d23e4452",
   "metadata": {},
   "outputs": [
    {
     "data": {
      "text/plain": [
       "array([[ -2. ,   4. ],\n",
       "       [  1. ,   3.5],\n",
       "       [200. ,   7. ],\n",
       "       [  8. ,  -4. ]])"
      ]
     },
     "execution_count": 37,
     "metadata": {},
     "output_type": "execute_result"
    }
   ],
   "source": [
    "matriz_1"
   ]
  },
  {
   "cell_type": "code",
   "execution_count": 38,
   "id": "b9c5aa51",
   "metadata": {},
   "outputs": [
    {
     "data": {
      "text/plain": [
       "array([ -2. ,   4. ,   1. ,   3.5, 200. ,   7. ,   8. ,  -4. ])"
      ]
     },
     "execution_count": 38,
     "metadata": {},
     "output_type": "execute_result"
    }
   ],
   "source": [
    "# .flatten() retorna un vector plano con los elementos de la matriz\n",
    "\n",
    "matriz_1.flatten()"
   ]
  },
  {
   "cell_type": "code",
   "execution_count": 39,
   "id": "129dc8d4",
   "metadata": {},
   "outputs": [
    {
     "name": "stdout",
     "output_type": "stream",
     "text": [
      "Antes de .sort() [ -2.    4.    1.    3.5 200.    7.    8.   -4. ]\n",
      "Después de .sort() [ -4.   -2.    1.    3.5   4.    7.    8.  200. ]\n"
     ]
    }
   ],
   "source": [
    "# .sort() ordena la matriz de menor a mayor, lo hace in-place\n",
    "\n",
    "print(\"Antes de .sort()\", vector)\n",
    "\n",
    "vector.sort()\n",
    "\n",
    "print(\"Después de .sort()\", vector)"
   ]
  },
  {
   "cell_type": "code",
   "execution_count": 40,
   "id": "314df444",
   "metadata": {},
   "outputs": [
    {
     "data": {
      "text/plain": [
       "array([ -4. ,  -2. ,   1. ,   3.5,   4. ,   7. ,   8. , 200. ])"
      ]
     },
     "execution_count": 40,
     "metadata": {},
     "output_type": "execute_result"
    }
   ],
   "source": [
    "vector"
   ]
  },
  {
   "cell_type": "code",
   "execution_count": 41,
   "id": "af24eeb6",
   "metadata": {},
   "outputs": [
    {
     "data": {
      "text/plain": [
       "1"
      ]
     },
     "execution_count": 41,
     "metadata": {},
     "output_type": "execute_result"
    }
   ],
   "source": [
    "# .ndim retorna el número de dimensiones\n",
    "\n",
    "vector.ndim"
   ]
  },
  {
   "cell_type": "code",
   "execution_count": 42,
   "id": "a826a8a7",
   "metadata": {},
   "outputs": [
    {
     "data": {
      "text/plain": [
       "8"
      ]
     },
     "execution_count": 42,
     "metadata": {},
     "output_type": "execute_result"
    }
   ],
   "source": [
    "# .size retorna el número de elementos\n",
    "\n",
    "vector.size"
   ]
  },
  {
   "cell_type": "code",
   "execution_count": 43,
   "id": "9c100a65",
   "metadata": {},
   "outputs": [
    {
     "data": {
      "text/plain": [
       "(8,)"
      ]
     },
     "execution_count": 43,
     "metadata": {},
     "output_type": "execute_result"
    }
   ],
   "source": [
    "# .shape retorna en una tupla las dimesiones de la matriz\n",
    "\n",
    "vector.shape"
   ]
  },
  {
   "cell_type": "code",
   "execution_count": 44,
   "id": "55487d82-327f-45c0-b2c5-9711c0888a71",
   "metadata": {},
   "outputs": [
    {
     "data": {
      "text/plain": [
       "(4, 2)"
      ]
     },
     "execution_count": 44,
     "metadata": {},
     "output_type": "execute_result"
    }
   ],
   "source": [
    "matriz_1.shape"
   ]
  },
  {
   "cell_type": "code",
   "execution_count": 45,
   "id": "5bca1414",
   "metadata": {},
   "outputs": [
    {
     "data": {
      "text/plain": [
       "dtype('float64')"
      ]
     },
     "execution_count": 45,
     "metadata": {},
     "output_type": "execute_result"
    }
   ],
   "source": [
    "# .dtype retorna el tipo de dato de los elementos de la matriz\n",
    "\n",
    "vector.dtype"
   ]
  },
  {
   "cell_type": "markdown",
   "id": "fd3b3064",
   "metadata": {},
   "source": [
    "### Arreglos (arrays) de 2 dimensiones (matrices).\n",
    "\n",
    "Comparte los métodos y atributos de los vectores por que son de la misma clase.\n",
    "\n",
    "Existen varias funciones para inicializar matrices o arrays:\n",
    "\n",
    "| Función                  | Descripción                                                                             |\n",
    "|--------------------------|-----------------------------------------------------------------------------------------|\n",
    "|**`np.empty((n, m))`**    | Inicializa una matriz **nxm** vacia.                                                    |\n",
    "|**`np.zeros((n, m))`**    | Inicializa una matriz **nxm** de ceros.                                                 |\n",
    "|**`np.ones((n, m))`**     | Inicializa una matriz **nxm** de unos.                                                  |\n",
    "|**`np.eye(n)`**           | Inicializa la matriz identidad de orden **n**.                                          |\n",
    "|**`np.identity(n)`**      | Inicializa la matriz identidad de orden **n**.                                          |\n",
    "|**`np.full(shape, elem)`**| Inicializa una matriz con la forma de **`shape`** usando los elementos de **`elem`**.   |\n",
    "|**`np.linspace(a, b, p)`**| Inicializa un array de **`p`** elementos entre **`a`** y **`b`**, todos **x-distantes**.|"
   ]
  },
  {
   "cell_type": "code",
   "execution_count": 48,
   "id": "4e7e29d5",
   "metadata": {},
   "outputs": [
    {
     "data": {
      "text/plain": [
       "array([[ 1,  2,  3, 10],\n",
       "       [ 4,  5,  6, 20],\n",
       "       [ 7,  8,  9, 30]])"
      ]
     },
     "execution_count": 48,
     "metadata": {},
     "output_type": "execute_result"
    }
   ],
   "source": [
    "matriz = np.array([[1, 2, 3, 10], \n",
    "                   [4, 5, 6, 20], \n",
    "                   [7, 8, 9, 30]])\n",
    "\n",
    "matriz"
   ]
  },
  {
   "cell_type": "code",
   "execution_count": 49,
   "id": "7a0fc954",
   "metadata": {},
   "outputs": [
    {
     "name": "stdout",
     "output_type": "stream",
     "text": [
      "[[ 1  2  3 10]\n",
      " [ 4  5  6 20]\n",
      " [ 7  8  9 30]]\n"
     ]
    }
   ],
   "source": [
    "print(matriz)"
   ]
  },
  {
   "cell_type": "code",
   "execution_count": 50,
   "id": "ea934ad2",
   "metadata": {},
   "outputs": [
    {
     "data": {
      "text/plain": [
       "array([ 1,  2,  3, 10,  4,  5,  6, 20,  7,  8,  9, 30])"
      ]
     },
     "execution_count": 50,
     "metadata": {},
     "output_type": "execute_result"
    }
   ],
   "source": [
    "matriz.flatten()"
   ]
  },
  {
   "cell_type": "code",
   "execution_count": 51,
   "id": "5a434d59",
   "metadata": {},
   "outputs": [
    {
     "data": {
      "text/plain": [
       "array([[ 1,  2],\n",
       "       [ 3, 10],\n",
       "       [ 4,  5],\n",
       "       [ 6, 20],\n",
       "       [ 7,  8],\n",
       "       [ 9, 30]])"
      ]
     },
     "execution_count": 51,
     "metadata": {},
     "output_type": "execute_result"
    }
   ],
   "source": [
    "matriz.reshape(6, 2)"
   ]
  },
  {
   "cell_type": "code",
   "execution_count": 52,
   "id": "2aac080b",
   "metadata": {},
   "outputs": [
    {
     "name": "stdout",
     "output_type": "stream",
     "text": [
      "[[6.23042070e-307 4.67296746e-307 1.69121096e-306 1.78020984e-306\n",
      "  7.56587584e-307]\n",
      " [1.37961302e-306 1.05699242e-307 8.01097889e-307 1.78020169e-306\n",
      "  7.56601165e-307]\n",
      " [1.02359984e-306 1.24610383e-306 9.34603679e-307 8.34423068e-308\n",
      "  8.06610070e-308]\n",
      " [8.34424342e-308 1.02360256e-306 1.86921143e-306 8.06640627e-308\n",
      "  8.01106038e-307]\n",
      " [6.89805151e-307 1.78020169e-306 1.42410974e-306 1.69105613e-306\n",
      "  2.22809558e-312]]\n"
     ]
    }
   ],
   "source": [
    "# Aunque muestre numeros dentro de la matriz, np.empty() la inicializa vacia, estos números que se ven\n",
    "# Estan en memoria y numpy los usa para mostrar la matriz\n",
    "\n",
    "empty = np.empty(shape = (5, 5), dtype = \"float\")\n",
    "\n",
    "print(empty)"
   ]
  },
  {
   "cell_type": "code",
   "execution_count": 53,
   "id": "7efe5c70",
   "metadata": {},
   "outputs": [
    {
     "name": "stdout",
     "output_type": "stream",
     "text": [
      "[[1 1 1 1 1]\n",
      " [1 1 1 1 1]\n",
      " [1 1 1 1 1]\n",
      " [1 1 1 1 1]\n",
      " [1 1 1 1 1]]\n"
     ]
    }
   ],
   "source": [
    "# Inicializa una matriz de 1's.\n",
    "\n",
    "ones = np.ones(shape = (5, 5), dtype = \"int8\")\n",
    "\n",
    "print(ones)"
   ]
  },
  {
   "cell_type": "code",
   "execution_count": 54,
   "id": "3afe6662",
   "metadata": {},
   "outputs": [
    {
     "name": "stdout",
     "output_type": "stream",
     "text": [
      "[[0 0 0 0 0]\n",
      " [0 0 0 0 0]\n",
      " [0 0 0 0 0]\n",
      " [0 0 0 0 0]\n",
      " [0 0 0 0 0]]\n"
     ]
    }
   ],
   "source": [
    "# Inicializa una matriz de 0's.\n",
    "\n",
    "zeros = np.zeros(shape = (5, 5), dtype = \"int8\")\n",
    "\n",
    "print(zeros)"
   ]
  },
  {
   "cell_type": "code",
   "execution_count": 55,
   "id": "b0faa89f",
   "metadata": {},
   "outputs": [
    {
     "data": {
      "text/plain": [
       "array([[1., 0., 0., 0., 0.],\n",
       "       [0., 1., 0., 0., 0.],\n",
       "       [0., 0., 1., 0., 0.],\n",
       "       [0., 0., 0., 1., 0.],\n",
       "       [0., 0., 0., 0., 1.]])"
      ]
     },
     "execution_count": 55,
     "metadata": {},
     "output_type": "execute_result"
    }
   ],
   "source": [
    "# Matriz identidad\n",
    "\n",
    "np.eye(5)"
   ]
  },
  {
   "cell_type": "code",
   "execution_count": 56,
   "id": "d1ccc458",
   "metadata": {},
   "outputs": [
    {
     "name": "stdout",
     "output_type": "stream",
     "text": [
      "[[0 1 2 3 4]\n",
      " [0 1 2 3 4]\n",
      " [0 1 2 3 4]\n",
      " [0 1 2 3 4]\n",
      " [0 1 2 3 4]]\n"
     ]
    }
   ],
   "source": [
    "# np.full() crea una lista con forma \"shape\" y la llena con un iterable.\n",
    "\n",
    "full = np.full(shape = (5, 5), fill_value = range(5))\n",
    "\n",
    "print(full)"
   ]
  },
  {
   "cell_type": "code",
   "execution_count": 58,
   "id": "16b89b50-5d05-46d0-ba4e-0b0f4921946d",
   "metadata": {},
   "outputs": [
    {
     "name": "stdout",
     "output_type": "stream",
     "text": [
      "[[ True False  True False  True]\n",
      " [ True False  True False  True]\n",
      " [ True False  True False  True]\n",
      " [ True False  True False  True]\n",
      " [ True False  True False  True]]\n"
     ]
    }
   ],
   "source": [
    "full = np.full(shape = (5, 5), fill_value = [False if i%2!=0 else True for i in range(5)])\n",
    "\n",
    "print(full)"
   ]
  },
  {
   "cell_type": "code",
   "execution_count": 62,
   "id": "5ff662d1",
   "metadata": {},
   "outputs": [
    {
     "name": "stdout",
     "output_type": "stream",
     "text": [
      "[-15.         -14.23076923 -13.46153846 -12.69230769 -11.92307692\n",
      " -11.15384615 -10.38461538  -9.61538462  -8.84615385  -8.07692308\n",
      "  -7.30769231  -6.53846154  -5.76923077  -5.          -4.23076923\n",
      "  -3.46153846  -2.69230769  -1.92307692  -1.15384615  -0.38461538\n",
      "   0.38461538   1.15384615   1.92307692   2.69230769   3.46153846\n",
      "   4.23076923   5.           5.76923077   6.53846154   7.30769231\n",
      "   8.07692308   8.84615385   9.61538462  10.38461538  11.15384615\n",
      "  11.92307692  12.69230769  13.46153846  14.23076923  15.        ]\n"
     ]
    }
   ],
   "source": [
    "# np.linspace(a, b, p) crea un array de \"p\" elementos entre \"a\" y \"b\", todos x-distantes\n",
    "\n",
    "linspace = np.linspace(-15, 15, 40)\n",
    "\n",
    "print(linspace)"
   ]
  },
  {
   "cell_type": "markdown",
   "id": "254762c3",
   "metadata": {},
   "source": [
    "### Slicing en NumPy\n",
    "\n",
    "En Python para hacer slicing de una lista de listas debiamos escribir primero la \"fila\" y de segundo la \"columna\" asi:\n",
    "```python\n",
    "lista[a][b]\n",
    "```\n",
    "\n",
    "Usando un **`np.array()`** podemos usar la siguiente notación:\n",
    "```python\n",
    "array[a, b]\n",
    "```\n",
    "\n",
    "Incluso, podemos pasar un **slicing** dentro del **slicing** para filtrar aun más los datos:\n",
    "```python\n",
    "array[a1 : a2, b1 : b2]\n",
    "```\n",
    "\n",
    "También podemos hacer **indexing** dentro del **slicing**\n",
    "\n",
    "```python\n",
    "array[[a1, a3], [b2, b4]]\n",
    "```"
   ]
  },
  {
   "cell_type": "code",
   "execution_count": 63,
   "id": "12a6a5ff",
   "metadata": {},
   "outputs": [
    {
     "name": "stdout",
     "output_type": "stream",
     "text": [
      "[[1 0 0 0 0]\n",
      " [0 0 2 0 0]\n",
      " [1 1 0 0 1]\n",
      " [2 1 1 1 0]\n",
      " [1 2 1 2 2]]\n"
     ]
    }
   ],
   "source": [
    "matriz = np.array([[1, 0, 0, 0, 0], [0, 0, 2, 0, 0], [1, 1, 0, 0, 1], [2, 1, 1, 1, 0], [1, 2, 1, 2, 2]])\n",
    "\n",
    "print(matriz)"
   ]
  },
  {
   "cell_type": "code",
   "execution_count": 64,
   "id": "21dbaeca",
   "metadata": {},
   "outputs": [
    {
     "data": {
      "text/plain": [
       "2"
      ]
     },
     "execution_count": 64,
     "metadata": {},
     "output_type": "execute_result"
    }
   ],
   "source": [
    "# Hacer\n",
    "\n",
    "matriz[4][1]"
   ]
  },
  {
   "cell_type": "code",
   "execution_count": 65,
   "id": "ec4d8249",
   "metadata": {},
   "outputs": [
    {
     "data": {
      "text/plain": [
       "2"
      ]
     },
     "execution_count": 65,
     "metadata": {},
     "output_type": "execute_result"
    }
   ],
   "source": [
    "# Es igual que hacer\n",
    "\n",
    "matriz[4, 1]"
   ]
  },
  {
   "cell_type": "code",
   "execution_count": 68,
   "id": "52d4413b",
   "metadata": {},
   "outputs": [
    {
     "data": {
      "text/plain": [
       "array([[0, 2, 0],\n",
       "       [1, 0, 0],\n",
       "       [1, 1, 1]])"
      ]
     },
     "execution_count": 68,
     "metadata": {},
     "output_type": "execute_result"
    }
   ],
   "source": [
    "# Slicing\n",
    "matriz[1:4, 1:4] # primer elemento son las filas a mostrar y el segundo las columnas"
   ]
  },
  {
   "cell_type": "code",
   "execution_count": 67,
   "id": "93e46fc8",
   "metadata": {},
   "outputs": [
    {
     "data": {
      "text/plain": [
       "array([2, 0])"
      ]
     },
     "execution_count": 67,
     "metadata": {},
     "output_type": "execute_result"
    }
   ],
   "source": [
    "# Slicing + Indexing\n",
    "\n",
    "matriz[[1, 3], [2, 4]]"
   ]
  },
  {
   "cell_type": "markdown",
   "id": "a53ed0b5",
   "metadata": {},
   "source": [
    "### Operaciones con Arrays"
   ]
  },
  {
   "cell_type": "code",
   "execution_count": 69,
   "id": "a67f60f0",
   "metadata": {},
   "outputs": [
    {
     "name": "stdout",
     "output_type": "stream",
     "text": [
      "[[20 40]\n",
      " [30 50]]\n",
      "--------------------\n",
      "[[4 5]\n",
      " [2 3]]\n"
     ]
    }
   ],
   "source": [
    "A = np.array([[20, 40], [30, 50]])\n",
    "B = np.array([[4, 5], [2, 3]])\n",
    "\n",
    "print(A)\n",
    "print(\"-\"*20)\n",
    "print(B)"
   ]
  },
  {
   "cell_type": "code",
   "execution_count": 70,
   "id": "ddedeb57",
   "metadata": {},
   "outputs": [
    {
     "data": {
      "text/plain": [
       "array([[24, 45],\n",
       "       [32, 53]])"
      ]
     },
     "execution_count": 70,
     "metadata": {},
     "output_type": "execute_result"
    }
   ],
   "source": [
    "# Suma\n",
    "\n",
    "A + B"
   ]
  },
  {
   "cell_type": "code",
   "execution_count": 71,
   "id": "d72056b3",
   "metadata": {},
   "outputs": [
    {
     "data": {
      "text/plain": [
       "array([[16, 35],\n",
       "       [28, 47]])"
      ]
     },
     "execution_count": 71,
     "metadata": {},
     "output_type": "execute_result"
    }
   ],
   "source": [
    "# Resta\n",
    "A - B"
   ]
  },
  {
   "cell_type": "code",
   "execution_count": 72,
   "id": "dd2e20b7",
   "metadata": {},
   "outputs": [
    {
     "data": {
      "text/plain": [
       "array([[100, 200],\n",
       "       [150, 250]])"
      ]
     },
     "execution_count": 72,
     "metadata": {},
     "output_type": "execute_result"
    }
   ],
   "source": [
    "# Multiplicación por escalar\n",
    "\n",
    "A * 5"
   ]
  },
  {
   "cell_type": "code",
   "execution_count": 73,
   "id": "825278f1",
   "metadata": {},
   "outputs": [
    {
     "data": {
      "text/plain": [
       "array([[ 80, 200],\n",
       "       [ 60, 150]])"
      ]
     },
     "execution_count": 73,
     "metadata": {},
     "output_type": "execute_result"
    }
   ],
   "source": [
    "# Multiplicación elemento a elemento (no es la forma matemática de multiplicar)\n",
    "\n",
    "A * B"
   ]
  },
  {
   "cell_type": "code",
   "execution_count": 74,
   "id": "9357e55c",
   "metadata": {},
   "outputs": [
    {
     "data": {
      "text/plain": [
       "array([[ 4.,  8.],\n",
       "       [ 6., 10.]])"
      ]
     },
     "execution_count": 74,
     "metadata": {},
     "output_type": "execute_result"
    }
   ],
   "source": [
    "# División por escalar\n",
    "\n",
    "A / 5"
   ]
  },
  {
   "cell_type": "code",
   "execution_count": 75,
   "id": "28efadce",
   "metadata": {},
   "outputs": [
    {
     "data": {
      "text/plain": [
       "array([[160, 220],\n",
       "       [220, 300]])"
      ]
     },
     "execution_count": 75,
     "metadata": {},
     "output_type": "execute_result"
    }
   ],
   "source": [
    "# Producto de matrices (también conocido como producto de vectorial)\n",
    "\n",
    "A.dot(B)"
   ]
  },
  {
   "cell_type": "code",
   "execution_count": 76,
   "id": "1841c7ec",
   "metadata": {},
   "outputs": [
    {
     "name": "stdout",
     "output_type": "stream",
     "text": [
      "[[20 40]\n",
      " [30 50]]\n",
      "--------------------\n",
      "[[4 5]\n",
      " [2 3]]\n"
     ]
    }
   ],
   "source": [
    "print(A)\n",
    "print(\"-\"*20)\n",
    "print(B)"
   ]
  },
  {
   "cell_type": "markdown",
   "id": "547b4361",
   "metadata": {},
   "source": [
    "#### Concatenar"
   ]
  },
  {
   "cell_type": "code",
   "execution_count": 77,
   "id": "269d0b12",
   "metadata": {},
   "outputs": [
    {
     "data": {
      "text/plain": [
       "array([[20, 40],\n",
       "       [30, 50],\n",
       "       [ 4,  5],\n",
       "       [ 2,  3]])"
      ]
     },
     "execution_count": 77,
     "metadata": {},
     "output_type": "execute_result"
    }
   ],
   "source": [
    "# Concatenar verticalmente\n",
    "\n",
    "np.concatenate((A, B), axis = 0)"
   ]
  },
  {
   "cell_type": "code",
   "execution_count": 78,
   "id": "0d17002e",
   "metadata": {},
   "outputs": [
    {
     "data": {
      "text/plain": [
       "array([[20, 40,  4,  5],\n",
       "       [30, 50,  2,  3]])"
      ]
     },
     "execution_count": 78,
     "metadata": {},
     "output_type": "execute_result"
    }
   ],
   "source": [
    "# Concatenar horizontalmente\n",
    "\n",
    "np.concatenate((A, B), axis = 1)"
   ]
  },
  {
   "cell_type": "markdown",
   "id": "ae907e98",
   "metadata": {},
   "source": [
    "### Números aleatorios en NumPy\n",
    "\n",
    "|Función                             |Descripción                                                                                                                                         |\n",
    "|------------------------------------|----------------------------------------------------------------------------------------------------------------------------------------------------|\n",
    "|**`np.random.random(n)`**           | Genera un número aleatorio entre 0 y 1, si damos el parametro **`n`** genera una lista de **`n`** elementos aleatorios entre 0 y 1, solo genera vectores.                                                                                                                       |\n",
    "|**`np.random.rand(shape)`**         | Genera un array de forma **shape** con números aleatorios entre 0 y 1.                                                                             |\n",
    "|**`np.random.randn(shape)`**        | Genera un array de forma **shape** con números aleatorios entre -1 y 1.                                                                           |\n",
    "|**`no.random.randint(a, b, size)`** | Genera un array de tamaño **size** con numeros enteros aleatorios entre **a** y **b**.                                                             |\n",
    "|**`np.random.choice(obj, size, p)`**| Genera un array de tamaño **size** con los elementos de **obj**, se le pueden dar pesos a los elementos usando **p**, retorna elementos repetidos.|\n",
    "|**`np.random.seed(n)`**             | Genera una semilla.                                                                                                                                 |\n",
    "|**`np.random.RandomState(n)`**      | Genera una semilla.                                                                                                                                 |"
   ]
  },
  {
   "cell_type": "code",
   "execution_count": 81,
   "id": "b3288efd",
   "metadata": {},
   "outputs": [
    {
     "data": {
      "text/plain": [
       "array([[0.80930351, 0.63465694, 0.7716001 , 0.8040517 , 0.50584522],\n",
       "       [0.00488644, 0.04220911, 0.89221259, 0.85345471, 0.75623072],\n",
       "       [0.35280088, 0.25832448, 0.08272748, 0.53035647, 0.71884576],\n",
       "       [0.1176431 , 0.56043276, 0.93195073, 0.62868998, 0.57310584],\n",
       "       [0.16856914, 0.58262693, 0.39156783, 0.8601479 , 0.20163392]])"
      ]
     },
     "execution_count": 81,
     "metadata": {},
     "output_type": "execute_result"
    }
   ],
   "source": [
    "np.random.random(size = (5, 5))"
   ]
  },
  {
   "cell_type": "code",
   "execution_count": 82,
   "id": "c8ed8fa8",
   "metadata": {},
   "outputs": [
    {
     "name": "stdout",
     "output_type": "stream",
     "text": [
      "0.3687893612027845\n",
      "------------------------------\n",
      "[0.69048724 0.3742721  0.55162329 0.36144855 0.1796216 ]\n"
     ]
    }
   ],
   "source": [
    "print(np.random.random())\n",
    "\n",
    "print(\"-\"*30)\n",
    "\n",
    "print(np.random.random(5))"
   ]
  },
  {
   "cell_type": "code",
   "execution_count": 83,
   "id": "8aad0c3b",
   "metadata": {},
   "outputs": [
    {
     "name": "stdout",
     "output_type": "stream",
     "text": [
      "0.8579938212833352\n",
      "------------------------------\n",
      "[[0.43007857 0.30594251 0.71837516]\n",
      " [0.87199695 0.36448582 0.72728712]]\n"
     ]
    }
   ],
   "source": [
    "print(np.random.rand())\n",
    "\n",
    "print(\"-\"*30)\n",
    "\n",
    "print(np.random.rand(2, 3))"
   ]
  },
  {
   "cell_type": "code",
   "execution_count": 87,
   "id": "8d122656-e771-452b-ad97-b2fa1df62af2",
   "metadata": {},
   "outputs": [
    {
     "name": "stdout",
     "output_type": "stream",
     "text": [
      "0.5519016773514258\n",
      "------------------------------\n",
      "[[[0.19853413 0.25831288 0.99417185]\n",
      "  [0.3718475  0.92303419 0.40125354]\n",
      "  [0.55777725 0.99731249 0.2703969 ]]\n",
      "\n",
      " [[0.803802   0.61564012 0.32686267]\n",
      "  [0.30493823 0.23106893 0.77656201]\n",
      "  [0.64708433 0.21336873 0.58488991]]\n",
      "\n",
      " [[0.91900562 0.39765009 0.17660306]\n",
      "  [0.66890759 0.04089637 0.02016965]\n",
      "  [0.54566    0.82712099 0.81997238]]]\n"
     ]
    }
   ],
   "source": [
    "print(np.random.rand())\n",
    "\n",
    "print(\"-\"*30)\n",
    "\n",
    "print(np.random.rand(3, 3, 3))"
   ]
  },
  {
   "cell_type": "code",
   "execution_count": 88,
   "id": "250d0d26",
   "metadata": {},
   "outputs": [
    {
     "name": "stdout",
     "output_type": "stream",
     "text": [
      "0.24347795497853006\n",
      "------------------------------\n",
      "[[-0.27685774 -2.29658112 -0.90719938]\n",
      " [ 0.08373064  0.08416151 -0.55363561]]\n"
     ]
    }
   ],
   "source": [
    "print(np.random.randn())\n",
    "\n",
    "print(\"-\"*30)\n",
    "\n",
    "print(np.random.randn(2, 3))"
   ]
  },
  {
   "cell_type": "code",
   "execution_count": 89,
   "id": "deb7b024",
   "metadata": {},
   "outputs": [
    {
     "name": "stdout",
     "output_type": "stream",
     "text": [
      "5\n",
      "------------------------------\n",
      "[[6 2 8 2 4]\n",
      " [8 9 1 6 9]\n",
      " [1 1 2 9 3]\n",
      " [8 1 7 1 3]\n",
      " [1 6 1 5 2]]\n"
     ]
    }
   ],
   "source": [
    "print(np.random.randint(0, 10))\n",
    "\n",
    "print(\"-\"*30)\n",
    "\n",
    "print(np.random.randint(1, 10, size = [5, 5]))"
   ]
  },
  {
   "cell_type": "code",
   "execution_count": 90,
   "id": "8f34224a",
   "metadata": {},
   "outputs": [
    {
     "name": "stdout",
     "output_type": "stream",
     "text": [
      "['u' 'a' 'o' 'a' 'a' 'a' 'a' 'o' 'a' 'a']\n"
     ]
    }
   ],
   "source": [
    "print(np.random.choice([\"a\", \"e\", \"i\", \"o\", \"u\"], size = 10, p = [0.6, 0.1, 0.1, 0.1, 0.1])) "
   ]
  },
  {
   "cell_type": "code",
   "execution_count": 91,
   "id": "f8e7e31b-e531-4638-a22f-502a256e0706",
   "metadata": {},
   "outputs": [
    {
     "name": "stdout",
     "output_type": "stream",
     "text": [
      "['o' 'o' 'a' 'u' 'u' 'u' 'u' 'e' 'i' 'i']\n"
     ]
    }
   ],
   "source": [
    "print(np.random.choice([\"a\", \"e\", \"i\", \"o\", \"u\"], size = 10)) "
   ]
  },
  {
   "cell_type": "code",
   "execution_count": 93,
   "id": "fcaa9040",
   "metadata": {},
   "outputs": [
    {
     "name": "stdout",
     "output_type": "stream",
     "text": [
      "0.05056170714293955\n",
      "0.05056170714293955\n",
      "0.05056170714293955\n",
      "0.05056170714293955\n",
      "0.05056170714293955\n",
      "0.05056170714293955\n",
      "0.05056170714293955\n",
      "0.05056170714293955\n",
      "0.05056170714293955\n",
      "0.05056170714293955\n"
     ]
    }
   ],
   "source": [
    "for i in range(10):\n",
    "    np.random.seed(4)\n",
    "    print(np.random.randn())"
   ]
  },
  {
   "cell_type": "code",
   "execution_count": 94,
   "id": "719185bd",
   "metadata": {},
   "outputs": [
    {
     "name": "stdout",
     "output_type": "stream",
     "text": [
      "0.43599490214200376\n",
      "8\n",
      "0.499951333237829\n",
      "------------------------------\n",
      "0.43599490214200376\n",
      "8\n",
      "-0.9959089311068651\n",
      "------------------------------\n",
      "0.43599490214200376\n",
      "8\n",
      "0.6935985082913116\n",
      "------------------------------\n",
      "0.43599490214200376\n",
      "8\n",
      "-0.41830152002691007\n",
      "------------------------------\n"
     ]
    }
   ],
   "source": [
    "for i in range(4):\n",
    "    rs = np.random.RandomState(2)\n",
    "    print(rs.rand())\n",
    "    print(rs.randint(0, 10))\n",
    "    print(np.random.randn()) # No usa rs\n",
    "    print(\"-\"*30)   "
   ]
  },
  {
   "cell_type": "code",
   "execution_count": 102,
   "id": "27335492",
   "metadata": {},
   "outputs": [
    {
     "name": "stdout",
     "output_type": "stream",
     "text": [
      "0.8488176972685787\n",
      "5\n",
      "-0.15590853388271336\n",
      "------------------------------\n",
      "0.27540092860641197\n",
      "5\n",
      "-0.5017896732977485\n",
      "------------------------------\n",
      "0.02495303232907431\n",
      "1\n",
      "-0.9021190404034566\n",
      "------------------------------\n",
      "0.8724294447722278\n",
      "4\n",
      "0.6891445632908499\n",
      "------------------------------\n"
     ]
    }
   ],
   "source": [
    "seed1 = np.random.RandomState(15)\n",
    "\n",
    "for i in range(4):\n",
    "    print(seed1.rand())\n",
    "    print(seed1.randint(0, 10))\n",
    "    print(seed1.randn())\n",
    "    print(\"-\"*30)"
   ]
  },
  {
   "cell_type": "code",
   "execution_count": 109,
   "id": "49b47b97",
   "metadata": {},
   "outputs": [
    {
     "data": {
      "text/plain": [
       "array([[-0.3186, -1.1808, -1.1728, -0.0523, -0.8462, 1.4145],\n",
       "       [0.3359, -1.1129, 0.5131, -0.2283, 0.2338, 1.5416],\n",
       "       [0.9187, -0.9136, 0.5024, -0.4281, 1.0230, -0.0322],\n",
       "       [-1.5943, -3.4663, -0.6779, -0.8283, -0.7891, 2.1736],\n",
       "       [0.1169, 0.8692, -0.9520, 0.6558, -0.5540, -1.5716],\n",
       "       [-0.3249, -0.0543, -1.0856, 1.4299, 0.0507, -1.5465]])"
      ]
     },
     "execution_count": 109,
     "metadata": {},
     "output_type": "execute_result"
    }
   ],
   "source": [
    "# Código para establecer el número de decimales (Cambiar {0:0.2f} para elegir el número de decimales)\n",
    "\n",
    "np.set_printoptions(formatter = {\"float\" : lambda x: \"{0:0.4f}\".format(x)})\n",
    "\n",
    "np.random.randn(6, 6)"
   ]
  },
  {
   "cell_type": "code",
   "execution_count": null,
   "id": "57fad6e7",
   "metadata": {},
   "outputs": [],
   "source": [
    "np.random.randn(6, 6)"
   ]
  },
  {
   "cell_type": "code",
   "execution_count": 110,
   "id": "8c6a06b3",
   "metadata": {},
   "outputs": [
    {
     "data": {
      "text/plain": [
       "array([[0.8093, 0.6347, 0.7716, 0.8041, 0.5058],\n",
       "       [0.0049, 0.0422, 0.8922, 0.8535, 0.7562],\n",
       "       [0.3528, 0.2583, 0.0827, 0.5304, 0.7188],\n",
       "       [0.1176, 0.5604, 0.9320, 0.6287, 0.5731],\n",
       "       [0.1686, 0.5826, 0.3916, 0.8601, 0.2016]])"
      ]
     },
     "execution_count": 110,
     "metadata": {},
     "output_type": "execute_result"
    }
   ],
   "source": [
    "np.empty((5, 5), dtype = \"float64\")"
   ]
  },
  {
   "cell_type": "code",
   "execution_count": null,
   "id": "d6263c75",
   "metadata": {},
   "outputs": [],
   "source": [
    "################################################################################################################################"
   ]
  }
 ],
 "metadata": {
  "kernelspec": {
   "display_name": "Python 3 (ipykernel)",
   "language": "python",
   "name": "python3"
  },
  "language_info": {
   "codemirror_mode": {
    "name": "ipython",
    "version": 3
   },
   "file_extension": ".py",
   "mimetype": "text/x-python",
   "name": "python",
   "nbconvert_exporter": "python",
   "pygments_lexer": "ipython3",
   "version": "3.9.7"
  }
 },
 "nbformat": 4,
 "nbformat_minor": 5
}
