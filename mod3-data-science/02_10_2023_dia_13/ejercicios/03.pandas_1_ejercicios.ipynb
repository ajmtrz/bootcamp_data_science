{
 "cells": [
  {
   "cell_type": "markdown",
   "id": "725a31ea",
   "metadata": {},
   "source": [
    "## Ejercicios pandas 1"
   ]
  },
  {
   "cell_type": "code",
   "execution_count": 1,
   "id": "fec45fd2",
   "metadata": {},
   "outputs": [],
   "source": [
    "import pandas as pd"
   ]
  },
  {
   "cell_type": "markdown",
   "id": "998e7753",
   "metadata": {},
   "source": [
    "### Ejercicio 1:\n",
    "- Lee el archivo **\"Canada.xlsx\"** y guardalo en la variable **`df`**"
   ]
  },
  {
   "cell_type": "code",
   "execution_count": 2,
   "id": "3c01c91d-e584-4790-842d-815254cfb0cf",
   "metadata": {},
   "outputs": [],
   "source": [
    "df = pd.read_excel('Canada.xlsx')"
   ]
  },
  {
   "cell_type": "code",
   "execution_count": 3,
   "id": "a4427c4e-ac9b-4967-9e86-22978b307b52",
   "metadata": {},
   "outputs": [
    {
     "data": {
      "text/html": [
       "<div>\n",
       "<style scoped>\n",
       "    .dataframe tbody tr th:only-of-type {\n",
       "        vertical-align: middle;\n",
       "    }\n",
       "\n",
       "    .dataframe tbody tr th {\n",
       "        vertical-align: top;\n",
       "    }\n",
       "\n",
       "    .dataframe thead th {\n",
       "        text-align: right;\n",
       "    }\n",
       "</style>\n",
       "<table border=\"1\" class=\"dataframe\">\n",
       "  <thead>\n",
       "    <tr style=\"text-align: right;\">\n",
       "      <th></th>\n",
       "      <th>Tipo</th>\n",
       "      <th>Pais</th>\n",
       "      <th>Area</th>\n",
       "      <th>Continente</th>\n",
       "      <th>Region</th>\n",
       "      <th>Nombre de region</th>\n",
       "      <th>Tipo de region</th>\n",
       "      <th>1980</th>\n",
       "      <th>1981</th>\n",
       "      <th>1982</th>\n",
       "      <th>...</th>\n",
       "      <th>2004</th>\n",
       "      <th>2005</th>\n",
       "      <th>2006</th>\n",
       "      <th>2007</th>\n",
       "      <th>2008</th>\n",
       "      <th>2009</th>\n",
       "      <th>2010</th>\n",
       "      <th>2011</th>\n",
       "      <th>2012</th>\n",
       "      <th>2013</th>\n",
       "    </tr>\n",
       "  </thead>\n",
       "  <tbody>\n",
       "    <tr>\n",
       "      <th>0</th>\n",
       "      <td>Immigrants</td>\n",
       "      <td>Afghanistan</td>\n",
       "      <td>935</td>\n",
       "      <td>Asia</td>\n",
       "      <td>5501</td>\n",
       "      <td>Southern Asia</td>\n",
       "      <td>Developing regions</td>\n",
       "      <td>16</td>\n",
       "      <td>39</td>\n",
       "      <td>39</td>\n",
       "      <td>...</td>\n",
       "      <td>2978</td>\n",
       "      <td>3436</td>\n",
       "      <td>3009</td>\n",
       "      <td>2652</td>\n",
       "      <td>2111</td>\n",
       "      <td>1746</td>\n",
       "      <td>1758</td>\n",
       "      <td>2203</td>\n",
       "      <td>2635</td>\n",
       "      <td>2004</td>\n",
       "    </tr>\n",
       "  </tbody>\n",
       "</table>\n",
       "<p>1 rows × 41 columns</p>\n",
       "</div>"
      ],
      "text/plain": [
       "         Tipo         Pais  Area Continente  Region Nombre de region  \\\n",
       "0  Immigrants  Afghanistan   935       Asia    5501    Southern Asia   \n",
       "\n",
       "       Tipo de region  1980  1981  1982  ...  2004  2005  2006  2007  2008  \\\n",
       "0  Developing regions    16    39    39  ...  2978  3436  3009  2652  2111   \n",
       "\n",
       "   2009  2010  2011  2012  2013  \n",
       "0  1746  1758  2203  2635  2004  \n",
       "\n",
       "[1 rows x 41 columns]"
      ]
     },
     "execution_count": 3,
     "metadata": {},
     "output_type": "execute_result"
    }
   ],
   "source": [
    "df.head(1)"
   ]
  },
  {
   "cell_type": "code",
   "execution_count": null,
   "id": "63eb0be0-2b76-4315-800d-6af6f83cf5ec",
   "metadata": {},
   "outputs": [],
   "source": []
  },
  {
   "cell_type": "markdown",
   "id": "22183796",
   "metadata": {},
   "source": [
    "### Ejercicio 2:\n",
    "- Mostrar el tamaño de DataFrame."
   ]
  },
  {
   "cell_type": "code",
   "execution_count": null,
   "id": "42dbfe68",
   "metadata": {},
   "outputs": [],
   "source": []
  },
  {
   "cell_type": "code",
   "execution_count": null,
   "id": "81fdee15",
   "metadata": {},
   "outputs": [],
   "source": []
  },
  {
   "cell_type": "markdown",
   "id": "df0584c6",
   "metadata": {},
   "source": [
    "### Ejercicio 3:\n",
    "- Mostrar las primeras 3 filas."
   ]
  },
  {
   "cell_type": "code",
   "execution_count": null,
   "id": "94b2f4c4",
   "metadata": {},
   "outputs": [],
   "source": []
  },
  {
   "cell_type": "code",
   "execution_count": null,
   "id": "d6d61967",
   "metadata": {},
   "outputs": [],
   "source": []
  },
  {
   "cell_type": "code",
   "execution_count": null,
   "id": "93562c3f",
   "metadata": {},
   "outputs": [],
   "source": []
  },
  {
   "cell_type": "markdown",
   "id": "014adda6",
   "metadata": {},
   "source": [
    "### Ejercicio 4:\n",
    "- Mostrar las últimas 10 filas."
   ]
  },
  {
   "cell_type": "code",
   "execution_count": null,
   "id": "f1c89817",
   "metadata": {},
   "outputs": [],
   "source": []
  },
  {
   "cell_type": "code",
   "execution_count": null,
   "id": "8efddb4f",
   "metadata": {},
   "outputs": [],
   "source": []
  },
  {
   "cell_type": "code",
   "execution_count": null,
   "id": "74307044",
   "metadata": {},
   "outputs": [],
   "source": []
  },
  {
   "cell_type": "markdown",
   "id": "b904d434",
   "metadata": {},
   "source": [
    "### Ejercicio 5:\n",
    "- Mostrar las estadisticas del DataFrame."
   ]
  },
  {
   "cell_type": "code",
   "execution_count": null,
   "id": "0b24ce9b",
   "metadata": {},
   "outputs": [],
   "source": []
  },
  {
   "cell_type": "code",
   "execution_count": null,
   "id": "92a6bd56",
   "metadata": {},
   "outputs": [],
   "source": []
  },
  {
   "cell_type": "code",
   "execution_count": null,
   "id": "98bd2376",
   "metadata": {},
   "outputs": [],
   "source": []
  },
  {
   "cell_type": "markdown",
   "id": "6d92361f",
   "metadata": {},
   "source": [
    "### Ejercicio 6:\n",
    "- Mostrar la información del DataFrame."
   ]
  },
  {
   "cell_type": "code",
   "execution_count": null,
   "id": "316761a0",
   "metadata": {},
   "outputs": [],
   "source": []
  },
  {
   "cell_type": "code",
   "execution_count": null,
   "id": "8a67d56e",
   "metadata": {},
   "outputs": [],
   "source": []
  },
  {
   "cell_type": "code",
   "execution_count": null,
   "id": "705f487c",
   "metadata": {},
   "outputs": [],
   "source": []
  },
  {
   "cell_type": "markdown",
   "id": "07ffcabf",
   "metadata": {},
   "source": [
    "### Ejercicio 7:\n",
    "- Mostar las columnas del DataFrame en una lista."
   ]
  },
  {
   "cell_type": "code",
   "execution_count": null,
   "id": "db3f22d0",
   "metadata": {},
   "outputs": [],
   "source": []
  },
  {
   "cell_type": "code",
   "execution_count": null,
   "id": "c6f75b90",
   "metadata": {},
   "outputs": [],
   "source": []
  },
  {
   "cell_type": "code",
   "execution_count": null,
   "id": "2f0201e5",
   "metadata": {},
   "outputs": [],
   "source": []
  },
  {
   "cell_type": "markdown",
   "id": "ce8b768b",
   "metadata": {},
   "source": [
    "### Ejercicio 8:\n",
    "- Eliminar las columnas: **`Tipo`**, **`Area`** y **`Region`**."
   ]
  },
  {
   "cell_type": "code",
   "execution_count": null,
   "id": "ff5ae623",
   "metadata": {},
   "outputs": [],
   "source": []
  },
  {
   "cell_type": "code",
   "execution_count": null,
   "id": "797070a3",
   "metadata": {},
   "outputs": [],
   "source": []
  },
  {
   "cell_type": "code",
   "execution_count": null,
   "id": "99f73703",
   "metadata": {},
   "outputs": [],
   "source": []
  },
  {
   "cell_type": "markdown",
   "id": "b16f92b6",
   "metadata": {},
   "source": [
    "### Ejercicio 9:\n",
    "- Obtener los valores únicos de la columna **`Continente`** en una lista."
   ]
  },
  {
   "cell_type": "code",
   "execution_count": null,
   "id": "186d61ef",
   "metadata": {},
   "outputs": [],
   "source": []
  },
  {
   "cell_type": "code",
   "execution_count": null,
   "id": "6672319e",
   "metadata": {},
   "outputs": [],
   "source": []
  },
  {
   "cell_type": "code",
   "execution_count": null,
   "id": "d9dcfc12",
   "metadata": {},
   "outputs": [],
   "source": []
  },
  {
   "cell_type": "markdown",
   "id": "9a727b01",
   "metadata": {},
   "source": [
    "### Ejercicio 10:\n",
    "- Obtener el valor minimo del año 2000."
   ]
  },
  {
   "cell_type": "code",
   "execution_count": null,
   "id": "bf6e133c",
   "metadata": {},
   "outputs": [],
   "source": []
  },
  {
   "cell_type": "code",
   "execution_count": null,
   "id": "29261da6",
   "metadata": {},
   "outputs": [],
   "source": []
  },
  {
   "cell_type": "code",
   "execution_count": null,
   "id": "5a8192f4",
   "metadata": {},
   "outputs": [],
   "source": []
  },
  {
   "cell_type": "markdown",
   "id": "f69b79a4",
   "metadata": {},
   "source": [
    "### Ejercicio 11:\n",
    "- Obtener los valores máximos de 1991-2000."
   ]
  },
  {
   "cell_type": "code",
   "execution_count": null,
   "id": "76a62126",
   "metadata": {},
   "outputs": [],
   "source": []
  },
  {
   "cell_type": "code",
   "execution_count": null,
   "id": "8418ad5a",
   "metadata": {},
   "outputs": [],
   "source": []
  },
  {
   "cell_type": "code",
   "execution_count": null,
   "id": "7249bdc0",
   "metadata": {},
   "outputs": [],
   "source": []
  },
  {
   "cell_type": "markdown",
   "id": "fa13aa92",
   "metadata": {},
   "source": [
    "### Ejercicio 12:\n",
    "- Obtener una lista con la media de migración de todos los años."
   ]
  },
  {
   "cell_type": "code",
   "execution_count": null,
   "id": "de588efd",
   "metadata": {},
   "outputs": [],
   "source": []
  },
  {
   "cell_type": "code",
   "execution_count": null,
   "id": "dd50593a",
   "metadata": {},
   "outputs": [],
   "source": []
  },
  {
   "cell_type": "markdown",
   "id": "0164287c",
   "metadata": {},
   "source": [
    "### Ejercicio 13:\n",
    "- Obtener el país con más migración en el año 2010."
   ]
  },
  {
   "cell_type": "code",
   "execution_count": null,
   "id": "a09fd584-960b-4433-90fc-7abf93bfdfb1",
   "metadata": {},
   "outputs": [],
   "source": []
  },
  {
   "cell_type": "code",
   "execution_count": null,
   "id": "afc6c1d9-b6e1-4a8c-9a0f-9462bb6d2f86",
   "metadata": {},
   "outputs": [],
   "source": []
  },
  {
   "cell_type": "code",
   "execution_count": null,
   "id": "3aa51ab6-2b63-4bd3-bef6-bf8c17524aee",
   "metadata": {},
   "outputs": [],
   "source": []
  },
  {
   "cell_type": "code",
   "execution_count": null,
   "id": "852998a2-3145-4c5b-97f6-ffbd2e59440e",
   "metadata": {},
   "outputs": [],
   "source": []
  },
  {
   "cell_type": "markdown",
   "id": "fb9eaad8",
   "metadata": {},
   "source": [
    "### Ejercicio 14\n",
    "- Obtener el país con menor migración en el año 2005."
   ]
  },
  {
   "cell_type": "code",
   "execution_count": null,
   "id": "a89d4035",
   "metadata": {},
   "outputs": [],
   "source": []
  },
  {
   "cell_type": "code",
   "execution_count": null,
   "id": "9d0a68c1",
   "metadata": {},
   "outputs": [],
   "source": []
  },
  {
   "cell_type": "code",
   "execution_count": null,
   "id": "7accc134",
   "metadata": {},
   "outputs": [],
   "source": []
  },
  {
   "cell_type": "markdown",
   "id": "4c278ad5",
   "metadata": {},
   "source": [
    "### Ejercicio 15:\n",
    "- Encuentra el año en que más migración hubo de España a Canada."
   ]
  },
  {
   "cell_type": "code",
   "execution_count": null,
   "id": "e03798c0",
   "metadata": {},
   "outputs": [],
   "source": []
  },
  {
   "cell_type": "code",
   "execution_count": null,
   "id": "2abd75b5",
   "metadata": {},
   "outputs": [],
   "source": []
  },
  {
   "cell_type": "code",
   "execution_count": null,
   "id": "a02f4b50",
   "metadata": {},
   "outputs": [],
   "source": []
  },
  {
   "cell_type": "markdown",
   "id": "23cc5be8",
   "metadata": {},
   "source": [
    "### Ejercicio 16:\n",
    "- Encuentra el año en que menor migración hubo de España a Canada."
   ]
  },
  {
   "cell_type": "code",
   "execution_count": null,
   "id": "bd71d1ae",
   "metadata": {},
   "outputs": [],
   "source": []
  },
  {
   "cell_type": "code",
   "execution_count": null,
   "id": "120e2cd7",
   "metadata": {},
   "outputs": [],
   "source": []
  },
  {
   "cell_type": "code",
   "execution_count": null,
   "id": "062f7529",
   "metadata": {},
   "outputs": [],
   "source": []
  },
  {
   "cell_type": "markdown",
   "id": "8298f80b",
   "metadata": {},
   "source": [
    "### Ejercicio 17:\n",
    "- Ordena en una lista los años de migración en España de menor a mayor de acuerdo a la información de cada año."
   ]
  },
  {
   "cell_type": "code",
   "execution_count": 27,
   "id": "83d78c11-cc1b-4059-a3fa-fd93061f3a31",
   "metadata": {},
   "outputs": [
    {
     "data": {
      "text/html": [
       "<div>\n",
       "<style scoped>\n",
       "    .dataframe tbody tr th:only-of-type {\n",
       "        vertical-align: middle;\n",
       "    }\n",
       "\n",
       "    .dataframe tbody tr th {\n",
       "        vertical-align: top;\n",
       "    }\n",
       "\n",
       "    .dataframe thead th {\n",
       "        text-align: right;\n",
       "    }\n",
       "</style>\n",
       "<table border=\"1\" class=\"dataframe\">\n",
       "  <thead>\n",
       "    <tr style=\"text-align: right;\">\n",
       "      <th></th>\n",
       "      <th>1995</th>\n",
       "      <th>2001</th>\n",
       "      <th>1999</th>\n",
       "      <th>1994</th>\n",
       "      <th>2002</th>\n",
       "      <th>1998</th>\n",
       "      <th>1997</th>\n",
       "      <th>2003</th>\n",
       "      <th>2000</th>\n",
       "      <th>1985</th>\n",
       "      <th>...</th>\n",
       "      <th>2008</th>\n",
       "      <th>2010</th>\n",
       "      <th>1987</th>\n",
       "      <th>2011</th>\n",
       "      <th>2009</th>\n",
       "      <th>1980</th>\n",
       "      <th>1982</th>\n",
       "      <th>2012</th>\n",
       "      <th>1981</th>\n",
       "      <th>2013</th>\n",
       "    </tr>\n",
       "  </thead>\n",
       "  <tbody>\n",
       "    <tr>\n",
       "      <th>161</th>\n",
       "      <td>78</td>\n",
       "      <td>79</td>\n",
       "      <td>81</td>\n",
       "      <td>84</td>\n",
       "      <td>87</td>\n",
       "      <td>87</td>\n",
       "      <td>88</td>\n",
       "      <td>89</td>\n",
       "      <td>93</td>\n",
       "      <td>98</td>\n",
       "      <td>...</td>\n",
       "      <td>169</td>\n",
       "      <td>174</td>\n",
       "      <td>176</td>\n",
       "      <td>179</td>\n",
       "      <td>195</td>\n",
       "      <td>211</td>\n",
       "      <td>260</td>\n",
       "      <td>262</td>\n",
       "      <td>299</td>\n",
       "      <td>331</td>\n",
       "    </tr>\n",
       "  </tbody>\n",
       "</table>\n",
       "<p>1 rows × 34 columns</p>\n",
       "</div>"
      ],
      "text/plain": [
       "     1995  2001  1999  1994  2002  1998  1997  2003  2000  1985  ...  2008  \\\n",
       "161    78    79    81    84    87    87    88    89    93    98  ...   169   \n",
       "\n",
       "     2010  1987  2011  2009  1980  1982  2012  1981  2013  \n",
       "161   174   176   179   195   211   260   262   299   331  \n",
       "\n",
       "[1 rows x 34 columns]"
      ]
     },
     "execution_count": 27,
     "metadata": {},
     "output_type": "execute_result"
    }
   ],
   "source": [
    "df[df['Pais']=='Spain'][[i for i in range(1980,2014)]].T.sort_values(161).T\n"
   ]
  },
  {
   "cell_type": "code",
   "execution_count": null,
   "id": "b79e4846",
   "metadata": {},
   "outputs": [],
   "source": []
  },
  {
   "cell_type": "code",
   "execution_count": null,
   "id": "53b1a728",
   "metadata": {},
   "outputs": [],
   "source": []
  },
  {
   "cell_type": "markdown",
   "id": "4d895b14",
   "metadata": {},
   "source": [
    "### Ejercicio 18:\n",
    "- Crea una lista con todos los países."
   ]
  },
  {
   "cell_type": "code",
   "execution_count": null,
   "id": "16be4e85",
   "metadata": {},
   "outputs": [],
   "source": []
  },
  {
   "cell_type": "code",
   "execution_count": null,
   "id": "5ac6396a",
   "metadata": {},
   "outputs": [],
   "source": []
  },
  {
   "cell_type": "code",
   "execution_count": null,
   "id": "69a9a9d2",
   "metadata": {},
   "outputs": [],
   "source": []
  },
  {
   "cell_type": "markdown",
   "id": "ed58810b",
   "metadata": {},
   "source": [
    "### Ejercicio 19:\n",
    "- Encuentra el número de paises por continente y agrega los nombres a un diccionario.\n",
    "    - Ejemplo: **`{\"Asía\" : 20, \"Africa\" : 10, \"Europa\" : 5}`**"
   ]
  },
  {
   "cell_type": "code",
   "execution_count": null,
   "id": "b46d1fb2",
   "metadata": {},
   "outputs": [],
   "source": []
  },
  {
   "cell_type": "code",
   "execution_count": null,
   "id": "dd70064a",
   "metadata": {},
   "outputs": [],
   "source": []
  },
  {
   "cell_type": "code",
   "execution_count": null,
   "id": "982d20b0",
   "metadata": {},
   "outputs": [],
   "source": []
  },
  {
   "cell_type": "markdown",
   "id": "c353ddef",
   "metadata": {},
   "source": [
    "### Ejercicio 20:\n",
    "- Crea un DataFrame a partir del diccionario anterior."
   ]
  },
  {
   "cell_type": "code",
   "execution_count": null,
   "id": "9d394ba0",
   "metadata": {},
   "outputs": [],
   "source": []
  },
  {
   "cell_type": "code",
   "execution_count": null,
   "id": "4746538a",
   "metadata": {},
   "outputs": [],
   "source": []
  },
  {
   "cell_type": "code",
   "execution_count": null,
   "id": "65300975",
   "metadata": {},
   "outputs": [],
   "source": []
  },
  {
   "cell_type": "markdown",
   "id": "efb22aae",
   "metadata": {},
   "source": [
    "### Ejercicio 21:\n",
    "- Repite los últimos dos ejercicios tomando en cuenta que america latina y america del norte son un solo continente."
   ]
  },
  {
   "cell_type": "code",
   "execution_count": null,
   "id": "f81d26d0",
   "metadata": {},
   "outputs": [],
   "source": []
  },
  {
   "cell_type": "code",
   "execution_count": null,
   "id": "71994f5b",
   "metadata": {},
   "outputs": [],
   "source": []
  },
  {
   "cell_type": "code",
   "execution_count": null,
   "id": "ea854e82",
   "metadata": {},
   "outputs": [],
   "source": []
  },
  {
   "cell_type": "markdown",
   "id": "352092b8",
   "metadata": {},
   "source": [
    "### Ejercicio 22:\n",
    "- Crea un DataFrame por continente y en cada DataFrame apareceran los paises de dicho contiente.\n",
    "- Muestra las 3 primeras filas de cada DataFrame."
   ]
  },
  {
   "cell_type": "code",
   "execution_count": null,
   "id": "e497217a",
   "metadata": {},
   "outputs": [],
   "source": []
  },
  {
   "cell_type": "code",
   "execution_count": null,
   "id": "2fc6a13c",
   "metadata": {},
   "outputs": [],
   "source": []
  },
  {
   "cell_type": "code",
   "execution_count": null,
   "id": "6da4abfd",
   "metadata": {},
   "outputs": [],
   "source": []
  },
  {
   "cell_type": "markdown",
   "id": "a3eeb181",
   "metadata": {},
   "source": [
    "### Ejercicio 23:\n",
    "- Obtener los valores maximos de migración de cada año y crea un DataFrame con los años y el número de migración máximo de cada año.\n",
    "\n",
    "|     |Año |Numero de Migrantes|\n",
    "|-----|----|-------------------|\n",
    "|**0**|1980|22045              |\n",
    "|**1**|1981|24796              |\n",
    "|**2**|1982|20620              |\n",
    "|**3**|1983|10015              |\n",
    "|**4**|1984|10170              |"
   ]
  },
  {
   "cell_type": "code",
   "execution_count": null,
   "id": "5af864f2",
   "metadata": {},
   "outputs": [],
   "source": []
  },
  {
   "cell_type": "code",
   "execution_count": null,
   "id": "e36ee9b2",
   "metadata": {},
   "outputs": [],
   "source": []
  },
  {
   "cell_type": "code",
   "execution_count": null,
   "id": "7d1d6125",
   "metadata": {},
   "outputs": [],
   "source": []
  },
  {
   "cell_type": "markdown",
   "id": "8d762598",
   "metadata": {},
   "source": [
    "### Ejercicio 24:\n",
    "- Ordenar por número mayor de migración a menor el DataFrame anterior."
   ]
  },
  {
   "cell_type": "code",
   "execution_count": null,
   "id": "8ebae29e",
   "metadata": {},
   "outputs": [],
   "source": []
  },
  {
   "cell_type": "code",
   "execution_count": null,
   "id": "aa5dd93a",
   "metadata": {},
   "outputs": [],
   "source": []
  },
  {
   "cell_type": "code",
   "execution_count": null,
   "id": "5f4a6b96",
   "metadata": {},
   "outputs": [],
   "source": []
  },
  {
   "cell_type": "markdown",
   "id": "ebde50e8",
   "metadata": {},
   "source": [
    "### Ejercicio 25:\n",
    "- Obtener el promedio y la mediana de cada año de migración y agregar al dataframe anterior."
   ]
  },
  {
   "cell_type": "code",
   "execution_count": null,
   "id": "b9c7efee",
   "metadata": {},
   "outputs": [],
   "source": []
  },
  {
   "cell_type": "code",
   "execution_count": null,
   "id": "84d977ad",
   "metadata": {},
   "outputs": [],
   "source": []
  },
  {
   "cell_type": "code",
   "execution_count": null,
   "id": "0f5c3554",
   "metadata": {},
   "outputs": [],
   "source": []
  },
  {
   "cell_type": "markdown",
   "id": "331277c1",
   "metadata": {},
   "source": [
    "### Ejercicio 26:\n",
    "- Encontrar el año en que hubo más migración por continente y crear un dataframe con nombre de continente, el año de máxima migración y cantidad de migración.\n",
    "\n",
    "|\t  |Continente|Año |Migraciones|\n",
    "|-----|----------|----|-----------|\n",
    "|**0**|Asia\t     |2005|42584      |\n",
    "|**1**|Europe\t |1994|39231      |\n",
    "|**2**|Africa\t |2010|6242       |\n",
    "|**3**|Oceania\t |1992|1782       |\n",
    "|**4**|America\t |2008|10190      |"
   ]
  },
  {
   "cell_type": "code",
   "execution_count": null,
   "id": "f5408938",
   "metadata": {},
   "outputs": [],
   "source": []
  },
  {
   "cell_type": "code",
   "execution_count": null,
   "id": "b2ed28a8",
   "metadata": {},
   "outputs": [],
   "source": []
  },
  {
   "cell_type": "code",
   "execution_count": null,
   "id": "5cfd000f",
   "metadata": {},
   "outputs": [],
   "source": []
  },
  {
   "cell_type": "markdown",
   "id": "5626edb6",
   "metadata": {},
   "source": [
    "### Ejercicio 27:\n",
    "- Encontrar los 10 paises con más migración entre el 2008 y 2010.\n",
    "\n",
    "|       |Pais                                             |2008 |2009 |\t2010|migracion_2010|\n",
    "|-------|-------------------------------------------------|-----|-----|-----|--------------|\n",
    "|**136**|Philippines                                      |24887|28573|38617|         92077|\n",
    "|**79** |India                                            |28261|29456|34235|         91952|\n",
    "|**36** |China                                            |30037|29622|30391|         90050|\n",
    "|**185**|United States of America                         |10190|8995 |8142 |         27327|\n",
    "|**183**|United Kingdom of Great Britain and Northern I...|8979 |8876 |8724 |         26579|\n",
    "|**130**|Pakistan                                         |8994 |7217 |6811 |         23022|\n",
    "|**81** |Iran (Islamic Republic of)                       |6475 |6580 |7477 |         20532|\n",
    "|**140**|Republic of Korea                                |7294 |5874 |5537 |         18705|\n",
    "|**116**|Morocco                                          |4226 |5532 |6242 |         16000|\n",
    "|**39** |Colombia                                         |5452 |4652 |5218 |         15322|"
   ]
  },
  {
   "cell_type": "code",
   "execution_count": null,
   "id": "9564a261",
   "metadata": {},
   "outputs": [],
   "source": []
  },
  {
   "cell_type": "code",
   "execution_count": null,
   "id": "05ec9a6b",
   "metadata": {},
   "outputs": [],
   "source": []
  },
  {
   "cell_type": "code",
   "execution_count": null,
   "id": "0d340ed7",
   "metadata": {},
   "outputs": [],
   "source": []
  },
  {
   "cell_type": "markdown",
   "id": "633e5bba",
   "metadata": {},
   "source": [
    "### Ejercicio 28:\n",
    "- Agregar una columna al DataFrame inicial con el número total de migración de 1980 al 2013 por pais."
   ]
  },
  {
   "cell_type": "code",
   "execution_count": null,
   "id": "cdb5c708",
   "metadata": {},
   "outputs": [],
   "source": []
  },
  {
   "cell_type": "code",
   "execution_count": null,
   "id": "1a4fe325",
   "metadata": {},
   "outputs": [],
   "source": []
  },
  {
   "cell_type": "code",
   "execution_count": null,
   "id": "2dc02780",
   "metadata": {},
   "outputs": [],
   "source": []
  },
  {
   "cell_type": "markdown",
   "id": "a90225d5",
   "metadata": {},
   "source": [
    "### Ejercicio 29:\n",
    "- Encuentra el país de cada continente con más migración y crea un DataFrame con estos paises."
   ]
  },
  {
   "cell_type": "code",
   "execution_count": null,
   "id": "6f754af4",
   "metadata": {},
   "outputs": [],
   "source": []
  },
  {
   "cell_type": "code",
   "execution_count": null,
   "id": "c6d32539",
   "metadata": {},
   "outputs": [],
   "source": []
  },
  {
   "cell_type": "code",
   "execution_count": null,
   "id": "34754a0c",
   "metadata": {},
   "outputs": [],
   "source": []
  },
  {
   "cell_type": "markdown",
   "id": "bdc2ca60",
   "metadata": {},
   "source": [
    "### Ejercicio 30:\n",
    "- Encontrar los 3 paises con más migración de cada continente y agregarlos en un DataFrame.\n",
    "\n",
    "|       |Continente|Pais                                             |Total Migracion|\n",
    "|-------|----------|-------------------------------------------------|---------------|\n",
    "|**79**\t|Asia\t   |India                                            |691904         |\n",
    "|**36**\t|Asia\t   |China                                            |659962         |\n",
    "|**136**|Asia\t   |Philippines                                      |511391         |\n",
    "|**183**|Europa\t   |United Kingdom of Great Britain and Northern I...|551500         |\n",
    "|**137**|Europa\t   |Poland                                           |139241         |\n",
    "|**63**\t|Europa\t   |France                                           |109091         |\n",
    "|**55**\t|Africa\t   |Egypt                                            |72745          |\n",
    "|**116**|Africa\t   |Morocco                                          |72267          |\n",
    "|**2**\t|Africa\t   |Algeria                                          |69439          |\n",
    "|**9**\t|Oceania   |Australia                                        |23829          |\n",
    "|**61**\t|Oceania   |Fiji                                             |20609          |\n",
    "|**124**|Oceania   |New Zealand                                      |10386          |\n",
    "|**185**|America   |United States of America                         |241122         |\n",
    "|**86**\t|America   |Jamaica                                          |106431         |\n",
    "|**75**\t|America   |Haiti                                            |84813          |"
   ]
  },
  {
   "cell_type": "code",
   "execution_count": null,
   "id": "f0e48d98",
   "metadata": {},
   "outputs": [],
   "source": []
  },
  {
   "cell_type": "code",
   "execution_count": null,
   "id": "21663cab",
   "metadata": {},
   "outputs": [],
   "source": []
  },
  {
   "cell_type": "code",
   "execution_count": null,
   "id": "e8610e22",
   "metadata": {},
   "outputs": [],
   "source": []
  },
  {
   "cell_type": "markdown",
   "id": "4d6cf5ab",
   "metadata": {},
   "source": [
    "### Ejercicio 31:\n",
    "- Cambiar los nombres de cada continente a español (utilizando un bucle for)."
   ]
  },
  {
   "cell_type": "code",
   "execution_count": null,
   "id": "2e9b6b20",
   "metadata": {},
   "outputs": [],
   "source": []
  },
  {
   "cell_type": "code",
   "execution_count": null,
   "id": "2b22cd50",
   "metadata": {},
   "outputs": [],
   "source": []
  },
  {
   "cell_type": "code",
   "execution_count": null,
   "id": "36f3b7c5",
   "metadata": {},
   "outputs": [],
   "source": []
  },
  {
   "cell_type": "markdown",
   "id": "4c8b9454",
   "metadata": {},
   "source": [
    "#### Extra: Obtener un DataFrame que te parezca relevante a partir de la aplicación de filtros. ¡Se creativo!"
   ]
  },
  {
   "cell_type": "code",
   "execution_count": null,
   "id": "d402393a",
   "metadata": {},
   "outputs": [],
   "source": []
  },
  {
   "cell_type": "code",
   "execution_count": null,
   "id": "e274d687",
   "metadata": {},
   "outputs": [],
   "source": []
  },
  {
   "cell_type": "code",
   "execution_count": null,
   "id": "7cbd4de9",
   "metadata": {},
   "outputs": [],
   "source": []
  }
 ],
 "metadata": {
  "kernelspec": {
   "display_name": "Python 3 (ipykernel)",
   "language": "python",
   "name": "python3"
  },
  "language_info": {
   "codemirror_mode": {
    "name": "ipython",
    "version": 3
   },
   "file_extension": ".py",
   "mimetype": "text/x-python",
   "name": "python",
   "nbconvert_exporter": "python",
   "pygments_lexer": "ipython3",
   "version": "3.9.7"
  }
 },
 "nbformat": 4,
 "nbformat_minor": 5
}
