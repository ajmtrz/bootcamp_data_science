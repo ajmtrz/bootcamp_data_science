{
 "cells": [
  {
   "cell_type": "markdown",
   "id": "f3ba530e",
   "metadata": {},
   "source": [
    "## Ejercicios plotly"
   ]
  },
  {
   "cell_type": "code",
   "execution_count": null,
   "id": "eab5c268",
   "metadata": {},
   "outputs": [],
   "source": [
    "import numpy as np\n",
    "import pandas as pd\n",
    "\n",
    "import matplotlib.pyplot as plt\n",
    "import seaborn as sns\n",
    "\n",
    "import plotly.express as px\n",
    "\n",
    "from datetime import datetime"
   ]
  },
  {
   "cell_type": "markdown",
   "id": "0159c8cc",
   "metadata": {},
   "source": [
    "**ref**: _https://www.kaggle.com/datasets/matthieugimbert/french-bakery-daily-sales_"
   ]
  },
  {
   "cell_type": "markdown",
   "id": "5d78a17a",
   "metadata": {},
   "source": [
    "### Ejercicio 0:\n",
    "- Carga el DataFrame **`Bakery sales.csv`**."
   ]
  },
  {
   "cell_type": "code",
   "execution_count": null,
   "id": "eef2fd82",
   "metadata": {},
   "outputs": [],
   "source": [
    "df = pd.read_csv(\"Bakery sales.csv\")\n",
    "\n",
    "df"
   ]
  },
  {
   "cell_type": "markdown",
   "id": "6293f5d2",
   "metadata": {},
   "source": [
    "### Ejercicio 1:\n",
    "- Transforma la columna **`unit_price`** a `float`.\n",
    "\n",
    "\n",
    "- Transforma la columna **`date`** a `datetime`.\n",
    "\n",
    "\n",
    "- Crea las columnas **`weekday`**, **`month`**, **`year`** y **`hour`**. Las columnas **`weekday`** y **`month`** deben estar representados por nombre, no por número."
   ]
  },
  {
   "cell_type": "code",
   "execution_count": null,
   "id": "2475fa5e",
   "metadata": {},
   "outputs": [],
   "source": [
    "# unit_price a float\n",
    "\n",
    "df[\"unit_price\"] = df[\"unit_price\"].apply(lambda x : float(x.split(\" \")[0].replace(\",\", \".\")))"
   ]
  },
  {
   "cell_type": "code",
   "execution_count": null,
   "id": "b42f1708",
   "metadata": {},
   "outputs": [],
   "source": [
    "# date a datetime\n",
    "\n",
    "df[\"date\"] = df[\"date\"].apply(lambda x : datetime.strptime(x, \"%Y-%m-%d\"))"
   ]
  },
  {
   "cell_type": "code",
   "execution_count": null,
   "id": "a8418048",
   "metadata": {},
   "outputs": [],
   "source": [
    "# weekday, month, year y hour\n",
    "\n",
    "df[\"weekday\"] = df[\"date\"].apply(lambda x : x.strftime(\"%A\"))\n",
    "\n",
    "df[\"month\"] = df[\"date\"].apply(lambda x : x.strftime(\"%B\"))\n",
    "\n",
    "df[\"year\"] = df[\"date\"].apply(lambda x : x.year)\n",
    "\n",
    "df[\"hour\"] = df[\"time\"].apply(lambda x : float(x.split(\":\")[0]))"
   ]
  },
  {
   "cell_type": "code",
   "execution_count": null,
   "id": "4a3064a9",
   "metadata": {},
   "outputs": [],
   "source": [
    "df"
   ]
  },
  {
   "cell_type": "markdown",
   "id": "ce1ccadc",
   "metadata": {},
   "source": [
    "### Ejercicio 2:\n",
    "\n",
    "¿A que hora se venden más productos?\n",
    "\n",
    "- Grafica un histograma usando la columna de `hour` y `quantity`.\n",
    "- Agrega el parámetro `color = year` y `nbins = 50`."
   ]
  },
  {
   "cell_type": "code",
   "execution_count": null,
   "id": "a8ed629b",
   "metadata": {},
   "outputs": [],
   "source": [
    "px.histogram(data_frame = df,\n",
    "             x          = \"hour\",\n",
    "             y          = \"quantity\",\n",
    "             color      = \"year\",\n",
    "             nbins      = 50)"
   ]
  },
  {
   "cell_type": "markdown",
   "id": "c6c750f0",
   "metadata": {},
   "source": [
    "### Ejercicio 3:\n",
    "- De la gráfica anterior quita el filtro por color y separa la gráfica en dos, usando el parámetro `facet_col`.\n",
    "- Agrega a esa gráfica un violin plot usando el parámetro `marginal`."
   ]
  },
  {
   "cell_type": "code",
   "execution_count": null,
   "id": "84b8288c",
   "metadata": {},
   "outputs": [],
   "source": [
    "px.histogram(data_frame = df,\n",
    "             x          = \"hour\",\n",
    "             y          = \"quantity\",\n",
    "             nbins      = 50,\n",
    "             marginal   = \"violin\",\n",
    "             facet_col  = \"year\")"
   ]
  },
  {
   "cell_type": "markdown",
   "id": "73d86c3c",
   "metadata": {},
   "source": [
    "### Ejercicio 4:\n",
    "\n",
    "- Filtra el **DataFrame** por las filas donde la columna `article` tenga la palabra **\"BAGUETTE\"**.\n",
    "    - ```html\n",
    "      df[df[\"article\"].str.contains(\"\")]\n",
    "      ```\n",
    "    \n",
    "- Haz una gráfica de **`sunburst`**, separando por año y mes, mostrando la cantidad de elementos vendidos usando el filtro de **\"BAGUETTE\"**."
   ]
  },
  {
   "cell_type": "code",
   "execution_count": null,
   "id": "0fdeea4d",
   "metadata": {},
   "outputs": [],
   "source": [
    "px.sunburst(data_frame = df[df[\"article\"].str.contains(\"BAGUETTE\")],\n",
    "            values     = \"quantity\",\n",
    "            path       = [\"year\", \"month\"])"
   ]
  },
  {
   "cell_type": "markdown",
   "id": "3766aadd",
   "metadata": {},
   "source": [
    "### Ejercicio 5:\n",
    "- Calcula el precio total de cada fila, multiplicando las columnas `quantity` y `unit_price`. Crea una nueva columna `total_article_price` con esta información.\n",
    "\n",
    "- Elimina las filas donde `quantity` tiene un outlier.\n",
    "\n",
    "- Haz un violin plot con esa nueva columna."
   ]
  },
  {
   "cell_type": "code",
   "execution_count": null,
   "id": "b3e6d1db",
   "metadata": {},
   "outputs": [],
   "source": [
    "df[\"total_article_price\"] = df[\"quantity\"]*df[\"unit_price\"]\n",
    "\n",
    "df"
   ]
  },
  {
   "cell_type": "code",
   "execution_count": null,
   "id": "2285ec12",
   "metadata": {},
   "outputs": [],
   "source": [
    "df = df[df[\"quantity\"].between(0, df[\"quantity\"].quantile(q = 0.6))].reset_index(drop = True)\n",
    "\n",
    "df.head()"
   ]
  },
  {
   "cell_type": "code",
   "execution_count": null,
   "id": "5a9ccc0b",
   "metadata": {},
   "outputs": [],
   "source": [
    "df.shape"
   ]
  },
  {
   "cell_type": "code",
   "execution_count": null,
   "id": "5c563ef2",
   "metadata": {},
   "outputs": [],
   "source": [
    "px.violin(data_frame = df,\n",
    "                   x = \"total_article_price\")"
   ]
  },
  {
   "cell_type": "markdown",
   "id": "5b27437e",
   "metadata": {},
   "source": [
    "### Ejercicio 6:\n",
    "- Agrupa el **DataFrame** por fecha y obten la suma de la columna **`total_article_price`**. Crea un **DataFrame** nuevo.\n",
    "- Busca la forma de quedarte con la columna **`weekday`** durante la agrupación.\n",
    "- Haz un line plot con este **DataFrame**, utiliza también la columna **`weekday`**."
   ]
  },
  {
   "cell_type": "code",
   "execution_count": null,
   "id": "3fa61706",
   "metadata": {},
   "outputs": [],
   "source": [
    "df2 = df.groupby(\"date\", as_index = False).agg({\"total_article_price\" : \"sum\",\n",
    "                                                \"weekday\"             : \"max\"})\n",
    "df2"
   ]
  },
  {
   "cell_type": "code",
   "execution_count": null,
   "id": "6e9a827f",
   "metadata": {},
   "outputs": [],
   "source": [
    "px.line(data_frame = df2,\n",
    "        x          = \"date\",\n",
    "        y          = \"total_article_price\",\n",
    "        color      = \"weekday\")"
   ]
  },
  {
   "cell_type": "markdown",
   "id": "4f71fe4f",
   "metadata": {},
   "source": [
    "### Ejercicio 7:\n",
    "- Crea un nuevo DataFrame agrupando por la columna **`ticket_number`**, que tenga como columnas la suma de **`quantity`**, **`total_article_price`** y el maximo de **`year`**. Renombra las columnas.\n",
    "\n",
    "- Haz un box plot usando la columnas **`quantity`** y **`year`**."
   ]
  },
  {
   "cell_type": "code",
   "execution_count": null,
   "id": "126f4fcc",
   "metadata": {},
   "outputs": [],
   "source": [
    "df2 = df.groupby(by = \"ticket_number\", as_index = False).agg({\"quantity\"            : [\"sum\"],\n",
    "                                                              \"total_article_price\" : [\"sum\"],\n",
    "                                                              \"year\"                : [\"max\"]})\n",
    "\n",
    "df2.columns = [x[0] for x in df2.columns]\n",
    "\n",
    "df2"
   ]
  },
  {
   "cell_type": "code",
   "execution_count": null,
   "id": "0b8fbae3",
   "metadata": {},
   "outputs": [],
   "source": [
    "px.box(data_frame = df2,\n",
    "       x          = \"year\",\n",
    "       y          = \"quantity\")"
   ]
  },
  {
   "cell_type": "markdown",
   "id": "93da8acf",
   "metadata": {},
   "source": [
    "### Ejercicio 8:\n",
    "- Haz un pie plot mostrando el total vendido por día de la semana.\n",
    "- Haz un pie plot mostrando el total vendido por mes."
   ]
  },
  {
   "cell_type": "code",
   "execution_count": null,
   "id": "6b901f0b",
   "metadata": {},
   "outputs": [],
   "source": [
    "px.pie(data_frame = df,\n",
    "       names      = \"weekday\",\n",
    "       values     = \"total_article_price\")"
   ]
  },
  {
   "cell_type": "code",
   "execution_count": null,
   "id": "ebbcefaf",
   "metadata": {},
   "outputs": [],
   "source": [
    "px.pie(data_frame = df,\n",
    "       names      = \"month\",\n",
    "       values     = \"total_article_price\")"
   ]
  },
  {
   "cell_type": "markdown",
   "id": "8c4811e2",
   "metadata": {},
   "source": [
    "### Ejercicio 9:\n",
    "- Agrupa los datos por la columna **`article`** y crea un nuevo DataFrame, donde las columnas sean la suma de **`quantity`** y **`total_article_price`** y la media de **`unit_price`** y el mínimo/máximo de **`year`**.\n",
    "- Encuentra cuales son los 20 elementos más vendidos y muestralos en un bar plot, usa la columna **`total_article_price`** con el parámetro `color`."
   ]
  },
  {
   "cell_type": "code",
   "execution_count": null,
   "id": "fb306175",
   "metadata": {},
   "outputs": [],
   "source": [
    "df3 = df.groupby(by = \"article\", as_index = False).agg({\"quantity\"            : [\"sum\"],\n",
    "                                                        \"total_article_price\" : [\"sum\"],\n",
    "                                                        \"unit_price\"          : [\"mean\"],\n",
    "                                                        \"year\"                : [\"min\"]})\n",
    "\n",
    "df3.columns = [x[0] for x in df3]\n",
    "\n",
    "df3"
   ]
  },
  {
   "cell_type": "code",
   "execution_count": null,
   "id": "b35153e7",
   "metadata": {},
   "outputs": [],
   "source": [
    "px.bar(data_frame = df3.sort_values(by = \"quantity\", ascending = False).head(20),\n",
    "       x          = \"article\",\n",
    "       y          = \"quantity\",\n",
    "       color      = \"total_article_price\")"
   ]
  },
  {
   "cell_type": "markdown",
   "id": "9b3ab5e4",
   "metadata": {},
   "source": [
    "### Ejercicio 10:\n",
    "- Usando el DataFrame, crea una nueva columna **`article_new`**, si el artículo de esa fila no está entre los 20 más vendidos entonces que tenga el nombre de **`OTRO`**, si el artículo está si entre los 20 más vendidos que no se cambie el nombre.\n",
    "\n",
    "- Repite el bar plot anterior, esta vez usando todas las filas."
   ]
  },
  {
   "cell_type": "code",
   "execution_count": null,
   "id": "24b82b65",
   "metadata": {},
   "outputs": [],
   "source": [
    "mas_vendidos = df3.sort_values(by = \"article\", ascending = False).head(20)[\"article\"].values"
   ]
  },
  {
   "cell_type": "code",
   "execution_count": null,
   "id": "a2c8a450",
   "metadata": {},
   "outputs": [],
   "source": [
    "df3[\"article_new\"] = df3[\"article\"].apply(lambda x : x if x in mas_vendidos else \"OTRO\")\n",
    "\n",
    "df3"
   ]
  },
  {
   "cell_type": "code",
   "execution_count": null,
   "id": "0a19c39a",
   "metadata": {},
   "outputs": [],
   "source": [
    "px.bar(data_frame = df3,\n",
    "       x          = \"article_new\",\n",
    "       y          = \"quantity\",\n",
    "       color      = \"total_article_price\")"
   ]
  },
  {
   "cell_type": "code",
   "execution_count": null,
   "id": "e2d6db00",
   "metadata": {},
   "outputs": [],
   "source": [
    "################################################################################################################################"
   ]
  }
 ],
 "metadata": {
  "kernelspec": {
   "display_name": "Python 3 (ipykernel)",
   "language": "python",
   "name": "python3"
  },
  "language_info": {
   "codemirror_mode": {
    "name": "ipython",
    "version": 3
   },
   "file_extension": ".py",
   "mimetype": "text/x-python",
   "name": "python",
   "nbconvert_exporter": "python",
   "pygments_lexer": "ipython3",
   "version": "3.9.12"
  }
 },
 "nbformat": 4,
 "nbformat_minor": 5
}
