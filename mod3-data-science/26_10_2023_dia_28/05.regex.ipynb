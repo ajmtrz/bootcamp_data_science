{
 "cells": [
  {
   "cell_type": "markdown",
   "id": "67de028b",
   "metadata": {},
   "source": [
    "## Regular expressions (expresiones regulares) o regex\n",
    "\n",
    "```python\n",
    "import re\n",
    "```\n",
    "\n",
    "Una **`expresión regular`** es una cadena de caracteres que es utilizada para describir o encontrar patrones dentro de otros strings, en base al uso de delimitadores y ciertas reglas de sintaxis.\n",
    "\n",
    "|Función                     | Descripción                                                                |\n",
    "|----------------------------|----------------------------------------------------------------------------|\n",
    "|**`re.search(re, string)`** | Encuentra la primera ocurrencia de un **`re`** en un string.               |\n",
    "|**`re.findall(re, string)`**| Encuentra todas las ocurrencias de un **`re`** en un string.               |\n",
    "|**`re.compile()`**          | Convierte un patron de **`regex`** de **`string`** a un objeto **`regex`**.|\n",
    "|**`re.split(re, string)`**  | Similar a **`.split()`** de python.                                        |\n",
    "|**`re.sub(re, string)`**    | Similar a **`.replace()`** de python.                                      |\n",
    "\n",
    "\n",
    "\n",
    "|regex       | Descripción|\n",
    "|------------|------------|\n",
    "|**`\\`**     | Marca de caractér especial.                                             |\n",
    "|**`.`**     | Cualquier caracter menos salto de linea.                                |\n",
    "|**`\\d`**    | Un dígito (0-9).                                                        |\n",
    "|**`\\D`**    | Alfabético (No dígito (0-9)).                                           |\n",
    "|**`\\w`**    | Cualquier caracter alfanumerico (a-z, A-Z, 0-9, \\_).                    |\n",
    "|**`\\W`**    | Cualquier caracter no alfanumerico.                                     |\n",
    "|**`\\s`**    | Caracter de tipo espacio (espacio, tabulador, salto de linea).          |\n",
    "|**`\\S`**    | Caracter diferente de tipo espacio (espacio, tabulador, salto de linea).|\n",
    "|**`\\b`**    | Principio o final de palabras.                                          |\n",
    "|**`\\B`**    | Opuesto al principio o final de palabras.                               |\n",
    "|**`^`**     | Comienzo de una linea.                                                  |\n",
    "|**`$`**     | Final de una linea.                                                     |\n",
    "|**`[]`**    | Conjunto de caracteres opcionales.                                      |\n",
    "|**`[^ ]`**  | Excluye caracteres opcionales.                                          |\n",
    "|**`\\|`**    | O inclusivo.                                                            |\n",
    "|**`( )`**   | Agrupar caracteres.                                                     |\n",
    "|**`*`**     | 0 o mas.                                                                |\n",
    "|**`+`**     | 1 o mas.                                                                |\n",
    "|**`?`**     | 0 o 1.                                                                  |\n",
    "|**`{3}`**   | Numero exacto.                                                          |\n",
    "|**`{3, 4}`**| Rango de numeros (Minimo, Maximo).                                      |"
   ]
  },
  {
   "cell_type": "code",
   "execution_count": 1,
   "id": "55836636",
   "metadata": {},
   "outputs": [],
   "source": [
    "import re"
   ]
  },
  {
   "cell_type": "code",
   "execution_count": 2,
   "id": "352e387d",
   "metadata": {},
   "outputs": [
    {
     "data": {
      "text/plain": [
       "<re.Match object; span=(11, 16), match='todos'>"
      ]
     },
     "execution_count": 2,
     "metadata": {},
     "output_type": "execute_result"
    }
   ],
   "source": [
    "# Para buscar (similar a find de listas)\n",
    "\n",
    "re.search(r\"todos\", \"Buen día a todos\")\n",
    "\n",
    "# Retorna un objeto \"re\" con los indices donde esta la coincidencia"
   ]
  },
  {
   "cell_type": "code",
   "execution_count": 5,
   "id": "69502dab",
   "metadata": {},
   "outputs": [
    {
     "data": {
      "text/plain": [
       "(11, 16)"
      ]
     },
     "execution_count": 5,
     "metadata": {},
     "output_type": "execute_result"
    }
   ],
   "source": [
    "# Para buscar (similar a find)\n",
    "\n",
    "re.search(r\"todos\", \"Buen día a todos\").span() \n",
    "\n",
    "# Con span(0) retorna los indices donde esta la coincidencia en una tupla"
   ]
  },
  {
   "cell_type": "code",
   "execution_count": 6,
   "id": "1b2411f3",
   "metadata": {},
   "outputs": [
    {
     "data": {
      "text/plain": [
       "['todos', 'todos']"
      ]
     },
     "execution_count": 6,
     "metadata": {},
     "output_type": "execute_result"
    }
   ],
   "source": [
    "# Realiza una busqueda de todas las ocurrencias\n",
    "\n",
    "re.findall(r\"todos\", \"Buen día a todos. Como todos los días hoy será un gran día\")\n",
    "\n",
    "# Retorna una lista con los elementos que encontró"
   ]
  },
  {
   "cell_type": "code",
   "execution_count": 7,
   "id": "9303b425",
   "metadata": {},
   "outputs": [
    {
     "data": {
      "text/plain": [
       "<callable_iterator at 0x29679dc59a0>"
      ]
     },
     "execution_count": 7,
     "metadata": {},
     "output_type": "execute_result"
    }
   ],
   "source": [
    "# Similar a re.findall\n",
    "\n",
    "pattern  = re.compile(\"todos\")\n",
    "\n",
    "pattern.finditer(\"Buen día a todos. Como todos los días hoy será un gran día\")\n",
    "\n",
    "# .finditer() retorna un iterador (similar a un generador)"
   ]
  },
  {
   "cell_type": "code",
   "execution_count": 9,
   "id": "dde66fda",
   "metadata": {},
   "outputs": [
    {
     "name": "stdout",
     "output_type": "stream",
     "text": [
      "<re.Match object; span=(11, 16), match='todos'>\n",
      "(11, 16)\n",
      "todos\n",
      "******************************\n",
      "<re.Match object; span=(23, 28), match='todos'>\n",
      "(23, 28)\n",
      "todos\n",
      "******************************\n",
      "<re.Match object; span=(88, 93), match='todos'>\n",
      "(88, 93)\n",
      "todos\n",
      "******************************\n"
     ]
    }
   ],
   "source": [
    "pattern  = re.compile(\"todos\")\n",
    "iterador = pattern.finditer(\"Buen día a todos. Como todos los días hoy será un gran día. Todos los dias sale el sol, todos\")\n",
    "\n",
    "for i in iterador:\n",
    "    print(f\"{i}\\n{i.span(0)}\\n{i.group(0)}\")\n",
    "    print(\"*\"*30)"
   ]
  },
  {
   "cell_type": "code",
   "execution_count": 10,
   "id": "eeec06aa",
   "metadata": {},
   "outputs": [
    {
     "data": {
      "text/plain": [
       "['Buen',\n",
       " 'día',\n",
       " 'a',\n",
       " 'todos.',\n",
       " 'Como',\n",
       " 'todos',\n",
       " 'los',\n",
       " 'días',\n",
       " 'hoy',\n",
       " 'será',\n",
       " 'un',\n",
       " 'gran',\n",
       " 'día.']"
      ]
     },
     "execution_count": 10,
     "metadata": {},
     "output_type": "execute_result"
    }
   ],
   "source": [
    "# Similar a .split()\n",
    "re.split(r\" \", \"Buen día a todos. Como todos los días hoy será un gran día.\")"
   ]
  },
  {
   "cell_type": "code",
   "execution_count": 11,
   "id": "6e17d60c",
   "metadata": {},
   "outputs": [
    {
     "data": {
      "text/plain": [
       "'Buen día a tod@s. Como tod@s los días hoy será un gran día.'"
      ]
     },
     "execution_count": 11,
     "metadata": {},
     "output_type": "execute_result"
    }
   ],
   "source": [
    "# Similar a replace\n",
    "re.sub(r\"todos\", \"tod@s\", \"Buen día a todos. Como todos los días hoy será un gran día.\")"
   ]
  },
  {
   "cell_type": "markdown",
   "id": "783577a3",
   "metadata": {},
   "source": [
    "#### Usando metacaracteres"
   ]
  },
  {
   "cell_type": "code",
   "execution_count": 12,
   "id": "cc0b580e",
   "metadata": {},
   "outputs": [
    {
     "data": {
      "text/plain": [
       "['a', 'a', 'a', 'a', 'a']"
      ]
     },
     "execution_count": 12,
     "metadata": {},
     "output_type": "execute_result"
    }
   ],
   "source": [
    "# Encuentra las vocales a\n",
    "\n",
    "re.findall(r\"a\", \"Buen día a todos. Como todos los días hoy será un gran día\")"
   ]
  },
  {
   "cell_type": "code",
   "execution_count": 13,
   "id": "55bc01f2-0aad-47d8-a64c-25ecb0f1dbde",
   "metadata": {},
   "outputs": [
    {
     "name": "stdout",
     "output_type": "stream",
     "text": [
      "<re.Match object; span=(7, 8), match='a'>\n",
      "(7, 8)\n",
      "a\n",
      "******************************\n",
      "<re.Match object; span=(9, 10), match='a'>\n",
      "(9, 10)\n",
      "a\n",
      "******************************\n",
      "<re.Match object; span=(35, 36), match='a'>\n",
      "(35, 36)\n",
      "a\n",
      "******************************\n",
      "<re.Match object; span=(52, 53), match='a'>\n",
      "(52, 53)\n",
      "a\n",
      "******************************\n",
      "<re.Match object; span=(57, 58), match='a'>\n",
      "(57, 58)\n",
      "a\n",
      "******************************\n",
      "<re.Match object; span=(72, 73), match='a'>\n",
      "(72, 73)\n",
      "a\n",
      "******************************\n",
      "<re.Match object; span=(76, 77), match='a'>\n",
      "(76, 77)\n",
      "a\n",
      "******************************\n"
     ]
    }
   ],
   "source": [
    "pattern  = re.compile(\"a\")\n",
    "iterador = pattern.finditer(\"Buen día a todos. Como todos los días hoy será un gran día. Todos los dias sale el sol, todos\")\n",
    "\n",
    "for i in iterador:\n",
    "    print(f\"{i}\\n{i.span(0)}\\n{i.group(0)}\")\n",
    "    print(\"*\"*30)"
   ]
  },
  {
   "cell_type": "code",
   "execution_count": null,
   "id": "44fc5328",
   "metadata": {},
   "outputs": [
    {
     "data": {
      "text/plain": [
       "['e', 'a', 'a', 'a', 'e', 'a', 'a']"
      ]
     },
     "execution_count": 14,
     "metadata": {},
     "output_type": "execute_result"
    }
   ],
   "source": [
    "# Encuentra las vocales a y e\n",
    "\n",
    "re.findall(r\"[ae]\", \"Buen día a todos. Como todos los días hoy será un gran día\")"
   ]
  },
  {
   "cell_type": "code",
   "execution_count": null,
   "id": "a276be73",
   "metadata": {},
   "outputs": [],
   "source": [
    "# Encuentra todas las vocales\n",
    "\n",
    "re.findall(r\"[aeiou]\", \"Buen día a todos. Como todos los días hoy será un gran día\")"
   ]
  },
  {
   "cell_type": "code",
   "execution_count": 15,
   "id": "d0b3a46a",
   "metadata": {},
   "outputs": [
    {
     "data": {
      "text/plain": [
       "['todos', 'todas', 'todes', 'tod@s']"
      ]
     },
     "execution_count": 15,
     "metadata": {},
     "output_type": "execute_result"
    }
   ],
   "source": [
    "# El punto indica cualquier elemento\n",
    "\n",
    "re.findall(r\"tod.s\", \"todos, todas, todes, tod@s\")"
   ]
  },
  {
   "cell_type": "code",
   "execution_count": 16,
   "id": "6168b4b4",
   "metadata": {},
   "outputs": [
    {
     "data": {
      "text/plain": [
       "['B', 'C']"
      ]
     },
     "execution_count": 16,
     "metadata": {},
     "output_type": "execute_result"
    }
   ],
   "source": [
    "# Encuentra todas las mayusculas a través de un rango\n",
    "\n",
    "re.findall(r\"[A-Z]\", \"Buen día a todos. Como todos los días hoy será un gran día\")"
   ]
  },
  {
   "cell_type": "code",
   "execution_count": 17,
   "id": "10b8293f",
   "metadata": {
    "scrolled": true
   },
   "outputs": [
    {
     "data": {
      "text/plain": [
       "['u',\n",
       " 'e',\n",
       " 'n',\n",
       " 'd',\n",
       " 'a',\n",
       " 'a',\n",
       " 't',\n",
       " 'o',\n",
       " 'd',\n",
       " 'o',\n",
       " 's',\n",
       " 'o',\n",
       " 'm',\n",
       " 'o',\n",
       " 't',\n",
       " 'o',\n",
       " 'd',\n",
       " 'o',\n",
       " 's',\n",
       " 'l',\n",
       " 'o',\n",
       " 's',\n",
       " 'd',\n",
       " 'a',\n",
       " 's',\n",
       " 'h',\n",
       " 'o',\n",
       " 'y',\n",
       " 's',\n",
       " 'e',\n",
       " 'r',\n",
       " 'u',\n",
       " 'n',\n",
       " 'g',\n",
       " 'r',\n",
       " 'a',\n",
       " 'n',\n",
       " 'd',\n",
       " 'a']"
      ]
     },
     "execution_count": 17,
     "metadata": {},
     "output_type": "execute_result"
    }
   ],
   "source": [
    "# Encuentra todas las minusculas a través de un rango\n",
    "\n",
    "re.findall(r\"[a-z]\", \"Buen día a todos. Como todos los días hoy será un gran día\")"
   ]
  },
  {
   "cell_type": "markdown",
   "id": "8eb5d112",
   "metadata": {},
   "source": [
    "**Las expresiones regulares se pueden concatenar para formar nuevas expresiones regulares; si A y B son expresiones regulares, AB también es una expresión regular. En general, si una cadena p coincide con A y otra cadena q coincide con B , la cadena \"pq\" coincidirá con AB**"
   ]
  },
  {
   "cell_type": "code",
   "execution_count": 18,
   "id": "d1abcb84",
   "metadata": {},
   "outputs": [
    {
     "data": {
      "text/plain": [
       "['Bu', 'Co']"
      ]
     },
     "execution_count": 18,
     "metadata": {},
     "output_type": "execute_result"
    }
   ],
   "source": [
    "# Encuentra todas las mayusculas a través de un rango seguido de una minuscula\n",
    "\n",
    "re.findall(r\"[A-Z][a-z]\", \"Buen día a todos. Como todos los días hoy será un gran día\")"
   ]
  },
  {
   "cell_type": "code",
   "execution_count": null,
   "id": "495d7623",
   "metadata": {},
   "outputs": [],
   "source": [
    "# Encuentra todas las mayusculas a través de un rango seguido de 3 minusculas\n",
    "\n",
    "re.findall(r\"[A-Z][a-z][a-z][a-z]\", \"Buen día a todos. Como todos los días hoy será un gran día\")"
   ]
  },
  {
   "cell_type": "code",
   "execution_count": 19,
   "id": "efc7649c",
   "metadata": {},
   "outputs": [
    {
     "data": {
      "text/plain": [
       "['3', '1']"
      ]
     },
     "execution_count": 19,
     "metadata": {},
     "output_type": "execute_result"
    }
   ],
   "source": [
    "# Encuentra números\n",
    "\n",
    "re.findall(r\"[0-9]\", \"El 31 de diciembre es noche vieja\")"
   ]
  },
  {
   "cell_type": "code",
   "execution_count": 20,
   "id": "b7fb81ca",
   "metadata": {},
   "outputs": [
    {
     "data": {
      "text/plain": [
       "['3', '1']"
      ]
     },
     "execution_count": 20,
     "metadata": {},
     "output_type": "execute_result"
    }
   ],
   "source": [
    "# Encuentra números\n",
    "\n",
    "re.findall(r\"[\\d]\", \"El 31 de diciembre es noche vieja\")"
   ]
  },
  {
   "cell_type": "code",
   "execution_count": 21,
   "id": "7279fed7",
   "metadata": {},
   "outputs": [
    {
     "data": {
      "text/plain": [
       "['E',\n",
       " 'l',\n",
       " ' ',\n",
       " ' ',\n",
       " 'd',\n",
       " 'e',\n",
       " ' ',\n",
       " 'd',\n",
       " 'i',\n",
       " 'c',\n",
       " 'i',\n",
       " 'e',\n",
       " 'm',\n",
       " 'b',\n",
       " 'r',\n",
       " 'e',\n",
       " ' ',\n",
       " 'e',\n",
       " 's',\n",
       " ' ',\n",
       " 'n',\n",
       " 'o',\n",
       " 'c',\n",
       " 'h',\n",
       " 'e',\n",
       " ' ',\n",
       " 'v',\n",
       " 'i',\n",
       " 'e',\n",
       " 'j',\n",
       " 'a']"
      ]
     },
     "execution_count": 21,
     "metadata": {},
     "output_type": "execute_result"
    }
   ],
   "source": [
    "# Que NO coincida con un número\n",
    "\n",
    "re.findall(r\"[^0-9]\", \"El 31 de diciembre es noche vieja\")"
   ]
  },
  {
   "cell_type": "code",
   "execution_count": 22,
   "id": "3f26074b",
   "metadata": {},
   "outputs": [
    {
     "data": {
      "text/plain": [
       "['E',\n",
       " 'l',\n",
       " ' ',\n",
       " ' ',\n",
       " 'd',\n",
       " 'e',\n",
       " ' ',\n",
       " 'd',\n",
       " 'i',\n",
       " 'c',\n",
       " 'i',\n",
       " 'e',\n",
       " 'm',\n",
       " 'b',\n",
       " 'r',\n",
       " 'e',\n",
       " ' ',\n",
       " 'e',\n",
       " 's',\n",
       " ' ',\n",
       " 'n',\n",
       " 'o',\n",
       " 'c',\n",
       " 'h',\n",
       " 'e',\n",
       " ' ',\n",
       " 'v',\n",
       " 'i',\n",
       " 'e',\n",
       " 'j',\n",
       " 'a']"
      ]
     },
     "execution_count": 22,
     "metadata": {},
     "output_type": "execute_result"
    }
   ],
   "source": [
    "# Similar a [^0-9]\n",
    "\n",
    "re.findall(r\"[\\D]\", \"El 31 de diciembre es noche vieja\")"
   ]
  },
  {
   "cell_type": "code",
   "execution_count": 23,
   "id": "09bcd304",
   "metadata": {},
   "outputs": [
    {
     "data": {
      "text/plain": [
       "['31']"
      ]
     },
     "execution_count": 23,
     "metadata": {},
     "output_type": "execute_result"
    }
   ],
   "source": [
    "# Encuentra un número con 2 dígitos\n",
    "\n",
    "re.findall(r\"[0-9][0-9]\", \"El 31 de diciembre es noche vieja\")"
   ]
  },
  {
   "cell_type": "code",
   "execution_count": 24,
   "id": "f95cec2c",
   "metadata": {},
   "outputs": [
    {
     "data": {
      "text/plain": [
       "['31']"
      ]
     },
     "execution_count": 24,
     "metadata": {},
     "output_type": "execute_result"
    }
   ],
   "source": [
    "# Encuentra un número con 2 dígitos\n",
    "\n",
    "re.findall(r\"[\\d][\\d]\", \"El 31 de diciembre es noche vieja\")"
   ]
  },
  {
   "cell_type": "code",
   "execution_count": 25,
   "id": "8b2b3c17",
   "metadata": {},
   "outputs": [
    {
     "data": {
      "text/plain": [
       "['#', '@', '#']"
      ]
     },
     "execution_count": 25,
     "metadata": {},
     "output_type": "execute_result"
    }
   ],
   "source": [
    "# Encuentra todos los elementos que no sean números, letras ni espacios\n",
    "\n",
    "re.findall(r\"[^a-zA-Z0-9\\s]\", \"De #Vacaciones con @MiAmigo en la #Playa\")"
   ]
  },
  {
   "cell_type": "code",
   "execution_count": 26,
   "id": "e3855d28-b288-454e-8c74-df54e242b2ff",
   "metadata": {},
   "outputs": [
    {
     "data": {
      "text/plain": [
       "['De ', 'Vacaciones con ', 'MiAmigo en la ', 'Playa']"
      ]
     },
     "execution_count": 26,
     "metadata": {},
     "output_type": "execute_result"
    }
   ],
   "source": [
    "re.split(r\"[^a-zA-Z0-9\\s]\", \"De #Vacaciones con @MiAmigo en la #Playa\")"
   ]
  },
  {
   "cell_type": "code",
   "execution_count": 28,
   "id": "eefb5dbd",
   "metadata": {},
   "outputs": [
    {
     "data": {
      "text/plain": [
       "['!', '#', '@', '#', '!']"
      ]
     },
     "execution_count": 28,
     "metadata": {},
     "output_type": "execute_result"
    }
   ],
   "source": [
    "# Encuentra todos los hashtag y arrobas\n",
    "\n",
    "re.findall(r\"[^\\w\\s]\", \"!De #Vacaciones con @MiAmigo en la #Playa!\")"
   ]
  },
  {
   "cell_type": "code",
   "execution_count": 29,
   "id": "873179b9",
   "metadata": {},
   "outputs": [
    {
     "data": {
      "text/plain": [
       "['Vacaciones', 'MiAmigo', 'Playa']"
      ]
     },
     "execution_count": 29,
     "metadata": {},
     "output_type": "execute_result"
    }
   ],
   "source": [
    "# Encuentra todos los hashtag y arrobas\n",
    "\n",
    "re.findall(r\"[^a-zA-Z0-9\\s](\\w+)\", \"De #Vacaciones con @MiAmigo en la #Playa\")"
   ]
  },
  {
   "cell_type": "code",
   "execution_count": 30,
   "id": "bd779e9c",
   "metadata": {},
   "outputs": [
    {
     "data": {
      "text/plain": [
       "['Vacaciones', 'Playa']"
      ]
     },
     "execution_count": 30,
     "metadata": {},
     "output_type": "execute_result"
    }
   ],
   "source": [
    "# Encuentra todos los hashtag\n",
    "re.findall(r\"#(\\w+)\", \"De #Vacaciones con @MiAmigo en la #Playa\")"
   ]
  },
  {
   "cell_type": "code",
   "execution_count": 31,
   "id": "0bf5c76d",
   "metadata": {},
   "outputs": [
    {
     "data": {
      "text/plain": [
       "['MiAmigo']"
      ]
     },
     "execution_count": 31,
     "metadata": {},
     "output_type": "execute_result"
    }
   ],
   "source": [
    "# Encuentra todos los arrobas\n",
    "re.findall(r\"@(\\w+)\", \"De #Vacaciones con @MiAmigo en la #Playa\")"
   ]
  },
  {
   "cell_type": "code",
   "execution_count": 32,
   "id": "eff355eb-dedf-4243-b8c6-12d69a28ea8b",
   "metadata": {},
   "outputs": [
    {
     "data": {
      "text/plain": [
       "['hola@como.es', '12123asdsa.asdas@sd.com', 'jelous_mary@msn.com']"
      ]
     },
     "execution_count": 32,
     "metadata": {},
     "output_type": "execute_result"
    }
   ],
   "source": [
    "pattern = r\"[a-zA-Z0-9]+\\.?\\_?[a-zA-Z0-9]+@[a-zA-Z0-9]+\\.[a-zA-Z][a-zA-Z]+\"\n",
    "\n",
    "re.findall(pattern, \"hola@como.es, 12123asdsa.asdas@sd.com, _asdas@asd.1212, jelous_mary@msn.com\")"
   ]
  },
  {
   "cell_type": "markdown",
   "id": "c70209c3",
   "metadata": {},
   "source": [
    "### Ejercicios:\n",
    "- Crea las **`regex`** para encontrar lo siguiente y describe que trabajo realizan los **`metacaracteres`**:\n",
    "1. Un número telefonico de España\n",
    "2. Un hashtag que comience con un número en lugar de una letra\n",
    "3. Un hashtag que comience con un número o letra\n",
    "4. Un número impar de dos dígitos\n",
    "5. Palabras que comiencen con \"_\"\n",
    "6. Palabras que comiencen con \"\\\\\"\n",
    "7. Palabras que tengan la siguiente estructura: \"<....>\" (menor que al inicio y mayor que la final).\n",
    "8. Palabras que contengan un número al final\n",
    "9. Un correo electronico de gmail.com\n",
    "10. Cualquier correo electronico que termine en .com"
   ]
  },
  {
   "cell_type": "code",
   "execution_count": null,
   "id": "78c9e38b",
   "metadata": {},
   "outputs": [],
   "source": []
  }
 ],
 "metadata": {
  "kernelspec": {
   "display_name": "Python 3 (ipykernel)",
   "language": "python",
   "name": "python3"
  },
  "language_info": {
   "codemirror_mode": {
    "name": "ipython",
    "version": 3
   },
   "file_extension": ".py",
   "mimetype": "text/x-python",
   "name": "python",
   "nbconvert_exporter": "python",
   "pygments_lexer": "ipython3",
   "version": "3.9.7"
  }
 },
 "nbformat": 4,
 "nbformat_minor": 5
}
