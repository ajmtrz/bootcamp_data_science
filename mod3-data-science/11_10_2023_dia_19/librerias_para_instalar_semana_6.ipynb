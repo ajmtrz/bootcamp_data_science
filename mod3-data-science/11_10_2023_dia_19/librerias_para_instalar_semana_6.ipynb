{
 "cells": [
  {
   "cell_type": "markdown",
   "id": "d212718e-5065-4756-ba6a-0d69b9a63b8b",
   "metadata": {},
   "source": [
    "# Links de las librerías que hay que tener instaladas para la semana 6"
   ]
  },
  {
   "cell_type": "markdown",
   "id": "9ad6c37b-2150-47d9-82bb-2e0c3812e9ba",
   "metadata": {},
   "source": [
    "## **Estas cuatro primeras son obligatorias**"
   ]
  },
  {
   "cell_type": "markdown",
   "id": "a499d39b-b99a-4541-a8f7-c850129ba41a",
   "metadata": {},
   "source": [
    "**Matplotlib**"
   ]
  },
  {
   "cell_type": "markdown",
   "id": "06c72afd-374d-4021-8573-a020850abbd1",
   "metadata": {},
   "source": [
    "https://matplotlib.org/stable/users/explain/quick_start.html"
   ]
  },
  {
   "cell_type": "markdown",
   "id": "ed067061-65bf-4626-98c5-344f1f26f9ce",
   "metadata": {},
   "source": [
    "**Seaborn**"
   ]
  },
  {
   "cell_type": "markdown",
   "id": "96665f67-a4ed-40a4-905e-6327de8022e8",
   "metadata": {},
   "source": [
    "https://seaborn.pydata.org/installing.html"
   ]
  },
  {
   "cell_type": "markdown",
   "id": "b35b2278-9f8d-434c-8ca5-5cab6002ccfb",
   "metadata": {},
   "source": [
    "**Plotly**"
   ]
  },
  {
   "cell_type": "markdown",
   "id": "83f9332c-11dd-47e1-bb36-194b70fca77a",
   "metadata": {},
   "source": [
    "https://plotly.com/python/getting-started/"
   ]
  },
  {
   "cell_type": "markdown",
   "id": "0d135d86-8b89-4d0b-a4ed-a007998bd9e9",
   "metadata": {},
   "source": [
    "**Folium**"
   ]
  },
  {
   "cell_type": "markdown",
   "id": "984921eb-8cb9-4f28-94ad-7bd98218ea74",
   "metadata": {},
   "source": [
    "https://python-visualization.github.io/folium/latest/getting_started.html"
   ]
  },
  {
   "cell_type": "markdown",
   "id": "dc00c1d8-0afe-4db7-8e1f-c3aad340a403",
   "metadata": {},
   "source": [
    "**Kaleido**"
   ]
  },
  {
   "cell_type": "markdown",
   "id": "b65c72fa-ff5c-4d76-972b-275eea35776e",
   "metadata": {},
   "source": [
    "https://github.com/plotly/Kaleido"
   ]
  },
  {
   "cell_type": "markdown",
   "id": "cab1137f-cec8-40b2-8aaf-1d0e1d3d6b69",
   "metadata": {},
   "source": [
    "pip install kaleido"
   ]
  },
  {
   "cell_type": "markdown",
   "id": "c2b8514d-94bf-4258-a398-22458fec567b",
   "metadata": {},
   "source": [
    "`Estas últimas es por si nos da tiempo a ver unos workshop con librerías extra de visualización, pero estaría bien tenerlas instalas por si las moscas`"
   ]
  },
  {
   "cell_type": "markdown",
   "id": "cadb4190-b180-45a2-87da-5a97c60691f9",
   "metadata": {},
   "source": [
    "**tqdm**"
   ]
  },
  {
   "cell_type": "markdown",
   "id": "8737c970-9c94-4fd7-b522-f904b895009f",
   "metadata": {},
   "source": [
    "pip install tqdm"
   ]
  },
  {
   "cell_type": "markdown",
   "id": "c0601be4-12d3-4c47-bc1a-59d5df2f82d8",
   "metadata": {},
   "source": [
    "**mpl soccer**"
   ]
  },
  {
   "cell_type": "markdown",
   "id": "f0847b4f-6e82-41c4-bcde-e61bc9003a42",
   "metadata": {},
   "source": [
    "https://mplsoccer.readthedocs.io/en/latest/index.html"
   ]
  },
  {
   "cell_type": "markdown",
   "id": "fca2198e-e0e0-4d72-88b2-52eeec1c0aae",
   "metadata": {},
   "source": []
  }
 ],
 "metadata": {
  "kernelspec": {
   "display_name": "Python 3 (ipykernel)",
   "language": "python",
   "name": "python3"
  },
  "language_info": {
   "codemirror_mode": {
    "name": "ipython",
    "version": 3
   },
   "file_extension": ".py",
   "mimetype": "text/x-python",
   "name": "python",
   "nbconvert_exporter": "python",
   "pygments_lexer": "ipython3",
   "version": "3.9.7"
  }
 },
 "nbformat": 4,
 "nbformat_minor": 5
}
