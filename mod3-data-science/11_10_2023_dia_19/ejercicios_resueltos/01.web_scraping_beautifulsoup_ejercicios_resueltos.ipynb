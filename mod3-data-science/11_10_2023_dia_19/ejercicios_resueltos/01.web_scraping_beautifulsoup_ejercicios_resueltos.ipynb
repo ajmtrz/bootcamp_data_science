{
 "cells": [
  {
   "cell_type": "markdown",
   "id": "5988379a",
   "metadata": {},
   "source": [
    "## Ejercicios Web Scraping BeautifulSoup"
   ]
  },
  {
   "cell_type": "code",
   "execution_count": null,
   "id": "029889fe",
   "metadata": {},
   "outputs": [],
   "source": [
    "import numpy as np\n",
    "import pandas as pd\n",
    "\n",
    "import requests\n",
    "from bs4 import BeautifulSoup\n",
    "\n",
    "from time import sleep"
   ]
  },
  {
   "cell_type": "markdown",
   "id": "22f45faa",
   "metadata": {},
   "source": [
    "De la pagina:\n",
    "\n",
    "https://www.recetasgratis.net/Recetas-de-Ensaladas-listado_receta-4_1.html\n",
    "\n",
    "- Sacar la siguiente información de las recetas de la primera página:\n",
    "\n",
    "1. **Nombre**\n",
    "2. **Descripcion**\n",
    "3. **Comensales**\n",
    "4. **Tiempo**\n",
    "5. **Categoria**\n",
    "6. **Dificultad**\n",
    "7. **Ingredientes**\n",
    "8. **Instrucciones**\n",
    "\n",
    "Guardalo en un DataFrame y luego en un **`.csv`**."
   ]
  },
  {
   "cell_type": "code",
   "execution_count": null,
   "id": "f92d7232",
   "metadata": {},
   "outputs": [],
   "source": [
    "url = \"https://www.recetasgratis.net/Recetas-de-Ensaladas-listado_receta-4_1.html\"\n",
    "\n",
    "response = requests.get(url)\n",
    "\n",
    "soup = BeautifulSoup(response.text, \"html.parser\")\n",
    "\n",
    "urls_recetas = [s[\"href\"] for s in soup.find_all(\"a\", class_ = \"titulo titulo--resultado\")]"
   ]
  },
  {
   "cell_type": "code",
   "execution_count": null,
   "id": "efc8b375",
   "metadata": {},
   "outputs": [],
   "source": [
    "response = requests.get(urls_recetas[0])\n",
    "\n",
    "soup = BeautifulSoup(response.text, \"html.parser\")"
   ]
  },
  {
   "cell_type": "code",
   "execution_count": null,
   "id": "d56de4b2",
   "metadata": {},
   "outputs": [],
   "source": [
    "# Nombre\n",
    "soup.find(\"h1\").text"
   ]
  },
  {
   "cell_type": "code",
   "execution_count": null,
   "id": "d9d58923",
   "metadata": {},
   "outputs": [],
   "source": [
    "# Descripcion\n",
    "soup.find(\"p\").text"
   ]
  },
  {
   "cell_type": "code",
   "execution_count": null,
   "id": "10b7d0b6",
   "metadata": {},
   "outputs": [],
   "source": [
    "# Comensales\n",
    "soup.find(\"span\", class_ = \"property comensales\").text"
   ]
  },
  {
   "cell_type": "code",
   "execution_count": null,
   "id": "f95d83a8",
   "metadata": {},
   "outputs": [],
   "source": [
    "# Tiempo\n",
    "soup.find(\"span\", class_ = \"property duracion\").text"
   ]
  },
  {
   "cell_type": "code",
   "execution_count": null,
   "id": "4df10949",
   "metadata": {},
   "outputs": [],
   "source": [
    "# Categorias\n",
    "[s.text for s in soup.find_all(\"a\", class_ = \"tag ga\")]"
   ]
  },
  {
   "cell_type": "code",
   "execution_count": null,
   "id": "943ce079",
   "metadata": {},
   "outputs": [],
   "source": [
    "# Dificultad\n",
    "soup.find(\"span\", class_ = \"property dificultad\").text"
   ]
  },
  {
   "cell_type": "code",
   "execution_count": null,
   "id": "f587bfb7",
   "metadata": {},
   "outputs": [],
   "source": [
    "# Ingredientes\n",
    "[s.text.strip() for s in soup.find(\"div\", class_ = \"ingredientes\").find_all(\"label\")]"
   ]
  },
  {
   "cell_type": "code",
   "execution_count": null,
   "id": "e8758a9c",
   "metadata": {},
   "outputs": [],
   "source": [
    "# Instrucciones\n",
    "[s.text.strip() for s in soup.find_all(\"div\", class_ = \"apartado\")]"
   ]
  },
  {
   "cell_type": "code",
   "execution_count": null,
   "id": "26030931",
   "metadata": {
    "scrolled": true
   },
   "outputs": [],
   "source": [
    "nombres, descripciones, comensales = list(), list(), list()\n",
    "tiempos, categorias, dificultades = list(), list(), list()\n",
    "ingredientes, instrucciones = list(), list()\n",
    "\n",
    "for url in urls_recetas:\n",
    "    \n",
    "    print(url)\n",
    "    \n",
    "    response = requests.get(url)\n",
    "    soup = BeautifulSoup(response.text, \"html.parser\")\n",
    "\n",
    "### Nombre #####################################################################################################################\n",
    "    try:\n",
    "        nombre = soup.find(\"h1\").text\n",
    "    except:\n",
    "        nombre = np.nan\n",
    "        \n",
    "### Descripción ################################################################################################################\n",
    "    try:\n",
    "        descripcion = soup.find(\"p\").text\n",
    "    except:\n",
    "        descripcion = np.nan\n",
    "        \n",
    "### Comensales #################################################################################################################\n",
    "    try:\n",
    "        comensal = soup.find(\"span\", class_ = \"property comensales\").text\n",
    "    except:\n",
    "        comensal = np.nan\n",
    "        \n",
    "### Tiempo #####################################################################################################################\n",
    "    try:\n",
    "        tiempo = soup.find(\"span\", class_ = \"property duracion\").text\n",
    "    except:\n",
    "        tiempo = np.nan\n",
    "        \n",
    "### Categorias #################################################################################################################\n",
    "    try:\n",
    "        categoria = [s.text for s in soup.find_all(\"a\", class_ = \"tag ga\")]\n",
    "    except:\n",
    "        categoria = np.nan\n",
    "        \n",
    "### Dificultad #################################################################################################################\n",
    "    try:\n",
    "        dificultad = soup.find(\"span\", class_ = \"property dificultad\").text\n",
    "    except:\n",
    "        dificultad = np.nan\n",
    "        \n",
    "### Ingredientes ###############################################################################################################\n",
    "    try:\n",
    "        ingrediente = [s.text.strip() for s in soup.find(\"div\", class_ = \"ingredientes\").find_all(\"label\")]\n",
    "    except:\n",
    "        ingrediente = np.nan\n",
    "        \n",
    "### Instrucciones ##############################################################################################################\n",
    "    try:\n",
    "        instruccion = [s.text.strip() for s in soup.find_all(\"div\", class_ = \"apartado\")]\n",
    "    except:\n",
    "        instruccion = np.nan\n",
    "        \n",
    "    nombres.append(nombre)\n",
    "    descripciones.append(descripcion)\n",
    "    comensales.append(comensal)\n",
    "    tiempos.append(tiempo)\n",
    "    categorias.append(categoria)\n",
    "    dificultades.append(dificultad)\n",
    "    ingredientes.append(ingrediente)\n",
    "    instrucciones.append(instruccion)\n",
    "    \n",
    "    sleep(3)"
   ]
  },
  {
   "cell_type": "code",
   "execution_count": null,
   "id": "22b11836",
   "metadata": {},
   "outputs": [],
   "source": [
    "df = pd.DataFrame()\n",
    "\n",
    "df[\"nombres\"] = nombres\n",
    "df[\"descripciones\"] = descripciones\n",
    "df[\"comensales\"] = comensales\n",
    "df[\"tiempos\"] = tiempos\n",
    "df[\"categorias\"] = categorias\n",
    "df[\"dificultades\"] = dificultades\n",
    "df[\"ingredientes\"] = ingredientes\n",
    "df[\"instrucciones\"] = instrucciones\n",
    "\n",
    "df"
   ]
  },
  {
   "cell_type": "markdown",
   "id": "6ae0d51a",
   "metadata": {},
   "source": [
    "- Repetir el ejercicio para todas las recetas de todas las páginas."
   ]
  },
  {
   "cell_type": "code",
   "execution_count": null,
   "id": "654a35b4",
   "metadata": {},
   "outputs": [],
   "source": [
    "%%time\n",
    "\n",
    "nombres, descripciones, comensales = list(), list(), list()\n",
    "tiempos, categorias, dificultades = list(), list(), list()\n",
    "ingredientes, instrucciones = list(), list()\n",
    "\n",
    "for i in range(1, 22):\n",
    "    \n",
    "    recetas_url = f\"https://www.recetasgratis.net/Recetas-de-Ensaladas-listado_receta-4_{i}.html\"\n",
    "    \n",
    "    print(recetas_url)\n",
    "    \n",
    "    response = requests.get(recetas_url)\n",
    "    \n",
    "    soup = BeautifulSoup(response.text, \"html.parser\")\n",
    "\n",
    "    urls_recetas = [s.find(\"a\", class_ = \"titulo titulo--resultado\")[\"href\"] for s in soup.find_all(\"div\", class_ = \"resultado link\")]\n",
    "    \n",
    "    for url in urls_recetas:\n",
    "\n",
    "        print(url)\n",
    "\n",
    "        response = requests.get(url)\n",
    "        soup = BeautifulSoup(response.text, \"html.parser\")\n",
    "\n",
    "### Nombre #####################################################################################################################\n",
    "        try:\n",
    "            nombre = soup.find(\"h1\").text\n",
    "        except:\n",
    "            nombre = np.nan\n",
    "\n",
    "### Descripción ################################################################################################################\n",
    "        try:\n",
    "            descripcion = soup.find(\"p\").text\n",
    "        except:\n",
    "            descripcion = np.nan\n",
    "\n",
    "### Comensales #################################################################################################################\n",
    "        try:\n",
    "            comensal = soup.find(\"span\", class_ = \"property comensales\").text\n",
    "        except:\n",
    "            comensal = np.nan\n",
    "\n",
    "### Tiempo #####################################################################################################################\n",
    "        try:\n",
    "            tiempo = soup.find(\"span\", class_ = \"property duracion\").text\n",
    "        except:\n",
    "            tiempo = np.nan\n",
    "\n",
    "### Categorias #################################################################################################################\n",
    "        try:\n",
    "            categoria = [s.text for s in soup.find_all(\"a\", class_ = \"tag ga\")]\n",
    "        except:\n",
    "            categoria = np.nan\n",
    "\n",
    "### Dificultad #################################################################################################################\n",
    "        try:\n",
    "            dificultad = soup.find(\"span\", class_ = \"property dificultad\").text\n",
    "        except:\n",
    "            dificultad = np.nan\n",
    "\n",
    "### Ingredientes ###############################################################################################################\n",
    "        try:\n",
    "            ingrediente = [s.text.strip() for s in soup.find(\"div\", class_ = \"ingredientes\").find_all(\"label\")]\n",
    "        except:\n",
    "            ingrediente = np.nan\n",
    "\n",
    "### Instrucciones ##############################################################################################################\n",
    "        try:\n",
    "            instruccion = [s.text.strip() for s in soup.find_all(\"div\", class_ = \"apartado\")]\n",
    "        except:\n",
    "            instruccion = np.nan\n",
    "\n",
    "        nombres.append(nombre)\n",
    "        descripciones.append(descripcion)\n",
    "        comensales.append(comensal)\n",
    "        tiempos.append(tiempo)\n",
    "        categorias.append(categoria)\n",
    "        dificultades.append(dificultad)\n",
    "        ingredientes.append(ingrediente)\n",
    "        instrucciones.append(instruccion)\n",
    "\n",
    "        sleep(1)"
   ]
  },
  {
   "cell_type": "code",
   "execution_count": null,
   "id": "c44bdab4",
   "metadata": {},
   "outputs": [],
   "source": [
    "df = pd.DataFrame()\n",
    "\n",
    "df[\"nombres\"] = nombres\n",
    "df[\"descripciones\"] = descripciones\n",
    "df[\"comensales\"] = comensales\n",
    "df[\"tiempos\"] = tiempos\n",
    "df[\"categorias\"] = categorias\n",
    "df[\"dificultades\"] = dificultades\n",
    "df[\"ingredientes\"] = ingredientes\n",
    "df[\"instrucciones\"] = instrucciones\n",
    "\n",
    "df"
   ]
  },
  {
   "cell_type": "code",
   "execution_count": null,
   "id": "3ee6a2b4",
   "metadata": {},
   "outputs": [],
   "source": [
    "df.to_csv(\"todas_recetas.csv\", index = False, sep = \",\")"
   ]
  },
  {
   "cell_type": "code",
   "execution_count": null,
   "id": "8e229c46",
   "metadata": {},
   "outputs": [],
   "source": [
    "################################################################################################################################"
   ]
  }
 ],
 "metadata": {
  "kernelspec": {
   "display_name": "Python 3 (ipykernel)",
   "language": "python",
   "name": "python3"
  },
  "language_info": {
   "codemirror_mode": {
    "name": "ipython",
    "version": 3
   },
   "file_extension": ".py",
   "mimetype": "text/x-python",
   "name": "python",
   "nbconvert_exporter": "python",
   "pygments_lexer": "ipython3",
   "version": "3.9.7"
  }
 },
 "nbformat": 4,
 "nbformat_minor": 5
}
