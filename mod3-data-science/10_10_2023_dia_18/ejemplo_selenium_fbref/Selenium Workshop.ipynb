{
 "cells": [
  {
   "cell_type": "markdown",
   "metadata": {},
   "source": [
    "# Web Scrapping Parte 2. Selenium"
   ]
  },
  {
   "cell_type": "markdown",
   "metadata": {},
   "source": [
    "Continuamos con el módulo de web scrapping, en este caso vamos a hablar de Selenium."
   ]
  },
  {
   "cell_type": "markdown",
   "metadata": {},
   "source": [
    "## ¿Qué es Selenium?"
   ]
  },
  {
   "cell_type": "markdown",
   "metadata": {},
   "source": [
    "\n",
    "Selenium es una herramienta ampliamente utilizada en ingeniería de datos y automatización de pruebas en el campo de la informática. Aunque es más conocida por su uso en pruebas de software, también se puede utilizar en procesos ETL (Extracción, Transformación y Carga) de datos.\n"
   ]
  },
  {
   "cell_type": "markdown",
   "metadata": {
    "tags": []
   },
   "source": [
    "<center><image src=\"src/Selenium.jpg\" alt=\"Selenium\"><center>"
   ]
  },
  {
   "cell_type": "markdown",
   "metadata": {},
   "source": [
    "## Componentes principales de Selenium.\n",
    "\n"
   ]
  },
  {
   "cell_type": "markdown",
   "metadata": {},
   "source": [
    "\n",
    "\n",
    "1. **Selenium WebDriver**: WebDriver es el núcleo de Selenium y proporciona una interfaz de programación que permite interactuar con navegadores web de forma programática. Permite automatizar tareas como navegar por páginas web, interactuar con elementos de la página (clics, llenado de formularios, selección de elementos, etc.) y extraer datos de las páginas.\n",
    "\n",
    "2. **Selenium IDE**: Selenium Integrated Development Environment (IDE) es una extensión para navegadores web que permite la grabación y reproducción de acciones en un navegador. Es útil para crear scripts de prueba de manera rápida y sencilla, pero puede ser menos versátil que WebDriver para tareas de automatización avanzadas.\n",
    "\n",
    "3. **Selenium Grid**: Selenium Grid es un componente que permite la ejecución de pruebas en paralelo en múltiples máquinas y navegadores. Es especialmente útil cuando se necesita realizar pruebas en diferentes configuraciones de navegadores y sistemas operativos de manera simultánea.\n",
    "\n",
    "A parte de estos componentes principales Selenium también dispone de:\n",
    "- *Selenium Client Libraries*: Selenium ofrece bibliotecas de cliente para varios lenguajes de programación, incluyendo Java, Python, C#, Ruby entre otros. \n",
    "\n",
    "- *Drivers de navegadores*: Selenium utiliza controladores específicos para cada navegador web que deseas automatizar. Estos controladores actúan como intermediarios entre Selenium y el navegador real. Algunos ejemplos de controladores populares son el ChromeDriver para Google Chrome, el GeckoDriver para Mozilla Firefox y el Microsoft WebDriver para Microsoft Edge.\n",
    "\n",
    "- *Selenium Standalone Server*: El servidor independiente de Selenium proporciona un entorno de ejecución para pruebas en Selenium Grid. Permite coordinar la ejecución de pruebas en diferentes máquinas y administrar los recursos de forma centralizada.\n",
    "\n",
    "- *Buscadores*: Selenium es compatible con varios navegadores web populares, como Google Chrome, Mozilla Firefox, Microsoft Edge, Safari, e incluso navegadores móviles. Cada navegador requiere su controlador específico para funcionar con Selenium.\n",
    "\n",
    "- *Frameworks de prueba*: A menudo, Selenium se utiliza en conjunto con frameworks de prueba como TestNG, JUnit o PyTest, según el lenguaje de programación que estés utilizando. Estos frameworks proporcionan estructura y funcionalidad adicional para escribir y ejecutar pruebas de software de manera eficiente.\n"
   ]
  },
  {
   "cell_type": "markdown",
   "metadata": {},
   "source": [
    "## Ventajas e inconvenientes de Selenium.\n",
    "\n",
    "### Ventajas\n",
    "\n",
    "- `Interacción con múltiples lenguajes de programación`: Selenium ofrece soporte para varios lenguajes de programación populares, incluyendo Python, Java, C#, Ruby y otros. Esto hace que sea fácil de integrar en tus flujos de trabajo de ETL, independientemente del lenguaje que prefieras.\n",
    "- `Headless mode`: Selenium puede ejecutarse en modo \"headless\", lo que significa que puede realizar las operaciones de automatización sin abrir una ventana del navegador visible. Esto lo hace más eficiente en términos de recursos y es útil cuando se automatizan tareas de extracción de datos a gran escala.\n",
    "\n",
    "### Inconvenientes\n",
    "\n",
    "- `Desafíos de mantenimiento`: Las páginas web cambian con frecuencia, lo que puede requerir actualizaciones periódicas en tus scripts Selenium para mantenerlos funcionando correctamente. Esto puede ser un desafío en procesos de ETL a largo plazo, ya que los sitios web objetivo pueden cambiar su estructura o elementos HTML.\n",
    "- `Limitaciones legales y éticas`: Al realizar web scraping con Selenium, es importante considerar las implicaciones legales y éticas. Algunos sitios pueden tener políticas que prohíban la recopilación de datos automatizada, por ello debemos asegurarnos de cumplir con las leyes y regulaciones locales y respetar los términos de servicio de los sitios web."
   ]
  },
  {
   "cell_type": "markdown",
   "metadata": {},
   "source": [
    "## Alternativas\n",
    "\n",
    " Además de Selenium, existen otras herramientas y bibliotecas que se pueden utilizar para tareas de web scraping y ETL, como Beautiful Soup (del que ya hablamos en el módulo anterior)  y Scrapy en Python, o Puppeteer en JavaScript. La elección de la herramienta dependerá de tus necesidades específicas y las tecnologías que estemos utilizando."
   ]
  },
  {
   "cell_type": "markdown",
   "metadata": {},
   "source": [
    "## Como utilizar Selenium.\n",
    "\n",
    "Como ya comentamos en el módulo anterior para utilizar el WebDriver de Selenium, debemos de tener unos conocimientos básicos de como se estructura una página web y del lenguaje de marcado HTML, con alguna diferencia respecto al uso de Beautiful Soup, en este caso en vez de localizar por etiqueta, también podemos seleccionar los elementos de la página web a partir nombre, de la clase, del CSS Selector o del XPath, para elegir el elemento a partir de alguna de estas opciones lo primero que debemos hacer es:\n",
    "- Abrir el inspector web: Pulsamos a la vez `Crtl + Shift + i` para abrir el inspector\n",
    "- Seleccionamos la opción de seleccionar elemento dentro del inspector\n",
    "- Una vez que tenemos marcado el elemento, hacemos click en el botón derecho del ratón, vamos a la opción de copiar y en el menú desplegable que se no abre elegimos la opción que queremos copiar\n",
    "\n",
    "### Elementos más relevantes dentro del Modulo WebDriver\n",
    "\n",
    "#### Como iniciar un navegador y abrir una página web\n"
   ]
  },
  {
   "cell_type": "code",
   "execution_count": null,
   "metadata": {},
   "outputs": [],
   "source": [
    "#%pip install selenium"
   ]
  },
  {
   "cell_type": "code",
   "execution_count": null,
   "metadata": {},
   "outputs": [],
   "source": [
    "from selenium import webdriver\n",
    "\n",
    "# Iniciar el navegador (por ejemplo, Chrome)\n",
    "driver = webdriver.Chrome('../chromedriver.exe')\n",
    "\n",
    "# Abrir una página web\n",
    "driver.get(\"https://www.google.com\")\n",
    "\n",
    "# Cerrar el navegador\n",
    "driver.quit()"
   ]
  },
  {
   "cell_type": "markdown",
   "metadata": {},
   "source": [
    "#### Como localizar elementos de una pagina web"
   ]
  },
  {
   "cell_type": "code",
   "execution_count": null,
   "metadata": {},
   "outputs": [],
   "source": [
    "from selenium import webdriver\n",
    "from selenium.webdriver.common.by import By\n",
    "\n",
    "driver = webdriver.Chrome()\n",
    "driver.get(\"https://www.google.com\")\n",
    "\n",
    "# Localizar un elemento por su ID\n",
    "elemento = driver.find_element(By.ID, \"elemento_id\")\n",
    "\n",
    "# Localizar un elemento por su nombre\n",
    "elemento = driver.find_element(By.NAME, \"nombre_elemento\")\n",
    "\n",
    "# Localizar varios elementos\n",
    "elementos = driver.find_elements(By.XPATH, 'xpath copiado del navegador')\n",
    "\n",
    "# En este caso nos devuelve una lista y si queremos ver uno por uno todos los elementos deberemos recorrer la lista\n",
    "\n",
    "for e in elementos:\n",
    "    print(e.text) # En este caso nos mostrará el texto del elemento seleccionado a través del xpath"
   ]
  },
  {
   "cell_type": "markdown",
   "metadata": {},
   "source": [
    "#### Interactuar con elementos"
   ]
  },
  {
   "cell_type": "code",
   "execution_count": null,
   "metadata": {},
   "outputs": [],
   "source": [
    "from selenium import webdriver\n",
    "from selenium.webdriver.common.by import By\n",
    "\n",
    "driver = webdriver.Chrome()\n",
    "driver.get(\"https://www.google.com\")\n",
    "\n",
    "# Localizar un elemento por su ID\n",
    "elemento = driver.find_element(By.ID, \"elemento_id\")\n",
    "\n",
    "elemento.click() # Hacemos click en el elemento seleccionado, por ejemplo un boton de aceptar"
   ]
  },
  {
   "cell_type": "markdown",
   "metadata": {},
   "source": [
    "#### Esperas explícitas e implícitas"
   ]
  },
  {
   "cell_type": "code",
   "execution_count": null,
   "metadata": {},
   "outputs": [],
   "source": [
    "from selenium import webdriver\n",
    "from selenium.webdriver.support.ui import WebDriverWait\n",
    "from selenium.webdriver.support import expected_conditions as EC\n",
    "\n",
    "driver = webdriver.Chrome()\n",
    "driver.get(\"https://www.ejemplo.com\")\n",
    "\n",
    "# Espera explícita hasta que un elemento sea visible\n",
    "elemento = WebDriverWait(driver, 10).until(EC.visibility_of_element_located((By.ID, \"elemento_id\")))"
   ]
  },
  {
   "cell_type": "markdown",
   "metadata": {},
   "source": [
    "Estos son algunos ejemplos del uso del WebDriver, podemos encontrar la documentación explícita para Python de cada uno de los módulos en la siguiente dirección https://selenium-python.readthedocs.io/, y si queremos ver en otros lenguages o de manera genérica en https://www.selenium.dev/ "
   ]
  },
  {
   "cell_type": "markdown",
   "metadata": {},
   "source": [
    "## Ejemplo práctico de extracción de datos con Selenium\n",
    "\n",
    "A continuación veremos un pequeño de ejemplo de como realizar un ETL básico mediante Web Scrapping con Selenium."
   ]
  },
  {
   "cell_type": "markdown",
   "metadata": {},
   "source": [
    "**Primero importamos las librerías que vamos ha utilizar**"
   ]
  },
  {
   "cell_type": "code",
   "execution_count": null,
   "metadata": {},
   "outputs": [],
   "source": [
    "from selenium import webdriver\n",
    "from selenium.webdriver.common.by import By\n",
    "from selenium.webdriver.chrome.options import Options\n",
    "import pandas as pd"
   ]
  },
  {
   "cell_type": "markdown",
   "metadata": {},
   "source": [
    "**Ahora editaremos las opciones del driver**\n",
    "\n",
    "Primero inicializamos el objeto de opciones"
   ]
  },
  {
   "cell_type": "code",
   "execution_count": null,
   "metadata": {},
   "outputs": [],
   "source": [
    "options = Options()"
   ]
  },
  {
   "cell_type": "markdown",
   "metadata": {},
   "source": [
    "A continuación veremos algunos de los parámetros que podemos añadir a nuestro objeto de opciones"
   ]
  },
  {
   "cell_type": "code",
   "execution_count": null,
   "metadata": {},
   "outputs": [],
   "source": [
    "# Con esto podemos evitar que el navegador detecte que estamos usando un software de automatización\n",
    "\n",
    "options.add_experimental_option('excludeSwitches', ['enable-automation'])\n",
    "options.add_experimental_option('useAutomationExtension', False)"
   ]
  },
  {
   "cell_type": "code",
   "execution_count": null,
   "metadata": {},
   "outputs": [],
   "source": [
    "# También podemos indicar si queremos que nos abra una ventana de navegación al ejecutar el código o no, al no abrir la ventana de navegación consumiremos menos recursos.\n",
    "\n",
    "#options.add_argument('--headless') # de esta forma nuestro código se ejecutará sin abrir el navegador"
   ]
  },
  {
   "cell_type": "code",
   "execution_count": null,
   "metadata": {},
   "outputs": [],
   "source": [
    "# Podemos guardar las cookies\n",
    "\n",
    "options.add_argument('user-data-dir=/tmp/selenium_profile')  "
   ]
  },
  {
   "cell_type": "code",
   "execution_count": null,
   "metadata": {},
   "outputs": [],
   "source": [
    "# otras opciones\n",
    "\n",
    "# options.add_argument('--incognito')              # iniciamos la sesión en modo incognito\n",
    " \n",
    "# options.add_argument('--no-proxy-server')                 # sin proxy\n",
    "# options.add_argument('proxy-server=000.000.0.00:0000')    # podemos añadir un servidor proxy"
   ]
  },
  {
   "cell_type": "markdown",
   "metadata": {},
   "source": [
    "Podemos iniciar nuestra sesión con un usuario random, en ocasiones los servidores pueden cerrar la sesión si creen que estamos usando un software de automatización, en esos casos este tipo de herramientas pueden ayudar a que esto no ocurra. \n",
    "\n",
    "Lo primero que debemos hacer es instalar la librería fake-useragent"
   ]
  },
  {
   "cell_type": "code",
   "execution_count": null,
   "metadata": {},
   "outputs": [],
   "source": [
    "·%pip install fake-useragent"
   ]
  },
  {
   "cell_type": "code",
   "execution_count": null,
   "metadata": {},
   "outputs": [],
   "source": [
    "from fake_useragent import UserAgent\n",
    "\n",
    "user = UserAgent().random\n",
    "\n",
    "print(user)"
   ]
  },
  {
   "cell_type": "code",
   "execution_count": null,
   "metadata": {},
   "outputs": [],
   "source": [
    "# ahora añadiremos nuestro usuario al objeto de opciones\n",
    "\n",
    "options.add_argument(f'user-agent={user}')"
   ]
  },
  {
   "cell_type": "markdown",
   "metadata": {},
   "source": [
    "Ahora ya podemos iniciar nuestra sesión con las opciones selecionadas"
   ]
  },
  {
   "cell_type": "code",
   "execution_count": null,
   "metadata": {},
   "outputs": [],
   "source": [
    "driver=webdriver.Chrome('../chromedriver.exe',options=options)   \n",
    "\n",
    "driver.get('https://fbref.com/es/')"
   ]
  },
  {
   "cell_type": "markdown",
   "metadata": {},
   "source": [
    "Una vez abierto el navegador como estamos iniciando una sesión nueva deberemos de aceptar las cookies del sitio para poder continuar."
   ]
  },
  {
   "cell_type": "code",
   "execution_count": null,
   "metadata": {},
   "outputs": [],
   "source": [
    "# esto nos hace click en el botón de aceptar las cookies en el caso de que sea la primera vez que visitamos la página y no tenemos guardadas las cookies\n",
    "try:\n",
    "    driver.find_element(By.CSS_SELECTOR, '#qc-cmp2-ui > div.qc-cmp2-footer.qc-cmp2-footer-overlay.qc-cmp2-footer-scrolled > div > button.css-47sehv').click()\n",
    "except:\n",
    "    pass"
   ]
  },
  {
   "cell_type": "markdown",
   "metadata": {},
   "source": [
    "En este ejemplo extraeremos los datos de todos los equipos de La Liga, pero para hacer el proceso lo más automatizado posible, primero extraeremos el nombre y el link de cada equipo de la tabla de clasificación de esta página, para ellos con el navegador abierto abriremos el inspector (`Ctrl+shift+i`), elegimos la opción de selecionar elementos y vamos a la tabla para ver que elemento es el que queremos seleccionar \n",
    "\n",
    "<center><image src=\"src\\seleccion_equipos.png\" alt=\"Selenium\"><center>"
   ]
  },
  {
   "cell_type": "code",
   "execution_count": null,
   "metadata": {},
   "outputs": [],
   "source": [
    "team_links = [] # inicializa una lista vacía\n",
    "teams = driver.find_elements(By.CLASS_NAME, 'left') # localiza todos los elementos de esta clase\n",
    "\n",
    "# itereamos por los elementos lo hemos limitado a 20, ya que la hay más elementos de esta clase, pero los que queremos son los 20 primeros, que son los que corresponden a los equipos de La Liga\n",
    "for t in teams[:20]: \n",
    "    try:\n",
    "        name = t.text # Guardamos el texto de la etiqueta\n",
    "        link = t.find_element(By.TAG_NAME, 'a').get_attribute('href') # Guardamos el atributo que contiene el link al equipo\n",
    "        team_links.append([name,link]) # Añadimos el nombre y el link en una lista, a la lista vacia inicial\n",
    "    except:\n",
    "        pass\n",
    "\n",
    "team_links"
   ]
  },
  {
   "cell_type": "markdown",
   "metadata": {},
   "source": [
    "Una vez que tenemos la lista con el nombre y el link al equipo vamos a ver si podemos extraer los datos de uno de ellos.\n",
    "\n",
    "Para ello vamos a la dirección del equipo elegido"
   ]
  },
  {
   "cell_type": "code",
   "execution_count": null,
   "metadata": {},
   "outputs": [],
   "source": [
    "driver.get(team_links[3][1])"
   ]
  },
  {
   "cell_type": "markdown",
   "metadata": {},
   "source": [
    "Podemos ver que tenemos una nueva tabla que podemos extraer de forma sencilla, para ello vamos al inspector y localizamos el elemento de la tabla, construiremos nuestra tabla paso a paso, por lo que primero seleccionaremos las columnas que tendrá nuestra tabla.\n",
    "\n",
    "<center><image src=\"src\\seleccion_columnas.png\" alt=\"Selenium\"><center>"
   ]
  },
  {
   "cell_type": "markdown",
   "metadata": {},
   "source": [
    "\n",
    "Seleccionaremos todas las columnas, pero vemos que hay más th, por lo que iterando un poco vemos que nos interesan las posiciones del 7 al 40."
   ]
  },
  {
   "cell_type": "code",
   "execution_count": null,
   "metadata": {},
   "outputs": [],
   "source": [
    "COL_NAMES = []\n",
    "columnas = driver.find_elements(By.TAG_NAME, 'th')\n",
    "cols = [e.text for e in columnas[:50]]\n",
    "cols\n",
    "\n",
    "start = cols.index('Jugador')\n",
    "end = start + 33\n",
    "print(start, end)\n",
    "for c in columnas[start:end]:\n",
    "    COL_NAMES.append(c.text)\n",
    "\n",
    "COL_NAMES"
   ]
  },
  {
   "cell_type": "markdown",
   "metadata": {},
   "source": [
    "Una vez que tenemos el nombre de las columnas vamos a seleccionar a los jugadores, en este caso utilizaremos el Xpath del elemento, nos devolverá un string separado por saltos de linea '\\n', por lo que editaremos este string para generar una lista que nos devolvera un string por cada fila de la tabla, que a su vez 'limpiaremos' para que nos devuelva la tabla lo más limpia posible."
   ]
  },
  {
   "cell_type": "code",
   "execution_count": null,
   "metadata": {},
   "outputs": [],
   "source": [
    "# Quitamos las dos primeras filas que corresponden a los nombres de las columnas que ya hemos extraido anteriormente\n",
    "\n",
    "players_stats = driver.find_element(By.XPATH, '//*[@id=\"stats_standard_12\"]').text.split('\\n')[2:]\n"
   ]
  },
  {
   "cell_type": "code",
   "execution_count": null,
   "metadata": {},
   "outputs": [],
   "source": [
    "players_stats"
   ]
  },
  {
   "cell_type": "markdown",
   "metadata": {},
   "source": [
    "Ahora recorremos cada una de las filas y generaremos las columnas de nuestra tabla tratando de que coincidan con el número de columnas que hemos seleccionado, para ello tras varios intentos e inspeccionar antes algunas tablas de distintos equipos seleccionamos los casos atípicos para evitar posibles errores a la hora de construir la tabla"
   ]
  },
  {
   "cell_type": "code",
   "execution_count": null,
   "metadata": {},
   "outputs": [],
   "source": [
    "players_stats_list = []\n",
    "for p in players_stats:\n",
    "    player = p.split(' ') # Transformamos el string en una lista\n",
    "    player_stats_fixed = []\n",
    "    # Esto nos contruye la columna de nombre este caso tiene en cuenta si el nombre tiene un 'de' o 'la' dentro del nombre\n",
    "    if player[1] == 'de' or player[2] == 'de' and player[3][1]==player[3][1].lower() or player[2] == 'la' : \n",
    "        if player[1] == 'de' and player[2]!= 'la':\n",
    "            # Une el nombre y apellidos\n",
    "            player_fixed = [f'{player[0]} {player[1]} {player[2]}']\n",
    "            # Une el nombre corregido con el resto de la lista eliminando el campo de la bandera del pais\n",
    "            player_stats_fixed = player_fixed + player[4:-1]\n",
    "        else:\n",
    "            player_fixed = [f'{player[0]} {player[1]} {player[2]} {player[3]}']\n",
    "            player_stats_fixed = player_fixed + player[5:-1]\n",
    "        # Añade los datos del jugador a la lista de jugadores\n",
    "        players_stats_list.append(player_stats_fixed)\n",
    "    # Este caso tiene en cuenta que el nombre del jugador tenga un nombre compuesto y dos apellidos\n",
    "    elif player[2][0] == player[2][0].upper() and player[3][0] == player[3][0].upper() and len(player[3])>3 and ',' not in player[3]:\n",
    "        player_fixed = [f'{player[0]} {player[1]} {player[2]} {player[3]}']\n",
    "        player_stats_fixed = player_fixed + player[5:-1]\n",
    "        players_stats_list.append(player_stats_fixed)\n",
    "        # Este caso tiene en cuenta que el nombre del jugador tenga un nombre compuesto o dos apellidos\n",
    "    elif player[2][0] == player[2][0].upper() and player[2]!=player[2].upper():\n",
    "        player_fixed = [f'{player[0]} {player[1]} {player[2]}']\n",
    "        player_stats_fixed = player_fixed + player[4:-1]\n",
    "        players_stats_list.append(player_stats_fixed)\n",
    "        # Este caso contempla que el nombre del jugador tiene nombre y un apellido\n",
    "    elif player[1][0]==player[1][0].upper():\n",
    "        player_fixed = [f'{player[0]} {player[1]}']\n",
    "        player_stats_fixed = player_fixed + player[3:-1]\n",
    "        players_stats_list.append(player_stats_fixed)\n",
    "        # Caso para guardar los datos totales del equipo y datos totales de los equipos visitantes\n",
    "    elif player[0] == 'Total':\n",
    "        # Unimos los campos texto de total\n",
    "        player_fixed = [f'{player[0]} {player[1]} {player[2]}']\n",
    "        # Añadimos dos columnas vacias después de la columna que acabamos de crear con el nombre\n",
    "        player_stats_fixed = player_fixed + ['-','-'] + player[3:]\n",
    "        players_stats_list.append(player_stats_fixed)\n",
    "    # Por último contemplamos los jugadores que tienen un único nombre\n",
    "    else:\n",
    "        # eliminamos el índice correspondiente al campo de la bandera del pais\n",
    "        player.pop(1)\n",
    "        # añadimos la lista quitando el último elemento\n",
    "        players_stats_list.append(player[:-1])"
   ]
  },
  {
   "cell_type": "code",
   "execution_count": null,
   "metadata": {},
   "outputs": [],
   "source": [
    "players_pd = pd.DataFrame(players_stats_list, columns=COL_NAMES)"
   ]
  },
  {
   "cell_type": "markdown",
   "metadata": {},
   "source": [
    "Podemos ver que el campo edad tiene la edad en años y días, vamos a limpiarla para que quede un poco más claro"
   ]
  },
  {
   "cell_type": "code",
   "execution_count": null,
   "metadata": {},
   "outputs": [],
   "source": [
    "players_pd"
   ]
  },
  {
   "cell_type": "code",
   "execution_count": null,
   "metadata": {},
   "outputs": [],
   "source": [
    "players_pd['Edad'] = players_pd['Edad'].apply(lambda x: x if x == None else x.split('-')[0])\n",
    "players_pd"
   ]
  },
  {
   "cell_type": "markdown",
   "metadata": {},
   "source": [
    "Para finalizar guardamos nuestro dataframe en un csv"
   ]
  },
  {
   "cell_type": "code",
   "execution_count": null,
   "metadata": {},
   "outputs": [],
   "source": [
    "players_pd.to_csv(f'data/{team_links[3][0]}_stats.csv', index=False)"
   ]
  },
  {
   "cell_type": "markdown",
   "metadata": {},
   "source": [
    "Una vez que hemos comprobado que nuestro código es funcional, lo encapsularemos en diferentes funciones para poder reutilizarlo y extraer los datos de los 20 equipos de primera división en un único porceso"
   ]
  },
  {
   "cell_type": "code",
   "execution_count": null,
   "metadata": {},
   "outputs": [],
   "source": [
    "from selenium import webdriver\n",
    "from selenium.webdriver.common.by import By\n",
    "from selenium.webdriver.chrome.options import Options\n",
    "import pandas as pd\n",
    "from fake_useragent import UserAgent\n",
    "from datetime import datetime"
   ]
  },
  {
   "cell_type": "code",
   "execution_count": null,
   "metadata": {},
   "outputs": [],
   "source": [
    "def get_teams_links(driver)->list:\n",
    "\n",
    "    team_links = []\n",
    "    teams = driver.find_elements(By.CLASS_NAME, 'left')\n",
    "\n",
    "    for t in teams[:20]:\n",
    "        try:\n",
    "            name = t.text\n",
    "            link = t.find_element(By.TAG_NAME, 'a').get_attribute('href')\n",
    "            team_links.append([name,link])\n",
    "        except:\n",
    "            pass\n",
    "\n",
    "    return team_links\n"
   ]
  },
  {
   "cell_type": "code",
   "execution_count": null,
   "metadata": {},
   "outputs": [],
   "source": [
    "def get_column_names(driver)->list:\n",
    "\n",
    "    COL_NAMES = []\n",
    "    columnas = driver.find_elements(By.TAG_NAME, 'th')\n",
    "    cols = [e.text for e in columnas[:50]]\n",
    "    try:\n",
    "        start = cols.index('Jugador')\n",
    "        end = start + 33\n",
    "        for c in cols[start:end]:\n",
    "            COL_NAMES.append(c)\n",
    "    except:\n",
    "        for c in columnas[7:40]:\n",
    "            COL_NAMES.append(c.text)\n",
    "    \n",
    "    return COL_NAMES\n"
   ]
  },
  {
   "cell_type": "code",
   "execution_count": null,
   "metadata": {},
   "outputs": [],
   "source": [
    "def create_players_pd(driver, COL_NAMES:list)-> pd.DataFrame:\n",
    "\n",
    "    players_stats = driver.find_element(By.XPATH, '//*[@id=\"stats_standard_12\"]').text.split('\\n')[2:]\n",
    "\n",
    "    players_stats_list = []\n",
    "    for p in players_stats:\n",
    "        player = p.split(' ')\n",
    "        player_stats_fixed = []\n",
    "        if player[1] == 'de' or player[2] == 'de' and player[3][1]==player[3][1].lower() or player[2] == 'la' : \n",
    "            if player[1] == 'de' and player[2]!= 'la':\n",
    "                player_fixed = [f'{player[0]} {player[1]} {player[2]}']\n",
    "                player_stats_fixed = player_fixed + player[4:-1]\n",
    "            else:\n",
    "                player_fixed = [f'{player[0]} {player[1]} {player[2]} {player[3]}']\n",
    "                player_stats_fixed = player_fixed + player[5:-1]\n",
    "            players_stats_list.append(player_stats_fixed)\n",
    "        elif player[2][0] == player[2][0].upper() and player[3][0] == player[3][0].upper() and len(player[3])>3 and ',' not in player[3]:\n",
    "            player_fixed = [f'{player[0]} {player[1]} {player[2]} {player[3]}']\n",
    "            player_stats_fixed = player_fixed + player[5:-1]\n",
    "            players_stats_list.append(player_stats_fixed)\n",
    "        elif player[2][0] == player[2][0].upper() and player[2]!=player[2].upper():\n",
    "            player_fixed = [f'{player[0]} {player[1]} {player[2]}']\n",
    "            player_stats_fixed = player_fixed + player[4:-1]\n",
    "            players_stats_list.append(player_stats_fixed)\n",
    "\n",
    "        elif player[1][0]==player[1][0].upper():\n",
    "            player_fixed = [f'{player[0]} {player[1]}']\n",
    "            player_stats_fixed = player_fixed + player[3:-1]\n",
    "            players_stats_list.append(player_stats_fixed)\n",
    "        elif player[0] == 'Total':\n",
    "            player_fixed = [f'{player[0]} {player[1]} {player[2]}']\n",
    "            player_stats_fixed = player_fixed + ['-','-'] + player[3:]\n",
    "            players_stats_list.append(player_stats_fixed)\n",
    "        else:\n",
    "            player.pop(1)\n",
    "            players_stats_list.append(player[:-1])\n",
    "\n",
    "    players_pd = pd.DataFrame(players_stats_list, columns=COL_NAMES)\n",
    "\n",
    "    players_pd['Edad'] = players_pd['Edad'].apply(lambda x: x if x == None else x.split('-')[0])\n",
    "\n",
    "    return players_pd\n"
   ]
  },
  {
   "cell_type": "code",
   "execution_count": null,
   "metadata": {},
   "outputs": [],
   "source": [
    "def save_stats_pd(players_pd:pd.DataFrame, team:str)->None:\n",
    "\n",
    "    players_pd.to_csv(f'data/{team}_stats.csv', index=False)\n"
   ]
  },
  {
   "cell_type": "code",
   "execution_count": null,
   "metadata": {},
   "outputs": [],
   "source": [
    "start = datetime.now()\n",
    "user = UserAgent().random\n",
    "\n",
    "options = Options()\n",
    "options.add_experimental_option('excludeSwitches', ['enable-automation'])\n",
    "options.add_experimental_option('useAutomationExtension', False)\n",
    "#options.add_argument('user-data-dir=/tmp/selenium_profile') \n",
    "#options.add_argument(f'user-agent={user}')\n",
    "\n",
    "driver=webdriver.Chrome('../chromedriver.exe', options=options)   \n",
    "\n",
    "driver.get('https://fbref.com/es/')\n",
    "\n",
    "try:\n",
    "    driver.find_element(By.CSS_SELECTOR, '#qc-cmp2-ui > div.qc-cmp2-footer.qc-cmp2-footer-overlay.qc-cmp2-footer-scrolled > div > button.css-47sehv').click()\n",
    "except:\n",
    "    pass\n",
    "\n",
    "team_links = get_teams_links(driver)\n",
    "\n",
    "errores = 0\n",
    "for t in team_links:\n",
    "#     print(f'Creando tabla de {t[0]}')\n",
    "#     driver.get(t[1])\n",
    "#     cols = get_column_names(driver)\n",
    "\n",
    "#     team_pd = create_players_pd(driver,cols)\n",
    "\n",
    "#     save_stats_pd(team_pd, t[0])\n",
    "    try: \n",
    "        driver.get(t[1])\n",
    "        cols = get_column_names(driver)\n",
    "\n",
    "        team_pd = create_players_pd(driver,cols)\n",
    "\n",
    "        save_stats_pd(team_pd, t[0])\n",
    "    except:\n",
    "        print(f'Error al crear la tabla de {t[0]}')\n",
    "        errores += 1\n",
    "\n",
    "driver.quit()\n",
    "\n",
    "end = datetime.now()\n",
    "\n",
    "print(f'Proceso finalizado en {end - start} con {errores} errores')\n",
    "\n",
    "\n"
   ]
  },
  {
   "cell_type": "markdown",
   "metadata": {},
   "source": [
    "Mismo proceso pero sin abrir el navegador"
   ]
  },
  {
   "cell_type": "code",
   "execution_count": null,
   "metadata": {},
   "outputs": [],
   "source": [
    "start = datetime.now()\n",
    "user = UserAgent().random\n",
    "\n",
    "options = Options()\n",
    "options.add_argument('--headless')\n",
    "options.add_experimental_option('excludeSwitches', ['enable-automation'])\n",
    "options.add_experimental_option('useAutomationExtension', False)\n",
    "\n",
    "driver=webdriver.Chrome('../chromedriver.exe', options=options)   \n",
    "\n",
    "driver.get('https://fbref.com/es/')\n",
    "\n",
    "try:\n",
    "    driver.find_element(By.CSS_SELECTOR, '#qc-cmp2-ui > div.qc-cmp2-footer.qc-cmp2-footer-overlay.qc-cmp2-footer-scrolled > div > button.css-47sehv').click()\n",
    "except:\n",
    "    pass\n",
    "\n",
    "team_links = get_teams_links(driver)\n",
    "\n",
    "errores = 0\n",
    "for t in team_links:\n",
    "    print(f'Creando tabla de {t[0]}')\n",
    "    try: \n",
    "        driver.get(t[1])\n",
    "        cols = get_column_names(driver)\n",
    "\n",
    "        team_pd = create_players_pd(driver,cols)\n",
    "\n",
    "        save_stats_pd(team_pd, t[0])\n",
    "    except:\n",
    "        print(f'Error al crear la tabla de {t[0]}')\n",
    "        errores += 1\n",
    "\n",
    "driver.quit()\n",
    "\n",
    "end = datetime.now()\n",
    "\n",
    "print(f'Proceso finalizado en {end - start} con {errores} errores')"
   ]
  },
  {
   "cell_type": "markdown",
   "metadata": {},
   "source": [
    "Como hemos podido comprobar hemos reducido el tiempo de ejecución del proceso, vamos a ver si podemos mejorar el tiempo de ejecución paralelizando el proceso, para ello utilizaremos la librería joblib que nos permite lanzar procesos en paralelo."
   ]
  },
  {
   "cell_type": "code",
   "execution_count": null,
   "metadata": {},
   "outputs": [],
   "source": [
    "%pip install joblib"
   ]
  },
  {
   "cell_type": "code",
   "execution_count": null,
   "metadata": {},
   "outputs": [],
   "source": [
    "from joblib import Parallel, delayed\n",
    "from selenium.webdriver.support.ui import WebDriverWait\n",
    "from selenium.webdriver.support import expected_conditions as EC"
   ]
  },
  {
   "cell_type": "code",
   "execution_count": null,
   "metadata": {},
   "outputs": [],
   "source": [
    "def all_process(t):\n",
    "    \n",
    "    print(f'Creando tabla de {t[0]}')\n",
    "    \n",
    "    opt = Options()\n",
    "    options.add_argument('--headless')\n",
    "    opt.add_experimental_option('excludeSwitches', ['enable-automation'])\n",
    "    opt.add_experimental_option('useAutomationExtension', False)\n",
    "    #options.add_argument('user-data-dir=/tmp/selenium_profile') \n",
    "    \n",
    "    # if headless==True:\n",
    "    #     options.add_argument('--headless')\n",
    "    # else:\n",
    "    #     \n",
    "    #     options.add_argument(f'user-agent={user}')\n",
    "        \n",
    "\n",
    "    d=webdriver.Chrome('../chromedriver.exe', options=opt)\n",
    "    d.get(t[1])\n",
    "    # try:\n",
    "    #     cookies = WebDriverWait(d, 10).until(EC.visibility_of_element_located((By.CSS_SELECTOR, '#qc-cmp2-ui > div.qc-cmp2-footer.qc-cmp2-footer-overlay.qc-cmp2-footer-scrolled > div > button.css-47sehv')))\n",
    "    #     cookies.click()\n",
    "    # except:\n",
    "    #     pass\n",
    "\n",
    "    COL_NAMES = []\n",
    "    columnas = d.find_elements(By.TAG_NAME, 'th')\n",
    "    cols = [e.text for e in columnas[:50]]\n",
    "    try:\n",
    "        start = cols.index('Jugador')\n",
    "        end = start + 33\n",
    "        for c in cols[start:end]:\n",
    "            COL_NAMES.append(c)\n",
    "    except:\n",
    "        for c in columnas[7:40]:\n",
    "            COL_NAMES.append(c.text)\n",
    "    \n",
    "    players_stats = d.find_element(By.XPATH, '//*[@id=\"stats_standard_12\"]').text.split('\\n')[2:]\n",
    "\n",
    "    players_stats_list = []\n",
    "    for p in players_stats:\n",
    "        player = p.split(' ')\n",
    "        player_stats_fixed = []\n",
    "        if player[1] == 'de' or player[2] == 'de' and player[3][1]==player[3][1].lower() or player[2] == 'la' : \n",
    "            if player[1] == 'de' and player[2]!= 'la':\n",
    "                player_fixed = [f'{player[0]} {player[1]} {player[2]}']\n",
    "                player_stats_fixed = player_fixed + player[4:-1]\n",
    "            else:\n",
    "                player_fixed = [f'{player[0]} {player[1]} {player[2]} {player[3]}']\n",
    "                player_stats_fixed = player_fixed + player[5:-1]\n",
    "            players_stats_list.append(player_stats_fixed)\n",
    "        elif player[2][0] == player[2][0].upper() and player[3][0] == player[3][0].upper() and len(player[3])>3 and ',' not in player[3]:\n",
    "            player_fixed = [f'{player[0]} {player[1]} {player[2]} {player[3]}']\n",
    "            player_stats_fixed = player_fixed + player[5:-1]\n",
    "            players_stats_list.append(player_stats_fixed)\n",
    "        elif player[2][0] == player[2][0].upper() and player[2]!=player[2].upper():\n",
    "            player_fixed = [f'{player[0]} {player[1]} {player[2]}']\n",
    "            player_stats_fixed = player_fixed + player[4:-1]\n",
    "            players_stats_list.append(player_stats_fixed)\n",
    "\n",
    "        elif player[1][0]==player[1][0].upper():\n",
    "            player_fixed = [f'{player[0]} {player[1]}']\n",
    "            player_stats_fixed = player_fixed + player[3:-1]\n",
    "            players_stats_list.append(player_stats_fixed)\n",
    "        elif player[0] == 'Total':\n",
    "            player_fixed = [f'{player[0]} {player[1]} {player[2]}']\n",
    "            player_stats_fixed = player_fixed + ['-','-'] + player[3:]\n",
    "            players_stats_list.append(player_stats_fixed)\n",
    "        else:\n",
    "            player.pop(1)\n",
    "            players_stats_list.append(player[:-1])\n",
    "\n",
    "    players_pd = pd.DataFrame(players_stats_list, columns=COL_NAMES)\n",
    "\n",
    "    players_pd['Edad'] = players_pd['Edad'].apply(lambda x:x if x==None else x.split('-')[0])\n",
    "\n",
    "    players_pd.to_csv(f'data/{t[0]}_stats.csv', index=False)\n",
    "   \n",
    "    d.quit()\n",
    "\n",
    "    return players_pd"
   ]
  },
  {
   "cell_type": "code",
   "execution_count": null,
   "metadata": {},
   "outputs": [],
   "source": [
    "start = datetime.now()\n",
    "user = UserAgent().random\n",
    "\n",
    "options = Options()\n",
    "options.add_argument('--headless')\n",
    "options.add_experimental_option('excludeSwitches', ['enable-automation'])\n",
    "options.add_experimental_option('useAutomationExtension', False)\n",
    "#options.add_argument('user-data-dir=/tmp/selenium_profile') \n",
    "#options.add_argument(f'user-agent={user}')\n",
    "\n",
    "driver=webdriver.Chrome('../chromedriver.exe', options=options)   \n",
    "\n",
    "driver.get('https://fbref.com/es/')\n",
    "\n",
    "try:\n",
    "    driver.find_element(By.CSS_SELECTOR, '#qc-cmp2-ui > div.qc-cmp2-footer.qc-cmp2-footer-overlay.qc-cmp2-footer-scrolled > div > button.css-47sehv').click()\n",
    "except:\n",
    "    pass\n",
    "\n",
    "team_links = get_teams_links(driver)\n",
    "\n",
    "\n",
    "errores = 0\n",
    "\n",
    "list_pd = Parallel(n_jobs=6, verbose=True)(delayed(all_process)(t) for t in team_links)\n",
    "\n",
    "driver.quit()\n",
    "\n",
    "end = datetime.now()\n",
    "\n",
    "print(f'Proceso finalizado en {end - start} con {errores} errores')"
   ]
  },
  {
   "cell_type": "code",
   "execution_count": null,
   "metadata": {},
   "outputs": [],
   "source": []
  }
 ],
 "metadata": {
  "kernelspec": {
   "display_name": "Python 3 (ipykernel)",
   "language": "python",
   "name": "python3"
  },
  "language_info": {
   "codemirror_mode": {
    "name": "ipython",
    "version": 3
   },
   "file_extension": ".py",
   "mimetype": "text/x-python",
   "name": "python",
   "nbconvert_exporter": "python",
   "pygments_lexer": "ipython3",
   "version": "3.9.7"
  }
 },
 "nbformat": 4,
 "nbformat_minor": 4
}
