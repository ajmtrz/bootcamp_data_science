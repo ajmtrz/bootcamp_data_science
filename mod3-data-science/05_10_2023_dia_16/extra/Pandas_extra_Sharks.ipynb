{
 "cells": [
  {
   "cell_type": "markdown",
   "id": "3b1d6a55-d51a-494c-ba08-5d97b4f6e3ab",
   "metadata": {},
   "source": [
    "### Ejercicio Limpieza (Sharks)"
   ]
  },
  {
   "cell_type": "markdown",
   "id": "9065f6df-38fd-4229-b113-2571682f792d",
   "metadata": {},
   "source": [
    "La idea principal de este ejercicio es practicar la limpieza de datos.\n",
    "\n",
    "Para ello debeis de bajaros el data set de la siguiente dirección:\n",
    "\n",
    "https://www.kaggle.com/datasets/teajay/global-shark-attacks\n",
    "\n",
    "El objetivo del ejercicio es:\n",
    "- No se pueden borrar columnas\n",
    "- Cada columna debe de contener un único tipo de dato y debe de tener relación con los datos que guarda esta\n",
    "- Se pueden borrar filas pero como mínimo deben de quedar 1500 filas\n",
    "- El dataset no puede contener valores nulos\n",
    "\n",
    "Extra:\n",
    "\n",
    "- Una vez limpiado el dataset tratar de extraer algunos insights del mismo, o datos que puedan resultar curiosos"
   ]
  },
  {
   "cell_type": "code",
   "execution_count": null,
   "id": "ba756a58-7ee5-4774-8eca-78e04f2e5d61",
   "metadata": {},
   "outputs": [],
   "source": []
  }
 ],
 "metadata": {
  "kernelspec": {
   "display_name": "Python 3 (ipykernel)",
   "language": "python",
   "name": "python3"
  },
  "language_info": {
   "codemirror_mode": {
    "name": "ipython",
    "version": 3
   },
   "file_extension": ".py",
   "mimetype": "text/x-python",
   "name": "python",
   "nbconvert_exporter": "python",
   "pygments_lexer": "ipython3",
   "version": "3.9.7"
  }
 },
 "nbformat": 4,
 "nbformat_minor": 5
}
