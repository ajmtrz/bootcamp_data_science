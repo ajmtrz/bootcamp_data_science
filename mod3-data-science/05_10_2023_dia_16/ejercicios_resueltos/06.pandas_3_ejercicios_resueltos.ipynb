{
 "cells": [
  {
   "cell_type": "markdown",
   "id": "34896072",
   "metadata": {},
   "source": [
    "## pandas 3 ejercicios"
   ]
  },
  {
   "cell_type": "code",
   "execution_count": 1,
   "id": "eeaec5cf",
   "metadata": {},
   "outputs": [],
   "source": [
    "import numpy as np\n",
    "import pandas as pd"
   ]
  },
  {
   "cell_type": "markdown",
   "id": "5367d1ea",
   "metadata": {},
   "source": [
    "### En la siguiente celda se guarda la información del excel"
   ]
  },
  {
   "cell_type": "code",
   "execution_count": 3,
   "id": "a8a448fc",
   "metadata": {},
   "outputs": [],
   "source": [
    "df1 = pd.read_excel(\"../data/Airbnb_NYC.xlsx\", sheet_name = \"NYC1\")\n",
    "df2 = pd.read_excel(\"../data/Airbnb_NYC.xlsx\", sheet_name = \"NYC2\")"
   ]
  },
  {
   "cell_type": "markdown",
   "id": "ca9c8998",
   "metadata": {},
   "source": [
    "### Ejercicio 0:\n",
    "- Une los dos DataFrames anteriores por la columna **`id`**. Guarda en nuevo DataFrame en **`df`**"
   ]
  },
  {
   "cell_type": "code",
   "execution_count": 4,
   "id": "53148f6a",
   "metadata": {},
   "outputs": [
    {
     "data": {
      "text/html": [
       "<div>\n",
       "<style scoped>\n",
       "    .dataframe tbody tr th:only-of-type {\n",
       "        vertical-align: middle;\n",
       "    }\n",
       "\n",
       "    .dataframe tbody tr th {\n",
       "        vertical-align: top;\n",
       "    }\n",
       "\n",
       "    .dataframe thead th {\n",
       "        text-align: right;\n",
       "    }\n",
       "</style>\n",
       "<table border=\"1\" class=\"dataframe\">\n",
       "  <thead>\n",
       "    <tr style=\"text-align: right;\">\n",
       "      <th></th>\n",
       "      <th>id</th>\n",
       "      <th>price</th>\n",
       "      <th>minimum_nights</th>\n",
       "      <th>number_of_reviews</th>\n",
       "      <th>last_review</th>\n",
       "      <th>reviews_per_month</th>\n",
       "      <th>calculated_host_listings_count</th>\n",
       "      <th>availability_365</th>\n",
       "      <th>name</th>\n",
       "      <th>host_id</th>\n",
       "      <th>host_name</th>\n",
       "      <th>municipio</th>\n",
       "      <th>barrio</th>\n",
       "      <th>latitude</th>\n",
       "      <th>longitude</th>\n",
       "      <th>room_type</th>\n",
       "    </tr>\n",
       "  </thead>\n",
       "  <tbody>\n",
       "    <tr>\n",
       "      <th>0</th>\n",
       "      <td>2539.0</td>\n",
       "      <td>149.0</td>\n",
       "      <td>1.0</td>\n",
       "      <td>9.0</td>\n",
       "      <td>2018-10-19</td>\n",
       "      <td>0.21</td>\n",
       "      <td>6.0</td>\n",
       "      <td>365.0</td>\n",
       "      <td>Clean &amp; quiet apt home by the park</td>\n",
       "      <td>2787</td>\n",
       "      <td>John</td>\n",
       "      <td>Brooklyn</td>\n",
       "      <td>Kensington</td>\n",
       "      <td>40.64749</td>\n",
       "      <td>-73.97237</td>\n",
       "      <td>Private room</td>\n",
       "    </tr>\n",
       "    <tr>\n",
       "      <th>1</th>\n",
       "      <td>2595.0</td>\n",
       "      <td>225.0</td>\n",
       "      <td>1.0</td>\n",
       "      <td>45.0</td>\n",
       "      <td>2019-05-21</td>\n",
       "      <td>0.38</td>\n",
       "      <td>2.0</td>\n",
       "      <td>355.0</td>\n",
       "      <td>Skylit Midtown Castle</td>\n",
       "      <td>2845</td>\n",
       "      <td>Jennifer</td>\n",
       "      <td>Manhattan</td>\n",
       "      <td>Midtown</td>\n",
       "      <td>40.75362</td>\n",
       "      <td>-73.98377</td>\n",
       "      <td>Entire home/apt</td>\n",
       "    </tr>\n",
       "    <tr>\n",
       "      <th>2</th>\n",
       "      <td>3647.0</td>\n",
       "      <td>150.0</td>\n",
       "      <td>3.0</td>\n",
       "      <td>0.0</td>\n",
       "      <td>NaT</td>\n",
       "      <td>NaN</td>\n",
       "      <td>1.0</td>\n",
       "      <td>365.0</td>\n",
       "      <td>THE VILLAGE OF HARLEM....NEW YORK !</td>\n",
       "      <td>4632</td>\n",
       "      <td>Elisabeth</td>\n",
       "      <td>Manhattan</td>\n",
       "      <td>Harlem</td>\n",
       "      <td>40.80902</td>\n",
       "      <td>-73.94190</td>\n",
       "      <td>Private room</td>\n",
       "    </tr>\n",
       "    <tr>\n",
       "      <th>3</th>\n",
       "      <td>3831.0</td>\n",
       "      <td>89.0</td>\n",
       "      <td>1.0</td>\n",
       "      <td>270.0</td>\n",
       "      <td>2019-07-05</td>\n",
       "      <td>4.64</td>\n",
       "      <td>1.0</td>\n",
       "      <td>194.0</td>\n",
       "      <td>Cozy Entire Floor of Brownstone</td>\n",
       "      <td>4869</td>\n",
       "      <td>LisaRoxanne</td>\n",
       "      <td>Brooklyn</td>\n",
       "      <td>Clinton Hill</td>\n",
       "      <td>40.68514</td>\n",
       "      <td>-73.95976</td>\n",
       "      <td>Entire home/apt</td>\n",
       "    </tr>\n",
       "    <tr>\n",
       "      <th>4</th>\n",
       "      <td>5022.0</td>\n",
       "      <td>80.0</td>\n",
       "      <td>10.0</td>\n",
       "      <td>9.0</td>\n",
       "      <td>2018-11-19</td>\n",
       "      <td>0.10</td>\n",
       "      <td>1.0</td>\n",
       "      <td>0.0</td>\n",
       "      <td>Entire Apt: Spacious Studio/Loft by central park</td>\n",
       "      <td>7192</td>\n",
       "      <td>Laura</td>\n",
       "      <td>Manhattan</td>\n",
       "      <td>East Harlem</td>\n",
       "      <td>40.79851</td>\n",
       "      <td>-73.94399</td>\n",
       "      <td>Entire home/apt</td>\n",
       "    </tr>\n",
       "  </tbody>\n",
       "</table>\n",
       "</div>"
      ],
      "text/plain": [
       "       id  price  minimum_nights  number_of_reviews last_review  \\\n",
       "0  2539.0  149.0             1.0                9.0  2018-10-19   \n",
       "1  2595.0  225.0             1.0               45.0  2019-05-21   \n",
       "2  3647.0  150.0             3.0                0.0         NaT   \n",
       "3  3831.0   89.0             1.0              270.0  2019-07-05   \n",
       "4  5022.0   80.0            10.0                9.0  2018-11-19   \n",
       "\n",
       "   reviews_per_month  calculated_host_listings_count  availability_365  \\\n",
       "0               0.21                             6.0             365.0   \n",
       "1               0.38                             2.0             355.0   \n",
       "2                NaN                             1.0             365.0   \n",
       "3               4.64                             1.0             194.0   \n",
       "4               0.10                             1.0               0.0   \n",
       "\n",
       "                                               name  host_id    host_name  \\\n",
       "0                Clean & quiet apt home by the park     2787         John   \n",
       "1                             Skylit Midtown Castle     2845     Jennifer   \n",
       "2               THE VILLAGE OF HARLEM....NEW YORK !     4632    Elisabeth   \n",
       "3                   Cozy Entire Floor of Brownstone     4869  LisaRoxanne   \n",
       "4  Entire Apt: Spacious Studio/Loft by central park     7192        Laura   \n",
       "\n",
       "   municipio        barrio  latitude  longitude        room_type  \n",
       "0   Brooklyn    Kensington  40.64749  -73.97237     Private room  \n",
       "1  Manhattan       Midtown  40.75362  -73.98377  Entire home/apt  \n",
       "2  Manhattan        Harlem  40.80902  -73.94190     Private room  \n",
       "3   Brooklyn  Clinton Hill  40.68514  -73.95976  Entire home/apt  \n",
       "4  Manhattan   East Harlem  40.79851  -73.94399  Entire home/apt  "
      ]
     },
     "execution_count": 4,
     "metadata": {},
     "output_type": "execute_result"
    }
   ],
   "source": [
    "df = pd.merge(right = df1, left = df2, on = \"id\")\n",
    "\n",
    "df.head()"
   ]
  },
  {
   "cell_type": "code",
   "execution_count": 5,
   "id": "92241b90",
   "metadata": {},
   "outputs": [
    {
     "name": "stdout",
     "output_type": "stream",
     "text": [
      "<class 'pandas.core.frame.DataFrame'>\n",
      "Int64Index: 48895 entries, 0 to 48894\n",
      "Data columns (total 16 columns):\n",
      " #   Column                          Non-Null Count  Dtype         \n",
      "---  ------                          --------------  -----         \n",
      " 0   id                              48895 non-null  float64       \n",
      " 1   price                           48895 non-null  float64       \n",
      " 2   minimum_nights                  48895 non-null  float64       \n",
      " 3   number_of_reviews               48895 non-null  float64       \n",
      " 4   last_review                     38843 non-null  datetime64[ns]\n",
      " 5   reviews_per_month               38843 non-null  float64       \n",
      " 6   calculated_host_listings_count  48895 non-null  float64       \n",
      " 7   availability_365                48895 non-null  float64       \n",
      " 8   name                            48870 non-null  object        \n",
      " 9   host_id                         48895 non-null  int64         \n",
      " 10  host_name                       48873 non-null  object        \n",
      " 11  municipio                       48895 non-null  object        \n",
      " 12  barrio                          48895 non-null  object        \n",
      " 13  latitude                        48895 non-null  float64       \n",
      " 14  longitude                       48895 non-null  float64       \n",
      " 15  room_type                       48895 non-null  object        \n",
      "dtypes: datetime64[ns](1), float64(9), int64(1), object(5)\n",
      "memory usage: 6.3+ MB\n"
     ]
    }
   ],
   "source": [
    "df.info()"
   ]
  },
  {
   "cell_type": "code",
   "execution_count": 6,
   "id": "1ab706bb",
   "metadata": {},
   "outputs": [
    {
     "data": {
      "text/plain": [
       "(48895, 16)"
      ]
     },
     "execution_count": 6,
     "metadata": {},
     "output_type": "execute_result"
    }
   ],
   "source": [
    "df.shape"
   ]
  },
  {
   "cell_type": "markdown",
   "id": "4f2aacac",
   "metadata": {},
   "source": [
    "### Ejercicio 1:\n",
    "- Si quiero hospedarme en Manhattan una sola noche y para elegir el Airbnb me guio por el que tenga el mayor número de reviews, ¿donde me debería de hospedar?"
   ]
  },
  {
   "cell_type": "code",
   "execution_count": 7,
   "id": "aed12f9c",
   "metadata": {},
   "outputs": [
    {
     "data": {
      "text/html": [
       "<div>\n",
       "<style scoped>\n",
       "    .dataframe tbody tr th:only-of-type {\n",
       "        vertical-align: middle;\n",
       "    }\n",
       "\n",
       "    .dataframe tbody tr th {\n",
       "        vertical-align: top;\n",
       "    }\n",
       "\n",
       "    .dataframe thead th {\n",
       "        text-align: right;\n",
       "    }\n",
       "</style>\n",
       "<table border=\"1\" class=\"dataframe\">\n",
       "  <thead>\n",
       "    <tr style=\"text-align: right;\">\n",
       "      <th></th>\n",
       "      <th>id</th>\n",
       "      <th>price</th>\n",
       "      <th>minimum_nights</th>\n",
       "      <th>number_of_reviews</th>\n",
       "      <th>last_review</th>\n",
       "      <th>reviews_per_month</th>\n",
       "      <th>calculated_host_listings_count</th>\n",
       "      <th>availability_365</th>\n",
       "      <th>name</th>\n",
       "      <th>host_id</th>\n",
       "      <th>host_name</th>\n",
       "      <th>municipio</th>\n",
       "      <th>barrio</th>\n",
       "      <th>latitude</th>\n",
       "      <th>longitude</th>\n",
       "      <th>room_type</th>\n",
       "    </tr>\n",
       "  </thead>\n",
       "  <tbody>\n",
       "    <tr>\n",
       "      <th>2031</th>\n",
       "      <td>903972.0</td>\n",
       "      <td>49.0</td>\n",
       "      <td>1.0</td>\n",
       "      <td>607.0</td>\n",
       "      <td>2019-06-21</td>\n",
       "      <td>7.75</td>\n",
       "      <td>3.0</td>\n",
       "      <td>293.0</td>\n",
       "      <td>Great Bedroom in Manhattan</td>\n",
       "      <td>4734398</td>\n",
       "      <td>Jj</td>\n",
       "      <td>Manhattan</td>\n",
       "      <td>Harlem</td>\n",
       "      <td>40.82085</td>\n",
       "      <td>-73.94025</td>\n",
       "      <td>Private room</td>\n",
       "    </tr>\n",
       "    <tr>\n",
       "      <th>2030</th>\n",
       "      <td>903947.0</td>\n",
       "      <td>49.0</td>\n",
       "      <td>1.0</td>\n",
       "      <td>597.0</td>\n",
       "      <td>2019-06-23</td>\n",
       "      <td>7.72</td>\n",
       "      <td>3.0</td>\n",
       "      <td>342.0</td>\n",
       "      <td>Beautiful Bedroom in Manhattan</td>\n",
       "      <td>4734398</td>\n",
       "      <td>Jj</td>\n",
       "      <td>Manhattan</td>\n",
       "      <td>Harlem</td>\n",
       "      <td>40.82124</td>\n",
       "      <td>-73.93838</td>\n",
       "      <td>Private room</td>\n",
       "    </tr>\n",
       "    <tr>\n",
       "      <th>2015</th>\n",
       "      <td>891117.0</td>\n",
       "      <td>49.0</td>\n",
       "      <td>1.0</td>\n",
       "      <td>594.0</td>\n",
       "      <td>2019-06-15</td>\n",
       "      <td>7.57</td>\n",
       "      <td>3.0</td>\n",
       "      <td>339.0</td>\n",
       "      <td>Private Bedroom in Manhattan</td>\n",
       "      <td>4734398</td>\n",
       "      <td>Jj</td>\n",
       "      <td>Manhattan</td>\n",
       "      <td>Harlem</td>\n",
       "      <td>40.82264</td>\n",
       "      <td>-73.94041</td>\n",
       "      <td>Private room</td>\n",
       "    </tr>\n",
       "  </tbody>\n",
       "</table>\n",
       "</div>"
      ],
      "text/plain": [
       "            id  price  minimum_nights  number_of_reviews last_review  \\\n",
       "2031  903972.0   49.0             1.0              607.0  2019-06-21   \n",
       "2030  903947.0   49.0             1.0              597.0  2019-06-23   \n",
       "2015  891117.0   49.0             1.0              594.0  2019-06-15   \n",
       "\n",
       "      reviews_per_month  calculated_host_listings_count  availability_365  \\\n",
       "2031               7.75                             3.0             293.0   \n",
       "2030               7.72                             3.0             342.0   \n",
       "2015               7.57                             3.0             339.0   \n",
       "\n",
       "                                name  host_id host_name  municipio  barrio  \\\n",
       "2031      Great Bedroom in Manhattan  4734398        Jj  Manhattan  Harlem   \n",
       "2030  Beautiful Bedroom in Manhattan  4734398        Jj  Manhattan  Harlem   \n",
       "2015    Private Bedroom in Manhattan  4734398        Jj  Manhattan  Harlem   \n",
       "\n",
       "      latitude  longitude     room_type  \n",
       "2031  40.82085  -73.94025  Private room  \n",
       "2030  40.82124  -73.93838  Private room  \n",
       "2015  40.82264  -73.94041  Private room  "
      ]
     },
     "execution_count": 7,
     "metadata": {},
     "output_type": "execute_result"
    }
   ],
   "source": [
    "df[(df[\"municipio\"] == \"Manhattan\") & (df[\"minimum_nights\"] >= 1)].sort_values(\"number_of_reviews\", ascending = False).head(3)"
   ]
  },
  {
   "cell_type": "code",
   "execution_count": null,
   "id": "d3453aa8",
   "metadata": {},
   "outputs": [],
   "source": []
  },
  {
   "cell_type": "code",
   "execution_count": null,
   "id": "3caf2cfd",
   "metadata": {},
   "outputs": [],
   "source": []
  },
  {
   "cell_type": "markdown",
   "id": "767a7cb7",
   "metadata": {},
   "source": [
    "### Ejercicio 2:\n",
    "- Busco un Airbnb en el municipio donde el precio promedio de alquiler sea el más bajo y la cantidad de review por mes sea el mayor. ¿Cuáles son las 3 habitaciones que mejor se adaptan a estos criterios?"
   ]
  },
  {
   "cell_type": "code",
   "execution_count": 10,
   "id": "e634646d",
   "metadata": {},
   "outputs": [],
   "source": [
    "municipio = df.groupby(\"municipio\")[[\"price\", \"reviews_per_month\"]].mean().sort_values(\"price\").index[0] #Bronx"
   ]
  },
  {
   "cell_type": "code",
   "execution_count": 11,
   "id": "fa0cb783-351d-43fb-96d2-57607b6b342f",
   "metadata": {},
   "outputs": [
    {
     "data": {
      "text/plain": [
       "'Bronx'"
      ]
     },
     "execution_count": 11,
     "metadata": {},
     "output_type": "execute_result"
    }
   ],
   "source": [
    "municipio"
   ]
  },
  {
   "cell_type": "code",
   "execution_count": 12,
   "id": "3e8bc366",
   "metadata": {},
   "outputs": [
    {
     "data": {
      "text/html": [
       "<div>\n",
       "<style scoped>\n",
       "    .dataframe tbody tr th:only-of-type {\n",
       "        vertical-align: middle;\n",
       "    }\n",
       "\n",
       "    .dataframe tbody tr th {\n",
       "        vertical-align: top;\n",
       "    }\n",
       "\n",
       "    .dataframe thead th {\n",
       "        text-align: right;\n",
       "    }\n",
       "</style>\n",
       "<table border=\"1\" class=\"dataframe\">\n",
       "  <thead>\n",
       "    <tr style=\"text-align: right;\">\n",
       "      <th></th>\n",
       "      <th>id</th>\n",
       "      <th>price</th>\n",
       "      <th>minimum_nights</th>\n",
       "      <th>number_of_reviews</th>\n",
       "      <th>last_review</th>\n",
       "      <th>reviews_per_month</th>\n",
       "      <th>calculated_host_listings_count</th>\n",
       "      <th>availability_365</th>\n",
       "      <th>name</th>\n",
       "      <th>host_id</th>\n",
       "      <th>host_name</th>\n",
       "      <th>municipio</th>\n",
       "      <th>barrio</th>\n",
       "      <th>latitude</th>\n",
       "      <th>longitude</th>\n",
       "      <th>room_type</th>\n",
       "    </tr>\n",
       "  </thead>\n",
       "  <tbody>\n",
       "    <tr>\n",
       "      <th>23371</th>\n",
       "      <td>18914730.0</td>\n",
       "      <td>95.0</td>\n",
       "      <td>1.0</td>\n",
       "      <td>266.0</td>\n",
       "      <td>2019-06-28</td>\n",
       "      <td>10.34</td>\n",
       "      <td>1.0</td>\n",
       "      <td>345.0</td>\n",
       "      <td>IDEALLY LOCATED COZY COTTAGE</td>\n",
       "      <td>1776707</td>\n",
       "      <td>Luis</td>\n",
       "      <td>Bronx</td>\n",
       "      <td>Throgs Neck</td>\n",
       "      <td>40.83051</td>\n",
       "      <td>-73.82511</td>\n",
       "      <td>Entire home/apt</td>\n",
       "    </tr>\n",
       "    <tr>\n",
       "      <th>41945</th>\n",
       "      <td>32595490.0</td>\n",
       "      <td>95.0</td>\n",
       "      <td>2.0</td>\n",
       "      <td>27.0</td>\n",
       "      <td>2019-07-05</td>\n",
       "      <td>8.62</td>\n",
       "      <td>1.0</td>\n",
       "      <td>153.0</td>\n",
       "      <td>Peaceful 2 Bedroom apartment in a private house</td>\n",
       "      <td>245003299</td>\n",
       "      <td>Yoselyn</td>\n",
       "      <td>Bronx</td>\n",
       "      <td>Clason Point</td>\n",
       "      <td>40.80924</td>\n",
       "      <td>-73.85107</td>\n",
       "      <td>Entire home/apt</td>\n",
       "    </tr>\n",
       "    <tr>\n",
       "      <th>42252</th>\n",
       "      <td>32801214.0</td>\n",
       "      <td>150.0</td>\n",
       "      <td>1.0</td>\n",
       "      <td>24.0</td>\n",
       "      <td>2019-06-20</td>\n",
       "      <td>8.37</td>\n",
       "      <td>5.0</td>\n",
       "      <td>247.0</td>\n",
       "      <td>TW #6 Private Suite 2nd Fl.  1 to 4 Guests</td>\n",
       "      <td>211136294</td>\n",
       "      <td>Sharon &amp; Erika</td>\n",
       "      <td>Bronx</td>\n",
       "      <td>Schuylerville</td>\n",
       "      <td>40.83560</td>\n",
       "      <td>-73.83369</td>\n",
       "      <td>Private room</td>\n",
       "    </tr>\n",
       "  </tbody>\n",
       "</table>\n",
       "</div>"
      ],
      "text/plain": [
       "               id  price  minimum_nights  number_of_reviews last_review  \\\n",
       "23371  18914730.0   95.0             1.0              266.0  2019-06-28   \n",
       "41945  32595490.0   95.0             2.0               27.0  2019-07-05   \n",
       "42252  32801214.0  150.0             1.0               24.0  2019-06-20   \n",
       "\n",
       "       reviews_per_month  calculated_host_listings_count  availability_365  \\\n",
       "23371              10.34                             1.0             345.0   \n",
       "41945               8.62                             1.0             153.0   \n",
       "42252               8.37                             5.0             247.0   \n",
       "\n",
       "                                                  name    host_id  \\\n",
       "23371                     IDEALLY LOCATED COZY COTTAGE    1776707   \n",
       "41945  Peaceful 2 Bedroom apartment in a private house  245003299   \n",
       "42252       TW #6 Private Suite 2nd Fl.  1 to 4 Guests  211136294   \n",
       "\n",
       "            host_name municipio         barrio  latitude  longitude  \\\n",
       "23371            Luis     Bronx    Throgs Neck  40.83051  -73.82511   \n",
       "41945         Yoselyn     Bronx   Clason Point  40.80924  -73.85107   \n",
       "42252  Sharon & Erika     Bronx  Schuylerville  40.83560  -73.83369   \n",
       "\n",
       "             room_type  \n",
       "23371  Entire home/apt  \n",
       "41945  Entire home/apt  \n",
       "42252     Private room  "
      ]
     },
     "execution_count": 12,
     "metadata": {},
     "output_type": "execute_result"
    }
   ],
   "source": [
    "df[df[\"municipio\"] == municipio].sort_values(\"reviews_per_month\", ascending = False).head(3)"
   ]
  },
  {
   "cell_type": "code",
   "execution_count": null,
   "id": "6d846126",
   "metadata": {},
   "outputs": [],
   "source": []
  },
  {
   "cell_type": "markdown",
   "id": "6510ba83",
   "metadata": {},
   "source": [
    "### Ejercicio 3:\n",
    "- Quiero rentar un Airbnb completo por un total de 200 días, en Brooklyn o Manhattan; no quiero pagar más de 150 dólares por noche, ¿Cuáles son las 5 opciones más economicas que me ofrece Airbnb?"
   ]
  },
  {
   "cell_type": "code",
   "execution_count": null,
   "id": "7de3a7ef",
   "metadata": {},
   "outputs": [],
   "source": [
    "df[(df[\"municipio\"].isin([\"Brooklyn\", \"Manhattan\"])) & (df[\"price\"] <= 150) & (df[\"availability_365\"] >= 200)].sort_values(\"price\").head()"
   ]
  },
  {
   "cell_type": "code",
   "execution_count": null,
   "id": "f375b15a",
   "metadata": {},
   "outputs": [],
   "source": []
  },
  {
   "cell_type": "code",
   "execution_count": null,
   "id": "16bd2747",
   "metadata": {},
   "outputs": [],
   "source": []
  },
  {
   "cell_type": "markdown",
   "id": "117b08e1",
   "metadata": {},
   "source": [
    "### Ejercicio 4:\n",
    "- En un nuevo Dataframe muestra por municipio: el número de habitaciones tipo individual, casa o departamento entero y compartido; también muestra en otra columna el precio promedio de todas las habitaciones por municipio."
   ]
  },
  {
   "cell_type": "code",
   "execution_count": null,
   "id": "1bb5d69c",
   "metadata": {},
   "outputs": [],
   "source": [
    "df.groupby([\"municipio\", \"room_type\"]).agg({\"id\"    : [\"count\"],\n",
    "                                            \"price\" : [\"mean\"]})"
   ]
  },
  {
   "cell_type": "code",
   "execution_count": null,
   "id": "b8682527",
   "metadata": {},
   "outputs": [],
   "source": []
  },
  {
   "cell_type": "code",
   "execution_count": null,
   "id": "41427c74",
   "metadata": {},
   "outputs": [],
   "source": []
  },
  {
   "cell_type": "markdown",
   "id": "50edbbc5",
   "metadata": {},
   "source": [
    "### Ejercicio 5:\n",
    "- Crea una nueva columna en el DataFrame original, con el rating de acuerdo a la siguiente formula, donde las variables son: puntaje del municipio, número de reviews y disponibilidad de la habitación al año.\n",
    "\n",
    "- Formula: Rating = (Puntaje de ciudad) + (número de review/ 629) + (disponibilidad / 365).\n",
    "\n",
    "- El puntaje para cada ciudad es el siguiente {\"Manhattan\" : 10/10, \"Brooklyn\" : 8/10, \"Queens\" : 6/10, \"Staten Island\" : 4/10, \"Bronx\" : 2/10}."
   ]
  },
  {
   "cell_type": "code",
   "execution_count": null,
   "id": "4bcf70f7",
   "metadata": {},
   "outputs": [],
   "source": [
    "def rating(ciudad, review, disp):\n",
    "    \n",
    "    if ciudad == \"Manhattan\":\n",
    "        return 10/10 + review/629 + disp/365\n",
    "    \n",
    "    elif ciudad == \"Brooklyn\":\n",
    "        return 8/10 + review/629 + disp/365\n",
    "    \n",
    "    elif ciudad == \"Queens\":\n",
    "        return 6/10 + review/629 + disp/365\n",
    "    \n",
    "    elif ciudad == \"State Island\":\n",
    "        return 4/10 + review/629 + disp/365\n",
    "    \n",
    "    else:\n",
    "        return 2/10 + review/629 + disp/365"
   ]
  },
  {
   "cell_type": "code",
   "execution_count": null,
   "id": "cf50155c",
   "metadata": {},
   "outputs": [],
   "source": [
    "df[\"rating\"] = df.apply(lambda x: rating(x[\"municipio\"], x[\"number_of_reviews\"], x[\"availability_365\"]), axis = 1)"
   ]
  },
  {
   "cell_type": "code",
   "execution_count": null,
   "id": "7d668b96",
   "metadata": {},
   "outputs": [],
   "source": []
  },
  {
   "cell_type": "markdown",
   "id": "4e085620",
   "metadata": {},
   "source": [
    "### Ejercicio 6:\n",
    "- Encuentra las 5 habitaciones de cada municipio con mayor rating."
   ]
  },
  {
   "cell_type": "code",
   "execution_count": null,
   "id": "ae136723",
   "metadata": {
    "scrolled": true
   },
   "outputs": [],
   "source": [
    "df.sort_values([\"municipio\", \"rating\"], ascending = False).groupby(\"municipio\").head(5)"
   ]
  },
  {
   "cell_type": "code",
   "execution_count": null,
   "id": "988d40af",
   "metadata": {},
   "outputs": [],
   "source": []
  },
  {
   "cell_type": "code",
   "execution_count": null,
   "id": "e723149a",
   "metadata": {},
   "outputs": [],
   "source": []
  },
  {
   "cell_type": "markdown",
   "id": "2f8030c7",
   "metadata": {},
   "source": [
    "### Ejercicio 7:\n",
    "- Crea un DataFrame con la cantidad de reviews de cada municipio de acuerdo a tipo de habitación."
   ]
  },
  {
   "cell_type": "code",
   "execution_count": null,
   "id": "2f2458b5",
   "metadata": {},
   "outputs": [],
   "source": [
    "df.groupby(by = [\"municipio\", \"room_type\"]).agg({\"number_of_reviews\" : [np.mean]})"
   ]
  },
  {
   "cell_type": "code",
   "execution_count": null,
   "id": "3afa50d8",
   "metadata": {},
   "outputs": [],
   "source": []
  },
  {
   "cell_type": "code",
   "execution_count": null,
   "id": "a4a3a1d4",
   "metadata": {},
   "outputs": [],
   "source": []
  },
  {
   "cell_type": "markdown",
   "id": "c7690384",
   "metadata": {},
   "source": [
    "### Ejercicio 8:\n",
    "- Encuentra los 10 barrios con mayor precio por habitación individual."
   ]
  },
  {
   "cell_type": "code",
   "execution_count": null,
   "id": "dee4e94a",
   "metadata": {},
   "outputs": [],
   "source": [
    "df[df[\"room_type\"] == \"Private room\"][[\"barrio\", \"price\"]].sort_values(\"price\", ascending = False).head(10)"
   ]
  },
  {
   "cell_type": "code",
   "execution_count": null,
   "id": "65befc9f",
   "metadata": {},
   "outputs": [],
   "source": []
  },
  {
   "cell_type": "code",
   "execution_count": null,
   "id": "150328df",
   "metadata": {},
   "outputs": [],
   "source": []
  },
  {
   "cell_type": "markdown",
   "id": "4b957948",
   "metadata": {},
   "source": [
    "### Ejercicio 9:\n",
    "- Encuentra el barrio con mejor rating de cada municipio."
   ]
  },
  {
   "cell_type": "code",
   "execution_count": null,
   "id": "6ab51d2e",
   "metadata": {},
   "outputs": [],
   "source": [
    "#df[df[\"room_type\"] == \"Entire home/apt\"][[\"barrio\", \"price\", \"municipio\", \"rating\"]].sort_values(\"price\").groupby(\"municipio\").aggregate({\"rating\" : \"max\"})\n",
    "\n",
    "\n",
    "df[df[\"room_type\"] == \"Entire home/apt\"][[\"barrio\", \"price\", \"municipio\", \"rating\"]].sort_values(\"rating\", ascending = False).groupby(\"municipio\").head(1)\n",
    "\n"
   ]
  },
  {
   "cell_type": "code",
   "execution_count": null,
   "id": "adaa2215",
   "metadata": {},
   "outputs": [],
   "source": []
  },
  {
   "cell_type": "code",
   "execution_count": null,
   "id": "7a06680e",
   "metadata": {},
   "outputs": [],
   "source": []
  },
  {
   "cell_type": "markdown",
   "id": "88c089bc",
   "metadata": {},
   "source": [
    "### Ejercicio 10:\n",
    "- Del resultado anterio, selecciona los 2 barrios con el menor precio por \"dep/casa completo\"."
   ]
  },
  {
   "cell_type": "code",
   "execution_count": null,
   "id": "f5e0b670",
   "metadata": {},
   "outputs": [],
   "source": [
    "df[df[\"room_type\"] == \"Entire home/apt\"][[\"barrio\", \"price\", \"municipio\", \"rating\"]].sort_values(\"price\", ascending = True).groupby(\"municipio\").head(2)"
   ]
  },
  {
   "cell_type": "code",
   "execution_count": null,
   "id": "87763a6f",
   "metadata": {},
   "outputs": [],
   "source": []
  },
  {
   "cell_type": "code",
   "execution_count": null,
   "id": "04cee905",
   "metadata": {},
   "outputs": [],
   "source": []
  }
 ],
 "metadata": {
  "kernelspec": {
   "display_name": "Python 3 (ipykernel)",
   "language": "python",
   "name": "python3"
  },
  "language_info": {
   "codemirror_mode": {
    "name": "ipython",
    "version": 3
   },
   "file_extension": ".py",
   "mimetype": "text/x-python",
   "name": "python",
   "nbconvert_exporter": "python",
   "pygments_lexer": "ipython3",
   "version": "3.9.7"
  }
 },
 "nbformat": 4,
 "nbformat_minor": 5
}
