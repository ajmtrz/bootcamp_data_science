{
 "cells": [
  {
   "cell_type": "markdown",
   "id": "a1433395",
   "metadata": {},
   "source": [
    "### Ejercicios folium"
   ]
  },
  {
   "cell_type": "code",
   "execution_count": 1,
   "id": "b8f9c15d",
   "metadata": {},
   "outputs": [],
   "source": [
    "import numpy as np\n",
    "import pandas as pd\n",
    "\n",
    "import folium"
   ]
  },
  {
   "cell_type": "markdown",
   "id": "36b28491",
   "metadata": {},
   "source": [
    "### Ejercicio 1:\n",
    "\n",
    "Usando un mapa de **`folium`** representa alguna información de tu interés, esta información debe tener los datos de ubicación (latitud y longitud) para poder ser representados en el map, algunos ejemplos pueden ser:\n",
    "\n",
    "- La ubicación de museos en Madrid.\n",
    "- Lugar de eventos culturales de tu ciudad.\n",
    "- Lista de restaurantes más famosos de España.\n",
    "- Capital de los paises de Europa.\n",
    "- La ubicación de los estadios donde se jugarán los partidos del Mundial Qatar 2022."
   ]
  },
  {
   "cell_type": "code",
   "execution_count": null,
   "id": "58a62b63",
   "metadata": {},
   "outputs": [],
   "source": [
    "texto = []\n",
    "for link in list:\n",
    "    resp = request.get(link).text\n",
    "    soup = BeautifulSoup(res, 'html.pharser')\n",
    "    lista_de_camps = soup.find_all('a', class_= 'lo_que_sea')\n",
    "    for c in lista_de_camps:\n",
    "        texto.append(c.text)"
   ]
  },
  {
   "cell_type": "code",
   "execution_count": null,
   "id": "85e6d4d5",
   "metadata": {},
   "outputs": [],
   "source": []
  },
  {
   "cell_type": "code",
   "execution_count": null,
   "id": "1acd6acb",
   "metadata": {},
   "outputs": [],
   "source": []
  },
  {
   "cell_type": "markdown",
   "id": "17781700",
   "metadata": {},
   "source": [
    "### Ejercicio 2:\n",
    "\n",
    "Usando un mapa **`Choropleth`** representa alguna información de tu interés, algunos ejemplos pueden ser:\n",
    "\n",
    "- PIB de cada país\n",
    "- Media de salarios de las provincias de España.\n",
    "- Total de medallas olímpicas por pais.\n",
    "- Tasa de empleo/desempleo.\n",
    "- Densidad de Población.\n",
    "\n",
    "Recuerda buscar un archivo **`GeoJSON`** que se adapte a la información que quieres mostrar."
   ]
  },
  {
   "cell_type": "code",
   "execution_count": null,
   "id": "084734b3",
   "metadata": {},
   "outputs": [],
   "source": []
  },
  {
   "cell_type": "code",
   "execution_count": null,
   "id": "f70d9c57",
   "metadata": {},
   "outputs": [],
   "source": []
  },
  {
   "cell_type": "code",
   "execution_count": null,
   "id": "7c0fc82c",
   "metadata": {},
   "outputs": [],
   "source": []
  }
 ],
 "metadata": {
  "kernelspec": {
   "display_name": "Python 3 (ipykernel)",
   "language": "python",
   "name": "python3"
  },
  "language_info": {
   "codemirror_mode": {
    "name": "ipython",
    "version": 3
   },
   "file_extension": ".py",
   "mimetype": "text/x-python",
   "name": "python",
   "nbconvert_exporter": "python",
   "pygments_lexer": "ipython3",
   "version": "3.9.7"
  }
 },
 "nbformat": 4,
 "nbformat_minor": 5
}
